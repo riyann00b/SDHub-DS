{
 "cells": [
  {
   "cell_type": "code",
   "execution_count": 21,
   "id": "ab467470-508e-4db0-8e66-d77f7b10d522",
   "metadata": {},
   "outputs": [],
   "source": [
    "import pandas as pd\n",
    "import numpy as np\n",
    "import seaborn as sns\n",
    "import matplotlib.pyplot as plt"
   ]
  },
  {
   "cell_type": "code",
   "execution_count": 81,
   "id": "dc1a3000-fbd4-4215-bb84-dfe429379eaa",
   "metadata": {},
   "outputs": [],
   "source": [
    "df = pd.read_csv(\"Dataset/uncleaned_dataset.csv\")\n",
    "\n",
    "# It's good practice to work on a copy\n",
    "df_cleaned = df.copy()"
   ]
  },
  {
   "cell_type": "markdown",
   "id": "225e2ba5-9dd9-4f17-aecc-42320971eacb",
   "metadata": {},
   "source": [
    "# Python Programming\n",
    "\n",
    "**Python Basics**\n",
    "\n",
    "### Functions Creation\n",
    "\n",
    "```python\n",
    "a = 5\n",
    "```\n",
    "\n",
    "**a** is the identifier\n",
    "\n",
    "**=** is the operator \n",
    "\n",
    "**5** is the datatype\n",
    "\n",
    "### Comprehension\n",
    "\n",
    "**[operation for i in collection ]**\n",
    "\n",
    "### Functions\n",
    "\n",
    "1. lambda\n",
    "2. user defined\n",
    "3. map()\n",
    "4. apply\n",
    "\n",
    "\n",
    "### **EDA Using Python**\n",
    "\n",
    "**important libraries**\n",
    "1. Pandas\n",
    "2. Numpy\n",
    "3. Matplotlib\n",
    "4. Seaborn\n",
    "\n",
    "### **Section 1: Read and Understand**\n",
    "1. pd.read_csv()\n",
    "2. info(), describe(), head(), tail(), type(), columns\n",
    "\n",
    "### **Section 2: Data Preprocessing**\n",
    "1. Fixing Rows and Columns\n",
    "   + drop()\n",
    "   + rename()\n",
    "   + astype()\n",
    "   + to_datetime()\n",
    "   + ETC\n",
    "\n",
    "2. Fix missing values:\n",
    "   + isnull()\n",
    "   + fillna()\n",
    "   + dropna()\n",
    "   + Imputation vs Interpolation\n",
    "\n",
    "3. Fixing Outlier\n",
    "   - filter/condition\n",
    "   - replace()\n",
    "\n",
    "### Section 3: Visualization\n",
    "1. matplotlib:\n",
    "   + plt.figure()\n",
    "   + plt.chart()\n",
    "   + plt.title()\n",
    "   + plt.xlable()\n",
    "   + plt.ylabel()\n",
    "   + plt.legend()\n",
    "   + plt.show()\n",
    "\n",
    "### section 4: Analysis\n",
    "1. df['Columns'] -> univariate(), describe(), Ass(),\n",
    "2. function: Aggregate(), Value_count()\n",
    "3. df[['2 colums']] -> Bi variate analysis\n",
    "4. Function: Groupby(), sortvalues(), reset_index(), crosstab(), set_index()\n",
    "### Section 5: Additional\n",
    "1. create dataframe\n",
    "2. Retrieval = 1. indexing, or slicing\n",
    "3. loc[] vs Iloc()\n",
    "4. shape, size, ndim\n",
    "\n",
    "column -> field -> dimension -> feation -> veriable -> \n",
    "\n",
    "### Feature Engineering:\n",
    "\n",
    "columns transformation/addition\n",
    "\n"
   ]
  },
  {
   "cell_type": "code",
   "execution_count": 23,
   "id": "768c5e2c-3064-4270-b2e0-a2f640677d11",
   "metadata": {},
   "outputs": [
    {
     "data": {
      "text/html": [
       "<div>\n",
       "<style scoped>\n",
       "    .dataframe tbody tr th:only-of-type {\n",
       "        vertical-align: middle;\n",
       "    }\n",
       "\n",
       "    .dataframe tbody tr th {\n",
       "        vertical-align: top;\n",
       "    }\n",
       "\n",
       "    .dataframe thead th {\n",
       "        text-align: right;\n",
       "    }\n",
       "</style>\n",
       "<table border=\"1\" class=\"dataframe\">\n",
       "  <thead>\n",
       "    <tr style=\"text-align: right;\">\n",
       "      <th></th>\n",
       "      <th>ID</th>\n",
       "      <th>Price</th>\n",
       "      <th>Quantity</th>\n",
       "    </tr>\n",
       "  </thead>\n",
       "  <tbody>\n",
       "    <tr>\n",
       "      <th>count</th>\n",
       "      <td>983.000000</td>\n",
       "      <td>952.000000</td>\n",
       "      <td>844.00000</td>\n",
       "    </tr>\n",
       "    <tr>\n",
       "      <th>mean</th>\n",
       "      <td>501.844354</td>\n",
       "      <td>250.473866</td>\n",
       "      <td>2.35782</td>\n",
       "    </tr>\n",
       "    <tr>\n",
       "      <th>std</th>\n",
       "      <td>289.093592</td>\n",
       "      <td>140.939305</td>\n",
       "      <td>1.96950</td>\n",
       "    </tr>\n",
       "    <tr>\n",
       "      <th>min</th>\n",
       "      <td>1.000000</td>\n",
       "      <td>10.090000</td>\n",
       "      <td>-1.00000</td>\n",
       "    </tr>\n",
       "    <tr>\n",
       "      <th>25%</th>\n",
       "      <td>250.500000</td>\n",
       "      <td>126.567500</td>\n",
       "      <td>1.00000</td>\n",
       "    </tr>\n",
       "    <tr>\n",
       "      <th>50%</th>\n",
       "      <td>503.000000</td>\n",
       "      <td>250.860000</td>\n",
       "      <td>3.00000</td>\n",
       "    </tr>\n",
       "    <tr>\n",
       "      <th>75%</th>\n",
       "      <td>752.500000</td>\n",
       "      <td>369.795000</td>\n",
       "      <td>4.00000</td>\n",
       "    </tr>\n",
       "    <tr>\n",
       "      <th>max</th>\n",
       "      <td>1000.000000</td>\n",
       "      <td>499.230000</td>\n",
       "      <td>5.00000</td>\n",
       "    </tr>\n",
       "  </tbody>\n",
       "</table>\n",
       "</div>"
      ],
      "text/plain": [
       "                ID       Price   Quantity\n",
       "count   983.000000  952.000000  844.00000\n",
       "mean    501.844354  250.473866    2.35782\n",
       "std     289.093592  140.939305    1.96950\n",
       "min       1.000000   10.090000   -1.00000\n",
       "25%     250.500000  126.567500    1.00000\n",
       "50%     503.000000  250.860000    3.00000\n",
       "75%     752.500000  369.795000    4.00000\n",
       "max    1000.000000  499.230000    5.00000"
      ]
     },
     "execution_count": 23,
     "metadata": {},
     "output_type": "execute_result"
    }
   ],
   "source": [
    "df.describe()"
   ]
  },
  {
   "cell_type": "code",
   "execution_count": 24,
   "id": "279d9f6b-83b9-4812-9c3c-5d34a824af09",
   "metadata": {},
   "outputs": [
    {
     "data": {
      "text/html": [
       "<div>\n",
       "<style scoped>\n",
       "    .dataframe tbody tr th:only-of-type {\n",
       "        vertical-align: middle;\n",
       "    }\n",
       "\n",
       "    .dataframe tbody tr th {\n",
       "        vertical-align: top;\n",
       "    }\n",
       "\n",
       "    .dataframe thead th {\n",
       "        text-align: right;\n",
       "    }\n",
       "</style>\n",
       "<table border=\"1\" class=\"dataframe\">\n",
       "  <thead>\n",
       "    <tr style=\"text-align: right;\">\n",
       "      <th></th>\n",
       "      <th>ID</th>\n",
       "      <th>Name</th>\n",
       "      <th>Age</th>\n",
       "      <th>City</th>\n",
       "      <th>Product</th>\n",
       "      <th>Price</th>\n",
       "      <th>Quantity</th>\n",
       "      <th>Purchase Date</th>\n",
       "      <th>Email</th>\n",
       "      <th>Feedback</th>\n",
       "    </tr>\n",
       "  </thead>\n",
       "  <tbody>\n",
       "    <tr>\n",
       "      <th>995</th>\n",
       "      <td>996.0</td>\n",
       "      <td>Hannah</td>\n",
       "      <td>NaN</td>\n",
       "      <td>Los Angeles</td>\n",
       "      <td>Tie</td>\n",
       "      <td>166.51</td>\n",
       "      <td>2.0</td>\n",
       "      <td>2020-03-21</td>\n",
       "      <td>user995@example.com</td>\n",
       "      <td>Excellent</td>\n",
       "    </tr>\n",
       "    <tr>\n",
       "      <th>996</th>\n",
       "      <td>997.0</td>\n",
       "      <td>NaN</td>\n",
       "      <td>NaN</td>\n",
       "      <td>Chicago</td>\n",
       "      <td>Socks</td>\n",
       "      <td>370.23</td>\n",
       "      <td>-1.0</td>\n",
       "      <td>2021-07-22</td>\n",
       "      <td>user996@example.com</td>\n",
       "      <td>Bad</td>\n",
       "    </tr>\n",
       "    <tr>\n",
       "      <th>997</th>\n",
       "      <td>998.0</td>\n",
       "      <td>NaN</td>\n",
       "      <td>20</td>\n",
       "      <td>New York</td>\n",
       "      <td>Shoes</td>\n",
       "      <td>346.86</td>\n",
       "      <td>5.0</td>\n",
       "      <td>2021-07-07</td>\n",
       "      <td>user997@example.com</td>\n",
       "      <td>NaN</td>\n",
       "    </tr>\n",
       "    <tr>\n",
       "      <th>998</th>\n",
       "      <td>999.0</td>\n",
       "      <td>Eve</td>\n",
       "      <td>21</td>\n",
       "      <td>Miami</td>\n",
       "      <td>Bag</td>\n",
       "      <td>401.77</td>\n",
       "      <td>4.0</td>\n",
       "      <td>2020-04-15</td>\n",
       "      <td>user998@example.com</td>\n",
       "      <td>NaN</td>\n",
       "    </tr>\n",
       "    <tr>\n",
       "      <th>999</th>\n",
       "      <td>1000.0</td>\n",
       "      <td>NaN</td>\n",
       "      <td>56</td>\n",
       "      <td></td>\n",
       "      <td>Tie</td>\n",
       "      <td>213.10</td>\n",
       "      <td>1.0</td>\n",
       "      <td>2021-05-24</td>\n",
       "      <td>user999@example.com</td>\n",
       "      <td>Average</td>\n",
       "    </tr>\n",
       "  </tbody>\n",
       "</table>\n",
       "</div>"
      ],
      "text/plain": [
       "         ID       Name  Age         City Product   Price  Quantity  \\\n",
       "995   996.0     Hannah  NaN  Los Angeles     Tie  166.51       2.0   \n",
       "996   997.0        NaN  NaN      Chicago   Socks  370.23      -1.0   \n",
       "997   998.0        NaN   20     New York   Shoes  346.86       5.0   \n",
       "998   999.0        Eve   21        Miami     Bag  401.77       4.0   \n",
       "999  1000.0        NaN   56                  Tie  213.10       1.0   \n",
       "\n",
       "    Purchase Date                Email      Feedback  \n",
       "995    2020-03-21  user995@example.com  Excellent     \n",
       "996    2021-07-22  user996@example.com           Bad  \n",
       "997    2021-07-07  user997@example.com           NaN  \n",
       "998    2020-04-15  user998@example.com           NaN  \n",
       "999    2021-05-24  user999@example.com       Average  "
      ]
     },
     "execution_count": 24,
     "metadata": {},
     "output_type": "execute_result"
    }
   ],
   "source": [
    "df.tail()"
   ]
  },
  {
   "cell_type": "code",
   "execution_count": 25,
   "id": "d9284695-58af-4921-ab23-a0f2aa88ba52",
   "metadata": {},
   "outputs": [
    {
     "data": {
      "text/plain": [
       "['ID',\n",
       " 'Name',\n",
       " 'Age',\n",
       " 'City',\n",
       " 'Product',\n",
       " 'Price',\n",
       " 'Quantity',\n",
       " 'Purchase Date',\n",
       " 'Email',\n",
       " 'Feedback']"
      ]
     },
     "execution_count": 25,
     "metadata": {},
     "output_type": "execute_result"
    }
   ],
   "source": [
    "list(df.columns)"
   ]
  },
  {
   "cell_type": "code",
   "execution_count": 11,
   "id": "fb988ed9-f8c4-4cba-a4dd-41e1505aa24f",
   "metadata": {},
   "outputs": [
    {
     "data": {
      "text/plain": [
       "ID               float64\n",
       "Name              object\n",
       "Age               object\n",
       "City              object\n",
       "Product           object\n",
       "Price            float64\n",
       "Quantity         float64\n",
       "Purchase Date     object\n",
       "Email             object\n",
       "Feedback          object\n",
       "dtype: object"
      ]
     },
     "execution_count": 11,
     "metadata": {},
     "output_type": "execute_result"
    }
   ],
   "source": [
    "df.dtypes"
   ]
  },
  {
   "cell_type": "code",
   "execution_count": 12,
   "id": "ae7cdc74-bb1d-4044-9a86-ced38dcf8e72",
   "metadata": {},
   "outputs": [
    {
     "ename": "IntCastingNaNError",
     "evalue": "Cannot convert non-finite values (NA or inf) to integer",
     "output_type": "error",
     "traceback": [
      "\u001b[31m---------------------------------------------------------------------------\u001b[39m",
      "\u001b[31mIntCastingNaNError\u001b[39m                        Traceback (most recent call last)",
      "\u001b[36mCell\u001b[39m\u001b[36m \u001b[39m\u001b[32mIn[12]\u001b[39m\u001b[32m, line 1\u001b[39m\n\u001b[32m----> \u001b[39m\u001b[32m1\u001b[39m df[\u001b[33m'\u001b[39m\u001b[33mID\u001b[39m\u001b[33m'\u001b[39m] = \u001b[43mdf\u001b[49m\u001b[43m[\u001b[49m\u001b[33;43m'\u001b[39;49m\u001b[33;43mID\u001b[39;49m\u001b[33;43m'\u001b[39;49m\u001b[43m]\u001b[49m\u001b[43m.\u001b[49m\u001b[43mastype\u001b[49m\u001b[43m(\u001b[49m\u001b[38;5;28;43mint\u001b[39;49m\u001b[43m)\u001b[49m\n\u001b[32m      2\u001b[39m df[\u001b[33m'\u001b[39m\u001b[33mAge\u001b[39m\u001b[33m'\u001b[39m] = df[\u001b[33m'\u001b[39m\u001b[33mAge\u001b[39m\u001b[33m'\u001b[39m].astype(\u001b[38;5;28mint\u001b[39m)\n\u001b[32m      3\u001b[39m df[\u001b[33m'\u001b[39m\u001b[33mQuantity\u001b[39m\u001b[33m'\u001b[39m] = df[\u001b[33m'\u001b[39m\u001b[33mQuantity\u001b[39m\u001b[33m'\u001b[39m].astype(\u001b[38;5;28mint\u001b[39m)\n",
      "\u001b[36mFile \u001b[39m\u001b[32m~/Desktop/SDHub-DS/SDHub-DS/01 Foundation/03 Python For Data Science/.venv/lib/python3.13/site-packages/pandas/core/generic.py:6662\u001b[39m, in \u001b[36mNDFrame.astype\u001b[39m\u001b[34m(self, dtype, copy, errors)\u001b[39m\n\u001b[32m   6656\u001b[39m     results = [\n\u001b[32m   6657\u001b[39m         ser.astype(dtype, copy=copy, errors=errors) \u001b[38;5;28;01mfor\u001b[39;00m _, ser \u001b[38;5;129;01min\u001b[39;00m \u001b[38;5;28mself\u001b[39m.items()\n\u001b[32m   6658\u001b[39m     ]\n\u001b[32m   6660\u001b[39m \u001b[38;5;28;01melse\u001b[39;00m:\n\u001b[32m   6661\u001b[39m     \u001b[38;5;66;03m# else, only a single dtype is given\u001b[39;00m\n\u001b[32m-> \u001b[39m\u001b[32m6662\u001b[39m     new_data = \u001b[38;5;28;43mself\u001b[39;49m\u001b[43m.\u001b[49m\u001b[43m_mgr\u001b[49m\u001b[43m.\u001b[49m\u001b[43mastype\u001b[49m\u001b[43m(\u001b[49m\u001b[43mdtype\u001b[49m\u001b[43m=\u001b[49m\u001b[43mdtype\u001b[49m\u001b[43m,\u001b[49m\u001b[43m \u001b[49m\u001b[43mcopy\u001b[49m\u001b[43m=\u001b[49m\u001b[43mcopy\u001b[49m\u001b[43m,\u001b[49m\u001b[43m \u001b[49m\u001b[43merrors\u001b[49m\u001b[43m=\u001b[49m\u001b[43merrors\u001b[49m\u001b[43m)\u001b[49m\n\u001b[32m   6663\u001b[39m     res = \u001b[38;5;28mself\u001b[39m._constructor_from_mgr(new_data, axes=new_data.axes)\n\u001b[32m   6664\u001b[39m     \u001b[38;5;28;01mreturn\u001b[39;00m res.__finalize__(\u001b[38;5;28mself\u001b[39m, method=\u001b[33m\"\u001b[39m\u001b[33mastype\u001b[39m\u001b[33m\"\u001b[39m)\n",
      "\u001b[36mFile \u001b[39m\u001b[32m~/Desktop/SDHub-DS/SDHub-DS/01 Foundation/03 Python For Data Science/.venv/lib/python3.13/site-packages/pandas/core/internals/managers.py:430\u001b[39m, in \u001b[36mBaseBlockManager.astype\u001b[39m\u001b[34m(self, dtype, copy, errors)\u001b[39m\n\u001b[32m    427\u001b[39m \u001b[38;5;28;01melif\u001b[39;00m using_copy_on_write():\n\u001b[32m    428\u001b[39m     copy = \u001b[38;5;28;01mFalse\u001b[39;00m\n\u001b[32m--> \u001b[39m\u001b[32m430\u001b[39m \u001b[38;5;28;01mreturn\u001b[39;00m \u001b[38;5;28;43mself\u001b[39;49m\u001b[43m.\u001b[49m\u001b[43mapply\u001b[49m\u001b[43m(\u001b[49m\n\u001b[32m    431\u001b[39m \u001b[43m    \u001b[49m\u001b[33;43m\"\u001b[39;49m\u001b[33;43mastype\u001b[39;49m\u001b[33;43m\"\u001b[39;49m\u001b[43m,\u001b[49m\n\u001b[32m    432\u001b[39m \u001b[43m    \u001b[49m\u001b[43mdtype\u001b[49m\u001b[43m=\u001b[49m\u001b[43mdtype\u001b[49m\u001b[43m,\u001b[49m\n\u001b[32m    433\u001b[39m \u001b[43m    \u001b[49m\u001b[43mcopy\u001b[49m\u001b[43m=\u001b[49m\u001b[43mcopy\u001b[49m\u001b[43m,\u001b[49m\n\u001b[32m    434\u001b[39m \u001b[43m    \u001b[49m\u001b[43merrors\u001b[49m\u001b[43m=\u001b[49m\u001b[43merrors\u001b[49m\u001b[43m,\u001b[49m\n\u001b[32m    435\u001b[39m \u001b[43m    \u001b[49m\u001b[43musing_cow\u001b[49m\u001b[43m=\u001b[49m\u001b[43musing_copy_on_write\u001b[49m\u001b[43m(\u001b[49m\u001b[43m)\u001b[49m\u001b[43m,\u001b[49m\n\u001b[32m    436\u001b[39m \u001b[43m\u001b[49m\u001b[43m)\u001b[49m\n",
      "\u001b[36mFile \u001b[39m\u001b[32m~/Desktop/SDHub-DS/SDHub-DS/01 Foundation/03 Python For Data Science/.venv/lib/python3.13/site-packages/pandas/core/internals/managers.py:363\u001b[39m, in \u001b[36mBaseBlockManager.apply\u001b[39m\u001b[34m(self, f, align_keys, **kwargs)\u001b[39m\n\u001b[32m    361\u001b[39m         applied = b.apply(f, **kwargs)\n\u001b[32m    362\u001b[39m     \u001b[38;5;28;01melse\u001b[39;00m:\n\u001b[32m--> \u001b[39m\u001b[32m363\u001b[39m         applied = \u001b[38;5;28;43mgetattr\u001b[39;49m\u001b[43m(\u001b[49m\u001b[43mb\u001b[49m\u001b[43m,\u001b[49m\u001b[43m \u001b[49m\u001b[43mf\u001b[49m\u001b[43m)\u001b[49m\u001b[43m(\u001b[49m\u001b[43m*\u001b[49m\u001b[43m*\u001b[49m\u001b[43mkwargs\u001b[49m\u001b[43m)\u001b[49m\n\u001b[32m    364\u001b[39m     result_blocks = extend_blocks(applied, result_blocks)\n\u001b[32m    366\u001b[39m out = \u001b[38;5;28mtype\u001b[39m(\u001b[38;5;28mself\u001b[39m).from_blocks(result_blocks, \u001b[38;5;28mself\u001b[39m.axes)\n",
      "\u001b[36mFile \u001b[39m\u001b[32m~/Desktop/SDHub-DS/SDHub-DS/01 Foundation/03 Python For Data Science/.venv/lib/python3.13/site-packages/pandas/core/internals/blocks.py:784\u001b[39m, in \u001b[36mBlock.astype\u001b[39m\u001b[34m(self, dtype, copy, errors, using_cow, squeeze)\u001b[39m\n\u001b[32m    781\u001b[39m         \u001b[38;5;28;01mraise\u001b[39;00m \u001b[38;5;167;01mValueError\u001b[39;00m(\u001b[33m\"\u001b[39m\u001b[33mCan not squeeze with more than one column.\u001b[39m\u001b[33m\"\u001b[39m)\n\u001b[32m    782\u001b[39m     values = values[\u001b[32m0\u001b[39m, :]  \u001b[38;5;66;03m# type: ignore[call-overload]\u001b[39;00m\n\u001b[32m--> \u001b[39m\u001b[32m784\u001b[39m new_values = \u001b[43mastype_array_safe\u001b[49m\u001b[43m(\u001b[49m\u001b[43mvalues\u001b[49m\u001b[43m,\u001b[49m\u001b[43m \u001b[49m\u001b[43mdtype\u001b[49m\u001b[43m,\u001b[49m\u001b[43m \u001b[49m\u001b[43mcopy\u001b[49m\u001b[43m=\u001b[49m\u001b[43mcopy\u001b[49m\u001b[43m,\u001b[49m\u001b[43m \u001b[49m\u001b[43merrors\u001b[49m\u001b[43m=\u001b[49m\u001b[43merrors\u001b[49m\u001b[43m)\u001b[49m\n\u001b[32m    786\u001b[39m new_values = maybe_coerce_values(new_values)\n\u001b[32m    788\u001b[39m refs = \u001b[38;5;28;01mNone\u001b[39;00m\n",
      "\u001b[36mFile \u001b[39m\u001b[32m~/Desktop/SDHub-DS/SDHub-DS/01 Foundation/03 Python For Data Science/.venv/lib/python3.13/site-packages/pandas/core/dtypes/astype.py:237\u001b[39m, in \u001b[36mastype_array_safe\u001b[39m\u001b[34m(values, dtype, copy, errors)\u001b[39m\n\u001b[32m    234\u001b[39m     dtype = dtype.numpy_dtype\n\u001b[32m    236\u001b[39m \u001b[38;5;28;01mtry\u001b[39;00m:\n\u001b[32m--> \u001b[39m\u001b[32m237\u001b[39m     new_values = \u001b[43mastype_array\u001b[49m\u001b[43m(\u001b[49m\u001b[43mvalues\u001b[49m\u001b[43m,\u001b[49m\u001b[43m \u001b[49m\u001b[43mdtype\u001b[49m\u001b[43m,\u001b[49m\u001b[43m \u001b[49m\u001b[43mcopy\u001b[49m\u001b[43m=\u001b[49m\u001b[43mcopy\u001b[49m\u001b[43m)\u001b[49m\n\u001b[32m    238\u001b[39m \u001b[38;5;28;01mexcept\u001b[39;00m (\u001b[38;5;167;01mValueError\u001b[39;00m, \u001b[38;5;167;01mTypeError\u001b[39;00m):\n\u001b[32m    239\u001b[39m     \u001b[38;5;66;03m# e.g. _astype_nansafe can fail on object-dtype of strings\u001b[39;00m\n\u001b[32m    240\u001b[39m     \u001b[38;5;66;03m#  trying to convert to float\u001b[39;00m\n\u001b[32m    241\u001b[39m     \u001b[38;5;28;01mif\u001b[39;00m errors == \u001b[33m\"\u001b[39m\u001b[33mignore\u001b[39m\u001b[33m\"\u001b[39m:\n",
      "\u001b[36mFile \u001b[39m\u001b[32m~/Desktop/SDHub-DS/SDHub-DS/01 Foundation/03 Python For Data Science/.venv/lib/python3.13/site-packages/pandas/core/dtypes/astype.py:182\u001b[39m, in \u001b[36mastype_array\u001b[39m\u001b[34m(values, dtype, copy)\u001b[39m\n\u001b[32m    179\u001b[39m     values = values.astype(dtype, copy=copy)\n\u001b[32m    181\u001b[39m \u001b[38;5;28;01melse\u001b[39;00m:\n\u001b[32m--> \u001b[39m\u001b[32m182\u001b[39m     values = \u001b[43m_astype_nansafe\u001b[49m\u001b[43m(\u001b[49m\u001b[43mvalues\u001b[49m\u001b[43m,\u001b[49m\u001b[43m \u001b[49m\u001b[43mdtype\u001b[49m\u001b[43m,\u001b[49m\u001b[43m \u001b[49m\u001b[43mcopy\u001b[49m\u001b[43m=\u001b[49m\u001b[43mcopy\u001b[49m\u001b[43m)\u001b[49m\n\u001b[32m    184\u001b[39m \u001b[38;5;66;03m# in pandas we don't store numpy str dtypes, so convert to object\u001b[39;00m\n\u001b[32m    185\u001b[39m \u001b[38;5;28;01mif\u001b[39;00m \u001b[38;5;28misinstance\u001b[39m(dtype, np.dtype) \u001b[38;5;129;01mand\u001b[39;00m \u001b[38;5;28missubclass\u001b[39m(values.dtype.type, \u001b[38;5;28mstr\u001b[39m):\n",
      "\u001b[36mFile \u001b[39m\u001b[32m~/Desktop/SDHub-DS/SDHub-DS/01 Foundation/03 Python For Data Science/.venv/lib/python3.13/site-packages/pandas/core/dtypes/astype.py:101\u001b[39m, in \u001b[36m_astype_nansafe\u001b[39m\u001b[34m(arr, dtype, copy, skipna)\u001b[39m\n\u001b[32m     96\u001b[39m     \u001b[38;5;28;01mreturn\u001b[39;00m lib.ensure_string_array(\n\u001b[32m     97\u001b[39m         arr, skipna=skipna, convert_na_value=\u001b[38;5;28;01mFalse\u001b[39;00m\n\u001b[32m     98\u001b[39m     ).reshape(shape)\n\u001b[32m    100\u001b[39m \u001b[38;5;28;01melif\u001b[39;00m np.issubdtype(arr.dtype, np.floating) \u001b[38;5;129;01mand\u001b[39;00m dtype.kind \u001b[38;5;129;01min\u001b[39;00m \u001b[33m\"\u001b[39m\u001b[33miu\u001b[39m\u001b[33m\"\u001b[39m:\n\u001b[32m--> \u001b[39m\u001b[32m101\u001b[39m     \u001b[38;5;28;01mreturn\u001b[39;00m \u001b[43m_astype_float_to_int_nansafe\u001b[49m\u001b[43m(\u001b[49m\u001b[43marr\u001b[49m\u001b[43m,\u001b[49m\u001b[43m \u001b[49m\u001b[43mdtype\u001b[49m\u001b[43m,\u001b[49m\u001b[43m \u001b[49m\u001b[43mcopy\u001b[49m\u001b[43m)\u001b[49m\n\u001b[32m    103\u001b[39m \u001b[38;5;28;01melif\u001b[39;00m arr.dtype == \u001b[38;5;28mobject\u001b[39m:\n\u001b[32m    104\u001b[39m     \u001b[38;5;66;03m# if we have a datetime/timedelta array of objects\u001b[39;00m\n\u001b[32m    105\u001b[39m     \u001b[38;5;66;03m# then coerce to datetime64[ns] and use DatetimeArray.astype\u001b[39;00m\n\u001b[32m    107\u001b[39m     \u001b[38;5;28;01mif\u001b[39;00m lib.is_np_dtype(dtype, \u001b[33m\"\u001b[39m\u001b[33mM\u001b[39m\u001b[33m\"\u001b[39m):\n",
      "\u001b[36mFile \u001b[39m\u001b[32m~/Desktop/SDHub-DS/SDHub-DS/01 Foundation/03 Python For Data Science/.venv/lib/python3.13/site-packages/pandas/core/dtypes/astype.py:145\u001b[39m, in \u001b[36m_astype_float_to_int_nansafe\u001b[39m\u001b[34m(values, dtype, copy)\u001b[39m\n\u001b[32m    141\u001b[39m \u001b[38;5;250m\u001b[39m\u001b[33;03m\"\"\"\u001b[39;00m\n\u001b[32m    142\u001b[39m \u001b[33;03mastype with a check preventing converting NaN to an meaningless integer value.\u001b[39;00m\n\u001b[32m    143\u001b[39m \u001b[33;03m\"\"\"\u001b[39;00m\n\u001b[32m    144\u001b[39m \u001b[38;5;28;01mif\u001b[39;00m \u001b[38;5;129;01mnot\u001b[39;00m np.isfinite(values).all():\n\u001b[32m--> \u001b[39m\u001b[32m145\u001b[39m     \u001b[38;5;28;01mraise\u001b[39;00m IntCastingNaNError(\n\u001b[32m    146\u001b[39m         \u001b[33m\"\u001b[39m\u001b[33mCannot convert non-finite values (NA or inf) to integer\u001b[39m\u001b[33m\"\u001b[39m\n\u001b[32m    147\u001b[39m     )\n\u001b[32m    148\u001b[39m \u001b[38;5;28;01mif\u001b[39;00m dtype.kind == \u001b[33m\"\u001b[39m\u001b[33mu\u001b[39m\u001b[33m\"\u001b[39m:\n\u001b[32m    149\u001b[39m     \u001b[38;5;66;03m# GH#45151\u001b[39;00m\n\u001b[32m    150\u001b[39m     \u001b[38;5;28;01mif\u001b[39;00m \u001b[38;5;129;01mnot\u001b[39;00m (values >= \u001b[32m0\u001b[39m).all():\n",
      "\u001b[31mIntCastingNaNError\u001b[39m: Cannot convert non-finite values (NA or inf) to integer"
     ]
    }
   ],
   "source": [
    "df['ID'] = df['ID'].astype(int)\n",
    "df['Age'] = df['Age'].astype(int)\n",
    "df['Quantity'] = df['Quantity'].astype(int)"
   ]
  },
  {
   "cell_type": "code",
   "execution_count": 27,
   "id": "b1e9c159-4a73-4fbe-b309-7f6480f703e2",
   "metadata": {},
   "outputs": [
    {
     "data": {
      "text/plain": [
       "np.int64(1)"
      ]
     },
     "execution_count": 27,
     "metadata": {},
     "output_type": "execute_result"
    }
   ],
   "source": [
    "df.iloc[10].isnull().sum()"
   ]
  },
  {
   "cell_type": "code",
   "execution_count": 28,
   "id": "1f98345a-48be-4c6f-8c85-61c131b4cb23",
   "metadata": {},
   "outputs": [
    {
     "data": {
      "text/html": [
       "<div>\n",
       "<style scoped>\n",
       "    .dataframe tbody tr th:only-of-type {\n",
       "        vertical-align: middle;\n",
       "    }\n",
       "\n",
       "    .dataframe tbody tr th {\n",
       "        vertical-align: top;\n",
       "    }\n",
       "\n",
       "    .dataframe thead th {\n",
       "        text-align: right;\n",
       "    }\n",
       "</style>\n",
       "<table border=\"1\" class=\"dataframe\">\n",
       "  <thead>\n",
       "    <tr style=\"text-align: right;\">\n",
       "      <th></th>\n",
       "      <th>ID</th>\n",
       "      <th>Name</th>\n",
       "      <th>Age</th>\n",
       "      <th>City</th>\n",
       "      <th>Product</th>\n",
       "      <th>Price</th>\n",
       "      <th>Quantity</th>\n",
       "      <th>Purchase Date</th>\n",
       "      <th>Email</th>\n",
       "      <th>Feedback</th>\n",
       "    </tr>\n",
       "  </thead>\n",
       "  <tbody>\n",
       "    <tr>\n",
       "      <th>10</th>\n",
       "      <td>11.0</td>\n",
       "      <td>Bob</td>\n",
       "      <td>NaN</td>\n",
       "      <td></td>\n",
       "      <td>Watch</td>\n",
       "      <td>158.91</td>\n",
       "      <td>5.0</td>\n",
       "      <td>2020-10-10</td>\n",
       "      <td>user10@example.com</td>\n",
       "      <td>Good</td>\n",
       "    </tr>\n",
       "  </tbody>\n",
       "</table>\n",
       "</div>"
      ],
      "text/plain": [
       "      ID Name  Age City Product   Price  Quantity Purchase Date  \\\n",
       "10  11.0  Bob  NaN        Watch  158.91       5.0    2020-10-10   \n",
       "\n",
       "                 Email Feedback  \n",
       "10  user10@example.com     Good  "
      ]
     },
     "execution_count": 28,
     "metadata": {},
     "output_type": "execute_result"
    }
   ],
   "source": [
    "df[df['ID']==11]"
   ]
  },
  {
   "cell_type": "code",
   "execution_count": 30,
   "id": "1396923b-001f-449e-8560-e7b5af0cbfe1",
   "metadata": {},
   "outputs": [
    {
     "data": {
      "text/plain": [
       "10    1\n",
       "dtype: int64"
      ]
     },
     "execution_count": 30,
     "metadata": {},
     "output_type": "execute_result"
    }
   ],
   "source": [
    "df[df['ID']==11].isnull().sum(axis=1)"
   ]
  },
  {
   "cell_type": "code",
   "execution_count": 39,
   "id": "ea5d7f8f-99a2-4c83-bcf0-647261942c4d",
   "metadata": {},
   "outputs": [
    {
     "data": {
      "text/plain": [
       "array(['19', 'twenty', '47', '40', nan, '52', '41', '43', '25', '66',\n",
       "       '50', '20', '38', '70', '61', '54', '64', '33', '62', '63', '51',\n",
       "       '48', '67', '36', '26', '55', '32', '59', '44', '30', '39', '60',\n",
       "       '29', '68', '27', '46', '49', '69', '65', '21', '35', '22', '56',\n",
       "       '31', '42', '53', '18', '28', '58', '24', '23', '37', '45', '57',\n",
       "       '34'], dtype=object)"
      ]
     },
     "execution_count": 39,
     "metadata": {},
     "output_type": "execute_result"
    }
   ],
   "source": [
    "df['Age'].unique()"
   ]
  },
  {
   "cell_type": "code",
   "execution_count": 43,
   "id": "9ac35633-fecf-4e3b-b5fa-2547af4ab21d",
   "metadata": {},
   "outputs": [],
   "source": [
    "df2 = df[df['Age'].str.isdigit()==False]"
   ]
  },
  {
   "cell_type": "code",
   "execution_count": 46,
   "id": "10b3c837-19be-4a48-8e19-1d1877eefb76",
   "metadata": {},
   "outputs": [
    {
     "data": {
      "text/plain": [
       "array(['twenty'], dtype=object)"
      ]
     },
     "execution_count": 46,
     "metadata": {},
     "output_type": "execute_result"
    }
   ],
   "source": [
    "df2['Age'].unique()"
   ]
  },
  {
   "cell_type": "code",
   "execution_count": 49,
   "id": "c166aa7b-f70c-46bd-b4d2-dec5f49f12c2",
   "metadata": {},
   "outputs": [
    {
     "name": "stderr",
     "output_type": "stream",
     "text": [
      "/tmp/ipykernel_36455/1560643270.py:1: FutureWarning: Downcasting behavior in `replace` is deprecated and will be removed in a future version. To retain the old behavior, explicitly call `result.infer_objects(copy=False)`. To opt-in to the future behavior, set `pd.set_option('future.no_silent_downcasting', True)`\n",
      "  df2['Age'] = df2['Age'].replace('twenty', 20)\n",
      "/tmp/ipykernel_36455/1560643270.py:1: SettingWithCopyWarning: \n",
      "A value is trying to be set on a copy of a slice from a DataFrame.\n",
      "Try using .loc[row_indexer,col_indexer] = value instead\n",
      "\n",
      "See the caveats in the documentation: https://pandas.pydata.org/pandas-docs/stable/user_guide/indexing.html#returning-a-view-versus-a-copy\n",
      "  df2['Age'] = df2['Age'].replace('twenty', 20)\n"
     ]
    }
   ],
   "source": [
    "df2['Age'] = df2['Age'].replace('twenty', 20)"
   ]
  },
  {
   "cell_type": "code",
   "execution_count": 51,
   "id": "f147b218-1d79-4aad-973b-9a9f7cc796d5",
   "metadata": {},
   "outputs": [
    {
     "name": "stderr",
     "output_type": "stream",
     "text": [
      "/tmp/ipykernel_36455/3301544511.py:1: SettingWithCopyWarning: \n",
      "A value is trying to be set on a copy of a slice from a DataFrame.\n",
      "Try using .loc[row_indexer,col_indexer] = value instead\n",
      "\n",
      "See the caveats in the documentation: https://pandas.pydata.org/pandas-docs/stable/user_guide/indexing.html#returning-a-view-versus-a-copy\n",
      "  df2['Age'] = df2['Age'].replace(np.nan, 0)\n"
     ]
    }
   ],
   "source": [
    "df2['Age'] = df2['Age'].replace(np.nan, 0)"
   ]
  },
  {
   "cell_type": "code",
   "execution_count": 53,
   "id": "4c34d756-a941-4095-bc98-ae3998904869",
   "metadata": {},
   "outputs": [
    {
     "data": {
      "text/plain": [
       "dtype('int64')"
      ]
     },
     "execution_count": 53,
     "metadata": {},
     "output_type": "execute_result"
    }
   ],
   "source": [
    "df2['Age'].dtypes"
   ]
  },
  {
   "cell_type": "code",
   "execution_count": 55,
   "id": "d1d0a1db-bd0b-43d1-a409-a437c9d1c852",
   "metadata": {},
   "outputs": [
    {
     "data": {
      "text/plain": [
       "np.float64(20.0)"
      ]
     },
     "execution_count": 55,
     "metadata": {},
     "output_type": "execute_result"
    }
   ],
   "source": [
    "df2['Age'].mean()"
   ]
  },
  {
   "cell_type": "code",
   "execution_count": null,
   "id": "a200e981-fd0d-4842-a40e-a6a05e2e5b0a",
   "metadata": {},
   "outputs": [],
   "source": [
    "df2['Age'] = df2['Age'].replace(np.nan, 0)"
   ]
  },
  {
   "cell_type": "code",
   "execution_count": 56,
   "id": "f907f7ae-7e99-4779-a275-2fa3f339442b",
   "metadata": {},
   "outputs": [
    {
     "data": {
      "text/plain": [
       "array(['New York', nan, 'Miami', '   ', 'Dallas', 'Houston', 'Chicago',\n",
       "       'Los Angeles', 'San Francisco', 'Phoenix'], dtype=object)"
      ]
     },
     "execution_count": 56,
     "metadata": {},
     "output_type": "execute_result"
    }
   ],
   "source": [
    "df['City'].unique()"
   ]
  },
  {
   "cell_type": "code",
   "execution_count": 58,
   "id": "f54874b6-d2f3-4352-bb19-d7f2553e1501",
   "metadata": {},
   "outputs": [
    {
     "data": {
      "text/plain": [
       "City\n",
       "                 104\n",
       "New York         102\n",
       "San Francisco    102\n",
       "Los Angeles      102\n",
       "Chicago          102\n",
       "Dallas           101\n",
       "Miami             98\n",
       "Phoenix           97\n",
       "Houston           91\n",
       "Name: count, dtype: int64"
      ]
     },
     "execution_count": 58,
     "metadata": {},
     "output_type": "execute_result"
    }
   ],
   "source": [
    "df['City'].value_counts()"
   ]
  },
  {
   "cell_type": "code",
   "execution_count": 61,
   "id": "82efe394-2226-4c3c-aa05-44505d1467fb",
   "metadata": {},
   "outputs": [
    {
     "data": {
      "text/plain": [
       "array(['New York', nan, 'Miami', 'Dallas', 'Houston', 'Chicago',\n",
       "       'Los Angeles', 'San Francisco', 'Phoenix'], dtype=object)"
      ]
     },
     "execution_count": 61,
     "metadata": {},
     "output_type": "execute_result"
    }
   ],
   "source": [
    "df['City'] = df['City'].replace('   ', np.nan)\n",
    "\n",
    "df['City'].unique()"
   ]
  },
  {
   "cell_type": "code",
   "execution_count": 62,
   "id": "3f77a649-4a92-42fc-a101-a0b652314d34",
   "metadata": {},
   "outputs": [
    {
     "data": {
      "text/plain": [
       "np.int64(205)"
      ]
     },
     "execution_count": 62,
     "metadata": {},
     "output_type": "execute_result"
    }
   ],
   "source": [
    "df['City'].isnull().sum()"
   ]
  },
  {
   "cell_type": "code",
   "execution_count": 64,
   "id": "0c6ff235-b82f-4f80-966e-337d4d217673",
   "metadata": {},
   "outputs": [
    {
     "data": {
      "text/plain": [
       "np.int64(147)"
      ]
     },
     "execution_count": 64,
     "metadata": {},
     "output_type": "execute_result"
    }
   ],
   "source": [
    "df['City'] = df['City'].fillna('New York', limit=29)\n",
    "\n",
    "df['City'].isnull().sum()"
   ]
  },
  {
   "cell_type": "code",
   "execution_count": null,
   "id": "bc551ae7-190b-430b-90eb-12fd8301b561",
   "metadata": {},
   "outputs": [],
   "source": []
  },
  {
   "cell_type": "code",
   "execution_count": null,
   "id": "2ea5dd9c-9194-4afb-89bb-f49ee2dc7608",
   "metadata": {},
   "outputs": [],
   "source": []
  },
  {
   "cell_type": "code",
   "execution_count": null,
   "id": "3ea88195-5252-43a1-82f4-3b950c016382",
   "metadata": {},
   "outputs": [],
   "source": []
  },
  {
   "cell_type": "code",
   "execution_count": null,
   "id": "b4663657-c8b9-4f1b-8988-bf4c135f43a2",
   "metadata": {},
   "outputs": [],
   "source": []
  },
  {
   "cell_type": "code",
   "execution_count": null,
   "id": "a283bdba-1e04-4d7b-8dec-d3526f074b88",
   "metadata": {},
   "outputs": [],
   "source": []
  },
  {
   "cell_type": "code",
   "execution_count": 66,
   "id": "832da4c8-dfd3-4e1d-8340-ebcdee3843e3",
   "metadata": {},
   "outputs": [
    {
     "data": {
      "text/plain": [
       "[array(['New York', 'Miami', 'Dallas', 'Houston', 'Chicago', 'Los Angeles',\n",
       "        'San Francisco', 'Phoenix', nan], dtype=object),\n",
       " array(['Shoes', 'Shirt', 'Pants', 'Watch', 'Bag', 'Tie', 'Hat', 'Socks',\n",
       "        nan], dtype=object),\n",
       " array([nan, 'Average', 'Good', 'Bad', 'Excellent   '], dtype=object)]"
      ]
     },
     "execution_count": 66,
     "metadata": {},
     "output_type": "execute_result"
    }
   ],
   "source": [
    "col = ['City', 'Product', 'Feedback']\n",
    "\n",
    "res = [df[i].unique() for i in col]\n",
    "\n",
    "res"
   ]
  },
  {
   "cell_type": "code",
   "execution_count": 67,
   "id": "98f2caa2-ad69-4e35-a705-cc8111506276",
   "metadata": {},
   "outputs": [
    {
     "data": {
      "text/html": [
       "<div>\n",
       "<style scoped>\n",
       "    .dataframe tbody tr th:only-of-type {\n",
       "        vertical-align: middle;\n",
       "    }\n",
       "\n",
       "    .dataframe tbody tr th {\n",
       "        vertical-align: top;\n",
       "    }\n",
       "\n",
       "    .dataframe thead th {\n",
       "        text-align: right;\n",
       "    }\n",
       "</style>\n",
       "<table border=\"1\" class=\"dataframe\">\n",
       "  <thead>\n",
       "    <tr style=\"text-align: right;\">\n",
       "      <th></th>\n",
       "      <th>ID</th>\n",
       "      <th>Name</th>\n",
       "      <th>Age</th>\n",
       "      <th>City</th>\n",
       "      <th>Product</th>\n",
       "      <th>Price</th>\n",
       "      <th>Quantity</th>\n",
       "      <th>Purchase Date</th>\n",
       "      <th>Email</th>\n",
       "      <th>Feedback</th>\n",
       "    </tr>\n",
       "  </thead>\n",
       "  <tbody>\n",
       "    <tr>\n",
       "      <th>0</th>\n",
       "      <td>1.0</td>\n",
       "      <td>Bob</td>\n",
       "      <td>19</td>\n",
       "      <td>New York</td>\n",
       "      <td>Shoes</td>\n",
       "      <td>135.41</td>\n",
       "      <td>2.0</td>\n",
       "      <td>2021-09-16</td>\n",
       "      <td>user0@example.com</td>\n",
       "      <td>NaN</td>\n",
       "    </tr>\n",
       "    <tr>\n",
       "      <th>1</th>\n",
       "      <td>2.0</td>\n",
       "      <td>Judy</td>\n",
       "      <td>twenty</td>\n",
       "      <td>New York</td>\n",
       "      <td>Shirt</td>\n",
       "      <td>306.92</td>\n",
       "      <td>4.0</td>\n",
       "      <td>2021-03-17</td>\n",
       "      <td>user1@example.com</td>\n",
       "      <td>Average</td>\n",
       "    </tr>\n",
       "    <tr>\n",
       "      <th>2</th>\n",
       "      <td>3.0</td>\n",
       "      <td>Frank</td>\n",
       "      <td>47</td>\n",
       "      <td>Miami</td>\n",
       "      <td>Shirt</td>\n",
       "      <td>465.80</td>\n",
       "      <td>4.0</td>\n",
       "      <td>2022-09-28</td>\n",
       "      <td>user2@example.com</td>\n",
       "      <td>Good</td>\n",
       "    </tr>\n",
       "    <tr>\n",
       "      <th>3</th>\n",
       "      <td>4.0</td>\n",
       "      <td>Hannah</td>\n",
       "      <td>twenty</td>\n",
       "      <td>New York</td>\n",
       "      <td>Shoes</td>\n",
       "      <td>250.79</td>\n",
       "      <td>-1.0</td>\n",
       "      <td>invalid_date</td>\n",
       "      <td>user3@example.com</td>\n",
       "      <td>Average</td>\n",
       "    </tr>\n",
       "    <tr>\n",
       "      <th>4</th>\n",
       "      <td>5.0</td>\n",
       "      <td>Judy</td>\n",
       "      <td>40</td>\n",
       "      <td>New York</td>\n",
       "      <td>Pants</td>\n",
       "      <td>49.18</td>\n",
       "      <td>5.0</td>\n",
       "      <td>2020-05-18</td>\n",
       "      <td>user4@example.com</td>\n",
       "      <td>Good</td>\n",
       "    </tr>\n",
       "  </tbody>\n",
       "</table>\n",
       "</div>"
      ],
      "text/plain": [
       "    ID       Name     Age      City Product   Price  Quantity Purchase Date  \\\n",
       "0  1.0        Bob      19  New York   Shoes  135.41       2.0    2021-09-16   \n",
       "1  2.0       Judy  twenty  New York   Shirt  306.92       4.0    2021-03-17   \n",
       "2  3.0      Frank      47     Miami   Shirt  465.80       4.0    2022-09-28   \n",
       "3  4.0     Hannah  twenty  New York   Shoes  250.79      -1.0  invalid_date   \n",
       "4  5.0       Judy      40  New York   Pants   49.18       5.0    2020-05-18   \n",
       "\n",
       "               Email Feedback  \n",
       "0  user0@example.com      NaN  \n",
       "1  user1@example.com  Average  \n",
       "2  user2@example.com     Good  \n",
       "3  user3@example.com  Average  \n",
       "4  user4@example.com     Good  "
      ]
     },
     "execution_count": 67,
     "metadata": {},
     "output_type": "execute_result"
    }
   ],
   "source": [
    "df.head()"
   ]
  },
  {
   "cell_type": "code",
   "execution_count": 68,
   "id": "5ea4e2ba-d16e-48f4-9b7f-e1e27530e783",
   "metadata": {},
   "outputs": [
    {
     "data": {
      "text/plain": [
       "Index(['ID', 'Name', 'Age', 'City', 'Product', 'Price', 'Quantity',\n",
       "       'Purchase Date', 'Email', 'Feedback'],\n",
       "      dtype='object')"
      ]
     },
     "execution_count": 68,
     "metadata": {},
     "output_type": "execute_result"
    }
   ],
   "source": [
    "df.columns"
   ]
  },
  {
   "cell_type": "code",
   "execution_count": 72,
   "id": "d0bc8ad2-382e-4804-93b6-fd1df03cb308",
   "metadata": {},
   "outputs": [
    {
     "data": {
      "text/plain": [
       "array([nan, 'Average', 'Good', 'Bad', 'Excellent   '], dtype=object)"
      ]
     },
     "execution_count": 72,
     "metadata": {},
     "output_type": "execute_result"
    }
   ],
   "source": [
    "df['Feedback'].unique()"
   ]
  },
  {
   "cell_type": "code",
   "execution_count": 79,
   "id": "1eab2c36-671f-431f-bafb-00071e633b39",
   "metadata": {},
   "outputs": [],
   "source": [
    "df['Quantity'].unique()\n",
    "\n",
    "df['Quantity'] = df['Quantity'].replace(np.nan, 0)"
   ]
  },
  {
   "cell_type": "code",
   "execution_count": 80,
   "id": "7d6383cc-eb7c-4ee0-ac47-c367582c2bdf",
   "metadata": {},
   "outputs": [
    {
     "data": {
      "text/plain": [
       "array([ 2.,  4., -1.,  5.,  1.,  0.,  3.])"
      ]
     },
     "execution_count": 80,
     "metadata": {},
     "output_type": "execute_result"
    }
   ],
   "source": [
    "df['Quantity'].unique()\n"
   ]
  },
  {
   "cell_type": "code",
   "execution_count": 71,
   "id": "ab8d9c84-b382-4872-b041-be2ee8d33d4e",
   "metadata": {},
   "outputs": [
    {
     "data": {
      "text/plain": [
       "dtype('O')"
      ]
     },
     "execution_count": 71,
     "metadata": {},
     "output_type": "execute_result"
    }
   ],
   "source": [
    "df['Purchase Date'].dtypes"
   ]
  },
  {
   "cell_type": "code",
   "execution_count": 82,
   "id": "dfa9566d-0ffc-4052-a135-c69e2a0c485a",
   "metadata": {},
   "outputs": [
    {
     "data": {
      "text/plain": [
       "dtype('O')"
      ]
     },
     "execution_count": 82,
     "metadata": {},
     "output_type": "execute_result"
    }
   ],
   "source": [
    "df['Purchase Date'].dtypes"
   ]
  },
  {
   "cell_type": "markdown",
   "id": "6d38eea9-7010-483e-b52a-66384c1450bc",
   "metadata": {},
   "source": [
    "# **1. Standardizing Column Names and Removing Duplicates**"
   ]
  },
  {
   "cell_type": "code",
   "execution_count": 83,
   "id": "5716bb0b-2119-48dc-9681-e94e22a41361",
   "metadata": {},
   "outputs": [
    {
     "name": "stdout",
     "output_type": "stream",
     "text": [
      "Number of duplicate rows: 0\n"
     ]
    }
   ],
   "source": [
    "# Clean column names (strip whitespace)\n",
    "df_cleaned.columns = df_cleaned.columns.str.strip()\n",
    "\n",
    "# Check for and remove duplicate rows\n",
    "print(f\"Number of duplicate rows: {df_cleaned.duplicated().sum()}\")\n",
    "df_cleaned.drop_duplicates(inplace=True)"
   ]
  },
  {
   "cell_type": "code",
   "execution_count": 84,
   "id": "e3279396-22a5-4416-ae2e-d121cbcd585e",
   "metadata": {},
   "outputs": [],
   "source": [
    "# Convert to numeric, coercing errors\n",
    "df_cleaned['ID'] = pd.to_numeric(df_cleaned['ID'], errors='coerce')\n",
    "\n",
    "# Interpolate to fill missing values and cast to integer\n",
    "df_cleaned['ID'] = df_cleaned['ID'].interpolate().astype(int)"
   ]
  },
  {
   "cell_type": "code",
   "execution_count": 85,
   "id": "1ff8fc09-7b94-471e-9adb-aeb9ab781899",
   "metadata": {},
   "outputs": [
    {
     "name": "stderr",
     "output_type": "stream",
     "text": [
      "/tmp/ipykernel_36455/2212193942.py:5: FutureWarning: A value is trying to be set on a copy of a DataFrame or Series through chained assignment using an inplace method.\n",
      "The behavior will change in pandas 3.0. This inplace method will never work because the intermediate object on which we are setting values always behaves as a copy.\n",
      "\n",
      "For example, when doing 'df[col].method(value, inplace=True)', try using 'df.method({col: value}, inplace=True)' or df[col] = df[col].method(value) instead, to perform the operation inplace on the original object.\n",
      "\n",
      "\n",
      "  df_cleaned['Name'].fillna('unknown', inplace=True)\n"
     ]
    }
   ],
   "source": [
    "# Strip whitespace from names\n",
    "df_cleaned['Name'] = df_cleaned['Name'].str.strip()\n",
    "\n",
    "# Fill missing values with 'unknown'\n",
    "df_cleaned['Name'].fillna('unknown', inplace=True)"
   ]
  },
  {
   "cell_type": "code",
   "execution_count": 86,
   "id": "96717192-f1e5-4698-9cf5-384e86eeb0df",
   "metadata": {},
   "outputs": [
    {
     "name": "stderr",
     "output_type": "stream",
     "text": [
      "/tmp/ipykernel_36455/4151477618.py:11: FutureWarning: A value is trying to be set on a copy of a DataFrame or Series through chained assignment using an inplace method.\n",
      "The behavior will change in pandas 3.0. This inplace method will never work because the intermediate object on which we are setting values always behaves as a copy.\n",
      "\n",
      "For example, when doing 'df[col].method(value, inplace=True)', try using 'df.method({col: value}, inplace=True)' or df[col] = df[col].method(value) instead, to perform the operation inplace on the original object.\n",
      "\n",
      "\n",
      "  df_cleaned['Age'].fillna(mean_age, inplace=True)\n"
     ]
    }
   ],
   "source": [
    "# Replace 'twenty' with '20'\n",
    "df_cleaned['Age'] = df_cleaned['Age'].replace('twenty', '20')\n",
    "\n",
    "# Convert to a numeric type, turning non-numeric values into NaN\n",
    "df_cleaned['Age'] = pd.to_numeric(df_cleaned['Age'], errors='coerce')\n",
    "\n",
    "# Calculate the mean of the valid ages\n",
    "mean_age = df_cleaned['Age'].mean()\n",
    "\n",
    "# Fill missing values (NaNs) with the mean age and convert to integer\n",
    "df_cleaned['Age'].fillna(mean_age, inplace=True)\n",
    "df_cleaned['Age'] = df_cleaned['Age'].astype(int)"
   ]
  },
  {
   "cell_type": "code",
   "execution_count": 87,
   "id": "a646ea84-daf7-4b73-ac26-ff4e9f23c9c0",
   "metadata": {},
   "outputs": [
    {
     "name": "stderr",
     "output_type": "stream",
     "text": [
      "/tmp/ipykernel_36455/1384675483.py:8: FutureWarning: A value is trying to be set on a copy of a DataFrame or Series through chained assignment using an inplace method.\n",
      "The behavior will change in pandas 3.0. This inplace method will never work because the intermediate object on which we are setting values always behaves as a copy.\n",
      "\n",
      "For example, when doing 'df[col].method(value, inplace=True)', try using 'df.method({col: value}, inplace=True)' or df[col] = df[col].method(value) instead, to perform the operation inplace on the original object.\n",
      "\n",
      "\n",
      "  df_cleaned['City'].fillna(city_mode, inplace=True)\n"
     ]
    }
   ],
   "source": [
    "# Strip whitespace and replace empty strings with NaN\n",
    "df_cleaned['City'] = df_cleaned['City'].str.strip().replace('', np.nan)\n",
    "\n",
    "# Find the most frequent city (mode)\n",
    "city_mode = df_cleaned['City'].mode()[0]\n",
    "\n",
    "# Fill missing values with the mode\n",
    "df_cleaned['City'].fillna(city_mode, inplace=True)"
   ]
  },
  {
   "cell_type": "code",
   "execution_count": 88,
   "id": "31f9831e-021d-47af-92b2-af99aea94abc",
   "metadata": {},
   "outputs": [
    {
     "name": "stderr",
     "output_type": "stream",
     "text": [
      "/tmp/ipykernel_36455/145852233.py:3: FutureWarning: A value is trying to be set on a copy of a DataFrame or Series through chained assignment using an inplace method.\n",
      "The behavior will change in pandas 3.0. This inplace method will never work because the intermediate object on which we are setting values always behaves as a copy.\n",
      "\n",
      "For example, when doing 'df[col].method(value, inplace=True)', try using 'df.method({col: value}, inplace=True)' or df[col] = df[col].method(value) instead, to perform the operation inplace on the original object.\n",
      "\n",
      "\n",
      "  df_cleaned['Product'].fillna(product_mode, inplace=True)\n"
     ]
    }
   ],
   "source": [
    "# Fill missing Product values with the mode\n",
    "product_mode = df_cleaned['Product'].mode()[0]\n",
    "df_cleaned['Product'].fillna(product_mode, inplace=True)"
   ]
  },
  {
   "cell_type": "code",
   "execution_count": 89,
   "id": "04ed2138-e538-48a3-9f57-533d2d505075",
   "metadata": {},
   "outputs": [
    {
     "name": "stderr",
     "output_type": "stream",
     "text": [
      "/tmp/ipykernel_36455/994660288.py:11: FutureWarning: A value is trying to be set on a copy of a DataFrame or Series through chained assignment using an inplace method.\n",
      "The behavior will change in pandas 3.0. This inplace method will never work because the intermediate object on which we are setting values always behaves as a copy.\n",
      "\n",
      "For example, when doing 'df[col].method(value, inplace=True)', try using 'df.method({col: value}, inplace=True)' or df[col] = df[col].method(value) instead, to perform the operation inplace on the original object.\n",
      "\n",
      "\n",
      "  df_cleaned['Quantity'].fillna(median_quantity, inplace=True)\n"
     ]
    }
   ],
   "source": [
    "# Convert to numeric, coercing errors to NaN\n",
    "df_cleaned['Quantity'] = pd.to_numeric(df_cleaned['Quantity'], errors='coerce')\n",
    "\n",
    "# Convert negative quantities to positive\n",
    "df_cleaned['Quantity'] = df_cleaned['Quantity'].abs()\n",
    "\n",
    "# Calculate the median quantity\n",
    "median_quantity = df_cleaned['Quantity'].median()\n",
    "\n",
    "# Fill missing values with the median and convert to integer\n",
    "df_cleaned['Quantity'].fillna(median_quantity, inplace=True)\n",
    "df_cleaned['Quantity'] = df_cleaned['Quantity'].astype(int)"
   ]
  },
  {
   "cell_type": "code",
   "execution_count": null,
   "id": "8bee7a12-b2d9-48b9-8f62-49e081f3954e",
   "metadata": {},
   "outputs": [],
   "source": []
  }
 ],
 "metadata": {
  "kernelspec": {
   "display_name": "Python 3 (ipykernel)",
   "language": "python",
   "name": "python3"
  },
  "language_info": {
   "codemirror_mode": {
    "name": "ipython",
    "version": 3
   },
   "file_extension": ".py",
   "mimetype": "text/x-python",
   "name": "python",
   "nbconvert_exporter": "python",
   "pygments_lexer": "ipython3",
   "version": "3.13.5"
  }
 },
 "nbformat": 4,
 "nbformat_minor": 5
}
