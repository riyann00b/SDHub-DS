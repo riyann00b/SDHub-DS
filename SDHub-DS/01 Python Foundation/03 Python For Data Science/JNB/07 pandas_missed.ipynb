{
 "cells": [
  {
   "cell_type": "markdown",
   "metadata": {},
   "source": [
    "# Pandas Masterclass: A Comprehensive Review\n",
    "\n",
    "This notebook is a consolidated guide to the key Pandas concepts covered in notebooks `DS_Pandas_03`, `DS_Pandas_04`, `DSP`, and `DS_Pandas_06`. It's designed to get you up to speed with clear, easy-to-follow examples.\n",
    "\n",
    "**Learning Path:**\n",
    "1.  **DataFrame Fundamentals**: Creating and indexing DataFrames.\n",
    "2.  **Data Inspection & Basic Analysis**: Getting to know your data.\n",
    "3.  **Grouping & Aggregating**: Summarizing data to find insights.\n",
    "4.  **Time Series & String Manipulation**: Working with dates and text."
   ]
  },
  {
   "cell_type": "markdown",
   "metadata": {},
   "source": [
    "## Setup\n",
    "First, let's import the pandas library."
   ]
  },
  {
   "cell_type": "code",
   "execution_count": 3,
   "metadata": {},
   "outputs": [],
   "source": [
    "import pandas as pd\n",
    "import datetime"
   ]
  },
  {
   "cell_type": "markdown",
   "metadata": {},
   "source": [
    "## Part 1: DataFrame Fundamentals & Indexing\n",
    "\n",
    "This section covers how to select and retrieve data from a DataFrame. We'll start with the basics and then move to the powerful `.loc` and `.iloc` accessors."
   ]
  },
  {
   "cell_type": "code",
   "execution_count": 4,
   "metadata": {},
   "outputs": [
    {
     "name": "stdout",
     "output_type": "stream",
     "text": [
      "Initial DataFrame:\n"
     ]
    },
    {
     "data": {
      "text/html": [
       "<div>\n",
       "<style scoped>\n",
       "    .dataframe tbody tr th:only-of-type {\n",
       "        vertical-align: middle;\n",
       "    }\n",
       "\n",
       "    .dataframe tbody tr th {\n",
       "        vertical-align: top;\n",
       "    }\n",
       "\n",
       "    .dataframe thead th {\n",
       "        text-align: right;\n",
       "    }\n",
       "</style>\n",
       "<table border=\"1\" class=\"dataframe\">\n",
       "  <thead>\n",
       "    <tr style=\"text-align: right;\">\n",
       "      <th></th>\n",
       "      <th>Name</th>\n",
       "      <th>Age</th>\n",
       "      <th>Gender</th>\n",
       "      <th>Role</th>\n",
       "    </tr>\n",
       "  </thead>\n",
       "  <tbody>\n",
       "    <tr>\n",
       "      <th>0</th>\n",
       "      <td>Uwaish</td>\n",
       "      <td>22</td>\n",
       "      <td>M</td>\n",
       "      <td>Admin</td>\n",
       "    </tr>\n",
       "    <tr>\n",
       "      <th>1</th>\n",
       "      <td>Husain</td>\n",
       "      <td>23</td>\n",
       "      <td>M</td>\n",
       "      <td>Editor</td>\n",
       "    </tr>\n",
       "    <tr>\n",
       "      <th>2</th>\n",
       "      <td>Khan</td>\n",
       "      <td>24</td>\n",
       "      <td>F</td>\n",
       "      <td>Viewer</td>\n",
       "    </tr>\n",
       "    <tr>\n",
       "      <th>3</th>\n",
       "      <td>Salman</td>\n",
       "      <td>25</td>\n",
       "      <td>M</td>\n",
       "      <td>Editor</td>\n",
       "    </tr>\n",
       "  </tbody>\n",
       "</table>\n",
       "</div>"
      ],
      "text/plain": [
       "     Name  Age Gender    Role\n",
       "0  Uwaish   22      M   Admin\n",
       "1  Husain   23      M  Editor\n",
       "2    Khan   24      F  Viewer\n",
       "3  Salman   25      M  Editor"
      ]
     },
     "execution_count": 4,
     "metadata": {},
     "output_type": "execute_result"
    }
   ],
   "source": [
    "# Create a simple DataFrame to work with\n",
    "df = pd.DataFrame({\n",
    "    'Name':['Uwaish', 'Husain', 'Khan', 'Salman'],\n",
    "    'Age':[22, 23, 24, 25],\n",
    "    'Gender':['M', 'M', 'F', 'M'],\n",
    "    'Role': ['Admin', 'Editor', 'Viewer', 'Editor']\n",
    "})\n",
    "\n",
    "print(\"Initial DataFrame:\")\n",
    "df"
   ]
  },
  {
   "cell_type": "markdown",
   "metadata": {},
   "source": [
    "### Basic Selection\n",
    "\n",
    "While you can't select a single row with `df[0]` (which would raise a `KeyError`), you can select columns and slice rows."
   ]
  },
  {
   "cell_type": "code",
   "execution_count": 7,
   "metadata": {},
   "outputs": [
    {
     "name": "stdout",
     "output_type": "stream",
     "text": [
      "Selecting the 'Name' column:\n"
     ]
    },
    {
     "data": {
      "text/html": [
       "<div>\n",
       "<style scoped>\n",
       "    .dataframe tbody tr th:only-of-type {\n",
       "        vertical-align: middle;\n",
       "    }\n",
       "\n",
       "    .dataframe tbody tr th {\n",
       "        vertical-align: top;\n",
       "    }\n",
       "\n",
       "    .dataframe thead th {\n",
       "        text-align: right;\n",
       "    }\n",
       "</style>\n",
       "<table border=\"1\" class=\"dataframe\">\n",
       "  <thead>\n",
       "    <tr style=\"text-align: right;\">\n",
       "      <th></th>\n",
       "      <th>Name</th>\n",
       "    </tr>\n",
       "  </thead>\n",
       "  <tbody>\n",
       "    <tr>\n",
       "      <th>0</th>\n",
       "      <td>Uwaish</td>\n",
       "    </tr>\n",
       "    <tr>\n",
       "      <th>1</th>\n",
       "      <td>Husain</td>\n",
       "    </tr>\n",
       "    <tr>\n",
       "      <th>2</th>\n",
       "      <td>Khan</td>\n",
       "    </tr>\n",
       "    <tr>\n",
       "      <th>3</th>\n",
       "      <td>Salman</td>\n",
       "    </tr>\n",
       "  </tbody>\n",
       "</table>\n",
       "</div>"
      ],
      "text/plain": [
       "     Name\n",
       "0  Uwaish\n",
       "1  Husain\n",
       "2    Khan\n",
       "3  Salman"
      ]
     },
     "metadata": {},
     "output_type": "display_data"
    }
   ],
   "source": [
    "# Select a single column (returns a Series)\n",
    "print(\"Selecting the 'Name' column:\")\n",
    "display(df[['Name']])"
   ]
  },
  {
   "cell_type": "code",
   "execution_count": 8,
   "metadata": {},
   "outputs": [
    {
     "name": "stdout",
     "output_type": "stream",
     "text": [
      "\n",
      "Selecting 'Name' and 'Role' columns:\n"
     ]
    },
    {
     "data": {
      "text/html": [
       "<div>\n",
       "<style scoped>\n",
       "    .dataframe tbody tr th:only-of-type {\n",
       "        vertical-align: middle;\n",
       "    }\n",
       "\n",
       "    .dataframe tbody tr th {\n",
       "        vertical-align: top;\n",
       "    }\n",
       "\n",
       "    .dataframe thead th {\n",
       "        text-align: right;\n",
       "    }\n",
       "</style>\n",
       "<table border=\"1\" class=\"dataframe\">\n",
       "  <thead>\n",
       "    <tr style=\"text-align: right;\">\n",
       "      <th></th>\n",
       "      <th>Name</th>\n",
       "      <th>Role</th>\n",
       "    </tr>\n",
       "  </thead>\n",
       "  <tbody>\n",
       "    <tr>\n",
       "      <th>0</th>\n",
       "      <td>Uwaish</td>\n",
       "      <td>Admin</td>\n",
       "    </tr>\n",
       "    <tr>\n",
       "      <th>1</th>\n",
       "      <td>Husain</td>\n",
       "      <td>Editor</td>\n",
       "    </tr>\n",
       "    <tr>\n",
       "      <th>2</th>\n",
       "      <td>Khan</td>\n",
       "      <td>Viewer</td>\n",
       "    </tr>\n",
       "    <tr>\n",
       "      <th>3</th>\n",
       "      <td>Salman</td>\n",
       "      <td>Editor</td>\n",
       "    </tr>\n",
       "  </tbody>\n",
       "</table>\n",
       "</div>"
      ],
      "text/plain": [
       "     Name    Role\n",
       "0  Uwaish   Admin\n",
       "1  Husain  Editor\n",
       "2    Khan  Viewer\n",
       "3  Salman  Editor"
      ]
     },
     "metadata": {},
     "output_type": "display_data"
    }
   ],
   "source": [
    "# Select multiple columns (returns a DataFrame)\n",
    "print(\"\\nSelecting 'Name' and 'Role' columns:\")\n",
    "display(df[['Name', 'Role']])"
   ]
  },
  {
   "cell_type": "code",
   "execution_count": 9,
   "metadata": {},
   "outputs": [
    {
     "name": "stdout",
     "output_type": "stream",
     "text": [
      "\n",
      "Slicing the first 2 rows:\n"
     ]
    },
    {
     "data": {
      "text/html": [
       "<div>\n",
       "<style scoped>\n",
       "    .dataframe tbody tr th:only-of-type {\n",
       "        vertical-align: middle;\n",
       "    }\n",
       "\n",
       "    .dataframe tbody tr th {\n",
       "        vertical-align: top;\n",
       "    }\n",
       "\n",
       "    .dataframe thead th {\n",
       "        text-align: right;\n",
       "    }\n",
       "</style>\n",
       "<table border=\"1\" class=\"dataframe\">\n",
       "  <thead>\n",
       "    <tr style=\"text-align: right;\">\n",
       "      <th></th>\n",
       "      <th>Name</th>\n",
       "      <th>Age</th>\n",
       "      <th>Gender</th>\n",
       "      <th>Role</th>\n",
       "    </tr>\n",
       "  </thead>\n",
       "  <tbody>\n",
       "    <tr>\n",
       "      <th>0</th>\n",
       "      <td>Uwaish</td>\n",
       "      <td>22</td>\n",
       "      <td>M</td>\n",
       "      <td>Admin</td>\n",
       "    </tr>\n",
       "    <tr>\n",
       "      <th>1</th>\n",
       "      <td>Husain</td>\n",
       "      <td>23</td>\n",
       "      <td>M</td>\n",
       "      <td>Editor</td>\n",
       "    </tr>\n",
       "  </tbody>\n",
       "</table>\n",
       "</div>"
      ],
      "text/plain": [
       "     Name  Age Gender    Role\n",
       "0  Uwaish   22      M   Admin\n",
       "1  Husain   23      M  Editor"
      ]
     },
     "metadata": {},
     "output_type": "display_data"
    }
   ],
   "source": [
    "# Slice the first two rows\n",
    "print(\"\\nSlicing the first 2 rows:\")\n",
    "display(df[0:2])"
   ]
  },
  {
   "cell_type": "markdown",
   "metadata": {},
   "source": [
    "---\n",
    "### The Power of `.loc` and `.iloc`\n",
    "\n",
    "For more precise selections, Pandas provides two main accessors: `.iloc` and `.loc`. Understanding the difference is crucial.\n",
    "\n",
    "| Accessor | Selection Method      | Description                                      |\n",
    "|----------|-----------------------|--------------------------------------------------|\n",
    "| `.iloc`  | Integer-Position Based| Selects data based on its zero-indexed position.   |\n",
    "| `.loc`   | Label-Based           | Selects data based on the index label or name.   |\n",
    "\n",
    "---\n",
    "\n",
    "```mermaid\n",
    "graph TD\n",
    "    A[Start Selection] --> B{Want to select by...}\n",
    "    B --> C[Integer Position 0 1 2 etc]\n",
    "    B --> D[Index Label Uwaish A etc]\n",
    "    C --> E[Use .iloc]\n",
    "    D --> F[Use .loc]\n",
    "```"
   ]
  },
  {
   "cell_type": "markdown",
   "metadata": {},
   "source": [
    "#### Using `.iloc` (Integer-based selection)"
   ]
  },
  {
   "cell_type": "code",
   "execution_count": 42,
   "metadata": {},
   "outputs": [
    {
     "name": "stdout",
     "output_type": "stream",
     "text": [
      "First row:\n"
     ]
    },
    {
     "data": {
      "text/html": [
       "<div>\n",
       "<style scoped>\n",
       "    .dataframe tbody tr th:only-of-type {\n",
       "        vertical-align: middle;\n",
       "    }\n",
       "\n",
       "    .dataframe tbody tr th {\n",
       "        vertical-align: top;\n",
       "    }\n",
       "\n",
       "    .dataframe thead th {\n",
       "        text-align: right;\n",
       "    }\n",
       "</style>\n",
       "<table border=\"1\" class=\"dataframe\">\n",
       "  <thead>\n",
       "    <tr style=\"text-align: right;\">\n",
       "      <th></th>\n",
       "      <th>Name</th>\n",
       "      <th>Age</th>\n",
       "      <th>Gender</th>\n",
       "      <th>Role</th>\n",
       "    </tr>\n",
       "  </thead>\n",
       "  <tbody>\n",
       "    <tr>\n",
       "      <th>0</th>\n",
       "      <td>Uwaish</td>\n",
       "      <td>22</td>\n",
       "      <td>M</td>\n",
       "      <td>Admin</td>\n",
       "    </tr>\n",
       "  </tbody>\n",
       "</table>\n",
       "</div>"
      ],
      "text/plain": [
       "     Name  Age Gender   Role\n",
       "0  Uwaish   22      M  Admin"
      ]
     },
     "metadata": {},
     "output_type": "display_data"
    }
   ],
   "source": [
    "# Select the first row (index 0)\n",
    "print(\"First row:\")\n",
    "display(df.iloc[[0]])"
   ]
  },
  {
   "cell_type": "code",
   "execution_count": 8,
   "metadata": {},
   "outputs": [
    {
     "name": "stdout",
     "output_type": "stream",
     "text": [
      "\n",
      "First two rows:\n"
     ]
    },
    {
     "data": {
      "text/html": [
       "<div>\n",
       "<style scoped>\n",
       "    .dataframe tbody tr th:only-of-type {\n",
       "        vertical-align: middle;\n",
       "    }\n",
       "\n",
       "    .dataframe tbody tr th {\n",
       "        vertical-align: top;\n",
       "    }\n",
       "\n",
       "    .dataframe thead th {\n",
       "        text-align: right;\n",
       "    }\n",
       "</style>\n",
       "<table border=\"1\" class=\"dataframe\">\n",
       "  <thead>\n",
       "    <tr style=\"text-align: right;\">\n",
       "      <th></th>\n",
       "      <th>Name</th>\n",
       "      <th>Age</th>\n",
       "      <th>Gender</th>\n",
       "      <th>Role</th>\n",
       "    </tr>\n",
       "  </thead>\n",
       "  <tbody>\n",
       "    <tr>\n",
       "      <th>0</th>\n",
       "      <td>Uwaish</td>\n",
       "      <td>22</td>\n",
       "      <td>M</td>\n",
       "      <td>Admin</td>\n",
       "    </tr>\n",
       "    <tr>\n",
       "      <th>1</th>\n",
       "      <td>Husain</td>\n",
       "      <td>23</td>\n",
       "      <td>M</td>\n",
       "      <td>Editor</td>\n",
       "    </tr>\n",
       "  </tbody>\n",
       "</table>\n",
       "</div>"
      ],
      "text/plain": [
       "     Name  Age Gender    Role\n",
       "0  Uwaish   22      M   Admin\n",
       "1  Husain   23      M  Editor"
      ]
     },
     "metadata": {},
     "output_type": "display_data"
    }
   ],
   "source": [
    "# Select the first two rows (indices 0 and 1)\n",
    "print(\"\\nFirst two rows:\")\n",
    "display(df.iloc[0:2])"
   ]
  },
  {
   "cell_type": "code",
   "execution_count": 9,
   "metadata": {},
   "outputs": [
    {
     "name": "stdout",
     "output_type": "stream",
     "text": [
      "\n",
      "All rows, first two columns:\n"
     ]
    },
    {
     "data": {
      "text/html": [
       "<div>\n",
       "<style scoped>\n",
       "    .dataframe tbody tr th:only-of-type {\n",
       "        vertical-align: middle;\n",
       "    }\n",
       "\n",
       "    .dataframe tbody tr th {\n",
       "        vertical-align: top;\n",
       "    }\n",
       "\n",
       "    .dataframe thead th {\n",
       "        text-align: right;\n",
       "    }\n",
       "</style>\n",
       "<table border=\"1\" class=\"dataframe\">\n",
       "  <thead>\n",
       "    <tr style=\"text-align: right;\">\n",
       "      <th></th>\n",
       "      <th>Name</th>\n",
       "      <th>Age</th>\n",
       "    </tr>\n",
       "  </thead>\n",
       "  <tbody>\n",
       "    <tr>\n",
       "      <th>0</th>\n",
       "      <td>Uwaish</td>\n",
       "      <td>22</td>\n",
       "    </tr>\n",
       "    <tr>\n",
       "      <th>1</th>\n",
       "      <td>Husain</td>\n",
       "      <td>23</td>\n",
       "    </tr>\n",
       "    <tr>\n",
       "      <th>2</th>\n",
       "      <td>Khan</td>\n",
       "      <td>24</td>\n",
       "    </tr>\n",
       "    <tr>\n",
       "      <th>3</th>\n",
       "      <td>Salman</td>\n",
       "      <td>25</td>\n",
       "    </tr>\n",
       "  </tbody>\n",
       "</table>\n",
       "</div>"
      ],
      "text/plain": [
       "     Name  Age\n",
       "0  Uwaish   22\n",
       "1  Husain   23\n",
       "2    Khan   24\n",
       "3  Salman   25"
      ]
     },
     "metadata": {},
     "output_type": "display_data"
    }
   ],
   "source": [
    "# Select all rows, but only the first two columns (indices 0 and 1)\n",
    "print(\"\\nAll rows, first two columns:\")\n",
    "display(df.iloc[:, 0:2])"
   ]
  },
  {
   "cell_type": "markdown",
   "metadata": {},
   "source": [
    "#### Using `.loc` (Label-based selection)"
   ]
  },
  {
   "cell_type": "code",
   "execution_count": 15,
   "metadata": {},
   "outputs": [
    {
     "name": "stdout",
     "output_type": "stream",
     "text": [
      "DataFrame with 'Name' as index:\n"
     ]
    },
    {
     "data": {
      "text/html": [
       "<div>\n",
       "<style scoped>\n",
       "    .dataframe tbody tr th:only-of-type {\n",
       "        vertical-align: middle;\n",
       "    }\n",
       "\n",
       "    .dataframe tbody tr th {\n",
       "        vertical-align: top;\n",
       "    }\n",
       "\n",
       "    .dataframe thead th {\n",
       "        text-align: right;\n",
       "    }\n",
       "</style>\n",
       "<table border=\"1\" class=\"dataframe\">\n",
       "  <thead>\n",
       "    <tr style=\"text-align: right;\">\n",
       "      <th></th>\n",
       "      <th>Age</th>\n",
       "      <th>Gender</th>\n",
       "      <th>Role</th>\n",
       "    </tr>\n",
       "    <tr>\n",
       "      <th>Name</th>\n",
       "      <th></th>\n",
       "      <th></th>\n",
       "      <th></th>\n",
       "    </tr>\n",
       "  </thead>\n",
       "  <tbody>\n",
       "    <tr>\n",
       "      <th>Uwaish</th>\n",
       "      <td>22</td>\n",
       "      <td>M</td>\n",
       "      <td>Admin</td>\n",
       "    </tr>\n",
       "    <tr>\n",
       "      <th>Husain</th>\n",
       "      <td>23</td>\n",
       "      <td>M</td>\n",
       "      <td>Editor</td>\n",
       "    </tr>\n",
       "    <tr>\n",
       "      <th>Khan</th>\n",
       "      <td>24</td>\n",
       "      <td>F</td>\n",
       "      <td>Viewer</td>\n",
       "    </tr>\n",
       "    <tr>\n",
       "      <th>Salman</th>\n",
       "      <td>25</td>\n",
       "      <td>M</td>\n",
       "      <td>Editor</td>\n",
       "    </tr>\n",
       "  </tbody>\n",
       "</table>\n",
       "</div>"
      ],
      "text/plain": [
       "        Age Gender    Role\n",
       "Name                      \n",
       "Uwaish   22      M   Admin\n",
       "Husain   23      M  Editor\n",
       "Khan     24      F  Viewer\n",
       "Salman   25      M  Editor"
      ]
     },
     "metadata": {},
     "output_type": "display_data"
    }
   ],
   "source": [
    "# For this to be more powerful, let's set 'Name' as the index\n",
    "df_indexed = df.set_index('Name')\n",
    "print(\"DataFrame with 'Name' as index:\")\n",
    "display(df_indexed)"
   ]
  },
  {
   "cell_type": "code",
   "execution_count": 16,
   "metadata": {},
   "outputs": [
    {
     "name": "stdout",
     "output_type": "stream",
     "text": [
      "\n",
      "Select row with index label 'Uwaish':\n"
     ]
    },
    {
     "data": {
      "text/html": [
       "<div>\n",
       "<style scoped>\n",
       "    .dataframe tbody tr th:only-of-type {\n",
       "        vertical-align: middle;\n",
       "    }\n",
       "\n",
       "    .dataframe tbody tr th {\n",
       "        vertical-align: top;\n",
       "    }\n",
       "\n",
       "    .dataframe thead th {\n",
       "        text-align: right;\n",
       "    }\n",
       "</style>\n",
       "<table border=\"1\" class=\"dataframe\">\n",
       "  <thead>\n",
       "    <tr style=\"text-align: right;\">\n",
       "      <th></th>\n",
       "      <th>Age</th>\n",
       "      <th>Gender</th>\n",
       "      <th>Role</th>\n",
       "    </tr>\n",
       "    <tr>\n",
       "      <th>Name</th>\n",
       "      <th></th>\n",
       "      <th></th>\n",
       "      <th></th>\n",
       "    </tr>\n",
       "  </thead>\n",
       "  <tbody>\n",
       "    <tr>\n",
       "      <th>Uwaish</th>\n",
       "      <td>22</td>\n",
       "      <td>M</td>\n",
       "      <td>Admin</td>\n",
       "    </tr>\n",
       "  </tbody>\n",
       "</table>\n",
       "</div>"
      ],
      "text/plain": [
       "        Age Gender   Role\n",
       "Name                     \n",
       "Uwaish   22      M  Admin"
      ]
     },
     "metadata": {},
     "output_type": "display_data"
    }
   ],
   "source": [
    "# Select the row with the label 'Uwaish'\n",
    "print(\"\\nSelect row with index label 'Uwaish':\")\n",
    "display(df_indexed.loc[['Uwaish']])"
   ]
  },
  {
   "cell_type": "code",
   "execution_count": 17,
   "metadata": {},
   "outputs": [
    {
     "name": "stdout",
     "output_type": "stream",
     "text": [
      "\n",
      "All rows, 'Age' and 'Role' columns:\n"
     ]
    },
    {
     "data": {
      "text/html": [
       "<div>\n",
       "<style scoped>\n",
       "    .dataframe tbody tr th:only-of-type {\n",
       "        vertical-align: middle;\n",
       "    }\n",
       "\n",
       "    .dataframe tbody tr th {\n",
       "        vertical-align: top;\n",
       "    }\n",
       "\n",
       "    .dataframe thead th {\n",
       "        text-align: right;\n",
       "    }\n",
       "</style>\n",
       "<table border=\"1\" class=\"dataframe\">\n",
       "  <thead>\n",
       "    <tr style=\"text-align: right;\">\n",
       "      <th></th>\n",
       "      <th>Age</th>\n",
       "      <th>Role</th>\n",
       "    </tr>\n",
       "    <tr>\n",
       "      <th>Name</th>\n",
       "      <th></th>\n",
       "      <th></th>\n",
       "    </tr>\n",
       "  </thead>\n",
       "  <tbody>\n",
       "    <tr>\n",
       "      <th>Uwaish</th>\n",
       "      <td>22</td>\n",
       "      <td>Admin</td>\n",
       "    </tr>\n",
       "    <tr>\n",
       "      <th>Husain</th>\n",
       "      <td>23</td>\n",
       "      <td>Editor</td>\n",
       "    </tr>\n",
       "    <tr>\n",
       "      <th>Khan</th>\n",
       "      <td>24</td>\n",
       "      <td>Viewer</td>\n",
       "    </tr>\n",
       "    <tr>\n",
       "      <th>Salman</th>\n",
       "      <td>25</td>\n",
       "      <td>Editor</td>\n",
       "    </tr>\n",
       "  </tbody>\n",
       "</table>\n",
       "</div>"
      ],
      "text/plain": [
       "        Age    Role\n",
       "Name               \n",
       "Uwaish   22   Admin\n",
       "Husain   23  Editor\n",
       "Khan     24  Viewer\n",
       "Salman   25  Editor"
      ]
     },
     "metadata": {},
     "output_type": "display_data"
    }
   ],
   "source": [
    "# Select all rows, but only the 'Age' and 'Role' columns\n",
    "print(\"\\nAll rows, 'Age' and 'Role' columns:\")\n",
    "display(df_indexed.loc[:, ['Age', 'Role']])"
   ]
  },
  {
   "cell_type": "markdown",
   "metadata": {},
   "source": [
    "### Conditional Selection (Filtering)\n",
    "This is one of the most common tasks in data analysis."
   ]
  },
  {
   "cell_type": "code",
   "execution_count": 18,
   "metadata": {},
   "outputs": [
    {
     "name": "stdout",
     "output_type": "stream",
     "text": [
      "People older than 23:\n"
     ]
    },
    {
     "data": {
      "text/html": [
       "<div>\n",
       "<style scoped>\n",
       "    .dataframe tbody tr th:only-of-type {\n",
       "        vertical-align: middle;\n",
       "    }\n",
       "\n",
       "    .dataframe tbody tr th {\n",
       "        vertical-align: top;\n",
       "    }\n",
       "\n",
       "    .dataframe thead th {\n",
       "        text-align: right;\n",
       "    }\n",
       "</style>\n",
       "<table border=\"1\" class=\"dataframe\">\n",
       "  <thead>\n",
       "    <tr style=\"text-align: right;\">\n",
       "      <th></th>\n",
       "      <th>Name</th>\n",
       "      <th>Age</th>\n",
       "      <th>Gender</th>\n",
       "      <th>Role</th>\n",
       "    </tr>\n",
       "  </thead>\n",
       "  <tbody>\n",
       "    <tr>\n",
       "      <th>2</th>\n",
       "      <td>Khan</td>\n",
       "      <td>24</td>\n",
       "      <td>F</td>\n",
       "      <td>Viewer</td>\n",
       "    </tr>\n",
       "    <tr>\n",
       "      <th>3</th>\n",
       "      <td>Salman</td>\n",
       "      <td>25</td>\n",
       "      <td>M</td>\n",
       "      <td>Editor</td>\n",
       "    </tr>\n",
       "  </tbody>\n",
       "</table>\n",
       "</div>"
      ],
      "text/plain": [
       "     Name  Age Gender    Role\n",
       "2    Khan   24      F  Viewer\n",
       "3  Salman   25      M  Editor"
      ]
     },
     "metadata": {},
     "output_type": "display_data"
    }
   ],
   "source": [
    "# Find all people older than 23\n",
    "print(\"People older than 23:\")\n",
    "display(df[df['Age'] > 23])"
   ]
  },
  {
   "cell_type": "code",
   "execution_count": 49,
   "metadata": {},
   "outputs": [
    {
     "name": "stdout",
     "output_type": "stream",
     "text": [
      "\n",
      "Names of all Editors:\n"
     ]
    },
    {
     "data": {
      "text/plain": [
       "1    Husain\n",
       "3    Salman\n",
       "Name: Name, dtype: object"
      ]
     },
     "metadata": {},
     "output_type": "display_data"
    }
   ],
   "source": [
    "# Find the names of all 'Editors'\n",
    "print(\"\\nNames of all Editors:\")\n",
    "display(df.loc[df['Role'] == 'Editor', 'Name'])"
   ]
  },
  {
   "cell_type": "markdown",
   "metadata": {},
   "source": [
    "## Part 2: Data Inspection and Basic Analysis\n",
    "\n",
    "Before analyzing data, you must understand its structure. Here are the essential methods.\n",
    "Let's create a more realistic financial dataset for this part."
   ]
  },
  {
   "cell_type": "code",
   "execution_count": 22,
   "metadata": {},
   "outputs": [
    {
     "name": "stdout",
     "output_type": "stream",
     "text": [
      "Financial Sample DataFrame:\n"
     ]
    },
    {
     "data": {
      "text/html": [
       "<div>\n",
       "<style scoped>\n",
       "    .dataframe tbody tr th:only-of-type {\n",
       "        vertical-align: middle;\n",
       "    }\n",
       "\n",
       "    .dataframe tbody tr th {\n",
       "        vertical-align: top;\n",
       "    }\n",
       "\n",
       "    .dataframe thead th {\n",
       "        text-align: right;\n",
       "    }\n",
       "</style>\n",
       "<table border=\"1\" class=\"dataframe\">\n",
       "  <thead>\n",
       "    <tr style=\"text-align: right;\">\n",
       "      <th></th>\n",
       "      <th>Segment</th>\n",
       "      <th>Country</th>\n",
       "      <th>Product</th>\n",
       "      <th>Units Sold</th>\n",
       "      <th>Gross Sales</th>\n",
       "      <th>Profit</th>\n",
       "      <th>Date</th>\n",
       "    </tr>\n",
       "  </thead>\n",
       "  <tbody>\n",
       "    <tr>\n",
       "      <th>0</th>\n",
       "      <td>Government</td>\n",
       "      <td>Canada</td>\n",
       "      <td>Paseo</td>\n",
       "      <td>1618.5</td>\n",
       "      <td>32370.0</td>\n",
       "      <td>16185.00</td>\n",
       "      <td>2023-01-15</td>\n",
       "    </tr>\n",
       "    <tr>\n",
       "      <th>1</th>\n",
       "      <td>Midmarket</td>\n",
       "      <td>France</td>\n",
       "      <td>Velo</td>\n",
       "      <td>2178.0</td>\n",
       "      <td>32670.0</td>\n",
       "      <td>10890.00</td>\n",
       "      <td>2023-06-01</td>\n",
       "    </tr>\n",
       "    <tr>\n",
       "      <th>2</th>\n",
       "      <td>Government</td>\n",
       "      <td>Germany</td>\n",
       "      <td>Paseo</td>\n",
       "      <td>1321.0</td>\n",
       "      <td>26420.0</td>\n",
       "      <td>13210.00</td>\n",
       "      <td>2023-01-15</td>\n",
       "    </tr>\n",
       "    <tr>\n",
       "      <th>3</th>\n",
       "      <td>Enterprise</td>\n",
       "      <td>Mexico</td>\n",
       "      <td>VTT</td>\n",
       "      <td>888.0</td>\n",
       "      <td>13320.0</td>\n",
       "      <td>-4440.00</td>\n",
       "      <td>2022-11-20</td>\n",
       "    </tr>\n",
       "    <tr>\n",
       "      <th>4</th>\n",
       "      <td>Small Business</td>\n",
       "      <td>France</td>\n",
       "      <td>Amarilla</td>\n",
       "      <td>2475.0</td>\n",
       "      <td>742500.0</td>\n",
       "      <td>12375.00</td>\n",
       "      <td>2023-03-01</td>\n",
       "    </tr>\n",
       "    <tr>\n",
       "      <th>5</th>\n",
       "      <td>Government</td>\n",
       "      <td>Canada</td>\n",
       "      <td>Paseo</td>\n",
       "      <td>723.0</td>\n",
       "      <td>5061.0</td>\n",
       "      <td>686.85</td>\n",
       "      <td>2023-04-01</td>\n",
       "    </tr>\n",
       "  </tbody>\n",
       "</table>\n",
       "</div>"
      ],
      "text/plain": [
       "          Segment  Country   Product  Units Sold  Gross Sales    Profit  \\\n",
       "0      Government   Canada     Paseo      1618.5      32370.0  16185.00   \n",
       "1       Midmarket   France      Velo      2178.0      32670.0  10890.00   \n",
       "2      Government  Germany     Paseo      1321.0      26420.0  13210.00   \n",
       "3      Enterprise   Mexico       VTT       888.0      13320.0  -4440.00   \n",
       "4  Small Business   France  Amarilla      2475.0     742500.0  12375.00   \n",
       "5      Government   Canada     Paseo       723.0       5061.0    686.85   \n",
       "\n",
       "         Date  \n",
       "0  2023-01-15  \n",
       "1  2023-06-01  \n",
       "2  2023-01-15  \n",
       "3  2022-11-20  \n",
       "4  2023-03-01  \n",
       "5  2023-04-01  "
      ]
     },
     "execution_count": 22,
     "metadata": {},
     "output_type": "execute_result"
    }
   ],
   "source": [
    "fin_data = {\n",
    "    'Segment': ['Government', 'Midmarket', 'Government', 'Enterprise', 'Small Business', 'Government'],\n",
    "    'Country': ['Canada', 'France', 'Germany', 'Mexico', 'France', 'Canada'],\n",
    "    'Product': ['Paseo', 'Velo', 'Paseo', 'VTT', 'Amarilla', 'Paseo'],\n",
    "    'Units Sold': [1618.5, 2178.0, 1321.0, 888.0, 2475.0, 723.0],\n",
    "    'Gross Sales': [32370.0, 32670.0, 26420.0, 13320.0, 742500.0, 5061.0],\n",
    "    'Profit': [16185.0, 10890.0, 13210.0, -4440.0, 12375.0, 686.85],\n",
    "    'Date': ['2023-01-15', '2023-06-01', '2023-01-15', '2022-11-20', '2023-03-01', '2023-04-01']\n",
    "}\n",
    "fin_df = pd.DataFrame(fin_data)\n",
    "\n",
    "print(\"Financial Sample DataFrame:\")\n",
    "fin_df"
   ]
  },
  {
   "cell_type": "markdown",
   "metadata": {},
   "source": [
    "### Essential Inspection Methods"
   ]
  },
  {
   "cell_type": "code",
   "execution_count": 53,
   "metadata": {},
   "outputs": [
    {
     "name": "stdout",
     "output_type": "stream",
     "text": [
      "--- DataFrame Info ---\n",
      "<class 'pandas.core.frame.DataFrame'>\n",
      "RangeIndex: 6 entries, 0 to 5\n",
      "Data columns (total 10 columns):\n",
      " #   Column       Non-Null Count  Dtype         \n",
      "---  ------       --------------  -----         \n",
      " 0   Segment      6 non-null      object        \n",
      " 1   Country      6 non-null      object        \n",
      " 2   Product      6 non-null      object        \n",
      " 3   Units Sold   6 non-null      float64       \n",
      " 4   Gross Sales  6 non-null      float64       \n",
      " 5   Profit       6 non-null      float64       \n",
      " 6   Date         6 non-null      datetime64[ns]\n",
      " 7   Year         6 non-null      int32         \n",
      " 8   Month        6 non-null      int32         \n",
      " 9   Day_Name     6 non-null      object        \n",
      "dtypes: datetime64[ns](1), float64(3), int32(2), object(4)\n",
      "memory usage: 564.0+ bytes\n"
     ]
    }
   ],
   "source": [
    "# Get a concise summary of the DataFrame\n",
    "print(\"--- DataFrame Info ---\")\n",
    "\n",
    "fin_df.info()"
   ]
  },
  {
   "cell_type": "code",
   "execution_count": 56,
   "metadata": {},
   "outputs": [
    {
     "name": "stdout",
     "output_type": "stream",
     "text": [
      "\n",
      "--- First 3 Rows (head) ---\n"
     ]
    },
    {
     "data": {
      "text/html": [
       "<div>\n",
       "<style scoped>\n",
       "    .dataframe tbody tr th:only-of-type {\n",
       "        vertical-align: middle;\n",
       "    }\n",
       "\n",
       "    .dataframe tbody tr th {\n",
       "        vertical-align: top;\n",
       "    }\n",
       "\n",
       "    .dataframe thead th {\n",
       "        text-align: right;\n",
       "    }\n",
       "</style>\n",
       "<table border=\"1\" class=\"dataframe\">\n",
       "  <thead>\n",
       "    <tr style=\"text-align: right;\">\n",
       "      <th></th>\n",
       "      <th>Segment</th>\n",
       "      <th>Country</th>\n",
       "      <th>Product</th>\n",
       "      <th>Units Sold</th>\n",
       "      <th>Gross Sales</th>\n",
       "      <th>Profit</th>\n",
       "      <th>Date</th>\n",
       "      <th>Year</th>\n",
       "      <th>Month</th>\n",
       "      <th>Day_Name</th>\n",
       "    </tr>\n",
       "  </thead>\n",
       "  <tbody>\n",
       "    <tr>\n",
       "      <th>0</th>\n",
       "      <td>Government</td>\n",
       "      <td>Canada</td>\n",
       "      <td>Paseo</td>\n",
       "      <td>1618.5</td>\n",
       "      <td>32370.0</td>\n",
       "      <td>16185.0</td>\n",
       "      <td>2023-01-15</td>\n",
       "      <td>2023</td>\n",
       "      <td>1</td>\n",
       "      <td>Sunday</td>\n",
       "    </tr>\n",
       "    <tr>\n",
       "      <th>1</th>\n",
       "      <td>Midmarket</td>\n",
       "      <td>France</td>\n",
       "      <td>Velo</td>\n",
       "      <td>2178.0</td>\n",
       "      <td>32670.0</td>\n",
       "      <td>10890.0</td>\n",
       "      <td>2023-06-01</td>\n",
       "      <td>2023</td>\n",
       "      <td>6</td>\n",
       "      <td>Thursday</td>\n",
       "    </tr>\n",
       "    <tr>\n",
       "      <th>2</th>\n",
       "      <td>Government</td>\n",
       "      <td>Germany</td>\n",
       "      <td>Paseo</td>\n",
       "      <td>1321.0</td>\n",
       "      <td>26420.0</td>\n",
       "      <td>13210.0</td>\n",
       "      <td>2023-01-15</td>\n",
       "      <td>2023</td>\n",
       "      <td>1</td>\n",
       "      <td>Sunday</td>\n",
       "    </tr>\n",
       "  </tbody>\n",
       "</table>\n",
       "</div>"
      ],
      "text/plain": [
       "      Segment  Country Product  Units Sold  Gross Sales   Profit       Date  \\\n",
       "0  Government   Canada   Paseo      1618.5      32370.0  16185.0 2023-01-15   \n",
       "1   Midmarket   France    Velo      2178.0      32670.0  10890.0 2023-06-01   \n",
       "2  Government  Germany   Paseo      1321.0      26420.0  13210.0 2023-01-15   \n",
       "\n",
       "   Year  Month  Day_Name  \n",
       "0  2023      1    Sunday  \n",
       "1  2023      6  Thursday  \n",
       "2  2023      1    Sunday  "
      ]
     },
     "metadata": {},
     "output_type": "display_data"
    }
   ],
   "source": [
    "# View the first 3 rows\n",
    "print(\"\\n--- First 3 Rows (head) ---\")\n",
    "display(fin_df.head(3))"
   ]
  },
  {
   "cell_type": "code",
   "execution_count": 25,
   "metadata": {},
   "outputs": [
    {
     "name": "stdout",
     "output_type": "stream",
     "text": [
      "\n",
      "--- Numerical Description ---\n"
     ]
    },
    {
     "data": {
      "text/html": [
       "<div>\n",
       "<style scoped>\n",
       "    .dataframe tbody tr th:only-of-type {\n",
       "        vertical-align: middle;\n",
       "    }\n",
       "\n",
       "    .dataframe tbody tr th {\n",
       "        vertical-align: top;\n",
       "    }\n",
       "\n",
       "    .dataframe thead th {\n",
       "        text-align: right;\n",
       "    }\n",
       "</style>\n",
       "<table border=\"1\" class=\"dataframe\">\n",
       "  <thead>\n",
       "    <tr style=\"text-align: right;\">\n",
       "      <th></th>\n",
       "      <th>Units Sold</th>\n",
       "      <th>Gross Sales</th>\n",
       "      <th>Profit</th>\n",
       "    </tr>\n",
       "  </thead>\n",
       "  <tbody>\n",
       "    <tr>\n",
       "      <th>count</th>\n",
       "      <td>6.000000</td>\n",
       "      <td>6.000000</td>\n",
       "      <td>6.000000</td>\n",
       "    </tr>\n",
       "    <tr>\n",
       "      <th>mean</th>\n",
       "      <td>1533.916667</td>\n",
       "      <td>142056.833333</td>\n",
       "      <td>8151.141667</td>\n",
       "    </tr>\n",
       "    <tr>\n",
       "      <th>std</th>\n",
       "      <td>696.816074</td>\n",
       "      <td>294360.861848</td>\n",
       "      <td>8120.711177</td>\n",
       "    </tr>\n",
       "    <tr>\n",
       "      <th>min</th>\n",
       "      <td>723.000000</td>\n",
       "      <td>5061.000000</td>\n",
       "      <td>-4440.000000</td>\n",
       "    </tr>\n",
       "    <tr>\n",
       "      <th>25%</th>\n",
       "      <td>996.250000</td>\n",
       "      <td>16595.000000</td>\n",
       "      <td>3237.637500</td>\n",
       "    </tr>\n",
       "    <tr>\n",
       "      <th>50%</th>\n",
       "      <td>1469.750000</td>\n",
       "      <td>29395.000000</td>\n",
       "      <td>11632.500000</td>\n",
       "    </tr>\n",
       "    <tr>\n",
       "      <th>75%</th>\n",
       "      <td>2038.125000</td>\n",
       "      <td>32595.000000</td>\n",
       "      <td>13001.250000</td>\n",
       "    </tr>\n",
       "    <tr>\n",
       "      <th>max</th>\n",
       "      <td>2475.000000</td>\n",
       "      <td>742500.000000</td>\n",
       "      <td>16185.000000</td>\n",
       "    </tr>\n",
       "  </tbody>\n",
       "</table>\n",
       "</div>"
      ],
      "text/plain": [
       "        Units Sold    Gross Sales        Profit\n",
       "count     6.000000       6.000000      6.000000\n",
       "mean   1533.916667  142056.833333   8151.141667\n",
       "std     696.816074  294360.861848   8120.711177\n",
       "min     723.000000    5061.000000  -4440.000000\n",
       "25%     996.250000   16595.000000   3237.637500\n",
       "50%    1469.750000   29395.000000  11632.500000\n",
       "75%    2038.125000   32595.000000  13001.250000\n",
       "max    2475.000000  742500.000000  16185.000000"
      ]
     },
     "metadata": {},
     "output_type": "display_data"
    }
   ],
   "source": [
    "# Get statistical summary for numerical columns\n",
    "print(\"\\n--- Numerical Description ---\")\n",
    "display(fin_df.describe())"
   ]
  },
  {
   "cell_type": "code",
   "execution_count": 26,
   "metadata": {},
   "outputs": [
    {
     "name": "stdout",
     "output_type": "stream",
     "text": [
      "\n",
      "--- Categorical Description ---\n"
     ]
    },
    {
     "data": {
      "text/html": [
       "<div>\n",
       "<style scoped>\n",
       "    .dataframe tbody tr th:only-of-type {\n",
       "        vertical-align: middle;\n",
       "    }\n",
       "\n",
       "    .dataframe tbody tr th {\n",
       "        vertical-align: top;\n",
       "    }\n",
       "\n",
       "    .dataframe thead th {\n",
       "        text-align: right;\n",
       "    }\n",
       "</style>\n",
       "<table border=\"1\" class=\"dataframe\">\n",
       "  <thead>\n",
       "    <tr style=\"text-align: right;\">\n",
       "      <th></th>\n",
       "      <th>Segment</th>\n",
       "      <th>Country</th>\n",
       "      <th>Product</th>\n",
       "      <th>Date</th>\n",
       "    </tr>\n",
       "  </thead>\n",
       "  <tbody>\n",
       "    <tr>\n",
       "      <th>count</th>\n",
       "      <td>6</td>\n",
       "      <td>6</td>\n",
       "      <td>6</td>\n",
       "      <td>6</td>\n",
       "    </tr>\n",
       "    <tr>\n",
       "      <th>unique</th>\n",
       "      <td>4</td>\n",
       "      <td>4</td>\n",
       "      <td>4</td>\n",
       "      <td>5</td>\n",
       "    </tr>\n",
       "    <tr>\n",
       "      <th>top</th>\n",
       "      <td>Government</td>\n",
       "      <td>Canada</td>\n",
       "      <td>Paseo</td>\n",
       "      <td>2023-01-15</td>\n",
       "    </tr>\n",
       "    <tr>\n",
       "      <th>freq</th>\n",
       "      <td>3</td>\n",
       "      <td>2</td>\n",
       "      <td>3</td>\n",
       "      <td>2</td>\n",
       "    </tr>\n",
       "  </tbody>\n",
       "</table>\n",
       "</div>"
      ],
      "text/plain": [
       "           Segment Country Product        Date\n",
       "count            6       6       6           6\n",
       "unique           4       4       4           5\n",
       "top     Government  Canada   Paseo  2023-01-15\n",
       "freq             3       2       3           2"
      ]
     },
     "metadata": {},
     "output_type": "display_data"
    }
   ],
   "source": [
    "# Get summary for categorical (object) columns\n",
    "print(\"\\n--- Categorical Description ---\")\n",
    "display(fin_df.describe(include='object'))"
   ]
  },
  {
   "cell_type": "markdown",
   "metadata": {},
   "source": [
    "### Basic Calculations & Sorting"
   ]
  },
  {
   "cell_type": "code",
   "execution_count": 27,
   "metadata": {},
   "outputs": [
    {
     "name": "stdout",
     "output_type": "stream",
     "text": [
      "Total Profit: $48,906.85\n",
      "Average Units Sold: 1533.92\n"
     ]
    }
   ],
   "source": [
    "# Calculate total profit\n",
    "total_profit = fin_df['Profit'].sum()\n",
    "print(f\"Total Profit: ${total_profit:,.2f}\")\n",
    "\n",
    "# Calculate average units sold\n",
    "avg_units = fin_df['Units Sold'].mean()\n",
    "print(f\"Average Units Sold: {avg_units:.2f}\")"
   ]
  },
  {
   "cell_type": "code",
   "execution_count": 28,
   "metadata": {},
   "outputs": [
    {
     "name": "stdout",
     "output_type": "stream",
     "text": [
      "\n",
      "Top 3 Most Profitable Entries:\n"
     ]
    },
    {
     "data": {
      "text/html": [
       "<div>\n",
       "<style scoped>\n",
       "    .dataframe tbody tr th:only-of-type {\n",
       "        vertical-align: middle;\n",
       "    }\n",
       "\n",
       "    .dataframe tbody tr th {\n",
       "        vertical-align: top;\n",
       "    }\n",
       "\n",
       "    .dataframe thead th {\n",
       "        text-align: right;\n",
       "    }\n",
       "</style>\n",
       "<table border=\"1\" class=\"dataframe\">\n",
       "  <thead>\n",
       "    <tr style=\"text-align: right;\">\n",
       "      <th></th>\n",
       "      <th>Segment</th>\n",
       "      <th>Country</th>\n",
       "      <th>Product</th>\n",
       "      <th>Units Sold</th>\n",
       "      <th>Gross Sales</th>\n",
       "      <th>Profit</th>\n",
       "      <th>Date</th>\n",
       "    </tr>\n",
       "  </thead>\n",
       "  <tbody>\n",
       "    <tr>\n",
       "      <th>0</th>\n",
       "      <td>Government</td>\n",
       "      <td>Canada</td>\n",
       "      <td>Paseo</td>\n",
       "      <td>1618.5</td>\n",
       "      <td>32370.0</td>\n",
       "      <td>16185.0</td>\n",
       "      <td>2023-01-15</td>\n",
       "    </tr>\n",
       "    <tr>\n",
       "      <th>2</th>\n",
       "      <td>Government</td>\n",
       "      <td>Germany</td>\n",
       "      <td>Paseo</td>\n",
       "      <td>1321.0</td>\n",
       "      <td>26420.0</td>\n",
       "      <td>13210.0</td>\n",
       "      <td>2023-01-15</td>\n",
       "    </tr>\n",
       "    <tr>\n",
       "      <th>4</th>\n",
       "      <td>Small Business</td>\n",
       "      <td>France</td>\n",
       "      <td>Amarilla</td>\n",
       "      <td>2475.0</td>\n",
       "      <td>742500.0</td>\n",
       "      <td>12375.0</td>\n",
       "      <td>2023-03-01</td>\n",
       "    </tr>\n",
       "  </tbody>\n",
       "</table>\n",
       "</div>"
      ],
      "text/plain": [
       "          Segment  Country   Product  Units Sold  Gross Sales   Profit  \\\n",
       "0      Government   Canada     Paseo      1618.5      32370.0  16185.0   \n",
       "2      Government  Germany     Paseo      1321.0      26420.0  13210.0   \n",
       "4  Small Business   France  Amarilla      2475.0     742500.0  12375.0   \n",
       "\n",
       "         Date  \n",
       "0  2023-01-15  \n",
       "2  2023-01-15  \n",
       "4  2023-03-01  "
      ]
     },
     "metadata": {},
     "output_type": "display_data"
    }
   ],
   "source": [
    "# Sort by profit in descending order to see the most profitable entries\n",
    "print(\"\\nTop 3 Most Profitable Entries:\")\n",
    "display(fin_df.sort_values('Profit', ascending=False).head(3))"
   ]
  },
  {
   "cell_type": "markdown",
   "metadata": {},
   "source": [
    "## Part 3: Grouping & Aggregating Data\n",
    "\n",
    "`groupby` is a powerful method that follows the **Split-Apply-Combine** strategy to perform complex analysis."
   ]
  },
  {
   "cell_type": "markdown",
   "metadata": {},
   "source": [
    "```mermaid\n",
    "graph TD\n",
    "    A[DataFrame] -->|Split by Product| B(Group 1: Paseo)\n",
    "    A -->|Split by Product| C(Group 2: Velo)\n",
    "    A -->|Split by Product| D(Group 3: Others)\n",
    "    B -->|Apply sum to Profit| B1[Sum of Paseo Profits]\n",
    "    C -->|Apply sum to Profit| C1[Sum of Velo Profits]\n",
    "    D -->|Apply sum to Profit| D1[Sum of Other Profits]\n",
    "    B1 --> E{Combine}\n",
    "    C1 --> E\n",
    "    D1 --> E\n",
    "    E --> F[Result: Series of Total Profits by Product]\n",
    "```"
   ]
  },
  {
   "cell_type": "markdown",
   "metadata": {},
   "source": [
    "### `.groupby()`\n",
    "Let's see it in action."
   ]
  },
  {
   "cell_type": "code",
   "execution_count": 29,
   "metadata": {},
   "outputs": [
    {
     "name": "stdout",
     "output_type": "stream",
     "text": [
      "--- Total Profit by Product ---\n"
     ]
    },
    {
     "data": {
      "text/plain": [
       "Product\n",
       "Amarilla    12375.00\n",
       "Paseo       30081.85\n",
       "VTT         -4440.00\n",
       "Velo        10890.00\n",
       "Name: Profit, dtype: float64"
      ]
     },
     "metadata": {},
     "output_type": "display_data"
    }
   ],
   "source": [
    "# Group by product and calculate the sum of profits for each\n",
    "profit_by_product = fin_df.groupby('Product')['Profit'].sum()\n",
    "print(\"--- Total Profit by Product ---\")\n",
    "display(profit_by_product)"
   ]
  },
  {
   "cell_type": "code",
   "execution_count": 30,
   "metadata": {},
   "outputs": [
    {
     "name": "stdout",
     "output_type": "stream",
     "text": [
      "\n",
      "--- Mean Sales and Total Units by Segment and Country ---\n"
     ]
    },
    {
     "data": {
      "text/html": [
       "<div>\n",
       "<style scoped>\n",
       "    .dataframe tbody tr th:only-of-type {\n",
       "        vertical-align: middle;\n",
       "    }\n",
       "\n",
       "    .dataframe tbody tr th {\n",
       "        vertical-align: top;\n",
       "    }\n",
       "\n",
       "    .dataframe thead th {\n",
       "        text-align: right;\n",
       "    }\n",
       "</style>\n",
       "<table border=\"1\" class=\"dataframe\">\n",
       "  <thead>\n",
       "    <tr style=\"text-align: right;\">\n",
       "      <th></th>\n",
       "      <th></th>\n",
       "      <th>Gross Sales</th>\n",
       "      <th>Units Sold</th>\n",
       "    </tr>\n",
       "    <tr>\n",
       "      <th>Segment</th>\n",
       "      <th>Country</th>\n",
       "      <th></th>\n",
       "      <th></th>\n",
       "    </tr>\n",
       "  </thead>\n",
       "  <tbody>\n",
       "    <tr>\n",
       "      <th>Enterprise</th>\n",
       "      <th>Mexico</th>\n",
       "      <td>13320.0</td>\n",
       "      <td>888.0</td>\n",
       "    </tr>\n",
       "    <tr>\n",
       "      <th rowspan=\"2\" valign=\"top\">Government</th>\n",
       "      <th>Canada</th>\n",
       "      <td>18715.5</td>\n",
       "      <td>2341.5</td>\n",
       "    </tr>\n",
       "    <tr>\n",
       "      <th>Germany</th>\n",
       "      <td>26420.0</td>\n",
       "      <td>1321.0</td>\n",
       "    </tr>\n",
       "    <tr>\n",
       "      <th>Midmarket</th>\n",
       "      <th>France</th>\n",
       "      <td>32670.0</td>\n",
       "      <td>2178.0</td>\n",
       "    </tr>\n",
       "    <tr>\n",
       "      <th>Small Business</th>\n",
       "      <th>France</th>\n",
       "      <td>742500.0</td>\n",
       "      <td>2475.0</td>\n",
       "    </tr>\n",
       "  </tbody>\n",
       "</table>\n",
       "</div>"
      ],
      "text/plain": [
       "                        Gross Sales  Units Sold\n",
       "Segment        Country                         \n",
       "Enterprise     Mexico       13320.0       888.0\n",
       "Government     Canada       18715.5      2341.5\n",
       "               Germany      26420.0      1321.0\n",
       "Midmarket      France       32670.0      2178.0\n",
       "Small Business France      742500.0      2475.0"
      ]
     },
     "metadata": {},
     "output_type": "display_data"
    }
   ],
   "source": [
    "# Group by multiple columns: Segment and Country\n",
    "# Calculate the mean 'Gross Sales' and total 'Units Sold'\n",
    "agg_funcs = {'Gross Sales': 'mean', 'Units Sold': 'sum'}\n",
    "multi_group = fin_df.groupby(['Segment', 'Country']).agg(agg_funcs)\n",
    "\n",
    "print(\"\\n--- Mean Sales and Total Units by Segment and Country ---\")\n",
    "display(multi_group)"
   ]
  },
  {
   "cell_type": "markdown",
   "metadata": {},
   "source": [
    "### Reshaping Data with `.pivot_table()` and `pd.crosstab()`"
   ]
  },
  {
   "cell_type": "code",
   "execution_count": 31,
   "metadata": {},
   "outputs": [
    {
     "name": "stdout",
     "output_type": "stream",
     "text": [
      "--- Pivot Table: Total Profit ---\n"
     ]
    },
    {
     "data": {
      "text/html": [
       "<div>\n",
       "<style scoped>\n",
       "    .dataframe tbody tr th:only-of-type {\n",
       "        vertical-align: middle;\n",
       "    }\n",
       "\n",
       "    .dataframe tbody tr th {\n",
       "        vertical-align: top;\n",
       "    }\n",
       "\n",
       "    .dataframe thead th {\n",
       "        text-align: right;\n",
       "    }\n",
       "</style>\n",
       "<table border=\"1\" class=\"dataframe\">\n",
       "  <thead>\n",
       "    <tr style=\"text-align: right;\">\n",
       "      <th>Segment</th>\n",
       "      <th>Enterprise</th>\n",
       "      <th>Government</th>\n",
       "      <th>Midmarket</th>\n",
       "      <th>Small Business</th>\n",
       "    </tr>\n",
       "    <tr>\n",
       "      <th>Product</th>\n",
       "      <th></th>\n",
       "      <th></th>\n",
       "      <th></th>\n",
       "      <th></th>\n",
       "    </tr>\n",
       "  </thead>\n",
       "  <tbody>\n",
       "    <tr>\n",
       "      <th>Amarilla</th>\n",
       "      <td>NaN</td>\n",
       "      <td>NaN</td>\n",
       "      <td>NaN</td>\n",
       "      <td>12375.0</td>\n",
       "    </tr>\n",
       "    <tr>\n",
       "      <th>Paseo</th>\n",
       "      <td>NaN</td>\n",
       "      <td>30081.85</td>\n",
       "      <td>NaN</td>\n",
       "      <td>NaN</td>\n",
       "    </tr>\n",
       "    <tr>\n",
       "      <th>VTT</th>\n",
       "      <td>-4440.0</td>\n",
       "      <td>NaN</td>\n",
       "      <td>NaN</td>\n",
       "      <td>NaN</td>\n",
       "    </tr>\n",
       "    <tr>\n",
       "      <th>Velo</th>\n",
       "      <td>NaN</td>\n",
       "      <td>NaN</td>\n",
       "      <td>10890.0</td>\n",
       "      <td>NaN</td>\n",
       "    </tr>\n",
       "  </tbody>\n",
       "</table>\n",
       "</div>"
      ],
      "text/plain": [
       "Segment   Enterprise  Government  Midmarket  Small Business\n",
       "Product                                                    \n",
       "Amarilla         NaN         NaN        NaN         12375.0\n",
       "Paseo            NaN    30081.85        NaN             NaN\n",
       "VTT          -4440.0         NaN        NaN             NaN\n",
       "Velo             NaN         NaN    10890.0             NaN"
      ]
     },
     "metadata": {},
     "output_type": "display_data"
    }
   ],
   "source": [
    "# Create a pivot table to see total profit for each product across different segments\n",
    "pivot = fin_df.pivot_table(index='Product', columns='Segment', values='Profit', aggfunc='sum')\n",
    "print(\"--- Pivot Table: Total Profit ---\")\n",
    "display(pivot)"
   ]
  },
  {
   "cell_type": "code",
   "execution_count": 32,
   "metadata": {},
   "outputs": [
    {
     "name": "stdout",
     "output_type": "stream",
     "text": [
      "\n",
      "--- Crosstab: Product Count by Country ---\n"
     ]
    },
    {
     "data": {
      "text/html": [
       "<div>\n",
       "<style scoped>\n",
       "    .dataframe tbody tr th:only-of-type {\n",
       "        vertical-align: middle;\n",
       "    }\n",
       "\n",
       "    .dataframe tbody tr th {\n",
       "        vertical-align: top;\n",
       "    }\n",
       "\n",
       "    .dataframe thead th {\n",
       "        text-align: right;\n",
       "    }\n",
       "</style>\n",
       "<table border=\"1\" class=\"dataframe\">\n",
       "  <thead>\n",
       "    <tr style=\"text-align: right;\">\n",
       "      <th>Country</th>\n",
       "      <th>Canada</th>\n",
       "      <th>France</th>\n",
       "      <th>Germany</th>\n",
       "      <th>Mexico</th>\n",
       "    </tr>\n",
       "    <tr>\n",
       "      <th>Product</th>\n",
       "      <th></th>\n",
       "      <th></th>\n",
       "      <th></th>\n",
       "      <th></th>\n",
       "    </tr>\n",
       "  </thead>\n",
       "  <tbody>\n",
       "    <tr>\n",
       "      <th>Amarilla</th>\n",
       "      <td>0</td>\n",
       "      <td>1</td>\n",
       "      <td>0</td>\n",
       "      <td>0</td>\n",
       "    </tr>\n",
       "    <tr>\n",
       "      <th>Paseo</th>\n",
       "      <td>2</td>\n",
       "      <td>0</td>\n",
       "      <td>1</td>\n",
       "      <td>0</td>\n",
       "    </tr>\n",
       "    <tr>\n",
       "      <th>VTT</th>\n",
       "      <td>0</td>\n",
       "      <td>0</td>\n",
       "      <td>0</td>\n",
       "      <td>1</td>\n",
       "    </tr>\n",
       "    <tr>\n",
       "      <th>Velo</th>\n",
       "      <td>0</td>\n",
       "      <td>1</td>\n",
       "      <td>0</td>\n",
       "      <td>0</td>\n",
       "    </tr>\n",
       "  </tbody>\n",
       "</table>\n",
       "</div>"
      ],
      "text/plain": [
       "Country   Canada  France  Germany  Mexico\n",
       "Product                                  \n",
       "Amarilla       0       1        0       0\n",
       "Paseo          2       0        1       0\n",
       "VTT            0       0        0       1\n",
       "Velo           0       1        0       0"
      ]
     },
     "metadata": {},
     "output_type": "display_data"
    }
   ],
   "source": [
    "# Use crosstab to count the frequency of products in each country\n",
    "xtab = pd.crosstab(fin_df['Product'], fin_df['Country'])\n",
    "print(\"\\n--- Crosstab: Product Count by Country ---\")\n",
    "display(xtab)"
   ]
  },
  {
   "cell_type": "markdown",
   "metadata": {},
   "source": [
    "### Counting Unique Values\n",
    "The `.value_counts()` method is a handy shortcut for counting occurrences in a single column."
   ]
  },
  {
   "cell_type": "code",
   "execution_count": 33,
   "metadata": {},
   "outputs": [
    {
     "name": "stdout",
     "output_type": "stream",
     "text": [
      "Counts of each product sold:\n"
     ]
    },
    {
     "data": {
      "text/plain": [
       "Product\n",
       "Paseo       3\n",
       "Velo        1\n",
       "VTT         1\n",
       "Amarilla    1\n",
       "Name: count, dtype: int64"
      ]
     },
     "execution_count": 33,
     "metadata": {},
     "output_type": "execute_result"
    }
   ],
   "source": [
    "print(\"Counts of each product sold:\")\n",
    "fin_df['Product'].value_counts()"
   ]
  },
  {
   "cell_type": "markdown",
   "metadata": {},
   "source": [
    "## Part 4: Working with Time Series and Strings\n",
    "\n",
    "Pandas has excellent, built-in capabilities for handling dates and text data using the `.dt` and `.str` accessors."
   ]
  },
  {
   "cell_type": "markdown",
   "metadata": {},
   "source": [
    "### Time Series with the `.dt` Accessor"
   ]
  },
  {
   "cell_type": "code",
   "execution_count": 34,
   "metadata": {},
   "outputs": [
    {
     "name": "stdout",
     "output_type": "stream",
     "text": [
      "Original 'Date' dtype: object\n",
      "Converted 'Date' dtype: datetime64[ns]\n"
     ]
    }
   ],
   "source": [
    "# First, ensure the 'Date' column is in datetime format\n",
    "print(f\"Original 'Date' dtype: {fin_df['Date'].dtype}\")\n",
    "fin_df['Date'] = pd.to_datetime(fin_df['Date'])\n",
    "print(f\"Converted 'Date' dtype: {fin_df['Date'].dtype}\")"
   ]
  },
  {
   "cell_type": "code",
   "execution_count": 35,
   "metadata": {},
   "outputs": [
    {
     "name": "stdout",
     "output_type": "stream",
     "text": [
      "\n",
      "DataFrame with new date columns:\n"
     ]
    },
    {
     "data": {
      "text/html": [
       "<div>\n",
       "<style scoped>\n",
       "    .dataframe tbody tr th:only-of-type {\n",
       "        vertical-align: middle;\n",
       "    }\n",
       "\n",
       "    .dataframe tbody tr th {\n",
       "        vertical-align: top;\n",
       "    }\n",
       "\n",
       "    .dataframe thead th {\n",
       "        text-align: right;\n",
       "    }\n",
       "</style>\n",
       "<table border=\"1\" class=\"dataframe\">\n",
       "  <thead>\n",
       "    <tr style=\"text-align: right;\">\n",
       "      <th></th>\n",
       "      <th>Date</th>\n",
       "      <th>Year</th>\n",
       "      <th>Month</th>\n",
       "      <th>Day_Name</th>\n",
       "    </tr>\n",
       "  </thead>\n",
       "  <tbody>\n",
       "    <tr>\n",
       "      <th>0</th>\n",
       "      <td>2023-01-15</td>\n",
       "      <td>2023</td>\n",
       "      <td>1</td>\n",
       "      <td>Sunday</td>\n",
       "    </tr>\n",
       "    <tr>\n",
       "      <th>1</th>\n",
       "      <td>2023-06-01</td>\n",
       "      <td>2023</td>\n",
       "      <td>6</td>\n",
       "      <td>Thursday</td>\n",
       "    </tr>\n",
       "    <tr>\n",
       "      <th>2</th>\n",
       "      <td>2023-01-15</td>\n",
       "      <td>2023</td>\n",
       "      <td>1</td>\n",
       "      <td>Sunday</td>\n",
       "    </tr>\n",
       "    <tr>\n",
       "      <th>3</th>\n",
       "      <td>2022-11-20</td>\n",
       "      <td>2022</td>\n",
       "      <td>11</td>\n",
       "      <td>Sunday</td>\n",
       "    </tr>\n",
       "    <tr>\n",
       "      <th>4</th>\n",
       "      <td>2023-03-01</td>\n",
       "      <td>2023</td>\n",
       "      <td>3</td>\n",
       "      <td>Wednesday</td>\n",
       "    </tr>\n",
       "  </tbody>\n",
       "</table>\n",
       "</div>"
      ],
      "text/plain": [
       "        Date  Year  Month   Day_Name\n",
       "0 2023-01-15  2023      1     Sunday\n",
       "1 2023-06-01  2023      6   Thursday\n",
       "2 2023-01-15  2023      1     Sunday\n",
       "3 2022-11-20  2022     11     Sunday\n",
       "4 2023-03-01  2023      3  Wednesday"
      ]
     },
     "metadata": {},
     "output_type": "display_data"
    }
   ],
   "source": [
    "# Now we can use the .dt accessor to extract parts of the date\n",
    "fin_df['Year'] = fin_df['Date'].dt.year\n",
    "fin_df['Month'] = fin_df['Date'].dt.month\n",
    "fin_df['Day_Name'] = fin_df['Date'].dt.day_name()\n",
    "\n",
    "print(\"\\nDataFrame with new date columns:\")\n",
    "display(fin_df[['Date', 'Year', 'Month', 'Day_Name']].head())"
   ]
  },
  {
   "cell_type": "markdown",
   "metadata": {},
   "source": [
    "#### Practical Example: Calculating Age"
   ]
  },
  {
   "cell_type": "code",
   "execution_count": 39,
   "metadata": {},
   "outputs": [
    {
     "name": "stdout",
     "output_type": "stream",
     "text": [
      "Calculated ages:\n",
      "      Name     DOB_str        DOB  Age\n",
      "0    Alice  10-10-1997 1997-10-10   27\n",
      "1      Bob  05-12-2002 2002-12-05   22\n",
      "2  Charlie  01-02-2000 2000-02-01   25\n"
     ]
    }
   ],
   "source": [
    "import pandas as pd\n",
    "import datetime\n",
    "\n",
    "# Create a DataFrame with birth dates\n",
    "dob_df = pd.DataFrame({\n",
    "    'Name': ['Alice', 'Bob', 'Charlie'],\n",
    "    'DOB_str': ['10-10-1997', '05-12-2002', '01-02-2000']\n",
    "})\n",
    "\n",
    "# Convert DOB string to datetime\n",
    "dob_df['DOB'] = pd.to_datetime(dob_df['DOB_str'], format='%d-%m-%Y')\n",
    "\n",
    "# Calculate Age\n",
    "today = pd.to_datetime(datetime.date.today())\n",
    "dob_df['Age'] = (today - dob_df['DOB']).dt.days // 365\n",
    "\n",
    "print(\"Calculated ages:\")\n",
    "print(dob_df)"
   ]
  },
  {
   "cell_type": "markdown",
   "metadata": {},
   "source": [
    "### String Manipulation with the `.str` Accessor"
   ]
  },
  {
   "cell_type": "code",
   "execution_count": 59,
   "metadata": {},
   "outputs": [
    {
     "name": "stdout",
     "output_type": "stream",
     "text": [
      "Original 'Role' column:\n"
     ]
    },
    {
     "data": {
      "text/html": [
       "<div>\n",
       "<style scoped>\n",
       "    .dataframe tbody tr th:only-of-type {\n",
       "        vertical-align: middle;\n",
       "    }\n",
       "\n",
       "    .dataframe tbody tr th {\n",
       "        vertical-align: top;\n",
       "    }\n",
       "\n",
       "    .dataframe thead th {\n",
       "        text-align: right;\n",
       "    }\n",
       "</style>\n",
       "<table border=\"1\" class=\"dataframe\">\n",
       "  <thead>\n",
       "    <tr style=\"text-align: right;\">\n",
       "      <th></th>\n",
       "      <th>Role</th>\n",
       "    </tr>\n",
       "  </thead>\n",
       "  <tbody>\n",
       "    <tr>\n",
       "      <th>0</th>\n",
       "      <td>Admin</td>\n",
       "    </tr>\n",
       "    <tr>\n",
       "      <th>1</th>\n",
       "      <td>Editor</td>\n",
       "    </tr>\n",
       "    <tr>\n",
       "      <th>2</th>\n",
       "      <td>Viewer</td>\n",
       "    </tr>\n",
       "    <tr>\n",
       "      <th>3</th>\n",
       "      <td>Editor</td>\n",
       "    </tr>\n",
       "  </tbody>\n",
       "</table>\n",
       "</div>"
      ],
      "text/plain": [
       "     Role\n",
       "0   Admin\n",
       "1  Editor\n",
       "2  Viewer\n",
       "3  Editor"
      ]
     },
     "metadata": {},
     "output_type": "display_data"
    },
    {
     "name": "stdout",
     "output_type": "stream",
     "text": [
      "\n",
      "Lowercase 'Role' column:\n"
     ]
    },
    {
     "data": {
      "text/plain": [
       "0     admin\n",
       "1    editor\n",
       "2    viewer\n",
       "3    editor\n",
       "Name: Role, dtype: object"
      ]
     },
     "metadata": {},
     "output_type": "display_data"
    }
   ],
   "source": [
    "# Let's use our first DataFrame\n",
    "print(\"Original 'Role' column:\")\n",
    "display(df[['Role']])\n",
    "\n",
    "# Convert to lowercase\n",
    "print(\"\\nLowercase 'Role' column:\")\n",
    "display(df['Role'].str.lower())"
   ]
  },
  {
   "cell_type": "code",
   "execution_count": 38,
   "metadata": {},
   "outputs": [
    {
     "name": "stdout",
     "output_type": "stream",
     "text": [
      "Splitting email into Username and Domain:\n"
     ]
    },
    {
     "data": {
      "text/html": [
       "<div>\n",
       "<style scoped>\n",
       "    .dataframe tbody tr th:only-of-type {\n",
       "        vertical-align: middle;\n",
       "    }\n",
       "\n",
       "    .dataframe tbody tr th {\n",
       "        vertical-align: top;\n",
       "    }\n",
       "\n",
       "    .dataframe thead th {\n",
       "        text-align: right;\n",
       "    }\n",
       "</style>\n",
       "<table border=\"1\" class=\"dataframe\">\n",
       "  <thead>\n",
       "    <tr style=\"text-align: right;\">\n",
       "      <th></th>\n",
       "      <th>Email</th>\n",
       "      <th>Username</th>\n",
       "      <th>Domain</th>\n",
       "    </tr>\n",
       "  </thead>\n",
       "  <tbody>\n",
       "    <tr>\n",
       "      <th>0</th>\n",
       "      <td>Uwaish@deloitte.com</td>\n",
       "      <td>Uwaish</td>\n",
       "      <td>deloitte.com</td>\n",
       "    </tr>\n",
       "    <tr>\n",
       "      <th>1</th>\n",
       "      <td>Husain@gmail.com</td>\n",
       "      <td>Husain</td>\n",
       "      <td>gmail.com</td>\n",
       "    </tr>\n",
       "    <tr>\n",
       "      <th>2</th>\n",
       "      <td>Aisha@sdhub.in</td>\n",
       "      <td>Aisha</td>\n",
       "      <td>sdhub.in</td>\n",
       "    </tr>\n",
       "  </tbody>\n",
       "</table>\n",
       "</div>"
      ],
      "text/plain": [
       "                 Email Username        Domain\n",
       "0  Uwaish@deloitte.com   Uwaish  deloitte.com\n",
       "1     Husain@gmail.com   Husain     gmail.com\n",
       "2       Aisha@sdhub.in    Aisha      sdhub.in"
      ]
     },
     "metadata": {},
     "output_type": "display_data"
    }
   ],
   "source": [
    "# A powerful use case: splitting a column\n",
    "email_df = pd.DataFrame({'Email':['Uwaish@deloitte.com', 'Husain@gmail.com', 'Aisha@sdhub.in']})\n",
    "\n",
    "print(\"Splitting email into Username and Domain:\")\n",
    "email_df[['Username', 'Domain']] = email_df['Email'].str.split('@', expand=True)\n",
    "display(email_df)"
   ]
  },
  {
   "cell_type": "markdown",
   "metadata": {},
   "source": [
    "## Conclusion\n",
    "\n",
    "This notebook has walked you through the essentials of Pandas, from basic data selection to advanced aggregation and manipulation techniques. Key takeaways include:\n",
    "\n",
    "1.  **Selection is Key**: Use `[]` for simple column selection/row slicing, but prefer `.loc` (label-based) and `.iloc` (integer-based) for precise and unambiguous selections.\n",
    "2.  **Inspect Your Data**: Always start a project with `.info()`, `.describe()`, and `.head()` to understand the data's structure, types, and content.\n",
    "3.  **Group and Aggregate**: The `groupby()` method is your primary tool for summarizing data and uncovering patterns.\n",
    "4.  **Leverage Accessors**: Use the `.dt` accessor for date/time operations and the `.str` accessor for text manipulation to write clean and efficient code.\n",
    "\n",
    "By mastering these concepts, you have a solid foundation for tackling almost any data analysis task with Pandas."
   ]
  },
  {
   "cell_type": "code",
   "execution_count": null,
   "metadata": {},
   "outputs": [],
   "source": []
  }
 ],
 "metadata": {
  "kernelspec": {
   "display_name": "Python 3 (ipykernel)",
   "language": "python",
   "name": "python3"
  },
  "language_info": {
   "codemirror_mode": {
    "name": "ipython",
    "version": 3
   },
   "file_extension": ".py",
   "mimetype": "text/x-python",
   "name": "python",
   "nbconvert_exporter": "python",
   "pygments_lexer": "ipython3",
   "version": "3.13.5"
  }
 },
 "nbformat": 4,
 "nbformat_minor": 4
}
