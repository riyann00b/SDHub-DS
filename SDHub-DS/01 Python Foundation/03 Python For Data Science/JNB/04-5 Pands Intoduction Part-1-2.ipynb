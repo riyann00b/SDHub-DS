{
 "cells": [
  {
   "cell_type": "markdown",
   "id": "a7345149-07ef-42d6-8578-cbbca8ac28ac",
   "metadata": {},
   "source": [
    "# there are 2 datatype in Pandas Series and dataframe\n",
    "\n",
    "1. pd.series('collection datatype')\n",
    "   - ser1 = pd.series([10,20,30])\n",
    "   - 0 10\n",
    "   - 0 20\n",
    "   - 0 30\n",
    "\n",
    "```python\n",
    "di = {\n",
    "    'Name': ['Riyan', 'Amaan', 'Adnan'],\n",
    "    'age': [20, 22, 23],\n",
    "    'Course':['Ds', 'DevOP', 'Bussiness']\n",
    "}\n",
    "```"
   ]
  },
  {
   "cell_type": "code",
   "execution_count": 32,
   "id": "b7ac87eb-8a5f-4a13-b42a-c359c584d2df",
   "metadata": {},
   "outputs": [
    {
     "data": {
      "text/plain": [
       "'2.3.1'"
      ]
     },
     "execution_count": 32,
     "metadata": {},
     "output_type": "execute_result"
    }
   ],
   "source": [
    "import pandas as pd\n",
    "import numpy as np\n",
    "\n",
    "pd.__version__\n"
   ]
  },
  {
   "cell_type": "code",
   "execution_count": 31,
   "id": "46bedd61-b076-4b97-a522-2949944294cb",
   "metadata": {},
   "outputs": [
    {
     "data": {
      "text/plain": [
       "'2.3.2'"
      ]
     },
     "execution_count": 31,
     "metadata": {},
     "output_type": "execute_result"
    }
   ],
   "source": [
    "np.__version__"
   ]
  },
  {
   "cell_type": "code",
   "execution_count": 4,
   "id": "a758edbb-5660-444c-9d1b-ad06dd8a36ba",
   "metadata": {},
   "outputs": [
    {
     "name": "stdout",
     "output_type": "stream",
     "text": [
      "5\n",
      "1\n",
      "0    10\n",
      "1    20\n",
      "2    30\n",
      "3    40\n",
      "4    50\n",
      "dtype: int64\n"
     ]
    },
    {
     "data": {
      "text/plain": [
       "pandas.core.series.Series"
      ]
     },
     "execution_count": 4,
     "metadata": {},
     "output_type": "execute_result"
    }
   ],
   "source": [
    "series1 = pd.Series([10,20,30,40,50])\n",
    "\n",
    "print(series1.size)\n",
    "print(series1.ndim)\n",
    "print(series1)\n",
    "\n",
    "type(series1)"
   ]
  },
  {
   "cell_type": "code",
   "execution_count": 5,
   "id": "a619552c-3699-4933-89a0-869ef3f541ce",
   "metadata": {},
   "outputs": [
    {
     "data": {
      "text/plain": [
       "0    Riyan\n",
       "1    Amaan\n",
       "2    Adnan\n",
       "dtype: object"
      ]
     },
     "execution_count": 5,
     "metadata": {},
     "output_type": "execute_result"
    }
   ],
   "source": [
    "tup = (\"Riyan\",\"Amaan\",\"Adnan\")\n",
    "\n",
    "s = pd.Series(tup)\n",
    "\n",
    "s\n"
   ]
  },
  {
   "cell_type": "code",
   "execution_count": 6,
   "id": "588532f3-e727-45c7-8556-e32266196e62",
   "metadata": {},
   "outputs": [
    {
     "data": {
      "text/plain": [
       "101    Riyan\n",
       "102    Amaan\n",
       "103    Adnan\n",
       "dtype: object"
      ]
     },
     "execution_count": 6,
     "metadata": {},
     "output_type": "execute_result"
    }
   ],
   "source": [
    "di = {101:\"Riyan\",102:\"Amaan\",103:\"Adnan\"}\n",
    "\n",
    "s = pd.Series(di)\n",
    "\n",
    "s"
   ]
  },
  {
   "cell_type": "markdown",
   "id": "5beb56f7-a713-4f05-a590-44a1a488c7a7",
   "metadata": {},
   "source": [
    "**WAP to create a dataFrame where colums are emp_id, name, role, salary**"
   ]
  },
  {
   "cell_type": "code",
   "execution_count": 18,
   "id": "25bbbf29-79d3-48b6-97b1-b31f6c668022",
   "metadata": {},
   "outputs": [],
   "source": [
    "di = {\n",
    "     'emp_id':[1001, 1002, 1003],\n",
    "    'Name': ['Riyan', 'Amaan', 'Adnan'],\n",
    "    'role':['Data Scientist', 'DevOP', 'Webdev'],\n",
    "    'salary': [20000, 22000, 23000]\n",
    "}"
   ]
  },
  {
   "cell_type": "code",
   "execution_count": 19,
   "id": "506dacf0-258b-4e89-8959-9631299f9b20",
   "metadata": {},
   "outputs": [],
   "source": [
    "df = pd.DataFrame(di)"
   ]
  },
  {
   "cell_type": "code",
   "execution_count": 17,
   "id": "8e6827ac-d9b0-43f3-8ad2-8331abe7be39",
   "metadata": {},
   "outputs": [
    {
     "data": {
      "text/html": [
       "<div>\n",
       "<style scoped>\n",
       "    .dataframe tbody tr th:only-of-type {\n",
       "        vertical-align: middle;\n",
       "    }\n",
       "\n",
       "    .dataframe tbody tr th {\n",
       "        vertical-align: top;\n",
       "    }\n",
       "\n",
       "    .dataframe thead th {\n",
       "        text-align: right;\n",
       "    }\n",
       "</style>\n",
       "<table border=\"1\" class=\"dataframe\">\n",
       "  <thead>\n",
       "    <tr style=\"text-align: right;\">\n",
       "      <th></th>\n",
       "      <th>emp_id</th>\n",
       "      <th>Name</th>\n",
       "      <th>role</th>\n",
       "      <th>salary</th>\n",
       "    </tr>\n",
       "  </thead>\n",
       "  <tbody>\n",
       "    <tr>\n",
       "      <th>0</th>\n",
       "      <td>1001</td>\n",
       "      <td>Riyan</td>\n",
       "      <td>Ds</td>\n",
       "      <td>20000</td>\n",
       "    </tr>\n",
       "    <tr>\n",
       "      <th>1</th>\n",
       "      <td>1002</td>\n",
       "      <td>Amaan</td>\n",
       "      <td>DevOP</td>\n",
       "      <td>22000</td>\n",
       "    </tr>\n",
       "    <tr>\n",
       "      <th>2</th>\n",
       "      <td>1003</td>\n",
       "      <td>Adnan</td>\n",
       "      <td>Webdev</td>\n",
       "      <td>23000</td>\n",
       "    </tr>\n",
       "  </tbody>\n",
       "</table>\n",
       "</div>"
      ],
      "text/plain": [
       "   emp_id   Name    role  salary\n",
       "0    1001  Riyan      Ds   20000\n",
       "1    1002  Amaan   DevOP   22000\n",
       "2    1003  Adnan  Webdev   23000"
      ]
     },
     "execution_count": 17,
     "metadata": {},
     "output_type": "execute_result"
    }
   ],
   "source": [
    "df"
   ]
  },
  {
   "cell_type": "code",
   "execution_count": 20,
   "id": "750fd748-1d9d-4af6-9159-31bdf8b399b0",
   "metadata": {},
   "outputs": [
    {
     "data": {
      "text/plain": [
       "2"
      ]
     },
     "execution_count": 20,
     "metadata": {},
     "output_type": "execute_result"
    }
   ],
   "source": [
    "df.ndim"
   ]
  },
  {
   "cell_type": "code",
   "execution_count": 21,
   "id": "822245b8-c4bf-4481-9780-ab4c970200eb",
   "metadata": {},
   "outputs": [
    {
     "data": {
      "text/plain": [
       "12"
      ]
     },
     "execution_count": 21,
     "metadata": {},
     "output_type": "execute_result"
    }
   ],
   "source": [
    "df.size"
   ]
  },
  {
   "cell_type": "code",
   "execution_count": 22,
   "id": "bf1dd714-f7cc-42f8-bcab-50f59a44eb98",
   "metadata": {},
   "outputs": [
    {
     "data": {
      "text/plain": [
       "(3, 4)"
      ]
     },
     "execution_count": 22,
     "metadata": {},
     "output_type": "execute_result"
    }
   ],
   "source": [
    "df.shape"
   ]
  },
  {
   "cell_type": "code",
   "execution_count": 26,
   "id": "ba07f40e-29b9-46d1-ab52-86a35df73c8b",
   "metadata": {},
   "outputs": [],
   "source": [
    "df1 = pd.DataFrame(\n",
    "    {\n",
    "    'Name': ['Riyan', 'Amaan', 'Adnan'],\n",
    "    'age': [20, 22, 23],\n",
    "    'Course':['Ds', 'DevOP', 'Bussiness']\n",
    "}\n",
    ")"
   ]
  },
  {
   "cell_type": "code",
   "execution_count": 27,
   "id": "27c7b97e-ce54-4897-b960-4f45a4801eed",
   "metadata": {},
   "outputs": [
    {
     "data": {
      "text/html": [
       "<div>\n",
       "<style scoped>\n",
       "    .dataframe tbody tr th:only-of-type {\n",
       "        vertical-align: middle;\n",
       "    }\n",
       "\n",
       "    .dataframe tbody tr th {\n",
       "        vertical-align: top;\n",
       "    }\n",
       "\n",
       "    .dataframe thead th {\n",
       "        text-align: right;\n",
       "    }\n",
       "</style>\n",
       "<table border=\"1\" class=\"dataframe\">\n",
       "  <thead>\n",
       "    <tr style=\"text-align: right;\">\n",
       "      <th></th>\n",
       "      <th>Name</th>\n",
       "      <th>age</th>\n",
       "      <th>Course</th>\n",
       "    </tr>\n",
       "  </thead>\n",
       "  <tbody>\n",
       "    <tr>\n",
       "      <th>0</th>\n",
       "      <td>Riyan</td>\n",
       "      <td>20</td>\n",
       "      <td>Ds</td>\n",
       "    </tr>\n",
       "    <tr>\n",
       "      <th>1</th>\n",
       "      <td>Amaan</td>\n",
       "      <td>22</td>\n",
       "      <td>DevOP</td>\n",
       "    </tr>\n",
       "    <tr>\n",
       "      <th>2</th>\n",
       "      <td>Adnan</td>\n",
       "      <td>23</td>\n",
       "      <td>Bussiness</td>\n",
       "    </tr>\n",
       "  </tbody>\n",
       "</table>\n",
       "</div>"
      ],
      "text/plain": [
       "    Name  age     Course\n",
       "0  Riyan   20         Ds\n",
       "1  Amaan   22      DevOP\n",
       "2  Adnan   23  Bussiness"
      ]
     },
     "execution_count": 27,
     "metadata": {},
     "output_type": "execute_result"
    }
   ],
   "source": [
    "df1"
   ]
  },
  {
   "cell_type": "markdown",
   "id": "9b1cbc52-7506-457b-af46-15f339507c50",
   "metadata": {},
   "source": [
    "**WAP to create a datafrmae using dict of array, where keys are name course and score**"
   ]
  },
  {
   "cell_type": "code",
   "execution_count": 39,
   "id": "2d80e9af-1573-4ebc-bd0d-8de67b950430",
   "metadata": {},
   "outputs": [],
   "source": [
    "name = np.array(['Riyan','Amaan','Adnan'])\n",
    "course = np.array(['DS','DevOps','WebDev'])\n",
    "score = np.array([44,46,78])\n",
    "\n",
    "di = {'Name':name, 'Crouse':course, 'Scrose':score}"
   ]
  },
  {
   "cell_type": "code",
   "execution_count": 33,
   "id": "9850ce6e-7982-46c6-8546-07e7cc7d67b5",
   "metadata": {},
   "outputs": [],
   "source": [
    "arr_dict = np.array({\n",
    "    'name':['Riyan','Amaan','Adnan'],\n",
    "    'course':['DS','DevOps','WebDev'],\n",
    "    'score':[90, 80 , 60],\n",
    "}\n",
    "                   )"
   ]
  },
  {
   "cell_type": "code",
   "execution_count": 34,
   "id": "9fecdf99-757b-4d23-b75d-e3b2092a7278",
   "metadata": {},
   "outputs": [
    {
     "data": {
      "text/plain": [
       "array({'name': ['Riyan', 'Amaan', 'Adnan'], 'course': ['DS', 'DevOps', 'WebDev'], 'score': [90, 80, 60]},\n",
       "      dtype=object)"
      ]
     },
     "execution_count": 34,
     "metadata": {},
     "output_type": "execute_result"
    }
   ],
   "source": [
    "arr_dict"
   ]
  },
  {
   "cell_type": "code",
   "execution_count": 41,
   "id": "b0c4b985-b535-4f7c-977e-e51ab6dc65d5",
   "metadata": {},
   "outputs": [
    {
     "data": {
      "text/html": [
       "<div>\n",
       "<style scoped>\n",
       "    .dataframe tbody tr th:only-of-type {\n",
       "        vertical-align: middle;\n",
       "    }\n",
       "\n",
       "    .dataframe tbody tr th {\n",
       "        vertical-align: top;\n",
       "    }\n",
       "\n",
       "    .dataframe thead th {\n",
       "        text-align: right;\n",
       "    }\n",
       "</style>\n",
       "<table border=\"1\" class=\"dataframe\">\n",
       "  <thead>\n",
       "    <tr style=\"text-align: right;\">\n",
       "      <th></th>\n",
       "      <th>Name</th>\n",
       "      <th>Crouse</th>\n",
       "      <th>Scrose</th>\n",
       "    </tr>\n",
       "  </thead>\n",
       "  <tbody>\n",
       "    <tr>\n",
       "      <th>0</th>\n",
       "      <td>Riyan</td>\n",
       "      <td>DS</td>\n",
       "      <td>44</td>\n",
       "    </tr>\n",
       "    <tr>\n",
       "      <th>1</th>\n",
       "      <td>Amaan</td>\n",
       "      <td>DevOps</td>\n",
       "      <td>46</td>\n",
       "    </tr>\n",
       "    <tr>\n",
       "      <th>2</th>\n",
       "      <td>Adnan</td>\n",
       "      <td>WebDev</td>\n",
       "      <td>78</td>\n",
       "    </tr>\n",
       "  </tbody>\n",
       "</table>\n",
       "</div>"
      ],
      "text/plain": [
       "    Name  Crouse  Scrose\n",
       "0  Riyan      DS      44\n",
       "1  Amaan  DevOps      46\n",
       "2  Adnan  WebDev      78"
      ]
     },
     "execution_count": 41,
     "metadata": {},
     "output_type": "execute_result"
    }
   ],
   "source": [
    "df2 = pd.DataFrame(di)\n",
    "df2"
   ]
  },
  {
   "cell_type": "markdown",
   "id": "e5ba9ecd-8b1f-41a8-843e-0d124970114a",
   "metadata": {},
   "source": [
    "****"
   ]
  },
  {
   "cell_type": "code",
   "execution_count": 43,
   "id": "0f136483-de5a-441f-bfe4-16e1d82f8dd2",
   "metadata": {},
   "outputs": [
    {
     "name": "stdout",
     "output_type": "stream",
     "text": [
      "<class 'dict'>\n"
     ]
    },
    {
     "data": {
      "text/html": [
       "<div>\n",
       "<style scoped>\n",
       "    .dataframe tbody tr th:only-of-type {\n",
       "        vertical-align: middle;\n",
       "    }\n",
       "\n",
       "    .dataframe tbody tr th {\n",
       "        vertical-align: top;\n",
       "    }\n",
       "\n",
       "    .dataframe thead th {\n",
       "        text-align: right;\n",
       "    }\n",
       "</style>\n",
       "<table border=\"1\" class=\"dataframe\">\n",
       "  <thead>\n",
       "    <tr style=\"text-align: right;\">\n",
       "      <th></th>\n",
       "      <th>Name</th>\n",
       "      <th>Crouse</th>\n",
       "      <th>Scrose</th>\n",
       "    </tr>\n",
       "  </thead>\n",
       "  <tbody>\n",
       "    <tr>\n",
       "      <th>0</th>\n",
       "      <td>Riyan</td>\n",
       "      <td>DS</td>\n",
       "      <td>44</td>\n",
       "    </tr>\n",
       "    <tr>\n",
       "      <th>1</th>\n",
       "      <td>Amaan</td>\n",
       "      <td>DevOps</td>\n",
       "      <td>46</td>\n",
       "    </tr>\n",
       "    <tr>\n",
       "      <th>2</th>\n",
       "      <td>Adnan</td>\n",
       "      <td>WebDev</td>\n",
       "      <td>78</td>\n",
       "    </tr>\n",
       "  </tbody>\n",
       "</table>\n",
       "</div>"
      ],
      "text/plain": [
       "    Name  Crouse  Scrose\n",
       "0  Riyan      DS      44\n",
       "1  Amaan  DevOps      46\n",
       "2  Adnan  WebDev      78"
      ]
     },
     "execution_count": 43,
     "metadata": {},
     "output_type": "execute_result"
    }
   ],
   "source": [
    "name = pd.Series(['Riyan','Amaan','Adnan'])\n",
    "course = pd.Series(['DS','DevOps','WebDev'])\n",
    "score = pd.Series([44,46,78])\n",
    "\n",
    "di = {'Name':name, 'Crouse':course, 'Scrose':score} # dict of collectiom\n",
    "print(type(di))\n",
    "\n",
    "df3 = pd.DataFrame(di)\n",
    "df3"
   ]
  },
  {
   "cell_type": "code",
   "execution_count": 45,
   "id": "b57da6e7-ae58-432c-8902-73fbc4b3a99d",
   "metadata": {},
   "outputs": [
    {
     "data": {
      "text/html": [
       "<div>\n",
       "<style scoped>\n",
       "    .dataframe tbody tr th:only-of-type {\n",
       "        vertical-align: middle;\n",
       "    }\n",
       "\n",
       "    .dataframe tbody tr th {\n",
       "        vertical-align: top;\n",
       "    }\n",
       "\n",
       "    .dataframe thead th {\n",
       "        text-align: right;\n",
       "    }\n",
       "</style>\n",
       "<table border=\"1\" class=\"dataframe\">\n",
       "  <thead>\n",
       "    <tr style=\"text-align: right;\">\n",
       "      <th></th>\n",
       "      <th>name</th>\n",
       "      <th>course</th>\n",
       "      <th>score</th>\n",
       "    </tr>\n",
       "  </thead>\n",
       "  <tbody>\n",
       "    <tr>\n",
       "      <th>0</th>\n",
       "      <td>Riyan</td>\n",
       "      <td>DS</td>\n",
       "      <td>44</td>\n",
       "    </tr>\n",
       "    <tr>\n",
       "      <th>1</th>\n",
       "      <td>Amaan</td>\n",
       "      <td>DevOps</td>\n",
       "      <td>46</td>\n",
       "    </tr>\n",
       "    <tr>\n",
       "      <th>2</th>\n",
       "      <td>Adnan</td>\n",
       "      <td>WebDev</td>\n",
       "      <td>78</td>\n",
       "    </tr>\n",
       "  </tbody>\n",
       "</table>\n",
       "</div>"
      ],
      "text/plain": [
       "    name  course  score\n",
       "0  Riyan      DS     44\n",
       "1  Amaan  DevOps     46\n",
       "2  Adnan  WebDev     78"
      ]
     },
     "execution_count": 45,
     "metadata": {},
     "output_type": "execute_result"
    }
   ],
   "source": [
    "# dict of collectiom\n",
    "di = {\n",
    "    'name':pd.Series(['Riyan','Amaan','Adnan']),\n",
    "    'course':pd.Series(['DS','DevOps','WebDev']),\n",
    "    'score':pd.Series([44,46,78])\n",
    "}\n",
    " \n",
    "df4 = pd.DataFrame(di)\n",
    "\n",
    "df4"
   ]
  },
  {
   "cell_type": "markdown",
   "id": "f6359137-afbf-4f0f-97e4-7d8c3521c4ba",
   "metadata": {},
   "source": [
    "# DataFrame:\n",
    "\n",
    "dict "
   ]
  },
  {
   "cell_type": "markdown",
   "id": "40727069-1495-4114-a26e-3fb8531613c9",
   "metadata": {},
   "source": [
    "**WAP to Create a DataFrame of Arrayes where keys are: rollno, age, score**"
   ]
  },
  {
   "cell_type": "code",
   "execution_count": 58,
   "id": "4f6a06a1-246a-4db9-91de-f3214b17001e",
   "metadata": {},
   "outputs": [
    {
     "data": {
      "text/html": [
       "<div>\n",
       "<style scoped>\n",
       "    .dataframe tbody tr th:only-of-type {\n",
       "        vertical-align: middle;\n",
       "    }\n",
       "\n",
       "    .dataframe tbody tr th {\n",
       "        vertical-align: top;\n",
       "    }\n",
       "\n",
       "    .dataframe thead th {\n",
       "        text-align: right;\n",
       "    }\n",
       "</style>\n",
       "<table border=\"1\" class=\"dataframe\">\n",
       "  <thead>\n",
       "    <tr style=\"text-align: right;\">\n",
       "      <th></th>\n",
       "      <th>RollNo</th>\n",
       "      <th>Age</th>\n",
       "      <th>Scrose</th>\n",
       "    </tr>\n",
       "  </thead>\n",
       "  <tbody>\n",
       "    <tr>\n",
       "      <th>0</th>\n",
       "      <td>1</td>\n",
       "      <td>29</td>\n",
       "      <td>44</td>\n",
       "    </tr>\n",
       "    <tr>\n",
       "      <th>1</th>\n",
       "      <td>4</td>\n",
       "      <td>19</td>\n",
       "      <td>46</td>\n",
       "    </tr>\n",
       "    <tr>\n",
       "      <th>2</th>\n",
       "      <td>7</td>\n",
       "      <td>39</td>\n",
       "      <td>78</td>\n",
       "    </tr>\n",
       "  </tbody>\n",
       "</table>\n",
       "</div>"
      ],
      "text/plain": [
       "   RollNo  Age  Scrose\n",
       "0       1   29      44\n",
       "1       4   19      46\n",
       "2       7   39      78"
      ]
     },
     "execution_count": 58,
     "metadata": {},
     "output_type": "execute_result"
    }
   ],
   "source": [
    "rollno = np.array(range(1,10,3))\n",
    "age = np.random.randint(18, 40, 3)\n",
    "score = np.array([44,46,78])\n",
    "\n",
    "di = {'RollNo':rollno, 'Age':age, 'Scrose':score}\n",
    "\n",
    "df5 = pd.DataFrame(di)\n",
    "\n",
    "df5"
   ]
  },
  {
   "cell_type": "markdown",
   "id": "f10cac93-796e-4e3c-80c7-7da06995bd2b",
   "metadata": {},
   "source": [
    "**WAP to Create a dataframe for Osmania which has the following departments and there values respectively**\n",
    "\n",
    "1. Eng: Enr_ID, Student_Name, Location\n",
    "2. Arts: Enr_ID, Student_Name, Location\n",
    "3. Medical: Enr_ID, Student_Name, Location"
   ]
  },
  {
   "cell_type": "code",
   "execution_count": 62,
   "id": "aa71952f-371a-4b37-85a9-b592c90acf32",
   "metadata": {},
   "outputs": [
    {
     "ename": "SyntaxError",
     "evalue": "':' expected after dictionary key (2968834165.py, line 14)",
     "output_type": "error",
     "traceback": [
      "  \u001b[36mCell\u001b[39m\u001b[36m \u001b[39m\u001b[32mIn[62]\u001b[39m\u001b[32m, line 14\u001b[39m\n\u001b[31m    \u001b[39m\u001b[31m{'Medical':\u001b[39m\n    ^\n\u001b[31mSyntaxError\u001b[39m\u001b[31m:\u001b[39m ':' expected after dictionary key\n"
     ]
    }
   ],
   "source": [
    "Osmania = {'Eng':\n",
    "           {\n",
    "               'Enr_ID':[1,2,3],\n",
    "           'Student_Name':[1,2,3],\n",
    "            'Location':[1,2,3]\n",
    "           }, \n",
    "           {'Arts':\n",
    "            {\n",
    "            'Enr_ID':[1,2,3],\n",
    "           'Student_Name':[1,2,3],\n",
    "            'Location':[1,2,3]\n",
    "            }, \n",
    "            {'Medical':\n",
    "             {'Enr_ID':[1,2,3],\n",
    "           'Student_Name':[1,2,3],\n",
    "            'Location':[1,2,3]\n",
    "             }\n",
    "            }\n",
    "           }\n",
    "          }\n",
    "df6 = pd.DataFrame(Osmania)\n",
    "\n",
    "df6"
   ]
  },
  {
   "cell_type": "code",
   "execution_count": 65,
   "id": "f742b27d-9dd3-4d11-9df6-5bc50c1949b9",
   "metadata": {},
   "outputs": [
    {
     "data": {
      "text/plain": [
       "dict"
      ]
     },
     "execution_count": 65,
     "metadata": {},
     "output_type": "execute_result"
    }
   ],
   "source": [
    "Osmania = {\n",
    "    'Eng':{\n",
    "        'Enr_ID':[101,102,103],\n",
    "        'Student_Name':['Amaan','Adnan','Riyan'],\n",
    "        'Location':['TGS', \"AP\", 'TS']\n",
    "          },\n",
    "    'Arts':{\n",
    "        'Enr_ID':[201,202,203],\n",
    "        'Student_Name':['faizaan', 'Shahid', 'Qhari'],\n",
    "        'Location':['TS','Goa','TGS']\n",
    "          },\n",
    "    'Medical':{\n",
    "        'Enr_ID':[301,302,303],\n",
    "        'Student_Name':[\"Imaraan\", 'Ghouse', 'ligma'],\n",
    "        'Location':['Ap','TS','TGS']\n",
    "          },\n",
    "}\n",
    "\n",
    "type(Osmania)"
   ]
  },
  {
   "cell_type": "code",
   "execution_count": 67,
   "id": "d1e5cff7-cf5d-4179-a25c-ebe47a31eeef",
   "metadata": {},
   "outputs": [
    {
     "data": {
      "text/plain": [
       "{'Enr_ID': [101, 102, 103],\n",
       " 'Student_Name': ['Amaan', 'Adnan', 'Riyan'],\n",
       " 'Location': ['TGS', 'AP', 'TS']}"
      ]
     },
     "execution_count": 67,
     "metadata": {},
     "output_type": "execute_result"
    }
   ],
   "source": [
    "Osmania['Eng']"
   ]
  },
  {
   "cell_type": "code",
   "execution_count": 71,
   "id": "4e21b025-79bd-486b-a9d9-8082d4d21b5d",
   "metadata": {},
   "outputs": [
    {
     "data": {
      "text/html": [
       "<div>\n",
       "<style scoped>\n",
       "    .dataframe tbody tr th:only-of-type {\n",
       "        vertical-align: middle;\n",
       "    }\n",
       "\n",
       "    .dataframe tbody tr th {\n",
       "        vertical-align: top;\n",
       "    }\n",
       "\n",
       "    .dataframe thead th {\n",
       "        text-align: right;\n",
       "    }\n",
       "</style>\n",
       "<table border=\"1\" class=\"dataframe\">\n",
       "  <thead>\n",
       "    <tr style=\"text-align: right;\">\n",
       "      <th></th>\n",
       "      <th>Eng</th>\n",
       "      <th>Arts</th>\n",
       "      <th>Medical</th>\n",
       "    </tr>\n",
       "  </thead>\n",
       "  <tbody>\n",
       "    <tr>\n",
       "      <th>Enr_ID</th>\n",
       "      <td>[101, 102, 103]</td>\n",
       "      <td>[201, 202, 203]</td>\n",
       "      <td>[301, 302, 303]</td>\n",
       "    </tr>\n",
       "    <tr>\n",
       "      <th>Student_Name</th>\n",
       "      <td>[Amaan, Adnan, Riyan]</td>\n",
       "      <td>[faizaan, Shahid, Qhari]</td>\n",
       "      <td>[Imaraan, Ghouse, ligma]</td>\n",
       "    </tr>\n",
       "    <tr>\n",
       "      <th>Location</th>\n",
       "      <td>[TGS, AP, TS]</td>\n",
       "      <td>[TS, Goa, TGS]</td>\n",
       "      <td>[Ap, TS, TGS]</td>\n",
       "    </tr>\n",
       "  </tbody>\n",
       "</table>\n",
       "</div>"
      ],
      "text/plain": [
       "                                Eng                      Arts  \\\n",
       "Enr_ID              [101, 102, 103]           [201, 202, 203]   \n",
       "Student_Name  [Amaan, Adnan, Riyan]  [faizaan, Shahid, Qhari]   \n",
       "Location              [TGS, AP, TS]            [TS, Goa, TGS]   \n",
       "\n",
       "                               Medical  \n",
       "Enr_ID                 [301, 302, 303]  \n",
       "Student_Name  [Imaraan, Ghouse, ligma]  \n",
       "Location                 [Ap, TS, TGS]  "
      ]
     },
     "execution_count": 71,
     "metadata": {},
     "output_type": "execute_result"
    }
   ],
   "source": [
    "df7 = pd.DataFrame(Osmania)\n",
    "\n",
    "df7"
   ]
  },
  {
   "cell_type": "code",
   "execution_count": 78,
   "id": "79b83300-4a94-4569-9f0f-5f248f693f55",
   "metadata": {},
   "outputs": [
    {
     "data": {
      "text/html": [
       "<div>\n",
       "<style scoped>\n",
       "    .dataframe tbody tr th:only-of-type {\n",
       "        vertical-align: middle;\n",
       "    }\n",
       "\n",
       "    .dataframe tbody tr th {\n",
       "        vertical-align: top;\n",
       "    }\n",
       "\n",
       "    .dataframe thead th {\n",
       "        text-align: right;\n",
       "    }\n",
       "</style>\n",
       "<table border=\"1\" class=\"dataframe\">\n",
       "  <thead>\n",
       "    <tr style=\"text-align: right;\">\n",
       "      <th></th>\n",
       "      <th>Enr_ID</th>\n",
       "      <th>Student_Name</th>\n",
       "      <th>Location</th>\n",
       "    </tr>\n",
       "  </thead>\n",
       "  <tbody>\n",
       "    <tr>\n",
       "      <th>0</th>\n",
       "      <td>101</td>\n",
       "      <td>Amaan</td>\n",
       "      <td>TGS</td>\n",
       "    </tr>\n",
       "    <tr>\n",
       "      <th>1</th>\n",
       "      <td>102</td>\n",
       "      <td>Adnan</td>\n",
       "      <td>AP</td>\n",
       "    </tr>\n",
       "    <tr>\n",
       "      <th>2</th>\n",
       "      <td>103</td>\n",
       "      <td>Riyan</td>\n",
       "      <td>TS</td>\n",
       "    </tr>\n",
       "  </tbody>\n",
       "</table>\n",
       "</div>"
      ],
      "text/plain": [
       "   Enr_ID Student_Name Location\n",
       "0     101        Amaan      TGS\n",
       "1     102        Adnan       AP\n",
       "2     103        Riyan       TS"
      ]
     },
     "execution_count": 78,
     "metadata": {},
     "output_type": "execute_result"
    }
   ],
   "source": [
    "df7 = pd.DataFrame(Osmania['Eng'])\n",
    "\n",
    "df8 = pd.DataFrame(Osmania['Arts'])\n",
    "\n",
    "df9 = pd.DataFrame(Osmania['Medical'])\n",
    "\n",
    "df7"
   ]
  },
  {
   "cell_type": "code",
   "execution_count": 79,
   "id": "3c192e28-cb2d-4ebf-bae0-7b42818172ee",
   "metadata": {},
   "outputs": [
    {
     "data": {
      "text/html": [
       "<div>\n",
       "<style scoped>\n",
       "    .dataframe tbody tr th:only-of-type {\n",
       "        vertical-align: middle;\n",
       "    }\n",
       "\n",
       "    .dataframe tbody tr th {\n",
       "        vertical-align: top;\n",
       "    }\n",
       "\n",
       "    .dataframe thead th {\n",
       "        text-align: right;\n",
       "    }\n",
       "</style>\n",
       "<table border=\"1\" class=\"dataframe\">\n",
       "  <thead>\n",
       "    <tr style=\"text-align: right;\">\n",
       "      <th></th>\n",
       "      <th>Enr_ID</th>\n",
       "      <th>Student_Name</th>\n",
       "      <th>Location</th>\n",
       "    </tr>\n",
       "  </thead>\n",
       "  <tbody>\n",
       "    <tr>\n",
       "      <th>0</th>\n",
       "      <td>201</td>\n",
       "      <td>faizaan</td>\n",
       "      <td>TS</td>\n",
       "    </tr>\n",
       "    <tr>\n",
       "      <th>1</th>\n",
       "      <td>202</td>\n",
       "      <td>Shahid</td>\n",
       "      <td>Goa</td>\n",
       "    </tr>\n",
       "    <tr>\n",
       "      <th>2</th>\n",
       "      <td>203</td>\n",
       "      <td>Qhari</td>\n",
       "      <td>TGS</td>\n",
       "    </tr>\n",
       "  </tbody>\n",
       "</table>\n",
       "</div>"
      ],
      "text/plain": [
       "   Enr_ID Student_Name Location\n",
       "0     201      faizaan       TS\n",
       "1     202       Shahid      Goa\n",
       "2     203        Qhari      TGS"
      ]
     },
     "execution_count": 79,
     "metadata": {},
     "output_type": "execute_result"
    }
   ],
   "source": [
    "df8"
   ]
  },
  {
   "cell_type": "code",
   "execution_count": 80,
   "id": "33a9a6ea-7e4f-4258-864f-b6c5abb50f7f",
   "metadata": {},
   "outputs": [
    {
     "data": {
      "text/html": [
       "<div>\n",
       "<style scoped>\n",
       "    .dataframe tbody tr th:only-of-type {\n",
       "        vertical-align: middle;\n",
       "    }\n",
       "\n",
       "    .dataframe tbody tr th {\n",
       "        vertical-align: top;\n",
       "    }\n",
       "\n",
       "    .dataframe thead th {\n",
       "        text-align: right;\n",
       "    }\n",
       "</style>\n",
       "<table border=\"1\" class=\"dataframe\">\n",
       "  <thead>\n",
       "    <tr style=\"text-align: right;\">\n",
       "      <th></th>\n",
       "      <th>Enr_ID</th>\n",
       "      <th>Student_Name</th>\n",
       "      <th>Location</th>\n",
       "    </tr>\n",
       "  </thead>\n",
       "  <tbody>\n",
       "    <tr>\n",
       "      <th>0</th>\n",
       "      <td>301</td>\n",
       "      <td>Imaraan</td>\n",
       "      <td>Ap</td>\n",
       "    </tr>\n",
       "    <tr>\n",
       "      <th>1</th>\n",
       "      <td>302</td>\n",
       "      <td>Ghouse</td>\n",
       "      <td>TS</td>\n",
       "    </tr>\n",
       "    <tr>\n",
       "      <th>2</th>\n",
       "      <td>303</td>\n",
       "      <td>ligma</td>\n",
       "      <td>TGS</td>\n",
       "    </tr>\n",
       "  </tbody>\n",
       "</table>\n",
       "</div>"
      ],
      "text/plain": [
       "   Enr_ID Student_Name Location\n",
       "0     301      Imaraan       Ap\n",
       "1     302       Ghouse       TS\n",
       "2     303        ligma      TGS"
      ]
     },
     "execution_count": 80,
     "metadata": {},
     "output_type": "execute_result"
    }
   ],
   "source": [
    "df9"
   ]
  },
  {
   "cell_type": "markdown",
   "id": "97158b2f-7731-429a-8fe5-cd0ba0d98c21",
   "metadata": {},
   "source": [
    "# Reading files using Pandas\n",
    "\n",
    "1. File and notebook in same Location:\n",
    "   - df = pd,read_csv('FileName')\n",
    "2. File and notebook in diffrent location:\n",
    "   - df = pd.read_csv(\"path//to//FileName\")\n"
   ]
  },
  {
   "cell_type": "code",
   "execution_count": 118,
   "id": "8118190b-9484-47a4-adb3-4dfb1c9367fb",
   "metadata": {},
   "outputs": [
    {
     "ename": "SyntaxError",
     "evalue": "invalid syntax. Maybe you meant '==' or ':=' instead of '='? (1524517483.py, line 1)",
     "output_type": "error",
     "traceback": [
      "  \u001b[36mCell\u001b[39m\u001b[36m \u001b[39m\u001b[32mIn[118]\u001b[39m\u001b[32m, line 1\u001b[39m\n\u001b[31m    \u001b[39m\u001b[31mdf = pd.DataFrame('CA_county_high_earners.csv'),  index='GEOID'\u001b[39m\n    ^\n\u001b[31mSyntaxError\u001b[39m\u001b[31m:\u001b[39m invalid syntax. Maybe you meant '==' or ':=' instead of '='?\n"
     ]
    }
   ],
   "source": [
    "df = pd.DataFrame('CA_county_high_earners.csv'),  index='GEOID'"
   ]
  },
  {
   "cell_type": "code",
   "execution_count": 90,
   "id": "a3593d7e-b56d-4b48-8f6a-66528c0a5448",
   "metadata": {},
   "outputs": [
    {
     "data": {
      "text/html": [
       "<div>\n",
       "<style scoped>\n",
       "    .dataframe tbody tr th:only-of-type {\n",
       "        vertical-align: middle;\n",
       "    }\n",
       "\n",
       "    .dataframe tbody tr th {\n",
       "        vertical-align: top;\n",
       "    }\n",
       "\n",
       "    .dataframe thead th {\n",
       "        text-align: right;\n",
       "    }\n",
       "</style>\n",
       "<table border=\"1\" class=\"dataframe\">\n",
       "  <thead>\n",
       "    <tr style=\"text-align: right;\">\n",
       "      <th></th>\n",
       "      <th>GEOID</th>\n",
       "      <th>high_earners</th>\n",
       "    </tr>\n",
       "  </thead>\n",
       "  <tbody>\n",
       "    <tr>\n",
       "      <th>0</th>\n",
       "      <td>6001</td>\n",
       "      <td>145696</td>\n",
       "    </tr>\n",
       "    <tr>\n",
       "      <th>1</th>\n",
       "      <td>6003</td>\n",
       "      <td>30</td>\n",
       "    </tr>\n",
       "    <tr>\n",
       "      <th>2</th>\n",
       "      <td>6005</td>\n",
       "      <td>1220</td>\n",
       "    </tr>\n",
       "    <tr>\n",
       "      <th>3</th>\n",
       "      <td>6007</td>\n",
       "      <td>6860</td>\n",
       "    </tr>\n",
       "    <tr>\n",
       "      <th>4</th>\n",
       "      <td>6009</td>\n",
       "      <td>2046</td>\n",
       "    </tr>\n",
       "    <tr>\n",
       "      <th>5</th>\n",
       "      <td>6011</td>\n",
       "      <td>673</td>\n",
       "    </tr>\n",
       "    <tr>\n",
       "      <th>6</th>\n",
       "      <td>6013</td>\n",
       "      <td>100758</td>\n",
       "    </tr>\n",
       "    <tr>\n",
       "      <th>7</th>\n",
       "      <td>6015</td>\n",
       "      <td>464</td>\n",
       "    </tr>\n",
       "    <tr>\n",
       "      <th>8</th>\n",
       "      <td>6017</td>\n",
       "      <td>13490</td>\n",
       "    </tr>\n",
       "    <tr>\n",
       "      <th>9</th>\n",
       "      <td>6019</td>\n",
       "      <td>27004</td>\n",
       "    </tr>\n",
       "    <tr>\n",
       "      <th>10</th>\n",
       "      <td>6021</td>\n",
       "      <td>465</td>\n",
       "    </tr>\n",
       "    <tr>\n",
       "      <th>11</th>\n",
       "      <td>6023</td>\n",
       "      <td>3101</td>\n",
       "    </tr>\n",
       "    <tr>\n",
       "      <th>12</th>\n",
       "      <td>6025</td>\n",
       "      <td>3073</td>\n",
       "    </tr>\n",
       "    <tr>\n",
       "      <th>13</th>\n",
       "      <td>6027</td>\n",
       "      <td>517</td>\n",
       "    </tr>\n",
       "    <tr>\n",
       "      <th>14</th>\n",
       "      <td>6029</td>\n",
       "      <td>23553</td>\n",
       "    </tr>\n",
       "    <tr>\n",
       "      <th>15</th>\n",
       "      <td>6031</td>\n",
       "      <td>2943</td>\n",
       "    </tr>\n",
       "    <tr>\n",
       "      <th>16</th>\n",
       "      <td>6033</td>\n",
       "      <td>1292</td>\n",
       "    </tr>\n",
       "    <tr>\n",
       "      <th>17</th>\n",
       "      <td>6035</td>\n",
       "      <td>794</td>\n",
       "    </tr>\n",
       "    <tr>\n",
       "      <th>18</th>\n",
       "      <td>6037</td>\n",
       "      <td>501413</td>\n",
       "    </tr>\n",
       "    <tr>\n",
       "      <th>19</th>\n",
       "      <td>6039</td>\n",
       "      <td>2934</td>\n",
       "    </tr>\n",
       "    <tr>\n",
       "      <th>20</th>\n",
       "      <td>6041</td>\n",
       "      <td>36709</td>\n",
       "    </tr>\n",
       "    <tr>\n",
       "      <th>21</th>\n",
       "      <td>6043</td>\n",
       "      <td>435</td>\n",
       "    </tr>\n",
       "    <tr>\n",
       "      <th>22</th>\n",
       "      <td>6045</td>\n",
       "      <td>2317</td>\n",
       "    </tr>\n",
       "    <tr>\n",
       "      <th>23</th>\n",
       "      <td>6047</td>\n",
       "      <td>5933</td>\n",
       "    </tr>\n",
       "    <tr>\n",
       "      <th>24</th>\n",
       "      <td>6049</td>\n",
       "      <td>87</td>\n",
       "    </tr>\n",
       "    <tr>\n",
       "      <th>25</th>\n",
       "      <td>6051</td>\n",
       "      <td>376</td>\n",
       "    </tr>\n",
       "    <tr>\n",
       "      <th>26</th>\n",
       "      <td>6053</td>\n",
       "      <td>17144</td>\n",
       "    </tr>\n",
       "    <tr>\n",
       "      <th>27</th>\n",
       "      <td>6055</td>\n",
       "      <td>10577</td>\n",
       "    </tr>\n",
       "    <tr>\n",
       "      <th>28</th>\n",
       "      <td>6057</td>\n",
       "      <td>5177</td>\n",
       "    </tr>\n",
       "    <tr>\n",
       "      <th>29</th>\n",
       "      <td>6059</td>\n",
       "      <td>233459</td>\n",
       "    </tr>\n",
       "    <tr>\n",
       "      <th>30</th>\n",
       "      <td>6061</td>\n",
       "      <td>28334</td>\n",
       "    </tr>\n",
       "    <tr>\n",
       "      <th>31</th>\n",
       "      <td>6063</td>\n",
       "      <td>642</td>\n",
       "    </tr>\n",
       "    <tr>\n",
       "      <th>32</th>\n",
       "      <td>6065</td>\n",
       "      <td>84359</td>\n",
       "    </tr>\n",
       "    <tr>\n",
       "      <th>33</th>\n",
       "      <td>6067</td>\n",
       "      <td>65768</td>\n",
       "    </tr>\n",
       "    <tr>\n",
       "      <th>34</th>\n",
       "      <td>6069</td>\n",
       "      <td>3088</td>\n",
       "    </tr>\n",
       "    <tr>\n",
       "      <th>35</th>\n",
       "      <td>6071</td>\n",
       "      <td>62380</td>\n",
       "    </tr>\n",
       "    <tr>\n",
       "      <th>36</th>\n",
       "      <td>6073</td>\n",
       "      <td>194676</td>\n",
       "    </tr>\n",
       "    <tr>\n",
       "      <th>37</th>\n",
       "      <td>6075</td>\n",
       "      <td>114989</td>\n",
       "    </tr>\n",
       "    <tr>\n",
       "      <th>38</th>\n",
       "      <td>6077</td>\n",
       "      <td>24530</td>\n",
       "    </tr>\n",
       "    <tr>\n",
       "      <th>39</th>\n",
       "      <td>6079</td>\n",
       "      <td>15110</td>\n",
       "    </tr>\n",
       "    <tr>\n",
       "      <th>40</th>\n",
       "      <td>6081</td>\n",
       "      <td>90392</td>\n",
       "    </tr>\n",
       "    <tr>\n",
       "      <th>41</th>\n",
       "      <td>6083</td>\n",
       "      <td>25231</td>\n",
       "    </tr>\n",
       "    <tr>\n",
       "      <th>42</th>\n",
       "      <td>6085</td>\n",
       "      <td>221273</td>\n",
       "    </tr>\n",
       "    <tr>\n",
       "      <th>43</th>\n",
       "      <td>6087</td>\n",
       "      <td>19628</td>\n",
       "    </tr>\n",
       "    <tr>\n",
       "      <th>44</th>\n",
       "      <td>6089</td>\n",
       "      <td>5559</td>\n",
       "    </tr>\n",
       "    <tr>\n",
       "      <th>45</th>\n",
       "      <td>6091</td>\n",
       "      <td>111</td>\n",
       "    </tr>\n",
       "    <tr>\n",
       "      <th>46</th>\n",
       "      <td>6093</td>\n",
       "      <td>900</td>\n",
       "    </tr>\n",
       "    <tr>\n",
       "      <th>47</th>\n",
       "      <td>6095</td>\n",
       "      <td>23192</td>\n",
       "    </tr>\n",
       "    <tr>\n",
       "      <th>48</th>\n",
       "      <td>6097</td>\n",
       "      <td>32713</td>\n",
       "    </tr>\n",
       "    <tr>\n",
       "      <th>49</th>\n",
       "      <td>6099</td>\n",
       "      <td>14864</td>\n",
       "    </tr>\n",
       "    <tr>\n",
       "      <th>50</th>\n",
       "      <td>6101</td>\n",
       "      <td>2720</td>\n",
       "    </tr>\n",
       "    <tr>\n",
       "      <th>51</th>\n",
       "      <td>6103</td>\n",
       "      <td>1394</td>\n",
       "    </tr>\n",
       "    <tr>\n",
       "      <th>52</th>\n",
       "      <td>6105</td>\n",
       "      <td>261</td>\n",
       "    </tr>\n",
       "    <tr>\n",
       "      <th>53</th>\n",
       "      <td>6107</td>\n",
       "      <td>9056</td>\n",
       "    </tr>\n",
       "    <tr>\n",
       "      <th>54</th>\n",
       "      <td>6109</td>\n",
       "      <td>2059</td>\n",
       "    </tr>\n",
       "    <tr>\n",
       "      <th>55</th>\n",
       "      <td>6111</td>\n",
       "      <td>57121</td>\n",
       "    </tr>\n",
       "    <tr>\n",
       "      <th>56</th>\n",
       "      <td>6113</td>\n",
       "      <td>11669</td>\n",
       "    </tr>\n",
       "    <tr>\n",
       "      <th>57</th>\n",
       "      <td>6115</td>\n",
       "      <td>1673</td>\n",
       "    </tr>\n",
       "  </tbody>\n",
       "</table>\n",
       "</div>"
      ],
      "text/plain": [
       "    GEOID  high_earners\n",
       "0    6001        145696\n",
       "1    6003            30\n",
       "2    6005          1220\n",
       "3    6007          6860\n",
       "4    6009          2046\n",
       "5    6011           673\n",
       "6    6013        100758\n",
       "7    6015           464\n",
       "8    6017         13490\n",
       "9    6019         27004\n",
       "10   6021           465\n",
       "11   6023          3101\n",
       "12   6025          3073\n",
       "13   6027           517\n",
       "14   6029         23553\n",
       "15   6031          2943\n",
       "16   6033          1292\n",
       "17   6035           794\n",
       "18   6037        501413\n",
       "19   6039          2934\n",
       "20   6041         36709\n",
       "21   6043           435\n",
       "22   6045          2317\n",
       "23   6047          5933\n",
       "24   6049            87\n",
       "25   6051           376\n",
       "26   6053         17144\n",
       "27   6055         10577\n",
       "28   6057          5177\n",
       "29   6059        233459\n",
       "30   6061         28334\n",
       "31   6063           642\n",
       "32   6065         84359\n",
       "33   6067         65768\n",
       "34   6069          3088\n",
       "35   6071         62380\n",
       "36   6073        194676\n",
       "37   6075        114989\n",
       "38   6077         24530\n",
       "39   6079         15110\n",
       "40   6081         90392\n",
       "41   6083         25231\n",
       "42   6085        221273\n",
       "43   6087         19628\n",
       "44   6089          5559\n",
       "45   6091           111\n",
       "46   6093           900\n",
       "47   6095         23192\n",
       "48   6097         32713\n",
       "49   6099         14864\n",
       "50   6101          2720\n",
       "51   6103          1394\n",
       "52   6105           261\n",
       "53   6107          9056\n",
       "54   6109          2059\n",
       "55   6111         57121\n",
       "56   6113         11669\n",
       "57   6115          1673"
      ]
     },
     "execution_count": 90,
     "metadata": {},
     "output_type": "execute_result"
    }
   ],
   "source": [
    "df"
   ]
  },
  {
   "cell_type": "code",
   "execution_count": 103,
   "id": "3aad7e63-8142-49f2-828e-1028b8c37996",
   "metadata": {},
   "outputs": [
    {
     "data": {
      "text/html": [
       "<div>\n",
       "<style scoped>\n",
       "    .dataframe tbody tr th:only-of-type {\n",
       "        vertical-align: middle;\n",
       "    }\n",
       "\n",
       "    .dataframe tbody tr th {\n",
       "        vertical-align: top;\n",
       "    }\n",
       "\n",
       "    .dataframe thead th {\n",
       "        text-align: right;\n",
       "    }\n",
       "</style>\n",
       "<table border=\"1\" class=\"dataframe\">\n",
       "  <thead>\n",
       "    <tr style=\"text-align: right;\">\n",
       "      <th></th>\n",
       "      <th>College_ID</th>\n",
       "      <th>IQ</th>\n",
       "      <th>Prev_Sem_Result</th>\n",
       "      <th>CGPA</th>\n",
       "      <th>Academic_Performance</th>\n",
       "      <th>Internship_Experience</th>\n",
       "      <th>Extra_Curricular_Score</th>\n",
       "      <th>Communication_Skills</th>\n",
       "      <th>Projects_Completed</th>\n",
       "      <th>Placement</th>\n",
       "    </tr>\n",
       "  </thead>\n",
       "  <tbody>\n",
       "    <tr>\n",
       "      <th>0</th>\n",
       "      <td>CLG0030</td>\n",
       "      <td>107</td>\n",
       "      <td>6.61</td>\n",
       "      <td>6.28</td>\n",
       "      <td>8</td>\n",
       "      <td>No</td>\n",
       "      <td>8</td>\n",
       "      <td>8</td>\n",
       "      <td>4</td>\n",
       "      <td>No</td>\n",
       "    </tr>\n",
       "    <tr>\n",
       "      <th>1</th>\n",
       "      <td>CLG0061</td>\n",
       "      <td>97</td>\n",
       "      <td>5.52</td>\n",
       "      <td>5.37</td>\n",
       "      <td>8</td>\n",
       "      <td>No</td>\n",
       "      <td>7</td>\n",
       "      <td>8</td>\n",
       "      <td>0</td>\n",
       "      <td>No</td>\n",
       "    </tr>\n",
       "    <tr>\n",
       "      <th>2</th>\n",
       "      <td>CLG0036</td>\n",
       "      <td>109</td>\n",
       "      <td>5.36</td>\n",
       "      <td>5.83</td>\n",
       "      <td>9</td>\n",
       "      <td>No</td>\n",
       "      <td>3</td>\n",
       "      <td>1</td>\n",
       "      <td>1</td>\n",
       "      <td>No</td>\n",
       "    </tr>\n",
       "    <tr>\n",
       "      <th>3</th>\n",
       "      <td>CLG0055</td>\n",
       "      <td>122</td>\n",
       "      <td>5.47</td>\n",
       "      <td>5.75</td>\n",
       "      <td>6</td>\n",
       "      <td>Yes</td>\n",
       "      <td>1</td>\n",
       "      <td>6</td>\n",
       "      <td>1</td>\n",
       "      <td>No</td>\n",
       "    </tr>\n",
       "    <tr>\n",
       "      <th>4</th>\n",
       "      <td>CLG0004</td>\n",
       "      <td>96</td>\n",
       "      <td>7.91</td>\n",
       "      <td>7.69</td>\n",
       "      <td>7</td>\n",
       "      <td>No</td>\n",
       "      <td>8</td>\n",
       "      <td>10</td>\n",
       "      <td>2</td>\n",
       "      <td>No</td>\n",
       "    </tr>\n",
       "    <tr>\n",
       "      <th>...</th>\n",
       "      <td>...</td>\n",
       "      <td>...</td>\n",
       "      <td>...</td>\n",
       "      <td>...</td>\n",
       "      <td>...</td>\n",
       "      <td>...</td>\n",
       "      <td>...</td>\n",
       "      <td>...</td>\n",
       "      <td>...</td>\n",
       "      <td>...</td>\n",
       "    </tr>\n",
       "    <tr>\n",
       "      <th>9995</th>\n",
       "      <td>CLG0021</td>\n",
       "      <td>119</td>\n",
       "      <td>8.41</td>\n",
       "      <td>8.29</td>\n",
       "      <td>4</td>\n",
       "      <td>No</td>\n",
       "      <td>1</td>\n",
       "      <td>8</td>\n",
       "      <td>0</td>\n",
       "      <td>Yes</td>\n",
       "    </tr>\n",
       "    <tr>\n",
       "      <th>9996</th>\n",
       "      <td>CLG0098</td>\n",
       "      <td>70</td>\n",
       "      <td>9.25</td>\n",
       "      <td>9.34</td>\n",
       "      <td>7</td>\n",
       "      <td>No</td>\n",
       "      <td>0</td>\n",
       "      <td>7</td>\n",
       "      <td>2</td>\n",
       "      <td>No</td>\n",
       "    </tr>\n",
       "    <tr>\n",
       "      <th>9997</th>\n",
       "      <td>CLG0066</td>\n",
       "      <td>89</td>\n",
       "      <td>6.08</td>\n",
       "      <td>6.25</td>\n",
       "      <td>3</td>\n",
       "      <td>Yes</td>\n",
       "      <td>3</td>\n",
       "      <td>9</td>\n",
       "      <td>5</td>\n",
       "      <td>No</td>\n",
       "    </tr>\n",
       "    <tr>\n",
       "      <th>9998</th>\n",
       "      <td>CLG0045</td>\n",
       "      <td>107</td>\n",
       "      <td>8.77</td>\n",
       "      <td>8.92</td>\n",
       "      <td>3</td>\n",
       "      <td>No</td>\n",
       "      <td>7</td>\n",
       "      <td>5</td>\n",
       "      <td>1</td>\n",
       "      <td>No</td>\n",
       "    </tr>\n",
       "    <tr>\n",
       "      <th>9999</th>\n",
       "      <td>CLG0060</td>\n",
       "      <td>109</td>\n",
       "      <td>9.41</td>\n",
       "      <td>9.77</td>\n",
       "      <td>8</td>\n",
       "      <td>No</td>\n",
       "      <td>3</td>\n",
       "      <td>5</td>\n",
       "      <td>5</td>\n",
       "      <td>No</td>\n",
       "    </tr>\n",
       "  </tbody>\n",
       "</table>\n",
       "<p>10000 rows × 10 columns</p>\n",
       "</div>"
      ],
      "text/plain": [
       "     College_ID   IQ  Prev_Sem_Result  CGPA  Academic_Performance  \\\n",
       "0       CLG0030  107             6.61  6.28                     8   \n",
       "1       CLG0061   97             5.52  5.37                     8   \n",
       "2       CLG0036  109             5.36  5.83                     9   \n",
       "3       CLG0055  122             5.47  5.75                     6   \n",
       "4       CLG0004   96             7.91  7.69                     7   \n",
       "...         ...  ...              ...   ...                   ...   \n",
       "9995    CLG0021  119             8.41  8.29                     4   \n",
       "9996    CLG0098   70             9.25  9.34                     7   \n",
       "9997    CLG0066   89             6.08  6.25                     3   \n",
       "9998    CLG0045  107             8.77  8.92                     3   \n",
       "9999    CLG0060  109             9.41  9.77                     8   \n",
       "\n",
       "     Internship_Experience  Extra_Curricular_Score  Communication_Skills  \\\n",
       "0                       No                       8                     8   \n",
       "1                       No                       7                     8   \n",
       "2                       No                       3                     1   \n",
       "3                      Yes                       1                     6   \n",
       "4                       No                       8                    10   \n",
       "...                    ...                     ...                   ...   \n",
       "9995                    No                       1                     8   \n",
       "9996                    No                       0                     7   \n",
       "9997                   Yes                       3                     9   \n",
       "9998                    No                       7                     5   \n",
       "9999                    No                       3                     5   \n",
       "\n",
       "      Projects_Completed Placement  \n",
       "0                      4        No  \n",
       "1                      0        No  \n",
       "2                      1        No  \n",
       "3                      1        No  \n",
       "4                      2        No  \n",
       "...                  ...       ...  \n",
       "9995                   0       Yes  \n",
       "9996                   2        No  \n",
       "9997                   5        No  \n",
       "9998                   1        No  \n",
       "9999                   5        No  \n",
       "\n",
       "[10000 rows x 10 columns]"
      ]
     },
     "execution_count": 103,
     "metadata": {},
     "output_type": "execute_result"
    }
   ],
   "source": [
    "df = pd.read_csv('//home//riyan//Desktop//SDHub-DS//SDHub-DS//01_Foundation//03 Python For Data Science//dataset.csv')\n",
    "df"
   ]
  },
  {
   "cell_type": "markdown",
   "id": "1fb8c664-7fec-4316-ab06-4a89f142380a",
   "metadata": {},
   "source": [
    "# Creating Index\n",
    "\n",
    "```python\n",
    "df = pd.Dataframe(data, index=collection)\n",
    "```\n",
    "\n",
    "number of rows should be equal to number od colums\n",
    "\n"
   ]
  },
  {
   "cell_type": "markdown",
   "id": "86dc68a0-f884-4fe9-9a31-033b5526a8ec",
   "metadata": {},
   "source": [
    "**WAP to create a dataframe index colums are age and score , index os na,e of the person**"
   ]
  },
  {
   "cell_type": "code",
   "execution_count": 116,
   "id": "cbf26849-386f-4c0e-bd82-902a0c4fdc3a",
   "metadata": {},
   "outputs": [
    {
     "data": {
      "text/html": [
       "<div>\n",
       "<style scoped>\n",
       "    .dataframe tbody tr th:only-of-type {\n",
       "        vertical-align: middle;\n",
       "    }\n",
       "\n",
       "    .dataframe tbody tr th {\n",
       "        vertical-align: top;\n",
       "    }\n",
       "\n",
       "    .dataframe thead th {\n",
       "        text-align: right;\n",
       "    }\n",
       "</style>\n",
       "<table border=\"1\" class=\"dataframe\">\n",
       "  <thead>\n",
       "    <tr style=\"text-align: right;\">\n",
       "      <th></th>\n",
       "      <th>course</th>\n",
       "      <th>score</th>\n",
       "    </tr>\n",
       "  </thead>\n",
       "  <tbody>\n",
       "    <tr>\n",
       "      <th>Riyan</th>\n",
       "      <td>DS</td>\n",
       "      <td>90</td>\n",
       "    </tr>\n",
       "    <tr>\n",
       "      <th>Amaan</th>\n",
       "      <td>DevOps</td>\n",
       "      <td>80</td>\n",
       "    </tr>\n",
       "    <tr>\n",
       "      <th>Adnan</th>\n",
       "      <td>WebDev</td>\n",
       "      <td>60</td>\n",
       "    </tr>\n",
       "  </tbody>\n",
       "</table>\n",
       "</div>"
      ],
      "text/plain": [
       "       course  score\n",
       "Riyan      DS     90\n",
       "Amaan  DevOps     80\n",
       "Adnan  WebDev     60"
      ]
     },
     "execution_count": 116,
     "metadata": {},
     "output_type": "execute_result"
    }
   ],
   "source": [
    "df = pd.DataFrame(\n",
    "    {\n",
    "    'course':['DS','DevOps','WebDev'],\n",
    "    'score':[90, 80 , 60]\n",
    "    }, index=['Riyan','Amaan','Adnan']\n",
    ")\n",
    "\n",
    "df"
   ]
  },
  {
   "cell_type": "code",
   "execution_count": null,
   "id": "30bbdd55-012a-4734-924e-7a2aad20510f",
   "metadata": {},
   "outputs": [],
   "source": []
  },
  {
   "cell_type": "code",
   "execution_count": null,
   "id": "70ee2c23-287f-48ae-afcc-eefaacacb001",
   "metadata": {},
   "outputs": [],
   "source": []
  }
 ],
 "metadata": {
  "kernelspec": {
   "display_name": "Python 3 (ipykernel)",
   "language": "python",
   "name": "python3"
  },
  "language_info": {
   "codemirror_mode": {
    "name": "ipython",
    "version": 3
   },
   "file_extension": ".py",
   "mimetype": "text/x-python",
   "name": "python",
   "nbconvert_exporter": "python",
   "pygments_lexer": "ipython3",
   "version": "3.13.5"
  }
 },
 "nbformat": 4,
 "nbformat_minor": 5
}
