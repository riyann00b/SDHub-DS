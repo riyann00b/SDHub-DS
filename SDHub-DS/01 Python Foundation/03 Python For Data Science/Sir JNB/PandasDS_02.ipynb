{
 "cells": [
  {
   "cell_type": "code",
   "execution_count": 1,
   "id": "4630b8ab",
   "metadata": {},
   "outputs": [],
   "source": [
    "import pandas as pd"
   ]
  },
  {
   "cell_type": "markdown",
   "id": "bee1ada3",
   "metadata": {},
   "source": [
    "**WAP to create a dataframe where columns are emp_id, name, role, salary**"
   ]
  },
  {
   "cell_type": "code",
   "execution_count": 3,
   "id": "29dd59ef",
   "metadata": {},
   "outputs": [
    {
     "name": "stdout",
     "output_type": "stream",
     "text": [
      "{'emp_id': [101, 102, 103, 104], 'name': ['Salman', 'Uwaish', 'Aisha', 'Sayeeda'], 'role': ['DS', 'AI', 'ML', 'DA'], 'salary': [100, 200, 300, 400]}\n",
      "<class 'dict'>\n"
     ]
    }
   ],
   "source": [
    "di = {'emp_id':[101,102,103,104],\n",
    "     'name':['Salman','Uwaish','Aisha','Sayeeda'],\n",
    "     'role':['DS','AI','ML','DA'],\n",
    "     'salary':[100,200,300,400]}    #dict of collection\n",
    "   \n",
    "print(di)\n",
    "print(type(di))"
   ]
  },
  {
   "cell_type": "code",
   "execution_count": 4,
   "id": "acc7a3a5",
   "metadata": {},
   "outputs": [
    {
     "data": {
      "text/html": [
       "<div>\n",
       "<style scoped>\n",
       "    .dataframe tbody tr th:only-of-type {\n",
       "        vertical-align: middle;\n",
       "    }\n",
       "\n",
       "    .dataframe tbody tr th {\n",
       "        vertical-align: top;\n",
       "    }\n",
       "\n",
       "    .dataframe thead th {\n",
       "        text-align: right;\n",
       "    }\n",
       "</style>\n",
       "<table border=\"1\" class=\"dataframe\">\n",
       "  <thead>\n",
       "    <tr style=\"text-align: right;\">\n",
       "      <th></th>\n",
       "      <th>emp_id</th>\n",
       "      <th>name</th>\n",
       "      <th>role</th>\n",
       "      <th>salary</th>\n",
       "    </tr>\n",
       "  </thead>\n",
       "  <tbody>\n",
       "    <tr>\n",
       "      <th>0</th>\n",
       "      <td>101</td>\n",
       "      <td>Salman</td>\n",
       "      <td>DS</td>\n",
       "      <td>100</td>\n",
       "    </tr>\n",
       "    <tr>\n",
       "      <th>1</th>\n",
       "      <td>102</td>\n",
       "      <td>Uwaish</td>\n",
       "      <td>AI</td>\n",
       "      <td>200</td>\n",
       "    </tr>\n",
       "    <tr>\n",
       "      <th>2</th>\n",
       "      <td>103</td>\n",
       "      <td>Aisha</td>\n",
       "      <td>ML</td>\n",
       "      <td>300</td>\n",
       "    </tr>\n",
       "    <tr>\n",
       "      <th>3</th>\n",
       "      <td>104</td>\n",
       "      <td>Sayeeda</td>\n",
       "      <td>DA</td>\n",
       "      <td>400</td>\n",
       "    </tr>\n",
       "  </tbody>\n",
       "</table>\n",
       "</div>"
      ],
      "text/plain": [
       "   emp_id     name role  salary\n",
       "0     101   Salman   DS     100\n",
       "1     102   Uwaish   AI     200\n",
       "2     103    Aisha   ML     300\n",
       "3     104  Sayeeda   DA     400"
      ]
     },
     "execution_count": 4,
     "metadata": {},
     "output_type": "execute_result"
    }
   ],
   "source": [
    "df = pd.DataFrame(di)\n",
    "\n",
    "df"
   ]
  },
  {
   "cell_type": "code",
   "execution_count": 5,
   "id": "62641edf",
   "metadata": {},
   "outputs": [
    {
     "data": {
      "text/plain": [
       "2"
      ]
     },
     "execution_count": 5,
     "metadata": {},
     "output_type": "execute_result"
    }
   ],
   "source": [
    "df.ndim"
   ]
  },
  {
   "cell_type": "code",
   "execution_count": 6,
   "id": "f90cb3ea",
   "metadata": {},
   "outputs": [
    {
     "data": {
      "text/plain": [
       "(4, 4)"
      ]
     },
     "execution_count": 6,
     "metadata": {},
     "output_type": "execute_result"
    }
   ],
   "source": [
    "df.shape"
   ]
  },
  {
   "cell_type": "code",
   "execution_count": 7,
   "id": "8d3105d6",
   "metadata": {},
   "outputs": [
    {
     "data": {
      "text/plain": [
       "16"
      ]
     },
     "execution_count": 7,
     "metadata": {},
     "output_type": "execute_result"
    }
   ],
   "source": [
    "df.size"
   ]
  },
  {
   "cell_type": "code",
   "execution_count": 8,
   "id": "a7d1bf79",
   "metadata": {},
   "outputs": [
    {
     "data": {
      "text/html": [
       "<div>\n",
       "<style scoped>\n",
       "    .dataframe tbody tr th:only-of-type {\n",
       "        vertical-align: middle;\n",
       "    }\n",
       "\n",
       "    .dataframe tbody tr th {\n",
       "        vertical-align: top;\n",
       "    }\n",
       "\n",
       "    .dataframe thead th {\n",
       "        text-align: right;\n",
       "    }\n",
       "</style>\n",
       "<table border=\"1\" class=\"dataframe\">\n",
       "  <thead>\n",
       "    <tr style=\"text-align: right;\">\n",
       "      <th></th>\n",
       "      <th>emp_id</th>\n",
       "      <th>name</th>\n",
       "      <th>role</th>\n",
       "      <th>salary</th>\n",
       "    </tr>\n",
       "  </thead>\n",
       "  <tbody>\n",
       "    <tr>\n",
       "      <th>0</th>\n",
       "      <td>101</td>\n",
       "      <td>Salman</td>\n",
       "      <td>DS</td>\n",
       "      <td>100</td>\n",
       "    </tr>\n",
       "    <tr>\n",
       "      <th>1</th>\n",
       "      <td>102</td>\n",
       "      <td>Uwaish</td>\n",
       "      <td>AI</td>\n",
       "      <td>200</td>\n",
       "    </tr>\n",
       "    <tr>\n",
       "      <th>2</th>\n",
       "      <td>103</td>\n",
       "      <td>Aisha</td>\n",
       "      <td>ML</td>\n",
       "      <td>300</td>\n",
       "    </tr>\n",
       "    <tr>\n",
       "      <th>3</th>\n",
       "      <td>104</td>\n",
       "      <td>Sayeeda</td>\n",
       "      <td>DA</td>\n",
       "      <td>400</td>\n",
       "    </tr>\n",
       "  </tbody>\n",
       "</table>\n",
       "</div>"
      ],
      "text/plain": [
       "   emp_id     name role  salary\n",
       "0     101   Salman   DS     100\n",
       "1     102   Uwaish   AI     200\n",
       "2     103    Aisha   ML     300\n",
       "3     104  Sayeeda   DA     400"
      ]
     },
     "execution_count": 8,
     "metadata": {},
     "output_type": "execute_result"
    }
   ],
   "source": [
    "df1 = pd.DataFrame({'emp_id':[101,102,103,104],\n",
    "     'name':['Salman','Uwaish','Aisha','Sayeeda'],\n",
    "     'role':['DS','AI','ML','DA'],\n",
    "     'salary':[100,200,300,400]})  #using dict of collection\n",
    "df1"
   ]
  },
  {
   "cell_type": "markdown",
   "id": "5a4d3a0c",
   "metadata": {},
   "source": [
    "**WAP to create a dataframe using dict of array, where keys are name, course, and score**"
   ]
  },
  {
   "cell_type": "code",
   "execution_count": 9,
   "id": "98c364e6",
   "metadata": {},
   "outputs": [],
   "source": [
    "import numpy as np"
   ]
  },
  {
   "cell_type": "code",
   "execution_count": 10,
   "id": "e925177f",
   "metadata": {},
   "outputs": [
    {
     "data": {
      "text/plain": [
       "dict"
      ]
     },
     "execution_count": 10,
     "metadata": {},
     "output_type": "execute_result"
    }
   ],
   "source": [
    "name = np.array(['Uwaish','Husain','Faiz'])\n",
    "course = np.array(['DS','DA','DS'])\n",
    "score = np.array([44,46,78])\n",
    "\n",
    "di = {'Name':name,'Course':course,'Score':score}  #dict of collection\n",
    "type(di)"
   ]
  },
  {
   "cell_type": "code",
   "execution_count": 11,
   "id": "b72c05fe",
   "metadata": {},
   "outputs": [
    {
     "data": {
      "text/html": [
       "<div>\n",
       "<style scoped>\n",
       "    .dataframe tbody tr th:only-of-type {\n",
       "        vertical-align: middle;\n",
       "    }\n",
       "\n",
       "    .dataframe tbody tr th {\n",
       "        vertical-align: top;\n",
       "    }\n",
       "\n",
       "    .dataframe thead th {\n",
       "        text-align: right;\n",
       "    }\n",
       "</style>\n",
       "<table border=\"1\" class=\"dataframe\">\n",
       "  <thead>\n",
       "    <tr style=\"text-align: right;\">\n",
       "      <th></th>\n",
       "      <th>Name</th>\n",
       "      <th>Course</th>\n",
       "      <th>Score</th>\n",
       "    </tr>\n",
       "  </thead>\n",
       "  <tbody>\n",
       "    <tr>\n",
       "      <th>0</th>\n",
       "      <td>Uwaish</td>\n",
       "      <td>DS</td>\n",
       "      <td>44</td>\n",
       "    </tr>\n",
       "    <tr>\n",
       "      <th>1</th>\n",
       "      <td>Husain</td>\n",
       "      <td>DA</td>\n",
       "      <td>46</td>\n",
       "    </tr>\n",
       "    <tr>\n",
       "      <th>2</th>\n",
       "      <td>Faiz</td>\n",
       "      <td>DS</td>\n",
       "      <td>78</td>\n",
       "    </tr>\n",
       "  </tbody>\n",
       "</table>\n",
       "</div>"
      ],
      "text/plain": [
       "     Name Course  Score\n",
       "0  Uwaish     DS     44\n",
       "1  Husain     DA     46\n",
       "2    Faiz     DS     78"
      ]
     },
     "execution_count": 11,
     "metadata": {},
     "output_type": "execute_result"
    }
   ],
   "source": [
    "df2 = pd.DataFrame(di)\n",
    "df2"
   ]
  },
  {
   "cell_type": "markdown",
   "id": "058ce370",
   "metadata": {},
   "source": [
    "**WAP to create a dataframe of series**"
   ]
  },
  {
   "cell_type": "code",
   "execution_count": 14,
   "id": "26998d72",
   "metadata": {},
   "outputs": [
    {
     "data": {
      "text/plain": [
       "dict"
      ]
     },
     "execution_count": 14,
     "metadata": {},
     "output_type": "execute_result"
    }
   ],
   "source": [
    "ser1 = pd.Series(['Uwaish','Husain','Faiz'])\n",
    "ser2 = pd.Series(['DS','DA','DS'])\n",
    "ser3 = pd.Series([44,46,78])\n",
    "\n",
    "di = {'Name':ser1,'Course':ser2,'Score':ser3}  #dict of collection\n",
    "type(di)"
   ]
  },
  {
   "cell_type": "code",
   "execution_count": 17,
   "id": "a731f08c",
   "metadata": {},
   "outputs": [
    {
     "data": {
      "text/plain": [
       "pandas.core.series.Series"
      ]
     },
     "execution_count": 17,
     "metadata": {},
     "output_type": "execute_result"
    }
   ],
   "source": [
    "type(ser1)"
   ]
  },
  {
   "cell_type": "code",
   "execution_count": 15,
   "id": "950668c8",
   "metadata": {},
   "outputs": [
    {
     "data": {
      "text/html": [
       "<div>\n",
       "<style scoped>\n",
       "    .dataframe tbody tr th:only-of-type {\n",
       "        vertical-align: middle;\n",
       "    }\n",
       "\n",
       "    .dataframe tbody tr th {\n",
       "        vertical-align: top;\n",
       "    }\n",
       "\n",
       "    .dataframe thead th {\n",
       "        text-align: right;\n",
       "    }\n",
       "</style>\n",
       "<table border=\"1\" class=\"dataframe\">\n",
       "  <thead>\n",
       "    <tr style=\"text-align: right;\">\n",
       "      <th></th>\n",
       "      <th>Name</th>\n",
       "      <th>Course</th>\n",
       "      <th>Score</th>\n",
       "    </tr>\n",
       "  </thead>\n",
       "  <tbody>\n",
       "    <tr>\n",
       "      <th>0</th>\n",
       "      <td>Uwaish</td>\n",
       "      <td>DS</td>\n",
       "      <td>44</td>\n",
       "    </tr>\n",
       "    <tr>\n",
       "      <th>1</th>\n",
       "      <td>Husain</td>\n",
       "      <td>DA</td>\n",
       "      <td>46</td>\n",
       "    </tr>\n",
       "    <tr>\n",
       "      <th>2</th>\n",
       "      <td>Faiz</td>\n",
       "      <td>DS</td>\n",
       "      <td>78</td>\n",
       "    </tr>\n",
       "  </tbody>\n",
       "</table>\n",
       "</div>"
      ],
      "text/plain": [
       "     Name Course  Score\n",
       "0  Uwaish     DS     44\n",
       "1  Husain     DA     46\n",
       "2    Faiz     DS     78"
      ]
     },
     "execution_count": 15,
     "metadata": {},
     "output_type": "execute_result"
    }
   ],
   "source": [
    "df3 = pd.DataFrame(di)\n",
    "\n",
    "df3"
   ]
  },
  {
   "cell_type": "code",
   "execution_count": 16,
   "id": "c4a0130d",
   "metadata": {},
   "outputs": [
    {
     "data": {
      "text/html": [
       "<div>\n",
       "<style scoped>\n",
       "    .dataframe tbody tr th:only-of-type {\n",
       "        vertical-align: middle;\n",
       "    }\n",
       "\n",
       "    .dataframe tbody tr th {\n",
       "        vertical-align: top;\n",
       "    }\n",
       "\n",
       "    .dataframe thead th {\n",
       "        text-align: right;\n",
       "    }\n",
       "</style>\n",
       "<table border=\"1\" class=\"dataframe\">\n",
       "  <thead>\n",
       "    <tr style=\"text-align: right;\">\n",
       "      <th></th>\n",
       "      <th>name</th>\n",
       "      <th>course</th>\n",
       "      <th>score</th>\n",
       "    </tr>\n",
       "  </thead>\n",
       "  <tbody>\n",
       "    <tr>\n",
       "      <th>0</th>\n",
       "      <td>Uwaish</td>\n",
       "      <td>DS</td>\n",
       "      <td>44</td>\n",
       "    </tr>\n",
       "    <tr>\n",
       "      <th>1</th>\n",
       "      <td>Husain</td>\n",
       "      <td>DA</td>\n",
       "      <td>46</td>\n",
       "    </tr>\n",
       "    <tr>\n",
       "      <th>2</th>\n",
       "      <td>Faiz</td>\n",
       "      <td>DS</td>\n",
       "      <td>78</td>\n",
       "    </tr>\n",
       "  </tbody>\n",
       "</table>\n",
       "</div>"
      ],
      "text/plain": [
       "     name course  score\n",
       "0  Uwaish     DS     44\n",
       "1  Husain     DA     46\n",
       "2    Faiz     DS     78"
      ]
     },
     "execution_count": 16,
     "metadata": {},
     "output_type": "execute_result"
    }
   ],
   "source": [
    "di = {'name':pd.Series(['Uwaish','Husain','Faiz']),\n",
    "     'course':pd.Series(['DS','DA','DS']),\n",
    "     'score':pd.Series([44,46,78])}\n",
    "\n",
    "df4 = pd.DataFrame(di)\n",
    "\n",
    "df4"
   ]
  },
  {
   "cell_type": "markdown",
   "id": "1820d574",
   "metadata": {},
   "source": [
    "**WAP to create a dataframe of arrays where columns are: rollno,age,score**"
   ]
  },
  {
   "cell_type": "code",
   "execution_count": 21,
   "id": "7d368088",
   "metadata": {},
   "outputs": [
    {
     "name": "stdout",
     "output_type": "stream",
     "text": [
      "[10 11 12 13 14 15 16 17 18 19]\n",
      "[18 19 20 22 23 24 26 27 28 30]\n",
      "[30 31 32 33 34 35 36 37 38 39]\n"
     ]
    }
   ],
   "source": [
    "arr1 = np.array(range(10,20))\n",
    "arr2 = np.linspace(18,30,10,dtype=int)\n",
    "arr3 = np.arange(30,40,1)\n",
    "\n",
    "print(arr1)\n",
    "print(arr2)\n",
    "print(arr3)"
   ]
  },
  {
   "cell_type": "code",
   "execution_count": 22,
   "id": "a17f28a4",
   "metadata": {},
   "outputs": [
    {
     "data": {
      "text/html": [
       "<div>\n",
       "<style scoped>\n",
       "    .dataframe tbody tr th:only-of-type {\n",
       "        vertical-align: middle;\n",
       "    }\n",
       "\n",
       "    .dataframe tbody tr th {\n",
       "        vertical-align: top;\n",
       "    }\n",
       "\n",
       "    .dataframe thead th {\n",
       "        text-align: right;\n",
       "    }\n",
       "</style>\n",
       "<table border=\"1\" class=\"dataframe\">\n",
       "  <thead>\n",
       "    <tr style=\"text-align: right;\">\n",
       "      <th></th>\n",
       "      <th>roll_no</th>\n",
       "      <th>age</th>\n",
       "      <th>score</th>\n",
       "    </tr>\n",
       "  </thead>\n",
       "  <tbody>\n",
       "    <tr>\n",
       "      <th>0</th>\n",
       "      <td>10</td>\n",
       "      <td>18</td>\n",
       "      <td>30</td>\n",
       "    </tr>\n",
       "    <tr>\n",
       "      <th>1</th>\n",
       "      <td>11</td>\n",
       "      <td>19</td>\n",
       "      <td>31</td>\n",
       "    </tr>\n",
       "    <tr>\n",
       "      <th>2</th>\n",
       "      <td>12</td>\n",
       "      <td>20</td>\n",
       "      <td>32</td>\n",
       "    </tr>\n",
       "    <tr>\n",
       "      <th>3</th>\n",
       "      <td>13</td>\n",
       "      <td>22</td>\n",
       "      <td>33</td>\n",
       "    </tr>\n",
       "    <tr>\n",
       "      <th>4</th>\n",
       "      <td>14</td>\n",
       "      <td>23</td>\n",
       "      <td>34</td>\n",
       "    </tr>\n",
       "    <tr>\n",
       "      <th>5</th>\n",
       "      <td>15</td>\n",
       "      <td>24</td>\n",
       "      <td>35</td>\n",
       "    </tr>\n",
       "    <tr>\n",
       "      <th>6</th>\n",
       "      <td>16</td>\n",
       "      <td>26</td>\n",
       "      <td>36</td>\n",
       "    </tr>\n",
       "    <tr>\n",
       "      <th>7</th>\n",
       "      <td>17</td>\n",
       "      <td>27</td>\n",
       "      <td>37</td>\n",
       "    </tr>\n",
       "    <tr>\n",
       "      <th>8</th>\n",
       "      <td>18</td>\n",
       "      <td>28</td>\n",
       "      <td>38</td>\n",
       "    </tr>\n",
       "    <tr>\n",
       "      <th>9</th>\n",
       "      <td>19</td>\n",
       "      <td>30</td>\n",
       "      <td>39</td>\n",
       "    </tr>\n",
       "  </tbody>\n",
       "</table>\n",
       "</div>"
      ],
      "text/plain": [
       "   roll_no  age  score\n",
       "0       10   18     30\n",
       "1       11   19     31\n",
       "2       12   20     32\n",
       "3       13   22     33\n",
       "4       14   23     34\n",
       "5       15   24     35\n",
       "6       16   26     36\n",
       "7       17   27     37\n",
       "8       18   28     38\n",
       "9       19   30     39"
      ]
     },
     "execution_count": 22,
     "metadata": {},
     "output_type": "execute_result"
    }
   ],
   "source": [
    "df5 = pd.DataFrame({'roll_no':arr1,'age':arr2,'score':arr3})\n",
    "\n",
    "df5"
   ]
  },
  {
   "cell_type": "markdown",
   "id": "79d37719",
   "metadata": {},
   "source": [
    "**WAP to create a datframe for Osmania which has the following departments and their values resepectively** (dict of dict of list)\n",
    "\n",
    "- Eng: Enr_Id, Student_Name, Location\n",
    "- Arts: Enr_Id, Student_Name, Location\n",
    "- Medical: Enr_Id, Student_Name, Location"
   ]
  },
  {
   "cell_type": "code",
   "execution_count": 23,
   "id": "4728359a",
   "metadata": {},
   "outputs": [
    {
     "data": {
      "text/plain": [
       "{'Eng': {'Enr_id': [1, 2, 3, 4],\n",
       "  'Student_Name': ['Uwaish', 'Husain', 'Khan', 'Maryam'],\n",
       "  'Location': ['Hyd', 'Mnr', 'Jgt', 'Knr']},\n",
       " 'Arts': {'Enr_id': [10, 11, 12, 24],\n",
       "  'Student_Name': ['Sayeeda', 'Arif', 'Husain', 'Sabeel'],\n",
       "  'Location': ['Hyd', 'Sec', 'Gcl', 'Mhd']},\n",
       " 'Medical': {'Enr_id': [21, 22, 23, 24],\n",
       "  'Student_Name': ['Anu', 'Salman', 'SRK', 'Kajol'],\n",
       "  'Location': ['Mbi', 'Dli', 'Hyd', 'Blr']}}"
      ]
     },
     "execution_count": 23,
     "metadata": {},
     "output_type": "execute_result"
    }
   ],
   "source": [
    "Osmania = {'Eng':{'Enr_id':[1,2,3,4],\n",
    "                  'Student_Name':['Uwaish','Husain','Khan','Maryam'],\n",
    "                  'Location':['Hyd','Mnr','Jgt','Knr']},\n",
    "          'Arts':{'Enr_id':[10,11,12,24],\n",
    "                  'Student_Name':['Sayeeda','Arif','Husain','Sabeel'],\n",
    "                  'Location':['Hyd','Sec','Gcl','Mhd']},\n",
    "          'Medical':{'Enr_id':[21,22,23,24],\n",
    "                  'Student_Name':['Anu','Salman','SRK','Kajol'],\n",
    "                  'Location':['Mbi','Dli','Hyd','Blr']}}\n",
    "\n",
    "Osmania"
   ]
  },
  {
   "cell_type": "code",
   "execution_count": 28,
   "id": "83df6f0f",
   "metadata": {},
   "outputs": [
    {
     "data": {
      "text/plain": [
       "dict"
      ]
     },
     "execution_count": 28,
     "metadata": {},
     "output_type": "execute_result"
    }
   ],
   "source": [
    "type(Osmania)"
   ]
  },
  {
   "cell_type": "code",
   "execution_count": 25,
   "id": "8fb31386",
   "metadata": {},
   "outputs": [
    {
     "data": {
      "text/plain": [
       "{'Enr_id': [1, 2, 3, 4],\n",
       " 'Student_Name': ['Uwaish', 'Husain', 'Khan', 'Maryam'],\n",
       " 'Location': ['Hyd', 'Mnr', 'Jgt', 'Knr']}"
      ]
     },
     "execution_count": 25,
     "metadata": {},
     "output_type": "execute_result"
    }
   ],
   "source": [
    "# display engineering department\n",
    "Osmania['Eng']"
   ]
  },
  {
   "cell_type": "code",
   "execution_count": 26,
   "id": "cffe0e65",
   "metadata": {},
   "outputs": [
    {
     "data": {
      "text/html": [
       "<div>\n",
       "<style scoped>\n",
       "    .dataframe tbody tr th:only-of-type {\n",
       "        vertical-align: middle;\n",
       "    }\n",
       "\n",
       "    .dataframe tbody tr th {\n",
       "        vertical-align: top;\n",
       "    }\n",
       "\n",
       "    .dataframe thead th {\n",
       "        text-align: right;\n",
       "    }\n",
       "</style>\n",
       "<table border=\"1\" class=\"dataframe\">\n",
       "  <thead>\n",
       "    <tr style=\"text-align: right;\">\n",
       "      <th></th>\n",
       "      <th>Eng</th>\n",
       "      <th>Arts</th>\n",
       "      <th>Medical</th>\n",
       "    </tr>\n",
       "  </thead>\n",
       "  <tbody>\n",
       "    <tr>\n",
       "      <th>Enr_id</th>\n",
       "      <td>[1, 2, 3, 4]</td>\n",
       "      <td>[10, 11, 12, 24]</td>\n",
       "      <td>[21, 22, 23, 24]</td>\n",
       "    </tr>\n",
       "    <tr>\n",
       "      <th>Student_Name</th>\n",
       "      <td>[Uwaish, Husain, Khan, Maryam]</td>\n",
       "      <td>[Sayeeda, Arif, Husain, Sabeel]</td>\n",
       "      <td>[Anu, Salman, SRK, Kajol]</td>\n",
       "    </tr>\n",
       "    <tr>\n",
       "      <th>Location</th>\n",
       "      <td>[Hyd, Mnr, Jgt, Knr]</td>\n",
       "      <td>[Hyd, Sec, Gcl, Mhd]</td>\n",
       "      <td>[Mbi, Dli, Hyd, Blr]</td>\n",
       "    </tr>\n",
       "  </tbody>\n",
       "</table>\n",
       "</div>"
      ],
      "text/plain": [
       "                                         Eng                             Arts  \\\n",
       "Enr_id                          [1, 2, 3, 4]                 [10, 11, 12, 24]   \n",
       "Student_Name  [Uwaish, Husain, Khan, Maryam]  [Sayeeda, Arif, Husain, Sabeel]   \n",
       "Location                [Hyd, Mnr, Jgt, Knr]             [Hyd, Sec, Gcl, Mhd]   \n",
       "\n",
       "                                Medical  \n",
       "Enr_id                 [21, 22, 23, 24]  \n",
       "Student_Name  [Anu, Salman, SRK, Kajol]  \n",
       "Location           [Mbi, Dli, Hyd, Blr]  "
      ]
     },
     "execution_count": 26,
     "metadata": {},
     "output_type": "execute_result"
    }
   ],
   "source": [
    "df = pd.DataFrame(Osmania)\n",
    "\n",
    "df"
   ]
  },
  {
   "cell_type": "code",
   "execution_count": 27,
   "id": "75136348",
   "metadata": {},
   "outputs": [
    {
     "data": {
      "text/html": [
       "<div>\n",
       "<style scoped>\n",
       "    .dataframe tbody tr th:only-of-type {\n",
       "        vertical-align: middle;\n",
       "    }\n",
       "\n",
       "    .dataframe tbody tr th {\n",
       "        vertical-align: top;\n",
       "    }\n",
       "\n",
       "    .dataframe thead th {\n",
       "        text-align: right;\n",
       "    }\n",
       "</style>\n",
       "<table border=\"1\" class=\"dataframe\">\n",
       "  <thead>\n",
       "    <tr style=\"text-align: right;\">\n",
       "      <th></th>\n",
       "      <th>Enr_id</th>\n",
       "      <th>Student_Name</th>\n",
       "      <th>Location</th>\n",
       "    </tr>\n",
       "  </thead>\n",
       "  <tbody>\n",
       "    <tr>\n",
       "      <th>0</th>\n",
       "      <td>1</td>\n",
       "      <td>Uwaish</td>\n",
       "      <td>Hyd</td>\n",
       "    </tr>\n",
       "    <tr>\n",
       "      <th>1</th>\n",
       "      <td>2</td>\n",
       "      <td>Husain</td>\n",
       "      <td>Mnr</td>\n",
       "    </tr>\n",
       "    <tr>\n",
       "      <th>2</th>\n",
       "      <td>3</td>\n",
       "      <td>Khan</td>\n",
       "      <td>Jgt</td>\n",
       "    </tr>\n",
       "    <tr>\n",
       "      <th>3</th>\n",
       "      <td>4</td>\n",
       "      <td>Maryam</td>\n",
       "      <td>Knr</td>\n",
       "    </tr>\n",
       "  </tbody>\n",
       "</table>\n",
       "</div>"
      ],
      "text/plain": [
       "   Enr_id Student_Name Location\n",
       "0       1       Uwaish      Hyd\n",
       "1       2       Husain      Mnr\n",
       "2       3         Khan      Jgt\n",
       "3       4       Maryam      Knr"
      ]
     },
     "execution_count": 27,
     "metadata": {},
     "output_type": "execute_result"
    }
   ],
   "source": [
    "eng = pd.DataFrame(Osmania['Eng'])\n",
    "\n",
    "eng"
   ]
  },
  {
   "cell_type": "markdown",
   "id": "0cdcc757",
   "metadata": {},
   "source": [
    "## reading a dataframe from same location"
   ]
  },
  {
   "cell_type": "code",
   "execution_count": 29,
   "id": "634b18fe",
   "metadata": {},
   "outputs": [
    {
     "data": {
      "text/html": [
       "<div>\n",
       "<style scoped>\n",
       "    .dataframe tbody tr th:only-of-type {\n",
       "        vertical-align: middle;\n",
       "    }\n",
       "\n",
       "    .dataframe tbody tr th {\n",
       "        vertical-align: top;\n",
       "    }\n",
       "\n",
       "    .dataframe thead th {\n",
       "        text-align: right;\n",
       "    }\n",
       "</style>\n",
       "<table border=\"1\" class=\"dataframe\">\n",
       "  <thead>\n",
       "    <tr style=\"text-align: right;\">\n",
       "      <th></th>\n",
       "      <th>Segment</th>\n",
       "      <th>Country</th>\n",
       "      <th>Product</th>\n",
       "      <th>Discount Band</th>\n",
       "      <th>Product Cost</th>\n",
       "      <th>Units Sold</th>\n",
       "      <th>Sale Price</th>\n",
       "      <th>Gross Sales</th>\n",
       "      <th>Discounts</th>\n",
       "      <th>Sales</th>\n",
       "      <th>COGS</th>\n",
       "      <th>Profit</th>\n",
       "      <th>Date</th>\n",
       "      <th>Month Number</th>\n",
       "      <th>Month Name</th>\n",
       "      <th>Year</th>\n",
       "    </tr>\n",
       "  </thead>\n",
       "  <tbody>\n",
       "    <tr>\n",
       "      <th>0</th>\n",
       "      <td>Government</td>\n",
       "      <td>Canada</td>\n",
       "      <td>Carretera</td>\n",
       "      <td>NaN</td>\n",
       "      <td>3</td>\n",
       "      <td>1618.5</td>\n",
       "      <td>20</td>\n",
       "      <td>32370.0</td>\n",
       "      <td>0.00</td>\n",
       "      <td>32370.00</td>\n",
       "      <td>16185.0</td>\n",
       "      <td>16185.00</td>\n",
       "      <td>01-01-2023</td>\n",
       "      <td>1</td>\n",
       "      <td>January</td>\n",
       "      <td>2023</td>\n",
       "    </tr>\n",
       "    <tr>\n",
       "      <th>1</th>\n",
       "      <td>Government</td>\n",
       "      <td>Germany</td>\n",
       "      <td>Carretera</td>\n",
       "      <td>NaN</td>\n",
       "      <td>3</td>\n",
       "      <td>1321.0</td>\n",
       "      <td>20</td>\n",
       "      <td>26420.0</td>\n",
       "      <td>0.00</td>\n",
       "      <td>26420.00</td>\n",
       "      <td>13210.0</td>\n",
       "      <td>13210.00</td>\n",
       "      <td>01-01-2023</td>\n",
       "      <td>1</td>\n",
       "      <td>January</td>\n",
       "      <td>2023</td>\n",
       "    </tr>\n",
       "    <tr>\n",
       "      <th>2</th>\n",
       "      <td>Midmarket</td>\n",
       "      <td>France</td>\n",
       "      <td>Carretera</td>\n",
       "      <td>NaN</td>\n",
       "      <td>3</td>\n",
       "      <td>2178.0</td>\n",
       "      <td>15</td>\n",
       "      <td>32670.0</td>\n",
       "      <td>0.00</td>\n",
       "      <td>32670.00</td>\n",
       "      <td>21780.0</td>\n",
       "      <td>10890.00</td>\n",
       "      <td>01-06-2023</td>\n",
       "      <td>6</td>\n",
       "      <td>June</td>\n",
       "      <td>2023</td>\n",
       "    </tr>\n",
       "    <tr>\n",
       "      <th>3</th>\n",
       "      <td>Midmarket</td>\n",
       "      <td>Germany</td>\n",
       "      <td>Carretera</td>\n",
       "      <td>NaN</td>\n",
       "      <td>3</td>\n",
       "      <td>888.0</td>\n",
       "      <td>15</td>\n",
       "      <td>13320.0</td>\n",
       "      <td>0.00</td>\n",
       "      <td>13320.00</td>\n",
       "      <td>8880.0</td>\n",
       "      <td>4440.00</td>\n",
       "      <td>01-06-2023</td>\n",
       "      <td>6</td>\n",
       "      <td>June</td>\n",
       "      <td>2023</td>\n",
       "    </tr>\n",
       "    <tr>\n",
       "      <th>4</th>\n",
       "      <td>Midmarket</td>\n",
       "      <td>Mexico</td>\n",
       "      <td>Carretera</td>\n",
       "      <td>NaN</td>\n",
       "      <td>3</td>\n",
       "      <td>2470.0</td>\n",
       "      <td>15</td>\n",
       "      <td>37050.0</td>\n",
       "      <td>0.00</td>\n",
       "      <td>37050.00</td>\n",
       "      <td>24700.0</td>\n",
       "      <td>12350.00</td>\n",
       "      <td>01-06-2023</td>\n",
       "      <td>6</td>\n",
       "      <td>June</td>\n",
       "      <td>2023</td>\n",
       "    </tr>\n",
       "    <tr>\n",
       "      <th>...</th>\n",
       "      <td>...</td>\n",
       "      <td>...</td>\n",
       "      <td>...</td>\n",
       "      <td>...</td>\n",
       "      <td>...</td>\n",
       "      <td>...</td>\n",
       "      <td>...</td>\n",
       "      <td>...</td>\n",
       "      <td>...</td>\n",
       "      <td>...</td>\n",
       "      <td>...</td>\n",
       "      <td>...</td>\n",
       "      <td>...</td>\n",
       "      <td>...</td>\n",
       "      <td>...</td>\n",
       "      <td>...</td>\n",
       "    </tr>\n",
       "    <tr>\n",
       "      <th>676</th>\n",
       "      <td>Small Business</td>\n",
       "      <td>France</td>\n",
       "      <td>Amarilla</td>\n",
       "      <td>High</td>\n",
       "      <td>260</td>\n",
       "      <td>2475.0</td>\n",
       "      <td>300</td>\n",
       "      <td>742500.0</td>\n",
       "      <td>111375.00</td>\n",
       "      <td>631125.00</td>\n",
       "      <td>618750.0</td>\n",
       "      <td>12375.00</td>\n",
       "      <td>01-03-2023</td>\n",
       "      <td>3</td>\n",
       "      <td>March</td>\n",
       "      <td>2023</td>\n",
       "    </tr>\n",
       "    <tr>\n",
       "      <th>677</th>\n",
       "      <td>Small Business</td>\n",
       "      <td>Mexico</td>\n",
       "      <td>Amarilla</td>\n",
       "      <td>High</td>\n",
       "      <td>260</td>\n",
       "      <td>546.0</td>\n",
       "      <td>300</td>\n",
       "      <td>163800.0</td>\n",
       "      <td>24570.00</td>\n",
       "      <td>139230.00</td>\n",
       "      <td>136500.0</td>\n",
       "      <td>2730.00</td>\n",
       "      <td>01-10-2023</td>\n",
       "      <td>10</td>\n",
       "      <td>October</td>\n",
       "      <td>2023</td>\n",
       "    </tr>\n",
       "    <tr>\n",
       "      <th>678</th>\n",
       "      <td>Government</td>\n",
       "      <td>Mexico</td>\n",
       "      <td>Montana</td>\n",
       "      <td>High</td>\n",
       "      <td>5</td>\n",
       "      <td>1368.0</td>\n",
       "      <td>7</td>\n",
       "      <td>9576.0</td>\n",
       "      <td>1436.40</td>\n",
       "      <td>8139.60</td>\n",
       "      <td>6840.0</td>\n",
       "      <td>1299.60</td>\n",
       "      <td>01-02-2023</td>\n",
       "      <td>2</td>\n",
       "      <td>February</td>\n",
       "      <td>2023</td>\n",
       "    </tr>\n",
       "    <tr>\n",
       "      <th>679</th>\n",
       "      <td>Government</td>\n",
       "      <td>Canada</td>\n",
       "      <td>Paseo</td>\n",
       "      <td>High</td>\n",
       "      <td>10</td>\n",
       "      <td>723.0</td>\n",
       "      <td>7</td>\n",
       "      <td>5061.0</td>\n",
       "      <td>759.15</td>\n",
       "      <td>4301.85</td>\n",
       "      <td>3615.0</td>\n",
       "      <td>686.85</td>\n",
       "      <td>01-04-2023</td>\n",
       "      <td>4</td>\n",
       "      <td>April</td>\n",
       "      <td>2023</td>\n",
       "    </tr>\n",
       "    <tr>\n",
       "      <th>680</th>\n",
       "      <td>Channel Partners</td>\n",
       "      <td>United States of America</td>\n",
       "      <td>VTT</td>\n",
       "      <td>High</td>\n",
       "      <td>250</td>\n",
       "      <td>1806.0</td>\n",
       "      <td>12</td>\n",
       "      <td>21672.0</td>\n",
       "      <td>3250.80</td>\n",
       "      <td>18421.20</td>\n",
       "      <td>5418.0</td>\n",
       "      <td>13003.20</td>\n",
       "      <td>01-05-2023</td>\n",
       "      <td>5</td>\n",
       "      <td>May</td>\n",
       "      <td>2023</td>\n",
       "    </tr>\n",
       "  </tbody>\n",
       "</table>\n",
       "<p>681 rows × 16 columns</p>\n",
       "</div>"
      ],
      "text/plain": [
       "              Segment                   Country    Product Discount Band  \\\n",
       "0          Government                    Canada  Carretera           NaN   \n",
       "1          Government                   Germany  Carretera           NaN   \n",
       "2           Midmarket                    France  Carretera           NaN   \n",
       "3           Midmarket                   Germany  Carretera           NaN   \n",
       "4           Midmarket                    Mexico  Carretera           NaN   \n",
       "..                ...                       ...        ...           ...   \n",
       "676    Small Business                    France   Amarilla          High   \n",
       "677    Small Business                    Mexico   Amarilla          High   \n",
       "678        Government                    Mexico    Montana          High   \n",
       "679        Government                    Canada      Paseo          High   \n",
       "680  Channel Partners  United States of America        VTT          High   \n",
       "\n",
       "     Product Cost  Units Sold  Sale Price  Gross Sales  Discounts      Sales  \\\n",
       "0               3      1618.5          20      32370.0       0.00   32370.00   \n",
       "1               3      1321.0          20      26420.0       0.00   26420.00   \n",
       "2               3      2178.0          15      32670.0       0.00   32670.00   \n",
       "3               3       888.0          15      13320.0       0.00   13320.00   \n",
       "4               3      2470.0          15      37050.0       0.00   37050.00   \n",
       "..            ...         ...         ...          ...        ...        ...   \n",
       "676           260      2475.0         300     742500.0  111375.00  631125.00   \n",
       "677           260       546.0         300     163800.0   24570.00  139230.00   \n",
       "678             5      1368.0           7       9576.0    1436.40    8139.60   \n",
       "679            10       723.0           7       5061.0     759.15    4301.85   \n",
       "680           250      1806.0          12      21672.0    3250.80   18421.20   \n",
       "\n",
       "         COGS    Profit        Date  Month Number Month Name  Year  \n",
       "0     16185.0  16185.00  01-01-2023             1    January  2023  \n",
       "1     13210.0  13210.00  01-01-2023             1    January  2023  \n",
       "2     21780.0  10890.00  01-06-2023             6       June  2023  \n",
       "3      8880.0   4440.00  01-06-2023             6       June  2023  \n",
       "4     24700.0  12350.00  01-06-2023             6       June  2023  \n",
       "..        ...       ...         ...           ...        ...   ...  \n",
       "676  618750.0  12375.00  01-03-2023             3      March  2023  \n",
       "677  136500.0   2730.00  01-10-2023            10    October  2023  \n",
       "678    6840.0   1299.60  01-02-2023             2   February  2023  \n",
       "679    3615.0    686.85  01-04-2023             4      April  2023  \n",
       "680    5418.0  13003.20  01-05-2023             5        May  2023  \n",
       "\n",
       "[681 rows x 16 columns]"
      ]
     },
     "execution_count": 29,
     "metadata": {},
     "output_type": "execute_result"
    }
   ],
   "source": [
    "df = pd.read_csv('FinData.csv')\n",
    "\n",
    "df"
   ]
  },
  {
   "cell_type": "markdown",
   "id": "83710cd1",
   "metadata": {},
   "source": [
    "## reading a dataframe from different location"
   ]
  },
  {
   "cell_type": "code",
   "execution_count": 30,
   "id": "6fda1d4f",
   "metadata": {},
   "outputs": [
    {
     "data": {
      "text/html": [
       "<div>\n",
       "<style scoped>\n",
       "    .dataframe tbody tr th:only-of-type {\n",
       "        vertical-align: middle;\n",
       "    }\n",
       "\n",
       "    .dataframe tbody tr th {\n",
       "        vertical-align: top;\n",
       "    }\n",
       "\n",
       "    .dataframe thead th {\n",
       "        text-align: right;\n",
       "    }\n",
       "</style>\n",
       "<table border=\"1\" class=\"dataframe\">\n",
       "  <thead>\n",
       "    <tr style=\"text-align: right;\">\n",
       "      <th></th>\n",
       "      <th>Name</th>\n",
       "      <th>Score</th>\n",
       "    </tr>\n",
       "  </thead>\n",
       "  <tbody>\n",
       "    <tr>\n",
       "      <th>0</th>\n",
       "      <td>Ghousia Fatima</td>\n",
       "      <td>20 / 26</td>\n",
       "    </tr>\n",
       "    <tr>\n",
       "      <th>1</th>\n",
       "      <td>Mohd Ismail Amjad</td>\n",
       "      <td>17 / 26</td>\n",
       "    </tr>\n",
       "    <tr>\n",
       "      <th>2</th>\n",
       "      <td>Samreen Amjad</td>\n",
       "      <td>21 / 26</td>\n",
       "    </tr>\n",
       "    <tr>\n",
       "      <th>3</th>\n",
       "      <td>Mohammed Bilal Ahmed</td>\n",
       "      <td>16 / 26</td>\n",
       "    </tr>\n",
       "    <tr>\n",
       "      <th>4</th>\n",
       "      <td>Mohd Emroz Ali</td>\n",
       "      <td>11 / 26</td>\n",
       "    </tr>\n",
       "    <tr>\n",
       "      <th>5</th>\n",
       "      <td>Syed Ahmed</td>\n",
       "      <td>09 / 26</td>\n",
       "    </tr>\n",
       "    <tr>\n",
       "      <th>6</th>\n",
       "      <td>Mohammed Sajid Hussain</td>\n",
       "      <td>17 / 26</td>\n",
       "    </tr>\n",
       "    <tr>\n",
       "      <th>7</th>\n",
       "      <td>Taha Ahmad Khan</td>\n",
       "      <td>20 / 26</td>\n",
       "    </tr>\n",
       "    <tr>\n",
       "      <th>8</th>\n",
       "      <td>Mohammed Zubair</td>\n",
       "      <td>25 / 26</td>\n",
       "    </tr>\n",
       "    <tr>\n",
       "      <th>9</th>\n",
       "      <td>Rafeeq Ahmed</td>\n",
       "      <td>14 / 26</td>\n",
       "    </tr>\n",
       "  </tbody>\n",
       "</table>\n",
       "</div>"
      ],
      "text/plain": [
       "                     Name    Score\n",
       "0          Ghousia Fatima  20 / 26\n",
       "1       Mohd Ismail Amjad  17 / 26\n",
       "2           Samreen Amjad  21 / 26\n",
       "3    Mohammed Bilal Ahmed  16 / 26\n",
       "4          Mohd Emroz Ali  11 / 26\n",
       "5              Syed Ahmed  09 / 26\n",
       "6  Mohammed Sajid Hussain  17 / 26\n",
       "7         Taha Ahmad Khan  20 / 26\n",
       "8         Mohammed Zubair  25 / 26\n",
       "9            Rafeeq Ahmed  14 / 26"
      ]
     },
     "execution_count": 30,
     "metadata": {},
     "output_type": "execute_result"
    }
   ],
   "source": [
    "df2 = pd.read_excel(\"C:\\\\Users\\\\uwais\\\\Downloads\\\\DA1 Score.xlsx\")\n",
    "\n",
    "df2"
   ]
  },
  {
   "cell_type": "markdown",
   "id": "790d8c24",
   "metadata": {},
   "source": [
    "## creating custom index"
   ]
  },
  {
   "cell_type": "code",
   "execution_count": 31,
   "id": "1f74c602",
   "metadata": {},
   "outputs": [
    {
     "data": {
      "text/html": [
       "<div>\n",
       "<style scoped>\n",
       "    .dataframe tbody tr th:only-of-type {\n",
       "        vertical-align: middle;\n",
       "    }\n",
       "\n",
       "    .dataframe tbody tr th {\n",
       "        vertical-align: top;\n",
       "    }\n",
       "\n",
       "    .dataframe thead th {\n",
       "        text-align: right;\n",
       "    }\n",
       "</style>\n",
       "<table border=\"1\" class=\"dataframe\">\n",
       "  <thead>\n",
       "    <tr style=\"text-align: right;\">\n",
       "      <th></th>\n",
       "      <th>name</th>\n",
       "      <th>role</th>\n",
       "      <th>salary</th>\n",
       "    </tr>\n",
       "  </thead>\n",
       "  <tbody>\n",
       "    <tr>\n",
       "      <th>101</th>\n",
       "      <td>Salman</td>\n",
       "      <td>DS</td>\n",
       "      <td>100</td>\n",
       "    </tr>\n",
       "    <tr>\n",
       "      <th>102</th>\n",
       "      <td>Uwaish</td>\n",
       "      <td>AI</td>\n",
       "      <td>200</td>\n",
       "    </tr>\n",
       "    <tr>\n",
       "      <th>103</th>\n",
       "      <td>Aisha</td>\n",
       "      <td>ML</td>\n",
       "      <td>300</td>\n",
       "    </tr>\n",
       "    <tr>\n",
       "      <th>104</th>\n",
       "      <td>Sayeeda</td>\n",
       "      <td>DA</td>\n",
       "      <td>400</td>\n",
       "    </tr>\n",
       "  </tbody>\n",
       "</table>\n",
       "</div>"
      ],
      "text/plain": [
       "        name role  salary\n",
       "101   Salman   DS     100\n",
       "102   Uwaish   AI     200\n",
       "103    Aisha   ML     300\n",
       "104  Sayeeda   DA     400"
      ]
     },
     "execution_count": 31,
     "metadata": {},
     "output_type": "execute_result"
    }
   ],
   "source": [
    "df = pd.DataFrame({'name':['Salman','Uwaish','Aisha','Sayeeda'],\n",
    "     'role':['DS','AI','ML','DA'],\n",
    "     'salary':[100,200,300,400]},index=[101,102,103,104])  #using dict of collection\n",
    "df"
   ]
  },
  {
   "cell_type": "code",
   "execution_count": 32,
   "id": "f05dff77",
   "metadata": {},
   "outputs": [
    {
     "data": {
      "text/html": [
       "<div>\n",
       "<style scoped>\n",
       "    .dataframe tbody tr th:only-of-type {\n",
       "        vertical-align: middle;\n",
       "    }\n",
       "\n",
       "    .dataframe tbody tr th {\n",
       "        vertical-align: top;\n",
       "    }\n",
       "\n",
       "    .dataframe thead th {\n",
       "        text-align: right;\n",
       "    }\n",
       "</style>\n",
       "<table border=\"1\" class=\"dataframe\">\n",
       "  <thead>\n",
       "    <tr style=\"text-align: right;\">\n",
       "      <th></th>\n",
       "      <th>Age</th>\n",
       "      <th>Score</th>\n",
       "    </tr>\n",
       "  </thead>\n",
       "  <tbody>\n",
       "    <tr>\n",
       "      <th>Uwaish</th>\n",
       "      <td>22</td>\n",
       "      <td>45</td>\n",
       "    </tr>\n",
       "    <tr>\n",
       "      <th>Husain</th>\n",
       "      <td>23</td>\n",
       "      <td>67</td>\n",
       "    </tr>\n",
       "    <tr>\n",
       "      <th>Raza</th>\n",
       "      <td>24</td>\n",
       "      <td>87</td>\n",
       "    </tr>\n",
       "    <tr>\n",
       "      <th>Khan</th>\n",
       "      <td>25</td>\n",
       "      <td>98</td>\n",
       "    </tr>\n",
       "  </tbody>\n",
       "</table>\n",
       "</div>"
      ],
      "text/plain": [
       "        Age  Score\n",
       "Uwaish   22     45\n",
       "Husain   23     67\n",
       "Raza     24     87\n",
       "Khan     25     98"
      ]
     },
     "execution_count": 32,
     "metadata": {},
     "output_type": "execute_result"
    }
   ],
   "source": [
    "df = pd.DataFrame({'Age':[22,23,24,25],\n",
    "                  'Score':[45,67,87,98]},index=['Uwaish','Husain','Raza','Khan'])\n",
    "\n",
    "df"
   ]
  },
  {
   "cell_type": "code",
   "execution_count": null,
   "id": "ac042d8c",
   "metadata": {},
   "outputs": [],
   "source": []
  }
 ],
 "metadata": {
  "kernelspec": {
   "display_name": "Python 3 (ipykernel)",
   "language": "python",
   "name": "python3"
  },
  "language_info": {
   "codemirror_mode": {
    "name": "ipython",
    "version": 3
   },
   "file_extension": ".py",
   "mimetype": "text/x-python",
   "name": "python",
   "nbconvert_exporter": "python",
   "pygments_lexer": "ipython3",
   "version": "3.13.5"
  }
 },
 "nbformat": 4,
 "nbformat_minor": 5
}
