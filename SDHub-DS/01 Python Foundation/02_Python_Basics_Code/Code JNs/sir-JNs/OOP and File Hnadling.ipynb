{
 "cells": [
  {
   "cell_type": "markdown",
   "id": "314f1245",
   "metadata": {},
   "source": [
    "## OOP:\n",
    "\n",
    "- Class : A blueprint\n",
    "- Object : An instance of class\n",
    "- Attribute : Property for the object\n",
    "- Method : Functionality for the object"
   ]
  },
  {
   "cell_type": "code",
   "execution_count": 18,
   "id": "71b1a563",
   "metadata": {},
   "outputs": [],
   "source": [
    "class PNB:\n",
    "    \n",
    "    # attributes/properties\n",
    "    \n",
    "    def __init__(self,acc_num,name,dob,mobile,id,branch,amount):\n",
    "        \n",
    "        self.acc_num = acc_num\n",
    "        self.name = name\n",
    "        self.dob = dob\n",
    "        self.mobile = mobile\n",
    "        self.id = id\n",
    "        self.branch = branch\n",
    "        self.amount = amount\n",
    "        \n",
    "    # functionality/methods\n",
    "    \n",
    "    def info(self):\n",
    "        \n",
    "        print(\"User info as below:\")\n",
    "        print(\"Acount Number:\",self.acc_num)\n",
    "        print(\"Name:\",self.name)\n",
    "        print(\"Date of Birth:\",self.dob)\n",
    "        print(\"Mobile Number:\",self.mobile)\n",
    "        print(\"Available Amount:\",self.amount)\n",
    "        \n",
    "    def check_balance(self):\n",
    "        \n",
    "        print(\"Your account balance is:\",self.amount)\n",
    "        \n",
    "    def deposit(self):\n",
    "        \n",
    "        dep_amt = float(input(\"Please enter the amount (INR):\"))\n",
    "        \n",
    "        self.amount = self.amount + dep_amt\n",
    "        \n",
    "        print(\"You account balance is:\",self.amount)\n",
    "        \n",
    "    def withdrawal(self):\n",
    "        \n",
    "        with_amt = float(input(\"Please enter the amount (INR):\"))\n",
    "        \n",
    "        if with_amt <= self.amount:\n",
    "            self.amount = self.amount - with_amt\n",
    "            print(\"You account balance is:\",self.amount)\n",
    "            \n",
    "        else:\n",
    "            print(\"Please enter the amount lower than account balance!\")"
   ]
  },
  {
   "cell_type": "code",
   "execution_count": 19,
   "id": "d931c1cd",
   "metadata": {},
   "outputs": [],
   "source": [
    "# creating object\n",
    "\n",
    "faiz = PNB(101010182,'Faiz','01-01-2002',90327446,'Aadhar','Hyd',1000000)"
   ]
  },
  {
   "cell_type": "code",
   "execution_count": 20,
   "id": "1a12986d",
   "metadata": {},
   "outputs": [
    {
     "name": "stdout",
     "output_type": "stream",
     "text": [
      "User info as below:\n",
      "Acount Number: 101010182\n",
      "Name: Faiz\n",
      "Date of Birth: 01-01-2002\n",
      "Mobile Number: 90327446\n",
      "Available Amount: 1000000\n"
     ]
    }
   ],
   "source": [
    "faiz.info()"
   ]
  },
  {
   "cell_type": "code",
   "execution_count": 21,
   "id": "b16a3ee9",
   "metadata": {},
   "outputs": [
    {
     "name": "stdout",
     "output_type": "stream",
     "text": [
      "Your account balance is: 1000000\n"
     ]
    }
   ],
   "source": [
    "faiz.check_balance()"
   ]
  },
  {
   "cell_type": "code",
   "execution_count": 22,
   "id": "c804789d",
   "metadata": {},
   "outputs": [
    {
     "name": "stdout",
     "output_type": "stream",
     "text": [
      "Please enter the amount (INR):32445\n",
      "You account balance is: 1032445.0\n"
     ]
    }
   ],
   "source": [
    "faiz.deposit()"
   ]
  },
  {
   "cell_type": "code",
   "execution_count": 23,
   "id": "23d55fb3",
   "metadata": {},
   "outputs": [
    {
     "name": "stdout",
     "output_type": "stream",
     "text": [
      "Your account balance is: 1032445.0\n"
     ]
    }
   ],
   "source": [
    "faiz.check_balance()"
   ]
  },
  {
   "cell_type": "code",
   "execution_count": 24,
   "id": "7d09c6e2",
   "metadata": {},
   "outputs": [
    {
     "name": "stdout",
     "output_type": "stream",
     "text": [
      "Please enter the amount (INR):3247365864535\n",
      "Please enter the amount lower than account balance!\n"
     ]
    }
   ],
   "source": [
    "faiz.withdrawal()"
   ]
  },
  {
   "cell_type": "markdown",
   "id": "c31b2e7d",
   "metadata": {},
   "source": [
    "# OOP Properties"
   ]
  },
  {
   "cell_type": "markdown",
   "id": "51fa47a0",
   "metadata": {},
   "source": [
    "## 1. Encapsulation\n",
    "- Binding data (variables) and methods (functions) inside a class."
   ]
  },
  {
   "cell_type": "code",
   "execution_count": 1,
   "id": "a053ed23",
   "metadata": {},
   "outputs": [],
   "source": [
    "class Person:\n",
    "    def __init__(self, name, age):\n",
    "        self.name = name      # public\n",
    "        self.__age = age      # private\n",
    "\n",
    "    def show(self):\n",
    "        print(f\"Name: {self.name}, Age: {self.__age}\")"
   ]
  },
  {
   "cell_type": "code",
   "execution_count": 2,
   "id": "c2258b41",
   "metadata": {},
   "outputs": [
    {
     "name": "stdout",
     "output_type": "stream",
     "text": [
      "Name: Ali, Age: 30\n"
     ]
    }
   ],
   "source": [
    "p = Person(\"Ali\", 30)\n",
    "p.show()  # p.__age → will raise an error (private)"
   ]
  },
  {
   "cell_type": "markdown",
   "id": "20bf2ad2",
   "metadata": {},
   "source": [
    "**Why?** Keeps internal details secure and controlled using methods."
   ]
  },
  {
   "cell_type": "code",
   "execution_count": null,
   "id": "ee26b866",
   "metadata": {},
   "outputs": [],
   "source": []
  },
  {
   "cell_type": "code",
   "execution_count": 5,
   "id": "2854bea9",
   "metadata": {},
   "outputs": [],
   "source": [
    "class Parent:\n",
    "    \n",
    "    a = 10     # public\n",
    "    __b = 20   # private\n",
    "    \n",
    "    def method1(self):\n",
    "        \n",
    "        print(self.a,self.__b)\n",
    "        \n",
    "class child (Parent):\n",
    "    \n",
    "    def method2(self):\n",
    "        \n",
    "        print(self.a)\n",
    "        print(self.__b)  # print(self._Parent__b)"
   ]
  },
  {
   "cell_type": "code",
   "execution_count": 6,
   "id": "8fb0a729",
   "metadata": {},
   "outputs": [],
   "source": [
    "obj1 = child()"
   ]
  },
  {
   "cell_type": "code",
   "execution_count": 7,
   "id": "52b22062",
   "metadata": {},
   "outputs": [
    {
     "data": {
      "text/plain": [
       "10"
      ]
     },
     "execution_count": 7,
     "metadata": {},
     "output_type": "execute_result"
    }
   ],
   "source": [
    "obj1.a"
   ]
  },
  {
   "cell_type": "code",
   "execution_count": 8,
   "id": "745280ee",
   "metadata": {},
   "outputs": [
    {
     "name": "stdout",
     "output_type": "stream",
     "text": [
      "10\n"
     ]
    },
    {
     "ename": "AttributeError",
     "evalue": "'child' object has no attribute '_child__b'",
     "output_type": "error",
     "traceback": [
      "\u001b[1;31m---------------------------------------------------------------------------\u001b[0m",
      "\u001b[1;31mAttributeError\u001b[0m                            Traceback (most recent call last)",
      "Cell \u001b[1;32mIn[8], line 1\u001b[0m\n\u001b[1;32m----> 1\u001b[0m obj1\u001b[38;5;241m.\u001b[39mmethod2()\n",
      "Cell \u001b[1;32mIn[5], line 15\u001b[0m, in \u001b[0;36mchild.method2\u001b[1;34m(self)\u001b[0m\n\u001b[0;32m     12\u001b[0m \u001b[38;5;28;01mdef\u001b[39;00m \u001b[38;5;21mmethod2\u001b[39m(\u001b[38;5;28mself\u001b[39m):\n\u001b[0;32m     14\u001b[0m     \u001b[38;5;28mprint\u001b[39m(\u001b[38;5;28mself\u001b[39m\u001b[38;5;241m.\u001b[39ma)\n\u001b[1;32m---> 15\u001b[0m     \u001b[38;5;28mprint\u001b[39m(\u001b[38;5;28mself\u001b[39m\u001b[38;5;241m.\u001b[39m__b)\n",
      "\u001b[1;31mAttributeError\u001b[0m: 'child' object has no attribute '_child__b'"
     ]
    }
   ],
   "source": [
    "obj1.method2()"
   ]
  },
  {
   "cell_type": "code",
   "execution_count": 9,
   "id": "4a21c88f",
   "metadata": {},
   "outputs": [
    {
     "data": {
      "text/plain": [
       "['_Parent__b',\n",
       " '__class__',\n",
       " '__delattr__',\n",
       " '__dict__',\n",
       " '__dir__',\n",
       " '__doc__',\n",
       " '__eq__',\n",
       " '__format__',\n",
       " '__ge__',\n",
       " '__getattribute__',\n",
       " '__getstate__',\n",
       " '__gt__',\n",
       " '__hash__',\n",
       " '__init__',\n",
       " '__init_subclass__',\n",
       " '__le__',\n",
       " '__lt__',\n",
       " '__module__',\n",
       " '__ne__',\n",
       " '__new__',\n",
       " '__reduce__',\n",
       " '__reduce_ex__',\n",
       " '__repr__',\n",
       " '__setattr__',\n",
       " '__sizeof__',\n",
       " '__str__',\n",
       " '__subclasshook__',\n",
       " '__weakref__',\n",
       " 'a',\n",
       " 'method1']"
      ]
     },
     "execution_count": 9,
     "metadata": {},
     "output_type": "execute_result"
    }
   ],
   "source": [
    "dir(Parent)  # to know the magical method"
   ]
  },
  {
   "cell_type": "code",
   "execution_count": 10,
   "id": "60fe57d4",
   "metadata": {},
   "outputs": [
    {
     "data": {
      "text/plain": [
       "['__add__',\n",
       " '__class__',\n",
       " '__class_getitem__',\n",
       " '__contains__',\n",
       " '__delattr__',\n",
       " '__delitem__',\n",
       " '__dir__',\n",
       " '__doc__',\n",
       " '__eq__',\n",
       " '__format__',\n",
       " '__ge__',\n",
       " '__getattribute__',\n",
       " '__getitem__',\n",
       " '__getstate__',\n",
       " '__gt__',\n",
       " '__hash__',\n",
       " '__iadd__',\n",
       " '__imul__',\n",
       " '__init__',\n",
       " '__init_subclass__',\n",
       " '__iter__',\n",
       " '__le__',\n",
       " '__len__',\n",
       " '__lt__',\n",
       " '__mul__',\n",
       " '__ne__',\n",
       " '__new__',\n",
       " '__reduce__',\n",
       " '__reduce_ex__',\n",
       " '__repr__',\n",
       " '__reversed__',\n",
       " '__rmul__',\n",
       " '__setattr__',\n",
       " '__setitem__',\n",
       " '__sizeof__',\n",
       " '__str__',\n",
       " '__subclasshook__',\n",
       " 'append',\n",
       " 'clear',\n",
       " 'copy',\n",
       " 'count',\n",
       " 'extend',\n",
       " 'index',\n",
       " 'insert',\n",
       " 'pop',\n",
       " 'remove',\n",
       " 'reverse',\n",
       " 'sort']"
      ]
     },
     "execution_count": 10,
     "metadata": {},
     "output_type": "execute_result"
    }
   ],
   "source": [
    "dir(list)"
   ]
  },
  {
   "cell_type": "code",
   "execution_count": 11,
   "id": "99424a39",
   "metadata": {},
   "outputs": [
    {
     "name": "stdout",
     "output_type": "stream",
     "text": [
      "Help on class list in module builtins:\n",
      "\n",
      "class list(object)\n",
      " |  list(iterable=(), /)\n",
      " |  \n",
      " |  Built-in mutable sequence.\n",
      " |  \n",
      " |  If no argument is given, the constructor creates a new empty list.\n",
      " |  The argument must be an iterable if specified.\n",
      " |  \n",
      " |  Methods defined here:\n",
      " |  \n",
      " |  __add__(self, value, /)\n",
      " |      Return self+value.\n",
      " |  \n",
      " |  __contains__(self, key, /)\n",
      " |      Return key in self.\n",
      " |  \n",
      " |  __delitem__(self, key, /)\n",
      " |      Delete self[key].\n",
      " |  \n",
      " |  __eq__(self, value, /)\n",
      " |      Return self==value.\n",
      " |  \n",
      " |  __ge__(self, value, /)\n",
      " |      Return self>=value.\n",
      " |  \n",
      " |  __getattribute__(self, name, /)\n",
      " |      Return getattr(self, name).\n",
      " |  \n",
      " |  __getitem__(...)\n",
      " |      x.__getitem__(y) <==> x[y]\n",
      " |  \n",
      " |  __gt__(self, value, /)\n",
      " |      Return self>value.\n",
      " |  \n",
      " |  __iadd__(self, value, /)\n",
      " |      Implement self+=value.\n",
      " |  \n",
      " |  __imul__(self, value, /)\n",
      " |      Implement self*=value.\n",
      " |  \n",
      " |  __init__(self, /, *args, **kwargs)\n",
      " |      Initialize self.  See help(type(self)) for accurate signature.\n",
      " |  \n",
      " |  __iter__(self, /)\n",
      " |      Implement iter(self).\n",
      " |  \n",
      " |  __le__(self, value, /)\n",
      " |      Return self<=value.\n",
      " |  \n",
      " |  __len__(self, /)\n",
      " |      Return len(self).\n",
      " |  \n",
      " |  __lt__(self, value, /)\n",
      " |      Return self<value.\n",
      " |  \n",
      " |  __mul__(self, value, /)\n",
      " |      Return self*value.\n",
      " |  \n",
      " |  __ne__(self, value, /)\n",
      " |      Return self!=value.\n",
      " |  \n",
      " |  __repr__(self, /)\n",
      " |      Return repr(self).\n",
      " |  \n",
      " |  __reversed__(self, /)\n",
      " |      Return a reverse iterator over the list.\n",
      " |  \n",
      " |  __rmul__(self, value, /)\n",
      " |      Return value*self.\n",
      " |  \n",
      " |  __setitem__(self, key, value, /)\n",
      " |      Set self[key] to value.\n",
      " |  \n",
      " |  __sizeof__(self, /)\n",
      " |      Return the size of the list in memory, in bytes.\n",
      " |  \n",
      " |  append(self, object, /)\n",
      " |      Append object to the end of the list.\n",
      " |  \n",
      " |  clear(self, /)\n",
      " |      Remove all items from list.\n",
      " |  \n",
      " |  copy(self, /)\n",
      " |      Return a shallow copy of the list.\n",
      " |  \n",
      " |  count(self, value, /)\n",
      " |      Return number of occurrences of value.\n",
      " |  \n",
      " |  extend(self, iterable, /)\n",
      " |      Extend list by appending elements from the iterable.\n",
      " |  \n",
      " |  index(self, value, start=0, stop=9223372036854775807, /)\n",
      " |      Return first index of value.\n",
      " |      \n",
      " |      Raises ValueError if the value is not present.\n",
      " |  \n",
      " |  insert(self, index, object, /)\n",
      " |      Insert object before index.\n",
      " |  \n",
      " |  pop(self, index=-1, /)\n",
      " |      Remove and return item at index (default last).\n",
      " |      \n",
      " |      Raises IndexError if list is empty or index is out of range.\n",
      " |  \n",
      " |  remove(self, value, /)\n",
      " |      Remove first occurrence of value.\n",
      " |      \n",
      " |      Raises ValueError if the value is not present.\n",
      " |  \n",
      " |  reverse(self, /)\n",
      " |      Reverse *IN PLACE*.\n",
      " |  \n",
      " |  sort(self, /, *, key=None, reverse=False)\n",
      " |      Sort the list in ascending order and return None.\n",
      " |      \n",
      " |      The sort is in-place (i.e. the list itself is modified) and stable (i.e. the\n",
      " |      order of two equal elements is maintained).\n",
      " |      \n",
      " |      If a key function is given, apply it once to each list item and sort them,\n",
      " |      ascending or descending, according to their function values.\n",
      " |      \n",
      " |      The reverse flag can be set to sort in descending order.\n",
      " |  \n",
      " |  ----------------------------------------------------------------------\n",
      " |  Class methods defined here:\n",
      " |  \n",
      " |  __class_getitem__(...) from builtins.type\n",
      " |      See PEP 585\n",
      " |  \n",
      " |  ----------------------------------------------------------------------\n",
      " |  Static methods defined here:\n",
      " |  \n",
      " |  __new__(*args, **kwargs) from builtins.type\n",
      " |      Create and return a new object.  See help(type) for accurate signature.\n",
      " |  \n",
      " |  ----------------------------------------------------------------------\n",
      " |  Data and other attributes defined here:\n",
      " |  \n",
      " |  __hash__ = None\n",
      "\n"
     ]
    }
   ],
   "source": [
    "help(list)"
   ]
  },
  {
   "cell_type": "markdown",
   "id": "3bf305b5",
   "metadata": {},
   "source": [
    "## 2. Inheritance\n",
    "- One class inherits features (variables and methods) from another."
   ]
  },
  {
   "cell_type": "code",
   "execution_count": 3,
   "id": "8d246fd5",
   "metadata": {},
   "outputs": [],
   "source": [
    "class Animal:    #parent class\n",
    "    def speak(self):\n",
    "        print(\"Animal speaks\")\n",
    "\n",
    "class Dog(Animal): #child class\n",
    "    def bark(self):\n",
    "        print(\"Dog barks\")"
   ]
  },
  {
   "cell_type": "code",
   "execution_count": 4,
   "id": "400682bc",
   "metadata": {},
   "outputs": [
    {
     "name": "stdout",
     "output_type": "stream",
     "text": [
      "Animal speaks\n",
      "Dog barks\n"
     ]
    }
   ],
   "source": [
    "d = Dog()\n",
    "d.speak()  # Inherited\n",
    "d.bark()   # Own method"
   ]
  },
  {
   "cell_type": "markdown",
   "id": "3090b2b9",
   "metadata": {},
   "source": [
    "**Why?** Promotes code reuse and hierarchy."
   ]
  },
  {
   "cell_type": "code",
   "execution_count": 12,
   "id": "ee762819",
   "metadata": {},
   "outputs": [],
   "source": [
    "class Common:\n",
    "    \n",
    "    def info(self):\n",
    "        \n",
    "        Course = 'Data Science'\n",
    "        Timing = '3.30 pm'\n",
    "        Classroom = '2nd floor- last room'\n",
    "        \n",
    "        print(\"Course:\",Course)\n",
    "        print(\"Timings:\",Timing)\n",
    "        print(\"Classroom:\",Classroom)"
   ]
  },
  {
   "cell_type": "code",
   "execution_count": 15,
   "id": "a458f2dd",
   "metadata": {},
   "outputs": [],
   "source": [
    "class Faculty (Common):\n",
    "    \n",
    "    def fac_info(self):\n",
    "        \n",
    "        name = \"Uwaish\"\n",
    "        salary = '10000'\n",
    "        \n",
    "        print(\"Name:\",name)\n",
    "        print(\"Salary:\",salary)"
   ]
  },
  {
   "cell_type": "code",
   "execution_count": 16,
   "id": "5038f23c",
   "metadata": {},
   "outputs": [],
   "source": [
    "uwaish = Faculty()"
   ]
  },
  {
   "cell_type": "code",
   "execution_count": 17,
   "id": "a52d7c4a",
   "metadata": {},
   "outputs": [
    {
     "name": "stdout",
     "output_type": "stream",
     "text": [
      "Course: Data Science\n",
      "Timings: 3.30 pm\n",
      "Classroom: 2nd floor- last room\n"
     ]
    }
   ],
   "source": [
    "uwaish.info()"
   ]
  },
  {
   "cell_type": "code",
   "execution_count": 18,
   "id": "2021e33d",
   "metadata": {},
   "outputs": [
    {
     "name": "stdout",
     "output_type": "stream",
     "text": [
      "Name: Uwaish\n",
      "Salary: 10000\n"
     ]
    }
   ],
   "source": [
    "uwaish.fac_info()"
   ]
  },
  {
   "cell_type": "code",
   "execution_count": 20,
   "id": "87f4e232",
   "metadata": {},
   "outputs": [],
   "source": [
    "class Student (Common):\n",
    "    \n",
    "    def stu_info(self):\n",
    "        \n",
    "        name = \"Faiz\"\n",
    "        fee = 10000\n",
    "        \n",
    "        print(\"Name:\",name)\n",
    "        print(\"Fee:\",fee)"
   ]
  },
  {
   "cell_type": "code",
   "execution_count": 21,
   "id": "c467e5e0",
   "metadata": {},
   "outputs": [],
   "source": [
    "faiz = Student()"
   ]
  },
  {
   "cell_type": "code",
   "execution_count": 22,
   "id": "ff1dd942",
   "metadata": {},
   "outputs": [
    {
     "name": "stdout",
     "output_type": "stream",
     "text": [
      "Course: Data Science\n",
      "Timings: 3.30 pm\n",
      "Classroom: 2nd floor- last room\n"
     ]
    }
   ],
   "source": [
    "faiz.info()"
   ]
  },
  {
   "cell_type": "markdown",
   "id": "902db7fa",
   "metadata": {},
   "source": [
    "## 3. Polymorphism\n",
    "- Same method name behaves differently for different classes."
   ]
  },
  {
   "cell_type": "code",
   "execution_count": 5,
   "id": "4510f5b8",
   "metadata": {},
   "outputs": [],
   "source": [
    "class Bird:\n",
    "    def sound(self):\n",
    "        print(\"Bird chirps\")\n",
    "\n",
    "class Cat:\n",
    "    def sound(self):\n",
    "        print(\"Cat meows\")"
   ]
  },
  {
   "cell_type": "code",
   "execution_count": 6,
   "id": "38dbfe15",
   "metadata": {},
   "outputs": [
    {
     "name": "stdout",
     "output_type": "stream",
     "text": [
      "Bird chirps\n",
      "Cat meows\n"
     ]
    }
   ],
   "source": [
    "# Polymorphism in action\n",
    "for animal in [Bird(), Cat()]:\n",
    "    animal.sound()"
   ]
  },
  {
   "cell_type": "markdown",
   "id": "d9911a1f",
   "metadata": {},
   "source": [
    "**Why?** Flexible code that works with different types of objects."
   ]
  },
  {
   "cell_type": "code",
   "execution_count": 28,
   "id": "ce09425f",
   "metadata": {},
   "outputs": [],
   "source": [
    "class Area:   #base\n",
    "    \n",
    "    def calc_area(self):\n",
    "        pass\n",
    "    \n",
    "class circle (Area):\n",
    "    \n",
    "    def __init__(self,r):\n",
    "        \n",
    "        self.r = r\n",
    "        \n",
    "    def calc_area(self):\n",
    "        \n",
    "        return 3.14*(self.r**2)\n",
    "    \n",
    "class square (Area):\n",
    "    \n",
    "    def __init__(self,side):\n",
    "        \n",
    "        self.side = side\n",
    "        \n",
    "    def calc_area(self):\n",
    "        \n",
    "        return self.side**2"
   ]
  },
  {
   "cell_type": "code",
   "execution_count": 29,
   "id": "56fd01cc",
   "metadata": {},
   "outputs": [],
   "source": [
    "obj1 = circle(3)"
   ]
  },
  {
   "cell_type": "code",
   "execution_count": 30,
   "id": "b5be2047",
   "metadata": {},
   "outputs": [
    {
     "data": {
      "text/plain": [
       "28.26"
      ]
     },
     "execution_count": 30,
     "metadata": {},
     "output_type": "execute_result"
    }
   ],
   "source": [
    "obj1.calc_area()"
   ]
  },
  {
   "cell_type": "code",
   "execution_count": 32,
   "id": "23842a14",
   "metadata": {},
   "outputs": [],
   "source": [
    "obj2 = square(4)"
   ]
  },
  {
   "cell_type": "code",
   "execution_count": 33,
   "id": "3307f68d",
   "metadata": {},
   "outputs": [
    {
     "data": {
      "text/plain": [
       "16"
      ]
     },
     "execution_count": 33,
     "metadata": {},
     "output_type": "execute_result"
    }
   ],
   "source": [
    "obj2.calc_area()"
   ]
  },
  {
   "cell_type": "markdown",
   "id": "190d6308",
   "metadata": {},
   "source": [
    "## 4. Abstraction\n",
    "- Hiding implementation details, showing only essentials."
   ]
  },
  {
   "cell_type": "code",
   "execution_count": 35,
   "id": "731ba8e8",
   "metadata": {},
   "outputs": [],
   "source": [
    "from abc import ABC, abstractmethod\n",
    "\n",
    "class Shape(ABC):\n",
    "    @abstractmethod\n",
    "    def area(self):   #declaration\n",
    "        pass\n",
    "\n",
    "class Square(Shape):\n",
    "    def __init__(self, side):\n",
    "        self.side = side\n",
    "  \n",
    "    def area(self):    #implementation\n",
    "        return self.side * self.side"
   ]
  },
  {
   "cell_type": "code",
   "execution_count": 36,
   "id": "77d32f2e",
   "metadata": {},
   "outputs": [
    {
     "name": "stdout",
     "output_type": "stream",
     "text": [
      "16\n"
     ]
    }
   ],
   "source": [
    "s = Square(4)\n",
    "print(s.area())"
   ]
  },
  {
   "cell_type": "code",
   "execution_count": 37,
   "id": "d0c81fa3",
   "metadata": {},
   "outputs": [
    {
     "ename": "TypeError",
     "evalue": "Can't instantiate abstract class Shape with abstract method area",
     "output_type": "error",
     "traceback": [
      "\u001b[1;31m---------------------------------------------------------------------------\u001b[0m",
      "\u001b[1;31mTypeError\u001b[0m                                 Traceback (most recent call last)",
      "Cell \u001b[1;32mIn[37], line 1\u001b[0m\n\u001b[1;32m----> 1\u001b[0m obj \u001b[38;5;241m=\u001b[39m Shape()\n",
      "\u001b[1;31mTypeError\u001b[0m: Can't instantiate abstract class Shape with abstract method area"
     ]
    }
   ],
   "source": [
    "obj = Shape()  # class and all its functionality is hidden"
   ]
  },
  {
   "cell_type": "markdown",
   "id": "d73dee89",
   "metadata": {},
   "source": [
    "**Why?** Force subclasses to implement specific methods (blueprint)."
   ]
  },
  {
   "cell_type": "markdown",
   "id": "43363b10",
   "metadata": {},
   "source": [
    "## File Handling"
   ]
  },
  {
   "cell_type": "code",
   "execution_count": 41,
   "id": "aff98eff",
   "metadata": {},
   "outputs": [
    {
     "data": {
      "text/plain": [
       "\"My name is Uwaish and I don't care who you are.\""
      ]
     },
     "execution_count": 41,
     "metadata": {},
     "output_type": "execute_result"
    }
   ],
   "source": [
    "file = open('me.txt')\n",
    "\n",
    "file.read()   # to display content"
   ]
  },
  {
   "cell_type": "code",
   "execution_count": 42,
   "id": "2a16cf8a",
   "metadata": {},
   "outputs": [
    {
     "data": {
      "text/plain": [
       "'Faiz is not interested in marriage.'"
      ]
     },
     "execution_count": 42,
     "metadata": {},
     "output_type": "execute_result"
    }
   ],
   "source": [
    "file = open('faiz.txt')\n",
    "\n",
    "file.read()"
   ]
  },
  {
   "cell_type": "code",
   "execution_count": 43,
   "id": "d8aff9c6",
   "metadata": {},
   "outputs": [],
   "source": [
    "file.close()"
   ]
  },
  {
   "cell_type": "code",
   "execution_count": 44,
   "id": "5676d0ae",
   "metadata": {},
   "outputs": [
    {
     "data": {
      "text/plain": [
       "'Faiz is not interested in marriage.'"
      ]
     },
     "execution_count": 44,
     "metadata": {},
     "output_type": "execute_result"
    }
   ],
   "source": [
    "# opening file with a mode\n",
    "\n",
    "f = open('faiz.txt','r')\n",
    "\n",
    "f.read()"
   ]
  },
  {
   "cell_type": "code",
   "execution_count": 45,
   "id": "9b5c7072",
   "metadata": {},
   "outputs": [],
   "source": [
    "f.close()"
   ]
  },
  {
   "cell_type": "code",
   "execution_count": 46,
   "id": "dce87d86",
   "metadata": {},
   "outputs": [
    {
     "data": {
      "text/plain": [
       "'Faiz is not interested in marriage.'"
      ]
     },
     "execution_count": 46,
     "metadata": {},
     "output_type": "execute_result"
    }
   ],
   "source": [
    "# method (different location)\n",
    "\n",
    "f = open(\"C:\\\\Users\\\\uwais\\\\Desktop\\\\faiz.txt\",'r')\n",
    "\n",
    "f.read()"
   ]
  },
  {
   "cell_type": "code",
   "execution_count": 47,
   "id": "e01eb04b",
   "metadata": {},
   "outputs": [],
   "source": [
    "f.close()"
   ]
  },
  {
   "cell_type": "code",
   "execution_count": 50,
   "id": "80a04373",
   "metadata": {},
   "outputs": [],
   "source": [
    "# writing a file\n",
    "\n",
    "file = open('testing.txt','w')\n",
    "\n",
    "file.write(\"My dream is not to have any dream!\")\n",
    "\n",
    "file.close()"
   ]
  },
  {
   "cell_type": "code",
   "execution_count": 51,
   "id": "7f190fe1",
   "metadata": {},
   "outputs": [
    {
     "data": {
      "text/plain": [
       "'My dream is not to have any dream!'"
      ]
     },
     "execution_count": 51,
     "metadata": {},
     "output_type": "execute_result"
    }
   ],
   "source": [
    "file = open('testing.txt','r')\n",
    "\n",
    "file.read()"
   ]
  },
  {
   "cell_type": "markdown",
   "id": "c396b5c5",
   "metadata": {},
   "source": [
    "**ToDo**\n",
    "\n",
    "- Write a file at same location and then read\n",
    "- Write a file at different location and then read"
   ]
  },
  {
   "cell_type": "code",
   "execution_count": 53,
   "id": "15a7f1b2",
   "metadata": {},
   "outputs": [
    {
     "data": {
      "text/plain": [
       "\"My name is Uwaish and I don't care who you are.\\nI have the below features:\\n1. Confidence\\n2. Laziness\\n3. Watching Movies\\n\""
      ]
     },
     "execution_count": 53,
     "metadata": {},
     "output_type": "execute_result"
    }
   ],
   "source": [
    "f = open('me.txt','r')\n",
    "\n",
    "f.read()"
   ]
  },
  {
   "cell_type": "code",
   "execution_count": 55,
   "id": "bd5a13b2",
   "metadata": {},
   "outputs": [],
   "source": [
    "f.close()"
   ]
  },
  {
   "cell_type": "code",
   "execution_count": 56,
   "id": "fefff03e",
   "metadata": {},
   "outputs": [
    {
     "name": "stdout",
     "output_type": "stream",
     "text": [
      "My name is Uwaish and I don't care who you are.\n",
      "I have the below features:\n",
      "1. Confidence\n",
      "2. Laziness\n",
      "3. Watching Movies\n",
      "\n"
     ]
    }
   ],
   "source": [
    "f = open('me.txt','r')\n",
    "\n",
    "print(f.read())"
   ]
  },
  {
   "cell_type": "markdown",
   "id": "4218718f",
   "metadata": {},
   "source": [
    "**WAP to create a txt file which has the below content in same format:**\n",
    "\n",
    "Pyhton is a programming language and has the following features:\n",
    "\n",
    "1. Open Source\n",
    "2. Platform Independent\n",
    "3. Supports all Paradigm\n",
    "4. Vast Collection of Libraries\n",
    "5. Use Friendly"
   ]
  },
  {
   "cell_type": "code",
   "execution_count": null,
   "id": "c7ab74b0",
   "metadata": {},
   "outputs": [],
   "source": []
  }
 ],
 "metadata": {
  "kernelspec": {
   "display_name": "Python 3 (ipykernel)",
   "language": "python",
   "name": "python3"
  },
  "language_info": {
   "codemirror_mode": {
    "name": "ipython",
    "version": 3
   },
   "file_extension": ".py",
   "mimetype": "text/x-python",
   "name": "python",
   "nbconvert_exporter": "python",
   "pygments_lexer": "ipython3",
   "version": "3.11.5"
  }
 },
 "nbformat": 4,
 "nbformat_minor": 5
}
