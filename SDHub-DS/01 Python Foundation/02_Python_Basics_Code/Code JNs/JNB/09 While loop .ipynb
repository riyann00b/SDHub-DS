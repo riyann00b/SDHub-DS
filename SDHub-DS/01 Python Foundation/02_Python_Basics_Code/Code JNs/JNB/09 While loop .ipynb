{
 "cells": [
  {
   "cell_type": "markdown",
   "id": "d8725eac-99bb-4e4b-9d6d-d47190d67b42",
   "metadata": {},
   "source": [
    "# While loop \n",
    "\n",
    "1. while\n",
    "   - step1: Initialization\n",
    "   - step2: condition\n",
    "   - step3: operation\n",
    "\n",
    "> ###### **While loop we write conditional programming and it keep running until the condition is False**\n",
    "\n",
    "```python\n",
    "while condi:\n",
    "    if condi:\n",
    "        =\n",
    "    else:\n",
    "        =\n",
    "        operation\n",
    "```\n",
    "\n",
    "## Conditional statements / keywords\n",
    "1. break : stop execution\n",
    "2. continue : skip execution\n",
    "3. syntacitically corrects/ pass the logic\n",
    "\n",
    "example;\n",
    "\n",
    "```python\n",
    "num = 1\n",
    "while num <= 10:\n",
    "    print(num)\n",
    "    if num == 5:\n",
    "        break\n",
    "    num += 1\n",
    "```"
   ]
  },
  {
   "cell_type": "code",
   "execution_count": 1,
   "id": "49cf2ba6-7063-47e9-b644-47756d306825",
   "metadata": {},
   "outputs": [
    {
     "name": "stdout",
     "output_type": "stream",
     "text": [
      "1\n",
      "2\n",
      "3\n",
      "4\n",
      "5\n"
     ]
    }
   ],
   "source": [
    "num = 1\n",
    "while num <= 10:\n",
    "    print(num)\n",
    "    if num == 5:\n",
    "        break\n",
    "    num += 1"
   ]
  },
  {
   "cell_type": "code",
   "execution_count": 2,
   "id": "7d4d895e-25a3-4bc4-b459-4103cad42ca0",
   "metadata": {},
   "outputs": [
    {
     "name": "stdout",
     "output_type": "stream",
     "text": [
      "1\n",
      "2\n",
      "3\n",
      "4\n",
      "5\n",
      "6\n",
      "7\n",
      "8\n",
      "9\n",
      "10\n"
     ]
    }
   ],
   "source": [
    "num = 1\n",
    "while num <= 10:\n",
    "    print(num)\n",
    "#    if num == 5:\n",
    "#        continue # infinite loop\n",
    "\n",
    "    num += 1"
   ]
  },
  {
   "cell_type": "code",
   "execution_count": 7,
   "id": "2e9c045e-08f1-4cea-ac0a-fe9b49f3025c",
   "metadata": {},
   "outputs": [
    {
     "name": "stdout",
     "output_type": "stream",
     "text": [
      "1\n",
      "2\n",
      "3\n",
      "4\n",
      "6\n",
      "7\n",
      "8\n",
      "9\n",
      "10\n",
      "11\n"
     ]
    }
   ],
   "source": [
    "num = 0\n",
    "while num <= 10:\n",
    "    num += 1\n",
    "    if num == 5:\n",
    "        continue\n",
    "    print(num)"
   ]
  },
  {
   "cell_type": "code",
   "execution_count": 10,
   "id": "97ac92c9-66b7-4a9a-8810-01eba290b538",
   "metadata": {},
   "outputs": [
    {
     "name": "stdout",
     "output_type": "stream",
     "text": [
      "1\n",
      "2\n",
      "3\n",
      "4\n",
      "5\n",
      "6\n",
      "7\n",
      "8\n",
      "9\n",
      "10\n",
      "11\n"
     ]
    }
   ],
   "source": [
    "num = 0\n",
    "while num <= 10:\n",
    "    num += 1\n",
    "    if num == 5:\n",
    "        pass\n",
    "    print(num)"
   ]
  },
  {
   "cell_type": "code",
   "execution_count": 13,
   "id": "4cb77bac-d155-445a-b9ed-25e9fa0a36d3",
   "metadata": {},
   "outputs": [
    {
     "name": "stdout",
     "output_type": "stream",
     "text": [
      "100\n"
     ]
    }
   ],
   "source": [
    "num = 10\n",
    "\n",
    "if num > 100:\n",
    "    pass\n",
    "else:\n",
    "    print(\"100\")"
   ]
  },
  {
   "cell_type": "code",
   "execution_count": 15,
   "id": "8a756889-6e42-4866-b001-7336d4727095",
   "metadata": {},
   "outputs": [
    {
     "name": "stdout",
     "output_type": "stream",
     "text": [
      "1\n"
     ]
    }
   ],
   "source": [
    "num = 1\n",
    "\n",
    "while True:\n",
    "    print(num)\n",
    "    if num <= 10:\n",
    "        break\n",
    "    num+=1"
   ]
  },
  {
   "cell_type": "markdown",
   "id": "700ba150-a01c-4d64-8073-eab7828f18ae",
   "metadata": {},
   "source": [
    "### **WAP to create a password application using while loop**"
   ]
  },
  {
   "cell_type": "code",
   "execution_count": 30,
   "id": "a2585499-6a0d-4363-ae0f-cc3e58c7f002",
   "metadata": {},
   "outputs": [
    {
     "name": "stdin",
     "output_type": "stream",
     "text": [
      "Create your Password:  123\n",
      "Enter your password:  1222\n"
     ]
    },
    {
     "name": "stdout",
     "output_type": "stream",
     "text": [
      "number of attempt are 1\n",
      "try again\n"
     ]
    },
    {
     "name": "stdin",
     "output_type": "stream",
     "text": [
      "Enter your password:  111\n"
     ]
    },
    {
     "name": "stdout",
     "output_type": "stream",
     "text": [
      "number of attempt are 2\n",
      "try again\n"
     ]
    },
    {
     "name": "stdin",
     "output_type": "stream",
     "text": [
      "Enter your password:  111\n"
     ]
    },
    {
     "name": "stdout",
     "output_type": "stream",
     "text": [
      "number of attempt are 3\n",
      "try again\n"
     ]
    },
    {
     "name": "stdin",
     "output_type": "stream",
     "text": [
      "Enter your password:  000\n"
     ]
    },
    {
     "name": "stdout",
     "output_type": "stream",
     "text": [
      "Try again after some time\n"
     ]
    }
   ],
   "source": [
    "## explain the porgram in detail\n",
    "\n",
    "pasw = input(\"Create your Password: \")\n",
    "attempt = 0\n",
    "while True:\n",
    "    login = input(\"Enter your password: \")\n",
    "    if pasw == login:\n",
    "        print(\"Your logged in\")\n",
    "        break\n",
    "    elif attempt == 3:\n",
    "        print(\"Try again after some time\")\n",
    "        break\n",
    "    else:\n",
    "        attempt+=1\n",
    "        print(\"number of attempt are\", attempt)\n",
    "        print(\"try again\")\n",
    "        "
   ]
  },
  {
   "cell_type": "markdown",
   "id": "fd296f8d-45fa-4ea3-9a61-8575badb1039",
   "metadata": {},
   "source": [
    "### **WAP to create a table of given number**"
   ]
  },
  {
   "cell_type": "code",
   "execution_count": 41,
   "id": "9f0fe867-47e5-4cbb-9732-b688b24daac3",
   "metadata": {},
   "outputs": [
    {
     "name": "stdin",
     "output_type": "stream",
     "text": [
      "Enter your number:  55\n"
     ]
    },
    {
     "name": "stdout",
     "output_type": "stream",
     "text": [
      "55 x 1 = 55\n",
      "55 x 2 = 110\n",
      "55 x 3 = 165\n",
      "55 x 4 = 220\n",
      "55 x 5 = 275\n",
      "55 x 6 = 330\n",
      "55 x 7 = 385\n",
      "55 x 8 = 440\n",
      "55 x 9 = 495\n",
      "55 x 10 = 550\n"
     ]
    }
   ],
   "source": [
    "num = 1\n",
    "table = int(input(\"Enter your number: \"))\n",
    "\n",
    "while num<11:\n",
    "    print(table, \"x\", num, '=', num*table )\n",
    "    num += 1"
   ]
  },
  {
   "cell_type": "markdown",
   "id": "53b4fb3d-17b8-498b-b645-d0963377be7c",
   "metadata": {},
   "source": [
    "# ForLoop:\n",
    "\n",
    "```python\n",
    "#for var in collection:\n",
    "\n",
    "name = \"Riyan\"\n",
    " for var in name:\n",
    "     print(var)\n",
    "```"
   ]
  },
  {
   "cell_type": "code",
   "execution_count": 40,
   "id": "39caf9b7-756d-49bc-8335-60bc08c6c95c",
   "metadata": {},
   "outputs": [
    {
     "name": "stdout",
     "output_type": "stream",
     "text": [
      "R\n",
      "i\n",
      "y\n",
      "a\n",
      "n\n"
     ]
    }
   ],
   "source": [
    "name = \"Riyan\"\n",
    "for var in name:\n",
    "    print(var)"
   ]
  },
  {
   "cell_type": "code",
   "execution_count": 43,
   "id": "78ef1ac6-da54-48cd-8bd5-1cf822ea0d66",
   "metadata": {},
   "outputs": [
    {
     "name": "stdout",
     "output_type": "stream",
     "text": [
      "r\n",
      "i\n",
      "y\n",
      "a\n",
      "n\n"
     ]
    }
   ],
   "source": [
    "name = 'riyan'\n",
    "\n",
    "#name[0]\n",
    "\n",
    "for var in name:\n",
    "    print(var)"
   ]
  },
  {
   "cell_type": "code",
   "execution_count": 49,
   "id": "210a15a6-8cdd-4268-a0b2-e7ddf5cc2939",
   "metadata": {},
   "outputs": [
    {
     "name": "stdout",
     "output_type": "stream",
     "text": [
      "0\n",
      "100\n",
      "200\n",
      "300\n",
      "400\n"
     ]
    }
   ],
   "source": [
    "li = [0,10,20,30,40]\n",
    "\n",
    "#name[0]\n",
    "\n",
    "for i in li:\n",
    "    print(i*10)"
   ]
  },
  {
   "cell_type": "code",
   "execution_count": 50,
   "id": "d8549a06-3fd9-4cc4-8aeb-32be99013d2a",
   "metadata": {},
   "outputs": [],
   "source": [
    "### **WAP to identify odd and even values from the given list**"
   ]
  },
  {
   "cell_type": "code",
   "execution_count": 52,
   "id": "7ffe8edb-e6b2-40e3-84e2-f7488a340bdb",
   "metadata": {},
   "outputs": [
    {
     "name": "stdout",
     "output_type": "stream",
     "text": [
      "10 Even\n",
      "11 Odd\n",
      "12 Even\n",
      "13 Odd\n",
      "14 Even\n",
      "15 Odd\n"
     ]
    }
   ],
   "source": [
    "li = [10,11,12,13,14,15]\n",
    "\n",
    "for i in li:\n",
    "    if i % 2 == 0:\n",
    "        print(i, \"Even\")\n",
    "    else:\n",
    "        print(i, \"Odd\")"
   ]
  },
  {
   "cell_type": "markdown",
   "id": "c670e74f-f1cc-43c6-a522-45eb6262b91f",
   "metadata": {},
   "source": [
    "### **WAP **"
   ]
  },
  {
   "cell_type": "code",
   "execution_count": 55,
   "id": "ee4640a2-77a6-4a86-981a-65cee3a3dd63",
   "metadata": {},
   "outputs": [
    {
     "name": "stdout",
     "output_type": "stream",
     "text": [
      "Khan\n"
     ]
    }
   ],
   "source": [
    "li = [\"Aisha\", 'Uwaish', 'Khan', 'Ayushman']\n",
    "\n",
    "for i in li:\n",
    "    if i[0] == 'K':\n",
    "        print(i)"
   ]
  },
  {
   "cell_type": "code",
   "execution_count": 59,
   "id": "3a25118a-98a3-4e81-8284-6746479993bb",
   "metadata": {},
   "outputs": [
    {
     "name": "stdout",
     "output_type": "stream",
     "text": [
      "Aisha\n"
     ]
    }
   ],
   "source": [
    "# display the name which start and end\n",
    "\n",
    "li = [\"Aisha\", 'Uwaish', 'Khan', 'Ayushman']\n",
    "for i in li:\n",
    "    if i[0].lower() == 'a' and i[-1].lower() == 'a':\n",
    "        print(i)"
   ]
  },
  {
   "cell_type": "markdown",
   "id": "2fcf9704-cb28-4f66-85d4-3870ac3cb48b",
   "metadata": {},
   "source": [
    "### **WAP to separate odd and even from the given list**"
   ]
  },
  {
   "cell_type": "code",
   "execution_count": 74,
   "id": "58843296-361f-41ce-8686-55e26f12bb45",
   "metadata": {},
   "outputs": [
    {
     "name": "stdout",
     "output_type": "stream",
     "text": [
      "even [12, 14]\n",
      "Odd [11, 13, 15]\n"
     ]
    }
   ],
   "source": [
    "li = [11,12,13,14,15]\n",
    "even = []\n",
    "odd = []\n",
    "\n",
    "for i in li:\n",
    "    if i % 2 == 0:\n",
    "        even.append(i)\n",
    "    else:\n",
    "        odd.append(i)\n",
    "\n",
    "print(\"even\", even)\n",
    "print(\"Odd\", odd)"
   ]
  },
  {
   "cell_type": "markdown",
   "id": "b43d4f35-b5c5-4c2d-9c5b-671bc122d871",
   "metadata": {},
   "source": [
    "### **WAP to convert the given score into pass and fail and separate pass and fail**\n",
    "\n",
    "```python\n",
    "li = [23,34,54,65,12]\n",
    "```"
   ]
  },
  {
   "cell_type": "code",
   "execution_count": 84,
   "id": "42d98715-37d0-4500-8d78-698f05a27102",
   "metadata": {},
   "outputs": [
    {
     "name": "stdout",
     "output_type": "stream",
     "text": [
      "The student is Passed! [34, 54, 65]\n",
      "The student is failed! [23, 12]\n"
     ]
    }
   ],
   "source": [
    "li = [23,34,54,65,12]\n",
    "pas = []\n",
    "fai = []\n",
    "\n",
    "for i in li:\n",
    "    if i >= 33:\n",
    "        pas.append(i)\n",
    "    else:\n",
    "        fai.append(i)\n",
    "        \n",
    "print('The student is Passed!', pas)\n",
    "print('The student is failed!', fai)"
   ]
  },
  {
   "cell_type": "code",
   "execution_count": 89,
   "id": "bd2746ff-bdc8-401b-bbae-146140307e84",
   "metadata": {},
   "outputs": [
    {
     "name": "stdout",
     "output_type": "stream",
     "text": [
      "Student[1, 2, 3]: Pass\n",
      "Student[0, 4]: Fail\n"
     ]
    }
   ],
   "source": [
    "passed = []\n",
    "failed = []\n",
    "for i in range(len(li)):\n",
    "    if li[i] > 33:\n",
    "        pas.append(i)\n",
    "        print(f\"Student{i}: Pass\")\n",
    "    else:\n",
    "        fai.append(i)\n",
    "        print(f\"Student{i}: Fail\")"
   ]
  },
  {
   "cell_type": "code",
   "execution_count": null,
   "id": "20d7a0ab-846b-49fa-939d-090fa04aa976",
   "metadata": {},
   "outputs": [],
   "source": [
    "passed = []\n",
    "failed = []\n",
    "for i in range(len(li)):\n",
    "    if li[i] > 33:\n",
    "        passed.append(i)\n",
    "    else:\n",
    "        failed.append(i)\n",
    "print(f\"Student{passed}: Pass\")\n",
    "print(f\"Student{failed}: Fail\")"
   ]
  }
 ],
 "metadata": {
  "kernelspec": {
   "display_name": "Python 3 (ipykernel)",
   "language": "python",
   "name": "python3"
  },
  "language_info": {
   "codemirror_mode": {
    "name": "ipython",
    "version": 3
   },
   "file_extension": ".py",
   "mimetype": "text/x-python",
   "name": "python",
   "nbconvert_exporter": "python",
   "pygments_lexer": "ipython3",
   "version": "3.13.5"
  }
 },
 "nbformat": 4,
 "nbformat_minor": 5
}
