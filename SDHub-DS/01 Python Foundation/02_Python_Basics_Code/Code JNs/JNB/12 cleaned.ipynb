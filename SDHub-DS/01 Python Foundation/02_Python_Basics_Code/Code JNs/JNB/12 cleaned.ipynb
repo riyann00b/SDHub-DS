{
 "cells": [
  {
   "cell_type": "markdown",
   "metadata": {},
   "source": [
    "# Mastering Functional Programming in Python: A Visual Guide\n",
    "\n",
    "**Date:** 19-7-25, Saturday\n",
    "\n",
    "### Introduction\n",
    "\n",
    "Welcome to this in-depth guide to Functional Programming in Python! This notebook will serve as your primary reference, combining concepts from your class notes and providing clear, runnable examples. We'll focus on:\n",
    "\n",
    "1.  **Flexible Function Arguments (`*args` and `**kwargs`):** How to create functions that can accept a variable number of inputs.\n",
    "2.  **Special Functions (`lambda`, `map`, `reduce`):** Powerful one-line functions and tools for working with data collections.\n",
    "\n",
    "Let's begin!"
   ]
  },
  {
   "cell_type": "markdown",
   "metadata": {},
   "source": [
    "# Part 1: Flexible Function Arguments (`*args` and `**kwargs`)\n",
    "\n",
    "First, let's review the two basic ways to pass arguments to a function. Understanding this is key to understanding `*args` and `**kwargs`.\n",
    "\n",
    "*   **Positional Assignment:** Arguments are passed in order. The first value goes to the first parameter, the second to the second, and so on.\n",
    "*   **Keyword Assignment:** Arguments are passed using a `key=value` pair. This way, the order doesn't matter."
   ]
  },
  {
   "cell_type": "code",
   "execution_count": null,
   "metadata": {},
   "outputs": [],
   "source": [
    "# A standard function with fixed arguments\n",
    "def display_profile(name, age):\n",
    "    print(f\"--- Profile ---\")\n",
    "    print(f\"Name: {name}\")\n",
    "    print(f\"Age: {age}\\n\")\n",
    "\n",
    "# 1. Calling with POSITIONAL assignment (order matters!)\n",
    "print(\"Calling with positional arguments:\")\n",
    "display_profile(\"Riyan\", 20)\n",
    "\n",
    "# 2. Calling with KEYWORD assignment (order does NOT matter)\n",
    "print(\"Calling with keyword arguments:\")\n",
    "display_profile(age=28, name=\"Uwaish\")"
   ]
  },
  {
   "cell_type": "markdown",
   "metadata": {},
   "source": [
    "## `*args`: For an Arbitrary Number of Positional Arguments\n",
    "\n",
    "What if you want a function that can sum 2 numbers, or 5, or 100? This is where `*args` is used.\n",
    "\n",
    "The `*` before the parameter name (we use `args` by convention) tells Python to collect all the extra **positional** arguments into a **TUPLE**.\n",
    "\n",
    "### Visualizing the Flow\n",
    "\n",
    "`Function Call: sum_all(10, 20, 30)`\n",
    "`--> Python sees the *args in def sum_all(*args)`\n",
    "`--> It creates a TUPLE: args = (10, 20, 30)`\n",
    "`--> The function can now use this tuple.`"
   ]
  },
  {
   "cell_type": "code",
   "execution_count": null,
   "metadata": {},
   "outputs": [],
   "source": [
    "# Using *args to accept a variable number of positional arguments\n",
    "def sum_all(*numbers):\n",
    "    print(f\"Arguments received as a tuple: {numbers}\")\n",
    "    total = sum(numbers)\n",
    "    return total\n",
    "\n",
    "# Let's invoke the function with different numbers of arguments\n",
    "print(f\"Sum of 1, 2: {sum_all(1, 2)}\\n\")\n",
    "print(f\"Sum of 1, 2, 3, 4, 5: {sum_all(1, 2, 3, 4, 5)}\\n\")"
   ]
  },
  {
   "cell_type": "markdown",
   "metadata": {},
   "source": [
    "## `**kwargs`: For Arbitrary Keyword Arguments\n",
    "\n",
    "Now, what if you want to collect an unknown number of **keyword** arguments? For this, we use `**kwargs`.\n",
    "\n",
    "The `**` before the parameter name (`kwargs` is convention) tells Python to collect all extra **keyword** arguments into a **DICTIONARY**.\n",
    "\n",
    "### Visualizing the Flow\n",
    "\n",
    "`Function Call: user_info(name=\"Aisha\", status=\"Active\")`\n",
    "`--> Python sees the **kwargs in def user_info(**kwargs)`\n",
    "`--> It creates a DICTIONARY: kwargs = {'name': 'Aisha', 'status': 'Active'}`\n",
    "`--> The function can now use this dictionary.`"
   ]
  },
  {
   "cell_type": "code",
   "execution_count": null,
   "metadata": {},
   "outputs": [],
   "source": [
    "# Using **kwargs to accept a variable number of keyword arguments\n",
    "def build_user_profile(**details):\n",
    "    print(\"Building profile with the following details:\")\n",
    "    for key, value in details.items():\n",
    "        # .title() makes the key look nice (e.g., 'name' -> 'Name')\n",
    "        print(f\"- {key.title()}: {value}\")\n",
    "    print(\"-\" * 20)\n",
    "\n",
    "# Invoke the function with different keyword arguments\n",
    "build_user_profile(name=\"Uwaish\", age=28, city=\"Pune\")\n",
    "build_user_profile(name=\"Aisha\", status=\"Verified\")"
   ]
  },
  {
   "cell_type": "markdown",
   "metadata": {},
   "source": [
    "### Correcting Common Errors from Your Notebook\n",
    "\n",
    "Your original notebook had a couple of errors. Let's fix them and understand why they happened.\n",
    "\n",
    "**1. `SyntaxError: * argument may appear only once`**\n",
    "\n",
    "You cannot have more than one `*` argument in a function definition.\n",
    "\n",
    "```python\n",
    "# INCORRECT CODE FROM YOUR NOTEBOOK\n",
    "# def test(*a, *b):\n",
    "#     return a+b\n",
    "```\n",
    "**Correction:** If you need to combine lists, you accept them as separate arguments. If you want to accept all positional arguments, you just use one `*args`.\n",
    "\n",
    "**2. `TypeError: test2() got an unexpected keyword argument 'a'`**\n",
    "\n",
    "This error happens when you pass a keyword argument (`a=5`) to a function that is only set up to receive positional arguments (`*a`).\n",
    "\n",
    "```python\n",
    "# INCORRECT CALL FROM YOUR NOTEBOOK\n",
    "# def test2(*a):\n",
    "#     print(a)\n",
    "#\n",
    "# test2(a=5, b=10, c=15) # This fails!\n",
    "```\n",
    "**Correction:** You should call it with positional arguments, which will be packed into the tuple `a`."
   ]
  },
  {
   "cell_type": "code",
   "execution_count": null,
   "metadata": {},
   "outputs": [],
   "source": [
    "# Corrected version of the code that caused the TypeError\n",
    "\n",
    "def process_numbers(*numbers):\n",
    "    print(f\"Received numbers as a tuple: {numbers}\")\n",
    "    if not numbers:\n",
    "        print(\"No numbers were provided.\")\n",
    "    else:\n",
    "        print(f\"The sum is: {sum(numbers)}\")\n",
    "\n",
    "print(\"Correct way to call a function with *args:\")\n",
    "process_numbers(5, 10, 15) # This works!"
   ]
  },
  {
   "cell_type": "markdown",
   "metadata": {},
   "source": [
    "## Combining Standard, `*args`, and `**kwargs`\n",
    "\n",
    "You can use all three in a single function. The order MUST be:\n",
    "1. Standard Arguments (`name`, `age`)\n",
    "2. `*args`\n",
    "3. `**kwargs`\n",
    "\n",
    "> **Syntax:** `def func(arg1, arg2, *args, **kwargs):`"
   ]
  },
  {
   "cell_type": "code",
   "execution_count": null,
   "metadata": {},
   "outputs": [],
   "source": [
    "def master_function(name, age, *topics, **settings):\n",
    "    print(f\"--- Report for {name} ---\")\n",
    "    print(f\"Age: {age}\")\n",
    "    print(f\"Interested Topics (*args tuple): {topics}\")\n",
    "    print(f\"Account Settings (**kwargs dict): {settings}\")\n",
    "    print(\"-\" * 25 + \"\\n\")\n",
    "\n",
    "\n",
    "master_function(\"Riyan\", 20, \"AI\", \"Cloud Computing\", \"Data Science\", dark_mode=True, notifications=\"Weekly\")\n",
    "master_function(\"Aisha\", 19, \"Web Development\", dark_mode=False)"
   ]
  },
  {
   "cell_type": "markdown",
   "metadata": {},
   "source": [
    "# Part 2: Special Functions (The Functional Toolkit)\n",
    "\n",
    "Now let's explore `lambda`, `map`, and `reduce`, which allow you to write powerful and concise data-processing code."
   ]
  },
  {
   "cell_type": "markdown",
   "metadata": {},
   "source": [
    "## 1. Lambda Functions (Anonymous Functions)\n",
    "\n",
    "A `lambda` function is a small, one-line, anonymous function. It's defined without a name and is great for simple, \"throwaway\" tasks where defining a full function with `def` would be overkill.\n",
    "\n",
    "**Syntax:** `lambda arguments: expression`\n",
    "\n",
    "Let's see how it compares to a standard function:\n",
    "\n",
    "| Standard Function (`def`) | Lambda Function |\n",
    "| :--- | :--- |\n",
    "| `def square(num):` | `lambda num: num**2` |\n",
    "|     `return num**2` | |\n",
    "| **Usage:** `square(10)` | **Usage:** `res = lambda num: num**2; res(10)`|"
   ]
  },
  {
   "cell_type": "code",
   "execution_count": null,
   "metadata": {},
   "outputs": [],
   "source": [
    "# Case 1: Simple operation (like in your notes)\n",
    "# WAP to perform addition\n",
    "addition = lambda num1, num2: num1 + num2\n",
    "print(f\"Addition result: {addition(10, 20)}\")\n",
    "\n",
    "\n",
    "# Case 2: Conditional Logic (Ternary Operator)\n",
    "# WAP to check if a number is even or odd\n",
    "check_odd_even = lambda num: 'Even' if num % 2 == 0 else 'Odd'\n",
    "print(f\"13 is: {check_odd_even(13)}\")\n",
    "print(f\"12 is: {check_odd_even(12)}\")\n",
    "\n",
    "\n",
    "# Case 3: More complex conditions from your notes\n",
    "# WAP to check if a name has > 3 chars and age is >= 18\n",
    "is_eligible = lambda name, age: 'Allowed' if len(name) > 3 and age >= 18 else 'Not Allowed'\n",
    "print(f\"Eligibility for Uwaish, 28: {is_eligible('Uwaish', 28)}\")\n",
    "print(f\"Eligibility for Sam, 20: {is_eligible('Sam', 20)}\")"
   ]
  },
  {
   "cell_type": "markdown",
   "metadata": {},
   "source": [
    "## 2. The `map()` Function\n",
    "\n",
    "The `map()` function applies a given function to **every item** in an iterable (like a list). It's like an assembly line that performs the same operation on every product passing through.\n",
    "\n",
    "**Syntax:** `map(function_to_apply, list_of_items)`\n",
    "\n",
    "It's very common and powerful to use a `lambda` function directly inside `map()`."
   ]
  },
  {
   "cell_type": "code",
   "execution_count": null,
   "metadata": {},
   "outputs": [],
   "source": [
    "# Task from your notebook: Convert student marks into \"Pass\" or \"Fail\"\n",
    "# A passing mark is 33 or greater.\n",
    "\n",
    "marks = [19, 30, 56, 78, 91, 32]\n",
    "\n",
    "# Define the logic as a lambda function\n",
    "grading_logic = lambda score: 'Pass' if score >= 33 else 'Fail'\n",
    "\n",
    "# Use map() to apply this logic to every mark in the list\n",
    "results_iterator = map(grading_logic, marks)\n",
    "\n",
    "# The result is a 'map object' (an iterator), so we convert it to a list to view it\n",
    "final_grades = list(results_iterator)\n",
    "\n",
    "print(f\"Original Marks: \\t{marks}\")\n",
    "print(f\"Final Grades: \\t{final_grades}\")\n",
    "\n",
    "# --- Another Example ---\n",
    "# Convert a list of Celsius temperatures to Fahrenheit\n",
    "temps_celsius = [0, 10, 24, 35, 100]\n",
    "temps_fahrenheit = list(map(lambda c: c * 1.8 + 32, temps_celsius))\n",
    "\n",
    "print(f\"\\nTemps in Celsius: \\t{temps_celsius}\")\n",
    "print(f\"Temps in Fahrenheit: \\t{[round(t, 2) for t in temps_fahrenheit]}\")"
   ]
  },
  {
   "cell_type": "markdown",
   "metadata": {},
   "source": [
    "## 3. The `reduce()` Function\n",
    "\n",
    "The `reduce()` function is used to apply a function cumulatively to the items of a list, reducing the entire list to a **single final value**.\n",
    "\n",
    "> **Note:** `reduce()` is not a built-in function anymore. You must import it from the `functools` library.\n",
    "\n",
    "**Syntax:** `reduce(cumulative_function, list_of_items)`\n",
    "\n",
    "**How it works:** `reduce` takes the first two items, applies the function, then takes *that result* and the next item, applies the function, and so on, until only one value is left."
   ]
  },
  {
   "cell_type": "code",
   "execution_count": null,
   "metadata": {},
   "outputs": [],
   "source": [
    "from functools import reduce\n",
    "\n",
    "data = [1, 2, 3, 4, 5]\n",
    "\n",
    "# --- Example 1: Summing a list ---\n",
    "# The logic: take two numbers a and b, and return their sum\n",
    "sum_logic = lambda a, b: a + b\n",
    "total_sum = reduce(sum_logic, data)\n",
    "\n",
    "print(f\"The list is: {data}\")\n",
    "print(f\"The result of reducing with addition is: {total_sum}\")\n",
    "\n",
    "\n",
    "# --- Example 2: Finding the largest number in a list ---\n",
    "numbers = [47, 11, 42, 102, 13]\n",
    "# The logic: take two numbers a and b, and return the larger one\n",
    "find_max_logic = lambda a, b: a if a > b else b\n",
    "max_number = reduce(find_max_logic, numbers)\n",
    "\n",
    "print(f\"\\nThe list is: {numbers}\")\n",
    "print(f\"The result of reducing to find the max is: {max_number}\")"
   ]
  },
  {
   "cell_type": "markdown",
   "metadata": {},
   "source": [
    "# Conclusion\n",
    "\n",
    "Congratulations! You've just walked through a corrected, well-explained, and organized guide to some of the most powerful functional programming tools in Python.\n",
    "\n",
    "### Key Takeaways:\n",
    "-   **`*args`**: Packs multiple **positional** arguments into a **tuple**.\n",
    "-   **`**kwargs`**: Packs multiple **keyword** arguments into a **dictionary**.\n",
    "-   **`lambda`**: Creates a small, one-line, anonymous function. Perfect for when you need a simple function for a short period.\n",
    "-   **`map()`**: Applies a function to **every item** in an iterable.\n",
    "-   **`reduce()`**: \"Boils down\" an entire iterable to a **single value**.\n",
    "\n",
    "Practice is the best way to make these concepts stick. Try creating your own functions to solve different problems. Happy coding!"
   ]
  }
 ],
 "metadata": {
  "kernelspec": {
   "display_name": "Python 3",
   "language": "python",
   "name": "python3"
  },
  "language_info": {
   "codemirror_mode": {
    "name": "ipython",
    "version": 3
   },
   "file_extension": ".py",
   "mimetype": "text/x-python",
   "name": "python",
   "nbconvert_exporter": "python",
   "pygments_lexer": "ipython3",
   "version": "3.9.7"
  }
 },
 "nbformat": 4,
 "nbformat_minor": 4
}
