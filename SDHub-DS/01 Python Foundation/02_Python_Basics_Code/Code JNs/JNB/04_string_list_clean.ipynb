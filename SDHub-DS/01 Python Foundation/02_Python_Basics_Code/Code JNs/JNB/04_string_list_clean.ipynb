{
 "cells": [
  {
   "cell_type": "markdown",
   "metadata": {},
   "source": [
    "# 📚 My Notes: Week 2, Day 6 - Advanced Strings & Intro to Lists\n",
    "\n",
    "**📅 Date:** July 8th, 2025\n",
    "\n",
    "**🎯 Today's Goal:** Master built-in string methods and understand the first collection data type: the List."
   ]
  },
  {
   "cell_type": "markdown",
   "metadata": {},
   "source": [
    "## Part 1: Advanced String Operations (String Methods)\n",
    "\n",
    "We started today's class by continuing our exploration of strings, moving from basic slicing to powerful built-in methods. These methods help us analyze and manipulate strings easily."
   ]
  },
  {
   "cell_type": "markdown",
   "metadata": {},
   "source": [
    "### ► Key String Methods\n",
    "\n",
    "Here’s a summary of the most useful methods we covered:\n",
    "\n",
    "| Method | What It Does | My Example Code |\n",
    "| :--- | :--- | :--- |\n",
    "| `len()` | **Calculates the total length** (number of characters) of a string. | `len(\"Riyan\")` → `5` |\n",
    "| `.lower()` | Converts the entire string to **lowercase**. | `\"RIYAN\".lower()` → `\"riyan\"` |\n",
    "| `.upper()` | Converts the entire string to **uppercase**. | `\"riyan\".upper()` → `\"RIYAN\"` |\n",
    "| `.title()` | Converts the string to **Title Case** (first letter of each word is uppercase). | `\"riyan nazeer\".title()` → `\"Riyan Nazeer\"` |\n",
    "| `.capitalize()` | Capitalizes **only the first letter** of the entire string. | `\"riyan nazeer\".capitalize()` → `\"Riyan nazeer\"` |\n",
    "| `.count('char')`| **Counts how many times** a specific character or substring appears. | `\"banana\".count('a')` → `3` |\n",
    "| `.strip('char')`| **Removes specified characters** from the beginning and end of a string. | `\"###Riyan###\".strip('#')` → `\"Riyan\"` |\n",
    "| `.split('char')`| **Breaks the string into a list** of smaller strings, using a separator. | `\"riyan@sdhub.in\".split('@')` → `['riyan', 'sdhub.in']` |\n",
    "| `.find('char')` | **Finds the index** of the first occurrence of a character. Returns `-1` if not found. | `\"Riyan\".find('y')` → `2` |"
   ]
  },
  {
   "cell_type": "markdown",
   "metadata": {},
   "source": [
    "### ► Practical Application: Extracting Info from an Email\n",
    "\n",
    "This was a great exercise to see how these methods work together.\n",
    "**Task:** Given an email, extract the username and the company name."
   ]
  },
  {
   "cell_type": "code",
   "execution_count": null,
   "metadata": {},
   "outputs": [],
   "source": [
    "# My dynamic solution for the email problem\n",
    "email = input(\"Please enter your email: \")\n",
    "\n",
    "# Find the position of the '@' and '.' symbols\n",
    "at_position = email.find('@')\n",
    "dot_position = email.find('.')\n",
    "\n",
    "# Slice the string based on these positions\n",
    "username = email[:at_position]\n",
    "company_name = email[at_position + 1 : dot_position]\n",
    "\n",
    "# Display the results using .title() to make it look clean\n",
    "print(f\"\\nYour username is: {username.title()}\")\n",
    "print(f\"Your company is: {company_name.title()}\")"
   ]
  },
  {
   "cell_type": "markdown",
   "metadata": {},
   "source": [
    "## Part 2: Introduction to Collection Data Types\n",
    "\n",
    "After strings, Sir introduced **Collection Data Types**. These are special data types in Python that can hold multiple values inside a single variable."
   ]
  },
  {
   "cell_type": "markdown",
   "metadata": {},
   "source": [
    "### ► The Four Main Collection Types\n",
    "\n",
    "```mermaid\n",
    "graph TD\n",
    "    A[Collection Data Types];\n",
    "    A --> B{List};\n",
    "    A --> C{Tuple};\n",
    "    A --> D{Set};\n",
    "    A --> E{Dictionary};\n",
    "\n",
    "    subgraph \"Key Properties\"\n",
    "        B --> B1[\"<b>Syntax:</b> `[ ... ]`<br><b>Mutable</b> (Changeable)<br>Ordered, Allows Duplicates\"];\n",
    "        C --> C1[\"<b>Syntax:</b> `( ... )`<br><b>Immutable</b> (Unchangeable)<br>Ordered, Allows Duplicates\"];\n",
    "        D --> D1[\"<b>Syntax:</b> `{ ... }`<br><b>Mutable</b><br>Unordered, No Duplicates\"];\n",
    "        E --> E1[\"<b>Syntax:</b> `{key: value}`<br><b>Mutable</b><br>Ordered (from Python 3.7), No Duplicate Keys\"];\n",
    "    end\n",
    "    \n",
    "    style A fill:#00796b,color:white\n",
    "```"
   ]
  },
  {
   "cell_type": "markdown",
   "metadata": {},
   "source": [
    "## Part 3: Deep Dive into Lists\n",
    "\n",
    "Our main focus for the rest of the class was the **List**.\n",
    "\n",
    "> A list is an **ordered** and **mutable** (changeable) collection that allows duplicate elements."
   ]
  },
  {
   "cell_type": "markdown",
   "metadata": {},
   "source": [
    "### ► How to Create a List\n",
    "\n",
    "1.  **Using Square Brackets `[]`:** The most common way.\n",
    "\n",
    "    ```python\n",
    "    # A list of numbers\n",
    "    my_list =\n",
    "    ```\n",
    "\n",
    "2.  **Using the `list()` constructor:** Useful for converting other data types (like a tuple or a range).\n",
    "\n",
    "    ```python\n",
    "    # Converting a tuple to a list\n",
    "    my_list_from_tuple = list((10, 20, 30))\n",
    "    ```\n",
    "\n",
    "3.  **Using `range()`:** A powerful way to quickly create a list of sequential numbers.\n",
    "\n",
    "    ```python\n",
    "    # Create a list of numbers from 10 up to (but not including) 15\n",
    "    my_numbers = list(range(10, 15))\n",
    "    # my_numbers is now\n",
    "    ```"
   ]
  },
  {
   "cell_type": "markdown",
   "metadata": {},
   "source": [
    "### ► Accessing and Modifying List Elements\n",
    "\n",
    "Lists work just like strings for indexing and slicing. The key difference is that **lists are mutable**.\n",
    "\n",
    "**Modifying an element:**"
   ]
  },
  {
   "cell_type": "code",
   "execution_count": null,
   "metadata": {},
   "outputs": [],
   "source": [
    "my_list = [10, 20, 30, 40]\n",
    "print(f\"Original list: {my_list}\")\n",
    "\n",
    "# Change the last element (index -1) from 40 to 99\n",
    "my_list[-1] = 99\n",
    "print(f\"Modified list: {my_list}\")"
   ]
  },
  {
   "cell_type": "markdown",
   "metadata": {},
   "source": [
    "### ► Key List Methods\n",
    "\n",
    "| Method | What It Does | My Example Code |\n",
    "| :--- | :--- | :--- |\n",
    "| `.append(item)` | **Adds an item** to the very end of the list. | `my_list.append(\"Riyan\")` |\n",
    "| `.pop(index)` | **Removes and returns** the item at a specific index. If no index, removes the last item. | `my_list.pop(1)` |\n",
    "| `.index(item)` | **Returns the index** of the first occurrence of an item. | `my_list.index(30)` |\n",
    "| `len()` | **Calculates the total number of items** in the list. | `len(my_list)` |"
   ]
  },
  {
   "cell_type": "markdown",
   "metadata": {},
   "source": [
    "## Part 4: List Practice Challenge\n",
    "\n",
    "To test our understanding, Sir gave us a challenge to create and manipulate a large list."
   ]
  },
  {
   "cell_type": "code",
   "execution_count": null,
   "metadata": {},
   "outputs": [],
   "source": [
    "# Step 1: Create the list\n",
    "my_list = list(range(50, 101))\n",
    "print(f\"Original list created with {len(my_list)} elements.\")\n",
    "\n",
    "# Display the last element\n",
    "print(f\"\\nLast element: {my_list[-1]}\")\n",
    "\n",
    "# Display elements from 90 to 100\n",
    "# The index of 90 is 40 (90-50). So we slice from index 40 to the end.\n",
    "print(f\"Elements from 90 to 100: {my_list[40:]}\")\n",
    "\n",
    "# Display the last three elements\n",
    "print(f\"Last 3 elements: {my_list[-3:]}\")\n",
    "\n",
    "# Display the list in reverse\n",
    "# Note: This just displays the reversed list, it doesn't change the original my_list\n",
    "print(f\"\\nList in reverse: {my_list[::-1]}\")\n",
    "\n",
    "# Display the list by skipping odd numbers (i.e., show only even numbers)\n",
    "# We start at the first element (50, which is at index 0) and jump by 2.\n",
    "print(f\"\\nSkipping odd numbers: {my_list[::2]}\")"
   ]
  },
  {
   "cell_type": "markdown",
   "metadata": {},
   "source": [
    "> **My Learning Mistake:** I tried using `my_list.find(90)` but got an `AttributeError`. This is because `.find()` is a **string method**, not a list method. For lists, we use `.index()`. This was a good learning moment!"
   ]
  },
  {
   "cell_type": "markdown",
   "metadata": {},
   "source": [
    "## Part 5: Homework & To-Do Solutions\n",
    "\n",
    "At the end of class, we were given a couple of topics to explore on our own. Here are my findings."
   ]
  },
  {
   "cell_type": "markdown",
   "metadata": {},
   "source": [
    "### 1. How Tuples Work (and differ from Lists)\n",
    "\n",
    "A **tuple** is an **ordered** and **immutable** (unchangeable) collection. It's like a \"read-only\" list.\n",
    "\n",
    "Here's a comparison table:\n",
    "\n",
    "| Feature | List | Tuple |\n",
    "| :--- | :--- | :--- |\n",
    "| **Syntax** | `[1, 2, 3]` | `(1, 2, 3)` |\n",
    "| **Mutability** | ✅ **Mutable** (Can be changed) | ❌ **Immutable** (Cannot be changed) |\n",
    "| **Use Case** | When you have a collection of items that needs to change (add, remove, update). | When you have data that should *never* change (e.g., coordinates, RGB color values). |\n",
    "| **Performance** | Slightly slower due to its flexibility. | Often faster because its size is fixed. |"
   ]
  },
  {
   "cell_type": "code",
   "execution_count": null,
   "metadata": {},
   "outputs": [],
   "source": [
    "# Creating a tuple\n",
    "my_tuple = (10, 'Riyan', 30.5)\n",
    "print(\"My tuple:\", my_tuple)\n",
    "\n",
    "# You can access elements just like a list\n",
    "print(\"First element:\", my_tuple[0])\n",
    "\n",
    "# BUT, you cannot change them. The following line will cause a TypeError.\n",
    "try:\n",
    "    my_tuple[0] = 99\n",
    "except TypeError as e:\n",
    "    print(\"\\nError when trying to modify the tuple:\", e)"
   ]
  },
  {
   "cell_type": "markdown",
   "metadata": {},
   "source": [
    "### 2. How to Create a List of Lists (Nested Lists)\n",
    "\n",
    "A nested list is simply a list that contains other lists as its elements. You can think of it like a grid or a matrix, where each inner list is a row."
   ]
  },
  {
   "cell_type": "code",
   "execution_count": null,
   "metadata": {},
   "outputs": [],
   "source": [
    "# Example of a nested list representing a 3x3 grid\n",
    "tic_tac_toe_board = [\n",
    "    ['X', 'O', 'X'],\n",
    "    ['O', 'X', 'O'],\n",
    "    ['O', 'O', 'X']\n",
    "]\n",
    "\n",
    "print(\"The entire board:\", tic_tac_toe_board)\n",
    "\n",
    "# To access elements, you use double indexing: [row][column]\n",
    "\n",
    "# Get the very first element (top-left)\n",
    "# Row 0, Column 0\n",
    "print(\"Top-left element:\", tic_tac_toe_board[0][0])\n",
    "\n",
    "# Get the center element\n",
    "# Row 1, Column 1\n",
    "print(\"Center element:\", tic_tac_toe_board[1][1])"
   ]
  }
 ],
 "metadata": {
  "kernelspec": {
   "display_name": "Python 3 (ipykernel)",
   "language": "python",
   "name": "python3"
  },
  "language_info": {
   "codemirror_mode": {
    "name": "ipython",
    "version": 3
   },
   "file_extension": ".py",
   "mimetype": "text/x-python",
   "name": "python",
   "nbconvert_exporter": "python",
   "pygments_lexer": "ipython3",
   "version": "3.13.5"
  }
 },
 "nbformat": 4,
 "nbformat_minor": 5
}
