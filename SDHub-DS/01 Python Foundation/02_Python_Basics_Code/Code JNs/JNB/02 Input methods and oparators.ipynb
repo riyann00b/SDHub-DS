{
 "cells": [
  {
   "cell_type": "markdown",
   "id": "ef50ae51",
   "metadata": {},
   "source": [
    "## Part 1: Review and Foundations\n",
    "\n",
    "The class started with a review of the previous day's topics, focusing on **Identifiers**."
   ]
  },
  {
   "cell_type": "markdown",
   "id": "5a071952",
   "metadata": {},
   "source": [
    "### Identifiers (Variable Names)\n",
    "\n",
    "An identifier is a name given to a variable, function, etc. Sir reviewed the rules:\n",
    "- They are **case-sensitive**.\n",
    "- Cannot start with a number.\n",
    "- Cannot contain special characters (except `_`)."
   ]
  },
  {
   "cell_type": "code",
   "execution_count": 6,
   "id": "825a531f",
   "metadata": {},
   "outputs": [
    {
     "name": "stdout",
     "output_type": "stream",
     "text": [
      "'a' is: 10\n",
      "'A' is: 20\n",
      "test_123 is: 10000\n",
      "The history saving thread hit an unexpected error (OperationalError('attempt to write a readonly database')).History will not be written to the database.\n"
     ]
    }
   ],
   "source": [
    "# Python is case-sensitive, so 'a' and 'A' are different variables.\n",
    "a = 10\n",
    "A = 20\n",
    "print(\"'a' is:\", a)\n",
    "print(\"'A' is:\", A)\n",
    "\n",
    "# A valid identifier can have numbers and underscores\n",
    "test_123 = 10000\n",
    "print(\"test_123 is:\", test_123)\n",
    "\n",
    "# An invalid identifier will cause a SyntaxError\n",
    "# test@123 = 1000 # This line would crash the program because of the '@'"
   ]
  },
  {
   "cell_type": "markdown",
   "id": "05e6848c",
   "metadata": {},
   "source": [
    "Sir then emphasized the importance of using **meaningful variable names** instead of simple ones like `a` or `x`. This makes code much easier to read."
   ]
  },
  {
   "cell_type": "markdown",
   "id": "2dd013e7",
   "metadata": {},
   "source": [
    "## Part 2: Static Value Assignment\n",
    "\n",
    "This is the method we have been using so far, where we **hard-code** the value of a variable directly in our program."
   ]
  },
  {
   "cell_type": "code",
   "execution_count": 7,
   "id": "54065c8e",
   "metadata": {},
   "outputs": [
    {
     "name": "stdout",
     "output_type": "stream",
     "text": [
      "--- My Details ---\n",
      "Name: Riyan\n",
      "Age: 22\n",
      "Course: Data Science\n",
      "Duration (months): 4.5\n",
      "\n",
      "--- Data Types ---\n",
      "Name datatype: <class 'str'>\n",
      "Age datatype: <class 'int'>\n",
      "Course datatype: <class 'str'>\n",
      "Duration datatype: <class 'float'>\n"
     ]
    }
   ],
   "source": [
    "# WAP to define name, age, course, and duration. Display the info.\n",
    "\n",
    "# These are all static values.\n",
    "name = \"Riyan\"\n",
    "age = 22\n",
    "course = \"Data Science\"\n",
    "duration_in_months = 4.5\n",
    "\n",
    "print(\"--- My Details ---\")\n",
    "print(\"Name:\", name)\n",
    "print(\"Age:\", age)\n",
    "print(\"Course:\", course)\n",
    "print(\"Duration (months):\", duration_in_months)\n",
    "\n",
    "# We also checked their data types\n",
    "print(\"\\n--- Data Types ---\")\n",
    "print(\"Name datatype:\", type(name))\n",
    "print(\"Age datatype:\", type(age))\n",
    "print(\"Course datatype:\", type(course))\n",
    "print(\"Duration datatype:\", type(duration_in_months))"
   ]
  },
  {
   "cell_type": "markdown",
   "id": "a596ccb3",
   "metadata": {},
   "source": [
    "## Part 3: Dynamic Input using `input()`\n",
    "\n",
    "Next, we learned how to get input from the user while the program is running. This is called **dynamic input**."
   ]
  },
  {
   "cell_type": "code",
   "execution_count": 8,
   "id": "832824fd",
   "metadata": {},
   "outputs": [
    {
     "name": "stdin",
     "output_type": "stream",
     "text": [
      "Please enter a value:  Riyan\n"
     ]
    },
    {
     "name": "stdout",
     "output_type": "stream",
     "text": [
      "The value you entered is: Riyan\n"
     ]
    }
   ],
   "source": [
    "# The input() function pauses and waits for the user to type.\n",
    "user_value = input(\"Please enter a value: \")\n",
    "print(\"The value you entered is:\", user_value)"
   ]
  },
  {
   "cell_type": "markdown",
   "id": "220a23d0",
   "metadata": {},
   "source": [
    "### The Most Important Rule: Type Casting\n",
    "\n",
    "The `input()` function **always returns a string**. We must convert it if we need a number.\n"
   ]
  },
  {
   "cell_type": "code",
   "execution_count": 9,
   "id": "99940c8a",
   "metadata": {},
   "outputs": [
    {
     "name": "stdin",
     "output_type": "stream",
     "text": [
      "Please enter a number:  5\n"
     ]
    },
    {
     "name": "stdout",
     "output_type": "stream",
     "text": [
      "The data type of 'a' is: <class 'str'>\n"
     ]
    },
    {
     "name": "stdin",
     "output_type": "stream",
     "text": [
      "Please enter another number:  21\n"
     ]
    },
    {
     "name": "stdout",
     "output_type": "stream",
     "text": [
      "The data type of 'b' is: <class 'int'>\n"
     ]
    }
   ],
   "source": [
    "# Get a number from the user\n",
    "a = input(\"Please enter a number: \")\n",
    "print(\"The data type of 'a' is:\", type(a)) # This will be <class 'str'>\n",
    "\n",
    "# To use it as a number, we must cast it\n",
    "b = int(input(\"Please enter another number: \"))\n",
    "print(\"The data type of 'b' is:\", type(b)) # This will be <class 'int'>"
   ]
  },
  {
   "cell_type": "markdown",
   "id": "e9cf439a",
   "metadata": {},
   "source": [
    "#### WAP: Get employee details from the user"
   ]
  },
  {
   "cell_type": "code",
   "execution_count": 10,
   "id": "e70905f8",
   "metadata": {},
   "outputs": [
    {
     "name": "stdin",
     "output_type": "stream",
     "text": [
      "Please enter your employee id:  1234\n",
      "Please enter your role:  Engg\n",
      "Please enter your salary:  2000000\n"
     ]
    },
    {
     "name": "stdout",
     "output_type": "stream",
     "text": [
      "\n",
      "--- Employee Details ---\n",
      "ID: 1234\n",
      "Role: Engg\n",
      "Salary: 2000000.0\n",
      "Salary data type is: <class 'float'>\n"
     ]
    }
   ],
   "source": [
    "# We must use the correct type casting for each input.\n",
    "emp_id = input(\"Please enter your employee id: \") # ID can be a string (e.g., 'E101')\n",
    "role = input(\"Please enter your role: \")\n",
    "salary = float(input(\"Please enter your salary: \")) # Salary can have decimals\n",
    "\n",
    "print(\"\\n--- Employee Details ---\")\n",
    "print(\"ID:\", emp_id)\n",
    "print(\"Role:\", role)\n",
    "print(\"Salary:\", salary)\n",
    "print(\"Salary data type is:\", type(salary))"
   ]
  },
  {
   "cell_type": "markdown",
   "id": "d3298188",
   "metadata": {},
   "source": [
    "## Part 4: Operators\n",
    "\n",
    "Next, we covered all the different types of operators in Python"
   ]
  },
  {
   "cell_type": "markdown",
   "id": "c40bb685",
   "metadata": {},
   "source": [
    "### a) Arithmetic Operators"
   ]
  },
  {
   "cell_type": "code",
   "execution_count": 11,
   "id": "03d9fab6",
   "metadata": {},
   "outputs": [
    {
     "name": "stdin",
     "output_type": "stream",
     "text": [
      "Enter first number:  12\n",
      "Enter second number:  15\n"
     ]
    },
    {
     "name": "stdout",
     "output_type": "stream",
     "text": [
      "Addition: 27\n",
      "Subtraction: -3\n",
      "Multiplication: 180\n",
      "Division: 0.8\n",
      "Floor Division: 0\n",
      "Modulus (Remainder): 12\n",
      "Exponent (Power): 15407021574586368\n"
     ]
    }
   ],
   "source": [
    "# WAP to receive two numbers and perform all the operations\n",
    "num1 = int(input(\"Enter first number: \"))\n",
    "num2 = int(input(\"Enter second number: \"))\n",
    "\n",
    "print(f'Addition: {num1 + num2}')\n",
    "print(f'Subtraction: {num1 - num2}')\n",
    "print(f'Multiplication: {num1 * num2}')\n",
    "print(f'Division: {num1 / num2}')\n",
    "print(f'Floor Division: {num1 // num2}')\n",
    "print(f'Modulus (Remainder): {num1 % num2}')\n",
    "print(f'Exponent (Power): {num1 ** num2}')"
   ]
  },
  {
   "cell_type": "markdown",
   "id": "c1205441",
   "metadata": {},
   "source": [
    "**Special cases for `+` and `*` with strings:**"
   ]
  },
  {
   "cell_type": "code",
   "execution_count": 12,
   "id": "cf81779f",
   "metadata": {},
   "outputs": [
    {
     "name": "stdin",
     "output_type": "stream",
     "text": [
      "Please enter your first name:  MD Riyan\n",
      "Please enter your last name:  Nazeer\n"
     ]
    },
    {
     "name": "stdout",
     "output_type": "stream",
     "text": [
      "Your full name is: MD Riyan Nazeer\n",
      "Your name 10 times: MD Riyan MD Riyan MD Riyan MD Riyan MD Riyan MD Riyan MD Riyan MD Riyan MD Riyan MD Riyan \n"
     ]
    }
   ],
   "source": [
    "# String concatenation\n",
    "fname = input(\"Please enter your first name: \")\n",
    "lname = input(\"Please enter your last name: \")\n",
    "fullname = fname + ' ' + lname\n",
    "print(\"Your full name is:\", fullname)\n",
    "\n",
    "# String repetition\n",
    "print(\"Your name 10 times:\", (fname + ' ') * 10)"
   ]
  },
  {
   "cell_type": "markdown",
   "id": "5b0ff04f",
   "metadata": {},
   "source": [
    "### b) Assignment Operators\n",
    "\n",
    "These are shortcuts for updating a variable's value."
   ]
  },
  {
   "cell_type": "code",
   "execution_count": 13,
   "id": "49b34c7a",
   "metadata": {},
   "outputs": [
    {
     "name": "stdout",
     "output_type": "stream",
     "text": [
      "Before: 10\n",
      "After: 22\n"
     ]
    }
   ],
   "source": [
    "a = 10\n",
    "print(\"Before:\", a)\n",
    "\n",
    "a += 12   # This is a shortcut for: a = a + 12\n",
    "\n",
    "print(\"After:\", a)"
   ]
  },
  {
   "cell_type": "markdown",
   "id": "e81d0f35",
   "metadata": {},
   "source": [
    "### c) Comparison Operators\n",
    "These compare two values and return `True` or `False`."
   ]
  },
  {
   "cell_type": "code",
   "execution_count": 14,
   "id": "c592ea48",
   "metadata": {},
   "outputs": [
    {
     "name": "stdout",
     "output_type": "stream",
     "text": [
      "Is 10 > 5? True\n",
      "Is 10 == 5? False\n"
     ]
    }
   ],
   "source": [
    "num1 = 10\n",
    "num2 = 5\n",
    "print(f'Is {num1} > {num2}?', num1 > num2)\n",
    "print(f'Is {num1} == {num2}?', num1 == num2)"
   ]
  },
  {
   "cell_type": "markdown",
   "id": "d10e3376",
   "metadata": {},
   "source": [
    "### d) Logical Operators\n",
    "Used to combine multiple conditions (`and`, `or`, `not`)."
   ]
  },
  {
   "cell_type": "code",
   "execution_count": 15,
   "id": "fcf115a8",
   "metadata": {},
   "outputs": [
    {
     "name": "stdout",
     "output_type": "stream",
     "text": [
      "(num1 > 100) or (num1 > num2) is: True\n",
      "(num1 > 100) and (num1 > num2) is: False\n"
     ]
    }
   ],
   "source": [
    "num1 = 10\n",
    "num2 = 5\n",
    "# This returns True because the second part (num1 > num2) is True\n",
    "print(\"(num1 > 100) or (num1 > num2) is:\", (num1 > 100) or (num1 > num2))\n",
    "\n",
    "# This returns False because the first part (num1 > 100) is False\n",
    "print(\"(num1 > 100) and (num1 > num2) is:\", (num1 > 100) and (num1 > num2))"
   ]
  },
  {
   "cell_type": "markdown",
   "id": "a37d5970",
   "metadata": {},
   "source": [
    "### e) Membership Operators\n",
    "Checks if a value exists within a sequence (`in`, `not in`)."
   ]
  },
  {
   "cell_type": "code",
   "execution_count": 16,
   "id": "6d4a90d5",
   "metadata": {},
   "outputs": [
    {
     "name": "stdout",
     "output_type": "stream",
     "text": [
      "Is 'a' in 'Riyan'? True\n",
      "Is 'z' in 'Riyan'? False\n",
      "Is 'yan' in 'Riyan'? True\n"
     ]
    }
   ],
   "source": [
    "# WAP to check whether your name contains 'a' or not\n",
    "name = 'Riyan'\n",
    "print(f\"Is 'a' in '{name}'?\", 'a' in name)\n",
    "print(f\"Is 'z' in '{name}'?\", 'z' in name)\n",
    "print(f\"Is 'yan' in '{name}'?\", 'yan' in name)"
   ]
  },
  {
   "cell_type": "markdown",
   "id": "46aafa8d",
   "metadata": {},
   "source": [
    "### f) Identity Operators\n",
    "Checks if two variables refer to the exact same object in memory (`is`, `is not`)."
   ]
  },
  {
   "cell_type": "code",
   "execution_count": 18,
   "id": "818a221c",
   "metadata": {},
   "outputs": [
    {
     "name": "stdin",
     "output_type": "stream",
     "text": [
      "Please enter the number:  22\n",
      "Please enter the number:  11\n"
     ]
    },
    {
     "name": "stdout",
     "output_type": "stream",
     "text": [
      "Checking for value equality (22 == 11): False\n",
      "Checking for object identity (22 is 11): False\n"
     ]
    }
   ],
   "source": [
    "# WAP to check whether both entered numbers are identical or not\n",
    "num1 = int(input(\"Please enter the number: \"))\n",
    "num2 = int(input(\"Please enter the number: \"))\n",
    "\n",
    "print(f\"Checking for value equality ({num1} == {num2}):\", num1 == num2)\n",
    "print(f\"Checking for object identity ({num1} is {num2}):\", num1 is num2)\n",
    "# Note: For numbers from user input, 'is' is usually False because Python creates new objects."
   ]
  },
  {
   "cell_type": "markdown",
   "id": "4089c1aa",
   "metadata": {},
   "source": [
    "---"
   ]
  },
  {
   "cell_type": "markdown",
   "id": "8a855d40",
   "metadata": {},
   "source": [
    "## Homework: Understanding Bitwise Operators\n",
    "\n",
    "**Introduction:** Bitwise operators work on the **binary representation** of numbers (the 0s and 1s).\n",
    "\n",
    "**Let's use `a = 10` and `b = 4` for all examples.**\n",
    "- `a = 10`  ->  Binary `1010`\n",
    "- `b = 4`   ->  Binary `0100`"
   ]
  },
  {
   "cell_type": "markdown",
   "id": "4c268207",
   "metadata": {},
   "source": [
    "### 1. Bitwise AND (`&`)\n",
    "**Rule:** The result bit is `1` only if **both** corresponding bits are `1`.\n",
    "```\n",
    "  1010  (10)\n",
    "& 0100  (4)\n",
    "-------\n",
    "  0000  (0)\n",
    "```"
   ]
  },
  {
   "cell_type": "code",
   "execution_count": 19,
   "id": "531cf765",
   "metadata": {},
   "outputs": [
    {
     "name": "stdout",
     "output_type": "stream",
     "text": [
      "10 & 4: 0\n"
     ]
    }
   ],
   "source": [
    "print(\"10 & 4:\", 10 & 4)"
   ]
  },
  {
   "cell_type": "markdown",
   "id": "0ba774f9",
   "metadata": {},
   "source": [
    "### 2. Bitwise OR (`|`)\n",
    "**Rule:** The result bit is `1` if **at least one** of the corresponding bits is `1`.\n",
    "```\n",
    "  1010  (10)\n",
    "| 0100  (4)\n",
    "-------\n",
    "  1110  (14)\n",
    "```"
   ]
  },
  {
   "cell_type": "code",
   "execution_count": 20,
   "id": "a220eb4c",
   "metadata": {},
   "outputs": [
    {
     "name": "stdout",
     "output_type": "stream",
     "text": [
      "10 | 4: 14\n"
     ]
    }
   ],
   "source": [
    "print(\"10 | 4:\", 10 | 4)"
   ]
  },
  {
   "cell_type": "markdown",
   "id": "143bacc6",
   "metadata": {},
   "source": [
    "### 3. Bitwise XOR (`^`)\n",
    "**Rule:** The result bit is `1` only if the corresponding bits are **different**.\n",
    "```\n",
    "  1010  (10)\n",
    "^ 0100  (4)\n",
    "-------\n",
    "  1110  (14)\n",
    "```"
   ]
  },
  {
   "cell_type": "code",
   "execution_count": 21,
   "id": "5735fbcc",
   "metadata": {},
   "outputs": [
    {
     "name": "stdout",
     "output_type": "stream",
     "text": [
      "10 ^ 4: 14\n"
     ]
    }
   ],
   "source": [
    "print(\"10 ^ 4:\", 10 ^ 4)"
   ]
  },
  {
   "cell_type": "markdown",
   "id": "483d6bf3",
   "metadata": {},
   "source": [
    "### 4. Bitwise NOT (`~`)\n",
    "**Rule:** Inverts all the bits. The result is `-(x + 1)`.\n",
    "`~10` -> `-(10 + 1)` -> `-11`"
   ]
  },
  {
   "cell_type": "code",
   "execution_count": 22,
   "id": "d6ff8283",
   "metadata": {},
   "outputs": [
    {
     "name": "stdout",
     "output_type": "stream",
     "text": [
      "~10: -11\n"
     ]
    }
   ],
   "source": [
    "print(\"~10:\", ~10)"
   ]
  },
  {
   "cell_type": "markdown",
   "id": "7926ec06",
   "metadata": {},
   "source": [
    "### 5. Left Shift (`<<`) and Right Shift (`>>`)\n",
    "- **Left Shift:** Shifts bits to the left, filling empty spaces with 0s. (Effectively multiplying by 2 for each shift).\n",
    "- **Right Shift:** Shifts bits to the right, discarding bits on the end. (Effectively doing integer division by 2 for each shift)."
   ]
  },
  {
   "cell_type": "code",
   "execution_count": 23,
   "id": "9c3158fa",
   "metadata": {},
   "outputs": [
    {
     "name": "stdout",
     "output_type": "stream",
     "text": [
      "10 << 2: 40\n",
      "10 >> 2: 2\n"
     ]
    }
   ],
   "source": [
    "# Shift 10 left by 2 places: 10 * 2^2 = 40\n",
    "print(\"10 << 2:\", 10 << 2)\n",
    "\n",
    "# Shift 10 right by 2 places: 10 // 2^2 = 2\n",
    "print(\"10 >> 2:\", 10 >> 2)"
   ]
  },
  {
   "cell_type": "code",
   "execution_count": null,
   "id": "98fd0e48-b0a7-49b5-82e8-b0e72acbe7d3",
   "metadata": {},
   "outputs": [],
   "source": []
  }
 ],
 "metadata": {
  "kernelspec": {
   "display_name": "Python 3 (ipykernel)",
   "language": "python",
   "name": "python3"
  },
  "language_info": {
   "codemirror_mode": {
    "name": "ipython",
    "version": 3
   },
   "file_extension": ".py",
   "mimetype": "text/x-python",
   "name": "python",
   "nbconvert_exporter": "python",
   "pygments_lexer": "ipython3",
   "version": "3.13.5"
  }
 },
 "nbformat": 4,
 "nbformat_minor": 5
}
