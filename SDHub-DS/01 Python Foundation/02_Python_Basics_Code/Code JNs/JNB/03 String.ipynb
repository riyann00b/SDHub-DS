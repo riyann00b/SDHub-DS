{
 "cells": [
  {
   "cell_type": "markdown",
   "id": "de10b764-96a8-4f76-8f85-07cdc7ec8555",
   "metadata": {},
   "source": [
    "## practice"
   ]
  },
  {
   "cell_type": "markdown",
   "id": "8e9150e7-f831-4562-ba90-e180245716bd",
   "metadata": {},
   "source": [
    "### 01. WAP to recieve two numbers values from user and then display the division of both. use an appropreate message to display the results"
   ]
  },
  {
   "cell_type": "code",
   "execution_count": 7,
   "id": "2d353ae1-d933-4c53-b0b3-cfef60b8f64a",
   "metadata": {},
   "outputs": [
    {
     "name": "stdin",
     "output_type": "stream",
     "text": [
      "enter the 1 number:  88\n",
      "enter the 2 number:  69\n"
     ]
    },
    {
     "name": "stdout",
     "output_type": "stream",
     "text": [
      "the division of these two numbers are:  1.2753623188405796\n"
     ]
    }
   ],
   "source": [
    "a = float(input(\"enter the 1 number: \"))\n",
    "b = float(input(\"enter the 2 number: \"))\n",
    "\n",
    "print(\"the division of these two numbers are: \", a / b)"
   ]
  },
  {
   "cell_type": "code",
   "execution_count": 6,
   "id": "c521f972-407b-40f8-b3c5-97452da85f04",
   "metadata": {},
   "outputs": [
    {
     "name": "stdin",
     "output_type": "stream",
     "text": [
      "enter the 1 number:  88\n",
      "enter the 2 number:  69\n"
     ]
    },
    {
     "name": "stdout",
     "output_type": "stream",
     "text": [
      "the division of these two numbers are:  1.2753623188405796\n"
     ]
    }
   ],
   "source": [
    "a = int(input(\"enter the 1 number: \"))\n",
    "b = int(input(\"enter the 2 number: \"))\n",
    "\n",
    "print(\"the division of these two numbers are: \", a / b)"
   ]
  },
  {
   "cell_type": "markdown",
   "id": "507564fa-ce22-49c0-9f1e-12958d1cf40d",
   "metadata": {},
   "source": [
    "### WAP to recieve day and temperature  in celsius values from the userr and then display and tempareture in fehernhites"
   ]
  },
  {
   "cell_type": "code",
   "execution_count": 9,
   "id": "93dc77d5-514b-4141-b806-c0774014fa2e",
   "metadata": {},
   "outputs": [
    {
     "name": "stdin",
     "output_type": "stream",
     "text": [
      "Enter todays day:  monday\n",
      "Enter temp in celsius:  45\n"
     ]
    },
    {
     "name": "stdout",
     "output_type": "stream",
     "text": [
      "Converted celsius to fehernhites:  113.0\n"
     ]
    }
   ],
   "source": [
    "day = input(\"Enter todays day: \")\n",
    "temp_celsius =float(input(\"Enter temp in celsius: \"))\n",
    "\n",
    "print(\"Converted celsius to fehernhites: \", 9 / 5 * temp_celsius + 32)"
   ]
  },
  {
   "cell_type": "markdown",
   "id": "fe1c894d-d01d-45ef-a8a3-274f8fc4ccca",
   "metadata": {},
   "source": [
    "### **WAP to recieve first name from the user and then create an email address fr sdgub.in domain**"
   ]
  },
  {
   "cell_type": "code",
   "execution_count": 1,
   "id": "b60cb4d1-c424-4072-8fa4-b398b5edae0f",
   "metadata": {},
   "outputs": [
    {
     "name": "stdin",
     "output_type": "stream",
     "text": [
      "Enter your name:  riyan\n"
     ]
    },
    {
     "name": "stdout",
     "output_type": "stream",
     "text": [
      "riyan@sdhub.in\n"
     ]
    }
   ],
   "source": [
    "name = input(\"Enter your name: \")\n",
    "\n",
    "domain = \"@sdhub.in\"\n",
    "\n",
    "email = name + domain\n",
    "\n",
    "print(email)"
   ]
  },
  {
   "cell_type": "markdown",
   "id": "42726773-1870-41fd-b921-2d97a5140e31",
   "metadata": {},
   "source": [
    "### **WAP to recieve quanitity from user and then display the total amount paid by user if the rate of mango is 100 rupees per kg.**"
   ]
  },
  {
   "cell_type": "code",
   "execution_count": 2,
   "id": "c02ca5bf-7df1-4122-b95e-43c3afccd432",
   "metadata": {},
   "outputs": [
    {
     "name": "stdin",
     "output_type": "stream",
     "text": [
      "enter the quanitity of mangos:  5\n"
     ]
    },
    {
     "name": "stdout",
     "output_type": "stream",
     "text": [
      "the total amount of you need to pay is:  500\n"
     ]
    }
   ],
   "source": [
    "qty = int(input(\"enter the quanitity of mangos: \"))\n",
    "\n",
    "price = qty * 100\n",
    "\n",
    "print(\"the total amount of you need to pay is: \", price)"
   ]
  },
  {
   "cell_type": "markdown",
   "id": "e34d2ab7-b2ee-463d-8659-d5ea18e1c5a1",
   "metadata": {},
   "source": [
    "### Strings"
   ]
  },
  {
   "cell_type": "code",
   "execution_count": 7,
   "id": "0122f0a2-a405-4e2c-838b-2db883324e74",
   "metadata": {},
   "outputs": [
    {
     "name": "stdout",
     "output_type": "stream",
     "text": [
      "r i y a n\n",
      "n a y i r\n"
     ]
    }
   ],
   "source": [
    "name = \"riyan\"\n",
    "\n",
    "print(name[0], name[1], name[2], name[3], name[4])\n",
    "\n",
    "print(name[-1], name[-2], name[-3], name[-4], name[-5])"
   ]
  },
  {
   "cell_type": "code",
   "execution_count": 9,
   "id": "1e55e2ff-b3e3-478b-9269-d876e4b5b354",
   "metadata": {},
   "outputs": [
    {
     "name": "stdout",
     "output_type": "stream",
     "text": [
      "riy\n"
     ]
    }
   ],
   "source": [
    "name = \"riyan\"\n",
    "\n",
    "print(name[0:3])"
   ]
  },
  {
   "cell_type": "code",
   "execution_count": 10,
   "id": "8decf3db-df2f-46a1-a414-b40e21c0e7c3",
   "metadata": {},
   "outputs": [
    {
     "name": "stdout",
     "output_type": "stream",
     "text": [
      "riya\n"
     ]
    }
   ],
   "source": [
    "name = \"riyan\"\n",
    "\n",
    "print(name[0:4:1])"
   ]
  },
  {
   "cell_type": "code",
   "execution_count": 11,
   "id": "4dbb1cf8-c682-4912-9f84-df3d54d277db",
   "metadata": {},
   "outputs": [
    {
     "name": "stdout",
     "output_type": "stream",
     "text": [
      "nayir\n"
     ]
    }
   ],
   "source": [
    "name = \"riyan\"\n",
    "\n",
    "print(name[::-1])"
   ]
  },
  {
   "cell_type": "markdown",
   "id": "74ab0d10-b2a1-40a1-8eee-e595a74c051c",
   "metadata": {},
   "source": [
    "### **WAP**"
   ]
  },
  {
   "cell_type": "code",
   "execution_count": 52,
   "id": "cc737047-6c23-4bbf-839f-b814239100ae",
   "metadata": {},
   "outputs": [
    {
     "name": "stdout",
     "output_type": "stream",
     "text": [
      "riyan\n",
      "r\n",
      "n\n",
      "y\n",
      "riy\n",
      "nyr\n",
      "last 2 \n",
      "ya\n",
      "nayir\n",
      "ryn\n",
      "rn\n"
     ]
    }
   ],
   "source": [
    "# Display the string\n",
    "\n",
    "string = \"riyan\"\n",
    "\n",
    "print(string)\n",
    "\n",
    "print(string[0])\n",
    "\n",
    "print(string[-1])\n",
    "\n",
    "print(string[2])\n",
    "\n",
    "print(string[0:3])\n",
    "\n",
    "print(string[::-2]) # print(string[:-1]) \n",
    "\n",
    "print(\"last 2\",string[-1:0])\n",
    "\n",
    "print(string[2:4])\n",
    "\n",
    "print(string[::-1])\n",
    "\n",
    "print(string[0:5:2])\n",
    "\n",
    "print(string[::4])"
   ]
  },
  {
   "cell_type": "code",
   "execution_count": null,
   "id": "14ad728e-bd4f-4ea2-b793-93323a8794e9",
   "metadata": {},
   "outputs": [],
   "source": []
  }
 ],
 "metadata": {
  "kernelspec": {
   "display_name": "Python 3 (ipykernel)",
   "language": "python",
   "name": "python3"
  },
  "language_info": {
   "codemirror_mode": {
    "name": "ipython",
    "version": 3
   },
   "file_extension": ".py",
   "mimetype": "text/x-python",
   "name": "python",
   "nbconvert_exporter": "python",
   "pygments_lexer": "ipython3",
   "version": "3.13.5"
  }
 },
 "nbformat": 4,
 "nbformat_minor": 5
}
