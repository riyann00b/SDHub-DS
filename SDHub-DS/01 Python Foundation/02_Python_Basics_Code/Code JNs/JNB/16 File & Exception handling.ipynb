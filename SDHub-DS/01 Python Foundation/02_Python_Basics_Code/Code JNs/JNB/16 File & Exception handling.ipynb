{
 "cells": [
  {
   "cell_type": "markdown",
   "id": "dbd5fc36-6397-4f10-b647-926834f80502",
   "metadata": {},
   "source": [
    "# File Handliing\n",
    "1. Read -> to read a file\n",
    "2. Write -> to write/overwrite a file content\n",
    "3. Append -> to add content to a file\n",
    "\n",
    "example - 1\n",
    "```python\n",
    "file = open(\"filename.txt\", \"mode\")\n",
    "```\n",
    "\n",
    "example: reading from diffect directory\n",
    "```python\n",
    "file = open(\"path//to//the//filename.txt\", \"mode\")\n",
    "```\n",
    "\n"
   ]
  },
  {
   "cell_type": "code",
   "execution_count": 3,
   "id": "f5d0e514-0da6-4f16-aef8-fd0500dac59c",
   "metadata": {},
   "outputs": [
    {
     "name": "stdout",
     "output_type": "stream",
     "text": [
      "riyan\n",
      "\n"
     ]
    }
   ],
   "source": [
    "file = open(\"//home//riyan//Desktop//riyan2.txt\", \"r\")\n",
    "\n",
    "print(file.read())\n",
    "file.close()"
   ]
  },
  {
   "cell_type": "code",
   "execution_count": 5,
   "id": "7826e012-d87b-4592-a4e3-4e1e0d2239ff",
   "metadata": {},
   "outputs": [],
   "source": [
    "file = open(\"//home//riyan//Desktop//riyan2.txt\", \"a\")\n",
    "file.write(\"\"\"\n",
    "Hello,\n",
    "1. \n",
    "2.\n",
    "3.\n",
    "4\n",
    "\"\"\")\n",
    "file.close()"
   ]
  },
  {
   "cell_type": "code",
   "execution_count": 6,
   "id": "f9ba36be-fbd9-4f3f-85c2-3c2d1cb1a0f4",
   "metadata": {},
   "outputs": [
    {
     "name": "stdout",
     "output_type": "stream",
     "text": [
      "riyan\n",
      "\n",
      "Hello,\n",
      "1. \n",
      "2.\n",
      "3.\n",
      "4.\n",
      "\n",
      "Hello,\n",
      "1. \n",
      "2.\n",
      "3.\n",
      "4\n",
      "\n"
     ]
    }
   ],
   "source": [
    "file = open(\"//home//riyan//Desktop//riyan2.txt\", \"r\")\n",
    "\n",
    "print(file.read())\n",
    "file.close()"
   ]
  },
  {
   "cell_type": "markdown",
   "id": "8f2ce296-c713-4c98-92ad-2b4d13cb0c78",
   "metadata": {},
   "source": [
    "# Try - finally block\n",
    "\n",
    "```python\n",
    "try:\n",
    "    ---\n",
    "finally:\n",
    "    ---\n",
    "```\n"
   ]
  },
  {
   "cell_type": "code",
   "execution_count": 9,
   "id": "75694a33-babd-49da-a414-89089210ac3a",
   "metadata": {},
   "outputs": [
    {
     "name": "stdout",
     "output_type": "stream",
     "text": [
      "riyan \n",
      "File read\n"
     ]
    }
   ],
   "source": [
    "# example\n",
    "\n",
    "try:\n",
    "    file = open('riyan.txt', 'r')\n",
    "    print(file.read())\n",
    "finally:\n",
    "    file.close()\n",
    "    print(\"File read\")"
   ]
  },
  {
   "cell_type": "markdown",
   "id": "8735e4d1-cb7b-495c-a877-6164cbf04678",
   "metadata": {},
   "source": [
    "**WAP to add one or more line to an exsisting file and read at the same timw**"
   ]
  },
  {
   "cell_type": "code",
   "execution_count": 12,
   "id": "c2e4aa25-d56d-41d2-a0fc-4342f6a6d15a",
   "metadata": {},
   "outputs": [
    {
     "name": "stdout",
     "output_type": "stream",
     "text": [
      "riyan Hello\n",
      "Hello\n",
      "Hello\n",
      "File read\n",
      "File closed \n"
     ]
    }
   ],
   "source": [
    "# example\n",
    "\n",
    "try:\n",
    "    file = open('riyan.txt', 'a')\n",
    "    file.write(\"\\nHello\")\n",
    "finally:\n",
    "    file = open('riyan.txt', 'r')\n",
    "    print(file.read())\n",
    "    print(\"File read\")\n",
    "    file.close()\n",
    "    print(\"File closed \")"
   ]
  },
  {
   "cell_type": "markdown",
   "id": "b077802b-0bdf-4cb2-ac7e-252c8b892112",
   "metadata": {},
   "source": [
    "# Exception Handling"
   ]
  },
  {
   "cell_type": "code",
   "execution_count": 13,
   "id": "b9da3aed-1672-47e4-b965-adb7556c7df4",
   "metadata": {},
   "outputs": [
    {
     "name": "stdin",
     "output_type": "stream",
     "text": [
      "Enter a number:  d\n"
     ]
    },
    {
     "name": "stdout",
     "output_type": "stream",
     "text": [
      "Please enter a number\n"
     ]
    }
   ],
   "source": [
    "try:\n",
    "    num = int(input(\"Enter a number: \"))\n",
    "except ValueError:\n",
    "    print(\"Please enter a number\")\n",
    "    "
   ]
  },
  {
   "cell_type": "code",
   "execution_count": 15,
   "id": "a95cda82-3032-4871-a8f0-186de8255139",
   "metadata": {},
   "outputs": [
    {
     "name": "stdin",
     "output_type": "stream",
     "text": [
      "Enter the number 1:  5\n",
      "Enter the number 2:  a\n"
     ]
    },
    {
     "name": "stdout",
     "output_type": "stream",
     "text": [
      "Emter only numbers\n"
     ]
    }
   ],
   "source": [
    "try:\n",
    "    num1 = int(input(\"Enter the number 1: \"))\n",
    "    num2 = int(input(\"Enter the number 2: \"))\n",
    "    print(\"The addition of 2 number\" , num1+num2)\n",
    "except ValueError:\n",
    "    print(\"Emter only numbers\")"
   ]
  },
  {
   "cell_type": "markdown",
   "id": "55bc32ff-0974-4deb-afda-13f6d6a4ca60",
   "metadata": {},
   "source": [
    "**WAP to perform division and handle error**"
   ]
  },
  {
   "cell_type": "code",
   "execution_count": 17,
   "id": "086c1367-9389-4d86-b7b3-11560bf8defe",
   "metadata": {},
   "outputs": [
    {
     "name": "stdin",
     "output_type": "stream",
     "text": [
      "Enter the number 1:  s\n"
     ]
    },
    {
     "name": "stdout",
     "output_type": "stream",
     "text": [
      "Emter only numbers\n"
     ]
    }
   ],
   "source": [
    "try:\n",
    "    num1 = int(input(\"Enter the number 1: \"))\n",
    "    num2 = int(input(\"Enter the number 2: \"))\n",
    "    print(\"The addition of 2 number\" , num1/num2)\n",
    "except ValueError:\n",
    "    print(\"Emter only numbers\")\n",
    "except ZeroDivisionError:\n",
    "    print(\"Enter a non zero values\")"
   ]
  },
  {
   "cell_type": "markdown",
   "id": "5656e7d0-0ca7-49c3-a1b5-48362ba16049",
   "metadata": {},
   "source": [
    "**WAP to read a file dynamically, if not found then handle the error**"
   ]
  },
  {
   "cell_type": "code",
   "execution_count": 26,
   "id": "7da0a99d-8cdf-4ade-a7be-a049f3f91548",
   "metadata": {},
   "outputs": [
    {
     "name": "stdin",
     "output_type": "stream",
     "text": [
      "input file name path: 123\n"
     ]
    },
    {
     "name": "stdout",
     "output_type": "stream",
     "text": [
      "File not found file enter correct path\n",
      "\n",
      "File closed\n"
     ]
    }
   ],
   "source": [
    "try:\n",
    "    path = input(\"input file name path:\")\n",
    "    file = open(path, 'r')\n",
    "    print(file.read())\n",
    "    print(\"\\nFile read\")\n",
    "except FileNotFoundError:\n",
    "    print(\"File not found file enter correct path\")\n",
    "finally:\n",
    "    file.close()\n",
    "    print(\"\\nFile closed\")"
   ]
  },
  {
   "cell_type": "code",
   "execution_count": null,
   "id": "aeb034af-ceac-4a49-bd2f-568482e62ad4",
   "metadata": {},
   "outputs": [],
   "source": []
  }
 ],
 "metadata": {
  "kernelspec": {
   "display_name": "Python 3 (ipykernel)",
   "language": "python",
   "name": "python3"
  },
  "language_info": {
   "codemirror_mode": {
    "name": "ipython",
    "version": 3
   },
   "file_extension": ".py",
   "mimetype": "text/x-python",
   "name": "python",
   "nbconvert_exporter": "python",
   "pygments_lexer": "ipython3",
   "version": "3.13.5"
  }
 },
 "nbformat": 4,
 "nbformat_minor": 5
}
