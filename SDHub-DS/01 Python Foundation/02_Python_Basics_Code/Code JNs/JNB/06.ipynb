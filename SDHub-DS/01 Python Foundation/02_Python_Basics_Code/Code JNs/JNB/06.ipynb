{
 "cells": [
  {
   "cell_type": "markdown",
   "id": "d320122f-5223-4ad3-900d-3c9d06f05973",
   "metadata": {},
   "source": [
    "# baiscs revision"
   ]
  },
  {
   "cell_type": "markdown",
   "id": "e6688f82-f2a4-4b86-b8c4-f179418e3887",
   "metadata": {},
   "source": [
    "## **WAP to recive a string from user perform the below tasks:**\n",
    "1. dsiplay he string\n",
    "2. display last char\n",
    "3. display the reverse\n",
    "4. display length of the string\n",
    "5. count the no. of words"
   ]
  },
  {
   "cell_type": "code",
   "execution_count": 7,
   "id": "07c130f7-420a-49b3-bc47-582ae91f3476",
   "metadata": {},
   "outputs": [
    {
     "name": "stdin",
     "output_type": "stream",
     "text": [
      "Enter your string:  riyan\n"
     ]
    },
    {
     "name": "stdout",
     "output_type": "stream",
     "text": [
      "dsiplay the string: riyan\n",
      "dsiplay the last char: n\n",
      "dsiplay the string in reverce: nayir\n",
      "dsiplay the length: 5\n",
      "1\n"
     ]
    }
   ],
   "source": [
    "st = input(\"Enter your string: \")\n",
    "\n",
    "print(\"dsiplay the string:\", st)\n",
    "\n",
    "print(\"dsiplay the last char:\", st[-1])\n",
    "\n",
    "print(\"dsiplay the string in reverce:\", st[::-1])\n",
    "\n",
    "print(\"dsiplay the length:\", len(st))\n",
    "\n",
    "print(len(st.split(\" \"))) "
   ]
  },
  {
   "cell_type": "markdown",
   "id": "24677054-52a9-43c8-90de-366e597669e9",
   "metadata": {},
   "source": [
    "# **WAP to create a list of first 10 natural numbers using range and perform the below task:**\n",
    "\n",
    "1. Display the entire list\n",
    "2. Display the last three elements\n",
    "3. display the total number of elements\n",
    "4. add 100 to list\n",
    "5. delete first elements\n"
   ]
  },
  {
   "cell_type": "code",
   "execution_count": 13,
   "id": "0ff76d81-085c-4750-944d-0c8c0d015c04",
   "metadata": {},
   "outputs": [
    {
     "name": "stdout",
     "output_type": "stream",
     "text": [
      "[1, 2, 3, 4, 5, 6, 7, 8, 9, 10]\n",
      "\n",
      "The last three element:  [8, 9, 10]\n",
      "[1, 2, 3, 4, 5, 6, 7, 8, 9, 10]\n",
      "\n",
      "Display the total number of elements 10\n",
      "[1, 2, 3, 4, 5, 6, 7, 8, 9, 10]\n",
      "\n",
      "added 100 to the list:\n",
      "[1, 2, 3, 4, 5, 6, 7, 8, 9, 10, 100]\n",
      "\n",
      "Delete the last element: 100\n",
      "[1, 2, 3, 4, 5, 6, 7, 8, 9, 10]\n"
     ]
    }
   ],
   "source": [
    "li = list(range(1,11))\n",
    "\n",
    "print(li)\n",
    "print(\"\\nThe last three element: \", li[-3:] )\n",
    "print(li)\n",
    "\n",
    "print(\"\\nDisplay the total number of elements\", len(li))\n",
    "print(li)\n",
    "\n",
    "li.append(100)\n",
    "print(\"\\nadded 100 to the list:\")\n",
    "print(li)\n",
    "\n",
    "li.pop(-1)\n",
    "print(\"\\nDelete the last element:\")\n",
    "print(li)\n"
   ]
  },
  {
   "cell_type": "markdown",
   "id": "93d4e480-5c31-46ee-b270-1d8cb7884ee6",
   "metadata": {},
   "source": [
    "# **WAP to create a tuple 50 to 60 and then display the tuple adding your name**"
   ]
  },
  {
   "cell_type": "code",
   "execution_count": 22,
   "id": "f70e5e83-6f3e-4fb1-8db2-99151b2deaa9",
   "metadata": {},
   "outputs": [
    {
     "name": "stdout",
     "output_type": "stream",
     "text": [
      "(50, 51, 52, 53, 54, 55, 56, 57, 58, 59, 60, 'R', 'i', 'y', 'a', 'n')\n"
     ]
    }
   ],
   "source": [
    "no = tuple(range(50,61))\n",
    "#no = no+tuple(input(\"Enter your name:\"))\n",
    "no = no+tuple(\"Riyan\")\n",
    "\n",
    "print(no)"
   ]
  },
  {
   "cell_type": "markdown",
   "id": "1f96467b-6e5c-4e0e-a7b9-bf9b2be82583",
   "metadata": {},
   "source": [
    "# **WAP to create a set of 70 to 80 elements and then perform rge below task**\n",
    "\n",
    "1. display the set\n",
    "2. add the 1000  to the set\n",
    "3. remove 75 from the set\n",
    "4. create another set of 75 to 85 and perfrom union"
   ]
  },
  {
   "cell_type": "code",
   "execution_count": 28,
   "id": "850a2cf8-fc74-48b4-97e5-1689f0e408c9",
   "metadata": {},
   "outputs": [
    {
     "name": "stdout",
     "output_type": "stream",
     "text": [
      "\n",
      "My set {1, 2, 3, 4, 5, 6, 7, 8, 9, 10, 11, 12, 13, 14, 15, 16, 17, 18, 19, 20, 21, 22, 23, 24, 25, 26, 27, 28, 29, 30, 31, 32, 33, 34, 35, 36, 37, 38, 39, 40, 41, 42, 43, 44, 45, 46, 47, 48, 49, 50, 51, 52, 53, 54, 55, 56, 57, 58, 59, 60, 61, 62, 63, 64, 65, 66, 67, 68, 69, 70, 71, 72, 73, 74, 75, 76, 77, 78, 79, 80}\n",
      "\n",
      "added 1000 {1, 2, 3, 4, 5, 6, 7, 8, 9, 10, 11, 12, 13, 14, 15, 16, 17, 18, 19, 20, 21, 22, 23, 24, 25, 26, 27, 28, 29, 30, 31, 32, 33, 34, 35, 36, 37, 38, 39, 40, 41, 42, 43, 44, 45, 46, 47, 48, 49, 50, 51, 52, 53, 54, 55, 56, 57, 58, 59, 60, 61, 62, 63, 64, 65, 66, 67, 68, 69, 70, 71, 72, 73, 74, 75, 76, 77, 78, 79, 80, 1000}\n",
      "\n",
      "remove 75 {1, 2, 3, 4, 5, 6, 7, 8, 9, 10, 11, 12, 13, 14, 15, 16, 17, 18, 19, 20, 21, 22, 23, 24, 25, 26, 27, 28, 29, 30, 31, 32, 33, 34, 35, 36, 37, 38, 39, 40, 41, 42, 43, 44, 45, 46, 47, 48, 49, 50, 51, 52, 53, 54, 55, 56, 57, 58, 59, 60, 61, 62, 63, 64, 65, 66, 67, 68, 69, 70, 71, 72, 73, 74, 76, 77, 78, 79, 80, 1000}\n",
      "\n",
      "union: {1, 2, 3, 4, 5, 6, 7, 8, 9, 10, 11, 12, 13, 14, 15, 16, 17, 18, 19, 20, 21, 22, 23, 24, 25, 26, 27, 28, 29, 30, 31, 32, 33, 34, 35, 36, 37, 38, 39, 40, 41, 42, 43, 44, 45, 46, 47, 48, 49, 50, 51, 52, 53, 54, 55, 56, 57, 58, 59, 60, 61, 62, 63, 64, 65, 66, 67, 68, 69, 70, 71, 72, 73, 74, 75, 76, 77, 78, 79, 80, 81, 82, 83, 84, 85, 1000}\n"
     ]
    }
   ],
   "source": [
    "se = set(range(1,81))\n",
    "print(\"\\nMy set\", se)\n",
    "\n",
    "se.add(1000)\n",
    "print(\"\\nadded 1000\", se)\n",
    "\n",
    "se.remove(75)\n",
    "print(\"\\nremove 75\", se)\n",
    "\n",
    "se1 = set(range(75,86))\n",
    "\n",
    "se2 = se.union(se1)\n",
    "\n",
    "print(\"\\nunion:\", se2)\n",
    "\n"
   ]
  },
  {
   "cell_type": "markdown",
   "id": "0b16acb2-be3c-461f-8970-8ca51d2e82df",
   "metadata": {},
   "source": [
    "# **WAP to create a dict of list which has name course fee ad institue as keys perform the following task:**\n",
    "1. dsiplay the dict\n",
    "2. display the keys\n",
    "3. total count of elementsnt\n",
    "4. display the couse\n",
    "5. change the second na,e with test\n",
    "6. add location ket\n",
    "7. delete dee from the dict"
   ]
  },
  {
   "cell_type": "code",
   "execution_count": 29,
   "id": "b023d53d-199d-43a2-8b2f-c5c6c299cb5a",
   "metadata": {},
   "outputs": [],
   "source": [
    "di = {\n",
    "    'name':[\"amaan\", \"riyan\", \"sohail\"],\n",
    "    'course':[\"DS\", \"CS\", \"CSM\"],\n",
    "    'fee':[1000, 5000, 6000],\n",
    "    'institute':[\"SDHUb\"]\n",
    "}"
   ]
  },
  {
   "cell_type": "code",
   "execution_count": 30,
   "id": "6c610efd-fa46-4fcc-8f57-48a7ac5f86c3",
   "metadata": {},
   "outputs": [
    {
     "data": {
      "text/plain": [
       "{'name': ['amaan', 'riyan', 'sohail'],\n",
       " 'course': ['DS', 'CS', 'CSM'],\n",
       " 'fee': [1000, 5000, 6000],\n",
       " 'institute': ['SDHUb']}"
      ]
     },
     "execution_count": 30,
     "metadata": {},
     "output_type": "execute_result"
    }
   ],
   "source": [
    "di"
   ]
  },
  {
   "cell_type": "code",
   "execution_count": 33,
   "id": "00143036-47a1-4a62-b5a2-4f9f474d86d1",
   "metadata": {},
   "outputs": [
    {
     "data": {
      "text/plain": [
       "dict_keys(['name', 'course', 'fee', 'institute'])"
      ]
     },
     "execution_count": 33,
     "metadata": {},
     "output_type": "execute_result"
    }
   ],
   "source": [
    "di.keys()"
   ]
  },
  {
   "cell_type": "code",
   "execution_count": 35,
   "id": "ae8a8b1b-d134-45fa-9634-d1b7b2991cbf",
   "metadata": {},
   "outputs": [
    {
     "data": {
      "text/plain": [
       "4"
      ]
     },
     "execution_count": 35,
     "metadata": {},
     "output_type": "execute_result"
    }
   ],
   "source": [
    "len(di)"
   ]
  },
  {
   "cell_type": "code",
   "execution_count": 37,
   "id": "d96604c9-e925-4847-839e-4654cb88815d",
   "metadata": {},
   "outputs": [
    {
     "data": {
      "text/plain": [
       "['DS', 'CS', 'CSM']"
      ]
     },
     "execution_count": 37,
     "metadata": {},
     "output_type": "execute_result"
    }
   ],
   "source": [
    "di['course']"
   ]
  },
  {
   "cell_type": "code",
   "execution_count": 39,
   "id": "09f80f69-3d7f-47cb-bc43-5addb8cf9ee8",
   "metadata": {},
   "outputs": [
    {
     "data": {
      "text/plain": [
       "['amaan', 'test', 'sohail']"
      ]
     },
     "execution_count": 39,
     "metadata": {},
     "output_type": "execute_result"
    }
   ],
   "source": [
    "di['name'][1] = 'test'\n",
    "\n",
    "di['name']"
   ]
  },
  {
   "cell_type": "code",
   "execution_count": 40,
   "id": "0195991b-301e-477e-9940-5d7187d68fd7",
   "metadata": {},
   "outputs": [],
   "source": [
    "di['location'] = ['Hyd']"
   ]
  },
  {
   "cell_type": "code",
   "execution_count": 41,
   "id": "6c7d9559-02b3-4334-985f-4519d947da70",
   "metadata": {},
   "outputs": [
    {
     "data": {
      "text/plain": [
       "{'name': ['amaan', 'test', 'sohail'],\n",
       " 'course': ['DS', 'CS', 'CSM'],\n",
       " 'fee': [1000, 5000, 6000],\n",
       " 'institute': ['SDHUb'],\n",
       " 'location': ['Hyd']}"
      ]
     },
     "execution_count": 41,
     "metadata": {},
     "output_type": "execute_result"
    }
   ],
   "source": [
    "di"
   ]
  },
  {
   "cell_type": "code",
   "execution_count": 42,
   "id": "3ca2f2da-ffd3-4170-9bc3-b34ca8ef7ca8",
   "metadata": {},
   "outputs": [
    {
     "data": {
      "text/plain": [
       "[1000, 5000, 6000]"
      ]
     },
     "execution_count": 42,
     "metadata": {},
     "output_type": "execute_result"
    }
   ],
   "source": [
    "di.pop('fee')"
   ]
  },
  {
   "cell_type": "code",
   "execution_count": 43,
   "id": "4091c3ac-7188-474b-9cf9-aee78a9eaec8",
   "metadata": {},
   "outputs": [
    {
     "data": {
      "text/plain": [
       "{'name': ['amaan', 'test', 'sohail'],\n",
       " 'course': ['DS', 'CS', 'CSM'],\n",
       " 'institute': ['SDHUb'],\n",
       " 'location': ['Hyd']}"
      ]
     },
     "execution_count": 43,
     "metadata": {},
     "output_type": "execute_result"
    }
   ],
   "source": [
    "di"
   ]
  },
  {
   "cell_type": "markdown",
   "id": "8f7c2a1f-3914-49d0-b16e-b59ac1332b0a",
   "metadata": {},
   "source": [
    "# **todays topics String Method**\n",
    "1. formating strings (print())"
   ]
  },
  {
   "cell_type": "code",
   "execution_count": 44,
   "id": "7f8100ba-0472-4e0b-bd13-511852fd9643",
   "metadata": {},
   "outputs": [
    {
     "name": "stdout",
     "output_type": "stream",
     "text": [
      "riyan 20\n",
      "riyan\n",
      "20\n",
      "my name is: riyan\n",
      "my age is: 20\n"
     ]
    }
   ],
   "source": [
    "name = 'riyan'\n",
    "age = 20\n",
    "\n",
    "#op1\n",
    "print(name, age)\n",
    "\n",
    "#op2\n",
    "print(name)\n",
    "print(age)\n",
    "\n",
    "#op3\n",
    "print(\"my name is:\", name)\n",
    "print(\"my age is:\", age)"
   ]
  },
  {
   "cell_type": "markdown",
   "id": "30851034-f5bb-4ca4-8f1b-4eaa96e5008e",
   "metadata": {},
   "source": [
    "## method 1: Dot method/format\n",
    "\n",
    "eg:\n",
    "```python\n",
    "print(\"msg\".format(ver1, ver2))\n",
    "```"
   ]
  },
  {
   "cell_type": "code",
   "execution_count": 45,
   "id": "e5ac65b8-9c84-4b2a-8c81-69219b7bd1dd",
   "metadata": {},
   "outputs": [
    {
     "name": "stdout",
     "output_type": "stream",
     "text": [
      "my name is riyan and my age is 20\n"
     ]
    }
   ],
   "source": [
    "print(\"my name is {} and my age is {}\".format(name, age))"
   ]
  },
  {
   "cell_type": "markdown",
   "id": "e8089d0c-7cfa-4ab1-a552-6e421f0f5c30",
   "metadata": {},
   "source": [
    "# **WAP to reacive todays date and temp and then display it using the below format**\n",
    "## Today is Thusday and the temperature is 22 celsisus"
   ]
  },
  {
   "cell_type": "code",
   "execution_count": 60,
   "id": "4b7c6574-730f-4c55-b473-7df9f3666e97",
   "metadata": {},
   "outputs": [
    {
     "name": "stdin",
     "output_type": "stream",
     "text": [
      "Enters todays date:  monday\n",
      "Enter todays Temp in celsius: 45\n"
     ]
    },
    {
     "name": "stdout",
     "output_type": "stream",
     "text": [
      "\n",
      " dot method: Today is Monday and the temperature is 45.0\n",
      "\n",
      " f-method: Today is Monday and the temperature is 45.0\n"
     ]
    }
   ],
   "source": [
    "date = str(input(\"Enters todays date: \"))\n",
    "temp = float(input(\"Enter todays Temp in celsius:\"))\n",
    "\n",
    "#dot method\n",
    "print(\"\\n dot method: Today is {} and the temperature is {}\".format(date.title(), temp))\n",
    "\n",
    "#f method\n",
    "print(f\"\\n f-method: Today is {date.title()} and the temperature is {temp}\")"
   ]
  },
  {
   "cell_type": "markdown",
   "id": "8f3f8cf9-86f3-463b-b29b-7f0edecc4223",
   "metadata": {},
   "source": [
    "# **starting the real shit**\n",
    "\n",
    "## *python paradime*\n",
    "### \n",
    "1. procedral\n",
    "2. conditional programming\n",
    "3. object oriented\n",
    "\n",
    "1. procedral\n",
    "\n",
    "\n",
    "2. conditional\n",
    "   conditions statements = if , else, elif\n",
    "\n",
    "   - if else = one condition: one output\n",
    "   - if if if = multiple condition: one or more\n",
    "   - if elif elif = multiple condition: one output\n",
    "\n",
    "\n",
    "code examples\n",
    "\n",
    "```python\n",
    "num = int(input)\n",
    "if (num%2 == 0):\n",
    "    print('even')\n",
    "```\n",
    "\n"
   ]
  },
  {
   "cell_type": "markdown",
   "id": "ec04fa46-d8f2-455a-a39e-0dc9f02047f9",
   "metadata": {},
   "source": [
    "## **WAP to check the given number is odd or even**"
   ]
  },
  {
   "cell_type": "code",
   "execution_count": 63,
   "id": "884dfcb3-c165-4a0f-9407-8290ee9e3579",
   "metadata": {},
   "outputs": [
    {
     "name": "stdin",
     "output_type": "stream",
     "text": [
      "Enter your number : 45\n"
     ]
    },
    {
     "name": "stdout",
     "output_type": "stream",
     "text": [
      "\n",
      "the number 45 is odd\n"
     ]
    }
   ],
   "source": [
    "num = int(input(\"Enter your number :\"))\n",
    "\n",
    "if (num%2 == 0):\n",
    "    print(\"\\nthe number\", num, \"is even\")\n",
    "else:\n",
    "    print(\"\\nthe number\", num, \"is odd\")"
   ]
  },
  {
   "cell_type": "markdown",
   "id": "6778c7e1-12c9-4a47-9462-0ad2d7346768",
   "metadata": {},
   "source": [
    "### **WAP to recive a name from user and then check whether iis tarts with A or not**"
   ]
  },
  {
   "cell_type": "code",
   "execution_count": 70,
   "id": "b1a31b0d-f518-48b0-b137-7f8b05382024",
   "metadata": {},
   "outputs": [
    {
     "name": "stdin",
     "output_type": "stream",
     "text": [
      "Enter your name: amaan\n"
     ]
    },
    {
     "name": "stdout",
     "output_type": "stream",
     "text": [
      "Your name doesnt start with A\n"
     ]
    }
   ],
   "source": [
    "st = input('Enter your name:')\n",
    "\n",
    "if st[0].upper == 'A': \n",
    "    print(\"your name starts with A\")\n",
    "else:\n",
    "    print(\"Your name doesnt start with A\")"
   ]
  },
  {
   "cell_type": "code",
   "execution_count": 69,
   "id": "27b24e3c-3af9-4086-8079-8392cabb55a5",
   "metadata": {},
   "outputs": [
    {
     "name": "stdin",
     "output_type": "stream",
     "text": [
      "Enter your name: amaan\n"
     ]
    },
    {
     "name": "stdout",
     "output_type": "stream",
     "text": [
      "Your name doesnt start with A\n"
     ]
    }
   ],
   "source": [
    "st = input('Enter your name:')\n",
    "\n",
    "st.upper\n",
    "\n",
    "if st.startswith('A'): \n",
    "    print(\"your name starts with A\")\n",
    "else:\n",
    "    print(\"Your name doesnt start with A\")"
   ]
  },
  {
   "cell_type": "markdown",
   "id": "89ce7458-06a8-4b28-b420-daa34aaa6578",
   "metadata": {},
   "source": [
    "### **WAP to check wheather a ni=umber is greater then 10 or not and check if it is evem**"
   ]
  },
  {
   "cell_type": "code",
   "execution_count": 80,
   "id": "fb7ecab7-6559-4c67-b91e-5221e50ba096",
   "metadata": {},
   "outputs": [
    {
     "name": "stdin",
     "output_type": "stream",
     "text": [
      "Enter your number:  20\n"
     ]
    },
    {
     "name": "stdout",
     "output_type": "stream",
     "text": [
      "\n",
      "the number is greater then 10\n",
      "\n",
      "the number 20 is even\n"
     ]
    }
   ],
   "source": [
    "num = int(input(\"Enter your number: \"))\n",
    "\n",
    "if num > 10:\n",
    "    print(\"\\nthe number is greater then 10\")\n",
    "else:\n",
    "    print(\"\\nthe number is not greater then 10\")\n",
    "\n",
    "if num % 2 == 0:\n",
    "    print(\"\\nthe number\", num, \"is even\")\n",
    "else:\n",
    "    print(\"\\nthe number\", num, \"is odd\")"
   ]
  },
  {
   "cell_type": "markdown",
   "id": "84520a40-dc9d-48b8-91a2-508c3f985874",
   "metadata": {},
   "source": [
    "### **WAP to receive user name and age check if the user is an adult, name contains more then 5 chreater and starts with U**"
   ]
  },
  {
   "cell_type": "code",
   "execution_count": 85,
   "id": "64b84d33-6994-4031-9af9-fc7a527598b4",
   "metadata": {},
   "outputs": [
    {
     "ename": "SyntaxError",
     "evalue": "invalid syntax (2902042628.py, line 17)",
     "output_type": "error",
     "traceback": [
      "  \u001b[36mCell\u001b[39m\u001b[36m \u001b[39m\u001b[32mIn[85]\u001b[39m\u001b[32m, line 17\u001b[39m\n\u001b[31m    \u001b[39m\u001b[31mif name.startswith['U'] or if name[0] == 'U':\u001b[39m\n                               ^\n\u001b[31mSyntaxError\u001b[39m\u001b[31m:\u001b[39m invalid syntax\n"
     ]
    }
   ],
   "source": [
    "name = input(\"Enter your name: \")\n",
    "\n",
    "age = int(input(\"Enter your age: \"))\n",
    "\n",
    "if age > 18:\n",
    "    print(name, \"is an adult\")\n",
    "else:\n",
    "    print(name, \"is a minor\")\n",
    "\n",
    "if len(name) > 5:\n",
    "    print(name, \"has more then 5 charector\")\n",
    "else:\n",
    "    print(name, \"has less then 5 charectors\")\n",
    "\n",
    "name.upper\n",
    "\n",
    "if name[0] == 'U':\n",
    "    print(name, \"name strats with U\")\n",
    "else:\n",
    "    print(name, \"name doesnt strats with U\")\n"
   ]
  },
  {
   "cell_type": "markdown",
   "id": "39f463de-d6f3-4339-83fa-12764f694df8",
   "metadata": {},
   "source": [
    "## ToDo: Solve all the above problems one more time"
   ]
  },
  {
   "cell_type": "code",
   "execution_count": null,
   "id": "41f41f96-7727-413a-8b5d-62ab830e9806",
   "metadata": {},
   "outputs": [],
   "source": []
  }
 ],
 "metadata": {
  "kernelspec": {
   "display_name": "Python 3 (ipykernel)",
   "language": "python",
   "name": "python3"
  },
  "language_info": {
   "codemirror_mode": {
    "name": "ipython",
    "version": 3
   },
   "file_extension": ".py",
   "mimetype": "text/x-python",
   "name": "python",
   "nbconvert_exporter": "python",
   "pygments_lexer": "ipython3",
   "version": "3.13.5"
  }
 },
 "nbformat": 4,
 "nbformat_minor": 5
}
