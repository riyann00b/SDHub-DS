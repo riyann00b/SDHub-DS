{
 "cells": [
  {
   "cell_type": "markdown",
   "id": "c6d3d138-14de-432d-a6d4-35887fe06dc4",
   "metadata": {},
   "source": [
    "# Functional programming\n",
    "> Defination:\n",
    "\n",
    "## build-in/ predefine functions\n",
    "1. print()\n",
    "2. len()\n",
    "3. list()\n",
    "4. Add all buildin function and make a table to explain its function\n",
    "\n",
    "## User define Function\n",
    "> how to define a function?\n",
    "```python\n",
    "def fuction_name()\n",
    "```\n",
    "\n",
    "> how to use or invoke a function\n",
    "```python\n",
    "function_name()\n",
    "```\n",
    "\n",
    "> Defining a Parameter (arguments)\n",
    "```python\n",
    "function_name(variable) # -> assignment\n",
    "```\n"
   ]
  },
  {
   "cell_type": "code",
   "execution_count": 14,
   "id": "c58a36d5-6df7-4bc2-a3e5-bd50ac102fd0",
   "metadata": {},
   "outputs": [
    {
     "name": "stdin",
     "output_type": "stream",
     "text": [
      "Enter your name riyan\n"
     ]
    },
    {
     "name": "stdout",
     "output_type": "stream",
     "text": [
      "Hello, \n",
      "Good morning, riyan\n"
     ]
    }
   ],
   "source": [
    "# creating Functions\n",
    "\n",
    "def greet_people():\n",
    "    name = input(\"Enter your name\")\n",
    "    print(f\"Hello, \\nGood morning, {name}\")\n",
    "\n",
    "greet_people()"
   ]
  },
  {
   "cell_type": "code",
   "execution_count": 25,
   "id": "ec8c0dca-9cf5-4168-855d-58367a5a8867",
   "metadata": {},
   "outputs": [
    {
     "name": "stdout",
     "output_type": "stream",
     "text": [
      "Hello, \n",
      "Good morning, riyan\n"
     ]
    }
   ],
   "source": [
    "# creating and defining a Functions\n",
    "\n",
    "def greet_people(name):\n",
    "    #name = input(\"Enter your name\")\n",
    "    print(f\"Hello, \\nGood morning, {name}\")\n",
    "\n",
    "\n",
    "greet_people(\"riyan\")"
   ]
  },
  {
   "cell_type": "markdown",
   "id": "3c3b0d3a-a7f7-4e28-9da0-8a7b04bac709",
   "metadata": {},
   "source": [
    "### WAP to define a function and can add 2 values "
   ]
  },
  {
   "cell_type": "code",
   "execution_count": 37,
   "id": "bf6dc540-8e17-47e6-a074-085420d7e8fa",
   "metadata": {},
   "outputs": [
    {
     "name": "stdin",
     "output_type": "stream",
     "text": [
      "enter a 12\n",
      "enter b 13\n"
     ]
    },
    {
     "name": "stdout",
     "output_type": "stream",
     "text": [
      "The sum of 12 + 13:  25\n"
     ]
    }
   ],
   "source": [
    "def adding():\n",
    "    a = int(input(\"enter a\"))\n",
    "    b = int(input(\"enter b\"))\n",
    "    print(f\"The sum of {a} + {b}: \", a+b)\n",
    "\n",
    "adding()"
   ]
  },
  {
   "cell_type": "code",
   "execution_count": 35,
   "id": "99610608-16fb-493f-98d3-fb2e4bff66af",
   "metadata": {},
   "outputs": [
    {
     "name": "stdout",
     "output_type": "stream",
     "text": [
      "the sum of 12 and 13:  25\n"
     ]
    }
   ],
   "source": [
    "def adding(a ,b):\n",
    "    print(f\"the sum of {a} and {b}: \", a+b)\n",
    "\n",
    "adding(12, 13)"
   ]
  },
  {
   "cell_type": "markdown",
   "id": "f898cf5a-694f-436c-9750-2546a8079dcc",
   "metadata": {},
   "source": [
    "### Pratice: expected output Hello Uwaish Your age is 28"
   ]
  },
  {
   "cell_type": "code",
   "execution_count": 39,
   "id": "4b59cd09-555c-4b34-a80d-d9444b3912f3",
   "metadata": {},
   "outputs": [
    {
     "name": "stdout",
     "output_type": "stream",
     "text": [
      "Hello Uwaish, your age is 28\n"
     ]
    }
   ],
   "source": [
    "def user(name, age):\n",
    "    print(f\"Hello {name}, your age is {age}\")\n",
    "\n",
    "user('Uwaish', 28)"
   ]
  },
  {
   "cell_type": "code",
   "execution_count": 43,
   "id": "8f40e4c9-7737-43fe-9da4-1bf79e28df84",
   "metadata": {},
   "outputs": [
    {
     "name": "stdin",
     "output_type": "stream",
     "text": [
      "Enter your Name:  riyan\n",
      "Enter your Age:  14\n"
     ]
    },
    {
     "name": "stdout",
     "output_type": "stream",
     "text": [
      "Hello riyan, your age is 14\n"
     ]
    }
   ],
   "source": [
    "def user():\n",
    "    name = input(\"Enter your Name: \")\n",
    "    age = int(input(\"Enter your Age: \"))\n",
    "\n",
    "    print(f\"Hello {name}, your age is {age}\")\n",
    "\n",
    "user()"
   ]
  },
  {
   "cell_type": "markdown",
   "id": "ceb3ea6b-528b-4b2b-a315-9a408bfb5faa",
   "metadata": {},
   "source": [
    "### WAP to recive a number from user and display the squre of the number"
   ]
  },
  {
   "cell_type": "code",
   "execution_count": 45,
   "id": "eddbb8ce-6776-4044-baf7-ceb849a9e82d",
   "metadata": {},
   "outputs": [
    {
     "name": "stdin",
     "output_type": "stream",
     "text": [
      "Enter a Number:  5\n"
     ]
    },
    {
     "name": "stdout",
     "output_type": "stream",
     "text": [
      "The square of your number is:  25\n"
     ]
    }
   ],
   "source": [
    "def sq():\n",
    "    num = int(input(\"Enter a Number: \"))\n",
    "    print(\"The square of your number is: \", num**2)\n",
    "\n",
    "sq()"
   ]
  },
  {
   "cell_type": "code",
   "execution_count": 46,
   "id": "a8f69744-05a6-4768-8ccb-88aa425e065c",
   "metadata": {},
   "outputs": [
    {
     "name": "stdout",
     "output_type": "stream",
     "text": [
      "The square of your number is:  144\n"
     ]
    }
   ],
   "source": [
    "def sq(num):\n",
    "    print(\"The square of your number is: \", num**2)\n",
    "\n",
    "sq(12)"
   ]
  },
  {
   "cell_type": "code",
   "execution_count": 50,
   "id": "28b5e64d-855a-4ec1-9a65-3b4afd9540bf",
   "metadata": {},
   "outputs": [
    {
     "data": {
      "text/plain": [
       "144"
      ]
     },
     "execution_count": 50,
     "metadata": {},
     "output_type": "execute_result"
    }
   ],
   "source": [
    "#learning Return functiom \n",
    "\n",
    "def sq(num):\n",
    "    return num**2\n",
    "sq(12)"
   ]
  },
  {
   "cell_type": "markdown",
   "id": "0ee359c8-3cea-46ed-b009-c05ffce6115f",
   "metadata": {},
   "source": [
    "## Function with condition"
   ]
  },
  {
   "cell_type": "markdown",
   "id": "4a8afa4e-8f15-45aa-87cf-ef08afd6f706",
   "metadata": {},
   "source": [
    "# example: WAP to identify weather  a number is odd or even"
   ]
  },
  {
   "cell_type": "code",
   "execution_count": 52,
   "id": "04f4303d-b386-4766-b740-b8fd8f3f1258",
   "metadata": {},
   "outputs": [
    {
     "name": "stdout",
     "output_type": "stream",
     "text": [
      "the number 12 is even\n"
     ]
    }
   ],
   "source": [
    "def odd_even(num):\n",
    "    if num % 2 == 0:\n",
    "        print(f'the number {num} is even')\n",
    "    else:\n",
    "        print(f'the number {num} is odd')\n",
    "\n",
    "odd_even(12)"
   ]
  },
  {
   "cell_type": "code",
   "execution_count": 53,
   "id": "ac3c38c4-e92a-4e6a-bdd1-75b6fce35840",
   "metadata": {},
   "outputs": [
    {
     "name": "stdin",
     "output_type": "stream",
     "text": [
      "Enter a number:  12\n"
     ]
    },
    {
     "name": "stdout",
     "output_type": "stream",
     "text": [
      "the number 12 is even\n"
     ]
    }
   ],
   "source": [
    "def odd_even():\n",
    "    num = int(input(\"Enter a number: \"))\n",
    "    if num % 2 == 0:\n",
    "        print(f'the number {num} is even')\n",
    "    else:\n",
    "        print(f'the number {num} is odd')\n",
    "\n",
    "odd_even()"
   ]
  },
  {
   "cell_type": "markdown",
   "id": "7c6b3a10-4c5b-4844-939e-ebdd03662f28",
   "metadata": {},
   "source": [
    "### Write a user define function which identifies weather the name is starting with a vowel or not if yes then display the name as well"
   ]
  },
  {
   "cell_type": "code",
   "execution_count": 59,
   "id": "a39bf4d5-8df8-4905-b26c-7d57a127a221",
   "metadata": {},
   "outputs": [
    {
     "name": "stdout",
     "output_type": "stream",
     "text": [
      "the name doesnt startes with a vowal\n",
      "the name Amaan startes with a vowal\n"
     ]
    }
   ],
   "source": [
    "def vow(name):\n",
    "    vowal = \"aeiouAEIOU\" \n",
    "    if name[0] in vowal: # or use .lower() if yor define vowals in just lower case \n",
    "        print(f\"the name {name} startes with a vowal\")\n",
    "    else:\n",
    "        print(f\"the name doesnt startes with a vowal\")\n",
    "\n",
    "vow('riyan')\n",
    "\n",
    "vow('Amaan')"
   ]
  },
  {
   "cell_type": "code",
   "execution_count": 60,
   "id": "692204f8-bbaa-4bed-88ed-628d4c460f1e",
   "metadata": {},
   "outputs": [
    {
     "name": "stdin",
     "output_type": "stream",
     "text": [
      "Enter your name :  riyan\n"
     ]
    },
    {
     "name": "stdout",
     "output_type": "stream",
     "text": [
      "the name doesnt startes with a vowal\n"
     ]
    }
   ],
   "source": [
    "def vow():\n",
    "    vowal = \"aeiouAEIOU\" #defined upper and lower cases\n",
    "    name = input(\"Enter your name : \")\n",
    "    if name[0] in vowal: # or use .lower() if yor define vowals in just lower case \n",
    "        print(f\"the name {name} startes with a vowal\")\n",
    "    else:\n",
    "        print(f\"the name doesnt startes with a vowal\")\n",
    "\n",
    "vow()"
   ]
  },
  {
   "cell_type": "markdown",
   "id": "35142eac-eae3-4615-ad7b-8d2cd1c387a8",
   "metadata": {},
   "source": [
    "### WAP to count all vowal in a string"
   ]
  },
  {
   "cell_type": "code",
   "execution_count": 8,
   "id": "c5edbdf7-615d-4931-aec1-dcfaf7a7ea43",
   "metadata": {},
   "outputs": [
    {
     "name": "stdout",
     "output_type": "stream",
     "text": [
      "the number of vowal in riyan is 2\n"
     ]
    }
   ],
   "source": [
    "name = 'riyan'\n",
    "counter = 0\n",
    "vowal = \"aeiouAEIOU\"\n",
    "\n",
    "for i in name:\n",
    "    if i in vowal:\n",
    "        counter += 1 \n",
    "    \n",
    "print(f\"the number of vowal in {name} is {counter}\")\n",
    "\n"
   ]
  },
  {
   "cell_type": "markdown",
   "id": "b7ac1896-cc38-4f6e-a6df-b3f7cf165e3d",
   "metadata": {},
   "source": [
    "### Fuctional programing \n",
    "factorial"
   ]
  },
  {
   "cell_type": "markdown",
   "id": "7fab6ced-6184-49ea-b978-7d3931864d6b",
   "metadata": {},
   "source": [
    "### create a user define function to write a factorial of a number (recursive function) "
   ]
  },
  {
   "cell_type": "code",
   "execution_count": 13,
   "id": "293dbcca-ac1b-4507-a039-f652f6ea1dfb",
   "metadata": {},
   "outputs": [
    {
     "name": "stdout",
     "output_type": "stream",
     "text": [
      "The factorial of 5 is 120\n"
     ]
    }
   ],
   "source": [
    "def factorial_for_loop(n):\n",
    "    if n < 0:\n",
    "        return \"Factorial does not exist for negative numbers\"\n",
    "    elif n == 0:\n",
    "        return 1\n",
    "    else:\n",
    "        result = 1\n",
    "        for i in range(1, n + 1):\n",
    "            result *= i\n",
    "        return result\n",
    "\n",
    "\n",
    "number = 5\n",
    "print(f\"The factorial of {number} is {factorial_for_loop(number)}\")"
   ]
  },
  {
   "cell_type": "code",
   "execution_count": 12,
   "id": "4807357c-e394-49cc-b30e-8295bc6a86ed",
   "metadata": {},
   "outputs": [
    {
     "data": {
      "text/plain": [
       "120"
      ]
     },
     "execution_count": 12,
     "metadata": {},
     "output_type": "execute_result"
    }
   ],
   "source": [
    "def fucto(num):\n",
    "    if num == 1:\n",
    "        return 1\n",
    "    else:\n",
    "        return num * fucto(num-1)\n",
    "\n",
    "fucto(5)"
   ]
  },
  {
   "cell_type": "markdown",
   "id": "02f6c655-d4fb-4ad4-9ca2-991119df5ddb",
   "metadata": {},
   "source": [
    "# varial scope\n",
    "1. local variable: can only be used within the body and defined inside a body\n",
    "2. goble variable: can be used anywhere in the code and defined outside a body\n",
    "\n",
    "scope of the code: your IDE in our case its Jupyter notebook\n",
    "\n",
    "# special Functions\n"
   ]
  },
  {
   "cell_type": "code",
   "execution_count": null,
   "id": "65931b81-dc94-421c-8f0d-4a1c4af055bc",
   "metadata": {},
   "outputs": [],
   "source": []
  }
 ],
 "metadata": {
  "kernelspec": {
   "display_name": "Python 3 (ipykernel)",
   "language": "python",
   "name": "python3"
  },
  "language_info": {
   "codemirror_mode": {
    "name": "ipython",
    "version": 3
   },
   "file_extension": ".py",
   "mimetype": "text/x-python",
   "name": "python",
   "nbconvert_exporter": "python",
   "pygments_lexer": "ipython3",
   "version": "3.13.5"
  }
 },
 "nbformat": 4,
 "nbformat_minor": 5
}
