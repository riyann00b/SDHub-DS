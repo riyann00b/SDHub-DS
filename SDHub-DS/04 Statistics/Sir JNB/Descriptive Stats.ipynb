{
 "cells": [
  {
   "cell_type": "code",
   "execution_count": 1,
   "id": "095a5dbc",
   "metadata": {},
   "outputs": [],
   "source": [
    "import numpy as np\n",
    "import pandas as pd\n",
    "import matplotlib.pyplot as plt\n",
    "import seaborn as sns"
   ]
  },
  {
   "cell_type": "code",
   "execution_count": 4,
   "id": "18fc7268",
   "metadata": {},
   "outputs": [
    {
     "data": {
      "text/html": [
       "<div>\n",
       "<style scoped>\n",
       "    .dataframe tbody tr th:only-of-type {\n",
       "        vertical-align: middle;\n",
       "    }\n",
       "\n",
       "    .dataframe tbody tr th {\n",
       "        vertical-align: top;\n",
       "    }\n",
       "\n",
       "    .dataframe thead th {\n",
       "        text-align: right;\n",
       "    }\n",
       "</style>\n",
       "<table border=\"1\" class=\"dataframe\">\n",
       "  <thead>\n",
       "    <tr style=\"text-align: right;\">\n",
       "      <th></th>\n",
       "      <th>Name</th>\n",
       "      <th>Age</th>\n",
       "      <th>Role</th>\n",
       "      <th>Salary</th>\n",
       "    </tr>\n",
       "  </thead>\n",
       "  <tbody>\n",
       "    <tr>\n",
       "      <th>0</th>\n",
       "      <td>Uwaish</td>\n",
       "      <td>20</td>\n",
       "      <td>DS</td>\n",
       "      <td>100</td>\n",
       "    </tr>\n",
       "    <tr>\n",
       "      <th>1</th>\n",
       "      <td>Husain</td>\n",
       "      <td>21</td>\n",
       "      <td>DS</td>\n",
       "      <td>110</td>\n",
       "    </tr>\n",
       "    <tr>\n",
       "      <th>2</th>\n",
       "      <td>Khan</td>\n",
       "      <td>23</td>\n",
       "      <td>DA</td>\n",
       "      <td>115</td>\n",
       "    </tr>\n",
       "    <tr>\n",
       "      <th>3</th>\n",
       "      <td>Faiz</td>\n",
       "      <td>21</td>\n",
       "      <td>DA</td>\n",
       "      <td>110</td>\n",
       "    </tr>\n",
       "    <tr>\n",
       "      <th>4</th>\n",
       "      <td>Aisha</td>\n",
       "      <td>55</td>\n",
       "      <td>AI</td>\n",
       "      <td>200</td>\n",
       "    </tr>\n",
       "  </tbody>\n",
       "</table>\n",
       "</div>"
      ],
      "text/plain": [
       "     Name  Age Role  Salary\n",
       "0  Uwaish   20   DS     100\n",
       "1  Husain   21   DS     110\n",
       "2    Khan   23   DA     115\n",
       "3    Faiz   21   DA     110\n",
       "4   Aisha   55   AI     200"
      ]
     },
     "execution_count": 4,
     "metadata": {},
     "output_type": "execute_result"
    }
   ],
   "source": [
    "di = {'Name':['Uwaish','Husain','Khan','Faiz','Aisha'],\n",
    "     'Age':[20,21,23,21,55],\n",
    "     'Role':['DS','DS','DA','DA','AI'],\n",
    "     'Salary':[100,110,115,110,200]}\n",
    "\n",
    "df = pd.DataFrame(di)\n",
    "\n",
    "df"
   ]
  },
  {
   "cell_type": "code",
   "execution_count": 5,
   "id": "329de522",
   "metadata": {},
   "outputs": [
    {
     "data": {
      "text/html": [
       "<div>\n",
       "<style scoped>\n",
       "    .dataframe tbody tr th:only-of-type {\n",
       "        vertical-align: middle;\n",
       "    }\n",
       "\n",
       "    .dataframe tbody tr th {\n",
       "        vertical-align: top;\n",
       "    }\n",
       "\n",
       "    .dataframe thead th {\n",
       "        text-align: right;\n",
       "    }\n",
       "</style>\n",
       "<table border=\"1\" class=\"dataframe\">\n",
       "  <thead>\n",
       "    <tr style=\"text-align: right;\">\n",
       "      <th></th>\n",
       "      <th>Age</th>\n",
       "      <th>Salary</th>\n",
       "    </tr>\n",
       "  </thead>\n",
       "  <tbody>\n",
       "    <tr>\n",
       "      <th>count</th>\n",
       "      <td>5.000000</td>\n",
       "      <td>5.000000</td>\n",
       "    </tr>\n",
       "    <tr>\n",
       "      <th>mean</th>\n",
       "      <td>28.000000</td>\n",
       "      <td>127.000000</td>\n",
       "    </tr>\n",
       "    <tr>\n",
       "      <th>std</th>\n",
       "      <td>15.132746</td>\n",
       "      <td>41.170378</td>\n",
       "    </tr>\n",
       "    <tr>\n",
       "      <th>min</th>\n",
       "      <td>20.000000</td>\n",
       "      <td>100.000000</td>\n",
       "    </tr>\n",
       "    <tr>\n",
       "      <th>25%</th>\n",
       "      <td>21.000000</td>\n",
       "      <td>110.000000</td>\n",
       "    </tr>\n",
       "    <tr>\n",
       "      <th>50%</th>\n",
       "      <td>21.000000</td>\n",
       "      <td>110.000000</td>\n",
       "    </tr>\n",
       "    <tr>\n",
       "      <th>75%</th>\n",
       "      <td>23.000000</td>\n",
       "      <td>115.000000</td>\n",
       "    </tr>\n",
       "    <tr>\n",
       "      <th>max</th>\n",
       "      <td>55.000000</td>\n",
       "      <td>200.000000</td>\n",
       "    </tr>\n",
       "  </tbody>\n",
       "</table>\n",
       "</div>"
      ],
      "text/plain": [
       "             Age      Salary\n",
       "count   5.000000    5.000000\n",
       "mean   28.000000  127.000000\n",
       "std    15.132746   41.170378\n",
       "min    20.000000  100.000000\n",
       "25%    21.000000  110.000000\n",
       "50%    21.000000  110.000000\n",
       "75%    23.000000  115.000000\n",
       "max    55.000000  200.000000"
      ]
     },
     "execution_count": 5,
     "metadata": {},
     "output_type": "execute_result"
    }
   ],
   "source": [
    "df.describe()"
   ]
  },
  {
   "cell_type": "code",
   "execution_count": 8,
   "id": "c549daf8",
   "metadata": {},
   "outputs": [
    {
     "name": "stdout",
     "output_type": "stream",
     "text": [
      "Mean of age: 28.0\n",
      "Median of age: 21.0\n",
      "Mode of age: Age\n",
      "21    2\n",
      "20    1\n",
      "23    1\n",
      "55    1\n",
      "Name: count, dtype: int64\n"
     ]
    }
   ],
   "source": [
    "print(\"Mean of age:\",df['Age'].mean())\n",
    "print(\"Median of age:\",df['Age'].median())\n",
    "print(\"Mode of age:\",df['Age'].value_counts())"
   ]
  },
  {
   "cell_type": "code",
   "execution_count": 9,
   "id": "7709c082",
   "metadata": {},
   "outputs": [
    {
     "name": "stdout",
     "output_type": "stream",
     "text": [
      "Age range: 35\n"
     ]
    }
   ],
   "source": [
    "# range\n",
    "\n",
    "age_range = df['Age'].max()-df['Age'].min()\n",
    "\n",
    "print(\"Age range:\",age_range)"
   ]
  },
  {
   "cell_type": "code",
   "execution_count": 13,
   "id": "8b21364b",
   "metadata": {},
   "outputs": [
    {
     "name": "stdout",
     "output_type": "stream",
     "text": [
      "Q1 value: 20.01\n",
      "Q3 value: 20.03\n",
      "IQR: 0.019999999999999574\n"
     ]
    }
   ],
   "source": [
    "Q1 = np.percentile(df['Age'],0.25)\n",
    "Q3 = np.percentile(df['Age'],0.75)\n",
    "\n",
    "print(\"Q1 value:\",Q1)\n",
    "print(\"Q3 value:\",Q3)\n",
    "\n",
    "IQR = Q3-Q1\n",
    "\n",
    "print(\"IQR:\",IQR)   # it is ignoring the initial and last (25% data)"
   ]
  },
  {
   "cell_type": "markdown",
   "id": "f585b0c6",
   "metadata": {},
   "source": [
    "**If you want to calculate outliers precisely**"
   ]
  },
  {
   "cell_type": "code",
   "execution_count": 15,
   "id": "5807b020",
   "metadata": {},
   "outputs": [
    {
     "name": "stdout",
     "output_type": "stream",
     "text": [
      "Range is: 19.98 20.06\n"
     ]
    }
   ],
   "source": [
    "# ignoring outlier using IQR\n",
    "\n",
    "lower_bound = Q1-1.5*IQR\n",
    "upper_bound = Q3+1.5*IQR\n",
    "\n",
    "print(\"Range is:\",round(lower_bound,2),round(upper_bound,2))"
   ]
  },
  {
   "cell_type": "code",
   "execution_count": 18,
   "id": "a65810d4",
   "metadata": {},
   "outputs": [
    {
     "data": {
      "text/html": [
       "<div>\n",
       "<style scoped>\n",
       "    .dataframe tbody tr th:only-of-type {\n",
       "        vertical-align: middle;\n",
       "    }\n",
       "\n",
       "    .dataframe tbody tr th {\n",
       "        vertical-align: top;\n",
       "    }\n",
       "\n",
       "    .dataframe thead th {\n",
       "        text-align: right;\n",
       "    }\n",
       "</style>\n",
       "<table border=\"1\" class=\"dataframe\">\n",
       "  <thead>\n",
       "    <tr style=\"text-align: right;\">\n",
       "      <th></th>\n",
       "      <th>Name</th>\n",
       "      <th>Age</th>\n",
       "      <th>Role</th>\n",
       "      <th>Salary</th>\n",
       "    </tr>\n",
       "  </thead>\n",
       "  <tbody>\n",
       "    <tr>\n",
       "      <th>0</th>\n",
       "      <td>Uwaish</td>\n",
       "      <td>20</td>\n",
       "      <td>DS</td>\n",
       "      <td>100</td>\n",
       "    </tr>\n",
       "  </tbody>\n",
       "</table>\n",
       "</div>"
      ],
      "text/plain": [
       "     Name  Age Role  Salary\n",
       "0  Uwaish   20   DS     100"
      ]
     },
     "execution_count": 18,
     "metadata": {},
     "output_type": "execute_result"
    }
   ],
   "source": [
    "df[(df['Age']>19.98) & (df['Age']<20.06)]"
   ]
  },
  {
   "cell_type": "markdown",
   "id": "e70f8dd7",
   "metadata": {},
   "source": [
    "**Data is too short for IQR method**"
   ]
  },
  {
   "cell_type": "markdown",
   "id": "5e8645d3",
   "metadata": {},
   "source": [
    "Let's look at data spreadness with respect to outlier"
   ]
  },
  {
   "cell_type": "code",
   "execution_count": 20,
   "id": "f40a6f33",
   "metadata": {},
   "outputs": [
    {
     "data": {
      "text/plain": [
       "2.2075381194242083"
      ]
     },
     "execution_count": 20,
     "metadata": {},
     "output_type": "execute_result"
    }
   ],
   "source": [
    "df['Age'].skew()"
   ]
  },
  {
   "cell_type": "code",
   "execution_count": 21,
   "id": "ee6786f9",
   "metadata": {},
   "outputs": [
    {
     "data": {
      "text/plain": [
       "4.89458629698137"
      ]
     },
     "execution_count": 21,
     "metadata": {},
     "output_type": "execute_result"
    }
   ],
   "source": [
    "df['Age'].kurt()"
   ]
  },
  {
   "cell_type": "markdown",
   "id": "3303aca1",
   "metadata": {},
   "source": [
    "**Let's visualize to understand it better**"
   ]
  },
  {
   "cell_type": "code",
   "execution_count": 23,
   "id": "0c9d8af1",
   "metadata": {},
   "outputs": [
    {
     "data": {
      "image/png": "[encoded data removed]",
      "text/plain": [
       "<Figure size 640x480 with 1 Axes>"
      ]
     },
     "metadata": {},
     "output_type": "display_data"
    }
   ],
   "source": [
    "plt.hist(df['Age'])\n",
    "\n",
    "plt.show()"
   ]
  },
  {
   "cell_type": "code",
   "execution_count": 24,
   "id": "cb7b48bc",
   "metadata": {},
   "outputs": [
    {
     "data": {
      "text/html": [
       "<div>\n",
       "<style scoped>\n",
       "    .dataframe tbody tr th:only-of-type {\n",
       "        vertical-align: middle;\n",
       "    }\n",
       "\n",
       "    .dataframe tbody tr th {\n",
       "        vertical-align: top;\n",
       "    }\n",
       "\n",
       "    .dataframe thead th {\n",
       "        text-align: right;\n",
       "    }\n",
       "</style>\n",
       "<table border=\"1\" class=\"dataframe\">\n",
       "  <thead>\n",
       "    <tr style=\"text-align: right;\">\n",
       "      <th></th>\n",
       "      <th>Segment</th>\n",
       "      <th>Country</th>\n",
       "      <th>Product</th>\n",
       "      <th>Discount Band</th>\n",
       "      <th>Product Cost</th>\n",
       "      <th>Units Sold</th>\n",
       "      <th>Sale Price</th>\n",
       "      <th>Gross Sales</th>\n",
       "      <th>Discounts</th>\n",
       "      <th>Sales</th>\n",
       "      <th>COGS</th>\n",
       "      <th>Profit</th>\n",
       "      <th>Date</th>\n",
       "      <th>Month Number</th>\n",
       "      <th>Month Name</th>\n",
       "      <th>Year</th>\n",
       "    </tr>\n",
       "  </thead>\n",
       "  <tbody>\n",
       "    <tr>\n",
       "      <th>0</th>\n",
       "      <td>Government</td>\n",
       "      <td>Canada</td>\n",
       "      <td>Carretera</td>\n",
       "      <td>NaN</td>\n",
       "      <td>3</td>\n",
       "      <td>1618.5</td>\n",
       "      <td>20</td>\n",
       "      <td>32370.0</td>\n",
       "      <td>0.00</td>\n",
       "      <td>32370.00</td>\n",
       "      <td>16185.0</td>\n",
       "      <td>16185.00</td>\n",
       "      <td>01-01-2023</td>\n",
       "      <td>1</td>\n",
       "      <td>January</td>\n",
       "      <td>2023</td>\n",
       "    </tr>\n",
       "    <tr>\n",
       "      <th>1</th>\n",
       "      <td>Government</td>\n",
       "      <td>Germany</td>\n",
       "      <td>Carretera</td>\n",
       "      <td>NaN</td>\n",
       "      <td>3</td>\n",
       "      <td>1321.0</td>\n",
       "      <td>20</td>\n",
       "      <td>26420.0</td>\n",
       "      <td>0.00</td>\n",
       "      <td>26420.00</td>\n",
       "      <td>13210.0</td>\n",
       "      <td>13210.00</td>\n",
       "      <td>01-01-2023</td>\n",
       "      <td>1</td>\n",
       "      <td>January</td>\n",
       "      <td>2023</td>\n",
       "    </tr>\n",
       "    <tr>\n",
       "      <th>2</th>\n",
       "      <td>Midmarket</td>\n",
       "      <td>France</td>\n",
       "      <td>Carretera</td>\n",
       "      <td>NaN</td>\n",
       "      <td>3</td>\n",
       "      <td>2178.0</td>\n",
       "      <td>15</td>\n",
       "      <td>32670.0</td>\n",
       "      <td>0.00</td>\n",
       "      <td>32670.00</td>\n",
       "      <td>21780.0</td>\n",
       "      <td>10890.00</td>\n",
       "      <td>01-06-2023</td>\n",
       "      <td>6</td>\n",
       "      <td>June</td>\n",
       "      <td>2023</td>\n",
       "    </tr>\n",
       "    <tr>\n",
       "      <th>3</th>\n",
       "      <td>Midmarket</td>\n",
       "      <td>Germany</td>\n",
       "      <td>Carretera</td>\n",
       "      <td>NaN</td>\n",
       "      <td>3</td>\n",
       "      <td>888.0</td>\n",
       "      <td>15</td>\n",
       "      <td>13320.0</td>\n",
       "      <td>0.00</td>\n",
       "      <td>13320.00</td>\n",
       "      <td>8880.0</td>\n",
       "      <td>4440.00</td>\n",
       "      <td>01-06-2023</td>\n",
       "      <td>6</td>\n",
       "      <td>June</td>\n",
       "      <td>2023</td>\n",
       "    </tr>\n",
       "    <tr>\n",
       "      <th>4</th>\n",
       "      <td>Midmarket</td>\n",
       "      <td>Mexico</td>\n",
       "      <td>Carretera</td>\n",
       "      <td>NaN</td>\n",
       "      <td>3</td>\n",
       "      <td>2470.0</td>\n",
       "      <td>15</td>\n",
       "      <td>37050.0</td>\n",
       "      <td>0.00</td>\n",
       "      <td>37050.00</td>\n",
       "      <td>24700.0</td>\n",
       "      <td>12350.00</td>\n",
       "      <td>01-06-2023</td>\n",
       "      <td>6</td>\n",
       "      <td>June</td>\n",
       "      <td>2023</td>\n",
       "    </tr>\n",
       "    <tr>\n",
       "      <th>...</th>\n",
       "      <td>...</td>\n",
       "      <td>...</td>\n",
       "      <td>...</td>\n",
       "      <td>...</td>\n",
       "      <td>...</td>\n",
       "      <td>...</td>\n",
       "      <td>...</td>\n",
       "      <td>...</td>\n",
       "      <td>...</td>\n",
       "      <td>...</td>\n",
       "      <td>...</td>\n",
       "      <td>...</td>\n",
       "      <td>...</td>\n",
       "      <td>...</td>\n",
       "      <td>...</td>\n",
       "      <td>...</td>\n",
       "    </tr>\n",
       "    <tr>\n",
       "      <th>676</th>\n",
       "      <td>Small Business</td>\n",
       "      <td>France</td>\n",
       "      <td>Amarilla</td>\n",
       "      <td>High</td>\n",
       "      <td>260</td>\n",
       "      <td>2475.0</td>\n",
       "      <td>300</td>\n",
       "      <td>742500.0</td>\n",
       "      <td>111375.00</td>\n",
       "      <td>631125.00</td>\n",
       "      <td>618750.0</td>\n",
       "      <td>12375.00</td>\n",
       "      <td>01-03-2023</td>\n",
       "      <td>3</td>\n",
       "      <td>March</td>\n",
       "      <td>2023</td>\n",
       "    </tr>\n",
       "    <tr>\n",
       "      <th>677</th>\n",
       "      <td>Small Business</td>\n",
       "      <td>Mexico</td>\n",
       "      <td>Amarilla</td>\n",
       "      <td>High</td>\n",
       "      <td>260</td>\n",
       "      <td>546.0</td>\n",
       "      <td>300</td>\n",
       "      <td>163800.0</td>\n",
       "      <td>24570.00</td>\n",
       "      <td>139230.00</td>\n",
       "      <td>136500.0</td>\n",
       "      <td>2730.00</td>\n",
       "      <td>01-10-2023</td>\n",
       "      <td>10</td>\n",
       "      <td>October</td>\n",
       "      <td>2023</td>\n",
       "    </tr>\n",
       "    <tr>\n",
       "      <th>678</th>\n",
       "      <td>Government</td>\n",
       "      <td>Mexico</td>\n",
       "      <td>Montana</td>\n",
       "      <td>High</td>\n",
       "      <td>5</td>\n",
       "      <td>1368.0</td>\n",
       "      <td>7</td>\n",
       "      <td>9576.0</td>\n",
       "      <td>1436.40</td>\n",
       "      <td>8139.60</td>\n",
       "      <td>6840.0</td>\n",
       "      <td>1299.60</td>\n",
       "      <td>01-02-2023</td>\n",
       "      <td>2</td>\n",
       "      <td>February</td>\n",
       "      <td>2023</td>\n",
       "    </tr>\n",
       "    <tr>\n",
       "      <th>679</th>\n",
       "      <td>Government</td>\n",
       "      <td>Canada</td>\n",
       "      <td>Paseo</td>\n",
       "      <td>High</td>\n",
       "      <td>10</td>\n",
       "      <td>723.0</td>\n",
       "      <td>7</td>\n",
       "      <td>5061.0</td>\n",
       "      <td>759.15</td>\n",
       "      <td>4301.85</td>\n",
       "      <td>3615.0</td>\n",
       "      <td>686.85</td>\n",
       "      <td>01-04-2023</td>\n",
       "      <td>4</td>\n",
       "      <td>April</td>\n",
       "      <td>2023</td>\n",
       "    </tr>\n",
       "    <tr>\n",
       "      <th>680</th>\n",
       "      <td>Channel Partners</td>\n",
       "      <td>United States of America</td>\n",
       "      <td>VTT</td>\n",
       "      <td>High</td>\n",
       "      <td>250</td>\n",
       "      <td>1806.0</td>\n",
       "      <td>12</td>\n",
       "      <td>21672.0</td>\n",
       "      <td>3250.80</td>\n",
       "      <td>18421.20</td>\n",
       "      <td>5418.0</td>\n",
       "      <td>13003.20</td>\n",
       "      <td>01-05-2023</td>\n",
       "      <td>5</td>\n",
       "      <td>May</td>\n",
       "      <td>2023</td>\n",
       "    </tr>\n",
       "  </tbody>\n",
       "</table>\n",
       "<p>681 rows × 16 columns</p>\n",
       "</div>"
      ],
      "text/plain": [
       "              Segment                   Country    Product Discount Band  \\\n",
       "0          Government                    Canada  Carretera           NaN   \n",
       "1          Government                   Germany  Carretera           NaN   \n",
       "2           Midmarket                    France  Carretera           NaN   \n",
       "3           Midmarket                   Germany  Carretera           NaN   \n",
       "4           Midmarket                    Mexico  Carretera           NaN   \n",
       "..                ...                       ...        ...           ...   \n",
       "676    Small Business                    France   Amarilla          High   \n",
       "677    Small Business                    Mexico   Amarilla          High   \n",
       "678        Government                    Mexico    Montana          High   \n",
       "679        Government                    Canada      Paseo          High   \n",
       "680  Channel Partners  United States of America        VTT          High   \n",
       "\n",
       "     Product Cost  Units Sold  Sale Price  Gross Sales  Discounts      Sales  \\\n",
       "0               3      1618.5          20      32370.0       0.00   32370.00   \n",
       "1               3      1321.0          20      26420.0       0.00   26420.00   \n",
       "2               3      2178.0          15      32670.0       0.00   32670.00   \n",
       "3               3       888.0          15      13320.0       0.00   13320.00   \n",
       "4               3      2470.0          15      37050.0       0.00   37050.00   \n",
       "..            ...         ...         ...          ...        ...        ...   \n",
       "676           260      2475.0         300     742500.0  111375.00  631125.00   \n",
       "677           260       546.0         300     163800.0   24570.00  139230.00   \n",
       "678             5      1368.0           7       9576.0    1436.40    8139.60   \n",
       "679            10       723.0           7       5061.0     759.15    4301.85   \n",
       "680           250      1806.0          12      21672.0    3250.80   18421.20   \n",
       "\n",
       "         COGS    Profit        Date  Month Number Month Name  Year  \n",
       "0     16185.0  16185.00  01-01-2023             1    January  2023  \n",
       "1     13210.0  13210.00  01-01-2023             1    January  2023  \n",
       "2     21780.0  10890.00  01-06-2023             6       June  2023  \n",
       "3      8880.0   4440.00  01-06-2023             6       June  2023  \n",
       "4     24700.0  12350.00  01-06-2023             6       June  2023  \n",
       "..        ...       ...         ...           ...        ...   ...  \n",
       "676  618750.0  12375.00  01-03-2023             3      March  2023  \n",
       "677  136500.0   2730.00  01-10-2023            10    October  2023  \n",
       "678    6840.0   1299.60  01-02-2023             2   February  2023  \n",
       "679    3615.0    686.85  01-04-2023             4      April  2023  \n",
       "680    5418.0  13003.20  01-05-2023             5        May  2023  \n",
       "\n",
       "[681 rows x 16 columns]"
      ]
     },
     "execution_count": 24,
     "metadata": {},
     "output_type": "execute_result"
    }
   ],
   "source": [
    "df = pd.read_csv('FinData.csv')\n",
    "\n",
    "df"
   ]
  },
  {
   "cell_type": "code",
   "execution_count": 30,
   "id": "a73d21ea",
   "metadata": {},
   "outputs": [
    {
     "data": {
      "image/png": "[encoded data removed]",
      "text/plain": [
       "<Figure size 600x300 with 1 Axes>"
      ]
     },
     "metadata": {},
     "output_type": "display_data"
    }
   ],
   "source": [
    "plt.figure(figsize=(6,3))\n",
    "\n",
    "plt.hist(df['Profit'])\n",
    "\n",
    "plt.show()"
   ]
  },
  {
   "cell_type": "code",
   "execution_count": 31,
   "id": "9439bbd9",
   "metadata": {},
   "outputs": [
    {
     "data": {
      "image/png": "[encoded data removed]",
      "text/plain": [
       "<Figure size 600x300 with 1 Axes>"
      ]
     },
     "metadata": {},
     "output_type": "display_data"
    }
   ],
   "source": [
    "plt.figure(figsize=(6,3))\n",
    "\n",
    "sns.violinplot(x=df['Profit'])\n",
    "\n",
    "plt.show()"
   ]
  },
  {
   "cell_type": "code",
   "execution_count": 32,
   "id": "a69d84d8",
   "metadata": {},
   "outputs": [
    {
     "data": {
      "image/png": "[encoded data removed]",
      "text/plain": [
       "<Figure size 600x300 with 1 Axes>"
      ]
     },
     "metadata": {},
     "output_type": "display_data"
    }
   ],
   "source": [
    "plt.figure(figsize=(6,3))\n",
    "\n",
    "sns.boxplot(x=df['Profit'])\n",
    "\n",
    "plt.show()"
   ]
  },
  {
   "cell_type": "code",
   "execution_count": 33,
   "id": "709beb5c",
   "metadata": {},
   "outputs": [
    {
     "data": {
      "text/plain": [
       "count       681.000000\n",
       "mean      24619.428106\n",
       "std       43236.039449\n",
       "min      -40617.500000\n",
       "25%        2807.200000\n",
       "50%        9242.600000\n",
       "75%       23222.000000\n",
       "max      262200.000000\n",
       "Name: Profit, dtype: float64"
      ]
     },
     "execution_count": 33,
     "metadata": {},
     "output_type": "execute_result"
    }
   ],
   "source": [
    "df['Profit'].describe()"
   ]
  },
  {
   "cell_type": "code",
   "execution_count": 35,
   "id": "d4f78fac",
   "metadata": {},
   "outputs": [
    {
     "data": {
      "text/plain": [
       "302817.5"
      ]
     },
     "execution_count": 35,
     "metadata": {},
     "output_type": "execute_result"
    }
   ],
   "source": [
    "262200.000000-(-40617.500000)"
   ]
  },
  {
   "cell_type": "code",
   "execution_count": 36,
   "id": "d81078c5",
   "metadata": {},
   "outputs": [
    {
     "data": {
      "text/plain": [
       "8790.375"
      ]
     },
     "execution_count": 36,
     "metadata": {},
     "output_type": "execute_result"
    }
   ],
   "source": [
    "Q3 = np.percentile(df['Profit'],0.75)\n",
    "\n",
    "Q1 = np.percentile(df['Profit'],0.25)\n",
    "\n",
    "Q3-Q1"
   ]
  },
  {
   "cell_type": "code",
   "execution_count": 37,
   "id": "48926430",
   "metadata": {},
   "outputs": [
    {
     "data": {
      "text/html": [
       "<div>\n",
       "<style scoped>\n",
       "    .dataframe tbody tr th:only-of-type {\n",
       "        vertical-align: middle;\n",
       "    }\n",
       "\n",
       "    .dataframe tbody tr th {\n",
       "        vertical-align: top;\n",
       "    }\n",
       "\n",
       "    .dataframe thead th {\n",
       "        text-align: right;\n",
       "    }\n",
       "</style>\n",
       "<table border=\"1\" class=\"dataframe\">\n",
       "  <thead>\n",
       "    <tr style=\"text-align: right;\">\n",
       "      <th></th>\n",
       "      <th>Gross Sales</th>\n",
       "      <th>Profit</th>\n",
       "    </tr>\n",
       "  </thead>\n",
       "  <tbody>\n",
       "    <tr>\n",
       "      <th>Gross Sales</th>\n",
       "      <td>1.000000</td>\n",
       "      <td>0.785922</td>\n",
       "    </tr>\n",
       "    <tr>\n",
       "      <th>Profit</th>\n",
       "      <td>0.785922</td>\n",
       "      <td>1.000000</td>\n",
       "    </tr>\n",
       "  </tbody>\n",
       "</table>\n",
       "</div>"
      ],
      "text/plain": [
       "             Gross Sales    Profit\n",
       "Gross Sales     1.000000  0.785922\n",
       "Profit          0.785922  1.000000"
      ]
     },
     "execution_count": 37,
     "metadata": {},
     "output_type": "execute_result"
    }
   ],
   "source": [
    "df[['Gross Sales','Profit']].corr()"
   ]
  },
  {
   "cell_type": "code",
   "execution_count": 38,
   "id": "de1aebd2",
   "metadata": {},
   "outputs": [
    {
     "data": {
      "text/html": [
       "<div>\n",
       "<style scoped>\n",
       "    .dataframe tbody tr th:only-of-type {\n",
       "        vertical-align: middle;\n",
       "    }\n",
       "\n",
       "    .dataframe tbody tr th {\n",
       "        vertical-align: top;\n",
       "    }\n",
       "\n",
       "    .dataframe thead th {\n",
       "        text-align: right;\n",
       "    }\n",
       "</style>\n",
       "<table border=\"1\" class=\"dataframe\">\n",
       "  <thead>\n",
       "    <tr style=\"text-align: right;\">\n",
       "      <th></th>\n",
       "      <th>Discounts</th>\n",
       "      <th>Profit</th>\n",
       "    </tr>\n",
       "  </thead>\n",
       "  <tbody>\n",
       "    <tr>\n",
       "      <th>Discounts</th>\n",
       "      <td>1.0000</td>\n",
       "      <td>0.3854</td>\n",
       "    </tr>\n",
       "    <tr>\n",
       "      <th>Profit</th>\n",
       "      <td>0.3854</td>\n",
       "      <td>1.0000</td>\n",
       "    </tr>\n",
       "  </tbody>\n",
       "</table>\n",
       "</div>"
      ],
      "text/plain": [
       "           Discounts  Profit\n",
       "Discounts     1.0000  0.3854\n",
       "Profit        0.3854  1.0000"
      ]
     },
     "execution_count": 38,
     "metadata": {},
     "output_type": "execute_result"
    }
   ],
   "source": [
    "df[['Discounts','Profit']].corr()"
   ]
  },
  {
   "cell_type": "code",
   "execution_count": 40,
   "id": "169a24c8",
   "metadata": {},
   "outputs": [
    {
     "data": {
      "image/png": "[encoded data removed]",
      "text/plain": [
       "<Figure size 600x300 with 1 Axes>"
      ]
     },
     "metadata": {},
     "output_type": "display_data"
    }
   ],
   "source": [
    "plt.figure(figsize=(6,3))\n",
    "\n",
    "sns.histplot(df['Profit'],kde=True)\n",
    "\n",
    "plt.show()"
   ]
  },
  {
   "cell_type": "code",
   "execution_count": null,
   "id": "a0c59fe4",
   "metadata": {},
   "outputs": [],
   "source": []
  }
 ],
 "metadata": {
  "kernelspec": {
   "display_name": "Python 3 (ipykernel)",
   "language": "python",
   "name": "python3"
  },
  "language_info": {
   "codemirror_mode": {
    "name": "ipython",
    "version": 3
   },
   "file_extension": ".py",
   "mimetype": "text/x-python",
   "name": "python",
   "nbconvert_exporter": "python",
   "pygments_lexer": "ipython3",
   "version": "3.11.5"
  }
 },
 "nbformat": 4,
 "nbformat_minor": 5
}
