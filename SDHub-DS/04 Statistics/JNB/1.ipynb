{
 "cells": [
  {
   "cell_type": "markdown",
   "id": "8363f005-1c79-421d-880f-1ba598902b0d",
   "metadata": {},
   "source": [
    "# Statistics"
   ]
  },
  {
   "cell_type": "code",
   "execution_count": 36,
   "id": "be68434d-188d-4a47-8215-e2f980ef05ef",
   "metadata": {},
   "outputs": [],
   "source": [
    "import numpy as np\n",
    "import pandas as pd\n",
    "import matplotlib.pyplot as plt\n",
    "import seaborn as sns"
   ]
  },
  {
   "cell_type": "code",
   "execution_count": 15,
   "id": "188b9134-996b-489c-b857-4b3027868620",
   "metadata": {},
   "outputs": [],
   "source": [
    "di = {\n",
    "    'Name':['Riyan', 'Amaan', 'Adnan', 'Mohsin', \"Asim\", \"Atif\"],\n",
    "    'Age':[20, 25, 25, 19, 20, 21],\n",
    "    'Role':['DS','DA','SD', 'BE', 'MT', 'SP'],\n",
    "    'Salary':[10000, 20000, 50000, 10000, 2000, 3000],\n",
    "}\n"
   ]
  },
  {
   "cell_type": "code",
   "execution_count": 40,
   "id": "8fc38a40-12f1-4871-b2d0-7f2ca3ffa1e9",
   "metadata": {},
   "outputs": [
    {
     "data": {
      "text/html": [
       "<div>\n",
       "<style scoped>\n",
       "    .dataframe tbody tr th:only-of-type {\n",
       "        vertical-align: middle;\n",
       "    }\n",
       "\n",
       "    .dataframe tbody tr th {\n",
       "        vertical-align: top;\n",
       "    }\n",
       "\n",
       "    .dataframe thead th {\n",
       "        text-align: right;\n",
       "    }\n",
       "</style>\n",
       "<table border=\"1\" class=\"dataframe\">\n",
       "  <thead>\n",
       "    <tr style=\"text-align: right;\">\n",
       "      <th></th>\n",
       "      <th>Age</th>\n",
       "      <th>Salary</th>\n",
       "    </tr>\n",
       "  </thead>\n",
       "  <tbody>\n",
       "    <tr>\n",
       "      <th>count</th>\n",
       "      <td>6.000000</td>\n",
       "      <td>6.000000</td>\n",
       "    </tr>\n",
       "    <tr>\n",
       "      <th>mean</th>\n",
       "      <td>21.666667</td>\n",
       "      <td>15833.333333</td>\n",
       "    </tr>\n",
       "    <tr>\n",
       "      <th>std</th>\n",
       "      <td>2.658320</td>\n",
       "      <td>17937.855688</td>\n",
       "    </tr>\n",
       "    <tr>\n",
       "      <th>min</th>\n",
       "      <td>19.000000</td>\n",
       "      <td>2000.000000</td>\n",
       "    </tr>\n",
       "    <tr>\n",
       "      <th>25%</th>\n",
       "      <td>20.000000</td>\n",
       "      <td>4750.000000</td>\n",
       "    </tr>\n",
       "    <tr>\n",
       "      <th>50%</th>\n",
       "      <td>20.500000</td>\n",
       "      <td>10000.000000</td>\n",
       "    </tr>\n",
       "    <tr>\n",
       "      <th>75%</th>\n",
       "      <td>24.000000</td>\n",
       "      <td>17500.000000</td>\n",
       "    </tr>\n",
       "    <tr>\n",
       "      <th>max</th>\n",
       "      <td>25.000000</td>\n",
       "      <td>50000.000000</td>\n",
       "    </tr>\n",
       "  </tbody>\n",
       "</table>\n",
       "</div>"
      ],
      "text/plain": [
       "             Age        Salary\n",
       "count   6.000000      6.000000\n",
       "mean   21.666667  15833.333333\n",
       "std     2.658320  17937.855688\n",
       "min    19.000000   2000.000000\n",
       "25%    20.000000   4750.000000\n",
       "50%    20.500000  10000.000000\n",
       "75%    24.000000  17500.000000\n",
       "max    25.000000  50000.000000"
      ]
     },
     "execution_count": 40,
     "metadata": {},
     "output_type": "execute_result"
    }
   ],
   "source": [
    "df = pd.DataFrame(di)\n",
    "df.describe()"
   ]
  },
  {
   "cell_type": "code",
   "execution_count": null,
   "id": "81907c6c-07bd-41f8-90f8-9341fbd8a56c",
   "metadata": {},
   "outputs": [],
   "source": [
    "age_range ="
   ]
  },
  {
   "cell_type": "code",
   "execution_count": 21,
   "id": "8e5385d1-28cf-4883-8886-c3034614d04e",
   "metadata": {},
   "outputs": [],
   "source": [
    "Q1 = np.percentile(df['Age'],0.25)\n",
    "Q3 = np.percentile(df['Age'],0.75)\n",
    "\n",
    "IQR = Q1 - Q2 "
   ]
  },
  {
   "cell_type": "code",
   "execution_count": 22,
   "id": "0e1167bd-ce4d-4474-9a46-dfe72ac139d8",
   "metadata": {},
   "outputs": [],
   "source": [
    "lower_bound = Q1 - 1.5 * IQR\n",
    "upper_bound = Q3 - 1.5 * IQR"
   ]
  },
  {
   "cell_type": "code",
   "execution_count": 23,
   "id": "d1ce5198-593b-468a-8b94-823d4042d017",
   "metadata": {},
   "outputs": [
    {
     "name": "stdout",
     "output_type": "stream",
     "text": [
      "Range is:  20.61 20.63\n"
     ]
    }
   ],
   "source": [
    "print(\"Range is: \", round(lower_bound, 2), round(upper_bound, 2) )"
   ]
  },
  {
   "cell_type": "code",
   "execution_count": null,
   "id": "b4458ed4-5050-450f-93ce-b762106d846a",
   "metadata": {},
   "outputs": [],
   "source": [
    "df[(df[]) & (df[])]"
   ]
  },
  {
   "cell_type": "code",
   "execution_count": 24,
   "id": "6fd54932-491b-4b83-a6a6-af0825a0224f",
   "metadata": {},
   "outputs": [
    {
     "data": {
      "text/plain": [
       "np.float64(0.7275128902923194)"
      ]
     },
     "execution_count": 24,
     "metadata": {},
     "output_type": "execute_result"
    }
   ],
   "source": [
    "df['Age'].skew()"
   ]
  },
  {
   "cell_type": "code",
   "execution_count": 29,
   "id": "49f9cfdc-0da6-4e7c-8fbe-212fb4d51e85",
   "metadata": {},
   "outputs": [
    {
     "data": {
      "text/plain": [
       "np.float64(-1.8609825560697768)"
      ]
     },
     "execution_count": 29,
     "metadata": {},
     "output_type": "execute_result"
    }
   ],
   "source": [
    "df['Age'].kurt()"
   ]
  },
  {
   "cell_type": "markdown",
   "id": "4e801f82-dd87-4e07-927c-b299fd017111",
   "metadata": {},
   "source": [
    "## Lets vistualize to understand them better"
   ]
  },
  {
   "cell_type": "code",
   "execution_count": 32,
   "id": "2159dc25-6fd3-4d1d-bc98-bc2d411bbd42",
   "metadata": {},
   "outputs": [
    {
     "data": {
      "image/png": "[encoded data removed]",
      "text/plain": [
       "<Figure size 640x480 with 1 Axes>"
      ]
     },
     "metadata": {},
     "output_type": "display_data"
    }
   ],
   "source": [
    "plt.hist(df['Age'])\n",
    "plt.show()"
   ]
  },
  {
   "cell_type": "code",
   "execution_count": 35,
   "id": "a20ff853-6a50-4b77-9fec-835fe3a3c0f0",
   "metadata": {},
   "outputs": [
    {
     "name": "stdout",
     "output_type": "stream",
     "text": [
      "<class 'pandas.core.frame.DataFrame'>\n",
      "RangeIndex: 5100 entries, 0 to 5099\n",
      "Data columns (total 12 columns):\n",
      " #   Column           Non-Null Count  Dtype  \n",
      "---  ------           --------------  -----  \n",
      " 0   TransactionID    5100 non-null   object \n",
      " 1   CustomerName     5100 non-null   object \n",
      " 2   Email            4829 non-null   object \n",
      " 3   ProductCategory  5100 non-null   object \n",
      " 4   Quantity         5100 non-null   int64  \n",
      " 5   UnitPrice        5100 non-null   float64\n",
      " 6   Discount(%)      4034 non-null   float64\n",
      " 7   PaymentMethod    5100 non-null   object \n",
      " 8   PurchaseDate     5100 non-null   object \n",
      " 9   City             5100 non-null   object \n",
      " 10  Country          5100 non-null   object \n",
      " 11  TotalAmount      5070 non-null   float64\n",
      "dtypes: float64(3), int64(1), object(8)\n",
      "memory usage: 478.3+ KB\n"
     ]
    }
   ],
   "source": [
    "df = pd.read_csv('Dataset/ecommerce_dataset.csv')\n",
    "df.info()"
   ]
  },
  {
   "cell_type": "code",
   "execution_count": null,
   "id": "cefb39a3-008e-466a-8edb-863094d2ef31",
   "metadata": {},
   "outputs": [],
   "source": [
    "plt.figure(figsize=25)\n",
    "plt.\n",
    "plt.show()"
   ]
  },
  {
   "cell_type": "code",
   "execution_count": null,
   "id": "64f5be4a-62f4-4d2a-91d2-cb8c6032f5e9",
   "metadata": {},
   "outputs": [],
   "source": [
    "plt.figure(figsize=25)\n",
    "sns.\n",
    "plt.show()"
   ]
  },
  {
   "cell_type": "code",
   "execution_count": 38,
   "id": "17ddca77-dab1-483c-8ff8-e229a6f4a51a",
   "metadata": {},
   "outputs": [
    {
     "data": {
      "text/plain": [
       "0        868.8795\n",
       "1        358.0455\n",
       "2       1036.5925\n",
       "3       1686.0400\n",
       "4        148.5200\n",
       "          ...    \n",
       "5095     594.4800\n",
       "5096    1208.5600\n",
       "5097     290.7400\n",
       "5098     367.8685\n",
       "5099     798.9320\n",
       "Name: TotalAmount, Length: 5100, dtype: float64"
      ]
     },
     "execution_count": 38,
     "metadata": {},
     "output_type": "execute_result"
    }
   ],
   "source": [
    "df['TotalAmount']"
   ]
  },
  {
   "cell_type": "code",
   "execution_count": null,
   "id": "fbcd284c-8fbf-48bd-89b8-00dd70c1f317",
   "metadata": {},
   "outputs": [],
   "source": []
  },
  {
   "cell_type": "code",
   "execution_count": 41,
   "id": "1479fabd-eb09-438b-b237-47f441afcb87",
   "metadata": {},
   "outputs": [
    {
     "name": "stdout",
     "output_type": "stream",
     "text": [
      "<class 'pandas.core.frame.DataFrame'>\n",
      "RangeIndex: 6 entries, 0 to 5\n",
      "Data columns (total 4 columns):\n",
      " #   Column  Non-Null Count  Dtype \n",
      "---  ------  --------------  ----- \n",
      " 0   Name    6 non-null      object\n",
      " 1   Age     6 non-null      int64 \n",
      " 2   Role    6 non-null      object\n",
      " 3   Salary  6 non-null      int64 \n",
      "dtypes: int64(2), object(2)\n",
      "memory usage: 324.0+ bytes\n"
     ]
    }
   ],
   "source": [
    "df.info()"
   ]
  },
  {
   "cell_type": "code",
   "execution_count": null,
   "id": "f1574dad-fa74-418a-a715-f38dbf743410",
   "metadata": {},
   "outputs": [],
   "source": []
  }
 ],
 "metadata": {
  "kernelspec": {
   "display_name": "Python 3 (ipykernel)",
   "language": "python",
   "name": "python3"
  },
  "language_info": {
   "codemirror_mode": {
    "name": "ipython",
    "version": 3
   },
   "file_extension": ".py",
   "mimetype": "text/x-python",
   "name": "python",
   "nbconvert_exporter": "python",
   "pygments_lexer": "ipython3",
   "version": "3.13.7"
  }
 },
 "nbformat": 4,
 "nbformat_minor": 5
}
