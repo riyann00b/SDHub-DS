{
 "cells": [
  {
   "cell_type": "code",
   "execution_count": 2,
   "id": "b7ac87eb-8a5f-4a13-b42a-c359c584d2df",
   "metadata": {},
   "outputs": [
    {
     "data": {
      "text/plain": [
       "'2.3.1'"
      ]
     },
     "execution_count": 2,
     "metadata": {},
     "output_type": "execute_result"
    }
   ],
   "source": [
    "import pandas as pd\n",
    "pd.__version__"
   ]
  },
  {
   "cell_type": "code",
   "execution_count": 8,
   "id": "a758edbb-5660-444c-9d1b-ad06dd8a36ba",
   "metadata": {},
   "outputs": [
    {
     "name": "stdout",
     "output_type": "stream",
     "text": [
      "5\n",
      "1\n",
      "0    10\n",
      "1    20\n",
      "2    30\n",
      "3    40\n",
      "4    50\n",
      "dtype: int64\n"
     ]
    },
    {
     "data": {
      "text/plain": [
       "pandas.core.series.Series"
      ]
     },
     "execution_count": 8,
     "metadata": {},
     "output_type": "execute_result"
    }
   ],
   "source": [
    "series1 = pd.Series([10,20,30,40,50])\n",
    "\n",
    "print(series1.size)\n",
    "print(series1.ndim)\n",
    "print(series1)\n",
    "\n",
    "type(series1)"
   ]
  },
  {
   "cell_type": "code",
   "execution_count": 11,
   "id": "a619552c-3699-4933-89a0-869ef3f541ce",
   "metadata": {},
   "outputs": [
    {
     "data": {
      "text/plain": [
       "0    Riyan\n",
       "1    Amaan\n",
       "2    Adnan\n",
       "dtype: object"
      ]
     },
     "execution_count": 11,
     "metadata": {},
     "output_type": "execute_result"
    }
   ],
   "source": [
    "tup = (\"Riyan\",\"Amaan\",\"Adnan\")\n",
    "\n",
    "s = pd.Series(tup)\n",
    "\n",
    "s\n"
   ]
  },
  {
   "cell_type": "code",
   "execution_count": 14,
   "id": "588532f3-e727-45c7-8556-e32266196e62",
   "metadata": {},
   "outputs": [
    {
     "data": {
      "text/plain": [
       "101    Riyan\n",
       "102    Amaan\n",
       "103    Adnan\n",
       "dtype: object"
      ]
     },
     "execution_count": 14,
     "metadata": {},
     "output_type": "execute_result"
    }
   ],
   "source": [
    "di = {101:\"Riyan\",102:\"Amaan\",103:\"Adnan\"}\n",
    "\n",
    "s = pd.Series(di)\n",
    "\n",
    "s"
   ]
  },
  {
   "cell_type": "code",
   "execution_count": null,
   "id": "a1d4a740-194e-45c7-9062-58a7feffadbd",
   "metadata": {},
   "outputs": [],
   "source": []
  }
 ],
 "metadata": {
  "kernelspec": {
   "display_name": "Python 3 (ipykernel)",
   "language": "python",
   "name": "python3"
  },
  "language_info": {
   "codemirror_mode": {
    "name": "ipython",
    "version": 3
   },
   "file_extension": ".py",
   "mimetype": "text/x-python",
   "name": "python",
   "nbconvert_exporter": "python",
   "pygments_lexer": "ipython3",
   "version": "3.13.5"
  }
 },
 "nbformat": 4,
 "nbformat_minor": 5
}
