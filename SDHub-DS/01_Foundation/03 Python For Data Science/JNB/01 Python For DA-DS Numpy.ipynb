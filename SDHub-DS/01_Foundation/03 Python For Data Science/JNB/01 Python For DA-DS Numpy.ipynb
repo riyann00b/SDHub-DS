{
 "cells": [
  {
   "cell_type": "markdown",
   "id": "eb784378-fda0-489e-8b93-886b83dfc2cc",
   "metadata": {},
   "source": [
    "# Python for Data Analysis\n",
    "## importent python libraries\n",
    "1. pandas = for data analysis / manupulation\n",
    "2. numpy = numaric python\n",
    "3. matplotlib = ploting / visualization\n",
    "4. seaborn = advanced vistulization\n",
    "\n",
    "### Numpy: numarical python calculation\n",
    "\n",
    "cannot use collection data-type\n",
    "\n",
    "data structure of numpy\n",
    "\n",
    "numpy usese data structure called array \n",
    "\n",
    "array = homogenius collection of data or similar data\n",
    "\n",
    "what is the diffrence between list and aaray?\n",
    "1. list: hendrogeneus, slower, stroage\n",
    "2. array: homogenius , faster, caculation\n",
    "\n",
    "#### Numpy array\n",
    "1. Create: import numpy or import numpy as np\n",
    "2. Uses: numpy.array() or np.array()\n",
    "   - we can have any collection type daya in side np.array() example: list, tuple, set, dict, range"
   ]
  },
  {
   "cell_type": "code",
   "execution_count": 2,
   "id": "43bb0efd-251c-4e83-9016-4945813264f7",
   "metadata": {},
   "outputs": [],
   "source": [
    "import pandas as pd\n",
    "import numpy as np\n",
    "import matplotlib as mpl\n",
    "import seaborn as sb"
   ]
  },
  {
   "cell_type": "code",
   "execution_count": 3,
   "id": "11ae5eb9-c176-4088-a6d6-ea5b30019ada",
   "metadata": {},
   "outputs": [
    {
     "name": "stdout",
     "output_type": "stream",
     "text": [
      "Type of structure or class:  <class 'numpy.ndarray'>\n",
      "Data Type:  int64\n",
      "Diamension:  1\n",
      "size of aaray:  5\n",
      "shape of aaray:  (5,)\n"
     ]
    }
   ],
   "source": [
    "arr = np.array([1,2,3,4,5])\n",
    "\n",
    "print(\"Type of structure or class: \", type(arr))\n",
    "print('Data Type: ', arr.dtype)\n",
    "print('Diamension: ', arr.ndim)\n",
    "print('size of aaray: ', arr.size)\n",
    "print('shape of aaray: ', arr.shape) "
   ]
  },
  {
   "cell_type": "markdown",
   "id": "6be9008c-7f33-4ef3-95ce-0e3b7bf2763c",
   "metadata": {},
   "source": [
    "#### Array Dimensions\n",
    "1. 1D aaray = rows\n",
    "2. 2D aaray = rows and colums\n",
    "3. 3D aaray = "
   ]
  },
  {
   "cell_type": "code",
   "execution_count": 4,
   "id": "f6a7e13d-43ef-4536-8666-f9ea75daeee8",
   "metadata": {},
   "outputs": [
    {
     "data": {
      "text/plain": [
       "array({2, 3, 4, 5}, dtype=object)"
      ]
     },
     "execution_count": 4,
     "metadata": {},
     "output_type": "execute_result"
    }
   ],
   "source": [
    "# creating 1D aaray\n",
    "arr2 = np.array({2,3,4,5})\n",
    "\n",
    "arr2"
   ]
  },
  {
   "cell_type": "code",
   "execution_count": 5,
   "id": "59c897c1-9f09-46de-b12f-0c459573cba7",
   "metadata": {},
   "outputs": [
    {
     "data": {
      "text/plain": [
       "array({'a': 2, 'b': 3, 'c': 5}, dtype=object)"
      ]
     },
     "execution_count": 5,
     "metadata": {},
     "output_type": "execute_result"
    }
   ],
   "source": [
    "arr3 = np.array({'a':2, 'b':3, 'c':4, 'c':5})\n",
    "\n",
    "arr3"
   ]
  },
  {
   "cell_type": "code",
   "execution_count": 6,
   "id": "839e5c81-1c1e-4edd-a297-6ee1e6b5a203",
   "metadata": {},
   "outputs": [
    {
     "data": {
      "text/plain": [
       "array([0, 1, 2, 3, 4, 5, 6, 7, 8, 9])"
      ]
     },
     "execution_count": 6,
     "metadata": {},
     "output_type": "execute_result"
    }
   ],
   "source": [
    "arr4 = np.array(range(10))\n",
    "\n",
    "arr4"
   ]
  },
  {
   "cell_type": "code",
   "execution_count": 7,
   "id": "9897cb82-d544-4f1c-bfcf-e5888e13906b",
   "metadata": {},
   "outputs": [
    {
     "data": {
      "text/plain": [
       "array([10, 15, 20, 25, 30, 35, 40, 45, 50, 55, 60, 65, 70, 75, 80, 85, 90,\n",
       "       95])"
      ]
     },
     "execution_count": 7,
     "metadata": {},
     "output_type": "execute_result"
    }
   ],
   "source": [
    "arr5 = np.array(range(10, 100, 5))\n",
    "\n",
    "arr5"
   ]
  },
  {
   "cell_type": "code",
   "execution_count": 8,
   "id": "2932d88b-c0a1-4d92-bd82-b75f7ce3a5d3",
   "metadata": {},
   "outputs": [
    {
     "ename": "TypeError",
     "evalue": "array() missing required argument 'object' (pos 0)",
     "output_type": "error",
     "traceback": [
      "\u001b[31m---------------------------------------------------------------------------\u001b[39m",
      "\u001b[31mTypeError\u001b[39m                                 Traceback (most recent call last)",
      "\u001b[36mCell\u001b[39m\u001b[36m \u001b[39m\u001b[32mIn[8]\u001b[39m\u001b[32m, line 1\u001b[39m\n\u001b[32m----> \u001b[39m\u001b[32m1\u001b[39m arr6 = \u001b[43mnp\u001b[49m\u001b[43m.\u001b[49m\u001b[43marray\u001b[49m\u001b[43m(\u001b[49m\u001b[43m)\u001b[49m\n\u001b[32m      3\u001b[39m arr6\n",
      "\u001b[31mTypeError\u001b[39m: array() missing required argument 'object' (pos 0)"
     ]
    }
   ],
   "source": [
    "arr6 = np.array()\n",
    "\n",
    "arr6"
   ]
  },
  {
   "cell_type": "markdown",
   "id": "8b8fce44-297e-4b78-8157-7d3942085cc1",
   "metadata": {},
   "source": [
    "#### 1D array \n",
    "1. rows,\n",
    "2. [0,1,2,3]\n",
    "3. (4,) -> number of elements\n",
    "\n",
    "#### 2D array\n",
    "1. rows, cloums\n",
    "2. [[0,1,2,3]]\n",
    "3. (1, 4) -> number of elements 1 = rows and 4 = colums\n",
    "\n",
    "#### 3D array\n",
    "1. rows, cloums, \n",
    "2. [[0,1,2], [2,3,4]]\n",
    "3. (2, 3) -> number of elements 2 = rows and 3 = colums\n",
    "\n",
    "> note: all 1D must be same"
   ]
  },
  {
   "cell_type": "markdown",
   "id": "64461690-2738-451f-b640-116773b00478",
   "metadata": {},
   "source": [
    "**WAP to Create a 2D aaray of a shape (1,5) and display the dimension and shape**"
   ]
  },
  {
   "cell_type": "code",
   "execution_count": 12,
   "id": "b55cdbd7-10a1-4d5a-bd62-7034dc62fca2",
   "metadata": {},
   "outputs": [
    {
     "data": {
      "text/plain": [
       "(1, 5)"
      ]
     },
     "execution_count": 12,
     "metadata": {},
     "output_type": "execute_result"
    }
   ],
   "source": [
    "arr7 = np.array([[1,2,3,4,5]])\n",
    "\n",
    "arr7.shape"
   ]
  },
  {
   "cell_type": "code",
   "execution_count": 13,
   "id": "60efa850-afd4-4e66-ab96-c348365abec1",
   "metadata": {},
   "outputs": [
    {
     "data": {
      "text/plain": [
       "2"
      ]
     },
     "execution_count": 13,
     "metadata": {},
     "output_type": "execute_result"
    }
   ],
   "source": [
    "arr7.ndim"
   ]
  },
  {
   "cell_type": "code",
   "execution_count": 18,
   "id": "9912df33-10fe-443b-bc6d-d5e10bd6ab65",
   "metadata": {},
   "outputs": [
    {
     "data": {
      "text/plain": [
       "(1, 5)"
      ]
     },
     "execution_count": 18,
     "metadata": {},
     "output_type": "execute_result"
    }
   ],
   "source": [
    "arr8 = np.array([range(5)])\n",
    "\n",
    "arr8.shape"
   ]
  },
  {
   "cell_type": "markdown",
   "id": "5e418387-f3d0-4879-a59e-79f0736e42eb",
   "metadata": {},
   "source": [
    "**WAP to create a 2D aaray of shape (2,3) and display dimension**"
   ]
  },
  {
   "cell_type": "code",
   "execution_count": 23,
   "id": "48e080e8-eed4-4f6f-a13f-d6c959ba2c1e",
   "metadata": {},
   "outputs": [
    {
     "name": "stdout",
     "output_type": "stream",
     "text": [
      "array [[1 2]\n",
      " [2 3]\n",
      " [3 4]]\n",
      "shape:  (3, 2)\n",
      "dimension 2\n"
     ]
    }
   ],
   "source": [
    "arr9 =  np.array([[1,2], [2,3], [3,4]])\n",
    "\n",
    "print(\"array\", arr9)\n",
    "print(\"shape: \", arr9.shape)\n",
    "print(\"dimension\", arr9.ndim)"
   ]
  },
  {
   "cell_type": "markdown",
   "id": "82f65527-be0a-4177-8df5-cd3c123b4205",
   "metadata": {},
   "source": [
    "**WAP to create a 2D aaray of shape (3, 5) and display the dimension**"
   ]
  },
  {
   "cell_type": "code",
   "execution_count": 27,
   "id": "d5cb60f7-9f29-4f28-804f-b1a90e3da21b",
   "metadata": {},
   "outputs": [
    {
     "name": "stdout",
     "output_type": "stream",
     "text": [
      "array [[1 2 3 4 5]\n",
      " [2 3 4 5 6]\n",
      " [3 4 5 6 7]]\n",
      "shape:  (3, 5)\n",
      "dimension 2\n"
     ]
    }
   ],
   "source": [
    "arr10 =  np.array([[1,2,3,4,5], [2,3,4,5,6], [3,4,5,6,7]])\n",
    "\n",
    "print(\"array\", arr10)\n",
    "print(\"shape: \", arr10.shape)\n",
    "print(\"dimension\", arr10.ndim)"
   ]
  },
  {
   "cell_type": "markdown",
   "id": "1b955c56-9c20-49c3-9e4d-60ff8bc61175",
   "metadata": {},
   "source": [
    "#### 3D array\n",
    "arr11 =  np.array([[[1,2,3,4,5]]])\n",
    "\n",
    "(1,1,5) = 1-> layer number of 2d, 1-> row no of any 2D, 5-> colums no of 2Ds \n",
    "\n"
   ]
  },
  {
   "cell_type": "markdown",
   "id": "42b2757a-a593-406f-8d9f-a2d077c202f6",
   "metadata": {},
   "source": [
    "**WAP to Create a 3D array of shape (1,1,4) and display shape and dimension**"
   ]
  },
  {
   "cell_type": "code",
   "execution_count": 33,
   "id": "97b78913-2c85-44bf-a106-d9c36256134f",
   "metadata": {},
   "outputs": [
    {
     "name": "stdout",
     "output_type": "stream",
     "text": [
      "array [[[1 2 3 4]]]\n",
      "shape:  (1, 1, 4)\n",
      "dimension 3\n"
     ]
    }
   ],
   "source": [
    "arr11 =  np.array([[[1,2,3,4]]])\n",
    "\n",
    "print(\"array\", arr11)\n",
    "print(\"shape: \", arr11.shape)\n",
    "print(\"dimension\", arr11.ndim)"
   ]
  },
  {
   "cell_type": "code",
   "execution_count": 43,
   "id": "137a5573-69e4-4608-9d7b-ece1f9cc1888",
   "metadata": {},
   "outputs": [
    {
     "data": {
      "text/plain": [
       "array([[[1, 2, 3, 4],\n",
       "        [1, 2, 3, 4],\n",
       "        [1, 2, 3, 4]]])"
      ]
     },
     "execution_count": 43,
     "metadata": {},
     "output_type": "execute_result"
    }
   ],
   "source": [
    "# (1,3,4)\n",
    "arr12 =  np.array([[[1,2,3,4], [1,2,3,4], [1,2,3,4]]])\n",
    "\n",
    "arr12"
   ]
  },
  {
   "cell_type": "code",
   "execution_count": 45,
   "id": "2bd2ae1d-bfd7-4f14-957d-edd07d61ca5f",
   "metadata": {},
   "outputs": [
    {
     "name": "stdout",
     "output_type": "stream",
     "text": [
      "shape:  (1, 3, 4)\n",
      "dimension 3\n"
     ]
    }
   ],
   "source": [
    "print(\"shape: \", arr12.shape)\n",
    "print(\"dimension\", arr11.ndim)"
   ]
  },
  {
   "cell_type": "code",
   "execution_count": 64,
   "id": "f6bde7b7-c48f-4531-8158-66ff9707586b",
   "metadata": {},
   "outputs": [
    {
     "data": {
      "text/plain": [
       "array([[[1, 2, 3, 4],\n",
       "        [1, 2, 3, 4],\n",
       "        [1, 2, 3, 4]],\n",
       "\n",
       "       [[1, 2, 3, 4],\n",
       "        [1, 2, 3, 4],\n",
       "        [1, 2, 3, 4]]])"
      ]
     },
     "execution_count": 64,
     "metadata": {},
     "output_type": "execute_result"
    }
   ],
   "source": [
    "#(2,3,4)\n",
    "\n",
    "arr12 =  np.array([[[1,2,3,4],[1,2,3,4],[1,2,3,4]], [[1,2,3,4],[1,2,3,4],[1,2,3,4]]])\n",
    "\n",
    "arr12"
   ]
  },
  {
   "cell_type": "code",
   "execution_count": 65,
   "id": "00b9b0af-53d3-4b41-8190-b4b3de833ac4",
   "metadata": {},
   "outputs": [
    {
     "name": "stdout",
     "output_type": "stream",
     "text": [
      "shape:  (2, 3, 4)\n",
      "dimension 3\n"
     ]
    }
   ],
   "source": [
    "print(\"shape: \", arr12.shape)\n",
    "print(\"dimension\", arr11.ndim)"
   ]
  },
  {
   "cell_type": "code",
   "execution_count": 67,
   "id": "c9f45a62-8abc-4b45-aeb5-0c9cda956f24",
   "metadata": {},
   "outputs": [
    {
     "data": {
      "text/plain": [
       "array([[[1],\n",
       "        [1],\n",
       "        [1]],\n",
       "\n",
       "       [[1],\n",
       "        [1],\n",
       "        [1]]])"
      ]
     },
     "execution_count": 67,
     "metadata": {},
     "output_type": "execute_result"
    }
   ],
   "source": [
    "arr13 = np.array([[[1],[1],[1]],[[1],[1],[1]]])\n",
    "arr13"
   ]
  },
  {
   "cell_type": "code",
   "execution_count": 68,
   "id": "c7e551a8-44b6-4d2c-a0f2-0c685efbfbb1",
   "metadata": {},
   "outputs": [
    {
     "name": "stdout",
     "output_type": "stream",
     "text": [
      "shape:  (2, 3, 1)\n",
      "dimension 3\n"
     ]
    }
   ],
   "source": [
    "print(\"shape: \", arr13.shape)\n",
    "print(\"dimension\", arr13.ndim)"
   ]
  },
  {
   "cell_type": "code",
   "execution_count": 81,
   "id": "62e4894a-0d3f-45f1-b556-be7c7040d327",
   "metadata": {},
   "outputs": [
    {
     "data": {
      "text/plain": [
       "array([[[1, 2, 3],\n",
       "        [1, 2, 3]],\n",
       "\n",
       "       [[1, 2, 3],\n",
       "        [1, 2, 3]],\n",
       "\n",
       "       [[1, 2, 3],\n",
       "        [1, 2, 3]]])"
      ]
     },
     "execution_count": 81,
     "metadata": {},
     "output_type": "execute_result"
    }
   ],
   "source": [
    "# (3,2,3)\n",
    "\n",
    "arr14 = np.array([[[1,2,3], [1,2,3]], [[1,2,3], [1,2,3]], [[1,2,3], [1,2,3]]])\n",
    "arr14"
   ]
  },
  {
   "cell_type": "code",
   "execution_count": 79,
   "id": "0056731e-2b2d-4d71-9f6e-9dc3ed34d1e3",
   "metadata": {},
   "outputs": [
    {
     "name": "stdout",
     "output_type": "stream",
     "text": [
      "shape:  (3, 2, 3)\n",
      "dimension 3\n"
     ]
    }
   ],
   "source": [
    "print(\"shape: \", arr14.shape)\n",
    "print(\"dimension\", arr14.ndim)"
   ]
  },
  {
   "cell_type": "code",
   "execution_count": 83,
   "id": "6b6382a6-240f-4697-963e-90eeb5cae7ec",
   "metadata": {},
   "outputs": [],
   "source": [
    "# (2,2,2)\n",
    "\n",
    "arr15 = np.array([[[1,2], [1,2]], [[1,2], [1,2]]])"
   ]
  },
  {
   "cell_type": "code",
   "execution_count": 85,
   "id": "cb3e5b93-4e5e-450f-90cf-e11b7a187dce",
   "metadata": {},
   "outputs": [
    {
     "name": "stdout",
     "output_type": "stream",
     "text": [
      "shape:  (2, 2, 2)\n",
      "dimension 3\n"
     ]
    }
   ],
   "source": [
    "print(\"shape: \", arr15.shape)\n",
    "print(\"dimension\", arr15.ndim)"
   ]
  },
  {
   "cell_type": "markdown",
   "id": "765897c2-1234-4a44-a4d5-a5747feddd70",
   "metadata": {},
   "source": [
    "#### Dyamic array\n",
    "\n"
   ]
  },
  {
   "cell_type": "code",
   "execution_count": 89,
   "id": "20728a98-3baf-4490-aefb-911df5c61a3d",
   "metadata": {},
   "outputs": [
    {
     "data": {
      "text/plain": [
       "array([[[1, 2, 3],\n",
       "        [4, 5, 6],\n",
       "        [7, 8, 9]]])"
      ]
     },
     "execution_count": 89,
     "metadata": {},
     "output_type": "execute_result"
    }
   ],
   "source": [
    "arr16 = np.array([1,2,3,4,5,6,7,8,9]) \n",
    "\n",
    "arr_3d = arr16.reshape(1,3,3)\n",
    "\n",
    "arr_3d"
   ]
  },
  {
   "cell_type": "code",
   "execution_count": 91,
   "id": "8932bec0-c50d-459a-9060-bb6728c7dad2",
   "metadata": {},
   "outputs": [
    {
     "data": {
      "text/plain": [
       "array([[[ 0,  1,  2,  3],\n",
       "        [ 4,  5,  6,  7],\n",
       "        [ 8,  9, 10, 11]],\n",
       "\n",
       "       [[12, 13, 14, 15],\n",
       "        [16, 17, 18, 19],\n",
       "        [20, 21, 22, 23]]])"
      ]
     },
     "execution_count": 91,
     "metadata": {},
     "output_type": "execute_result"
    }
   ],
   "source": [
    "aar17 = np.array(range(24))\n",
    "\n",
    "arr_3d = aar17.reshape(2,3,4)\n",
    "\n",
    "arr_3d"
   ]
  },
  {
   "cell_type": "code",
   "execution_count": 111,
   "id": "3bf9f9d6-012d-49f1-b140-98d207e8aa79",
   "metadata": {},
   "outputs": [],
   "source": [
    "arr18 = np.array(range(1,25)).reshape(2,3,4)\n"
   ]
  },
  {
   "cell_type": "code",
   "execution_count": 112,
   "id": "27287bf1-4f25-4e27-89ec-775e6799be3b",
   "metadata": {},
   "outputs": [
    {
     "data": {
      "text/plain": [
       "(2, 3, 4)"
      ]
     },
     "execution_count": 112,
     "metadata": {},
     "output_type": "execute_result"
    }
   ],
   "source": [
    "arr18.shape"
   ]
  },
  {
   "cell_type": "code",
   "execution_count": 113,
   "id": "1953cac6-c99e-41c0-bcec-bcd5c5c06cd1",
   "metadata": {},
   "outputs": [
    {
     "data": {
      "text/plain": [
       "array([[ 1,  2,  3,  4],\n",
       "       [ 5,  6,  7,  8],\n",
       "       [ 9, 10, 11, 12],\n",
       "       [13, 14, 15, 16],\n",
       "       [17, 18, 19, 20]])"
      ]
     },
     "execution_count": 113,
     "metadata": {},
     "output_type": "execute_result"
    }
   ],
   "source": [
    "arr19 = np.array(range(1,21)).reshape(5,4)\n",
    "arr19"
   ]
  },
  {
   "cell_type": "code",
   "execution_count": 114,
   "id": "cdc08bad-7ddc-4592-be1d-16ebbafa251e",
   "metadata": {},
   "outputs": [
    {
     "data": {
      "text/plain": [
       "(5, 4)"
      ]
     },
     "execution_count": 114,
     "metadata": {},
     "output_type": "execute_result"
    }
   ],
   "source": [
    "arr19.shape"
   ]
  },
  {
   "cell_type": "code",
   "execution_count": null,
   "id": "b14cde0d-f75e-4f8f-b112-b81ae4e654dc",
   "metadata": {},
   "outputs": [],
   "source": []
  }
 ],
 "metadata": {
  "kernelspec": {
   "display_name": "Python 3 (ipykernel)",
   "language": "python",
   "name": "python3"
  },
  "language_info": {
   "codemirror_mode": {
    "name": "ipython",
    "version": 3
   },
   "file_extension": ".py",
   "mimetype": "text/x-python",
   "name": "python",
   "nbconvert_exporter": "python",
   "pygments_lexer": "ipython3",
   "version": "3.13.5"
  }
 },
 "nbformat": 4,
 "nbformat_minor": 5
}
