{
 "cells": [
  {
   "cell_type": "markdown",
   "id": "45eee1a6-778d-427d-8135-2ce608346fce",
   "metadata": {},
   "source": [
    "# Numpy\n",
    "\n",
    "week 5 day 21\n",
    "date: 29-7-25 tuesday\n",
    "\n",
    "numpy: it uses array as the data structure we have diffrrent Diamensions like 1D, 2D, 3D and so on\n",
    "\n",
    "static way of making an 1D array is to use []\n",
    "\n",
    "static way of making an 2D array is to use [[]]\n",
    "\n",
    "static way of making an 3D array is to use [[[]]]\n",
    "\n",
    "we can use many fuction with these arrays like\n",
    "\n",
    ".shape\n",
    "\n",
    ".ndim\n",
    "\n",
    ".size\n",
    "\n",
    "so on\n",
    "\n",
    "---\n",
    "\n",
    "np fuctions in numpy\n",
    "\n",
    "1. np.array()\n",
    "2. np.arange() -> mininmun maximum and incriment\n",
    "3. np.linespace() -> min max\n",
    "4. np.identity() -> identifing\n",
    "5. np.onec\n",
    "6. np.zeross\n",
    "\n",
    "so on"
   ]
  },
  {
   "cell_type": "code",
   "execution_count": 1,
   "id": "7a40de07-ea98-4caa-be6e-5cc2ac47a564",
   "metadata": {},
   "outputs": [],
   "source": [
    "import numpy as np"
   ]
  },
  {
   "cell_type": "code",
   "execution_count": 5,
   "id": "7d7b466f-4422-4fb4-b42d-f11a5c973aba",
   "metadata": {},
   "outputs": [
    {
     "name": "stdout",
     "output_type": "stream",
     "text": [
      "1\n"
     ]
    }
   ],
   "source": [
    "arr1d = np.array([1,2,3,4,5])\n",
    "\n",
    "print(arr1d.ndim)"
   ]
  },
  {
   "cell_type": "code",
   "execution_count": 6,
   "id": "a604dc2a-38e5-4df8-930e-d341cfde6cf5",
   "metadata": {},
   "outputs": [
    {
     "name": "stdout",
     "output_type": "stream",
     "text": [
      "2\n"
     ]
    }
   ],
   "source": [
    "arr2d = np.array([[1,2,3,4,5],[1,2,3,4,5]])\n",
    "\n",
    "print(arr2d.ndim)"
   ]
  },
  {
   "cell_type": "code",
   "execution_count": 7,
   "id": "cc3fbe20-7c78-4d8c-b1eb-a9e36588a2c0",
   "metadata": {},
   "outputs": [
    {
     "name": "stdout",
     "output_type": "stream",
     "text": [
      "3\n"
     ]
    }
   ],
   "source": [
    "arr3d = np.array([[[1,2,3,4,5],[1,2,3,4,5],[1,2,3,4,5]]])\n",
    "\n",
    "print(arr3d.ndim)"
   ]
  },
  {
   "cell_type": "code",
   "execution_count": 9,
   "id": "af8aba2b-ac97-4ad1-bce2-f53de8f97c8c",
   "metadata": {},
   "outputs": [
    {
     "data": {
      "text/plain": [
       "array([ 2, 12, 22, 32, 42, 52, 62, 72, 82, 92])"
      ]
     },
     "execution_count": 9,
     "metadata": {},
     "output_type": "execute_result"
    }
   ],
   "source": [
    "arr = np.arange(2,100,10)\n",
    "\n",
    "arr"
   ]
  },
  {
   "cell_type": "code",
   "execution_count": 17,
   "id": "3ef50d56-8f5d-4378-b4b4-ce4c086eed6b",
   "metadata": {},
   "outputs": [
    {
     "data": {
      "text/plain": [
       "(3, 4)"
      ]
     },
     "execution_count": 17,
     "metadata": {},
     "output_type": "execute_result"
    }
   ],
   "source": [
    "#(3,4)\n",
    "\n",
    "arr = np.arange(1,13,1).reshape(3,4)\n",
    "\n",
    "arr.shape"
   ]
  },
  {
   "cell_type": "code",
   "execution_count": 19,
   "id": "ad929e52-8187-48f2-bb64-964cb9deab7e",
   "metadata": {},
   "outputs": [
    {
     "data": {
      "text/plain": [
       "(3, 4, 4)"
      ]
     },
     "execution_count": 19,
     "metadata": {},
     "output_type": "execute_result"
    }
   ],
   "source": [
    "#(3,4, 4+)\n",
    "\n",
    "arr = np.arange(1,49,1).reshape(3,4,4)\n",
    "\n",
    "arr.shape"
   ]
  },
  {
   "cell_type": "code",
   "execution_count": 21,
   "id": "c81aa6dc-6b49-4985-ae94-b40eaa652fd4",
   "metadata": {},
   "outputs": [
    {
     "data": {
      "text/plain": [
       "array([ 2.        ,  3.63636364,  5.27272727,  6.90909091,  8.54545455,\n",
       "       10.18181818, 11.81818182, 13.45454545, 15.09090909, 16.72727273,\n",
       "       18.36363636, 20.        ])"
      ]
     },
     "execution_count": 21,
     "metadata": {},
     "output_type": "execute_result"
    }
   ],
   "source": [
    "# lenspace\n",
    "\n",
    "arr = np.linspace(2,20,12)\n",
    "\n",
    "arr"
   ]
  },
  {
   "cell_type": "code",
   "execution_count": 23,
   "id": "85ce746c-5409-47bf-8778-ca08d74a8a1e",
   "metadata": {},
   "outputs": [
    {
     "data": {
      "text/plain": [
       "array([ 1.,  2.,  3.,  4.,  5.,  6.,  7.,  8.,  9., 10.])"
      ]
     },
     "execution_count": 23,
     "metadata": {},
     "output_type": "execute_result"
    }
   ],
   "source": [
    "# lenspace\n",
    "\n",
    "arr = np.linspace(1,10,10)\n",
    "\n",
    "arr"
   ]
  },
  {
   "cell_type": "markdown",
   "id": "f8b72d3d-0de1-44aa-bfce-7438345a54d5",
   "metadata": {},
   "source": [
    "To create a 2D array of shape (3,5) using numpy.linspace, the total number of elements required is 3 * 5 = 15. The num argument in np.linspace(start, stop, num) must correspond to this total number of elements.\n",
    "The provided code arr = np.linspace(1,16,1).reshape(3,5) is incorrect because np.linspace(1,16,1) creates an array with only one element, which cannot be reshaped into a (3,5) array as it requires 15 elements."
   ]
  },
  {
   "cell_type": "code",
   "execution_count": 33,
   "id": "29ec00dc-ff6c-4e04-b1a0-e2eb10dd2777",
   "metadata": {},
   "outputs": [
    {
     "data": {
      "text/plain": [
       "(3, 5)"
      ]
     },
     "execution_count": 33,
     "metadata": {},
     "output_type": "execute_result"
    }
   ],
   "source": [
    "# create a 2D array of shape (3,5) using linespace\n",
    "\n",
    "arr = np.linspace(1,15,15).reshape(3,5)\n",
    "\n",
    "arr.shape"
   ]
  },
  {
   "cell_type": "code",
   "execution_count": 35,
   "id": "1aa19af8-38e5-4f29-982f-d8ee5a6becfc",
   "metadata": {},
   "outputs": [
    {
     "data": {
      "text/plain": [
       "array([1., 1., 1., 1., 1., 1., 1., 1., 1., 1.])"
      ]
     },
     "execution_count": 35,
     "metadata": {},
     "output_type": "execute_result"
    }
   ],
   "source": [
    "# once 1D\n",
    "    \n",
    "arr = np.ones((10,))\n",
    "\n",
    "arr"
   ]
  },
  {
   "cell_type": "code",
   "execution_count": 34,
   "id": "4f464f64-b91f-4dd0-8d43-418813affdb8",
   "metadata": {},
   "outputs": [
    {
     "data": {
      "text/plain": [
       "array([[1., 1., 1., 1.],\n",
       "       [1., 1., 1., 1.],\n",
       "       [1., 1., 1., 1.]])"
      ]
     },
     "execution_count": 34,
     "metadata": {},
     "output_type": "execute_result"
    }
   ],
   "source": [
    "# once 2D\n",
    "    \n",
    "arr = np.ones((3,4))\n",
    "\n",
    "arr"
   ]
  },
  {
   "cell_type": "code",
   "execution_count": 36,
   "id": "14362666-d51c-4134-9491-1aed0418e1b1",
   "metadata": {},
   "outputs": [
    {
     "data": {
      "text/plain": [
       "array([[[1., 1., 1., 1., 1.],\n",
       "        [1., 1., 1., 1., 1.],\n",
       "        [1., 1., 1., 1., 1.],\n",
       "        [1., 1., 1., 1., 1.]],\n",
       "\n",
       "       [[1., 1., 1., 1., 1.],\n",
       "        [1., 1., 1., 1., 1.],\n",
       "        [1., 1., 1., 1., 1.],\n",
       "        [1., 1., 1., 1., 1.]],\n",
       "\n",
       "       [[1., 1., 1., 1., 1.],\n",
       "        [1., 1., 1., 1., 1.],\n",
       "        [1., 1., 1., 1., 1.],\n",
       "        [1., 1., 1., 1., 1.]]])"
      ]
     },
     "execution_count": 36,
     "metadata": {},
     "output_type": "execute_result"
    }
   ],
   "source": [
    "# once 3D\n",
    "    \n",
    "arr = np.ones((3,4,5))\n",
    "\n",
    "arr"
   ]
  },
  {
   "cell_type": "code",
   "execution_count": 38,
   "id": "038e8d41-8b8a-4651-8da2-89b6573f78c6",
   "metadata": {},
   "outputs": [
    {
     "data": {
      "text/plain": [
       "array([0., 0., 0., 0., 0., 0., 0., 0., 0., 0.])"
      ]
     },
     "execution_count": 38,
     "metadata": {},
     "output_type": "execute_result"
    }
   ],
   "source": [
    "# zeros 1D\n",
    "    \n",
    "arr = np.zeros((10,))\n",
    "\n",
    "arr"
   ]
  },
  {
   "cell_type": "code",
   "execution_count": 39,
   "id": "80788bde-77fd-42e9-82be-53e83f60ba4b",
   "metadata": {},
   "outputs": [
    {
     "data": {
      "text/plain": [
       "array([[0., 0., 0., 0.],\n",
       "       [0., 0., 0., 0.],\n",
       "       [0., 0., 0., 0.]])"
      ]
     },
     "execution_count": 39,
     "metadata": {},
     "output_type": "execute_result"
    }
   ],
   "source": [
    "# zeros 2D\n",
    "    \n",
    "arr = np.zeros((3,4))\n",
    "\n",
    "arr"
   ]
  },
  {
   "cell_type": "code",
   "execution_count": 40,
   "id": "8f9a71dc-890d-411e-8f8a-a10f34356eab",
   "metadata": {},
   "outputs": [
    {
     "data": {
      "text/plain": [
       "array([[[0., 0., 0., 0., 0.],\n",
       "        [0., 0., 0., 0., 0.],\n",
       "        [0., 0., 0., 0., 0.],\n",
       "        [0., 0., 0., 0., 0.]],\n",
       "\n",
       "       [[0., 0., 0., 0., 0.],\n",
       "        [0., 0., 0., 0., 0.],\n",
       "        [0., 0., 0., 0., 0.],\n",
       "        [0., 0., 0., 0., 0.]],\n",
       "\n",
       "       [[0., 0., 0., 0., 0.],\n",
       "        [0., 0., 0., 0., 0.],\n",
       "        [0., 0., 0., 0., 0.],\n",
       "        [0., 0., 0., 0., 0.]]])"
      ]
     },
     "execution_count": 40,
     "metadata": {},
     "output_type": "execute_result"
    }
   ],
   "source": [
    "# zeros 3D\n",
    "    \n",
    "arr = np.zeros((3,4,5))\n",
    "\n",
    "arr"
   ]
  },
  {
   "cell_type": "code",
   "execution_count": 37,
   "id": "95f69925-d683-4485-ab6e-58a473cb44ad",
   "metadata": {},
   "outputs": [
    {
     "data": {
      "text/plain": [
       "array([[1., 0., 0., 0.],\n",
       "       [0., 1., 0., 0.],\n",
       "       [0., 0., 1., 0.],\n",
       "       [0., 0., 0., 1.]])"
      ]
     },
     "execution_count": 37,
     "metadata": {},
     "output_type": "execute_result"
    }
   ],
   "source": [
    "# identity\n",
    "\n",
    "arr = np.identity(4)\n",
    "\n",
    "arr"
   ]
  },
  {
   "cell_type": "code",
   "execution_count": 46,
   "id": "0c89316c-1907-4a54-bb05-dc45bf9fadb0",
   "metadata": {},
   "outputs": [
    {
     "data": {
      "text/plain": [
       "array([[66, 25, 72, 78],\n",
       "       [68, 63, 14, 50],\n",
       "       [39, 63, 11, 67]])"
      ]
     },
     "execution_count": 46,
     "metadata": {},
     "output_type": "execute_result"
    }
   ],
   "source": [
    "arr = np.random.randint(100,size=(3,4))\n",
    "\n",
    "arr"
   ]
  },
  {
   "cell_type": "code",
   "execution_count": 47,
   "id": "188b01d6-22fc-4d32-b7c8-7a02f9c1d36a",
   "metadata": {},
   "outputs": [
    {
     "data": {
      "text/plain": [
       "array([24, 23, 72, 29, 59, 80, 50, 97, 90, 86])"
      ]
     },
     "execution_count": 47,
     "metadata": {},
     "output_type": "execute_result"
    }
   ],
   "source": [
    "arr = np.random.randint(100,size=(10,))\n",
    "\n",
    "arr"
   ]
  },
  {
   "cell_type": "code",
   "execution_count": 49,
   "id": "3de69ce6-12c8-4036-83bf-7ba6b7368c25",
   "metadata": {},
   "outputs": [
    {
     "data": {
      "text/plain": [
       "array([[[12, 56, 75, 69],\n",
       "        [74, 56, 97, 78],\n",
       "        [ 8, 95, 90, 30],\n",
       "        [72, 85, 23, 65]],\n",
       "\n",
       "       [[35,  1, 28, 81],\n",
       "        [66, 28, 33, 77],\n",
       "        [27, 72, 16, 64],\n",
       "        [37,  0, 55, 56]],\n",
       "\n",
       "       [[49, 10, 58, 66],\n",
       "        [55, 19, 75, 32],\n",
       "        [68,  3, 70, 74],\n",
       "        [21, 13,  3, 49]]])"
      ]
     },
     "execution_count": 49,
     "metadata": {},
     "output_type": "execute_result"
    }
   ],
   "source": [
    "arr = np.random.randint(100,size=(3,4, 4))\n",
    "\n",
    "arr"
   ]
  },
  {
   "cell_type": "code",
   "execution_count": 50,
   "id": "8185d646-31dc-44c9-91d8-a1509e0b8eb0",
   "metadata": {},
   "outputs": [
    {
     "name": "stdout",
     "output_type": "stream",
     "text": [
      "1D Random Float Array:\n",
      "[0.18928696 0.85104808 0.97909651 0.61727095 0.65150828]\n",
      "\n",
      "2D Random Float Array:\n",
      "[[0.35256525 0.41977599 0.7297676  0.11409165]\n",
      " [0.29932657 0.24130946 0.35201939 0.29659029]\n",
      " [0.58359685 0.11852712 0.0438898  0.67073006]]\n"
     ]
    }
   ],
   "source": [
    "# type of random\n",
    "\n",
    "import numpy as np\n",
    "    # 1D array of 5 random floats\n",
    "float_array_1d = np.random.rand(5)\n",
    "print(f\"1D Random Float Array:\\n{float_array_1d}\\n\")\n",
    "\n",
    "    # 2D array of shape (3, 4) with random floats\n",
    "float_array_2d = np.random.rand(3, 4)\n",
    "print(f\"2D Random Float Array:\\n{float_array_2d}\")"
   ]
  },
  {
   "cell_type": "code",
   "execution_count": 51,
   "id": "9ecf43cd-fb66-40a6-bdd1-c6a98a58dd55",
   "metadata": {},
   "outputs": [
    {
     "name": "stdout",
     "output_type": "stream",
     "text": [
      "1D Random Integer Array:\n",
      "[0 6 9 6 8]\n",
      "\n",
      "2D Random Integer Array:\n",
      "[[16 32 43 53]\n",
      " [54 50 28  8]\n",
      " [37 17 97 88]]\n"
     ]
    }
   ],
   "source": [
    "import numpy as np\n",
    "    # 1D array of 5 random integers between 0 and 9 (inclusive)\n",
    "int_array_1d = np.random.randint(0, 10, 5)\n",
    "print(f\"1D Random Integer Array:\\n{int_array_1d}\\n\")\n",
    "\n",
    "    # 2D array of shape (3, 4) with random integers between 1 and 100 (inclusive)\n",
    "int_array_2d = np.random.randint(1, 101, size=(3, 4))\n",
    "print(f\"2D Random Integer Array:\\n{int_array_2d}\")"
   ]
  },
  {
   "cell_type": "code",
   "execution_count": 52,
   "id": "7e214356-c389-4842-994c-afaead70fef2",
   "metadata": {},
   "outputs": [
    {
     "name": "stdout",
     "output_type": "stream",
     "text": [
      "1D Random Normal Array:\n",
      "[-2.16410029 -0.82077347  0.58312446 -0.06850909  0.28677632]\n",
      "\n",
      "2D Random Normal Array:\n",
      "[[ 1.67798727 -0.02318249  0.0857317 ]\n",
      " [ 0.40859165 -0.63833515  0.57753623]]\n"
     ]
    }
   ],
   "source": [
    "import numpy as np\n",
    "    # 1D array of 5 random numbers from standard normal distribution\n",
    "normal_array_1d = np.random.randn(5)\n",
    "print(f\"1D Random Normal Array:\\n{normal_array_1d}\\n\")\n",
    "\n",
    "    # 2D array of shape (2, 3) with random numbers from standard normal distribution\n",
    "normal_array_2d = np.random.randn(2, 3)\n",
    "print(f\"2D Random Normal Array:\\n{normal_array_2d}\")"
   ]
  },
  {
   "cell_type": "markdown",
   "id": "09fc86a3-9442-45dc-a980-14f826935ed0",
   "metadata": {},
   "source": [
    "## Acessesing "
   ]
  },
  {
   "cell_type": "markdown",
   "id": "43f85f19-d1b1-43b5-ba77-81bd10d95d19",
   "metadata": {},
   "source": [
    "table\n",
    "      1d 2d 3d\n",
    "shape [R,] [R,C] [LR,C]\n",
    "indexing [R] [R, RC] [L],[L,R][L,R,C]\n",
    "slicing [:] [:],[:,:] [:],[:,:],[:,:,:]\n",
    "\n",
    "start:end, colum indexing with rows, row indexing with layer cloum indexing with L,R"
   ]
  },
  {
   "cell_type": "code",
   "execution_count": 54,
   "id": "73c75af1-a2bf-45a3-b19e-7c6903a8b021",
   "metadata": {},
   "outputs": [
    {
     "name": "stdout",
     "output_type": "stream",
     "text": [
      "10\n",
      "50\n",
      "[40 50]\n",
      "[10 20]\n"
     ]
    }
   ],
   "source": [
    "# Acessing 1D array\n",
    "\n",
    "arr = np.array([10,20,30,40,50])\n",
    "\n",
    "print(arr[0])\n",
    "print(arr[-1])\n",
    "print(arr[-2:])\n",
    "print(arr[:2])"
   ]
  },
  {
   "cell_type": "code",
   "execution_count": 70,
   "id": "48e38fab-eb41-4935-85e3-b673a1428fef",
   "metadata": {},
   "outputs": [
    {
     "data": {
      "text/plain": [
       "array([[10, 20, 30],\n",
       "       [40, 50, 60],\n",
       "       [70, 80, 90]])"
      ]
     },
     "execution_count": 70,
     "metadata": {},
     "output_type": "execute_result"
    }
   ],
   "source": [
    "# Acessing 2D array\n",
    "\n",
    "arr = np.array([[10,20,30],[40,50,60], [70,80,90]])\n",
    "\n",
    "arr"
   ]
  },
  {
   "cell_type": "code",
   "execution_count": 69,
   "id": "e9509160-8697-4467-8174-3d67f9054d96",
   "metadata": {},
   "outputs": [
    {
     "name": "stdout",
     "output_type": "stream",
     "text": [
      "[10 20 30]\n"
     ]
    }
   ],
   "source": [
    "print(arr[0])"
   ]
  },
  {
   "cell_type": "code",
   "execution_count": 65,
   "id": "6eda04de-3b1d-4143-94c7-f0c043df2d36",
   "metadata": {},
   "outputs": [
    {
     "name": "stdout",
     "output_type": "stream",
     "text": [
      "[70 80 90]\n"
     ]
    }
   ],
   "source": [
    "print(arr[-1])"
   ]
  },
  {
   "cell_type": "code",
   "execution_count": 66,
   "id": "e64e5d91-2991-4118-891f-d3532467c787",
   "metadata": {},
   "outputs": [
    {
     "name": "stdout",
     "output_type": "stream",
     "text": [
      "[[40 50 60]\n",
      " [70 80 90]]\n"
     ]
    }
   ],
   "source": [
    "print(arr[-2:])"
   ]
  },
  {
   "cell_type": "code",
   "execution_count": 67,
   "id": "c136fe69-fdee-47e5-a6fd-073e75166ddf",
   "metadata": {},
   "outputs": [
    {
     "name": "stdout",
     "output_type": "stream",
     "text": [
      "[[10 20 30]\n",
      " [40 50 60]]\n"
     ]
    }
   ],
   "source": [
    "print(arr[:2])"
   ]
  },
  {
   "cell_type": "code",
   "execution_count": 68,
   "id": "056aa76d-806d-4d0a-9083-45df7243b52a",
   "metadata": {},
   "outputs": [
    {
     "name": "stdout",
     "output_type": "stream",
     "text": [
      "[30 60 90]\n"
     ]
    }
   ],
   "source": [
    "print(arr[:,-1])"
   ]
  },
  {
   "cell_type": "code",
   "execution_count": 72,
   "id": "39d371a6-b3a4-482b-9496-2c791b8b8bb3",
   "metadata": {},
   "outputs": [
    {
     "name": "stdout",
     "output_type": "stream",
     "text": [
      "[[20 30]\n",
      " [50 60]\n",
      " [80 90]]\n"
     ]
    }
   ],
   "source": [
    "print(arr[:,-2:])"
   ]
  },
  {
   "cell_type": "code",
   "execution_count": 73,
   "id": "bef36aa5-9722-4f64-be25-4ea7254aaa41",
   "metadata": {},
   "outputs": [
    {
     "name": "stdout",
     "output_type": "stream",
     "text": [
      "[[50 60]\n",
      " [80 90]]\n"
     ]
    }
   ],
   "source": [
    "print(arr[1:,-2:])"
   ]
  },
  {
   "cell_type": "code",
   "execution_count": 74,
   "id": "5895a0ec-cb13-4609-9559-8485096cc4d7",
   "metadata": {},
   "outputs": [
    {
     "name": "stdout",
     "output_type": "stream",
     "text": [
      "[[50 60]\n",
      " [80 90]]\n"
     ]
    }
   ],
   "source": [
    "print(arr[1:3,1:3])"
   ]
  },
  {
   "cell_type": "code",
   "execution_count": 75,
   "id": "3da4f46a-d5b0-4d4c-aea9-0e26127b580c",
   "metadata": {},
   "outputs": [
    {
     "data": {
      "text/plain": [
       "array([10, 12, 14, 16, 18, 20, 22, 24, 26, 28, 30, 32, 34, 36, 38, 40, 42,\n",
       "       44, 46, 48])"
      ]
     },
     "execution_count": 75,
     "metadata": {},
     "output_type": "execute_result"
    }
   ],
   "source": [
    "arr = np.array(range(10,50,2))\n",
    "\n",
    "arr"
   ]
  },
  {
   "cell_type": "code",
   "execution_count": 77,
   "id": "c9087b21-162f-4f54-a717-dea144dd8454",
   "metadata": {},
   "outputs": [
    {
     "name": "stdout",
     "output_type": "stream",
     "text": [
      "10\n"
     ]
    }
   ],
   "source": [
    "print(arr[0])"
   ]
  },
  {
   "cell_type": "code",
   "execution_count": 78,
   "id": "78a3d562-2d9e-44f7-98d4-78992e780b59",
   "metadata": {},
   "outputs": [
    {
     "name": "stdout",
     "output_type": "stream",
     "text": [
      "[46 48]\n"
     ]
    }
   ],
   "source": [
    "print(arr[-2:])"
   ]
  },
  {
   "cell_type": "code",
   "execution_count": 79,
   "id": "691f60a2-2fe4-4b13-a342-e99b80fd7ea8",
   "metadata": {},
   "outputs": [
    {
     "name": "stdout",
     "output_type": "stream",
     "text": [
      "[10 12]\n"
     ]
    }
   ],
   "source": [
    "print(arr[:2])"
   ]
  },
  {
   "cell_type": "code",
   "execution_count": 94,
   "id": "6ac16159-165a-4a26-8f54-9cc1c09818e4",
   "metadata": {},
   "outputs": [
    {
     "data": {
      "text/plain": [
       "array([[ 1,  2,  3],\n",
       "       [ 4,  5,  6],\n",
       "       [ 7,  8,  9],\n",
       "       [10, 11, 12]])"
      ]
     },
     "execution_count": 94,
     "metadata": {},
     "output_type": "execute_result"
    }
   ],
   "source": [
    "arr = np.array(range(1,13)).reshape(4,3)\n",
    "\n",
    "arr"
   ]
  },
  {
   "cell_type": "code",
   "execution_count": 95,
   "id": "e0431b93-6ec9-454b-a9e0-ea62374c1d8a",
   "metadata": {},
   "outputs": [
    {
     "name": "stdout",
     "output_type": "stream",
     "text": [
      "[[ 1  2]\n",
      " [ 4  5]\n",
      " [ 7  8]\n",
      " [10 11]]\n"
     ]
    }
   ],
   "source": [
    "print(arr[:,:2])"
   ]
  },
  {
   "cell_type": "code",
   "execution_count": 96,
   "id": "65b42c8d-a5c9-48d6-ac81-19df67f6979b",
   "metadata": {},
   "outputs": [
    {
     "name": "stdout",
     "output_type": "stream",
     "text": [
      "[1 2 3]\n"
     ]
    }
   ],
   "source": [
    "print(arr[0])"
   ]
  },
  {
   "cell_type": "code",
   "execution_count": 99,
   "id": "fae90a7b-0cad-4f8d-9510-afa129676dcc",
   "metadata": {},
   "outputs": [
    {
     "name": "stdout",
     "output_type": "stream",
     "text": [
      "[[ 2  3]\n",
      " [ 5  6]\n",
      " [ 8  9]\n",
      " [11 12]]\n"
     ]
    }
   ],
   "source": [
    "print(arr[:,1:])"
   ]
  },
  {
   "cell_type": "markdown",
   "id": "af63058d-4456-4cc3-baff-249cb68a11a8",
   "metadata": {},
   "source": [
    "**WAP to create a array of shape (3,3) and perform the below task**\n",
    "\n",
    "1. display last row\n",
    "2. display first colum\n",
    "3. display first 2 rows and first to colums"
   ]
  },
  {
   "cell_type": "code",
   "execution_count": 100,
   "id": "d21f010e-0ac0-4bbf-93c8-bfa01f4f8eb5",
   "metadata": {},
   "outputs": [
    {
     "data": {
      "text/plain": [
       "array([[1, 2, 3],\n",
       "       [4, 5, 6],\n",
       "       [7, 8, 9]])"
      ]
     },
     "execution_count": 100,
     "metadata": {},
     "output_type": "execute_result"
    }
   ],
   "source": [
    "arr = np.array(range(1,10)).reshape(3,3)\n",
    "\n",
    "arr"
   ]
  },
  {
   "cell_type": "code",
   "execution_count": 109,
   "id": "68b1e76d-983e-435a-9144-cd9f8ae89700",
   "metadata": {},
   "outputs": [
    {
     "name": "stdout",
     "output_type": "stream",
     "text": [
      "[7 8 9]\n"
     ]
    }
   ],
   "source": [
    "# 1. display last row\n",
    "\n",
    "print(arr[-1])"
   ]
  },
  {
   "cell_type": "code",
   "execution_count": 102,
   "id": "0bb07c5d-c2ea-4041-8b19-ff1ad7532465",
   "metadata": {},
   "outputs": [
    {
     "name": "stdout",
     "output_type": "stream",
     "text": [
      "[1 4 7]\n"
     ]
    }
   ],
   "source": [
    "# 2. display first colum\n",
    "\n",
    "print(arr[:,0])"
   ]
  },
  {
   "cell_type": "code",
   "execution_count": 119,
   "id": "feaf9267-b695-4ae2-8fea-cb2c561fecb7",
   "metadata": {},
   "outputs": [
    {
     "name": "stdout",
     "output_type": "stream",
     "text": [
      "\n",
      "Frist 2 rows: \n",
      " [[1 2 3]\n",
      " [4 5 6]]\n",
      "\n",
      "First 2 colums: \n",
      " [[1 2]\n",
      " [4 5]\n",
      " [7 8]]\n"
     ]
    }
   ],
   "source": [
    "# 3. display first 2 rows and first to colums\n",
    "\n",
    "print('\\nFrist 2 rows: \\n',arr[:2])\n",
    "print('\\nFirst 2 colums: \\n',arr[:,:2])"
   ]
  },
  {
   "cell_type": "markdown",
   "id": "6376e3a9-4351-4566-8bd6-5619c123b581",
   "metadata": {},
   "source": [
    "### 3D \n",
    "\n",
    "matrix\n"
   ]
  },
  {
   "cell_type": "code",
   "execution_count": 121,
   "id": "4a32ed3e-7236-4867-9364-c5e3e3bda9c3",
   "metadata": {},
   "outputs": [
    {
     "data": {
      "text/plain": [
       "array([[[ 1,  2,  3],\n",
       "        [ 4,  5,  6],\n",
       "        [ 7,  8,  9]],\n",
       "\n",
       "       [[10, 11, 12],\n",
       "        [13, 14, 15],\n",
       "        [16, 17, 18]]])"
      ]
     },
     "execution_count": 121,
     "metadata": {},
     "output_type": "execute_result"
    }
   ],
   "source": [
    "arr = np.array(range(1,19)).reshape(2,3,3)\n",
    "\n",
    "arr"
   ]
  },
  {
   "cell_type": "code",
   "execution_count": 122,
   "id": "210ac729-2915-4f27-951b-37df6b1733bd",
   "metadata": {},
   "outputs": [
    {
     "name": "stdout",
     "output_type": "stream",
     "text": [
      "[[1 2 3]\n",
      " [4 5 6]\n",
      " [7 8 9]]\n"
     ]
    }
   ],
   "source": [
    "print(arr[0])"
   ]
  },
  {
   "cell_type": "code",
   "execution_count": 123,
   "id": "f2b4168a-5949-4c2a-8049-69c1ad8933c1",
   "metadata": {},
   "outputs": [
    {
     "name": "stdout",
     "output_type": "stream",
     "text": [
      "[[10 11 12]\n",
      " [13 14 15]\n",
      " [16 17 18]]\n"
     ]
    }
   ],
   "source": [
    "print(arr[1])"
   ]
  },
  {
   "cell_type": "code",
   "execution_count": 126,
   "id": "f8152df5-1222-4b18-a6c5-b18d0edd3454",
   "metadata": {},
   "outputs": [
    {
     "name": "stdout",
     "output_type": "stream",
     "text": [
      "[10 11 12]\n"
     ]
    }
   ],
   "source": [
    "print(arr[-1,0])"
   ]
  },
  {
   "cell_type": "code",
   "execution_count": 127,
   "id": "6ecd98f6-f235-4953-826b-21f3c0252e50",
   "metadata": {},
   "outputs": [
    {
     "name": "stdout",
     "output_type": "stream",
     "text": [
      "[[5 6]\n",
      " [8 9]]\n"
     ]
    }
   ],
   "source": [
    "print(arr[0,1:3,1:3])"
   ]
  },
  {
   "cell_type": "markdown",
   "id": "42ce89c4-76e5-411b-b205-b3e97195c2bc",
   "metadata": {},
   "source": [
    "**WAP to create a 3d array of shape (3,4,5) and perform the below tasks**\n",
    "1. display the second layer\n",
    "2. display the last row of the first layer\n",
    "3. display the last 2 rows of first layer\n",
    "4. display the part of you choice from the second layer\n",
    "5. display first 2 layers only"
   ]
  },
  {
   "cell_type": "code",
   "execution_count": 128,
   "id": "90d14085-7958-469f-89ea-f4a222142ce0",
   "metadata": {},
   "outputs": [
    {
     "data": {
      "text/plain": [
       "array([[[ 1,  2,  3,  4,  5],\n",
       "        [ 6,  7,  8,  9, 10],\n",
       "        [11, 12, 13, 14, 15]],\n",
       "\n",
       "       [[16, 17, 18, 19, 20],\n",
       "        [21, 22, 23, 24, 25],\n",
       "        [26, 27, 28, 29, 30]],\n",
       "\n",
       "       [[31, 32, 33, 34, 35],\n",
       "        [36, 37, 38, 39, 40],\n",
       "        [41, 42, 43, 44, 45]],\n",
       "\n",
       "       [[46, 47, 48, 49, 50],\n",
       "        [51, 52, 53, 54, 55],\n",
       "        [56, 57, 58, 59, 60]]])"
      ]
     },
     "execution_count": 128,
     "metadata": {},
     "output_type": "execute_result"
    }
   ],
   "source": [
    "arr = np.array(range(1,61)).reshape(4,3,5)\n",
    "\n",
    "arr"
   ]
  },
  {
   "cell_type": "code",
   "execution_count": 129,
   "id": "7cb28e1f-bd66-4341-906a-7ceaa6d44cd9",
   "metadata": {},
   "outputs": [
    {
     "name": "stdout",
     "output_type": "stream",
     "text": [
      "[[16 17 18 19 20]\n",
      " [21 22 23 24 25]\n",
      " [26 27 28 29 30]]\n"
     ]
    }
   ],
   "source": [
    "# 1. display the second layer\n",
    "print(arr[1])"
   ]
  },
  {
   "cell_type": "code",
   "execution_count": 131,
   "id": "da1e0171-8991-474c-b0e0-8c9822d940bd",
   "metadata": {},
   "outputs": [
    {
     "name": "stdout",
     "output_type": "stream",
     "text": [
      "[11 12 13 14 15]\n"
     ]
    }
   ],
   "source": [
    "#2. display the last row of the first layer\n",
    "print(arr[0,-1])"
   ]
  },
  {
   "cell_type": "code",
   "execution_count": 132,
   "id": "3e53dcfc-a4fa-445f-9882-78a21b414fe0",
   "metadata": {},
   "outputs": [
    {
     "name": "stdout",
     "output_type": "stream",
     "text": [
      "[[ 6  7  8  9 10]\n",
      " [11 12 13 14 15]]\n"
     ]
    }
   ],
   "source": [
    "#3. display the last 2 rows of first layer\n",
    "\n",
    "print(arr[0,-2:])"
   ]
  },
  {
   "cell_type": "code",
   "execution_count": 133,
   "id": "1af8905f-5560-407b-9c96-209a057eaa1b",
   "metadata": {},
   "outputs": [
    {
     "name": "stdout",
     "output_type": "stream",
     "text": [
      "[[22 23]\n",
      " [27 28]]\n"
     ]
    }
   ],
   "source": [
    "#4. display the part of you choice from the second layer\n",
    "\n",
    "print(arr[1, 1:3, 1:3])\n"
   ]
  },
  {
   "cell_type": "code",
   "execution_count": 135,
   "id": "4d997dfa-a410-46a3-9dd7-5e17e3a89966",
   "metadata": {},
   "outputs": [
    {
     "name": "stdout",
     "output_type": "stream",
     "text": [
      "[[[ 1  2  3  4  5]\n",
      "  [ 6  7  8  9 10]\n",
      "  [11 12 13 14 15]]\n",
      "\n",
      " [[16 17 18 19 20]\n",
      "  [21 22 23 24 25]\n",
      "  [26 27 28 29 30]]]\n"
     ]
    }
   ],
   "source": [
    "# 5. display first 2 layers only\n",
    "print(arr[:2])"
   ]
  },
  {
   "cell_type": "code",
   "execution_count": 139,
   "id": "f871b7f3-580d-47c5-83aa-852bce5faf22",
   "metadata": {},
   "outputs": [
    {
     "data": {
      "text/plain": [
       "array([[16, 17, 18, 19, 20],\n",
       "       [21, 22, 23, 24, 25],\n",
       "       [26, 27, 28, 29, 30]])"
      ]
     },
     "execution_count": 139,
     "metadata": {},
     "output_type": "execute_result"
    }
   ],
   "source": [
    "arr[1]"
   ]
  },
  {
   "cell_type": "code",
   "execution_count": 137,
   "id": "3dabe7ee-8814-4054-b321-ece86c447e21",
   "metadata": {},
   "outputs": [
    {
     "name": "stdout",
     "output_type": "stream",
     "text": [
      "[[26 27 28 29 30]\n",
      " [21 22 23 24 25]\n",
      " [16 17 18 19 20]]\n"
     ]
    }
   ],
   "source": [
    "#c flippping rows\n",
    "print(arr[1,::-1])"
   ]
  },
  {
   "cell_type": "code",
   "execution_count": 138,
   "id": "ead26738-3fbd-442c-b055-bf226753f508",
   "metadata": {},
   "outputs": [
    {
     "name": "stdout",
     "output_type": "stream",
     "text": [
      "[[20 19 18 17 16]\n",
      " [25 24 23 22 21]\n",
      " [30 29 28 27 26]]\n"
     ]
    }
   ],
   "source": [
    "#c flippping rows\n",
    "print(arr[1,:,::-1])"
   ]
  },
  {
   "cell_type": "code",
   "execution_count": null,
   "id": "7bc615cf-5a79-44e3-b075-6fb973de9e33",
   "metadata": {},
   "outputs": [],
   "source": []
  }
 ],
 "metadata": {
  "kernelspec": {
   "display_name": "Python 3 (ipykernel)",
   "language": "python",
   "name": "python3"
  },
  "language_info": {
   "codemirror_mode": {
    "name": "ipython",
    "version": 3
   },
   "file_extension": ".py",
   "mimetype": "text/x-python",
   "name": "python",
   "nbconvert_exporter": "python",
   "pygments_lexer": "ipython3",
   "version": "3.13.5"
  }
 },
 "nbformat": 4,
 "nbformat_minor": 5
}
