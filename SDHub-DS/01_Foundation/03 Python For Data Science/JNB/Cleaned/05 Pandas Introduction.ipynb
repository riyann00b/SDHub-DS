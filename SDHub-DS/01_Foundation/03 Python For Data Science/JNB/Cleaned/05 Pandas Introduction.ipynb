{
 "cells": [
  {
   "cell_type": "markdown",
   "id": "ba2fd007",
   "metadata": {},
   "source": [
    "# Week 5, Day 23: Introduction to Pandas\n",
    "\n",
    "**Date:** August 1, 2025\n",
    "**Topic:** Pandas Fundamentals - Data Structures & File I/O\n",
    "\n",
    "---"
   ]
  },
  {
   "cell_type": "markdown",
   "id": "71f6343f",
   "metadata": {},
   "source": [
    "#### **1. What is Pandas?**\n",
    "\n",
    "*   A fundamental Python library for data manipulation and analysis.\n",
    "*   It introduces two primary data structures that we will work with: `Series` and `DataFrame`."
   ]
  },
  {
   "cell_type": "code",
   "execution_count": 1,
   "id": "257629b8",
   "metadata": {},
   "outputs": [],
   "source": [
    "import pandas as pd\n",
    "import numpy as np"
   ]
  },
  {
   "cell_type": "markdown",
   "id": "64e6b2c8",
   "metadata": {},
   "source": [
    "```mermaid\n",
    "graph TD\n",
    "    A[\"Pandas Library\"] --> B[\"Series (1D Data)\"]\n",
    "    A --> C[\"DataFrame (2D Data)\"]\n",
    "```"
   ]
  },
  {
   "cell_type": "markdown",
   "id": "028d3a90",
   "metadata": {},
   "source": [
    "---"
   ]
  },
  {
   "cell_type": "markdown",
   "id": "7d9347d8",
   "metadata": {},
   "source": [
    "#### **2. The Pandas `Series`**\n",
    "\n",
    "> **Definition:** A **`Series`** is a one-dimensional array-like object that can hold any data type. It has an associated array of data labels, called its **index**."
   ]
  },
  {
   "cell_type": "markdown",
   "id": "edb98bd5",
   "metadata": {},
   "source": [
    "##### **Creating a `Series`**\n",
    "\n",
    "*   **From a list (most common):**"
   ]
  },
  {
   "cell_type": "code",
   "execution_count": 16,
   "id": "8e90718e",
   "metadata": {},
   "outputs": [
    {
     "name": "stdout",
     "output_type": "stream",
     "text": [
      "0    10\n",
      "1    20\n",
      "2    30\n",
      "dtype: int64\n"
     ]
    }
   ],
   "source": [
    "# The index is automatically generated (0, 1, 2...)\n",
    "ser1 = pd.Series([10, 20, 30])\n",
    "print(ser1)"
   ]
  },
  {
   "cell_type": "markdown",
   "id": "3e9a6ac7",
   "metadata": {},
   "source": [
    "*   **From a dictionary:**"
   ]
  },
  {
   "cell_type": "code",
   "execution_count": 3,
   "id": "0cdf64ed",
   "metadata": {},
   "outputs": [
    {
     "name": "stdout",
     "output_type": "stream",
     "text": [
      "101    Riyan\n",
      "102    Amaan\n",
      "103    Adnan\n",
      "dtype: object\n"
     ]
    }
   ],
   "source": [
    "# The dictionary keys are used as the index\n",
    "di = {101: \"Riyan\", 102: \"Amaan\", 103: \"Adnan\"}\n",
    "s = pd.Series(di)\n",
    "print(s)"
   ]
  },
  {
   "cell_type": "markdown",
   "id": "1a9ffe80",
   "metadata": {},
   "source": [
    "---"
   ]
  },
  {
   "cell_type": "markdown",
   "id": "65c29f3e",
   "metadata": {},
   "source": [
    "#### **3. The Pandas `DataFrame`**\n",
    "\n",
    "> **Definition:** A **`DataFrame`** is a 2-dimensional, tabular data structure with labeled axes (rows and columns). It's like a spreadsheet or an SQL table."
   ]
  },
  {
   "cell_type": "markdown",
   "id": "8d715b4e",
   "metadata": {},
   "source": [
    "*   **Creating a `DataFrame`:** The most common way is from a **dictionary of collections** (like lists, arrays, or other Series).\n",
    "    *   The dictionary keys become the **column names**.\n",
    "    *   The values in the collections become the **rows** of data."
   ]
  },
  {
   "cell_type": "markdown",
   "id": "8085de52",
   "metadata": {},
   "source": [
    "```mermaid\n",
    "graph TD\n",
    "    subgraph \"Input: Dictionary of Lists\"\n",
    "        A[\"{'col1': [r1, r2], 'col2': [r1, r2]}\"]\n",
    "    end\n",
    "    \n",
    "    A --> B[\"pd.DataFrame()\"]\n",
    "    \n",
    "    subgraph \"Output: DataFrame\"\n",
    "        C[\"DataFrame Structure:<br/>Index | col1 | col2<br/>0 | r1 | r1<br/>1 | r2 | r2\"]\n",
    "    end\n",
    "    \n",
    "    B --> C\n",
    "```"
   ]
  },
  {
   "cell_type": "markdown",
   "id": "db3e692d",
   "metadata": {},
   "source": [
    "##### **Examples of DataFrame Creation:**"
   ]
  },
  {
   "cell_type": "markdown",
   "id": "da2aee82",
   "metadata": {},
   "source": [
    "**1. From a Dictionary of Lists:**"
   ]
  },
  {
   "cell_type": "code",
   "execution_count": 4,
   "id": "dc136e4e",
   "metadata": {},
   "outputs": [
    {
     "data": {
      "text/html": [
       "<div>\n",
       "<style scoped>\n",
       "    .dataframe tbody tr th:only-of-type {\n",
       "        vertical-align: middle;\n",
       "    }\n",
       "\n",
       "    .dataframe tbody tr th {\n",
       "        vertical-align: top;\n",
       "    }\n",
       "\n",
       "    .dataframe thead th {\n",
       "        text-align: right;\n",
       "    }\n",
       "</style>\n",
       "<table border=\"1\" class=\"dataframe\">\n",
       "  <thead>\n",
       "    <tr style=\"text-align: right;\">\n",
       "      <th></th>\n",
       "      <th>Name</th>\n",
       "      <th>age</th>\n",
       "      <th>Course</th>\n",
       "    </tr>\n",
       "  </thead>\n",
       "  <tbody>\n",
       "    <tr>\n",
       "      <th>0</th>\n",
       "      <td>Riyan</td>\n",
       "      <td>20</td>\n",
       "      <td>Ds</td>\n",
       "    </tr>\n",
       "    <tr>\n",
       "      <th>1</th>\n",
       "      <td>Amaan</td>\n",
       "      <td>22</td>\n",
       "      <td>DevOP</td>\n",
       "    </tr>\n",
       "    <tr>\n",
       "      <th>2</th>\n",
       "      <td>Adnan</td>\n",
       "      <td>23</td>\n",
       "      <td>Bussiness</td>\n",
       "    </tr>\n",
       "  </tbody>\n",
       "</table>\n",
       "</div>"
      ],
      "text/plain": [
       "    Name  age     Course\n",
       "0  Riyan   20         Ds\n",
       "1  Amaan   22      DevOP\n",
       "2  Adnan   23  Bussiness"
      ]
     },
     "execution_count": 4,
     "metadata": {},
     "output_type": "execute_result"
    }
   ],
   "source": [
    "di = {\n",
    "    'Name': ['Riyan', 'Amaan', 'Adnan'],\n",
    "    'age': [20, 22, 23],\n",
    "    'Course':['Ds', 'DevOP', 'Bussiness']\n",
    "}\n",
    "df = pd.DataFrame(di)\n",
    "df"
   ]
  },
  {
   "cell_type": "markdown",
   "id": "37c1242a",
   "metadata": {},
   "source": [
    "**2. From a Dictionary of NumPy Arrays:**"
   ]
  },
  {
   "cell_type": "code",
   "execution_count": 5,
   "id": "07ab69b4",
   "metadata": {},
   "outputs": [
    {
     "data": {
      "text/html": [
       "<div>\n",
       "<style scoped>\n",
       "    .dataframe tbody tr th:only-of-type {\n",
       "        vertical-align: middle;\n",
       "    }\n",
       "\n",
       "    .dataframe tbody tr th {\n",
       "        vertical-align: top;\n",
       "    }\n",
       "\n",
       "    .dataframe thead th {\n",
       "        text-align: right;\n",
       "    }\n",
       "</style>\n",
       "<table border=\"1\" class=\"dataframe\">\n",
       "  <thead>\n",
       "    <tr style=\"text-align: right;\">\n",
       "      <th></th>\n",
       "      <th>Name</th>\n",
       "      <th>Course</th>\n",
       "      <th>Score</th>\n",
       "    </tr>\n",
       "  </thead>\n",
       "  <tbody>\n",
       "    <tr>\n",
       "      <th>0</th>\n",
       "      <td>Riyan</td>\n",
       "      <td>DS</td>\n",
       "      <td>44</td>\n",
       "    </tr>\n",
       "    <tr>\n",
       "      <th>1</th>\n",
       "      <td>Amaan</td>\n",
       "      <td>DevOps</td>\n",
       "      <td>46</td>\n",
       "    </tr>\n",
       "    <tr>\n",
       "      <th>2</th>\n",
       "      <td>Adnan</td>\n",
       "      <td>WebDev</td>\n",
       "      <td>78</td>\n",
       "    </tr>\n",
       "  </tbody>\n",
       "</table>\n",
       "</div>"
      ],
      "text/plain": [
       "    Name  Course  Score\n",
       "0  Riyan      DS     44\n",
       "1  Amaan  DevOps     46\n",
       "2  Adnan  WebDev     78"
      ]
     },
     "execution_count": 5,
     "metadata": {},
     "output_type": "execute_result"
    }
   ],
   "source": [
    "name = np.array(['Riyan','Amaan','Adnan'])\n",
    "course = np.array(['DS','DevOps','WebDev'])\n",
    "score = np.array([44,46,78])\n",
    "\n",
    "di_np = {'Name':name, 'Course':course, 'Score':score}\n",
    "df_np = pd.DataFrame(di_np)\n",
    "df_np"
   ]
  },
  {
   "cell_type": "markdown",
   "id": "be248854",
   "metadata": {},
   "source": [
    "**3. From a Nested Dictionary (Dictionary of Dictionaries)**\n",
    "\n",
    "This creates a DataFrame where the outer keys are columns and the inner keys are the index."
   ]
  },
  {
   "cell_type": "code",
   "execution_count": 6,
   "id": "01de5a62",
   "metadata": {},
   "outputs": [
    {
     "data": {
      "text/html": [
       "<div>\n",
       "<style scoped>\n",
       "    .dataframe tbody tr th:only-of-type {\n",
       "        vertical-align: middle;\n",
       "    }\n",
       "\n",
       "    .dataframe tbody tr th {\n",
       "        vertical-align: top;\n",
       "    }\n",
       "\n",
       "    .dataframe thead th {\n",
       "        text-align: right;\n",
       "    }\n",
       "</style>\n",
       "<table border=\"1\" class=\"dataframe\">\n",
       "  <thead>\n",
       "    <tr style=\"text-align: right;\">\n",
       "      <th></th>\n",
       "      <th>Eng</th>\n",
       "      <th>Arts</th>\n",
       "      <th>Medical</th>\n",
       "    </tr>\n",
       "  </thead>\n",
       "  <tbody>\n",
       "    <tr>\n",
       "      <th>Enr_ID</th>\n",
       "      <td>[101, 102, 103]</td>\n",
       "      <td>[201, 202, 203]</td>\n",
       "      <td>[301, 302, 303]</td>\n",
       "    </tr>\n",
       "    <tr>\n",
       "      <th>Student_Name</th>\n",
       "      <td>[Amaan, Adnan, Riyan]</td>\n",
       "      <td>[faizaan, Shahid, Qhari]</td>\n",
       "      <td>[Imaraan, Ghouse, ligma]</td>\n",
       "    </tr>\n",
       "    <tr>\n",
       "      <th>Location</th>\n",
       "      <td>[TGS, AP, TS]</td>\n",
       "      <td>[TS, Goa, TGS]</td>\n",
       "      <td>[Ap, TS, TGS]</td>\n",
       "    </tr>\n",
       "  </tbody>\n",
       "</table>\n",
       "</div>"
      ],
      "text/plain": [
       "                                Eng                      Arts  \\\n",
       "Enr_ID              [101, 102, 103]           [201, 202, 203]   \n",
       "Student_Name  [Amaan, Adnan, Riyan]  [faizaan, Shahid, Qhari]   \n",
       "Location              [TGS, AP, TS]            [TS, Goa, TGS]   \n",
       "\n",
       "                               Medical  \n",
       "Enr_ID                 [301, 302, 303]  \n",
       "Student_Name  [Imaraan, Ghouse, ligma]  \n",
       "Location                 [Ap, TS, TGS]  "
      ]
     },
     "execution_count": 6,
     "metadata": {},
     "output_type": "execute_result"
    }
   ],
   "source": [
    "Osmania = {\n",
    "    'Eng':{\n",
    "        'Enr_ID':[101,102,103],\n",
    "        'Student_Name':['Amaan','Adnan','Riyan'],\n",
    "        'Location':['TGS', \"AP\", 'TS']\n",
    "          },\n",
    "    'Arts':{\n",
    "        'Enr_ID':[201,202,203],\n",
    "        'Student_Name':['faizaan', 'Shahid', 'Qhari'],\n",
    "        'Location':['TS','Goa','TGS']\n",
    "          },\n",
    "    'Medical':{\n",
    "        'Enr_ID':[301,302,303],\n",
    "        'Student_Name':[\"Imaraan\", 'Ghouse', 'ligma'],\n",
    "        'Location':['Ap','TS','TGS']\n",
    "          },\n",
    "}\n",
    "\n",
    "df_osmania = pd.DataFrame(Osmania)\n",
    "df_osmania"
   ]
  },
  {
   "cell_type": "markdown",
   "id": "7c86b3ad",
   "metadata": {},
   "source": [
    "You can then create separate, more conventional DataFrames for each department."
   ]
  },
  {
   "cell_type": "code",
   "execution_count": 7,
   "id": "13cc046d",
   "metadata": {},
   "outputs": [
    {
     "data": {
      "text/html": [
       "<div>\n",
       "<style scoped>\n",
       "    .dataframe tbody tr th:only-of-type {\n",
       "        vertical-align: middle;\n",
       "    }\n",
       "\n",
       "    .dataframe tbody tr th {\n",
       "        vertical-align: top;\n",
       "    }\n",
       "\n",
       "    .dataframe thead th {\n",
       "        text-align: right;\n",
       "    }\n",
       "</style>\n",
       "<table border=\"1\" class=\"dataframe\">\n",
       "  <thead>\n",
       "    <tr style=\"text-align: right;\">\n",
       "      <th></th>\n",
       "      <th>Enr_ID</th>\n",
       "      <th>Student_Name</th>\n",
       "      <th>Location</th>\n",
       "    </tr>\n",
       "  </thead>\n",
       "  <tbody>\n",
       "    <tr>\n",
       "      <th>0</th>\n",
       "      <td>101</td>\n",
       "      <td>Amaan</td>\n",
       "      <td>TGS</td>\n",
       "    </tr>\n",
       "    <tr>\n",
       "      <th>1</th>\n",
       "      <td>102</td>\n",
       "      <td>Adnan</td>\n",
       "      <td>AP</td>\n",
       "    </tr>\n",
       "    <tr>\n",
       "      <th>2</th>\n",
       "      <td>103</td>\n",
       "      <td>Riyan</td>\n",
       "      <td>TS</td>\n",
       "    </tr>\n",
       "  </tbody>\n",
       "</table>\n",
       "</div>"
      ],
      "text/plain": [
       "   Enr_ID Student_Name Location\n",
       "0     101        Amaan      TGS\n",
       "1     102        Adnan       AP\n",
       "2     103        Riyan       TS"
      ]
     },
     "execution_count": 7,
     "metadata": {},
     "output_type": "execute_result"
    }
   ],
   "source": [
    "df_eng = pd.DataFrame(Osmania['Eng'])\n",
    "df_eng"
   ]
  },
  {
   "cell_type": "markdown",
   "id": "2c039d91",
   "metadata": {},
   "source": [
    "---"
   ]
  },
  {
   "cell_type": "markdown",
   "id": "bc93659b",
   "metadata": {},
   "source": [
    "#### **4. Inspecting Your DataFrame**\n",
    "\n",
    "Once you have a DataFrame, you can check its properties."
   ]
  },
  {
   "cell_type": "code",
   "execution_count": 8,
   "id": "ed2df4b9",
   "metadata": {},
   "outputs": [
    {
     "name": "stdout",
     "output_type": "stream",
     "text": [
      "DataFrame used for inspection:\n",
      "    Name  age     Course\n",
      "0  Riyan   20         Ds\n",
      "1  Amaan   22      DevOP\n",
      "2  Adnan   23  Bussiness\n",
      "\n",
      "Dimensions (df.ndim): 2\n",
      "Shape (df.shape): (3, 3)\n",
      "Size (df.size): 9\n"
     ]
    }
   ],
   "source": [
    "print(\"DataFrame used for inspection:\")\n",
    "print(df)\n",
    "print(\"\\nDimensions (df.ndim):\", df.ndim)\n",
    "print(\"Shape (df.shape):\", df.shape)\n",
    "print(\"Size (df.size):\", df.size)"
   ]
  },
  {
   "cell_type": "markdown",
   "id": "8cfd4be7",
   "metadata": {},
   "source": [
    "---"
   ]
  },
  {
   "cell_type": "markdown",
   "id": "5fb40628",
   "metadata": {},
   "source": [
    "#### **5. Custom Indexing**\n",
    "\n",
    "By default, the index is `0, 1, 2, ...`. We can assign a more meaningful index during creation.\n",
    "\n",
    "> **Key Point:** The `index` parameter in `pd.DataFrame()` must have the same number of elements as the number of rows in your data."
   ]
  },
  {
   "cell_type": "code",
   "execution_count": 9,
   "id": "9b0958ca",
   "metadata": {},
   "outputs": [
    {
     "data": {
      "text/html": [
       "<div>\n",
       "<style scoped>\n",
       "    .dataframe tbody tr th:only-of-type {\n",
       "        vertical-align: middle;\n",
       "    }\n",
       "\n",
       "    .dataframe tbody tr th {\n",
       "        vertical-align: top;\n",
       "    }\n",
       "\n",
       "    .dataframe thead th {\n",
       "        text-align: right;\n",
       "    }\n",
       "</style>\n",
       "<table border=\"1\" class=\"dataframe\">\n",
       "  <thead>\n",
       "    <tr style=\"text-align: right;\">\n",
       "      <th></th>\n",
       "      <th>course</th>\n",
       "      <th>score</th>\n",
       "    </tr>\n",
       "  </thead>\n",
       "  <tbody>\n",
       "    <tr>\n",
       "      <th>Riyan</th>\n",
       "      <td>DS</td>\n",
       "      <td>90</td>\n",
       "    </tr>\n",
       "    <tr>\n",
       "      <th>Amaan</th>\n",
       "      <td>DevOps</td>\n",
       "      <td>80</td>\n",
       "    </tr>\n",
       "    <tr>\n",
       "      <th>Adnan</th>\n",
       "      <td>WebDev</td>\n",
       "      <td>60</td>\n",
       "    </tr>\n",
       "  </tbody>\n",
       "</table>\n",
       "</div>"
      ],
      "text/plain": [
       "       course  score\n",
       "Riyan      DS     90\n",
       "Amaan  DevOps     80\n",
       "Adnan  WebDev     60"
      ]
     },
     "execution_count": 9,
     "metadata": {},
     "output_type": "execute_result"
    }
   ],
   "source": [
    "# The 'index' list provides the row labels\n",
    "df_custom = pd.DataFrame(\n",
    "    {\n",
    "    'course':['DS','DevOps','WebDev'],\n",
    "    'score':[90, 80 , 60]\n",
    "    }, \n",
    "    index=['Riyan','Amaan','Adnan']\n",
    ")\n",
    "\n",
    "df_custom"
   ]
  },
  {
   "cell_type": "markdown",
   "id": "894269ed",
   "metadata": {},
   "source": [
    "---"
   ]
  },
  {
   "cell_type": "markdown",
   "id": "ff499526",
   "metadata": {},
   "source": [
    "#### **6. Reading Data From Files**\n",
    "\n",
    "This is how we'll work with real-world datasets.\n",
    "\n",
    "*   **Core Functions:**\n",
    "    *   `pd.read_csv('filename.csv')` for Comma-Separated Values files.\n",
    "    *   `pd.read_excel('filename.xlsx')` for Excel files.\n",
    "\n",
    "*   **Two Scenarios for File Paths:**\n",
    "\n",
    "    1.  **File in the Same Location:** If the notebook (`.ipynb`) and the data file (`.csv`) are in the same folder, you just need the file's name."
   ]
  },
  {
   "cell_type": "code",
   "execution_count": 19,
   "id": "8d69fe96",
   "metadata": {},
   "outputs": [
    {
     "name": "stdout",
     "output_type": "stream",
     "text": [
      "Successfully loaded DataSet.csv\n"
     ]
    }
   ],
   "source": [
    "# This will work only if 'FinData.csv' is in the same directory as the notebook.\n",
    "# If not, it will raise a FileNotFoundError.\n",
    "try:\n",
    "    df_from_csv = pd.read_csv('dataset.csv')\n",
    "    print(\"Successfully loaded DataSet.csv\")\n",
    "    # display the first 5 rows\n",
    "    # df_from_csv.head()\n",
    "except FileNotFoundError as e:\n",
    "    print(e)"
   ]
  },
  {
   "cell_type": "markdown",
   "id": "29f86eb8",
   "metadata": {},
   "source": [
    "2.  **File in a Different Location:** You must provide the full file path.\n",
    "    > **Important:** On Windows, you must either use double backslashes (`\\\\`) or a single forward slash (`/`) to avoid errors."
   ]
  },
  {
   "cell_type": "code",
   "execution_count": 25,
   "id": "2ad658cf",
   "metadata": {},
   "outputs": [
    {
     "data": {
      "text/html": [
       "<div>\n",
       "<style scoped>\n",
       "    .dataframe tbody tr th:only-of-type {\n",
       "        vertical-align: middle;\n",
       "    }\n",
       "\n",
       "    .dataframe tbody tr th {\n",
       "        vertical-align: top;\n",
       "    }\n",
       "\n",
       "    .dataframe thead th {\n",
       "        text-align: right;\n",
       "    }\n",
       "</style>\n",
       "<table border=\"1\" class=\"dataframe\">\n",
       "  <thead>\n",
       "    <tr style=\"text-align: right;\">\n",
       "      <th></th>\n",
       "      <th>College_ID</th>\n",
       "      <th>IQ</th>\n",
       "      <th>Prev_Sem_Result</th>\n",
       "      <th>CGPA</th>\n",
       "      <th>Academic_Performance</th>\n",
       "      <th>Internship_Experience</th>\n",
       "      <th>Extra_Curricular_Score</th>\n",
       "      <th>Communication_Skills</th>\n",
       "      <th>Projects_Completed</th>\n",
       "      <th>Placement</th>\n",
       "    </tr>\n",
       "  </thead>\n",
       "  <tbody>\n",
       "    <tr>\n",
       "      <th>0</th>\n",
       "      <td>CLG0030</td>\n",
       "      <td>107</td>\n",
       "      <td>6.61</td>\n",
       "      <td>6.28</td>\n",
       "      <td>8</td>\n",
       "      <td>No</td>\n",
       "      <td>8</td>\n",
       "      <td>8</td>\n",
       "      <td>4</td>\n",
       "      <td>No</td>\n",
       "    </tr>\n",
       "    <tr>\n",
       "      <th>1</th>\n",
       "      <td>CLG0061</td>\n",
       "      <td>97</td>\n",
       "      <td>5.52</td>\n",
       "      <td>5.37</td>\n",
       "      <td>8</td>\n",
       "      <td>No</td>\n",
       "      <td>7</td>\n",
       "      <td>8</td>\n",
       "      <td>0</td>\n",
       "      <td>No</td>\n",
       "    </tr>\n",
       "    <tr>\n",
       "      <th>2</th>\n",
       "      <td>CLG0036</td>\n",
       "      <td>109</td>\n",
       "      <td>5.36</td>\n",
       "      <td>5.83</td>\n",
       "      <td>9</td>\n",
       "      <td>No</td>\n",
       "      <td>3</td>\n",
       "      <td>1</td>\n",
       "      <td>1</td>\n",
       "      <td>No</td>\n",
       "    </tr>\n",
       "    <tr>\n",
       "      <th>3</th>\n",
       "      <td>CLG0055</td>\n",
       "      <td>122</td>\n",
       "      <td>5.47</td>\n",
       "      <td>5.75</td>\n",
       "      <td>6</td>\n",
       "      <td>Yes</td>\n",
       "      <td>1</td>\n",
       "      <td>6</td>\n",
       "      <td>1</td>\n",
       "      <td>No</td>\n",
       "    </tr>\n",
       "    <tr>\n",
       "      <th>4</th>\n",
       "      <td>CLG0004</td>\n",
       "      <td>96</td>\n",
       "      <td>7.91</td>\n",
       "      <td>7.69</td>\n",
       "      <td>7</td>\n",
       "      <td>No</td>\n",
       "      <td>8</td>\n",
       "      <td>10</td>\n",
       "      <td>2</td>\n",
       "      <td>No</td>\n",
       "    </tr>\n",
       "    <tr>\n",
       "      <th>...</th>\n",
       "      <td>...</td>\n",
       "      <td>...</td>\n",
       "      <td>...</td>\n",
       "      <td>...</td>\n",
       "      <td>...</td>\n",
       "      <td>...</td>\n",
       "      <td>...</td>\n",
       "      <td>...</td>\n",
       "      <td>...</td>\n",
       "      <td>...</td>\n",
       "    </tr>\n",
       "    <tr>\n",
       "      <th>9995</th>\n",
       "      <td>CLG0021</td>\n",
       "      <td>119</td>\n",
       "      <td>8.41</td>\n",
       "      <td>8.29</td>\n",
       "      <td>4</td>\n",
       "      <td>No</td>\n",
       "      <td>1</td>\n",
       "      <td>8</td>\n",
       "      <td>0</td>\n",
       "      <td>Yes</td>\n",
       "    </tr>\n",
       "    <tr>\n",
       "      <th>9996</th>\n",
       "      <td>CLG0098</td>\n",
       "      <td>70</td>\n",
       "      <td>9.25</td>\n",
       "      <td>9.34</td>\n",
       "      <td>7</td>\n",
       "      <td>No</td>\n",
       "      <td>0</td>\n",
       "      <td>7</td>\n",
       "      <td>2</td>\n",
       "      <td>No</td>\n",
       "    </tr>\n",
       "    <tr>\n",
       "      <th>9997</th>\n",
       "      <td>CLG0066</td>\n",
       "      <td>89</td>\n",
       "      <td>6.08</td>\n",
       "      <td>6.25</td>\n",
       "      <td>3</td>\n",
       "      <td>Yes</td>\n",
       "      <td>3</td>\n",
       "      <td>9</td>\n",
       "      <td>5</td>\n",
       "      <td>No</td>\n",
       "    </tr>\n",
       "    <tr>\n",
       "      <th>9998</th>\n",
       "      <td>CLG0045</td>\n",
       "      <td>107</td>\n",
       "      <td>8.77</td>\n",
       "      <td>8.92</td>\n",
       "      <td>3</td>\n",
       "      <td>No</td>\n",
       "      <td>7</td>\n",
       "      <td>5</td>\n",
       "      <td>1</td>\n",
       "      <td>No</td>\n",
       "    </tr>\n",
       "    <tr>\n",
       "      <th>9999</th>\n",
       "      <td>CLG0060</td>\n",
       "      <td>109</td>\n",
       "      <td>9.41</td>\n",
       "      <td>9.77</td>\n",
       "      <td>8</td>\n",
       "      <td>No</td>\n",
       "      <td>3</td>\n",
       "      <td>5</td>\n",
       "      <td>5</td>\n",
       "      <td>No</td>\n",
       "    </tr>\n",
       "  </tbody>\n",
       "</table>\n",
       "<p>10000 rows × 10 columns</p>\n",
       "</div>"
      ],
      "text/plain": [
       "     College_ID   IQ  Prev_Sem_Result  CGPA  Academic_Performance  \\\n",
       "0       CLG0030  107             6.61  6.28                     8   \n",
       "1       CLG0061   97             5.52  5.37                     8   \n",
       "2       CLG0036  109             5.36  5.83                     9   \n",
       "3       CLG0055  122             5.47  5.75                     6   \n",
       "4       CLG0004   96             7.91  7.69                     7   \n",
       "...         ...  ...              ...   ...                   ...   \n",
       "9995    CLG0021  119             8.41  8.29                     4   \n",
       "9996    CLG0098   70             9.25  9.34                     7   \n",
       "9997    CLG0066   89             6.08  6.25                     3   \n",
       "9998    CLG0045  107             8.77  8.92                     3   \n",
       "9999    CLG0060  109             9.41  9.77                     8   \n",
       "\n",
       "     Internship_Experience  Extra_Curricular_Score  Communication_Skills  \\\n",
       "0                       No                       8                     8   \n",
       "1                       No                       7                     8   \n",
       "2                       No                       3                     1   \n",
       "3                      Yes                       1                     6   \n",
       "4                       No                       8                    10   \n",
       "...                    ...                     ...                   ...   \n",
       "9995                    No                       1                     8   \n",
       "9996                    No                       0                     7   \n",
       "9997                   Yes                       3                     9   \n",
       "9998                    No                       7                     5   \n",
       "9999                    No                       3                     5   \n",
       "\n",
       "      Projects_Completed Placement  \n",
       "0                      4        No  \n",
       "1                      0        No  \n",
       "2                      1        No  \n",
       "3                      1        No  \n",
       "4                      2        No  \n",
       "...                  ...       ...  \n",
       "9995                   0       Yes  \n",
       "9996                   2        No  \n",
       "9997                   5        No  \n",
       "9998                   1        No  \n",
       "9999                   5        No  \n",
       "\n",
       "[10000 rows x 10 columns]"
      ]
     },
     "execution_count": 25,
     "metadata": {},
     "output_type": "execute_result"
    }
   ],
   "source": [
    "# These are examples of how to format paths for different operating systems.\n",
    "# They will raise errors if the files do not exist at these exact locations.\n",
    "\n",
    "# Windows Example\n",
    "try:\n",
    "    df_windows = pd.read_csv('/home//riyan//Desktop//SDHub-DS//SDHub-DS//01_Foundation//03 Python For Data Science//dataset.csv') \n",
    "                               #(\"C:\\\\Users\\\\uwais\\\\Downloads\\\\DA1 Score.xlsx\")\n",
    "except FileNotFoundError as e:\n",
    "    print(\"Windows Path Example Error:\", e)\n",
    "\n",
    "# Mac/Linux Example\n",
    "try:\n",
    "    df_linux = pd.read_csv('/home//riyan//Desktop//SDHub-DS//SDHub-DS//01_Foundation//03 Python For Data Science//dataset.csv')\n",
    "except FileNotFoundError as e:\n",
    "    print(\"Linux/Mac Path Example Error:\", e)\n",
    "\n",
    "df_linux"
   ]
  },
  {
   "cell_type": "code",
   "execution_count": null,
   "id": "ae84fb06-7d7c-453f-98dd-669727fa3ba6",
   "metadata": {},
   "outputs": [],
   "source": []
  }
 ],
 "metadata": {
  "kernelspec": {
   "display_name": "Python 3 (ipykernel)",
   "language": "python",
   "name": "python3"
  },
  "language_info": {
   "codemirror_mode": {
    "name": "ipython",
    "version": 3
   },
   "file_extension": ".py",
   "mimetype": "text/x-python",
   "name": "python",
   "nbconvert_exporter": "python",
   "pygments_lexer": "ipython3",
   "version": "3.13.5"
  }
 },
 "nbformat": 4,
 "nbformat_minor": 5
}
