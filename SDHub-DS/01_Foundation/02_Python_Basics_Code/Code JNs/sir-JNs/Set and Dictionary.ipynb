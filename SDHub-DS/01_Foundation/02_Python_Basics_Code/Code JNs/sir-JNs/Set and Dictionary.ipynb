{
 "cells": [
  {
   "cell_type": "markdown",
   "id": "1a8e625e",
   "metadata": {},
   "source": [
    "## Tuple"
   ]
  },
  {
   "cell_type": "markdown",
   "id": "9fde112d",
   "metadata": {},
   "source": [
    "**WAP to create a tuple and perform below tasks:**\n",
    "\n",
    "- Display the first ele\n",
    "- Display the last ele\n",
    "- Display the last two ele\n",
    "- Add your name to tuple"
   ]
  },
  {
   "cell_type": "code",
   "execution_count": 1,
   "id": "e4dba150",
   "metadata": {},
   "outputs": [
    {
     "data": {
      "text/plain": [
       "tuple"
      ]
     },
     "execution_count": 1,
     "metadata": {},
     "output_type": "execute_result"
    }
   ],
   "source": [
    "tup = (1,2,3,4,5)\n",
    "\n",
    "type(tup)"
   ]
  },
  {
   "cell_type": "code",
   "execution_count": 2,
   "id": "2854758f",
   "metadata": {},
   "outputs": [
    {
     "data": {
      "text/plain": [
       "(1, 2, 3, 4)"
      ]
     },
     "execution_count": 2,
     "metadata": {},
     "output_type": "execute_result"
    }
   ],
   "source": [
    "tup2 = tuple([1,2,3,4])\n",
    "\n",
    "tup2"
   ]
  },
  {
   "cell_type": "code",
   "execution_count": 3,
   "id": "f6bdb1a3",
   "metadata": {},
   "outputs": [
    {
     "data": {
      "text/plain": [
       "tuple"
      ]
     },
     "execution_count": 3,
     "metadata": {},
     "output_type": "execute_result"
    }
   ],
   "source": [
    "type(tup2)"
   ]
  },
  {
   "cell_type": "code",
   "execution_count": 4,
   "id": "4529cd63",
   "metadata": {},
   "outputs": [
    {
     "name": "stdout",
     "output_type": "stream",
     "text": [
      "(0, 1, 2, 3, 4, 5, 6, 7, 8, 9, 10, 11, 12, 13, 14, 15, 16, 17, 18, 19, 20, 21, 22, 23, 24, 25, 26, 27, 28, 29, 30, 31, 32, 33, 34, 35, 36, 37, 38, 39, 40, 41, 42, 43, 44, 45, 46, 47, 48, 49, 50)\n"
     ]
    }
   ],
   "source": [
    "tup3 = tuple(range(0,51))\n",
    "\n",
    "print(tup3)"
   ]
  },
  {
   "cell_type": "code",
   "execution_count": 5,
   "id": "3fd5a364",
   "metadata": {},
   "outputs": [
    {
     "data": {
      "text/plain": [
       "0"
      ]
     },
     "execution_count": 5,
     "metadata": {},
     "output_type": "execute_result"
    }
   ],
   "source": [
    "tup3[0]"
   ]
  },
  {
   "cell_type": "code",
   "execution_count": 6,
   "id": "02ee616a",
   "metadata": {},
   "outputs": [
    {
     "data": {
      "text/plain": [
       "50"
      ]
     },
     "execution_count": 6,
     "metadata": {},
     "output_type": "execute_result"
    }
   ],
   "source": [
    "tup3[-1]"
   ]
  },
  {
   "cell_type": "code",
   "execution_count": 7,
   "id": "71c13f47",
   "metadata": {},
   "outputs": [
    {
     "data": {
      "text/plain": [
       "(49, 50)"
      ]
     },
     "execution_count": 7,
     "metadata": {},
     "output_type": "execute_result"
    }
   ],
   "source": [
    "tup3[-2:]"
   ]
  },
  {
   "cell_type": "code",
   "execution_count": 8,
   "id": "bd773022",
   "metadata": {},
   "outputs": [
    {
     "data": {
      "text/plain": [
       "(0,\n",
       " 1,\n",
       " 2,\n",
       " 3,\n",
       " 4,\n",
       " 5,\n",
       " 6,\n",
       " 7,\n",
       " 8,\n",
       " 9,\n",
       " 10,\n",
       " 11,\n",
       " 12,\n",
       " 13,\n",
       " 14,\n",
       " 15,\n",
       " 16,\n",
       " 17,\n",
       " 18,\n",
       " 19,\n",
       " 20,\n",
       " 21,\n",
       " 22,\n",
       " 23,\n",
       " 24,\n",
       " 25,\n",
       " 26,\n",
       " 27,\n",
       " 28,\n",
       " 29,\n",
       " 30,\n",
       " 31,\n",
       " 32,\n",
       " 33,\n",
       " 34,\n",
       " 35,\n",
       " 36,\n",
       " 37,\n",
       " 38,\n",
       " 39,\n",
       " 40,\n",
       " 41,\n",
       " 42,\n",
       " 43,\n",
       " 44,\n",
       " 45,\n",
       " 46,\n",
       " 47,\n",
       " 48,\n",
       " 49,\n",
       " 50,\n",
       " 'Uwaish')"
      ]
     },
     "execution_count": 8,
     "metadata": {},
     "output_type": "execute_result"
    }
   ],
   "source": [
    "tup3+(\"Uwaish\",)   # temporary"
   ]
  },
  {
   "cell_type": "code",
   "execution_count": 9,
   "id": "c652f19e",
   "metadata": {},
   "outputs": [
    {
     "name": "stdout",
     "output_type": "stream",
     "text": [
      "(0, 1, 2, 3, 4, 5, 6, 7, 8, 9, 10, 11, 12, 13, 14, 15, 16, 17, 18, 19, 20, 21, 22, 23, 24, 25, 26, 27, 28, 29, 30, 31, 32, 33, 34, 35, 36, 37, 38, 39, 40, 41, 42, 43, 44, 45, 46, 47, 48, 49, 50, 'Uwaish')\n"
     ]
    }
   ],
   "source": [
    "tup3 = tup3+(\"Uwaish\",)\n",
    "\n",
    "print(tup3)"
   ]
  },
  {
   "cell_type": "markdown",
   "id": "b8c77e6e",
   "metadata": {},
   "source": [
    "## Set"
   ]
  },
  {
   "cell_type": "code",
   "execution_count": 10,
   "id": "91e8235c",
   "metadata": {},
   "outputs": [
    {
     "name": "stdout",
     "output_type": "stream",
     "text": [
      "{10, 11, 12, 13, 14, 15, 16, 17, 18, 19}\n"
     ]
    }
   ],
   "source": [
    "s1 = set(range(10,20))\n",
    "\n",
    "print(s1)"
   ]
  },
  {
   "cell_type": "code",
   "execution_count": 11,
   "id": "93d6b8d9",
   "metadata": {},
   "outputs": [
    {
     "data": {
      "text/plain": [
       "{10, 20, 'Husain', True, 'Uwaish'}"
      ]
     },
     "execution_count": 11,
     "metadata": {},
     "output_type": "execute_result"
    }
   ],
   "source": [
    "s2 = {10,20,'Uwaish','Husain',True}\n",
    "\n",
    "s2"
   ]
  },
  {
   "cell_type": "code",
   "execution_count": 12,
   "id": "0ceb67c8",
   "metadata": {},
   "outputs": [
    {
     "data": {
      "text/plain": [
       "set"
      ]
     },
     "execution_count": 12,
     "metadata": {},
     "output_type": "execute_result"
    }
   ],
   "source": [
    "type(s2)"
   ]
  },
  {
   "cell_type": "code",
   "execution_count": 13,
   "id": "fb576be4",
   "metadata": {},
   "outputs": [
    {
     "data": {
      "text/plain": [
       "{10, 11, 12, 13, 14, 15, 16, 17, 18, 19, 100}"
      ]
     },
     "execution_count": 13,
     "metadata": {},
     "output_type": "execute_result"
    }
   ],
   "source": [
    "# adding a new element\n",
    "\n",
    "s1.add(100)\n",
    "\n",
    "s1"
   ]
  },
  {
   "cell_type": "code",
   "execution_count": 14,
   "id": "d3aceaad",
   "metadata": {},
   "outputs": [],
   "source": [
    "s1.add(2)"
   ]
  },
  {
   "cell_type": "code",
   "execution_count": 15,
   "id": "056f4754",
   "metadata": {},
   "outputs": [
    {
     "data": {
      "text/plain": [
       "{2, 10, 11, 12, 13, 14, 15, 16, 17, 18, 19, 100}"
      ]
     },
     "execution_count": 15,
     "metadata": {},
     "output_type": "execute_result"
    }
   ],
   "source": [
    "s1"
   ]
  },
  {
   "cell_type": "code",
   "execution_count": 16,
   "id": "723e9861",
   "metadata": {},
   "outputs": [
    {
     "data": {
      "text/plain": [
       "{1, 2, 3, 4}"
      ]
     },
     "execution_count": 16,
     "metadata": {},
     "output_type": "execute_result"
    }
   ],
   "source": [
    "s3 = {1,1,1,2,3,4,4,4}\n",
    "\n",
    "s3"
   ]
  },
  {
   "cell_type": "code",
   "execution_count": 17,
   "id": "fc2b0736",
   "metadata": {},
   "outputs": [
    {
     "ename": "TypeError",
     "evalue": "'set' object is not subscriptable",
     "output_type": "error",
     "traceback": [
      "\u001b[1;31m---------------------------------------------------------------------------\u001b[0m",
      "\u001b[1;31mTypeError\u001b[0m                                 Traceback (most recent call last)",
      "Cell \u001b[1;32mIn[17], line 1\u001b[0m\n\u001b[1;32m----> 1\u001b[0m s3[\u001b[38;5;241m0\u001b[39m]\n",
      "\u001b[1;31mTypeError\u001b[0m: 'set' object is not subscriptable"
     ]
    }
   ],
   "source": [
    "s3[0]  # set are non indexable"
   ]
  },
  {
   "cell_type": "code",
   "execution_count": 18,
   "id": "557d688b",
   "metadata": {},
   "outputs": [
    {
     "data": {
      "text/plain": [
       "{2, 10, 11, 12, 14, 15, 16, 17, 18, 19, 100}"
      ]
     },
     "execution_count": 18,
     "metadata": {},
     "output_type": "execute_result"
    }
   ],
   "source": [
    "# deleting an ele\n",
    "\n",
    "s1.remove(13)\n",
    "\n",
    "s1"
   ]
  },
  {
   "cell_type": "code",
   "execution_count": 19,
   "id": "12863011",
   "metadata": {},
   "outputs": [
    {
     "data": {
      "text/plain": [
       "{10, 11, 12, 14, 15, 16, 17, 18, 19, 100}"
      ]
     },
     "execution_count": 19,
     "metadata": {},
     "output_type": "execute_result"
    }
   ],
   "source": [
    "s1.remove(2)\n",
    "\n",
    "s1"
   ]
  },
  {
   "cell_type": "code",
   "execution_count": 20,
   "id": "74da6d40",
   "metadata": {},
   "outputs": [
    {
     "name": "stdout",
     "output_type": "stream",
     "text": [
      "{5, 6, 7, 8, 9, 10, 11, 12, 13, 14}\n",
      "{10, 11, 12, 13, 14, 15, 16, 17, 18, 19}\n"
     ]
    }
   ],
   "source": [
    "s1 = set(range(5,15))\n",
    "s2 = set(range(10,20))\n",
    "\n",
    "print(s1)\n",
    "print(s2)"
   ]
  },
  {
   "cell_type": "code",
   "execution_count": 21,
   "id": "f0a5817c",
   "metadata": {},
   "outputs": [
    {
     "data": {
      "text/plain": [
       "{5, 6, 7, 8, 9, 10, 11, 12, 13, 14, 15, 16, 17, 18, 19}"
      ]
     },
     "execution_count": 21,
     "metadata": {},
     "output_type": "execute_result"
    }
   ],
   "source": [
    "# union\n",
    "\n",
    "s1.union(s2)"
   ]
  },
  {
   "cell_type": "code",
   "execution_count": 22,
   "id": "c0394669",
   "metadata": {},
   "outputs": [
    {
     "data": {
      "text/plain": [
       "{10, 11, 12, 13, 14}"
      ]
     },
     "execution_count": 22,
     "metadata": {},
     "output_type": "execute_result"
    }
   ],
   "source": [
    "# intersection\n",
    "\n",
    "s1.intersection(s2)"
   ]
  },
  {
   "cell_type": "code",
   "execution_count": 23,
   "id": "d8afb62b",
   "metadata": {},
   "outputs": [
    {
     "data": {
      "text/plain": [
       "{5, 6, 7, 8, 9}"
      ]
     },
     "execution_count": 23,
     "metadata": {},
     "output_type": "execute_result"
    }
   ],
   "source": [
    "# difference\n",
    "\n",
    "s1.difference(s2)"
   ]
  },
  {
   "cell_type": "markdown",
   "id": "e03804e5",
   "metadata": {},
   "source": [
    "**WAP to create a set of numbers from 50 to 100 and then perform below tasks:**\n",
    "\n",
    "- Display entire set\n",
    "- Add your name to set\n",
    "- Delete 67 from set\n",
    "- Create another set of 70 to 120 and perform union, intersection, and difference operations"
   ]
  },
  {
   "cell_type": "code",
   "execution_count": 25,
   "id": "048c4c80",
   "metadata": {},
   "outputs": [
    {
     "name": "stdout",
     "output_type": "stream",
     "text": [
      "The set is: {50, 51, 52, 53, 54, 55, 56, 57, 58, 59, 60, 61, 62, 63, 64, 65, 66, 67, 68, 69, 70, 71, 72, 73, 74, 75, 76, 77, 78, 79, 80, 81, 82, 83, 84, 85, 86, 87, 88, 89, 90, 91, 92, 93, 94, 95, 96, 97, 98, 99}\n",
      "\n",
      "Set after adding name: {50, 51, 52, 53, 54, 55, 56, 57, 58, 59, 60, 61, 62, 63, 64, 65, 66, 67, 68, 69, 70, 71, 72, 73, 74, 75, 76, 77, 78, 79, 80, 81, 82, 83, 84, 85, 86, 87, 88, 89, 90, 91, 92, 93, 94, 95, 96, 97, 98, 99, 'Uwaish Husain'}\n",
      "\n",
      "Set after removing 67 is: {50, 51, 52, 53, 54, 55, 56, 57, 58, 59, 60, 61, 62, 63, 64, 65, 66, 68, 69, 70, 71, 72, 73, 74, 75, 76, 77, 78, 79, 80, 81, 82, 83, 84, 85, 86, 87, 88, 89, 90, 91, 92, 93, 94, 95, 96, 97, 98, 99, 'Uwaish Husain'}\n",
      "\n",
      "Union: {50, 51, 52, 53, 54, 55, 56, 57, 58, 59, 60, 61, 62, 63, 64, 65, 66, 68, 69, 70, 71, 72, 73, 74, 75, 76, 77, 78, 79, 80, 81, 82, 83, 84, 85, 86, 87, 88, 89, 90, 91, 92, 93, 94, 95, 96, 97, 98, 99, 100, 101, 102, 103, 104, 105, 106, 107, 108, 'Uwaish Husain', 109, 110, 111, 112, 113, 114, 115, 116, 117, 118, 119, 120}\n",
      "\n",
      "Intersection: {70, 71, 72, 73, 74, 75, 76, 77, 78, 79, 80, 81, 82, 83, 84, 85, 86, 87, 88, 89, 90, 91, 92, 93, 94, 95, 96, 97, 98, 99}\n",
      "\n",
      "Difference: {50, 51, 52, 53, 54, 55, 56, 57, 58, 59, 60, 61, 62, 63, 64, 65, 66, 68, 69, 'Uwaish Husain'}\n"
     ]
    }
   ],
   "source": [
    "s1 = set(range(50,100))\n",
    "print(\"The set is:\",s1)\n",
    "\n",
    "s1.add(\"Uwaish Husain\")\n",
    "print(\"\\nSet after adding name:\",s1)\n",
    "\n",
    "s1.remove(67)\n",
    "print(\"\\nSet after removing 67 is:\",s1)\n",
    "\n",
    "s2 = set(range(70,121))\n",
    "\n",
    "print(\"\\nUnion:\",s1.union(s2))\n",
    "print(\"\\nIntersection:\",s1.intersection(s2))\n",
    "print(\"\\nDifference:\",s1.difference(s2))"
   ]
  },
  {
   "cell_type": "code",
   "execution_count": 26,
   "id": "f9876f7e",
   "metadata": {},
   "outputs": [
    {
     "ename": "TypeError",
     "evalue": "unhashable type: 'set'",
     "output_type": "error",
     "traceback": [
      "\u001b[1;31m---------------------------------------------------------------------------\u001b[0m",
      "\u001b[1;31mTypeError\u001b[0m                                 Traceback (most recent call last)",
      "Cell \u001b[1;32mIn[26], line 1\u001b[0m\n\u001b[1;32m----> 1\u001b[0m s \u001b[38;5;241m=\u001b[39m {\u001b[38;5;241m1\u001b[39m,\u001b[38;5;241m2\u001b[39m,{\u001b[38;5;241m4\u001b[39m,\u001b[38;5;241m5\u001b[39m,},\u001b[38;5;241m7\u001b[39m,\u001b[38;5;241m8\u001b[39m}\n\u001b[0;32m      3\u001b[0m s\n",
      "\u001b[1;31mTypeError\u001b[0m: unhashable type: 'set'"
     ]
    }
   ],
   "source": [
    "s = {1,2,{4,5,},7,8}\n",
    "\n",
    "s"
   ]
  },
  {
   "cell_type": "markdown",
   "id": "b2518ce2",
   "metadata": {},
   "source": [
    "**Create a list which contains unique elements from both lists**\n",
    "\n",
    "li1 = [10,20,30,40]\n",
    "\n",
    "li2 = [30,40,50,60]"
   ]
  },
  {
   "cell_type": "code",
   "execution_count": 27,
   "id": "52390831",
   "metadata": {},
   "outputs": [
    {
     "name": "stdout",
     "output_type": "stream",
     "text": [
      "Both list element: [10, 20, 30, 40, 30, 40, 50, 60]\n",
      "Unique elements of lists are: {40, 10, 50, 20, 60, 30}\n",
      "The final list will be: [40, 10, 50, 20, 60, 30]\n"
     ]
    }
   ],
   "source": [
    "li1 = [10,20,30,40]\n",
    "\n",
    "li2 = [30,40,50,60]\n",
    "\n",
    "li3 = li1+li2\n",
    "\n",
    "print(\"Both list element:\",li3)\n",
    "\n",
    "s1 = set(li3)\n",
    "\n",
    "print(\"Unique elements of lists are:\",s1)\n",
    "\n",
    "print(\"The final list will be:\",list(s1))"
   ]
  },
  {
   "cell_type": "code",
   "execution_count": 28,
   "id": "45f0fe75",
   "metadata": {},
   "outputs": [
    {
     "data": {
      "text/plain": [
       "list"
      ]
     },
     "execution_count": 28,
     "metadata": {},
     "output_type": "execute_result"
    }
   ],
   "source": [
    "li = []\n",
    "\n",
    "type(li)"
   ]
  },
  {
   "cell_type": "code",
   "execution_count": 29,
   "id": "c3d8e8a6",
   "metadata": {},
   "outputs": [
    {
     "data": {
      "text/plain": [
       "tuple"
      ]
     },
     "execution_count": 29,
     "metadata": {},
     "output_type": "execute_result"
    }
   ],
   "source": [
    "tup = ()\n",
    "\n",
    "type(tup)"
   ]
  },
  {
   "cell_type": "code",
   "execution_count": 31,
   "id": "ebc6e15f",
   "metadata": {},
   "outputs": [
    {
     "data": {
      "text/plain": [
       "dict"
      ]
     },
     "execution_count": 31,
     "metadata": {},
     "output_type": "execute_result"
    }
   ],
   "source": [
    "s = {}\n",
    "\n",
    "type(s)"
   ]
  },
  {
   "cell_type": "code",
   "execution_count": 32,
   "id": "6d5fedb4",
   "metadata": {},
   "outputs": [
    {
     "data": {
      "text/plain": [
       "set"
      ]
     },
     "execution_count": 32,
     "metadata": {},
     "output_type": "execute_result"
    }
   ],
   "source": [
    "s = set()\n",
    "\n",
    "type(s)"
   ]
  },
  {
   "cell_type": "markdown",
   "id": "19d29e62",
   "metadata": {},
   "source": [
    "## Dictionary"
   ]
  },
  {
   "cell_type": "code",
   "execution_count": 33,
   "id": "0376449d",
   "metadata": {},
   "outputs": [
    {
     "data": {
      "text/plain": [
       "{'Name': 'Uwaish', 'age': 29}"
      ]
     },
     "execution_count": 33,
     "metadata": {},
     "output_type": "execute_result"
    }
   ],
   "source": [
    "di = {'Name':'Uwaish','age':29}\n",
    "\n",
    "di"
   ]
  },
  {
   "cell_type": "code",
   "execution_count": 34,
   "id": "4f2034c1",
   "metadata": {},
   "outputs": [
    {
     "data": {
      "text/plain": [
       "dict"
      ]
     },
     "execution_count": 34,
     "metadata": {},
     "output_type": "execute_result"
    }
   ],
   "source": [
    "type(di)"
   ]
  },
  {
   "cell_type": "code",
   "execution_count": 35,
   "id": "a330bf8e",
   "metadata": {},
   "outputs": [
    {
     "data": {
      "text/plain": [
       "2"
      ]
     },
     "execution_count": 35,
     "metadata": {},
     "output_type": "execute_result"
    }
   ],
   "source": [
    "len(di)"
   ]
  },
  {
   "cell_type": "code",
   "execution_count": 36,
   "id": "1d43b2c6",
   "metadata": {},
   "outputs": [
    {
     "data": {
      "text/plain": [
       "{'Name': ['Uwaish', 'Husain', 'Khan'],\n",
       " 'Age': [20, 21, 22],\n",
       " 'Gender': ['M', 'M', 'F']}"
      ]
     },
     "execution_count": 36,
     "metadata": {},
     "output_type": "execute_result"
    }
   ],
   "source": [
    "di2 = {'Name':['Uwaish','Husain','Khan'],\n",
    "      'Age':[20,21,22],\n",
    "      'Gender':['M','M','F']}\n",
    "\n",
    "di2"
   ]
  },
  {
   "cell_type": "code",
   "execution_count": 37,
   "id": "cf2774fd",
   "metadata": {},
   "outputs": [
    {
     "data": {
      "text/plain": [
       "dict"
      ]
     },
     "execution_count": 37,
     "metadata": {},
     "output_type": "execute_result"
    }
   ],
   "source": [
    "type(di2)"
   ]
  },
  {
   "cell_type": "code",
   "execution_count": 38,
   "id": "9e2ce81d",
   "metadata": {},
   "outputs": [
    {
     "data": {
      "text/plain": [
       "['Uwaish', 'Husain', 'Khan']"
      ]
     },
     "execution_count": 38,
     "metadata": {},
     "output_type": "execute_result"
    }
   ],
   "source": [
    "# display names from di2\n",
    "\n",
    "di2['Name']"
   ]
  },
  {
   "cell_type": "code",
   "execution_count": 39,
   "id": "edf9086e",
   "metadata": {},
   "outputs": [
    {
     "data": {
      "text/plain": [
       "[20, 21, 22]"
      ]
     },
     "execution_count": 39,
     "metadata": {},
     "output_type": "execute_result"
    }
   ],
   "source": [
    "# display age from di2\n",
    "\n",
    "di2['Age']"
   ]
  },
  {
   "cell_type": "code",
   "execution_count": 40,
   "id": "c278d5ef",
   "metadata": {},
   "outputs": [
    {
     "data": {
      "text/plain": [
       "[20, 21, 22]"
      ]
     },
     "execution_count": 40,
     "metadata": {},
     "output_type": "execute_result"
    }
   ],
   "source": [
    "di2.get('Age')"
   ]
  },
  {
   "cell_type": "code",
   "execution_count": 41,
   "id": "168b309f",
   "metadata": {},
   "outputs": [
    {
     "data": {
      "text/plain": [
       "{'Name': 'Uwaish', 'age': 29}"
      ]
     },
     "execution_count": 41,
     "metadata": {},
     "output_type": "execute_result"
    }
   ],
   "source": [
    "di"
   ]
  },
  {
   "cell_type": "code",
   "execution_count": 42,
   "id": "ed0ad87f",
   "metadata": {},
   "outputs": [
    {
     "data": {
      "text/plain": [
       "'Uwaish'"
      ]
     },
     "execution_count": 42,
     "metadata": {},
     "output_type": "execute_result"
    }
   ],
   "source": [
    "di['Name']"
   ]
  },
  {
   "cell_type": "code",
   "execution_count": 43,
   "id": "11855e4a",
   "metadata": {},
   "outputs": [
    {
     "data": {
      "text/plain": [
       "{'Name': 'Test', 'age': 29}"
      ]
     },
     "execution_count": 43,
     "metadata": {},
     "output_type": "execute_result"
    }
   ],
   "source": [
    "di['Name'] = 'Test'\n",
    "\n",
    "di"
   ]
  },
  {
   "cell_type": "code",
   "execution_count": 44,
   "id": "60b1bfb5",
   "metadata": {},
   "outputs": [
    {
     "data": {
      "text/plain": [
       "{'Name': 'Test', 'age': 33}"
      ]
     },
     "execution_count": 44,
     "metadata": {},
     "output_type": "execute_result"
    }
   ],
   "source": [
    "di['age'] = 33\n",
    "\n",
    "di"
   ]
  },
  {
   "cell_type": "code",
   "execution_count": 45,
   "id": "9952cf6e",
   "metadata": {},
   "outputs": [
    {
     "data": {
      "text/plain": [
       "{'Name': ['Uwaish', 'Husain', 'Khan'],\n",
       " 'Age': [20, 21, 22],\n",
       " 'Gender': ['M', 'M', 'F']}"
      ]
     },
     "execution_count": 45,
     "metadata": {},
     "output_type": "execute_result"
    }
   ],
   "source": [
    "di2"
   ]
  },
  {
   "cell_type": "code",
   "execution_count": 46,
   "id": "401ddb5a",
   "metadata": {},
   "outputs": [
    {
     "data": {
      "text/plain": [
       "['Uwaish', 'Husain', 'Khan']"
      ]
     },
     "execution_count": 46,
     "metadata": {},
     "output_type": "execute_result"
    }
   ],
   "source": [
    "# change the Husain to Pasha\n",
    "\n",
    "di2['Name']"
   ]
  },
  {
   "cell_type": "code",
   "execution_count": 47,
   "id": "1d61f286",
   "metadata": {},
   "outputs": [
    {
     "data": {
      "text/plain": [
       "'Husain'"
      ]
     },
     "execution_count": 47,
     "metadata": {},
     "output_type": "execute_result"
    }
   ],
   "source": [
    "di2['Name'][1]"
   ]
  },
  {
   "cell_type": "code",
   "execution_count": 48,
   "id": "1903160a",
   "metadata": {},
   "outputs": [
    {
     "data": {
      "text/plain": [
       "{'Name': ['Uwaish', 'Pasha', 'Khan'],\n",
       " 'Age': [20, 21, 22],\n",
       " 'Gender': ['M', 'M', 'F']}"
      ]
     },
     "execution_count": 48,
     "metadata": {},
     "output_type": "execute_result"
    }
   ],
   "source": [
    "di2['Name'][1] = 'Pasha'\n",
    "\n",
    "di2"
   ]
  },
  {
   "cell_type": "code",
   "execution_count": 49,
   "id": "198bb996",
   "metadata": {},
   "outputs": [
    {
     "data": {
      "text/plain": [
       "{'Name': 'Test', 'age': 33}"
      ]
     },
     "execution_count": 49,
     "metadata": {},
     "output_type": "execute_result"
    }
   ],
   "source": [
    "di"
   ]
  },
  {
   "cell_type": "code",
   "execution_count": 50,
   "id": "d455327c",
   "metadata": {},
   "outputs": [
    {
     "data": {
      "text/plain": [
       "{'Name': 'Test', 'age': 33, 'gender': 'Male'}"
      ]
     },
     "execution_count": 50,
     "metadata": {},
     "output_type": "execute_result"
    }
   ],
   "source": [
    "di['gender'] = 'Male'\n",
    "\n",
    "di"
   ]
  },
  {
   "cell_type": "code",
   "execution_count": 51,
   "id": "56fa7bc4",
   "metadata": {},
   "outputs": [
    {
     "data": {
      "text/plain": [
       "{'Name': ['Uwaish', 'Pasha', 'Khan'],\n",
       " 'Age': [20, 21, 22],\n",
       " 'Gender': ['M', 'M', 'F']}"
      ]
     },
     "execution_count": 51,
     "metadata": {},
     "output_type": "execute_result"
    }
   ],
   "source": [
    "di2"
   ]
  },
  {
   "cell_type": "code",
   "execution_count": 52,
   "id": "2c4485f5",
   "metadata": {},
   "outputs": [
    {
     "data": {
      "text/plain": [
       "{'Name': ['Uwaish', 'Pasha', 'Khan'],\n",
       " 'Age': [20, 21, 22],\n",
       " 'Gender': ['M', 'M', 'F'],\n",
       " 'Salary': [100, 200, 300]}"
      ]
     },
     "execution_count": 52,
     "metadata": {},
     "output_type": "execute_result"
    }
   ],
   "source": [
    "di2['Salary'] = [100,200,300]\n",
    "\n",
    "di2"
   ]
  },
  {
   "cell_type": "code",
   "execution_count": 53,
   "id": "d2ffa6e9",
   "metadata": {},
   "outputs": [
    {
     "data": {
      "text/plain": [
       "{'Name': ['Uwaish', 'Pasha', 'Khan'],\n",
       " 'Gender': ['M', 'M', 'F'],\n",
       " 'Salary': [100, 200, 300]}"
      ]
     },
     "execution_count": 53,
     "metadata": {},
     "output_type": "execute_result"
    }
   ],
   "source": [
    "di2.pop('Age')\n",
    "\n",
    "di2"
   ]
  },
  {
   "cell_type": "code",
   "execution_count": 54,
   "id": "8649ebb4",
   "metadata": {},
   "outputs": [
    {
     "data": {
      "text/plain": [
       "dict_keys(['Name', 'Gender', 'Salary'])"
      ]
     },
     "execution_count": 54,
     "metadata": {},
     "output_type": "execute_result"
    }
   ],
   "source": [
    "# display all the keys\n",
    "\n",
    "di2.keys()"
   ]
  },
  {
   "cell_type": "markdown",
   "id": "0cda0929",
   "metadata": {},
   "source": [
    "**WAP to create a dict of tuple where keys are: e_id, name, role, and salary. perform the following tasks:**\n",
    "\n",
    "- Display the dictionay and its type\n",
    "- Display total no. of records/values\n",
    "- Display total no. of keys/item\n",
    "- Display the second name from the dictionary\n",
    "- Change the last name with test\n",
    "- Add a new key \"Ratings\"\n",
    "- Delete role from the dict\n",
    "- Dsiplay all the keys"
   ]
  },
  {
   "cell_type": "code",
   "execution_count": 56,
   "id": "fe23a96f",
   "metadata": {},
   "outputs": [
    {
     "name": "stdout",
     "output_type": "stream",
     "text": [
      "{'e_id': (101, 102, 103), 'name': ('Uwaish', 'Husain', 'Raza'), 'role': ('DS', 'DA', 'AI'), 'salary': (100, 200, 300)}\n",
      "<class 'dict'>\n"
     ]
    }
   ],
   "source": [
    "di = {'e_id':(101,102,103),\n",
    "     'name':('Uwaish','Husain','Raza'),\n",
    "     'role':('DS','DA','AI'),\n",
    "     'salary':(100,200,300)}\n",
    "\n",
    "print(di)\n",
    "print(type(di))"
   ]
  },
  {
   "cell_type": "code",
   "execution_count": 58,
   "id": "ecd2d9b0",
   "metadata": {},
   "outputs": [
    {
     "data": {
      "text/plain": [
       "3"
      ]
     },
     "execution_count": 58,
     "metadata": {},
     "output_type": "execute_result"
    }
   ],
   "source": [
    "# no. of records\n",
    "\n",
    "len(di['e_id'])"
   ]
  },
  {
   "cell_type": "code",
   "execution_count": 59,
   "id": "295fce07",
   "metadata": {},
   "outputs": [
    {
     "data": {
      "text/plain": [
       "4"
      ]
     },
     "execution_count": 59,
     "metadata": {},
     "output_type": "execute_result"
    }
   ],
   "source": [
    "# no. of keys\n",
    "\n",
    "len(di)"
   ]
  },
  {
   "cell_type": "code",
   "execution_count": 61,
   "id": "db96dc47",
   "metadata": {},
   "outputs": [
    {
     "data": {
      "text/plain": [
       "'Husain'"
      ]
     },
     "execution_count": 61,
     "metadata": {},
     "output_type": "execute_result"
    }
   ],
   "source": [
    "# second name\n",
    "\n",
    "di['name'][1]"
   ]
  },
  {
   "cell_type": "code",
   "execution_count": 62,
   "id": "d542e6e6",
   "metadata": {},
   "outputs": [
    {
     "ename": "TypeError",
     "evalue": "'tuple' object does not support item assignment",
     "output_type": "error",
     "traceback": [
      "\u001b[1;31m---------------------------------------------------------------------------\u001b[0m",
      "\u001b[1;31mTypeError\u001b[0m                                 Traceback (most recent call last)",
      "Cell \u001b[1;32mIn[62], line 3\u001b[0m\n\u001b[0;32m      1\u001b[0m \u001b[38;5;66;03m# change last name with test\u001b[39;00m\n\u001b[1;32m----> 3\u001b[0m di[\u001b[38;5;124m'\u001b[39m\u001b[38;5;124mname\u001b[39m\u001b[38;5;124m'\u001b[39m][\u001b[38;5;241m-\u001b[39m\u001b[38;5;241m1\u001b[39m] \u001b[38;5;241m=\u001b[39m \u001b[38;5;124m'\u001b[39m\u001b[38;5;124mtest\u001b[39m\u001b[38;5;124m'\u001b[39m\n\u001b[0;32m      5\u001b[0m di\n",
      "\u001b[1;31mTypeError\u001b[0m: 'tuple' object does not support item assignment"
     ]
    }
   ],
   "source": [
    "# change last name with test\n",
    "\n",
    "di['name'][-1] = 'test'\n",
    "\n",
    "di   # tuple is unmutable"
   ]
  },
  {
   "cell_type": "code",
   "execution_count": 63,
   "id": "540746c4",
   "metadata": {},
   "outputs": [
    {
     "data": {
      "text/plain": [
       "{'e_id': (101, 102, 103),\n",
       " 'name': ('Uwaish', 'Husain', 'Raza'),\n",
       " 'role': ('DS', 'DA', 'AI'),\n",
       " 'salary': (100, 200, 300),\n",
       " 'Ratings': [4, 3.5, 4]}"
      ]
     },
     "execution_count": 63,
     "metadata": {},
     "output_type": "execute_result"
    }
   ],
   "source": [
    "# new key\n",
    "\n",
    "di['Ratings'] = [4,3.5,4]\n",
    "\n",
    "di"
   ]
  },
  {
   "cell_type": "code",
   "execution_count": 64,
   "id": "f6b4f57e",
   "metadata": {},
   "outputs": [
    {
     "data": {
      "text/plain": [
       "{'e_id': (101, 102, 103),\n",
       " 'name': ('Uwaish', 'Husain', 'Raza'),\n",
       " 'salary': (100, 200, 300),\n",
       " 'Ratings': [4, 3.5, 4]}"
      ]
     },
     "execution_count": 64,
     "metadata": {},
     "output_type": "execute_result"
    }
   ],
   "source": [
    "# delete role\n",
    "\n",
    "di.pop('role')\n",
    "\n",
    "di"
   ]
  },
  {
   "cell_type": "code",
   "execution_count": 65,
   "id": "f7842ae2",
   "metadata": {},
   "outputs": [
    {
     "data": {
      "text/plain": [
       "dict_keys(['e_id', 'name', 'salary', 'Ratings'])"
      ]
     },
     "execution_count": 65,
     "metadata": {},
     "output_type": "execute_result"
    }
   ],
   "source": [
    "# all the remaining keys\n",
    "\n",
    "di.keys()"
   ]
  },
  {
   "cell_type": "code",
   "execution_count": 66,
   "id": "d160f231",
   "metadata": {},
   "outputs": [
    {
     "data": {
      "text/plain": [
       "dict_values([(101, 102, 103), ('Uwaish', 'Husain', 'Raza'), (100, 200, 300), [4, 3.5, 4]])"
      ]
     },
     "execution_count": 66,
     "metadata": {},
     "output_type": "execute_result"
    }
   ],
   "source": [
    "di.values()"
   ]
  },
  {
   "cell_type": "code",
   "execution_count": null,
   "id": "286a1459",
   "metadata": {},
   "outputs": [],
   "source": []
  }
 ],
 "metadata": {
  "kernelspec": {
   "display_name": "Python 3 (ipykernel)",
   "language": "python",
   "name": "python3"
  },
  "language_info": {
   "codemirror_mode": {
    "name": "ipython",
    "version": 3
   },
   "file_extension": ".py",
   "mimetype": "text/x-python",
   "name": "python",
   "nbconvert_exporter": "python",
   "pygments_lexer": "ipython3",
   "version": "3.13.5"
  }
 },
 "nbformat": 4,
 "nbformat_minor": 5
}
