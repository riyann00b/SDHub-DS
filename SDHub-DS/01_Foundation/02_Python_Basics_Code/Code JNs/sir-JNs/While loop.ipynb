{
 "cells": [
  {
   "cell_type": "markdown",
   "id": "61342900",
   "metadata": {},
   "source": [
    "**WAP to receive name from user and check if starts and ends with a vowel if yes then ask for user's age and check whether it is above 50 or not if it is above 50 then check for no. of children, If user has more than 2 children then allow user for special status**"
   ]
  },
  {
   "cell_type": "code",
   "execution_count": 7,
   "id": "502f7675",
   "metadata": {},
   "outputs": [
    {
     "name": "stdout",
     "output_type": "stream",
     "text": [
      "Please enter your name:Aisha\n",
      "Name starts and ends with a vowel\n",
      "Please enter your age:50\n",
      "You are above 50\n",
      "Please enter the count of your children:2\n",
      "You are not allowed in special category!\n"
     ]
    }
   ],
   "source": [
    "name = input(\"Please enter your name:\")\n",
    "\n",
    "vowels = 'aeiou'\n",
    "\n",
    "if name[0].lower() in vowels and name[-1].lower() in vowels:\n",
    "    \n",
    "    print(\"Name starts and ends with a vowel\")\n",
    "    age = int(input(\"Please enter your age:\"))\n",
    "    if age>=50: \n",
    "        print(\"You are above 50\")\n",
    "        \n",
    "        children = int(input(\"Please enter the count of your children:\"))\n",
    "        if children>3:\n",
    "            print(\"You are in special category!\")\n",
    "            \n",
    "        else:\n",
    "            print(\"You are not allowed in special category!\")\n",
    "            \n",
    "    else:\n",
    "        print(\"You are below 50\")   \n",
    "else:\n",
    "    \n",
    "    print(\"Name starts/ends with a consonant\")"
   ]
  },
  {
   "cell_type": "markdown",
   "id": "38e82705",
   "metadata": {},
   "source": [
    "# Control Flow Prog"
   ]
  },
  {
   "cell_type": "code",
   "execution_count": 8,
   "id": "d367afad",
   "metadata": {},
   "outputs": [
    {
     "name": "stdout",
     "output_type": "stream",
     "text": [
      "1\n",
      "2\n",
      "---\n",
      "10\n"
     ]
    }
   ],
   "source": [
    "# display 1 to 10\n",
    "\n",
    "print(1)\n",
    "print(2)\n",
    "print(\"---\")\n",
    "print(10)"
   ]
  },
  {
   "cell_type": "code",
   "execution_count": 9,
   "id": "8f6a747a",
   "metadata": {},
   "outputs": [
    {
     "name": "stdout",
     "output_type": "stream",
     "text": [
      "1\n",
      "2\n",
      "3\n",
      "4\n",
      "5\n",
      "6\n",
      "7\n",
      "8\n",
      "9\n",
      "10\n"
     ]
    }
   ],
   "source": [
    "num = 1 # initialization\n",
    "\n",
    "while num <= 10: # condition\n",
    "    \n",
    "    print(num)\n",
    "    num+=1 #operation"
   ]
  },
  {
   "cell_type": "code",
   "execution_count": 10,
   "id": "3b4409f0",
   "metadata": {},
   "outputs": [
    {
     "name": "stdout",
     "output_type": "stream",
     "text": [
      "10\n",
      "9\n",
      "8\n",
      "7\n",
      "6\n",
      "5\n",
      "4\n",
      "3\n",
      "2\n",
      "1\n"
     ]
    }
   ],
   "source": [
    "num = 10 # initialization\n",
    "\n",
    "while num >= 1: # condition\n",
    "    \n",
    "    print(num)\n",
    "    num-=1 #operation"
   ]
  },
  {
   "cell_type": "code",
   "execution_count": 12,
   "id": "2a5ac2e5",
   "metadata": {},
   "outputs": [
    {
     "name": "stdout",
     "output_type": "stream",
     "text": [
      "10\n",
      "12\n",
      "14\n",
      "16\n",
      "18\n",
      "20\n",
      "22\n",
      "24\n",
      "26\n",
      "28\n",
      "30\n"
     ]
    }
   ],
   "source": [
    "# display even numbers between 10 to 30 using while loop\n",
    "\n",
    "num = 10\n",
    "\n",
    "while num<=30:\n",
    "    \n",
    "    print(num)\n",
    "    \n",
    "    num+=2"
   ]
  },
  {
   "cell_type": "markdown",
   "id": "5897fe2c",
   "metadata": {},
   "source": [
    "**WAP to receive start and end point from user and the display all the natural numbers between the range**"
   ]
  },
  {
   "cell_type": "code",
   "execution_count": 13,
   "id": "57fa3330",
   "metadata": {},
   "outputs": [
    {
     "name": "stdout",
     "output_type": "stream",
     "text": [
      "Please enter the first value:1\n",
      "Please enter the last value:5\n",
      "1\n",
      "2\n",
      "3\n",
      "4\n",
      "5\n"
     ]
    }
   ],
   "source": [
    "start = int(input(\"Please enter the first value:\"))\n",
    "end = int(input(\"Please enter the last value:\"))\n",
    "\n",
    "while start<=end:\n",
    "    \n",
    "    print(start)\n",
    "    \n",
    "    start+=1"
   ]
  },
  {
   "cell_type": "code",
   "execution_count": 20,
   "id": "2fb9c6f8",
   "metadata": {},
   "outputs": [
    {
     "name": "stdout",
     "output_type": "stream",
     "text": [
      "#\n",
      "##\n",
      "###\n",
      "####\n",
      "#####\n"
     ]
    }
   ],
   "source": [
    "num = 1 # initialization\n",
    "\n",
    "while num <= 5: # condition\n",
    "    \n",
    "    print('#'*num)\n",
    "    num+=1 #operation"
   ]
  },
  {
   "cell_type": "markdown",
   "id": "0d7481a8",
   "metadata": {},
   "source": [
    "**WAP to receive start and end value from user and label them as odd or even**\n",
    "\n",
    "expected output:\n",
    " \n",
    "- 1:odd\n",
    "- 2:even"
   ]
  },
  {
   "cell_type": "code",
   "execution_count": 23,
   "id": "08778699",
   "metadata": {},
   "outputs": [
    {
     "name": "stdout",
     "output_type": "stream",
     "text": [
      "Please enter the first value:2\n",
      "Please enter the last value:10\n",
      "2 :Even\n",
      "3 :Odd\n",
      "4 :Even\n",
      "5 :Odd\n",
      "6 :Even\n",
      "7 :Odd\n",
      "8 :Even\n",
      "9 :Odd\n",
      "10 :Even\n"
     ]
    }
   ],
   "source": [
    "start = int(input(\"Please enter the first value:\"))\n",
    "end = int(input(\"Please enter the last value:\"))\n",
    "\n",
    "while start<=end:\n",
    "    \n",
    "    if start%2==0:\n",
    "        \n",
    "        print(start,\":Even\")\n",
    "        \n",
    "    else:\n",
    "        \n",
    "        print(start,\":Odd\")\n",
    "    \n",
    "    start+=1"
   ]
  },
  {
   "cell_type": "code",
   "execution_count": null,
   "id": "8d7f7a09",
   "metadata": {},
   "outputs": [],
   "source": []
  }
 ],
 "metadata": {
  "kernelspec": {
   "display_name": "Python 3 (ipykernel)",
   "language": "python",
   "name": "python3"
  },
  "language_info": {
   "codemirror_mode": {
    "name": "ipython",
    "version": 3
   },
   "file_extension": ".py",
   "mimetype": "text/x-python",
   "name": "python",
   "nbconvert_exporter": "python",
   "pygments_lexer": "ipython3",
   "version": "3.11.5"
  }
 },
 "nbformat": 4,
 "nbformat_minor": 5
}
