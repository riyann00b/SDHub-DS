{
 "cells": [
  {
   "cell_type": "code",
   "execution_count": 1,
   "id": "89b9fd94",
   "metadata": {},
   "outputs": [
    {
     "name": "stdout",
     "output_type": "stream",
     "text": [
      "Faiz is not interested in marriage.\n"
     ]
    }
   ],
   "source": [
    "file = open(\"C:\\\\Users\\\\uwais\\\\Desktop\\\\faiz.txt\",'r')\n",
    "\n",
    "print(file.read())\n",
    "\n",
    "file.close()"
   ]
  },
  {
   "cell_type": "code",
   "execution_count": 2,
   "id": "087cd50c",
   "metadata": {},
   "outputs": [],
   "source": [
    "file = open(\"C:\\\\Users\\\\uwais\\\\Desktop\\\\faiz.txt\",'a')\n",
    "\n",
    "file.write(\"\\nFaiz is also not interested in enjoying rain\")\n",
    "\n",
    "file.close()"
   ]
  },
  {
   "cell_type": "code",
   "execution_count": 3,
   "id": "2a6bec62",
   "metadata": {},
   "outputs": [
    {
     "name": "stdout",
     "output_type": "stream",
     "text": [
      "Faiz is not interested in marriage.\n",
      "Faiz is also not interested in enjoying rain\n"
     ]
    }
   ],
   "source": [
    "file = open(\"C:\\\\Users\\\\uwais\\\\Desktop\\\\faiz.txt\",'r')\n",
    "\n",
    "print(file.read())\n",
    "\n",
    "file.close()"
   ]
  },
  {
   "cell_type": "markdown",
   "id": "4036fe5b",
   "metadata": {},
   "source": [
    "# try - finally"
   ]
  },
  {
   "cell_type": "code",
   "execution_count": 5,
   "id": "f83f1eb2",
   "metadata": {},
   "outputs": [
    {
     "name": "stdout",
     "output_type": "stream",
     "text": [
      "Faiz is not interested in marriage.\n",
      "Faiz is also not interested in enjoying rain\n",
      "\n",
      "File is closed!\n"
     ]
    }
   ],
   "source": [
    "try:\n",
    "    \n",
    "    file = open(\"C:\\\\Users\\\\uwais\\\\Desktop\\\\faiz.txt\",'r')\n",
    "    \n",
    "    print(file.read())\n",
    "    \n",
    "finally:\n",
    "    \n",
    "    file.close()\n",
    "    print(\"\\nFile is closed!\")"
   ]
  },
  {
   "cell_type": "markdown",
   "id": "97e806d5",
   "metadata": {},
   "source": [
    "**WAP to add one more line to existing file and read at the same time**"
   ]
  },
  {
   "cell_type": "code",
   "execution_count": 7,
   "id": "f2d6e7b5",
   "metadata": {},
   "outputs": [
    {
     "name": "stdout",
     "output_type": "stream",
     "text": [
      "Faiz is not interested in marriage.\n",
      "Faiz is also not interested in enjoying rain\n",
      "This is a new line to test try and finally.\n",
      "This is a new line to test try and finally.\n",
      "Closing the file...\n"
     ]
    }
   ],
   "source": [
    "try:\n",
    "    \n",
    "    file = open(\"C:\\\\Users\\\\uwais\\\\Desktop\\\\faiz.txt\",'a')\n",
    "    file.write(\"\\nThis is a new line to test try and finally.\")\n",
    "    \n",
    "finally:\n",
    "    \n",
    "    file = open(\"C:\\\\Users\\\\uwais\\\\Desktop\\\\faiz.txt\",'r')\n",
    "    print(file.read())\n",
    "    \n",
    "    print(\"Closing the file...\")\n",
    "    file.close()"
   ]
  },
  {
   "cell_type": "markdown",
   "id": "3d5782a3",
   "metadata": {},
   "source": [
    "## Exception Handling"
   ]
  },
  {
   "cell_type": "code",
   "execution_count": 8,
   "id": "51a86885",
   "metadata": {},
   "outputs": [
    {
     "name": "stdout",
     "output_type": "stream",
     "text": [
      "Please enter a value:123\n"
     ]
    }
   ],
   "source": [
    "num = int(input(\"Please enter a value:\"))"
   ]
  },
  {
   "cell_type": "code",
   "execution_count": 9,
   "id": "e66c88c3",
   "metadata": {},
   "outputs": [
    {
     "name": "stdout",
     "output_type": "stream",
     "text": [
      "Please enter a value:ygdyegf\n"
     ]
    },
    {
     "ename": "ValueError",
     "evalue": "invalid literal for int() with base 10: 'ygdyegf'",
     "output_type": "error",
     "traceback": [
      "\u001b[1;31m---------------------------------------------------------------------------\u001b[0m",
      "\u001b[1;31mValueError\u001b[0m                                Traceback (most recent call last)",
      "Cell \u001b[1;32mIn[9], line 1\u001b[0m\n\u001b[1;32m----> 1\u001b[0m num \u001b[38;5;241m=\u001b[39m \u001b[38;5;28mint\u001b[39m(\u001b[38;5;28minput\u001b[39m(\u001b[38;5;124m\"\u001b[39m\u001b[38;5;124mPlease enter a value:\u001b[39m\u001b[38;5;124m\"\u001b[39m))\n",
      "\u001b[1;31mValueError\u001b[0m: invalid literal for int() with base 10: 'ygdyegf'"
     ]
    }
   ],
   "source": [
    "num = int(input(\"Please enter a value:\"))"
   ]
  },
  {
   "cell_type": "code",
   "execution_count": 10,
   "id": "e94509fe",
   "metadata": {},
   "outputs": [
    {
     "name": "stdout",
     "output_type": "stream",
     "text": [
      "Please enter a value:hsjagdsgh\n",
      "Please enter the correct input!\n"
     ]
    }
   ],
   "source": [
    "try:\n",
    "    \n",
    "    num = int(input(\"Please enter a value:\"))\n",
    "    \n",
    "except ValueError:\n",
    "    \n",
    "    print(\"Please enter the correct input!\")"
   ]
  },
  {
   "cell_type": "markdown",
   "id": "4e8cca7b",
   "metadata": {},
   "source": [
    "**WAP to perform addition operation** Handle the exception if any "
   ]
  },
  {
   "cell_type": "code",
   "execution_count": 13,
   "id": "8f154498",
   "metadata": {},
   "outputs": [
    {
     "name": "stdout",
     "output_type": "stream",
     "text": [
      "Please enter a value:wreq23\n",
      "You have entered the incorrect input! \n"
     ]
    }
   ],
   "source": [
    "try:\n",
    "    \n",
    "    num1 = int(input(\"Please enter a value:\"))\n",
    "    num2 = int(input(\"Please enter a value:\"))\n",
    "    \n",
    "    print(\"The addition is:\",num1+num2)\n",
    "    \n",
    "except ValueError:\n",
    "    \n",
    "    print(\"You have entered the incorrect input! \")"
   ]
  },
  {
   "cell_type": "markdown",
   "id": "a79d29ba",
   "metadata": {},
   "source": [
    "**WAP to perform division operation and handle the error** "
   ]
  },
  {
   "cell_type": "code",
   "execution_count": 14,
   "id": "c8b4f71f",
   "metadata": {},
   "outputs": [
    {
     "ename": "ZeroDivisionError",
     "evalue": "division by zero",
     "output_type": "error",
     "traceback": [
      "\u001b[1;31m---------------------------------------------------------------------------\u001b[0m",
      "\u001b[1;31mZeroDivisionError\u001b[0m                         Traceback (most recent call last)",
      "Cell \u001b[1;32mIn[14], line 1\u001b[0m\n\u001b[1;32m----> 1\u001b[0m \u001b[38;5;241m3\u001b[39m\u001b[38;5;241m/\u001b[39m\u001b[38;5;241m0\u001b[39m\n",
      "\u001b[1;31mZeroDivisionError\u001b[0m: division by zero"
     ]
    }
   ],
   "source": [
    "3/0"
   ]
  },
  {
   "cell_type": "code",
   "execution_count": 17,
   "id": "a1813d51",
   "metadata": {},
   "outputs": [
    {
     "name": "stdout",
     "output_type": "stream",
     "text": [
      "Please enter a value:dfd\n",
      "You have entered the incorrect input! \n"
     ]
    }
   ],
   "source": [
    "try:\n",
    "    \n",
    "    num1 = int(input(\"Please enter a value:\"))\n",
    "    num2 = int(input(\"Please enter a value:\"))\n",
    "    \n",
    "    print(\"The division is:\",num1/num2)\n",
    "    \n",
    "except (ValueError, ZeroDivisionError):\n",
    "    \n",
    "    print(\"You have entered the incorrect input! \")"
   ]
  },
  {
   "cell_type": "markdown",
   "id": "17245437",
   "metadata": {},
   "source": [
    "**WAP to read a file dynamically, if not found then handle the error**"
   ]
  },
  {
   "cell_type": "code",
   "execution_count": 24,
   "id": "306b7917",
   "metadata": {},
   "outputs": [
    {
     "name": "stdout",
     "output_type": "stream",
     "text": [
      "Please enter the file name along with extensionintro.txt\n",
      "This is new textwing qualities:\n",
      "1. Nice to people\n",
      "2. Love sleeping\n",
      "I eat in the classroom\n",
      "3.I drink water onlyThis is new text\n"
     ]
    }
   ],
   "source": [
    "file_name = input(\"Please enter the file name along with extension\")\n",
    "\n",
    "file = open(file_name,'r')\n",
    "\n",
    "print(file.read())\n",
    "\n",
    "file.close()"
   ]
  },
  {
   "cell_type": "code",
   "execution_count": 26,
   "id": "7c370283",
   "metadata": {},
   "outputs": [
    {
     "name": "stdout",
     "output_type": "stream",
     "text": [
      "Please enter the file name along with extensiontestjsha.txt\n",
      "Please enter the correct filename or path!\n"
     ]
    }
   ],
   "source": [
    "try:\n",
    "    \n",
    "    file_name = input(\"Please enter the file name along with extension\")\n",
    "\n",
    "    file = open(file_name,'r')\n",
    "    print(file.read())\n",
    "    \n",
    "except FileNotFoundError:\n",
    "    \n",
    "    print(\"Please enter the correct filename or path!\")\n",
    "    \n",
    "finally:\n",
    "    \n",
    "    file.close()"
   ]
  },
  {
   "cell_type": "code",
   "execution_count": null,
   "id": "fda6e58c",
   "metadata": {},
   "outputs": [],
   "source": []
  }
 ],
 "metadata": {
  "kernelspec": {
   "display_name": "Python 3 (ipykernel)",
   "language": "python",
   "name": "python3"
  },
  "language_info": {
   "codemirror_mode": {
    "name": "ipython",
    "version": 3
   },
   "file_extension": ".py",
   "mimetype": "text/x-python",
   "name": "python",
   "nbconvert_exporter": "python",
   "pygments_lexer": "ipython3",
   "version": "3.11.5"
  }
 },
 "nbformat": 4,
 "nbformat_minor": 5
}
