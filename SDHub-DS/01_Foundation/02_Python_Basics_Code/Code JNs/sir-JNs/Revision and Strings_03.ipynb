{
 "cells": [
  {
   "cell_type": "markdown",
   "id": "7933f67e",
   "metadata": {},
   "source": [
    "**WAP to receive user's emp_id, role, salary. Display datatype and values with a message**"
   ]
  },
  {
   "cell_type": "code",
   "execution_count": 2,
   "id": "6cdbe7cb",
   "metadata": {},
   "outputs": [
    {
     "name": "stdout",
     "output_type": "stream",
     "text": [
      "The datatype of emp_id is: <class 'int'>\n",
      "The emp_id is: 101\n"
     ]
    }
   ],
   "source": [
    "emp_id = 101\n",
    "\n",
    "role = \"Trainer\"\n",
    "\n",
    "salary = 10000\n",
    "\n",
    "print(\"The datatype of emp_id is:\",type(emp_id))\n",
    "\n",
    "print(\"The emp_id is:\",emp_id)"
   ]
  },
  {
   "cell_type": "code",
   "execution_count": 3,
   "id": "a0b1ca33",
   "metadata": {},
   "outputs": [
    {
     "name": "stdout",
     "output_type": "stream",
     "text": [
      "Please enter the employee id:101\n",
      "Please enter your role:Trainer\n",
      "Please enter your salary:1000\n",
      "The datatype of emp_id is: <class 'str'>\n",
      "The emp_id is: 101\n"
     ]
    }
   ],
   "source": [
    "emp_id = input(\"Please enter the employee id:\")\n",
    "\n",
    "role = input(\"Please enter your role:\")\n",
    "\n",
    "salary = input(\"Please enter your salary:\")\n",
    "\n",
    "print(\"The datatype of emp_id is:\",type(emp_id))\n",
    "\n",
    "print(\"The emp_id is:\",emp_id)"
   ]
  },
  {
   "cell_type": "code",
   "execution_count": 4,
   "id": "851ba3ea",
   "metadata": {},
   "outputs": [
    {
     "name": "stdout",
     "output_type": "stream",
     "text": [
      "Please enter your age:28\n"
     ]
    },
    {
     "data": {
      "text/plain": [
       "str"
      ]
     },
     "execution_count": 4,
     "metadata": {},
     "output_type": "execute_result"
    }
   ],
   "source": [
    "age = input(\"Please enter your age:\")\n",
    "\n",
    "type(age)"
   ]
  },
  {
   "cell_type": "code",
   "execution_count": 5,
   "id": "f4bf2a8c",
   "metadata": {},
   "outputs": [
    {
     "name": "stdout",
     "output_type": "stream",
     "text": [
      "Please enter your age:28\n"
     ]
    },
    {
     "data": {
      "text/plain": [
       "int"
      ]
     },
     "execution_count": 5,
     "metadata": {},
     "output_type": "execute_result"
    }
   ],
   "source": [
    "age = int(input(\"Please enter your age:\"))\n",
    "\n",
    "type(age)"
   ]
  },
  {
   "cell_type": "markdown",
   "id": "0dd12dd2",
   "metadata": {},
   "source": [
    "**WAP to receive two numeric values from user and then display the division of both. Use an appropriate message to display the result**"
   ]
  },
  {
   "cell_type": "code",
   "execution_count": 7,
   "id": "31124d9c",
   "metadata": {},
   "outputs": [
    {
     "name": "stdout",
     "output_type": "stream",
     "text": [
      "Please enter the numeric value:10\n",
      "Please enter the numeric value:3\n",
      "The division is: 3.3333333333333335\n"
     ]
    }
   ],
   "source": [
    "num1 = int(input(\"Please enter the numeric value:\"))\n",
    "num2 = int(input(\"Please enter the numeric value:\"))\n",
    "\n",
    "print(\"The division is:\",num1/num2)"
   ]
  },
  {
   "cell_type": "markdown",
   "id": "4e7a1fda",
   "metadata": {},
   "source": [
    "**WAP to receive day and temperature in celsius values from user and then display the day and temperatue in Fehrenhite**"
   ]
  },
  {
   "cell_type": "code",
   "execution_count": 10,
   "id": "7c6dfd1b",
   "metadata": {},
   "outputs": [
    {
     "name": "stdout",
     "output_type": "stream",
     "text": [
      "Please enter the day:Mon\n",
      "Please enter the temperature:22\n",
      "The day is: Mon\n",
      "The temperature (F) is: 71.6\n"
     ]
    }
   ],
   "source": [
    "day = input(\"Please enter the day:\")\n",
    "\n",
    "temp = float(input(\"Please enter the temperature:\"))\n",
    "\n",
    "print(\"The day is:\",day)\n",
    "\n",
    "temp = (9/5)*temp+32\n",
    "\n",
    "print(\"The temperature (F) is:\",temp)"
   ]
  },
  {
   "cell_type": "markdown",
   "id": "ac710d05",
   "metadata": {},
   "source": [
    "**WAP to receive first name from user and then create an email address for sdhub.in domain**"
   ]
  },
  {
   "cell_type": "code",
   "execution_count": 11,
   "id": "58ef8aa1",
   "metadata": {},
   "outputs": [
    {
     "name": "stdout",
     "output_type": "stream",
     "text": [
      "Please enter your name:uwaish\n",
      "Your email address is: uwaish@sdhub.in\n"
     ]
    }
   ],
   "source": [
    "fname = input(\"Please enter your name:\")\n",
    "\n",
    "domain = \"sdhub.in\"\n",
    "\n",
    "email = fname+'@'+domain   #concatenation\n",
    "\n",
    "print(\"Your email address is:\",email)"
   ]
  },
  {
   "cell_type": "markdown",
   "id": "8277e760",
   "metadata": {},
   "source": [
    "**WAP to receive quantity from user and then display the total amount paid by user if the rate of mango is 100 rupees per kg.** "
   ]
  },
  {
   "cell_type": "code",
   "execution_count": 14,
   "id": "39a33f15",
   "metadata": {},
   "outputs": [
    {
     "name": "stdout",
     "output_type": "stream",
     "text": [
      "Please enter the quantity (in kg):3\n",
      "The total amount is: 300\n"
     ]
    }
   ],
   "source": [
    "qty = int(input(\"Please enter the quantity (in kg):\"))\n",
    "\n",
    "rate = 100\n",
    "\n",
    "amount = rate*qty\n",
    "\n",
    "print(\"The total amount is:\",amount)"
   ]
  },
  {
   "cell_type": "markdown",
   "id": "69d14a72",
   "metadata": {},
   "source": [
    "## Strings"
   ]
  },
  {
   "cell_type": "code",
   "execution_count": 15,
   "id": "bc7c4064",
   "metadata": {},
   "outputs": [
    {
     "name": "stdout",
     "output_type": "stream",
     "text": [
      "Entire name: Uwaish Husain\n"
     ]
    }
   ],
   "source": [
    "name = \"Uwaish Husain\"\n",
    "\n",
    "print(\"Entire name:\",name)"
   ]
  },
  {
   "cell_type": "code",
   "execution_count": 16,
   "id": "8d83b1c9",
   "metadata": {},
   "outputs": [
    {
     "data": {
      "text/plain": [
       "'U'"
      ]
     },
     "execution_count": 16,
     "metadata": {},
     "output_type": "execute_result"
    }
   ],
   "source": [
    "# display first char\n",
    "\n",
    "name[0]"
   ]
  },
  {
   "cell_type": "code",
   "execution_count": 17,
   "id": "1a0f8879",
   "metadata": {},
   "outputs": [
    {
     "name": "stdout",
     "output_type": "stream",
     "text": [
      "U\n"
     ]
    }
   ],
   "source": [
    "print(name[0])"
   ]
  },
  {
   "cell_type": "code",
   "execution_count": 18,
   "id": "55d7af68",
   "metadata": {},
   "outputs": [
    {
     "data": {
      "text/plain": [
       "'n'"
      ]
     },
     "execution_count": 18,
     "metadata": {},
     "output_type": "execute_result"
    }
   ],
   "source": [
    "# display last char\n",
    "\n",
    "name[-1]"
   ]
  },
  {
   "cell_type": "code",
   "execution_count": 19,
   "id": "97334d32",
   "metadata": {},
   "outputs": [
    {
     "data": {
      "text/plain": [
       "'Uw'"
      ]
     },
     "execution_count": 19,
     "metadata": {},
     "output_type": "execute_result"
    }
   ],
   "source": [
    "# display first two char\n",
    "\n",
    "name[0:2]"
   ]
  },
  {
   "cell_type": "code",
   "execution_count": 20,
   "id": "ab283f3d",
   "metadata": {},
   "outputs": [
    {
     "data": {
      "text/plain": [
       "'Uw'"
      ]
     },
     "execution_count": 20,
     "metadata": {},
     "output_type": "execute_result"
    }
   ],
   "source": [
    "name[:2]"
   ]
  },
  {
   "cell_type": "code",
   "execution_count": 22,
   "id": "ffc5d1df",
   "metadata": {},
   "outputs": [
    {
     "data": {
      "text/plain": [
       "'ish'"
      ]
     },
     "execution_count": 22,
     "metadata": {},
     "output_type": "execute_result"
    }
   ],
   "source": [
    "# display char from 3rd to 6th\n",
    "\n",
    "name[3:6]"
   ]
  },
  {
   "cell_type": "code",
   "execution_count": 23,
   "id": "ed4da13f",
   "metadata": {},
   "outputs": [
    {
     "data": {
      "text/plain": [
       "'Uas uan'"
      ]
     },
     "execution_count": 23,
     "metadata": {},
     "output_type": "execute_result"
    }
   ],
   "source": [
    "# display name by skipping one char\n",
    "\n",
    "name[::2]"
   ]
  },
  {
   "cell_type": "code",
   "execution_count": 24,
   "id": "97bab201",
   "metadata": {},
   "outputs": [
    {
     "data": {
      "text/plain": [
       "'Uwaish Husain'"
      ]
     },
     "execution_count": 24,
     "metadata": {},
     "output_type": "execute_result"
    }
   ],
   "source": [
    "name[:]"
   ]
  },
  {
   "cell_type": "code",
   "execution_count": 28,
   "id": "dc063ca4",
   "metadata": {},
   "outputs": [
    {
     "data": {
      "text/plain": [
       "'niasuH hsiawU'"
      ]
     },
     "execution_count": 28,
     "metadata": {},
     "output_type": "execute_result"
    }
   ],
   "source": [
    "# reverse string\n",
    "\n",
    "name[::-1]"
   ]
  },
  {
   "cell_type": "code",
   "execution_count": 29,
   "id": "71a9ac52",
   "metadata": {},
   "outputs": [
    {
     "data": {
      "text/plain": [
       "'in'"
      ]
     },
     "execution_count": 29,
     "metadata": {},
     "output_type": "execute_result"
    }
   ],
   "source": [
    "name[-2:]"
   ]
  },
  {
   "cell_type": "markdown",
   "id": "8ef0e52f",
   "metadata": {},
   "source": [
    "*Space is also a character*"
   ]
  },
  {
   "cell_type": "markdown",
   "id": "2d6c390e",
   "metadata": {},
   "source": [
    "**WAP to define a string and perform the following tasks:**\n",
    "    \n",
    "- Display the string\n",
    "- Display the first char of string\n",
    "- Display the last char of string\n",
    "- Display the 3rd char of string\n",
    "- Display first three char\n",
    "- Display last two char\n",
    "- Dsiplay char between 3rd and 6th\n",
    "- Display the reverse string\n",
    "- Display alternate char from the string\n",
    "- Display the string by skipping 3 char"
   ]
  },
  {
   "cell_type": "code",
   "execution_count": null,
   "id": "91511d28",
   "metadata": {},
   "outputs": [],
   "source": []
  }
 ],
 "metadata": {
  "kernelspec": {
   "display_name": "Python 3 (ipykernel)",
   "language": "python",
   "name": "python3"
  },
  "language_info": {
   "codemirror_mode": {
    "name": "ipython",
    "version": 3
   },
   "file_extension": ".py",
   "mimetype": "text/x-python",
   "name": "python",
   "nbconvert_exporter": "python",
   "pygments_lexer": "ipython3",
   "version": "3.13.5"
  }
 },
 "nbformat": 4,
 "nbformat_minor": 5
}
