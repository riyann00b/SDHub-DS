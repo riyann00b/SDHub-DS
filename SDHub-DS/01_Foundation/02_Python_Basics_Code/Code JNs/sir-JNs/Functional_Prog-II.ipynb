{
 "cells": [
  {
   "cell_type": "code",
   "execution_count": 1,
   "id": "1dcad8b7",
   "metadata": {},
   "outputs": [],
   "source": [
    "def test(**a):\n",
    "    \n",
    "    print(a)"
   ]
  },
  {
   "cell_type": "code",
   "execution_count": 5,
   "id": "4b988a28",
   "metadata": {},
   "outputs": [
    {
     "name": "stdout",
     "output_type": "stream",
     "text": [
      "{'a': 'uwaish'}\n"
     ]
    }
   ],
   "source": [
    "test(a='uwaish')"
   ]
  },
  {
   "cell_type": "code",
   "execution_count": 6,
   "id": "f517de04",
   "metadata": {},
   "outputs": [
    {
     "name": "stdout",
     "output_type": "stream",
     "text": [
      "{'a': 10, 'b': 20, 'c': 30}\n"
     ]
    }
   ],
   "source": [
    "test(a=10,b=20,c=30)  # answers will be in a dictionary structure"
   ]
  },
  {
   "cell_type": "code",
   "execution_count": 7,
   "id": "b1a3b3dd",
   "metadata": {},
   "outputs": [],
   "source": [
    "def test2(*a):\n",
    "    \n",
    "    print(a)"
   ]
  },
  {
   "cell_type": "code",
   "execution_count": 8,
   "id": "20799fa5",
   "metadata": {},
   "outputs": [
    {
     "name": "stdout",
     "output_type": "stream",
     "text": [
      "(10,)\n"
     ]
    }
   ],
   "source": [
    "test2(10)"
   ]
  },
  {
   "cell_type": "code",
   "execution_count": 9,
   "id": "34f45d91",
   "metadata": {},
   "outputs": [
    {
     "name": "stdout",
     "output_type": "stream",
     "text": [
      "(10, 20, 30)\n"
     ]
    }
   ],
   "source": [
    "test2(10,20,30)  # answer will be in a tuple structure"
   ]
  },
  {
   "cell_type": "markdown",
   "id": "3bb76488",
   "metadata": {},
   "source": [
    "**WAP to receive user info where the info keys are not fixed**"
   ]
  },
  {
   "cell_type": "code",
   "execution_count": 10,
   "id": "66fbbdb5",
   "metadata": {},
   "outputs": [],
   "source": [
    "def info(**kwargs):   #keyword argument\n",
    "    \n",
    "    print(kwargs)"
   ]
  },
  {
   "cell_type": "code",
   "execution_count": 11,
   "id": "4069ca98",
   "metadata": {},
   "outputs": [
    {
     "name": "stdout",
     "output_type": "stream",
     "text": [
      "{'name': 'Uwaish', 'age': 28}\n"
     ]
    }
   ],
   "source": [
    "info(name=\"Uwaish\",age=28)"
   ]
  },
  {
   "cell_type": "code",
   "execution_count": 12,
   "id": "0c02a9e6",
   "metadata": {},
   "outputs": [
    {
     "name": "stdout",
     "output_type": "stream",
     "text": [
      "{'name': 'Uwaish', 'age': 28, 'gender': 'Male'}\n"
     ]
    }
   ],
   "source": [
    "info(name=\"Uwaish\",age=28,gender='Male')"
   ]
  },
  {
   "cell_type": "code",
   "execution_count": 13,
   "id": "ec3606e2",
   "metadata": {},
   "outputs": [
    {
     "name": "stdout",
     "output_type": "stream",
     "text": [
      "{'name': 'Uwaish', 'age': 28, 'gender': 'M', 'salary': 10000}\n"
     ]
    }
   ],
   "source": [
    "info(name='Uwaish',age=28,gender='M',salary=10000)"
   ]
  },
  {
   "cell_type": "code",
   "execution_count": 14,
   "id": "c864f60e",
   "metadata": {},
   "outputs": [
    {
     "name": "stdout",
     "output_type": "stream",
     "text": [
      "{'name': 'Uwaish'}\n"
     ]
    }
   ],
   "source": [
    "info(name='Uwaish')"
   ]
  },
  {
   "cell_type": "code",
   "execution_count": 15,
   "id": "c5ef916a",
   "metadata": {},
   "outputs": [],
   "source": [
    "def test3(name,**a):   # complex argument\n",
    "    \n",
    "    return name,a"
   ]
  },
  {
   "cell_type": "code",
   "execution_count": 17,
   "id": "7a0000bd",
   "metadata": {},
   "outputs": [
    {
     "data": {
      "text/plain": [
       "('Uwaish', {'b': 28})"
      ]
     },
     "execution_count": 17,
     "metadata": {},
     "output_type": "execute_result"
    }
   ],
   "source": [
    "test3('Uwaish',b=28)"
   ]
  },
  {
   "cell_type": "code",
   "execution_count": 18,
   "id": "ab386238",
   "metadata": {},
   "outputs": [],
   "source": [
    "def test(name,age):\n",
    "    \n",
    "    print(\"Name:\",name)\n",
    "    print(\"Age:\",age)"
   ]
  },
  {
   "cell_type": "code",
   "execution_count": 19,
   "id": "fba0b61e",
   "metadata": {},
   "outputs": [
    {
     "name": "stdout",
     "output_type": "stream",
     "text": [
      "Name: 28\n",
      "Age: Uwaish\n"
     ]
    }
   ],
   "source": [
    "test(28,'Uwaish')"
   ]
  },
  {
   "cell_type": "markdown",
   "id": "1c1bb3ca",
   "metadata": {},
   "source": [
    "## Special Function"
   ]
  },
  {
   "cell_type": "markdown",
   "id": "5afa674e",
   "metadata": {},
   "source": [
    "Case1:"
   ]
  },
  {
   "cell_type": "markdown",
   "id": "9cccdddb",
   "metadata": {},
   "source": [
    "**WAP to define a function which can calculate square of any given value**"
   ]
  },
  {
   "cell_type": "code",
   "execution_count": 23,
   "id": "0153a21a",
   "metadata": {},
   "outputs": [],
   "source": [
    "def square(num):\n",
    "    \n",
    "    return num**2"
   ]
  },
  {
   "cell_type": "code",
   "execution_count": 24,
   "id": "5a34e488",
   "metadata": {},
   "outputs": [
    {
     "data": {
      "text/plain": [
       "100"
      ]
     },
     "execution_count": 24,
     "metadata": {},
     "output_type": "execute_result"
    }
   ],
   "source": [
    "square(10)"
   ]
  },
  {
   "cell_type": "code",
   "execution_count": 25,
   "id": "10cd19f6",
   "metadata": {},
   "outputs": [
    {
     "data": {
      "text/plain": [
       "100"
      ]
     },
     "execution_count": 25,
     "metadata": {},
     "output_type": "execute_result"
    }
   ],
   "source": [
    "# using lambda\n",
    "\n",
    "result = lambda num : num**2\n",
    "\n",
    "result(10)"
   ]
  },
  {
   "cell_type": "markdown",
   "id": "cd32d4c7",
   "metadata": {},
   "source": [
    "**WAP to receive temperature in celsius an display the answer in fehrenhite** use lambda function"
   ]
  },
  {
   "cell_type": "code",
   "execution_count": 26,
   "id": "078cc83a",
   "metadata": {},
   "outputs": [
    {
     "data": {
      "text/plain": [
       "75.2"
      ]
     },
     "execution_count": 26,
     "metadata": {},
     "output_type": "execute_result"
    }
   ],
   "source": [
    "res = lambda temp : temp*1.8+32\n",
    "\n",
    "res(24)"
   ]
  },
  {
   "cell_type": "code",
   "execution_count": 27,
   "id": "504de5d7",
   "metadata": {},
   "outputs": [
    {
     "data": {
      "text/plain": [
       "95.0"
      ]
     },
     "execution_count": 27,
     "metadata": {},
     "output_type": "execute_result"
    }
   ],
   "source": [
    "res(35)"
   ]
  },
  {
   "cell_type": "markdown",
   "id": "09d4ff7d",
   "metadata": {},
   "source": [
    "**WAP to perform addition operation**"
   ]
  },
  {
   "cell_type": "code",
   "execution_count": 28,
   "id": "4f5dc469",
   "metadata": {},
   "outputs": [],
   "source": [
    "addition = lambda num1,num2 : num1+num2"
   ]
  },
  {
   "cell_type": "code",
   "execution_count": 29,
   "id": "2f7a9a3e",
   "metadata": {},
   "outputs": [
    {
     "data": {
      "text/plain": [
       "30"
      ]
     },
     "execution_count": 29,
     "metadata": {},
     "output_type": "execute_result"
    }
   ],
   "source": [
    "addition(10,20)"
   ]
  },
  {
   "cell_type": "markdown",
   "id": "ff56d213",
   "metadata": {},
   "source": [
    "Case 2"
   ]
  },
  {
   "cell_type": "markdown",
   "id": "b6d23e21",
   "metadata": {},
   "source": [
    "**WAP to check whether the number is odd or even using lambda**"
   ]
  },
  {
   "cell_type": "code",
   "execution_count": 30,
   "id": "3067766e",
   "metadata": {},
   "outputs": [
    {
     "data": {
      "text/plain": [
       "'Even'"
      ]
     },
     "execution_count": 30,
     "metadata": {},
     "output_type": "execute_result"
    }
   ],
   "source": [
    "odd_even = lambda num : 'Even' if num%2==0 else 'Odd'\n",
    "\n",
    "odd_even(12)"
   ]
  },
  {
   "cell_type": "code",
   "execution_count": 32,
   "id": "1d465c20",
   "metadata": {},
   "outputs": [
    {
     "name": "stdout",
     "output_type": "stream",
     "text": [
      "Please enter a value:14\n"
     ]
    },
    {
     "data": {
      "text/plain": [
       "'Even'"
      ]
     },
     "execution_count": 32,
     "metadata": {},
     "output_type": "execute_result"
    }
   ],
   "source": [
    "num = int(input(\"Please enter a value:\"))\n",
    "\n",
    "odd_even(num)"
   ]
  },
  {
   "cell_type": "code",
   "execution_count": 33,
   "id": "f2177adf",
   "metadata": {},
   "outputs": [
    {
     "name": "stdout",
     "output_type": "stream",
     "text": [
      "Please enter a value:13\n",
      "The output of odd_even function is: Odd\n"
     ]
    }
   ],
   "source": [
    "num = int(input(\"Please enter a value:\"))\n",
    "\n",
    "result = odd_even(num)\n",
    "\n",
    "print(\"The output of odd_even function is:\",result)"
   ]
  },
  {
   "cell_type": "markdown",
   "id": "8a0065aa",
   "metadata": {},
   "source": [
    "**WAP to check whether a name starts with a vowel or not, use lambda function**"
   ]
  },
  {
   "cell_type": "code",
   "execution_count": 34,
   "id": "29925557",
   "metadata": {},
   "outputs": [
    {
     "data": {
      "text/plain": [
       "'Yes'"
      ]
     },
     "execution_count": 34,
     "metadata": {},
     "output_type": "execute_result"
    }
   ],
   "source": [
    "result = lambda name : 'Yes' if name[0] in 'AEIOUaeiou' else \"No\"\n",
    "\n",
    "result(\"Uwaish\")"
   ]
  },
  {
   "cell_type": "code",
   "execution_count": 35,
   "id": "c14cc713",
   "metadata": {},
   "outputs": [
    {
     "data": {
      "text/plain": [
       "'No'"
      ]
     },
     "execution_count": 35,
     "metadata": {},
     "output_type": "execute_result"
    }
   ],
   "source": [
    "result(\"Kasim\")"
   ]
  },
  {
   "cell_type": "code",
   "execution_count": 36,
   "id": "9a78bf7a",
   "metadata": {},
   "outputs": [
    {
     "data": {
      "text/plain": [
       "'Yes'"
      ]
     },
     "execution_count": 36,
     "metadata": {},
     "output_type": "execute_result"
    }
   ],
   "source": [
    "result('aisha')"
   ]
  },
  {
   "cell_type": "markdown",
   "id": "70e17dea",
   "metadata": {},
   "source": [
    "**WAP to calculate square of a number if is even or calculate cube** use lambda function"
   ]
  },
  {
   "cell_type": "code",
   "execution_count": 39,
   "id": "83ee8fbf",
   "metadata": {},
   "outputs": [
    {
     "name": "stdout",
     "output_type": "stream",
     "text": [
      "Please enter a number:13\n",
      "The output of odd_even function is: 2197\n"
     ]
    }
   ],
   "source": [
    "res = lambda num : num**2 if num%2==0 else num**3\n",
    "\n",
    "num = int(input(\"Please enter a number:\"))\n",
    "print(\"The output of odd_even function is:\",res(num))"
   ]
  },
  {
   "cell_type": "code",
   "execution_count": 40,
   "id": "c7514eea",
   "metadata": {},
   "outputs": [
    {
     "data": {
      "text/plain": [
       "6859"
      ]
     },
     "execution_count": 40,
     "metadata": {},
     "output_type": "execute_result"
    }
   ],
   "source": [
    "res(19)"
   ]
  },
  {
   "cell_type": "markdown",
   "id": "f72801ea",
   "metadata": {},
   "source": [
    "**WAP to receive name and age and check if name has length more than 3 and age is above 18** if both cases are true then allowed else not allowed"
   ]
  },
  {
   "cell_type": "code",
   "execution_count": 44,
   "id": "f52c0602",
   "metadata": {},
   "outputs": [
    {
     "data": {
      "text/plain": [
       "'Allowed'"
      ]
     },
     "execution_count": 44,
     "metadata": {},
     "output_type": "execute_result"
    }
   ],
   "source": [
    "res = lambda name,age: 'Allowed' if len(name)>3 and age>=18 else 'Not allowed'\n",
    "\n",
    "res('Uwaish',28)"
   ]
  },
  {
   "cell_type": "code",
   "execution_count": 45,
   "id": "553928b1",
   "metadata": {},
   "outputs": [
    {
     "data": {
      "text/plain": [
       "'Allowed'"
      ]
     },
     "execution_count": 45,
     "metadata": {},
     "output_type": "execute_result"
    }
   ],
   "source": [
    "res(\"Aisha\",19)"
   ]
  },
  {
   "cell_type": "code",
   "execution_count": 46,
   "id": "e8123bb7",
   "metadata": {},
   "outputs": [
    {
     "data": {
      "text/plain": [
       "'Not allowed'"
      ]
     },
     "execution_count": 46,
     "metadata": {},
     "output_type": "execute_result"
    }
   ],
   "source": [
    "res('Sayed',13)"
   ]
  },
  {
   "cell_type": "markdown",
   "id": "3d3beb82",
   "metadata": {},
   "source": [
    "### map()"
   ]
  },
  {
   "cell_type": "code",
   "execution_count": 47,
   "id": "76c523bb",
   "metadata": {},
   "outputs": [
    {
     "data": {
      "text/plain": [
       "[1, 4, 9, 16]"
      ]
     },
     "execution_count": 47,
     "metadata": {},
     "output_type": "execute_result"
    }
   ],
   "source": [
    "# method1\n",
    "li = [1,2,3,4]\n",
    "\n",
    "logic = lambda num : num**2\n",
    "\n",
    "res = map(logic,li)\n",
    "\n",
    "list(res)"
   ]
  },
  {
   "cell_type": "code",
   "execution_count": 48,
   "id": "eb233351",
   "metadata": {},
   "outputs": [
    {
     "data": {
      "text/plain": [
       "[1, 4, 9, 16]"
      ]
     },
     "execution_count": 48,
     "metadata": {},
     "output_type": "execute_result"
    }
   ],
   "source": [
    "# method2\n",
    "\n",
    "def sq(num):\n",
    "    \n",
    "    return num**2\n",
    "\n",
    "res = map(sq,li)\n",
    "\n",
    "list(res)"
   ]
  },
  {
   "cell_type": "code",
   "execution_count": 51,
   "id": "42d95ee4",
   "metadata": {},
   "outputs": [
    {
     "data": {
      "text/plain": [
       "<map at 0x1d5ed970f40>"
      ]
     },
     "execution_count": 51,
     "metadata": {},
     "output_type": "execute_result"
    }
   ],
   "source": [
    "res"
   ]
  },
  {
   "cell_type": "code",
   "execution_count": 53,
   "id": "6bc215f9",
   "metadata": {},
   "outputs": [
    {
     "data": {
      "text/plain": [
       "[1, 4, 9, 16]"
      ]
     },
     "execution_count": 53,
     "metadata": {},
     "output_type": "execute_result"
    }
   ],
   "source": [
    "#li = [1,2,3,4]\n",
    "\n",
    "logic = lambda num : num**2\n",
    "\n",
    "res = list(map(logic,[1,2,3,4]))\n",
    "\n",
    "res"
   ]
  },
  {
   "cell_type": "markdown",
   "id": "c1d6de05",
   "metadata": {},
   "source": [
    "**WAP display name which starts with char 'A' from the given list by using map**"
   ]
  },
  {
   "cell_type": "code",
   "execution_count": 55,
   "id": "49b0900d",
   "metadata": {},
   "outputs": [
    {
     "data": {
      "text/plain": [
       "['No', 'Yes', 'No', 'Yes']"
      ]
     },
     "execution_count": 55,
     "metadata": {},
     "output_type": "execute_result"
    }
   ],
   "source": [
    "li = ['Uwaish','Anu','Khan','Aisha']\n",
    "\n",
    "def log(name):\n",
    "    \n",
    "    if name[0].upper() == 'A':\n",
    "        return 'Yes'\n",
    "    \n",
    "    else:\n",
    "        return 'No'\n",
    "    \n",
    "res = map(log,li)\n",
    "\n",
    "list(res)"
   ]
  },
  {
   "cell_type": "code",
   "execution_count": 56,
   "id": "d92462b1",
   "metadata": {},
   "outputs": [
    {
     "data": {
      "text/plain": [
       "['Fail', 'Fail', 'Pass', 'Pass']"
      ]
     },
     "execution_count": 56,
     "metadata": {},
     "output_type": "execute_result"
    }
   ],
   "source": [
    "# use map to convert result into pass or fail\n",
    "\n",
    "li = [19,30,56,78]\n",
    "\n",
    "log = lambda num : 'Pass' if num>=33 else 'Fail'\n",
    "\n",
    "res = map(log,li)\n",
    "\n",
    "list(res)"
   ]
  },
  {
   "cell_type": "markdown",
   "id": "41204d0f",
   "metadata": {},
   "source": [
    "### reduce()"
   ]
  },
  {
   "cell_type": "code",
   "execution_count": 58,
   "id": "9d735332",
   "metadata": {},
   "outputs": [
    {
     "data": {
      "text/plain": [
       "15"
      ]
     },
     "execution_count": 58,
     "metadata": {},
     "output_type": "execute_result"
    }
   ],
   "source": [
    "from functools import reduce   # import relevant library\n",
    "\n",
    "li = [1,2,3,4,5]\n",
    "\n",
    "log = lambda a,b : a+b\n",
    "\n",
    "reduce(log,li)"
   ]
  },
  {
   "cell_type": "code",
   "execution_count": null,
   "id": "5fffaae4",
   "metadata": {},
   "outputs": [],
   "source": []
  }
 ],
 "metadata": {
  "kernelspec": {
   "display_name": "Python 3 (ipykernel)",
   "language": "python",
   "name": "python3"
  },
  "language_info": {
   "codemirror_mode": {
    "name": "ipython",
    "version": 3
   },
   "file_extension": ".py",
   "mimetype": "text/x-python",
   "name": "python",
   "nbconvert_exporter": "python",
   "pygments_lexer": "ipython3",
   "version": "3.13.5"
  }
 },
 "nbformat": 4,
 "nbformat_minor": 5
}
