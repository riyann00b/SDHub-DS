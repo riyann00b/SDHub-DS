{
 "cells": [
  {
   "cell_type": "markdown",
   "metadata": {},
   "source": [
    "## Object-Oriented Programming (OOP) and File Handling in Python\n",
    "This notebook provides a detailed explanation of Object-Oriented Programming (OOP) principles and File Handling in Python, combining concepts from the provided notebook and handwritten notes."
   ]
  },
  {
   "cell_type": "markdown",
   "metadata": {},
   "source": [
    "## Part 1: Object-Oriented Programming (OOP)\n",
    "Object-Oriented Programming is a programming paradigm based on the concept of \"objects\", which can contain data in the form of fields (often known as attributes or properties) and code in the form of procedures (often known as methods).\n",
    "\n",
    "- **Class**: A blueprint for creating objects.\n",
    "- **Object**: An instance of a class.\n",
    "- **Attribute**: A property or data associated with an object.\n",
    "- **Method**: A function associated with an object."
   ]
  },
  {
   "cell_type": "markdown",
   "metadata": {},
   "source": [
    "### 1. Encapsulation\n",
    "Encapsulation is the bundling of data (attributes) and the methods that operate on that data into a single unit, a class. It restricts direct access to some of an object's components, which is a key principle of data hiding.\n\n",
    "In Python, we use **access modifiers** to control the visibility of attributes and methods. These are denoted by naming conventions:\n",
    "- **`Public`**: Accessible from anywhere. (e.g., `name`)\n",
    "- **`Protected`**: Should only be accessed within the class and its subclasses. Denoted by a single underscore prefix. (e.g., `_age`). *Note: This is a convention; Python does not enforce it.*\n",
    "- **`Private`**: Should only be accessed within the class. Denoted by a double underscore prefix. (e.g., `__salary`). Python enforces this through a process called **name mangling**."
   ]
  },
  {
   "cell_type": "code",
   "execution_count": null,
   "metadata": {},
   "outputs": [],
   "source": [
    "class Employee:\n",
    "    def __init__(self, name, age, salary):\n",
    "        self.name = name        # Public attribute\n",
    "        self._age = age          # Protected attribute\n",
    "        self.__salary = salary  # Private attribute\n",
    "\n",
    "    def display_info(self):\n",
    "        # All attributes are accessible inside the class\n",
    "        print(f\"Name: {self.name}\")\n",
    "        print(f\"Age: {self._age}\")\n",
    "        print(f\"Salary: {self.__salary}\")\n",
    "\n",
    "# Creating an object\n",
    "emp = Employee(\"Ali\", 30, 50000)\n",
    "\n",
    "# Accessing public attribute (Allowed)\n",
    "print(f\"Public Name: {emp.name}\")\n",
    "\n",
    "# Accessing protected attribute (Allowed, but not recommended by convention)\n",
    "print(f\"Protected Age: {emp._age}\")\n",
    "\n",
    "# Accessing private attribute (Will raise an AttributeError)\n",
    "try:\n",
    "    print(f\"Private Salary: {emp.__salary}\")\n",
    "except AttributeError as e:\n",
    "    print(f\"Error: {e}\")\n",
    "\n",
    "# Private attributes can still be accessed through name mangling (not recommended)\n",
    "print(f\"Salary (via name mangling): {emp._Employee__salary}\")"
   ]
  },
  {
   "cell_type": "markdown",
   "metadata": {},
   "source": [
    "### 2. Inheritance\n",
    "Inheritance allows a new class (child/subclass) to inherit attributes and methods from an existing class (parent/superclass). This promotes code reusability.\n"
   ]
  },
  {
   "cell_type": "code",
   "execution_count": null,
   "metadata": {},
   "outputs": [],
   "source": [
    "# Parent Class\n",
    "class Animal:\n",
    "    def __init__(self, name):\n",
    "        self.name = name\n",
    "        \n",
    "    def speak(self):\n",
    "        print(f\"{self.name} makes a sound.\")\n",
    "\n",
    "# Child Class inheriting from Animal\n",
    "class Dog(Animal):\n",
    "    def bark(self):\n",
    "        print(f\"{self.name} barks loudly!\")\n",
    "\n",
    "my_dog = Dog(\"Buddy\")\n",
    "my_dog.speak()  # Method inherited from Animal class\n",
    "my_dog.bark()   # Method from the Dog class"
   ]
  },
  {
   "cell_type": "markdown",
   "metadata": {},
   "source": [
    "### 3. Polymorphism\n",
    "Polymorphism, which means \"many forms,\" allows objects of different classes to be treated as objects of a common superclass. The same method name can behave differently for different classes.\n"
   ]
  },
  {
   "cell_type": "code",
   "execution_count": null,
   "metadata": {},
   "outputs": [],
   "source": [
    "class Bird:\n",
    "    def sound(self):\n",
    "        print(\"Bird chirps\")\n",
    "\n",
    "class Cat:\n",
    "    def sound(self):\n",
    "        print(\"Cat meows\")\n",
    "\n",
    "class Cow:\n",
    "    def sound(self):\n",
    "        print(\"Cow moos\")\n",
    "\n",
    "# Polymorphism in action\n",
    "bird = Bird()\n",
    "cat = Cat()\n",
    "cow = Cow()\n",
    "\n",
    "for animal in [bird, cat, cow]:\n",
    "    animal.sound()"
   ]
  },
  {
   "cell_type": "markdown",
   "metadata": {},
   "source": [
    "### 4. Abstraction\n",
    "Abstraction hides the complex implementation details and shows only the essential features of the object. In Python, we can achieve abstraction using abstract classes and methods from the `abc` (Abstract Base Classes) module.\n\n",
    "An abstract class cannot be instantiated. Its purpose is to be a blueprint for other classes."
   ]
  },
  {
   "cell_type": "code",
   "execution_count": null,
   "metadata": {},
   "outputs": [],
   "source": [
    "from abc import ABC, abstractmethod\n",
    "\n",
    "# Abstract Base Class\n",
    "class Shape(ABC):\n",
    "    @abstractmethod\n",
    "    def area(self): # Abstract method (no implementation)\n",
    "        pass\n",
    "\n",
    "    @abstractmethod\n",
    "    def perimeter(self): # Abstract method\n",
    "        pass\n",
    "\n",
    "class Square(Shape):\n",
    "    def __init__(self, side):\n",
    "        self.side = side\n",
    "  \n",
    "    def area(self): # Implementation of the abstract method\n",
    "        return self.side * self.side\n",
    "\n",
    "    def perimeter(self): # Implementation of the abstract method\n",
    "        return 4 * self.side\n",
    "\n",
    "# You cannot create an object of an abstract class\n",
    "try:\n",
    "    s = Shape()\n",
    "except TypeError as e:\n",
    "    print(f\"Error: {e}\")\n",
    "\n",
    "# You must implement all abstract methods in the subclass\n",
    "my_square = Square(5)\n",
    "print(f\"Area of square: {my_square.area()}\")\n",
    "print(f\"Perimeter of square: {my_square.perimeter()}\")"
   ]
  },
  {
   "cell_type": "markdown",
   "metadata": {},
   "source": [
    "---"
   ]
  },
  {
   "cell_type": "markdown",
   "metadata": {},
   "source": [
    "## Part 2: File Handling\n",
    "File handling is used to store data permanently in a file. Python supports various file types, but we primarily deal with:\n",
    "- **Text files**: Store data in plain text (e.g., `.txt`, `.csv`, `.py`).\n",
    "- **Binary files**: Store data in binary format (e.g., images, videos, audio files)."
   ]
  },
  {
   "cell_type": "markdown",
   "metadata": {},
   "source": [
    "### File Modes\n",
    "We use the `open()` function to work with files. It takes a file path and a `mode` as arguments.\n",
    "- **`'r'`** (Read): Default mode. Opens a file for reading. Raises an error if the file does not exist.\n",
    "- **`'w'`** (Write): Opens a file for writing. **Creates a new file if it does not exist, or completely overwrites the file if it exists.**\n",
    "- **`'a'`** (Append): Opens a file for appending. **Creates a new file if it does not exist, or adds new content to the end of the file if it exists.**\n",
    "- **`'x'`** (Create): Creates a new file. Raises an error if the file already exists.\n",
    "- **`'+'`**: Can be added to a mode to allow for both reading and writing (e.g., `'r+'`, `'w+'`)."
   ]
  },
  {
   "cell_type": "markdown",
   "metadata": {},
   "source": [
    "### The `with` Statement (Best Practice)\n",
    "It is crucial to close a file after you are done with it to free up system resources. The `with` statement automatically handles closing the file, even if errors occur.\n"
   ]
  },
  {
   "cell_type": "code",
   "execution_count": null,
   "metadata": {},
   "outputs": [],
   "source": [
    "# Using the 'with' statement is the recommended way to handle files.\n",
    "\n",
    "with open('greeting.txt', 'w') as file:\n",
    "    file.write(\"Hello, World!\")\n",
    "\n",
    "# The file is automatically closed here."
   ]
  },
  {
   "cell_type": "markdown",
   "metadata": {},
   "source": [
    "### Writing to a File\n",
    "Let's see the difference between write (`'w'`) and append (`'a'`) modes."
   ]
  },
  {
   "cell_type": "code",
   "execution_count": null,
   "metadata": {},
   "outputs": [],
   "source": [
    "# 1. Using 'w' to write and overwrite\n",
    "with open('my_diary.txt', 'w') as f:\n",
    "    f.write(\"Today was a good day.\\n\")\n",
    "\n",
    "with open('my_diary.txt', 'w') as f:\n",
    "    f.write(\"I learned about file handling.\\n\") # This line overwrites the previous content\n",
    "\n",
    "print(\"--- Content after 'w' ---\")\n",
    "with open('my_diary.txt', 'r') as f:\n",
    "    print(f.read())\n",
    "\n",
    "# 2. Using 'a' to append\n",
    "with open('my_diary.txt', 'a') as f:\n",
    "    f.write(\"Appending this new line!\\n\") # This adds to the end of the file\n",
    "\n",
    "print(\"--- Content after 'a' ---\")\n",
    "with open('my_diary.txt', 'r') as f:\n",
    "    print(f.read())"
   ]
  },
  {
   "cell_type": "markdown",
   "metadata": {},
   "source": [
    "### Reading From a File\n",
    "You can read a file from the same location or a different one by specifying the path.\n",
    "- `file.read()`: Reads the entire content of the file.\n",
    "- `file.readline()`: Reads a single line from the file.\n",
    "- `file.readlines()`: Reads all lines into a list of strings."
   ]
  },
  {
   "cell_type": "code",
   "execution_count": null,
   "metadata": {},
   "outputs": [],
   "source": [
    "# Reading from a file in the same directory\n",
    "with open('my_diary.txt', 'r') as f:\n",
    "    content = f.read()\n",
    "    print(\"Full content of my_diary.txt:\")\n",
    "    print(content)\n",
    "\n",
    "# Reading from a file at a different location\n",
    "# Note: Use forward slashes '/' or double backslashes '\\\\' for paths to avoid errors.\n",
    "try:\n",
    "    # Replace with an actual path on your computer to test this\n",
    "    with open('C:/Users/username/Desktop/somefile.txt', 'r') as f:\n",
    "        print(f.read())\n",
    "except FileNotFoundError:\n",
    "    print(\"\\nCould not find the file at the specified desktop path. Please update the path.\")\n"
   ]
  },
  {
   "cell_type": "markdown",
   "metadata": {},
   "source": [
    "### Exercise\n",
    "**WAP to create a txt file which has the below content in the same format:**\n",
    "```\n",
    "Python is a programming language and has the following features:\n",
    "\n",
    "1. Open Source\n",
    "2. Platform Independent\n",
    "3. Supports all Paradigm\n",
    "4. Vast Collection of Libraries\n",
    "5. User Friendly\n",
    "```"
   ]
  },
  {
   "cell_type": "code",
   "execution_count": null,
   "metadata": {},
   "outputs": [],
   "source": [
    "content_to_write = \"\"\"Python is a programming language and has the following features:\n",
    "\n",
    "1. Open Source\n",
    "2. Platform Independent\n",
    "3. Supports all Paradigm\n",
    "4. Vast Collection of Libraries\n",
    "5. User Friendly\n",
    "\"\"\"\n",
    "\n",
    "with open('python_features.txt', 'w') as file:\n",
    "    file.write(content_to_write)\n",
    "\n",
    "# Let's read the file back to verify\n",
    "print(\"--- Content of python_features.txt ---\")\n",
    "with open('python_features.txt', 'r') as file:\n",
    "    print(file.read())"
   ]
  }
 ],
 "metadata": {
  "kernelspec": {
   "display_name": "Python 3",
   "language": "python",
   "name": "python3"
  },
  "language_info": {
   "codemirror_mode": {
    "name": "ipython",
    "version": 3
   },
   "file_extension": ".py",
   "mimetype": "text/x-python",
   "name": "python",
   "nbconvert_exporter": "python",
   "pygments_lexer": "ipython3",
   "version": "3.11.5"
  }
 },
 "nbformat": 4,
 "nbformat_minor": 4
}
