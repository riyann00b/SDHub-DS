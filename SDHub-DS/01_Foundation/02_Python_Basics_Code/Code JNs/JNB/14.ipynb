{
 "cells": [
  {
   "cell_type": "markdown",
   "id": "7d9ea92b-bdce-4b7c-b047-23c1c3d40123",
   "metadata": {},
   "source": [
    "# OOPs in python"
   ]
  },
  {
   "cell_type": "markdown",
   "id": "fbf24d1d-f9fe-46b2-ac67-c6ae82a52f9f",
   "metadata": {},
   "source": [
    "1. class: A blueprint\n",
    "2. object: an instence of a class\n",
    "3. attribute: property\n",
    "4. method: functionality\n",
    "\n",
    "## Property of OOPS\n",
    "\n",
    "1. inheritence\n",
    "2. polyforphism\n",
    "3. encapsulation\n",
    "4. abstraction\n",
    "---\n",
    "\n",
    "**Defination & benifides:**\n",
    "1. inherritenc = acquring the property from other class (child (sub class) can inherend parent (super claas / main class) properties)\n",
    "2. polymorphism =  poly = many , morphism = forms\n",
    "3. encapsulation = it hides the data \n",
    "4. abstraction = method hiding\n",
    "\n"
   ]
  },
  {
   "cell_type": "code",
   "execution_count": 21,
   "id": "68dd4989-0317-4ea7-a2fb-d61c144a0ca8",
   "metadata": {},
   "outputs": [],
   "source": [
    "\n",
    "class bank:\n",
    "    # attribute\n",
    "    def __init__ (self, AC_No, Name, DoB, Mobile, ID, Branch, Amount):\n",
    "        self.AC_No = AC_No \n",
    "        self.Name = Name\n",
    "        self.DoB = DoB \n",
    "        self.Mobile = Mobile\n",
    "        self.ID = ID\n",
    "        self.Branch = Branch\n",
    "        self.Amount = Amount\n",
    "    # functionality\n",
    "    def info(self):\n",
    "        print(\"User info\")\n",
    "        print(\"Name: \", self.name)\n",
    "        print(\"Account number: \", self.AC_No)\n",
    "        print(\"Date of birth: \", self.DoB)\n",
    "        print(\"Mobile Number: \", self.Mobile)\n",
    "        print(\"User ID: \", self.ID)\n",
    "        print(\"Branch: \" , self.Branch)\n",
    "        print(\"Amount: \" , self.Amount)\n",
    "\n",
    "    def check_balance(self):\n",
    "        print(\"Your balance\", self.Amount)\n",
    "        \n",
    "    def deposite(self):\n",
    "        dep_amount = float(input(\"Enter your deposite amount in INR: \"))\n",
    "        self.Amount = self.Amount + dep_amount\n",
    "        print(\"Updated balance\", self.Amount)\n",
    "        "
   ]
  },
  {
   "cell_type": "code",
   "execution_count": 22,
   "id": "9bfc481b-feef-4a75-bf93-65f932290673",
   "metadata": {},
   "outputs": [],
   "source": [
    "riyan =  bank(123456, 'Riyan', '14-09-2002', 9381186153, \"ABC123\", \"HYD\", 100000000000)"
   ]
  },
  {
   "cell_type": "code",
   "execution_count": 23,
   "id": "2f27faff-1962-491f-b44e-e593d6007262",
   "metadata": {},
   "outputs": [
    {
     "name": "stdin",
     "output_type": "stream",
     "text": [
      "Enter your deposite amount in INR:  15000\n"
     ]
    },
    {
     "name": "stdout",
     "output_type": "stream",
     "text": [
      "Updated balance 100000015000.0\n"
     ]
    }
   ],
   "source": [
    "riyan.deposite()"
   ]
  },
  {
   "cell_type": "markdown",
   "id": "ec46d94f-1a3c-421c-ae9c-078e9d149504",
   "metadata": {},
   "source": [
    "## **WAP to create a application for a institute where the attribues and methods are as follows:**\n",
    "\n",
    "1. name\n",
    "2. highest qualification\n",
    "3. ID\n",
    "4. mobile\n",
    "5. Fee\n",
    "\n",
    "method\n",
    "1. info\n",
    "2. check_fee\n"
   ]
  },
  {
   "cell_type": "code",
   "execution_count": 41,
   "id": "67328c05-59bf-40c4-bd02-5661f7db897c",
   "metadata": {},
   "outputs": [],
   "source": [
    "class sdhub:\n",
    "    def __init__(self, name, hq, mobile, id, total_fee):\n",
    "        self.name = name\n",
    "        self.hq = hq\n",
    "        self.mobile = mobile\n",
    "        #self.fee = fee\n",
    "        self.id = id\n",
    "        self.total_fee = total_fee\n",
    "        #self.remaining_fee = remaining_fee\n",
    "\n",
    "    def info(self):\n",
    "        print(\"Student Name: \", self.name)\n",
    "        print(\"Student Highist qualification: \", self.hq)\n",
    "        print(\"Student Phone No: \", self.mobile)\n",
    "        #print(\"Student Fee paid: \", self.fee)\n",
    "        print(\"Student ID: \", self.id)\n",
    "        print(\"Student Total Fee: \", self.total_fee)\n",
    "        #print(\"Student Remaining Fee: \", self.remaining_fee)\n",
    "\n",
    "    def check_fee(self):\n",
    "        print(\"You Fee is \", self.total_fee)\n",
    "\n",
    "    def dep_fee(self):\n",
    "        amt = int(input('Please Pay your fee: '))\n",
    "        remaining_fee = self.total_fee - amt\n",
    "        print(\"the remaining fee is: \", remaining_fee)\n",
    "\n",
    "    def "
   ]
  },
  {
   "cell_type": "code",
   "execution_count": 42,
   "id": "2033386d-cdf5-4059-914e-b49bb2878e2d",
   "metadata": {},
   "outputs": [
    {
     "name": "stdout",
     "output_type": "stream",
     "text": [
      "Student Name:  MD Riyan Nazeer\n",
      "Student Highist qualification:  BE:CSM\n",
      "Student Phone No:  9381186153\n",
      "Student ID:  123\n",
      "Student Total Fee:  20000\n"
     ]
    }
   ],
   "source": [
    "riyan = sdhub('MD Riyan Nazeer', 'BE:CSM', 9381186153, 123, 20000)\n",
    "\n",
    "riyan.info()"
   ]
  },
  {
   "cell_type": "code",
   "execution_count": 43,
   "id": "e215e22e-0c96-41f0-9ecc-253664c9bc55",
   "metadata": {},
   "outputs": [
    {
     "name": "stdout",
     "output_type": "stream",
     "text": [
      "You Fee is  20000\n"
     ]
    }
   ],
   "source": [
    "riyan.check_fee()"
   ]
  },
  {
   "cell_type": "code",
   "execution_count": 44,
   "id": "e80b0fcf-4cd7-4bbf-a090-6d44d6da62fd",
   "metadata": {},
   "outputs": [
    {
     "name": "stdin",
     "output_type": "stream",
     "text": [
      "Please Pay your fee:  15000\n"
     ]
    },
    {
     "name": "stdout",
     "output_type": "stream",
     "text": [
      "the remaining fee is:  5000\n"
     ]
    }
   ],
   "source": [
    "riyan.dep_fee()"
   ]
  },
  {
   "cell_type": "code",
   "execution_count": 45,
   "id": "edf60ccb-c61f-47cc-9d74-3791aea0504b",
   "metadata": {},
   "outputs": [],
   "source": [
    "# inheritence \n",
    "\n",
    "class parent:\n",
    "    def property(self):\n",
    "        print(\"father property\")\n",
    "\n",
    "class child(parent):\n",
    "    pass"
   ]
  },
  {
   "cell_type": "code",
   "execution_count": 46,
   "id": "77d24918-ffd8-4923-bc49-77c8a40ee2a6",
   "metadata": {},
   "outputs": [],
   "source": [
    "riyan = child()"
   ]
  },
  {
   "cell_type": "code",
   "execution_count": 48,
   "id": "b234700f-650f-49a9-b005-6e567edcccb3",
   "metadata": {},
   "outputs": [
    {
     "name": "stdout",
     "output_type": "stream",
     "text": [
      "father property\n"
     ]
    }
   ],
   "source": [
    "riyan.property()"
   ]
  },
  {
   "cell_type": "code",
   "execution_count": 51,
   "id": "42161122-999f-46dd-a3d3-1f51a550f832",
   "metadata": {},
   "outputs": [],
   "source": [
    "# polymorphism\n",
    "\n",
    "class calc:\n",
    "    def add(self, a, b):\n",
    "        return a+b\n",
    "\n",
    "\n",
    "obj = clac()\n",
    "\n"
   ]
  },
  {
   "cell_type": "code",
   "execution_count": 52,
   "id": "fe42b845-7b23-4934-b413-4bc292bdc299",
   "metadata": {},
   "outputs": [
    {
     "data": {
      "text/plain": [
       "4"
      ]
     },
     "execution_count": 52,
     "metadata": {},
     "output_type": "execute_result"
    }
   ],
   "source": [
    "obj.add(2,2)"
   ]
  },
  {
   "cell_type": "code",
   "execution_count": null,
   "id": "56775547-81de-4a2f-896d-262fcc4bddb0",
   "metadata": {},
   "outputs": [],
   "source": []
  }
 ],
 "metadata": {
  "kernelspec": {
   "display_name": "Python 3 (ipykernel)",
   "language": "python",
   "name": "python3"
  },
  "language_info": {
   "codemirror_mode": {
    "name": "ipython",
    "version": 3
   },
   "file_extension": ".py",
   "mimetype": "text/x-python",
   "name": "python",
   "nbconvert_exporter": "python",
   "pygments_lexer": "ipython3",
   "version": "3.13.5"
  }
 },
 "nbformat": 4,
 "nbformat_minor": 5
}
