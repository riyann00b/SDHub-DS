{
 "cells": [
  {
   "cell_type": "markdown",
   "metadata": {},
   "source": [
    "# Python Fundamentals: Practice Worksheet"
   ]
  },
  {
   "cell_type": "markdown",
   "metadata": {},
   "source": [
    "## 1. Identifiers\n",
    "\n",
    "**Which of the following are valid Python identifiers?**  \n",
    "a) `my_var`  \n",
    "b) `123name`  \n",
    "c) `_temp123`  \n",
    "d) `class`\n",
    "\n",
    "***\n",
    "**Answer:**  \n",
    "The valid identifiers are **a) `my_var`** and **c) `_temp123`**.\n",
    "\n",
    "**Explanation:**\n",
    "*   **a) `my_var`**: Valid because it starts with a letter and contains only letters and underscores.\n",
    "*   **b) `123name`**: **Invalid** because identifiers cannot start with a number.\n",
    "*   **c) `_temp123`**: Valid because it starts with an underscore and contains letters and numbers.\n",
    "*   **d) `class`**: **Invalid** because `class` is a reserved keyword in Python and cannot be used as a variable name.\n",
    "\n",
    "***"
   ]
  },
  {
   "cell_type": "markdown",
   "metadata": {},
   "source": [
    "## 2. Operators\n",
    "\n",
    "**What is the output of the following expression and why?**"
   ]
  },
  {
   "cell_type": "code",
   "execution_count": 1,
   "metadata": {},
   "outputs": [
    {
     "name": "stdout",
     "output_type": "stream",
     "text": [
      "2\n"
     ]
    }
   ],
   "source": [
    "a = 10\n",
    "b = 5\n",
    "print(a // b + a % b)"
   ]
  },
  {
   "cell_type": "markdown",
   "metadata": {},
   "source": [
    "***\n",
    "**Answer:**  \n",
    "The output is **`2`**.\n",
    "\n",
    "**Explanation:**\n",
    "Python evaluates this expression based on operator precedence.\n",
    "1.  **`a // b` (Floor Division):** `10 // 5` calculates how many times 5 fits completely into 10, which is `2`.\n",
    "2.  **`a % b` (Modulo):** `10 % 5` calculates the remainder of the division, which is `0` (since 10 divides evenly by 5).\n",
    "3.  **`+` (Addition):** The results are then added: `2 + 0`, which equals `2`.\n",
    "\n",
    "***"
   ]
  },
  {
   "cell_type": "markdown",
   "metadata": {},
   "source": [
    "## 3. Datatypes\n",
    "\n",
    "**What will be the datatype of the following?**"
   ]
  },
  {
   "cell_type": "code",
   "execution_count": 2,
   "metadata": {},
   "outputs": [
    {
     "name": "stdout",
     "output_type": "stream",
     "text": [
      "<class 'float'> <class 'str'> <class 'bool'>\n"
     ]
    }
   ],
   "source": [
    "x = 3.14\n",
    "y = \"123\"\n",
    "z = True\n",
    "print(type(x), type(y), type(z))"
   ]
  },
  {
   "cell_type": "markdown",
   "metadata": {},
   "source": [
    "***\n",
    "**Answer:**  \n",
    "The output will be: `<class 'float'> <class 'str'> <class 'bool'>`\n",
    "\n",
    "**Explanation:**\n",
    "*   `x = 3.14` is a number with a decimal point, so its type is **float**.\n",
    "*   `y = \"123\"` is enclosed in quotes, making it a **string**, not a number.\n",
    "*   `z = True` is one of Python's two special boolean values, so its type is **bool**.\n",
    "\n",
    "***"
   ]
  },
  {
   "cell_type": "markdown",
   "metadata": {},
   "source": [
    "## 4. Strings\n",
    "\n",
    "**Write a Python program to:**  \n",
    "- Take a user input string  \n",
    "- Convert it to uppercase  \n",
    "- Print the reverse of the string\n",
    "\n",
    "***\n",
    "**Answer:**"
   ]
  },
  {
   "cell_type": "code",
   "execution_count": 3,
   "metadata": {},
   "outputs": [
    {
     "name": "stdin",
     "output_type": "stream",
     "text": [
      "Please enter a sentence:  Riyan\n"
     ]
    },
    {
     "name": "stdout",
     "output_type": "stream",
     "text": [
      "In uppercase: RIYAN\n",
      "The reverse is: NAYIR\n"
     ]
    }
   ],
   "source": [
    "# 1. Take a user input string\n",
    "user_string = input(\"Please enter a sentence: \")\n",
    "\n",
    "# 2. Convert it to uppercase using the .upper() method\n",
    "uppercase_string = user_string.upper()\n",
    "print(f\"In uppercase: {uppercase_string}\")\n",
    "\n",
    "# 3. Print the reverse of the string using slicing\n",
    "# The [::-1] slice means start from the end, go to the beginning, with a step of -1.\n",
    "reversed_string = uppercase_string[::-1]\n",
    "print(f\"The reverse is: {reversed_string}\")"
   ]
  },
  {
   "cell_type": "markdown",
   "metadata": {},
   "source": [
    "***\n",
    "## 5. List\n",
    "\n",
    "**Given the list:**  \n",
    "`fruits = [\"apple\", \"banana\", \"cherry\"]`  \n",
    "**Write code to:**  \n",
    "- Add \"orange\" to the list  \n",
    "- Remove \"banana\"  \n",
    "- Print the second item\n",
    "\n",
    "***\n",
    "**Answer:**"
   ]
  },
  {
   "cell_type": "code",
   "execution_count": 4,
   "metadata": {},
   "outputs": [
    {
     "name": "stdout",
     "output_type": "stream",
     "text": [
      "Original list: ['apple', 'banana', 'cherry']\n",
      "After adding orange: ['apple', 'banana', 'cherry', 'orange']\n",
      "After removing banana: ['apple', 'cherry', 'orange']\n",
      "The second item is now: cherry\n"
     ]
    }
   ],
   "source": [
    "fruits = [\"apple\", \"banana\", \"cherry\"]\n",
    "print(f\"Original list: {fruits}\")\n",
    "\n",
    "# Add \"orange\" to the list using the .append() method\n",
    "fruits.append(\"orange\")\n",
    "print(f\"After adding orange: {fruits}\")\n",
    "\n",
    "# Remove \"banana\" from the list using the .remove() method\n",
    "fruits.remove(\"banana\")\n",
    "print(f\"After removing banana: {fruits}\")\n",
    "\n",
    "# Print the second item (at index 1)\n",
    "# The list is now [\"apple\", \"cherry\", \"orange\"]\n",
    "second_item = fruits[1]\n",
    "print(f\"The second item is now: {second_item}\")"
   ]
  },
  {
   "cell_type": "markdown",
   "metadata": {},
   "source": [
    "***\n",
    "## 6. List (Indexing & Slicing)\n",
    "\n",
    "**What will be the output of:**"
   ]
  },
  {
   "cell_type": "code",
   "execution_count": 6,
   "metadata": {},
   "outputs": [
    {
     "name": "stdout",
     "output_type": "stream",
     "text": [
      "[20, 30, 40]\n",
      "40\n"
     ]
    }
   ],
   "source": [
    "my_list = [10, 20, 30, 40, 50]\n",
    "print(my_list[1:4])\n",
    "print(my_list[-2])"
   ]
  },
  {
   "cell_type": "markdown",
   "metadata": {},
   "source": [
    "***\n",
    "**Answer:**  \n",
    "The output is:\n",
    "```python\n",
    "[20, 30, 40]\n",
    "40\n",
    "```\n",
    "**Explanation:**\n",
    "*   `my_list[1:4]`: This is a slice that starts at index 1 and goes up to (but does not include) index 4.\n",
    "*   `my_list[-2]`: This uses negative indexing. `-1` is the last item, so `-2` is the second-to-last item, which is `40`.\n",
    "\n",
    "***"
   ]
  },
  {
   "cell_type": "markdown",
   "metadata": {},
   "source": [
    "## 7. Tuple\n",
    "\n",
    "**Write a Python program that creates a tuple with 4 elements. Try changing one element — what happens and why?**\n",
    "\n",
    "***\n",
    "**Answer:**"
   ]
  },
  {
   "cell_type": "code",
   "execution_count": 7,
   "metadata": {},
   "outputs": [
    {
     "name": "stdout",
     "output_type": "stream",
     "text": [
      "Original tuple: ('apple', 25, 3.14, True)\n"
     ]
    }
   ],
   "source": [
    "# Create a tuple with 4 different data types\n",
    "my_tuple = (\"apple\", 25, 3.14, True)\n",
    "print(f\"Original tuple: {my_tuple}\")\n",
    "\n",
    "# Try to change the second element (at index 1)\n",
    "# The following line is commented out because it will crash the program.\n",
    "# my_tuple[1] = 30"
   ]
  },
  {
   "cell_type": "markdown",
   "metadata": {},
   "source": [
    "**What happens and why?**\n",
    "\n",
    "Running the line `my_tuple[1] = 30` will raise a **`TypeError`** with a message like: `'tuple' object does not support item assignment`.\n",
    "\n",
    "This happens because tuples are **immutable**. Immutability is a core feature of tuples, meaning that once a tuple is created, its elements cannot be changed, added, or removed. This makes them useful for storing data that should not be accidentally modified.\n",
    "***"
   ]
  },
  {
   "cell_type": "markdown",
   "metadata": {},
   "source": [
    "## 8. Set\n",
    "\n",
    "**Given two sets:**  \n",
    "`set1 = {1, 2, 3}`  \n",
    "`set2 = {3, 4, 5}`  \n",
    "**Write Python code to:**  \n",
    "- Find union  \n",
    "- Find intersection  \n",
    "- Add an element `6` to `set1`\n",
    "\n",
    "***\n",
    "**Answer:**"
   ]
  },
  {
   "cell_type": "code",
   "execution_count": 8,
   "metadata": {},
   "outputs": [
    {
     "name": "stdout",
     "output_type": "stream",
     "text": [
      "Union: {1, 2, 3, 4, 5}\n",
      "Intersection: {3}\n",
      "Set1 after adding 6: {1, 2, 3, 6}\n"
     ]
    }
   ],
   "source": [
    "set1 = {1, 2, 3}\n",
    "set2 = {3, 4, 5}\n",
    "\n",
    "# Find the union: all unique elements from both sets\n",
    "union_result = set1.union(set2)\n",
    "print(f\"Union: {union_result}\")\n",
    "\n",
    "# Find the intersection: only elements that are in BOTH sets\n",
    "intersection_result = set1.intersection(set2)\n",
    "print(f\"Intersection: {intersection_result}\")\n",
    "\n",
    "# Add an element 6 to set1\n",
    "set1.add(6)\n",
    "print(f\"Set1 after adding 6: {set1}\")"
   ]
  },
  {
   "cell_type": "markdown",
   "metadata": {},
   "source": [
    "***\n",
    "## 9. Dictionary (Basic)\n",
    "\n",
    "**Create a dictionary with keys: `name`, `age`, `city`. Print the value of each key. Then update the city to a new value.**\n",
    "\n",
    "***\n",
    "**Answer:**"
   ]
  },
  {
   "cell_type": "code",
   "execution_count": 9,
   "metadata": {},
   "outputs": [
    {
     "name": "stdout",
     "output_type": "stream",
     "text": [
      "Name: Riyan\n",
      "Age: 22\n",
      "City: Hyderabad\n",
      "Updated city: Dubai\n",
      "The final dictionary: {'name': 'Riyan', 'age': 22, 'city': 'Dubai'}\n"
     ]
    }
   ],
   "source": [
    "# Create the dictionary\n",
    "person = {\n",
    "    \"name\": \"Riyan\",\n",
    "    \"age\": 22,\n",
    "    \"city\": \"Hyderabad\"\n",
    "}\n",
    "\n",
    "# Print the value of each key\n",
    "print(f\"Name: {person['name']}\")\n",
    "print(f\"Age: {person['age']}\")\n",
    "print(f\"City: {person['city']}\")\n",
    "\n",
    "# Update the city to a new value\n",
    "person['city'] = \"Dubai\"\n",
    "print(f\"Updated city: {person['city']}\")\n",
    "print(f\"The final dictionary: {person}\")"
   ]
  },
  {
   "cell_type": "markdown",
   "metadata": {},
   "source": [
    "***\n",
    "## 10. Dictionary (Looping)\n",
    "\n",
    "**Given a dictionary:**  \n",
    "`scores = {\"Alice\": 90, \"Bob\": 85, \"Charlie\": 78}`  \n",
    "**Write a program to print each student’s name and score using a loop.**\n",
    "\n",
    "***\n",
    "**Answer:**"
   ]
  },
  {
   "cell_type": "code",
   "execution_count": 10,
   "metadata": {},
   "outputs": [
    {
     "name": "stdout",
     "output_type": "stream",
     "text": [
      "Student Scores:\n",
      "- Riyan: 90\n",
      "- Faisal: 85\n",
      "- Sohail: 78\n"
     ]
    }
   ],
   "source": [
    "scores = {\"Alice\": 90, \"Bob\": 85, \"Charlie\": 78}\n",
    "\n",
    "# The .items() method returns key-value pairs, which we can unpack into two loop variables.\n",
    "print(\"Student Scores:\")\n",
    "for name, score in scores.items():\n",
    "    print(f\"- {name}: {score}\")"
   ]
  },
  {
   "cell_type": "markdown",
   "metadata": {},
   "source": [
    "***\n",
    "## 11. Conditional Programming (if)\n",
    "\n",
    "**Write a Python program that takes a number as input and prints whether it is positive, negative, or zero.**\n",
    "\n",
    "***\n",
    "**Answer:**"
   ]
  },
  {
   "cell_type": "code",
   "execution_count": 13,
   "metadata": {},
   "outputs": [
    {
     "name": "stdin",
     "output_type": "stream",
     "text": [
      "Enter a number:  0\n"
     ]
    },
    {
     "name": "stdout",
     "output_type": "stream",
     "text": [
      "The number is zero.\n"
     ]
    }
   ],
   "source": [
    "# Get input from the user and convert it to an integer\n",
    "num = int(input(\"Enter a number: \"))\n",
    "\n",
    "if num > 0:\n",
    "    print(\"The number is positive.\")\n",
    "elif num < 0:\n",
    "    print(\"The number is negative.\")\n",
    "else:\n",
    "    print(\"The number is zero.\")"
   ]
  },
  {
   "cell_type": "markdown",
   "metadata": {},
   "source": [
    "***\n",
    "## 12. Conditional (if-elif-else)\n",
    "\n",
    "**Write a program to check if a user’s age qualifies for:**  \n",
    "- Minor (<18)  \n",
    "- Adult (18–60)  \n",
    "- Senior (>60)\n",
    "\n",
    "***\n",
    "**Answer:**"
   ]
  },
  {
   "cell_type": "code",
   "execution_count": 16,
   "metadata": {},
   "outputs": [
    {
     "name": "stdin",
     "output_type": "stream",
     "text": [
      "Please enter your age:  50\n"
     ]
    },
    {
     "name": "stdout",
     "output_type": "stream",
     "text": [
      "Category: Adult\n"
     ]
    }
   ],
   "source": [
    "age = int(input(\"Please enter your age: \"))\n",
    "\n",
    "if age < 18:\n",
    "    print(\"Category: Minor\")\n",
    "elif age <= 60: # This only runs if age is NOT < 18, so we know age is >= 18.\n",
    "    print(\"Category: Adult\")\n",
    "else: # This only runs if age is NOT <= 60.\n",
    "    print(\"Category: Senior\")"
   ]
  },
  {
   "cell_type": "markdown",
   "metadata": {},
   "source": [
    "***\n",
    "## 13. Conditional (Nested)\n",
    "\n",
    "**Write a program that takes two numbers and prints:**  \n",
    "- \"A is greater\" if A > B  \n",
    "- \"B is greater\" if B > A  \n",
    "- \"Equal\" if both are same  \n",
    "**Also print whether the greater number is even or odd.**\n",
    "\n",
    "***\n",
    "**Answer:**"
   ]
  },
  {
   "cell_type": "code",
   "execution_count": 17,
   "metadata": {},
   "outputs": [
    {
     "name": "stdin",
     "output_type": "stream",
     "text": [
      "Enter the first number (A):  5\n",
      "Enter the second number (B):  8\n"
     ]
    },
    {
     "name": "stdout",
     "output_type": "stream",
     "text": [
      "B is greater.\n",
      "It is an even number.\n"
     ]
    }
   ],
   "source": [
    "a = int(input(\"Enter the first number (A): \"))\n",
    "b = int(input(\"Enter the second number (B): \"))\n",
    "\n",
    "if a > b:\n",
    "    print(\"A is greater.\")\n",
    "    # This is a nested conditional, checked only if a > b\n",
    "    if a % 2 == 0:\n",
    "        print(\"It is an even number.\")\n",
    "    else:\n",
    "        print(\"It is an odd number.\")\n",
    "elif b > a:\n",
    "    print(\"B is greater.\")\n",
    "    # This is also a nested conditional\n",
    "    if b % 2 == 0:\n",
    "        print(\"It is an even number.\")\n",
    "    else:\n",
    "        print(\"It is an odd number.\")\n",
    "else:\n",
    "    print(\"The numbers are equal.\")"
   ]
  },
  {
   "cell_type": "markdown",
   "metadata": {},
   "source": [
    "***\n",
    "## 14. Mixing Datatypes and Collections\n",
    "\n",
    "**What will be the output of:**"
   ]
  },
  {
   "cell_type": "code",
   "execution_count": 18,
   "metadata": {},
   "outputs": [
    {
     "name": "stdout",
     "output_type": "stream",
     "text": [
      "apple\n"
     ]
    }
   ],
   "source": [
    "data = {\"fruits\": [\"apple\", \"banana\"], \"count\": 2}\n",
    "print(data[\"fruits\"][0])"
   ]
  },
  {
   "cell_type": "markdown",
   "metadata": {},
   "source": [
    "***\n",
    "**Answer:**  \n",
    "The output is **`apple`**.\n",
    "\n",
    "**Explanation:**\n",
    "1.  `data[\"fruits\"]` accesses the dictionary `data` and retrieves the value associated with the key `\"fruits\"`. This value is the list `[\"apple\", \"banana\"]`.\n",
    "2.  `[0]` is then applied to that list, which retrieves the element at index 0, which is the string `\"apple\"`.\n",
    "\n",
    "***"
   ]
  },
  {
   "cell_type": "markdown",
   "metadata": {},
   "source": [
    "## 15. Applied Problem (Mini-Project Style)\n",
    "\n",
    "**Create a program that:**  \n",
    "- Takes a list of 5 names from the user  \n",
    "- Stores them in a list  \n",
    "- Converts the list to a tuple  \n",
    "- Checks if a given name (input) is in the tuple or not  \n",
    "- If found, print position\n",
    "\n",
    "***\n",
    "**Answer:**"
   ]
  },
  {
   "cell_type": "code",
   "execution_count": 21,
   "metadata": {},
   "outputs": [
    {
     "name": "stdout",
     "output_type": "stream",
     "text": [
      "Please enter 5 names.\n"
     ]
    },
    {
     "name": "stdin",
     "output_type": "stream",
     "text": [
      "Enter name 1:  0\n",
      "Enter name 2:  1\n",
      "Enter name 3:  2\n",
      "Enter name 4:  3\n",
      "Enter name 5:  4\n"
     ]
    },
    {
     "name": "stdout",
     "output_type": "stream",
     "text": [
      "\n",
      "Your list is: ['0', '1', '2', '3', '4']\n",
      "Converted to a tuple: ('0', '1', '2', '3', '4')\n"
     ]
    },
    {
     "name": "stdin",
     "output_type": "stream",
     "text": [
      "\n",
      "Enter a name to search for:  4\n"
     ]
    },
    {
     "name": "stdout",
     "output_type": "stream",
     "text": [
      "Success! '4' was found at position 4.\n"
     ]
    }
   ],
   "source": [
    "# 1. Take a list of 5 names from the user\n",
    "print(\"Please enter 5 names.\")\n",
    "names_list = []\n",
    "for i in range(5):\n",
    "    name = input(f\"Enter name {i+1}: \")\n",
    "    names_list.append(name)\n",
    "\n",
    "print(f\"\\nYour list is: {names_list}\")\n",
    "\n",
    "# 2. Convert the list to a tuple\n",
    "names_tuple = tuple(names_list)\n",
    "print(f\"Converted to a tuple: {names_tuple}\")\n",
    "\n",
    "# 3. Check if a given name is in the tuple\n",
    "name_to_check = input(\"\\nEnter a name to search for: \")\n",
    "\n",
    "if name_to_check in names_tuple:\n",
    "    # 4. If found, print position using the .index() method\n",
    "    position = names_tuple.index(name_to_check)\n",
    "    print(f\"Success! '{name_to_check}' was found at position {position}.\")\n",
    "else:\n",
    "    print(f\"Sorry, '{name_to_check}' was not found in the tuple.\")"
   ]
  },
  {
   "cell_type": "markdown",
   "metadata": {},
   "source": [
    "***\n",
    "# Additional Problems (Solutions)"
   ]
  },
  {
   "cell_type": "markdown",
   "metadata": {},
   "source": [
    "**1. Positive, Negative or Zero**"
   ]
  },
  {
   "cell_type": "code",
   "execution_count": 22,
   "metadata": {},
   "outputs": [
    {
     "name": "stdin",
     "output_type": "stream",
     "text": [
      "Enter a number:  5\n"
     ]
    },
    {
     "name": "stdout",
     "output_type": "stream",
     "text": [
      "The number is positive.\n"
     ]
    }
   ],
   "source": [
    "num = int(input(\"Enter a number: \"))\n",
    "\n",
    "if num > 0:\n",
    "    print(\"The number is positive.\")\n",
    "elif num < 0:\n",
    "    print(\"The number is negative.\")\n",
    "else:\n",
    "    print(\"The number is zero.\")"
   ]
  },
  {
   "cell_type": "markdown",
   "metadata": {},
   "source": [
    "---\n",
    "\n",
    "**2. Age Category Checker**"
   ]
  },
  {
   "cell_type": "code",
   "execution_count": 23,
   "metadata": {},
   "outputs": [
    {
     "name": "stdin",
     "output_type": "stream",
     "text": [
      "Please enter the person's age:  45\n"
     ]
    },
    {
     "name": "stdout",
     "output_type": "stream",
     "text": [
      "Category: Adult\n"
     ]
    }
   ],
   "source": [
    "age = int(input(\"Please enter the person's age: \"))\n",
    "\n",
    "if age < 13:\n",
    "    print(\"Category: Child\")\n",
    "elif age <= 19: # 13-19\n",
    "    print(\"Category: Teen\")\n",
    "elif age <= 59: # 20-59\n",
    "    print(\"Category: Adult\")\n",
    "else: # 60 and above\n",
    "    print(\"Category: Senior\")"
   ]
  },
  {
   "cell_type": "markdown",
   "metadata": {},
   "source": [
    "---\n",
    "**3. Largest of Three Numbers**"
   ]
  },
  {
   "cell_type": "code",
   "execution_count": 25,
   "metadata": {},
   "outputs": [
    {
     "name": "stdin",
     "output_type": "stream",
     "text": [
      "Enter the first number:  2\n",
      "Enter the second number:  5\n",
      "Enter the third number:  7\n"
     ]
    },
    {
     "name": "stdout",
     "output_type": "stream",
     "text": [
      "The largest number is 7.\n"
     ]
    }
   ],
   "source": [
    "num1 = int(input(\"Enter the first number: \"))\n",
    "num2 = int(input(\"Enter the second number: \"))\n",
    "num3 = int(input(\"Enter the third number: \"))\n",
    "\n",
    "if num1 >= num2 and num1 >= num3:\n",
    "    largest = num1\n",
    "elif num2 >= num1 and num2 >= num3:\n",
    "    largest = num2\n",
    "else:\n",
    "    largest = num3\n",
    "\n",
    "print(f\"The largest number is {largest}.\")"
   ]
  },
  {
   "cell_type": "markdown",
   "metadata": {},
   "source": [
    "---\n",
    "**4. Grading System**"
   ]
  },
  {
   "cell_type": "code",
   "execution_count": 27,
   "metadata": {},
   "outputs": [
    {
     "name": "stdin",
     "output_type": "stream",
     "text": [
      "Enter the score (0-100):  75\n"
     ]
    },
    {
     "name": "stdout",
     "output_type": "stream",
     "text": [
      "The grade is: C\n"
     ]
    }
   ],
   "source": [
    "score = int(input(\"Enter the score (0-100): \"))\n",
    "\n",
    "if score >= 90:\n",
    "    grade = \"A\"\n",
    "elif score >= 80:\n",
    "    grade = \"B\"\n",
    "elif score >= 70:\n",
    "    grade = \"C\"\n",
    "elif score >= 60:\n",
    "    grade = \"D\"\n",
    "else:\n",
    "    grade = \"F\"\n",
    "\n",
    "print(f\"The grade is: {grade}\")"
   ]
  },
  {
   "cell_type": "code",
   "execution_count": null,
   "metadata": {},
   "outputs": [],
   "source": []
  }
 ],
 "metadata": {
  "kernelspec": {
   "display_name": "Python 3 (ipykernel)",
   "language": "python",
   "name": "python3"
  },
  "language_info": {
   "codemirror_mode": {
    "name": "ipython",
    "version": 3
   },
   "file_extension": ".py",
   "mimetype": "text/x-python",
   "name": "python",
   "nbconvert_exporter": "python",
   "pygments_lexer": "ipython3",
   "version": "3.13.5"
  }
 },
 "nbformat": 4,
 "nbformat_minor": 4
}
