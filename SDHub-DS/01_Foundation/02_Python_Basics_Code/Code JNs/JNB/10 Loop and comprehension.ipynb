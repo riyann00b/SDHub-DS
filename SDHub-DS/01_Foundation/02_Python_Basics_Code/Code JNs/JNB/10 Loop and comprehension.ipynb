{
 "cells": [
  {
   "cell_type": "markdown",
   "id": "b826fa8b-5142-424e-8fed-0df1750dc365",
   "metadata": {},
   "source": [
    "# **LOOPS AND COMPREHENSION**"
   ]
  },
  {
   "cell_type": "markdown",
   "id": "4f1dcdcf-1350-494e-8dc8-bcfbcac8c467",
   "metadata": {},
   "source": [
    "## Comprehension\n",
    "\n",
    "control flow programming\n",
    "\n",
    "satement True (loops)<- T <- statment -> F -> statement\n",
    "\n",
    "1. while loop is a 3 step process\n",
    "   1. step 1: initilaizatio\n",
    "   2. step 2: condition\n",
    "   3. step 3: operation\n",
    "\n",
    "2. For loop\n",
    "```python\n",
    "# syntax\n",
    "```\n",
    "\n",
    "3. Comprehension\n",
    "   1. list comprehension\n",
    "   2. example:\n",
    "      ```python\n",
    "      name = 'riyan'\n",
    "      for i in name:\n",
    "          print(i)\n",
    "      #output\n",
    "      r\n",
    "      i\n",
    "      y\n",
    "      a\n",
    "      n\n",
    "      ```"
   ]
  },
  {
   "cell_type": "markdown",
   "id": "72790c07-f831-4434-9fdd-ec5cd515de3f",
   "metadata": {},
   "source": [
    "```python\n",
    "name =  'riyan'\n",
    "res = [i for i in li]\n",
    "```\n",
    "\n",
    "1. case 1: op for loop\n",
    "2. case 2: op ffor loop if condition\n",
    "3. case 3: op if condition else condition op forloop\n",
    "\n"
   ]
  },
  {
   "cell_type": "code",
   "execution_count": 6,
   "id": "0b594233-5a79-4cb7-b3da-ed3a4aaa0ddb",
   "metadata": {},
   "outputs": [
    {
     "name": "stdout",
     "output_type": "stream",
     "text": [
      "r\n",
      "i\n",
      "y\n",
      "a\n",
      "n\n"
     ]
    }
   ],
   "source": [
    "#case -1\n",
    "\n",
    "name = 'riyan'\n",
    "\n",
    "for i in name:\n",
    "    print(i)"
   ]
  },
  {
   "cell_type": "code",
   "execution_count": 9,
   "id": "f075026a-bca3-40ac-a3d0-6be918931d85",
   "metadata": {},
   "outputs": [
    {
     "name": "stdout",
     "output_type": "stream",
     "text": [
      "['r', 'i', 'y', 'a', 'n']\n"
     ]
    }
   ],
   "source": [
    "# case - 1\n",
    "name = 'riyan'\n",
    "li = []\n",
    "\n",
    "for i in name:\n",
    "    li.append(i)\n",
    "\n",
    "print(li)"
   ]
  },
  {
   "cell_type": "code",
   "execution_count": 14,
   "id": "cc5affc8-78dd-4cc3-bcde-cb008aafc6e8",
   "metadata": {},
   "outputs": [
    {
     "name": "stdout",
     "output_type": "stream",
     "text": [
      "['r added', 'i added', 'y added', 'a added', 'n added']\n"
     ]
    }
   ],
   "source": [
    "# list comprehension\n",
    "\n",
    "name = 'riyan'\n",
    "li = [i+'' for i in name] #case-1 o/p forloop\n",
    "print(li)"
   ]
  },
  {
   "cell_type": "markdown",
   "id": "ac2f0a2c-7618-4d4b-a4e8-20a262f3467b",
   "metadata": {},
   "source": [
    "### **WAP to calculate square of each value in a list**"
   ]
  },
  {
   "cell_type": "code",
   "execution_count": 17,
   "id": "6bb46ef0-88d6-4ea4-843a-fa30b124fe22",
   "metadata": {},
   "outputs": [
    {
     "name": "stdout",
     "output_type": "stream",
     "text": [
      "[1, 4, 9, 16, 25]\n"
     ]
    }
   ],
   "source": [
    "li = [1,2,3,4,5]\n",
    "\n",
    "sq = [i**2 for i in li]\n",
    "print(sq)"
   ]
  },
  {
   "cell_type": "markdown",
   "id": "f2c8e120-5bf2-4cee-883a-1f984cf72116",
   "metadata": {},
   "source": [
    "### **WAP to display length of each name into list**"
   ]
  },
  {
   "cell_type": "code",
   "execution_count": 28,
   "id": "9bb6d0d4-f68f-4668-8292-03c2c6ab4727",
   "metadata": {},
   "outputs": [
    {
     "name": "stdout",
     "output_type": "stream",
     "text": [
      "length of name: [6, 6, 4]\n"
     ]
    }
   ],
   "source": [
    "li = ['Uwaish','prossy','khan']\n",
    "\n",
    "le = [len(i) for i in li]\n",
    "\n",
    "print('length of name:', le)"
   ]
  },
  {
   "cell_type": "markdown",
   "id": "3aca3a63-a4d7-4b7e-bf38-0255284053d0",
   "metadata": {},
   "source": [
    "## Case-2\n",
    "res = [o/p forloop if-condition]"
   ]
  },
  {
   "cell_type": "code",
   "execution_count": 32,
   "id": "f079a4bf-1f6c-4ead-bf2d-db1cd938fac7",
   "metadata": {},
   "outputs": [
    {
     "name": "stdout",
     "output_type": "stream",
     "text": [
      "[1, 3, 5]\n"
     ]
    }
   ],
   "source": [
    "li = [1,2,3,4,5]\n",
    "\n",
    "res = [i for i in li if i % 2 == 0]\n",
    "\n",
    "print(res)"
   ]
  },
  {
   "cell_type": "code",
   "execution_count": 31,
   "id": "8fbd1e52-3194-44e5-8620-1bc5262b877d",
   "metadata": {},
   "outputs": [
    {
     "name": "stdout",
     "output_type": "stream",
     "text": [
      "2\n",
      "4\n"
     ]
    }
   ],
   "source": [
    "for i in li:\n",
    "    if i % 2 == 0:\n",
    "        print(i)"
   ]
  },
  {
   "cell_type": "markdown",
   "id": "242cd3ee-bdfc-4607-8e94-2bb10928795c",
   "metadata": {},
   "source": [
    "### **WAP to Display name if name leanth id <= to 3**"
   ]
  },
  {
   "cell_type": "code",
   "execution_count": 34,
   "id": "7e9132e5-70f9-4ba1-9543-6c65bd8818d0",
   "metadata": {},
   "outputs": [
    {
     "name": "stdout",
     "output_type": "stream",
     "text": [
      "['pro']\n"
     ]
    }
   ],
   "source": [
    "li = ['Uwaish','pro','khan']\n",
    "\n",
    "name = [i for i in li if len(i)<=3]\n",
    "\n",
    "print(name)"
   ]
  },
  {
   "cell_type": "markdown",
   "id": "c92c7568-8f53-4093-91be-bedfdc9d1922",
   "metadata": {},
   "source": [
    "### **WAP to display name if the first letter is a vowal**"
   ]
  },
  {
   "cell_type": "code",
   "execution_count": 39,
   "id": "eed2e4ba-4026-4632-951a-046741c0f31b",
   "metadata": {},
   "outputs": [
    {
     "name": "stdout",
     "output_type": "stream",
     "text": [
      "['aie', 'amaan']\n"
     ]
    }
   ],
   "source": [
    "li = ['Uwaish','pro','khan', 'aie', 'amaan']\n",
    "vo = 'aieou'\n",
    "name = [i for i in li if i[0] in vo] # use membership oparators \n",
    "print(name)"
   ]
  },
  {
   "cell_type": "markdown",
   "id": "087f599a-84b0-4b75-a08e-78097f811370",
   "metadata": {},
   "source": [
    "# Case-3\n",
    "\n",
    "[op if-condition else o/p for-loop]"
   ]
  },
  {
   "cell_type": "code",
   "execution_count": 45,
   "id": "4459ba04-a8d4-4a0a-86e9-3295809fde57",
   "metadata": {},
   "outputs": [
    {
     "name": "stdout",
     "output_type": "stream",
     "text": [
      "['odd', 'even', 'odd', 'even', 'odd']\n"
     ]
    }
   ],
   "source": [
    "li = [1,2,3,4,5]\n",
    "even_odd = ['even' if i % 2 == 0 else 'odd' for i in li]\n",
    "\n",
    "print(even_odd)"
   ]
  },
  {
   "cell_type": "code",
   "execution_count": 46,
   "id": "00235135-ddca-41cc-81de-4abb6123eba2",
   "metadata": {},
   "outputs": [
    {
     "name": "stdout",
     "output_type": "stream",
     "text": [
      "['fail', 'pass', 'pass', 'fail', 'fail']\n"
     ]
    }
   ],
   "source": [
    "li = [22,44,88,12,13]\n",
    "\n",
    "pas_fai = ['pass' if i >= 33 else 'fail' for i in li]\n",
    "\n",
    "print(pas_fai)"
   ]
  },
  {
   "cell_type": "code",
   "execution_count": 72,
   "id": "851f97be-bba8-4227-9323-b8292e8d899a",
   "metadata": {},
   "outputs": [
    {
     "name": "stdout",
     "output_type": "stream",
     "text": [
      "[32, 44, 88, 22, 23] 2\n"
     ]
    }
   ],
   "source": [
    "li = [22,44,88,12,13]\n",
    "\n",
    "pas_fai = [i if i >= 33  else  i + 10 for i in li]\n",
    "failed = [i for i in pas_fai if i >= 33 ]\n",
    "print(pas_fai, len(failed))"
   ]
  },
  {
   "cell_type": "markdown",
   "id": "592ac3f8-9fec-4ad8-ae3b-af9551bc2c2d",
   "metadata": {},
   "source": [
    "## dictionary comprehensions (key-value pairs)\n"
   ]
  },
  {
   "cell_type": "markdown",
   "id": "0f693e4c-7faf-4600-a516-eab0fb67692c",
   "metadata": {},
   "source": [
    "### **WAP to calculate the square of even value and cude of odd value**"
   ]
  },
  {
   "cell_type": "code",
   "execution_count": 80,
   "id": "236f3620-a23d-4f76-a429-719a0e7580d6",
   "metadata": {},
   "outputs": [
    {
     "name": "stdout",
     "output_type": "stream",
     "text": [
      "{1: 1, 2: 4, 3: 27, 4: 16, 5: 125, 6: 36, 7: 343, 8: 64, 9: 729, 10: 100}\n"
     ]
    }
   ],
   "source": [
    "li = [1,2,3,4,5,6,7,8,9,10]\n",
    "\n",
    "res = {i: i**2 if i % 2 == 0 else i**3 for i in li}\n",
    "print(res)"
   ]
  },
  {
   "cell_type": "markdown",
   "id": "338242ca-dfc3-4faa-9ec7-a396262d2300",
   "metadata": {},
   "source": [
    "### display name and length in dict"
   ]
  },
  {
   "cell_type": "code",
   "execution_count": 81,
   "id": "800d9475-ee7a-496c-8465-db9b73972236",
   "metadata": {},
   "outputs": [
    {
     "name": "stdout",
     "output_type": "stream",
     "text": [
      "{'zxcvbnm': 7, 'asdfghjkl': 9, 'qwertyuiop': 10}\n"
     ]
    }
   ],
   "source": [
    "li = ['zxcvbnm','asdfghjkl','qwertyuiop']\n",
    "\n",
    "res = {i: len(i) for i in li}\n",
    "print(res)"
   ]
  },
  {
   "cell_type": "code",
   "execution_count": null,
   "id": "d4809ee6-41f1-4682-a0dc-678fdbd1dc90",
   "metadata": {},
   "outputs": [],
   "source": []
  }
 ],
 "metadata": {
  "kernelspec": {
   "display_name": "Python 3 (ipykernel)",
   "language": "python",
   "name": "python3"
  },
  "language_info": {
   "codemirror_mode": {
    "name": "ipython",
    "version": 3
   },
   "file_extension": ".py",
   "mimetype": "text/x-python",
   "name": "python",
   "nbconvert_exporter": "python",
   "pygments_lexer": "ipython3",
   "version": "3.13.5"
  }
 },
 "nbformat": 4,
 "nbformat_minor": 5
}
