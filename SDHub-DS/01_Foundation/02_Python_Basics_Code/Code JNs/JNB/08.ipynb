{
 "cells": [
  {
   "cell_type": "markdown",
   "id": "287948a1-2ac4-4be1-8ce8-5c4b6656cca9",
   "metadata": {},
   "source": [
    "### **WAP to recieve name and check if the name starts and ands with a vowel if yes then ask for users age and check whether it is above 50 ot not if it is above 50 then check for no. of childern, if user has more then 2 choldern then allow user  for special status**"
   ]
  },
  {
   "cell_type": "code",
   "execution_count": null,
   "id": "38f0d393-24dd-41d9-a148-f0f2d8967136",
   "metadata": {},
   "outputs": [],
   "source": [
    "name = input(\"Enter your Name: \")\n",
    "\n",
    "vowel = 'aeiou'\n",
    "\n",
    "if name[0].lower()in vowel and name[-1].lower() in vowel:\n",
    "    print(\"your allowed\")\n",
    "\n",
    "    age = int(input(\"Enter your age: \"))\n",
    "\n",
    "    if age >= 50:\n",
    "        kids = int(input(\"Enter your number of childern\"))\n",
    "        if kids > 3:\n",
    "            print(\"your specical\")\n",
    "        else:\n",
    "            print(\"YOur not special\")\n",
    "else:\n",
    "    print(\"not allowed\")\n",
    "\n"
   ]
  },
  {
   "cell_type": "markdown",
   "id": "3342e58f-1e69-45ee-b460-0a327688ac26",
   "metadata": {},
   "source": [
    "# Control Flow Programming\n",
    "\n",
    "1. proceedural programing\n",
    "   - sequencial (statement after statement)\n",
    "2. conditional programming\n",
    "   - statement (true or flase value)\n",
    "3. control flow\n",
    "   - fix redundancy\n",
    "   - statement -> condition -> check if true -> if not true loop runs again\n",
    "   - type of loops :\n",
    "   - 1. While loop\n",
    "     2. for loop\n",
    "4. example:\n",
    "   ```python\n",
    "   name = 'Riyan'\n",
    "   print(name[0])\n",
    "   #\n",
    "   #\n",
    "   #\n",
    "   #\n",
    "   print(name[4])\n",
    "   ```\n",
    "---\n",
    "## 3 step process of for loop\n",
    "\n",
    "1. step 1: initialize\n",
    "2. step 2: condition\n",
    "3. step 3: operation\n",
    "---\n",
    "### exmaple: Display first 10 numbers\n",
    " \n",
    " manual method\n",
    " ```python\n",
    " print(1)\n",
    " print(2)\n",
    " #\n",
    " #\n",
    " #\n",
    " print(10)\n",
    " ```\n",
    "---\n",
    "while loop method\n",
    "\n",
    " ```python\n",
    " num = 1\n",
    " while num <= 10:\n",
    "     print(num)\n",
    "     num+=1\n",
    " ```"
   ]
  },
  {
   "cell_type": "code",
   "execution_count": null,
   "id": "0e6e129f-8d37-4204-a0be-0df5c078d2c4",
   "metadata": {},
   "outputs": [],
   "source": [
    "# display 1 to 10\n",
    "\n",
    "num = 1 # initialization\n",
    "\n",
    "while num <= 10: #condition\n",
    "    print(num)\n",
    "    num+=1 #operation"
   ]
  },
  {
   "cell_type": "code",
   "execution_count": null,
   "id": "5c50479a-b8ed-4860-a330-c0805dc24f47",
   "metadata": {},
   "outputs": [],
   "source": [
    "# display 10 to 1\n",
    "\n",
    "num = 10 # initialization\n",
    "\n",
    "while num >= 1: #condition\n",
    "    print(num)\n",
    "    num-=1 #operation"
   ]
  },
  {
   "cell_type": "code",
   "execution_count": null,
   "id": "cc1d575e-dd2d-43aa-87d8-cc700d965944",
   "metadata": {},
   "outputs": [],
   "source": [
    "# display even number between 10 to 30 \n",
    "\n",
    "num = 10 # initialization\n",
    "\n",
    "while num >= 30: #condition\n",
    "    print(num)\n",
    "    num+=1 #operation"
   ]
  },
  {
   "cell_type": "markdown",
   "id": "056b5777-e0f3-466c-bbe1-3a6993acd86c",
   "metadata": {},
   "source": [
    "### **WAP to recieve  start and end point from user and display alll the nutural numbers between the range**"
   ]
  },
  {
   "cell_type": "code",
   "execution_count": null,
   "id": "8f988496-7a44-4259-a0c8-bb0b8f1ec154",
   "metadata": {},
   "outputs": [],
   "source": [
    "start = int(input(\"Enter Start: \"))\n",
    "end = int(input(\"Enter End: \"))\n",
    "\n",
    "while start <= end:\n",
    "    \n",
    "    print(start)\n",
    "    start+=1"
   ]
  },
  {
   "cell_type": "code",
   "execution_count": null,
   "id": "fced935e-322c-4ca3-b2fa-4d7a381f3a53",
   "metadata": {},
   "outputs": [],
   "source": [
    "# display star pa\n",
    "\n",
    "num = 1 # initialization\n",
    "\n",
    "while num <= 10: #condition\n",
    "    print(\"*\"*num)\n",
    "    num+=1 #operation"
   ]
  },
  {
   "cell_type": "code",
   "execution_count": null,
   "id": "8c9bad51-20b5-403d-ad74-44500a626b23",
   "metadata": {},
   "outputs": [],
   "source": [
    "# display 10 to 1\n",
    "\n",
    "num = 10 # initialization\n",
    "\n",
    "while num >= 1: #condition\n",
    "    print('*'*num)\n",
    "    num-=1 #operation"
   ]
  },
  {
   "cell_type": "markdown",
   "id": "f3a2139c-01be-40ed-857b-74db1e337f18",
   "metadata": {},
   "source": [
    "## while loop with conditional programming\n",
    "1. initialize\n",
    "2. while condition:\n",
    "   - "
   ]
  },
  {
   "cell_type": "markdown",
   "id": "8afd5e10-3f12-475a-ad67-54701f3e0f9d",
   "metadata": {},
   "source": [
    "### **WAP to recieve start and end value from user and label them as odd and even**"
   ]
  },
  {
   "cell_type": "code",
   "execution_count": 2,
   "id": "cedf3776-b9a5-43bc-8f77-74185a6f3a95",
   "metadata": {},
   "outputs": [
    {
     "name": "stdin",
     "output_type": "stream",
     "text": [
      "enter start number:  10\n",
      "enter end number:  20\n"
     ]
    },
    {
     "name": "stdout",
     "output_type": "stream",
     "text": [
      "10 even\n",
      "11 odd\n",
      "12 even\n",
      "13 odd\n",
      "14 even\n",
      "15 odd\n",
      "16 even\n",
      "17 odd\n",
      "18 even\n",
      "19 odd\n",
      "20 even\n"
     ]
    }
   ],
   "source": [
    "start = int(input(\"enter start number: \"))\n",
    "end = int(input(\"enter end number: \"))\n",
    "\n",
    "while start <= end:\n",
    "    if start % 2 == 0:\n",
    "        print(start, 'even')\n",
    "    else:\n",
    "        print(start, \"odd\")\n",
    "    start+=1"
   ]
  },
  {
   "cell_type": "code",
   "execution_count": null,
   "id": "81bea23d-6e7a-45fc-b3fa-5e248fd1a63b",
   "metadata": {},
   "outputs": [],
   "source": []
  }
 ],
 "metadata": {
  "kernelspec": {
   "display_name": "Python 3 (ipykernel)",
   "language": "python",
   "name": "python3"
  },
  "language_info": {
   "codemirror_mode": {
    "name": "ipython",
    "version": 3
   },
   "file_extension": ".py",
   "mimetype": "text/x-python",
   "name": "python",
   "nbconvert_exporter": "python",
   "pygments_lexer": "ipython3",
   "version": "3.13.5"
  }
 },
 "nbformat": 4,
 "nbformat_minor": 5
}
