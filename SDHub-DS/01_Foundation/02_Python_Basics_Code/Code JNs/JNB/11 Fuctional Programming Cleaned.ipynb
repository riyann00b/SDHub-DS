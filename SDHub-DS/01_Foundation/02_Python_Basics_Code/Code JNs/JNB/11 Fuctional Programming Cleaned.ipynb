{
 "cells": [
  {
   "cell_type": "markdown",
   "source": [
    "# Day 13: Introduction to Functional Programming in Python\n",
    "\n",
    "> **Definition:** Functional programming is a programming style where you build programs by applying and composing functions. It's centered around the idea that functions are first-class citizens, meaning they can be treated like any other variable."
   ]
  },
  {
   "cell_type": "markdown",
   "source": [
    "## 1. Built-in Functions\n",
    "\n",
    "Python provides several functions that are available for you to use right away. We've already used some of them!\n",
    "\n",
    "| Function | Description |\n",
    "| --- | --- |\n",
    "| `print()` | Displays output to the console. |\n",
    "| `len()` | Returns the length (number of items) of an object. |\n",
    "| `list()` | Creates a list. |\n",
    "| `input()` | Reads a line of text from the user. |\n",
    "| `int()`, `str()`, `float()` | Converts values to integer, string, or float types. |"
   ]
  },
  {
   "cell_type": "markdown",
   "source": [
    "## 2. User-Defined Functions\n",
    "\n",
    "While built-in functions are useful, the real power comes from writing your own functions to perform specific tasks.\n",
    "\n",
    "### How to Define a Function\n",
    "Use the `def` keyword, followed by a function name, parentheses `()`, and a colon `:`.\n",
    "```python\n",
    "def my_function():\n",
    "    # code to be executed\n",
    "    print(\"Hello from a function!\")\n",
    "```\n",
    "\n",
    "### How to Call (or Invoke) a Function\n",
    "To run the code inside a function, you just type its name followed by parentheses.\n",
    "```python\n",
    "my_function()\n",
    "```"
   ]
  },
  {
   "cell_type": "markdown",
   "source": [
    "### Example: A Simple Greeting Function\n",
    "\n",
    "This function takes user input inside it and prints a greeting."
   ]
  },
  {
   "cell_type": "code",
   "execution_count": 1,
   "metadata": {},
   "outputs": [],
   "source": [
    "def greet_people():\n",
    "    name = input(\"Enter your name: \")\n",
    "    print(f\"Hello, and good morning, {name}!\")\n",
    "\n",
    "greet_people()"
   ]
  },
  {
   "cell_type": "markdown",
   "source": [
    "### Passing Information with Parameters (Arguments)\n",
    "\n",
    "You can make functions more flexible by passing information to them through **parameters**. A parameter is a variable listed inside the parentheses in the function definition.\n",
    "\n",
    "```python\n",
    "def greet_people_with_name(name): # 'name' is a parameter\n",
    "    print(f\"Hello, and good morning, {name}!\")\n",
    "\n",
    "# \"Riyan\" is the argument passed to the function\n",
    "greet_people_with_name(\"Riyan\") \n",
    "```"
   ]
  },
  {
   "cell_type": "code",
   "execution_count": 2,
   "metadata": {},
   "outputs": [],
   "source": [
    "# Defining the function with a parameter 'name'\n",
    "def greet_people(name):\n",
    "    print(f\"Hello, \\nGood morning, {name}\")\n",
    "\n",
    "# Calling the function and providing \"riyan\" as the argument\n",
    "greet_people(\"riyan\")"
   ]
  },
  {
   "cell_type": "markdown",
   "source": [
    "### Practice: A Function to Add Two Numbers"
   ]
  },
  {
   "cell_type": "code",
   "execution_count": 3,
   "metadata": {},
   "outputs": [],
   "source": [
    "# This function takes two numbers as parameters and prints their sum.\n",
    "def add_numbers(a, b):\n",
    "    print(f\"The sum of {a} and {b} is: {a + b}\")\n",
    "\n",
    "add_numbers(12, 13)"
   ]
  },
  {
   "cell_type": "markdown",
   "source": [
    "## 3. Returning Values from Functions\n",
    "\n",
    "So far, our functions have only printed results. To make them more useful, we can use the `return` keyword to send a value back, which can then be stored in a variable.\n"
   ]
  },
  {
   "cell_type": "markdown",
   "source": [
    "### Example: A Function that Returns a Square\n",
    "\n",
    "This function doesn't print anything. It calculates the square and returns the result."
   ]
  },
  {
   "cell_type": "code",
   "execution_count": 4,
   "metadata": {},
   "outputs": [],
   "source": [
    "def square(num):\n",
    "    return num ** 2\n",
    "\n",
    "# Call the function and store the returned value in a variable\n",
    "result = square(12)\n",
    "\n",
    "print(f\"The result is: {result}\")\n",
    "print(f\"The square of 5 is: {square(5)}\")"
   ]
  },
  {
   "cell_type": "markdown",
   "source": [
    "## 4. Functions with Conditional Logic\n",
    "\n",
    "You can combine functions with `if/else` statements to make them perform different actions based on the input."
   ]
  },
  {
   "cell_type": "markdown",
   "source": [
    "### Example: Odd or Even Identifier\n",
    "\n",
    "This function checks if a number is even or odd and prints the result."
   ]
  },
  {
   "cell_type": "code",
   "execution_count": 5,
   "metadata": {},
   "outputs": [],
   "source": [
    "def check_odd_even(num):\n",
    "    if num % 2 == 0:\n",
    "        print(f'The number {num} is EVEN.')\n",
    "    else:\n",
    "        print(f'The number {num} is ODD.')\n",
    "\n",
    "check_odd_even(12)\n",
    "check_odd_even(17)"
   ]
  },
  {
   "cell_type": "markdown",
   "source": [
    "### Practice: Vowel Checker\n",
    "\n",
    "This function checks if a name starts with a vowel."
   ]
  },
  {
   "cell_type": "code",
   "execution_count": 6,
   "metadata": {},
   "outputs": [],
   "source": [
    "def check_vowel_start(name):\n",
    "    vowels = \"aeiouAEIOU\"\n",
    "    if name[0] in vowels:\n",
    "        print(f'The name \"{name}\" starts with a vowel.')\n",
    "    else:\n",
    "        print(f'The name \"{name}\" does not start with a vowel.')\n",
    "\n",
    "check_vowel_start('Riyan')\n",
    "check_vowel_start('Amaan')"
   ]
  },
  {
   "cell_type": "markdown",
   "source": [
    "### Practice: Count All Vowels in a String\n",
    "\n",
    "This function takes a string and returns the total number of vowels in it."
   ]
  },
  {
   "cell_type": "code",
   "execution_count": 7,
   "metadata": {},
   "outputs": [],
   "source": [
    "def count_vowels(text):\n",
    "    vowels = \"aeiouAEIOU\"\n",
    "    count = 0\n",
    "    for char in text:\n",
    "        if char in vowels:\n",
    "            count += 1\n",
    "    return count\n",
    "\n",
    "name = 'Uwaish'\n",
    "vowel_count = count_vowels(name)\n",
    "print(f'The number of vowels in \"{name}\" is {vowel_count}.')"
   ]
  },
  {
   "cell_type": "markdown",
   "source": [
    "## 5. Advanced Topic: Recursive Functions\n",
    "\n",
    "A recursive function is one that calls itself. It's a powerful concept for solving problems that can be broken down into smaller, similar sub-problems.\n",
    "\n",
    "A recursive function must have:\n",
    "1.  A **base case**: A condition to stop the recursion.\n",
    "2.  A **recursive step**: The part where the function calls itself.\n"
   ]
  },
  {
   "cell_type": "markdown",
   "source": [
    "### Example: Calculating a Factorial\n",
    "\n",
    "The factorial of a number `n` (written as `n!`) is the product of all positive integers up to `n`.\n",
    "e.g., `5! = 5 * 4 * 3 * 2 * 1 = 120`\n",
    "\n",
    "This can be written recursively as `n! = n * (n-1)!`."
   ]
  },
  {
   "cell_type": "code",
   "execution_count": 8,
   "metadata": {},
   "outputs": [],
   "source": [
    "def factorial(n):\n",
    "    # Base case: if n is 1, factorial is 1, so we stop.\n",
    "    if n == 1:\n",
    "        return 1\n",
    "    # Recursive step: n * factorial of (n-1)\n",
    "    else:\n",
    "        return n * factorial(n - 1)\n",
    "\n",
    "number = 5\n",
    "result = factorial(number)\n",
    "print(f\"The factorial of {number} is {result}\")"
   ]
  },
  {
   "cell_type": "markdown",
   "source": [
    "## 6. Variable Scope\n",
    "\n",
    "Scope determines the accessibility of a variable. Not all variables are accessible from all parts of the program.\n",
    "\n",
    "- **Local Variable**: Defined inside a function. It can only be used within that function.\n",
    "- **Global Variable**: Defined outside of any function. It can be used anywhere in the code (both inside and outside functions).\n",
    "\n",
    "It's generally good practice to use local variables and pass them as parameters to avoid accidentally changing global variables from within functions."
   ]
  },
  {
   "cell_type": "code",
   "execution_count": 9,
   "metadata": {},
   "outputs": [],
   "source": [
    "global_variable = \"I am available everywhere!\"\n",
    "\n",
    "def my_scope_test():\n",
    "    local_variable = \"I am only available inside this function.\"\n",
    "    print(local_variable) # This works\n",
    "    print(global_variable) # This also works\n",
    "\n",
    "my_scope_test()\n",
    "\n",
    "# print(local_variable) # This will cause an error because it's out of scope"
   ]
  }
 ],
 "metadata": {
  "kernelspec": {
   "display_name": "Python 3 (ipykernel)",
   "language": "python",
   "name": "python3"
  },
  "language_info": {
   "codemirror_mode": {
    "name": "ipython",
    "version": 3
   },
   "file_extension": ".py",
   "mimetype": "text/x-python",
   "name": "python",
   "nbconvert_exporter": "python",
   "pygments_lexer": "ipython3",
   "version": "3.11.7"
  }
 },
 "nbformat": 4,
 "nbformat_minor": 5
}
