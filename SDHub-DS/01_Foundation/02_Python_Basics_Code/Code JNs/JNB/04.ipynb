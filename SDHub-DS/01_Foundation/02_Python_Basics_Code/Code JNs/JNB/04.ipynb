{
 "cells": [
  {
   "cell_type": "markdown",
   "id": "739d9b69-ec14-4e37-9e54-34bcdb1f2f5d",
   "metadata": {},
   "source": [
    "## String opprations"
   ]
  },
  {
   "cell_type": "code",
   "execution_count": 1,
   "id": "007fa33a-c7c9-413a-833c-c7b7c1455340",
   "metadata": {},
   "outputs": [],
   "source": [
    "sen = \"python is a programming language\""
   ]
  },
  {
   "cell_type": "code",
   "execution_count": 2,
   "id": "75054703-773d-42b0-994e-d78e7898f548",
   "metadata": {},
   "outputs": [
    {
     "data": {
      "text/plain": [
       "str"
      ]
     },
     "execution_count": 2,
     "metadata": {},
     "output_type": "execute_result"
    }
   ],
   "source": [
    "type(sen)"
   ]
  },
  {
   "cell_type": "code",
   "execution_count": 3,
   "id": "33f61f0f-02c5-4c35-adca-82c96b5ce162",
   "metadata": {},
   "outputs": [
    {
     "data": {
      "text/plain": [
       "'p'"
      ]
     },
     "execution_count": 3,
     "metadata": {},
     "output_type": "execute_result"
    }
   ],
   "source": [
    "sen[0]"
   ]
  },
  {
   "cell_type": "code",
   "execution_count": 4,
   "id": "d6234b5c-04b0-4174-bc17-110b8c621201",
   "metadata": {},
   "outputs": [
    {
     "data": {
      "text/plain": [
       "'pyt'"
      ]
     },
     "execution_count": 4,
     "metadata": {},
     "output_type": "execute_result"
    }
   ],
   "source": [
    "sen[:3]"
   ]
  },
  {
   "cell_type": "code",
   "execution_count": 5,
   "id": "0fd49808-eabe-45c4-808b-c6a8e93f4759",
   "metadata": {},
   "outputs": [
    {
     "data": {
      "text/plain": [
       "'hon is a programming language'"
      ]
     },
     "execution_count": 5,
     "metadata": {},
     "output_type": "execute_result"
    }
   ],
   "source": [
    "sen[3:]"
   ]
  },
  {
   "cell_type": "code",
   "execution_count": 6,
   "id": "8ffecec6-ceb9-417d-a9e7-96f957d52947",
   "metadata": {},
   "outputs": [
    {
     "data": {
      "text/plain": [
       "'python is a programming langu'"
      ]
     },
     "execution_count": 6,
     "metadata": {},
     "output_type": "execute_result"
    }
   ],
   "source": [
    "sen[:-3]"
   ]
  },
  {
   "cell_type": "code",
   "execution_count": 7,
   "id": "220fbf92-d3ca-43fb-b307-8422a6ced3d7",
   "metadata": {},
   "outputs": [
    {
     "data": {
      "text/plain": [
       "'age'"
      ]
     },
     "execution_count": 7,
     "metadata": {},
     "output_type": "execute_result"
    }
   ],
   "source": [
    "sen[-3:]"
   ]
  },
  {
   "cell_type": "code",
   "execution_count": 8,
   "id": "c4341148-c8d8-4e6f-a91f-0c2501befb7d",
   "metadata": {},
   "outputs": [
    {
     "data": {
      "text/plain": [
       "'egaugnal gnimmargorp a si nohtyp'"
      ]
     },
     "execution_count": 8,
     "metadata": {},
     "output_type": "execute_result"
    }
   ],
   "source": [
    "sen[::-1]"
   ]
  },
  {
   "cell_type": "code",
   "execution_count": 9,
   "id": "3113ddb8-c1e4-4346-a198-467a2379aeed",
   "metadata": {},
   "outputs": [
    {
     "data": {
      "text/plain": [
       "'euagmrraioy'"
      ]
     },
     "execution_count": 9,
     "metadata": {},
     "output_type": "execute_result"
    }
   ],
   "source": [
    "sen[::-3]"
   ]
  },
  {
   "cell_type": "markdown",
   "id": "601a8161-783e-4485-8962-dd99abc97de9",
   "metadata": {},
   "source": [
    "# display the length"
   ]
  },
  {
   "cell_type": "code",
   "execution_count": 11,
   "id": "f1297e07-f49c-4d35-ada5-ed4bff09aacf",
   "metadata": {},
   "outputs": [
    {
     "data": {
      "text/plain": [
       "32"
      ]
     },
     "execution_count": 11,
     "metadata": {},
     "output_type": "execute_result"
    }
   ],
   "source": [
    "len(sen)"
   ]
  },
  {
   "cell_type": "code",
   "execution_count": 19,
   "id": "c4567214-14cb-48af-812b-c77724a7ac31",
   "metadata": {},
   "outputs": [
    {
     "data": {
      "text/plain": [
       "2"
      ]
     },
     "execution_count": 19,
     "metadata": {},
     "output_type": "execute_result"
    }
   ],
   "source": [
    "sen.lower().count(\"p\")"
   ]
  },
  {
   "cell_type": "markdown",
   "id": "64f17d4c-0c2e-4952-9746-918b098f7869",
   "metadata": {},
   "source": [
    "### String Opprations"
   ]
  },
  {
   "cell_type": "code",
   "execution_count": 22,
   "id": "e1a89ee6-5e6d-4cf1-a306-7169ecf247e7",
   "metadata": {},
   "outputs": [
    {
     "data": {
      "text/plain": [
       "'Hello World'"
      ]
     },
     "execution_count": 22,
     "metadata": {},
     "output_type": "execute_result"
    }
   ],
   "source": [
    "# concatination\n",
    "\"Hello\"+\" \"+\"World\""
   ]
  },
  {
   "cell_type": "markdown",
   "id": "62d2e3d9-2188-4341-9b0c-ac58b37177fc",
   "metadata": {},
   "source": [
    "1. len() -> leanth of a charector\n",
    "2. count() -> count the number of charector or apprirnce of the charector\n",
    "3. lower() -> make the charector lower case\n",
    "4. upper() -> makw the charector upper case\n",
    "5. strip() -> remove suffix or prefixs\n",
    "6. splite() -> divide the string\n",
    "\n"
   ]
  },
  {
   "cell_type": "markdown",
   "id": "f3f62e08-4306-4c9b-8467-699fb3ff6be3",
   "metadata": {},
   "source": [
    "## Speacial Function"
   ]
  },
  {
   "cell_type": "code",
   "execution_count": 23,
   "id": "ff45d6ef-839c-474d-8ccd-f1109de8cbc3",
   "metadata": {},
   "outputs": [
    {
     "data": {
      "text/plain": [
       "'PYTHON IS A PROGRAMMING LANGUAGE'"
      ]
     },
     "execution_count": 23,
     "metadata": {},
     "output_type": "execute_result"
    }
   ],
   "source": [
    "sen.upper()"
   ]
  },
  {
   "cell_type": "code",
   "execution_count": 25,
   "id": "758cd809-7a9d-4d10-a056-5a6b826a73e3",
   "metadata": {},
   "outputs": [
    {
     "data": {
      "text/plain": [
       "'Python Is A Programming Language'"
      ]
     },
     "execution_count": 25,
     "metadata": {},
     "output_type": "execute_result"
    }
   ],
   "source": [
    "sen.title()"
   ]
  },
  {
   "cell_type": "code",
   "execution_count": 27,
   "id": "40ecd190-646a-439c-a5bc-9f3f33fe6eb8",
   "metadata": {},
   "outputs": [
    {
     "data": {
      "text/plain": [
       "'Python is a programming language'"
      ]
     },
     "execution_count": 27,
     "metadata": {},
     "output_type": "execute_result"
    }
   ],
   "source": [
    "sen.capitalize()"
   ]
  },
  {
   "cell_type": "code",
   "execution_count": 28,
   "id": "2ac76954-8ed8-4538-bcf1-8699fa377353",
   "metadata": {},
   "outputs": [
    {
     "data": {
      "text/plain": [
       "'python is a programming language'"
      ]
     },
     "execution_count": 28,
     "metadata": {},
     "output_type": "execute_result"
    }
   ],
   "source": [
    "sen.strip(\"P\")"
   ]
  },
  {
   "cell_type": "code",
   "execution_count": 29,
   "id": "9633faa2-3915-4a12-b8a2-6d1b99dd4029",
   "metadata": {},
   "outputs": [
    {
     "data": {
      "text/plain": [
       "'ython is a programming language'"
      ]
     },
     "execution_count": 29,
     "metadata": {},
     "output_type": "execute_result"
    }
   ],
   "source": [
    "sen.strip(\"p\")"
   ]
  },
  {
   "cell_type": "code",
   "execution_count": 30,
   "id": "194a030c-cd12-45b7-8096-42a200a5eaf1",
   "metadata": {},
   "outputs": [
    {
     "data": {
      "text/plain": [
       "'Riyan'"
      ]
     },
     "execution_count": 30,
     "metadata": {},
     "output_type": "execute_result"
    }
   ],
   "source": [
    "name = \"Riyan#\"\n",
    "name.strip(\"#\")"
   ]
  },
  {
   "cell_type": "code",
   "execution_count": 32,
   "id": "09f9087c-007f-449d-96a6-823e53b8360b",
   "metadata": {},
   "outputs": [
    {
     "data": {
      "text/plain": [
       "['python', 'is', 'a', 'programming', 'language']"
      ]
     },
     "execution_count": 32,
     "metadata": {},
     "output_type": "execute_result"
    }
   ],
   "source": [
    "sen.split(\" \")"
   ]
  },
  {
   "cell_type": "code",
   "execution_count": 33,
   "id": "844a4a54-3f57-441a-b611-42ce0c00d714",
   "metadata": {},
   "outputs": [
    {
     "data": {
      "text/plain": [
       "5"
      ]
     },
     "execution_count": 33,
     "metadata": {},
     "output_type": "execute_result"
    }
   ],
   "source": [
    "len(sen.split(\" \"))"
   ]
  },
  {
   "cell_type": "code",
   "execution_count": 36,
   "id": "4dde9138-a168-49c3-a467-178d1d4b34d2",
   "metadata": {},
   "outputs": [
    {
     "data": {
      "text/plain": [
       "5"
      ]
     },
     "execution_count": 36,
     "metadata": {},
     "output_type": "execute_result"
    }
   ],
   "source": [
    "sen.count(\" \")+1"
   ]
  },
  {
   "cell_type": "code",
   "execution_count": 40,
   "id": "2efbbddf-9599-44e8-8376-89ff06e93526",
   "metadata": {},
   "outputs": [
    {
     "data": {
      "text/plain": [
       "-1"
      ]
     },
     "execution_count": 40,
     "metadata": {},
     "output_type": "execute_result"
    }
   ],
   "source": [
    "sen.find(\"P\")"
   ]
  },
  {
   "cell_type": "markdown",
   "id": "675da8d9-cfc5-47e0-9a34-dd34014b66de",
   "metadata": {},
   "source": [
    "# WAP to Display name from the user and its company from the given email\n",
    "\n",
    "> email = riyan@sdhub.in"
   ]
  },
  {
   "cell_type": "code",
   "execution_count": 45,
   "id": "f6a121ab-5521-4f5b-9d7b-a685e8ef0c76",
   "metadata": {},
   "outputs": [
    {
     "name": "stdin",
     "output_type": "stream",
     "text": [
      "Enter your email:  riyan@sdhub.in\n"
     ]
    },
    {
     "name": "stdout",
     "output_type": "stream",
     "text": [
      "Your name is  5\n"
     ]
    }
   ],
   "source": [
    "email = input(\"Enter your email: \")\n",
    "\n",
    "email[]\n",
    "\n",
    "find = email.find(\"@sdhub.in\")\n",
    "\n",
    "email[find]\n",
    "\n",
    "print(\"Your name is \", find)"
   ]
  },
  {
   "cell_type": "code",
   "execution_count": 59,
   "id": "d571c95a-4136-459f-bd24-0087d3e88d38",
   "metadata": {},
   "outputs": [],
   "source": [
    "name = \"Riyan\"\n",
    "company = \"company\"\n",
    "email = \"riyan@company.com\""
   ]
  },
  {
   "cell_type": "code",
   "execution_count": 74,
   "id": "7989e94a-ac62-429c-9728-c297fb0635cc",
   "metadata": {},
   "outputs": [
    {
     "name": "stdout",
     "output_type": "stream",
     "text": [
      "name <built-in method title of str object at 0x7fc6a0b77960>\n"
     ]
    }
   ],
   "source": [
    "name = email[:email.find('@')]\n",
    "company = email[email.find(\"@\")+1:email.find('.')]\n",
    "\n",
    "print(\"name\", name.title)"
   ]
  },
  {
   "cell_type": "code",
   "execution_count": 52,
   "id": "ac5e47bf-fda7-4f68-a026-3c1428be5d0d",
   "metadata": {},
   "outputs": [],
   "source": [
    "# display python sentace\n",
    "\n",
    "s1 =  \"Use Python for Machine learning\"\n"
   ]
  },
  {
   "cell_type": "code",
   "execution_count": 56,
   "id": "34679612-058a-4992-a211-fb3ac6c65e6d",
   "metadata": {},
   "outputs": [
    {
     "data": {
      "text/plain": [
       "'Python'"
      ]
     },
     "execution_count": 56,
     "metadata": {},
     "output_type": "execute_result"
    }
   ],
   "source": [
    "s1[s1.find(\"Python\"):s1.find(\"Python\")+6]"
   ]
  },
  {
   "cell_type": "code",
   "execution_count": 58,
   "id": "c6c13af9-2745-4fea-b959-05a03ff7df44",
   "metadata": {},
   "outputs": [
    {
     "data": {
      "text/plain": [
       "4"
      ]
     },
     "execution_count": 58,
     "metadata": {},
     "output_type": "execute_result"
    }
   ],
   "source": [
    "s1.find('Python')"
   ]
  },
  {
   "cell_type": "code",
   "execution_count": 61,
   "id": "622ad957-ebd0-44fa-b8ac-8e0d7a54ecd7",
   "metadata": {},
   "outputs": [
    {
     "data": {
      "text/plain": [
       "'Use Python for Machine learning'"
      ]
     },
     "execution_count": 61,
     "metadata": {},
     "output_type": "execute_result"
    }
   ],
   "source": [
    "s1"
   ]
  },
  {
   "cell_type": "code",
   "execution_count": 63,
   "id": "384aed57-af7c-452f-8344-8b9e901adde0",
   "metadata": {},
   "outputs": [
    {
     "data": {
      "text/plain": [
       "5"
      ]
     },
     "execution_count": 63,
     "metadata": {},
     "output_type": "execute_result"
    }
   ],
   "source": [
    "e_name = email.find('@')"
   ]
  },
  {
   "cell_type": "code",
   "execution_count": 68,
   "id": "b18a0d33-6283-4262-9cf3-bcad6433d7ab",
   "metadata": {},
   "outputs": [
    {
     "data": {
      "text/plain": [
       "'riyan'"
      ]
     },
     "execution_count": 68,
     "metadata": {},
     "output_type": "execute_result"
    }
   ],
   "source": [
    "email[:5]\n",
    "\n",
    "start = 0\n",
    "\n",
    "end = email.find('@')\n",
    "\n",
    "email[start:end]"
   ]
  },
  {
   "cell_type": "code",
   "execution_count": 69,
   "id": "c13a81e7-53cb-4b46-a0cc-3e86a4957da7",
   "metadata": {},
   "outputs": [
    {
     "data": {
      "text/plain": [
       "'riyan'"
      ]
     },
     "execution_count": 69,
     "metadata": {},
     "output_type": "execute_result"
    }
   ],
   "source": [
    "email[start:end]"
   ]
  },
  {
   "cell_type": "markdown",
   "id": "4c37c627-cb9d-47b8-9881-cdc0238616f3",
   "metadata": {},
   "source": [
    "### collection datatype\n",
    "\n",
    "(10, 20, \"Riyan\", 10.5, True)\n",
    "\n",
    "can hold different tyoe of data\n",
    "\n"
   ]
  },
  {
   "cell_type": "code",
   "execution_count": 75,
   "id": "f744b20b-3b50-4328-a08e-b683abc34a21",
   "metadata": {},
   "outputs": [],
   "source": [
    "a = (10, 20, \"Riyan\", 10.5, True)"
   ]
  },
  {
   "cell_type": "code",
   "execution_count": 78,
   "id": "bfcad3ea-097a-412d-a708-cc240cbf6c61",
   "metadata": {},
   "outputs": [
    {
     "ename": "AttributeError",
     "evalue": "'tuple' object has no attribute 'type'",
     "output_type": "error",
     "traceback": [
      "\u001b[31m---------------------------------------------------------------------------\u001b[39m",
      "\u001b[31mAttributeError\u001b[39m                            Traceback (most recent call last)",
      "\u001b[36mCell\u001b[39m\u001b[36m \u001b[39m\u001b[32mIn[78]\u001b[39m\u001b[32m, line 1\u001b[39m\n\u001b[32m----> \u001b[39m\u001b[32m1\u001b[39m \u001b[43ma\u001b[49m\u001b[43m.\u001b[49m\u001b[43mtype\u001b[49m()\n",
      "\u001b[31mAttributeError\u001b[39m: 'tuple' object has no attribute 'type'"
     ]
    }
   ],
   "source": [
    "a.type()"
   ]
  },
  {
   "cell_type": "markdown",
   "id": "987fdfb6-382b-4428-9d4e-748d83c65225",
   "metadata": {},
   "source": [
    "## shape\n",
    "\n",
    "1. list = [], ordered, mutable, dublicate, indexable\n",
    "2. tuple = (), ordered, dublicate, indexable\n",
    "3. set = {}, \n",
    "4. dictionary = {key:value}, ordered, dublicate, indexable\n",
    "\n",
    "\n",
    "##  list\n",
    "\n",
    "1. create = [], list() eg li = [10,20,30,40], li = list([10, 20, 40])\n",
    "2. "
   ]
  },
  {
   "cell_type": "code",
   "execution_count": 82,
   "id": "4b1a5681-10a6-460c-9226-9537f63684b2",
   "metadata": {},
   "outputs": [
    {
     "data": {
      "text/plain": [
       "list"
      ]
     },
     "execution_count": 82,
     "metadata": {},
     "output_type": "execute_result"
    }
   ],
   "source": [
    "li = [10, 20, 30]\n",
    "type(li)"
   ]
  },
  {
   "cell_type": "code",
   "execution_count": 83,
   "id": "970b3820-7660-45fa-b18b-c993d8fd2d19",
   "metadata": {},
   "outputs": [
    {
     "data": {
      "text/plain": [
       "list"
      ]
     },
     "execution_count": 83,
     "metadata": {},
     "output_type": "execute_result"
    }
   ],
   "source": [
    "li = list([10, 20, 30])\n",
    "type(li)"
   ]
  },
  {
   "cell_type": "markdown",
   "id": "45748afc-f8a9-4260-ac04-15362a67e040",
   "metadata": {},
   "source": [
    "### range() functiom"
   ]
  },
  {
   "cell_type": "code",
   "execution_count": 89,
   "id": "c521ddb1-96a7-49ef-b0e1-8d1a4307155f",
   "metadata": {},
   "outputs": [
    {
     "data": {
      "text/plain": [
       "[10, 11, 12, 13, 14]"
      ]
     },
     "execution_count": 89,
     "metadata": {},
     "output_type": "execute_result"
    }
   ],
   "source": [
    "list_1 = list(range(10,15))\n",
    "\n",
    "list_1"
   ]
  },
  {
   "cell_type": "markdown",
   "id": "ff94f2d0-befc-4d47-8f16-fc6f9729fac6",
   "metadata": {},
   "source": [
    "### Test"
   ]
  },
  {
   "cell_type": "code",
   "execution_count": 110,
   "id": "f16f6b0f-9cd1-4a6f-b717-b653744a7a28",
   "metadata": {},
   "outputs": [
    {
     "name": "stdout",
     "output_type": "stream",
     "text": [
      "[10, 11, 12, 13, 14, 15, 16, 17, 18, 19, 20, 21, 22, 23, 24, 25, 26, 27, 28, 29, 30, 31, 32, 33, 34, 35, 36, 37, 38, 39, 40, 41, 42, 43, 44, 45, 46, 47, 48, 49, 50, 51, 52, 53, 54, 55, 56, 57, 58, 59, 60, 61, 62, 63, 64, 65, 66, 67, 68, 69, 70, 71, 72, 73, 74, 75, 76, 77, 78, 79, 80, 81, 82, 83, 84, 85, 86, 87, 88, 89, 90, 91, 92, 93, 94, 95, 96, 97, 98, 99, 100, 101, 102, 103, 104, 105, 106, 107, 108, 109, 110, 111, 112, 113, 114, 115, 116, 117, 118, 119, 120, 121, 122, 123, 124, 125, 126, 127, 128, 129, 130, 131, 132, 133, 134, 135, 136, 137, 138, 139, 140, 141, 142, 143, 144, 145, 146, 147, 148, 149, 150, 151, 152, 153, 154, 155, 156, 157, 158, 159, 160, 161, 162, 163, 164, 165, 166, 167, 168, 169, 170, 171, 172, 173, 174, 175, 176, 177, 178, 179, 180, 181, 182, 183, 184, 185, 186, 187, 188, 189, 190, 191, 192, 193, 194, 195, 196, 197, 198, 199]\n"
     ]
    }
   ],
   "source": [
    "li_2 = list(range(10,200))\n",
    "\n",
    "print(li_2)"
   ]
  },
  {
   "cell_type": "code",
   "execution_count": 111,
   "id": "ebdea230-7940-4265-9e98-a2820562611b",
   "metadata": {},
   "outputs": [
    {
     "name": "stdout",
     "output_type": "stream",
     "text": [
      "199\n"
     ]
    }
   ],
   "source": [
    "print(li_2[-1])"
   ]
  },
  {
   "cell_type": "code",
   "execution_count": 112,
   "id": "34d89090-b3a8-4b21-8302-fe652a2a2383",
   "metadata": {},
   "outputs": [
    {
     "name": "stdout",
     "output_type": "stream",
     "text": [
      "[197, 198, 199]\n"
     ]
    }
   ],
   "source": [
    "print(li_2[-3:])"
   ]
  },
  {
   "cell_type": "code",
   "execution_count": 107,
   "id": "c965b7df-efd7-405a-9a5d-d4b34d19f82c",
   "metadata": {},
   "outputs": [
    {
     "data": {
      "text/plain": [
       "[90, 91, 92, 93, 94, 95, 96, 97, 98, 99]"
      ]
     },
     "execution_count": 107,
     "metadata": {},
     "output_type": "execute_result"
    }
   ],
   "source": [
    "li_2[-110:-100]"
   ]
  },
  {
   "cell_type": "code",
   "execution_count": 108,
   "id": "41b31de2-f91f-4f16-92c8-b71f5eb4ba45",
   "metadata": {},
   "outputs": [
    {
     "name": "stdout",
     "output_type": "stream",
     "text": [
      "[199, 198, 197, 196, 195, 194, 193, 192, 191, 190, 189, 188, 187, 186, 185, 184, 183, 182, 181, 180, 179, 178, 177, 176, 175, 174, 173, 172, 171, 170, 169, 168, 167, 166, 165, 164, 163, 162, 161, 160, 159, 158, 157, 156, 155, 154, 153, 152, 151, 150, 149, 148, 147, 146, 145, 144, 143, 142, 141, 140, 139, 138, 137, 136, 135, 134, 133, 132, 131, 130, 129, 128, 127, 126, 125, 124, 123, 122, 121, 120, 119, 118, 117, 116, 115, 114, 113, 112, 111, 110, 109, 108, 107, 106, 105, 104, 103, 102, 101, 100, 99, 98, 97, 96, 95, 94, 93, 92, 91, 90, 89, 88, 87, 86, 85, 84, 83, 82, 81, 80, 79, 78, 77, 76, 75, 74, 73, 72, 71, 70, 69, 68, 67, 66, 65, 64, 63, 62, 61, 60, 59, 58, 57, 56, 55, 54, 53, 52, 51, 50, 49, 48, 47, 46, 45, 44, 43, 42, 41, 40, 39, 38, 37, 36, 35, 34, 33, 32, 31, 30, 29, 28, 27, 26, 25, 24, 23, 22, 21, 20, 19, 18, 17, 16, 15, 14, 13, 12, 11, 10]\n"
     ]
    }
   ],
   "source": [
    "print(li_2[::-1])"
   ]
  },
  {
   "cell_type": "code",
   "execution_count": 109,
   "id": "72370972-0e5a-4428-b0bd-639892bac37c",
   "metadata": {},
   "outputs": [
    {
     "name": "stdout",
     "output_type": "stream",
     "text": [
      "[10, 12, 14, 16, 18, 20, 22, 24, 26, 28, 30, 32, 34, 36, 38, 40, 42, 44, 46, 48, 50, 52, 54, 56, 58, 60, 62, 64, 66, 68, 70, 72, 74, 76, 78, 80, 82, 84, 86, 88, 90, 92, 94, 96, 98, 100, 102, 104, 106, 108, 110, 112, 114, 116, 118, 120, 122, 124, 126, 128, 130, 132, 134, 136, 138, 140, 142, 144, 146, 148, 150, 152, 154, 156, 158, 160, 162, 164, 166, 168, 170, 172, 174, 176, 178, 180, 182, 184, 186, 188, 190, 192, 194, 196, 198]\n"
     ]
    }
   ],
   "source": [
    "print(li_2[::2])"
   ]
  },
  {
   "cell_type": "markdown",
   "id": "d716113c-9c92-432b-9335-7e16f4a6946c",
   "metadata": {},
   "source": [
    "## Oparations \n",
    "\n",
    "1. adding am element using .append() eg li.append()\n",
    "2. deleting an element using .pop() eg li.pop()\n",
    "3. "
   ]
  },
  {
   "cell_type": "code",
   "execution_count": 114,
   "id": "6daa542f-7727-4604-8228-367db4f3cef7",
   "metadata": {},
   "outputs": [
    {
     "data": {
      "text/plain": [
       "[10, 20, 30, 40, 'Riyan']"
      ]
     },
     "execution_count": 114,
     "metadata": {},
     "output_type": "execute_result"
    }
   ],
   "source": [
    "li = [10, 20, 30, 40] \n",
    "li.append(\"Riyan\")\n",
    "li"
   ]
  },
  {
   "cell_type": "code",
   "execution_count": 119,
   "id": "e791b9e6-2105-469f-83c5-9120284181f2",
   "metadata": {},
   "outputs": [
    {
     "data": {
      "text/plain": [
       "2"
      ]
     },
     "execution_count": 119,
     "metadata": {},
     "output_type": "execute_result"
    }
   ],
   "source": [
    "li.index(30)"
   ]
  },
  {
   "cell_type": "code",
   "execution_count": 120,
   "id": "c402142f-7ed7-4dce-bd6b-b90f89b6724a",
   "metadata": {},
   "outputs": [
    {
     "data": {
      "text/plain": [
       "[10, 20, 30, 60]"
      ]
     },
     "execution_count": 120,
     "metadata": {},
     "output_type": "execute_result"
    }
   ],
   "source": [
    "# modifying\n",
    "\n",
    "li[-1] = 60\n",
    "li"
   ]
  },
  {
   "cell_type": "code",
   "execution_count": 122,
   "id": "8a99bc76-9662-46e6-b005-4434f3f1799e",
   "metadata": {},
   "outputs": [
    {
     "data": {
      "text/plain": [
       "[1, 2, 3, 4, 5, 6, 7, 8, 9, 10]"
      ]
     },
     "execution_count": 122,
     "metadata": {},
     "output_type": "execute_result"
    }
   ],
   "source": [
    "li1 = [1,2,3,4,5]\n",
    "li2 = [6,7,8,9,10]\n",
    "\n",
    "li1+li2"
   ]
  },
  {
   "cell_type": "markdown",
   "id": "3e0db6c6-ce71-436f-b2ac-7e3a136e473e",
   "metadata": {},
   "source": [
    " ## Todo  how tuple works  "
   ]
  },
  {
   "cell_type": "code",
   "execution_count": null,
   "id": "f8494a39-6870-4e30-ac64-ca1c3dbe4412",
   "metadata": {},
   "outputs": [],
   "source": [
    "## make list of list"
   ]
  }
 ],
 "metadata": {
  "kernelspec": {
   "display_name": "Python 3 (ipykernel)",
   "language": "python",
   "name": "python3"
  },
  "language_info": {
   "codemirror_mode": {
    "name": "ipython",
    "version": 3
   },
   "file_extension": ".py",
   "mimetype": "text/x-python",
   "name": "python",
   "nbconvert_exporter": "python",
   "pygments_lexer": "ipython3",
   "version": "3.13.5"
  }
 },
 "nbformat": 4,
 "nbformat_minor": 5
}
