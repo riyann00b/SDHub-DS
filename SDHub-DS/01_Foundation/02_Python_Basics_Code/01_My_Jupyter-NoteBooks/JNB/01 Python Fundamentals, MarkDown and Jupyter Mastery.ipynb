{
 "cells": [
  {
   "cell_type": "markdown",
   "metadata": {},
   "source": [
    "# **Python Basics and Markdown**\n",
    "\n",
    "## *Starting with Markdown (MD)*\n",
    "\n",
    "### Symbols\n",
    "\n",
    "#### Headings\n",
    "This section explains how to use Markdown to create headings, similar to HTML.\n",
    "\n",
    "# Header 1 (Main Title)\n",
    "## Header 2 (Major Headings)\n",
    "### Header 3 (Subheadings)\n",
    "#### Header 4\n",
    "##### Header 5\n",
    "###### Header 6\n",
    "\n",
    "--- \n",
    "\n",
    "#### Blockquotes\n",
    "\n",
    "Blockquotes can hold a large chunk of text and are generally indented. They can be created using the `>` symbol.\n",
    "\n",
    "> This is a blockquote. It's useful for highlighting important notes or quotes.\n",
    "\n",
    "--- \n",
    "\n",
    "#### Displaying Code in Markdown\n",
    "\n",
    "To display code, I can use single back-ticks for `inline code` or triple back-ticks for a full code block.\n",
    "\n",
    "```python\n",
    "print(\"This is a Python code block.\")\n",
    "```\n",
    "\n",
    "--- \n",
    "\n",
    "#### Links and Images\n",
    "\n",
    "I can create a hyperlink like this: [Official Python Website](https://www.python.org)\n",
    "\n",
    "And I can display an image like this:\n",
    "![Python Logo](https://upload.wikimedia.org/wikipedia/commons/c/c3/Python-logo-notext.svg)"
   ]
  },
  {
   "cell_type": "markdown",
   "metadata": {},
   "source": [
    "---# Core Python Concepts (from Class Notes)\n",
    "\n",
    "This section covers the essential Python concepts discussed in class."
   ]
  },
  {
   "cell_type": "markdown",
   "metadata": {},
   "source": [
    "## 🆔 Identifiers: Naming Variables\n",
    "\n",
    "An **identifier** is the name we give to a variable. It must follow these rules:\n",
    "\n",
    "1.  Must start with a letter (`a-z`, `A-Z`) or an underscore (`_`).\n",
    "2.  Can contain letters, numbers, and underscores.\n",
    "3.  **Cannot** contain spaces or special characters like `@`, `!`, `&`.\n",
    "4.  Is **case-sensitive** (`my_variable` is different from `My_Variable`)."
   ]
  },
  {
   "cell_type": "markdown",
   "metadata": {},
   "source": [
    "#### ✅ Valid Identifier Examples"
   ]
  },
  {
   "cell_type": "code",
   "execution_count": null,
   "metadata": {},
   "outputs": [],
   "source": [
    "# These are all valid ways to name variables\n",
    "a = 10\n",
    "A = 20  # Different from 'a' because Python is case-sensitive\n",
    "test_123 = 10000\n",
    "_name = 'riyan'\n",
    "\n",
    "print(\"Value of a:\", a)\n",
    "print(\"Value of A:\", A)"
   ]
  },
  {
   "cell_type": "markdown",
   "metadata": {},
   "source": [
    "#### ❌ Invalid Identifier Example"
   ]
  },
  {
   "cell_type": "code",
   "execution_count": null,
   "metadata": {},
   "outputs": [],
   "source": [
    "# This line will produce a SyntaxError if uncommented because '@' is not allowed\n",
    "# test@123 = 1000"
   ]
  },
  {
   "cell_type": "markdown",
   "metadata": {},
   "source": [
    "## 🔢 Basic Data Types\n",
    "\n",
    "I can check the type of any variable using the `type()` function."
   ]
  },
  {
   "cell_type": "code",
   "execution_count": null,
   "metadata": {},
   "outputs": [],
   "source": [
    "print(\"Type of 10:\", type(10))        # Integer\n",
    "print(\"Type of 10.4:\", type(10.4))    # Float\n",
    "print(\"Type of 'A':\", type(\"A\"))      # String\n",
    "print(\"Type of True:\", type(True))    # Boolean"
   ]
  },
  {
   "cell_type": "markdown",
   "metadata": {},
   "source": [
    "---# My Class Exercises"
   ]
  },
  {
   "cell_type": "markdown",
   "metadata": {},
   "source": [
    "### **Problem 1:** Define and Display Personal Details"
   ]
  },
  {
   "cell_type": "code",
   "execution_count": null,
   "metadata": {},
   "outputs": [],
   "source": [
    "# Defining variables for my personal details\n",
    "name = 'riyan'\n",
    "gender = 'Male'\n",
    "age = 22\n",
    "course = 'Data Science'\n",
    "duration = '4.5 months'\n",
    "\n",
    "# Printing the details with newlines for clear output\n",
    "print(\"My Name: \", name, \n",
    "      \"\\nMy Age: \" , age, \n",
    "      \"\\nMy Gender: \", gender, \n",
    "      \"\\nMy Course: \", course, \n",
    "      \"\\nMy Duration: \", duration)"
   ]
  },
  {
   "cell_type": "markdown",
   "metadata": {},
   "source": [
    "### **Problem 2 (Homework):** Define Student Details and Check Data Types"
   ]
  },
  {
   "cell_type": "code",
   "execution_count": null,
   "metadata": {},
   "outputs": [],
   "source": [
    "# Defining variables for a student's academic details\n",
    "roll_no = 160924748036\n",
    "college = \"LORDs\"\n",
    "year = 2025\n",
    "\n",
    "# Displaying the student information\n",
    "print(\"--- Student Information ---\")\n",
    "print(\"My Roll No:\", roll_no)\n",
    "print(\"My College:\", college)\n",
    "print(\"My Year:\", year)\n",
    "\n",
    "# Fulfilling the homework: Checking the data type of each variable\n",
    "print(\"\\n--- Data Type Check ---\")\n",
    "print(\"Data type of 'roll_no':\", type(roll_no))\n",
    "print(\"Data type of 'name':\", type(name)) # 'name' is from the previous cell\n",
    "print(\"Data type of 'college':\", type(college))\n",
    "print(\"Data type of 'course':\", type(course)) # 'course' is from the previous cell\n",
    "print(\"Data type of 'year':\", type(year))"
   ]
  }
 ],
 "metadata": {
  "kernelspec": {
   "display_name": "Python 3 (ipykernel)",
   "language": "python",
   "name": "python3"
  },
  "language_info": {
   "codemirror_mode": {
    "name": "ipython",
    "version": 3
   },
   "file_extension": ".py",
   "mimetype": "text/x-python",
   "name": "python",
   "nbconvert_exporter": "python",
   "pygments_lexer": "ipython3",
   "version": "3.13.5"
  }
 },
 "nbformat": 4,
 "nbformat_minor": 4
}
