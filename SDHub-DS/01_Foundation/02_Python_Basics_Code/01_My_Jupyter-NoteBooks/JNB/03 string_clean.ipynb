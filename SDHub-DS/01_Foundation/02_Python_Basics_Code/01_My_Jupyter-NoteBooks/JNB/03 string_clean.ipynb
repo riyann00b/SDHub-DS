{
 "cells": [
  {
   "cell_type": "markdown",
   "metadata": {},
   "source": [
    "# 📚 My Notes: Week 2, Day 5 - Python Strings\n",
    "\n",
    "**📅 Date:** July 7th, 2025\n",
    "\n",
    "**🎯 Today's Goal:** Revise operators and get hands-on with Python strings."
   ]
  },
  {
   "cell_type": "markdown",
   "metadata": {},
   "source": [
    "## Part 1: Today's Revision\n",
    "\n",
    "Today's session started with a quick recap of what we've learned so far."
   ]
  },
  {
   "cell_type": "markdown",
   "metadata": {},
   "source": [
    "### ► My Workflow\n",
    "Sir reviewed the standard workflow for the course. We have two main environments:\n",
    "\n",
    "- **Local:** Using Anaconda and Jupyter Notebook on my own machine.\n",
    "- **Cloud:** Using Google Colab for when I'm not on my main laptop.\n",
    "\n",
    "Inside Jupyter, the process is to use **Markdown cells** (like this one) for my notes and **Code cells** for my Python scripts."
   ]
  },
  {
   "cell_type": "markdown",
   "metadata": {},
   "source": [
    "### ► Core Concepts Recap\n",
    "\n",
    "I need to remember these basics:\n",
    "*   **Variable:** A name I give to a value (e.g., `my_name`).\n",
    "*   **Value:** The data itself (e.g., `\"Riyan\"`).\n",
    "*   **Type Casting:** This was a key point. Sir reminded us that `input()` **always gives a string**. I have to use `int()` or `float()` to convert it to a number if I want to do math."
   ]
  },
  {
   "cell_type": "code",
   "execution_count": null,
   "metadata": {},
   "outputs": [],
   "source": [
    "# A quick test to remind myself\n",
    "age_as_string = input(\"Enter your age: \")\n",
    "print(f\"The data type is initially: {type(age_as_string)}\")\n",
    "\n",
    "age_as_number = int(age_as_string)\n",
    "print(f\"After using int(), the data type is: {type(age_as_number)}\")"
   ]
  },
  {
   "cell_type": "markdown",
   "metadata": {},
   "source": [
    "## Part 2: My Warm-up Practice\n",
    "\n",
    "After the revision, we jumped into some practice problems to get our brains working."
   ]
  },
  {
   "cell_type": "markdown",
   "metadata": {},
   "source": [
    "### 1. Division Calculator\n",
    "**Task:** Get two numbers from the user and show the result of their division."
   ]
  },
  {
   "cell_type": "code",
   "execution_count": null,
   "metadata": {},
   "outputs": [],
   "source": [
    "# My code for the division problem\n",
    "num1 = float(input(\"Enter the 1st number: \"))\n",
    "num2 = float(input(\"Enter the 2nd number: \"))\n",
    "\n",
    "division_result = num1 / num2\n",
    "\n",
    "print(f\"The division of these two numbers is: {division_result}\")"
   ]
  },
  {
   "cell_type": "markdown",
   "metadata": {},
   "source": [
    "### 2. Celsius to Fahrenheit Converter\n",
    "**Task:** Get the day and a temperature in Celsius, then convert it to Fahrenheit."
   ]
  },
  {
   "cell_type": "code",
   "execution_count": null,
   "metadata": {},
   "outputs": [],
   "source": [
    "# My code for the temperature converter\n",
    "day = input(\"Enter today's day: \")\n",
    "temp_celsius = float(input(\"Enter the temperature in Celsius: \"))\n",
    "\n",
    "# The formula is F = (C * 9/5) + 32\n",
    "temp_fahrenheit = (temp_celsius * 9/5) + 32\n",
    "\n",
    "print(f\"\\nOn {day}, the temperature {temp_celsius}°C is equal to {temp_fahrenheit}°F.\")"
   ]
  },
  {
   "cell_type": "markdown",
   "metadata": {},
   "source": [
    "### 3. SD Hub Email Creator\n",
    "**Task:** Get my first name and create a custom email address for me."
   ]
  },
  {
   "cell_type": "code",
   "execution_count": null,
   "metadata": {},
   "outputs": [],
   "source": [
    "# My code for the email generator\n",
    "first_name = input(\"Enter your first name: \")\n",
    "\n",
    "# My new email address\n",
    "email_address = first_name + \"@sdhub.in\"\n",
    "\n",
    "print(\"Your new email address is:\", email_address)"
   ]
  },
  {
   "cell_type": "markdown",
   "metadata": {},
   "source": [
    "## Part 3: Today's New Topic - Strings!\n",
    "\n",
    "With the warm-up done, we started on the main topic: **Strings**."
   ]
  },
  {
   "cell_type": "markdown",
   "metadata": {},
   "source": [
    "> A string in Python is a **sequence of characters**. It's an **immutable** data type, which means I can't change it after I create it."
   ]
  },
  {
   "cell_type": "markdown",
   "metadata": {},
   "source": [
    "### ► Creating a String\n",
    "I learned there are three ways to create strings in Python.\n",
    "\n",
    "| Method | My Example |\n",
    "| :--- | :--- |\n",
    "| **Single Quotes** | `my_name = 'Riyan'` |\n",
    "| **Double Quotes** | `my_sentence = \"My name is 'Riyan'\"` |\n",
    "| **Triple Quotes** | `my_paragraph = '''This is a multi-line string.'''` |"
   ]
  },
  {
   "cell_type": "markdown",
   "metadata": {},
   "source": [
    "### ► Accessing My String's Content\n",
    "This was the coolest part. Since a string is a sequence, I can grab any part of it I want."
   ]
  },
  {
   "cell_type": "markdown",
   "metadata": {},
   "source": [
    "```mermaid\n",
    "graph TD\n",
    "    A[How I Access My String];\n",
    "    A --> B[\"Entire String<br><em>Use the variable name</em><br><code>print(my_name)</code>\"];\n",
    "    A --> C[\"Single Character (Indexing)<br><em>Use square brackets []</em><br><code>my_name</code>\"];\n",
    "    A --> D[\"Part of the String (Slicing)<br><em>Use a colon :</em><br><code>my_name[0:3]</code>\"];\n",
    "    \n",
    "    style A fill:#00796b,color:white\n",
    "```"
   ]
  },
  {
   "cell_type": "markdown",
   "metadata": {},
   "source": [
    "#### a) Indexing (Getting a single letter)\n",
    "\n",
    "Every character has an index number. It starts from 0 for the first letter. Negative indexing starts from -1 for the last letter.\n",
    "\n",
    "**Here's the breakdown for my name, `my_name = \"Riyan\"`:**\n",
    "\n",
    "| Character | **R** | **i** | **y** | **a** | **n** |\n",
    "| :--- | :-: | :-: | :-: | :-: | :-: |\n",
    "| **Positive Index** | 0 | 1 | 2 | 3 | 4 |\n",
    "| **Negative Index** | -5 | -4 | -3 | -2 | -1 |"
   ]
  },
  {
   "cell_type": "markdown",
   "metadata": {},
   "source": [
    "#### b) Slicing (Getting a piece of the string)\n",
    "\n",
    "The format is `my_name[start:end:step]`. The most important thing to remember is that the `end` index is **not included**."
   ]
  },
  {
   "cell_type": "markdown",
   "metadata": {},
   "source": [
    "## Part 4: Sir's End-of-Class Challenge\n",
    "\n",
    "To wrap up the class, Sir gave us a set of challenges to solve using the string manipulation techniques we just learned. This was a test of our understanding."
   ]
  },
  {
   "cell_type": "markdown",
   "metadata": {},
   "source": [
    "**The Challenge:** For a given string, perform the following tasks:\n",
    "- Display the string\n",
    "- Display the first character\n",
    "- Display the last character\n",
    "- Display the 3rd character\n",
    "- Display the first three characters\n",
    "- Display the last two characters\n",
    "- Display characters between the 3rd and 4th position\n",
    "- Display the reverse of the string\n",
    "- Display alternate characters\n",
    "- Display the string by skipping 4 characters"
   ]
  },
  {
   "cell_type": "code",
   "execution_count": null,
   "metadata": {},
   "outputs": [],
   "source": [
    "# My Solution for the Challenge\n",
    "# The string I'm using for the challenge\n",
    "my_string = \"Riyan\"\n",
    "print(f\"My original string for the challenge is: '{my_string}'\")\n",
    "print(\"-\" * 40)\n",
    "\n",
    "# Display the entire string\n",
    "print(f\"The full string: '{my_string}'\")\n",
    "\n",
    "# Display the first character\n",
    "print(f\"First character: '{my_string[0]}'\")\n",
    "\n",
    "# Display the last character\n",
    "print(f\"Last character: '{my_string[-1]}'\")\n",
    "\n",
    "# Display the 3rd character (which is at index 2)\n",
    "print(f\"Third character: '{my_string[2]}'\")\n",
    "\n",
    "# Display the first three characters\n",
    "print(f\"First three characters: '{my_string[0:3]}'\")\n",
    "\n",
    "# Display the last two characters\n",
    "print(f\"Last two characters: '{my_string[-2:]}'\")\n",
    "\n",
    "# Display characters between 3rd and 4th (index 2 and 3)\n",
    "print(f\"Chars between 3rd and 4th: '{my_string[2:4]}'\")\n",
    "\n",
    "# Display the reverse of the string\n",
    "print(f\"My name reversed: '{my_string[::-1]}'\")\n",
    "\n",
    "# Display alternate characters (skip 1, step is 2)\n",
    "print(f\"Alternate characters: '{my_string[::2]}'\")\n",
    "\n",
    "# Display the string by skipping 4 characters (step is 5)\n",
    "print(f\"Skipping 4 characters: '{my_string[::5]}'\")"
   ]
  }
 ],
 "metadata": {
  "kernelspec": {
   "display_name": "Python 3 (ipykernel)",
   "language": "python",
   "name": "python3"
  },
  "language_info": {
   "codemirror_mode": {
    "name": "ipython",
    "version": 3
   },
   "file_extension": ".py",
   "mimetype": "text/x-python",
   "name": "python",
   "nbconvert_exporter": "python",
   "pygments_lexer": "ipython3",
   "version": "3.13.5"
  }
 },
 "nbformat": 4,
 "nbformat_minor": 5
}
