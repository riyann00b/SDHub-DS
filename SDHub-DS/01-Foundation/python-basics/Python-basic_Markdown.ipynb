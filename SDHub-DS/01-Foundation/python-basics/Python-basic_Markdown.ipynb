{
 "cells": [
  {
   "cell_type": "markdown",
   "id": "0f5d80a7-00c6-4c82-8a2d-42f4a3cf8f54",
   "metadata": {},
   "source": [
    "# **Python Basics and Markdown**\n",
    "\n",
    "## *Starting with Markdown (MD)*\n",
    "\n",
    "### Symbols\n",
    "\n",
    "#### Headings\n",
    "## 1. **Using *#* we can make heading tags like html**\n",
    "# (Header 1, title)\n",
    "\n",
    "## (Header 2, major headings)\n",
    "\n",
    "### (Header 3, subheadings)\n",
    "\n",
    "#### (Header 4)\n",
    "\n",
    "##### (Header 5)\n",
    "\n",
    "###### (Header 6)\n",
    "\n",
    "## 2. Blockquotes\n",
    "\n",
    "Blockquotes can hold the large chunk of text and are generally indented. They can be obtained by using Markdown symbol '>' or with <blockquote>text for blockquote</blockquote>\n",
    "\n",
    "    >This is good\n",
    "\n",
    "Both of the syntaxes above can render the text in indented form after clicking 'Run' in the toolbar.,2\n",
    "\n",
    "## 3. Displaying Code in Markdown\n",
    "\n",
    "The Code section is the part that specifies the code of different programming languages and can be rendered where inline code starts with ' `inline code goes here` ' back-ticks around it, but the block of code starts with three back-ticks ' ``` block line code goes here ``` '. Also,the Markup tag for a Code section is ' <code>code goes here<code> '.\n",
    "\n",
    "```python\n",
    "print(\"Hello World\")\n",
    "\n",
    "```\n",
    "\n",
    "## 4. Links and images\n",
    "\n",
    "[text](link)\n",
    "\n",
    "![hello](https://upload.wikimedia.org/wikipedia/commons/c/c3/Python-logo-notext.svg)\n"
   ]
  },
  {
   "cell_type": "code",
   "execution_count": null,
   "id": "245d37e3-008b-49d9-891a-5555877fc80d",
   "metadata": {},
   "outputs": [],
   "source": []
  },
  {
   "cell_type": "code",
   "execution_count": null,
   "id": "3bb52ed4-daf9-4393-99fb-0a7f6dca588d",
   "metadata": {},
   "outputs": [],
   "source": []
  },
  {
   "cell_type": "code",
   "execution_count": null,
   "id": "c033bbc9-c4fc-44dc-8e35-297d723b1e44",
   "metadata": {},
   "outputs": [],
   "source": []
  },
  {
   "cell_type": "code",
   "execution_count": null,
   "id": "d0c1980a-3ab8-4ebb-83c7-086ac5ca31ce",
   "metadata": {},
   "outputs": [],
   "source": []
  },
  {
   "cell_type": "code",
   "execution_count": 3,
   "id": "7b339703-63d4-46ee-b0e9-edcf918062c7",
   "metadata": {},
   "outputs": [
    {
     "name": "stdout",
     "output_type": "stream",
     "text": [
      "<class 'int'>\n"
     ]
    }
   ],
   "source": [
    "#python basics\n",
    "\n",
    "#integer\n",
    "\n",
    "numb1= 123\n",
    "print(type(numb1))"
   ]
  },
  {
   "cell_type": "code",
   "execution_count": null,
   "id": "6cd786c9-8e45-4834-84d4-108956de3bd0",
   "metadata": {},
   "outputs": [],
   "source": []
  },
  {
   "cell_type": "code",
   "execution_count": null,
   "id": "7865f202-aec4-4379-9cb3-18e842802576",
   "metadata": {},
   "outputs": [],
   "source": []
  },
  {
   "cell_type": "code",
   "execution_count": null,
   "id": "17484233-b963-482b-805b-505bdfc03aa4",
   "metadata": {},
   "outputs": [],
   "source": []
  },
  {
   "cell_type": "code",
   "execution_count": null,
   "id": "679303b2-98cb-4713-82b2-1a2ce81b8b4d",
   "metadata": {},
   "outputs": [],
   "source": []
  },
  {
   "cell_type": "code",
   "execution_count": 17,
   "id": "9dc34377-21a8-42b8-a552-084da14853f9",
   "metadata": {},
   "outputs": [
    {
     "name": "stdout",
     "output_type": "stream",
     "text": [
      "my name:  riyan \n",
      "my age:  22 \n",
      "my gender:  Male \n",
      "my course:  Data Science \n",
      "my duration:  4.5 months\n"
     ]
    }
   ],
   "source": [
    "# my first code\n",
    "\n",
    "name = 'riyan'\n",
    "gender = 'Male'\n",
    "age = 22\n",
    "course = 'Data Science'\n",
    "duration = '4.5 months'\n",
    "\n",
    "print(\"my name: \", name, \"\\nmy age: \" , age, \"\\nmy gender: \", gender, \"\\nmy course: \", course, \"\\nmy duration: \", duration)"
   ]
  },
  {
   "cell_type": "code",
   "execution_count": 27,
   "id": "af4da2ef-e3ae-4255-8df8-54883239fbb4",
   "metadata": {
    "scrolled": true
   },
   "outputs": [
    {
     "name": "stdout",
     "output_type": "stream",
     "text": [
      "\n",
      "my roll_no:  160924748036 \n",
      "my name:  riyan \n",
      "my college:  LORDs \n",
      "my course:  Data Science \n",
      "my year:  2025\n",
      "\n",
      "data type: <class 'int'>\n",
      "data type: <class 'str'>\n",
      "data type: <class 'str'>\n",
      "data type: <class 'str'>\n",
      "data type: <class 'int'>\n"
     ]
    }
   ],
   "source": [
    "#program to define student details roll_no name college course year\n",
    "\n",
    "roll_no = 160924748036\n",
    "college = \"LORDs\"\n",
    "year = 2025\n",
    "\n",
    "print(\"\\nmy roll_no: \", roll_no, \"\\nmy name: \", name, \"\\nmy college: \", college, \"\\nmy course: \", course, \"\\nmy year: \", year)\n",
    "\n",
    "print(\"\\ndata type:\", type(roll_no))\n",
    "print(\"data type:\", type(name))\n",
    "print(\"data type:\", type(college))\n",
    "print(\"data type:\", type(course))\n",
    "print(\"data type:\", type(year))"
   ]
  },
  {
   "cell_type": "code",
   "execution_count": null,
   "id": "736ae37f-90d5-4019-a928-eafa5b6e66bb",
   "metadata": {},
   "outputs": [],
   "source": []
  },
  {
   "cell_type": "code",
   "execution_count": null,
   "id": "2c2f0cf3-9f80-4289-9a3b-a0a318c73943",
   "metadata": {},
   "outputs": [],
   "source": []
  }
 ],
 "metadata": {
  "kernelspec": {
   "display_name": "Python 3 (ipykernel)",
   "language": "python",
   "name": "python3"
  },
  "language_info": {
   "codemirror_mode": {
    "name": "ipython",
    "version": 3
   },
   "file_extension": ".py",
   "mimetype": "text/x-python",
   "name": "python",
   "nbconvert_exporter": "python",
   "pygments_lexer": "ipython3",
   "version": "3.13.5"
  }
 },
 "nbformat": 4,
 "nbformat_minor": 5
}
