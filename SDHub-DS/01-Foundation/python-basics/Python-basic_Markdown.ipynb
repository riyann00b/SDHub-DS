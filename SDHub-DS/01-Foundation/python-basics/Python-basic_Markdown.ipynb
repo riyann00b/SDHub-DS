{
 "cells": [
  {
   "cell_type": "code",
   "execution_count": null,
   "id": "d77f4423-7f63-4b98-9605-4834c764f619",
   "metadata": {},
   "outputs": [],
   "source": []
  }
 ],
 "metadata": {
  "kernelspec": {
   "display_name": "Python 3 (ipykernel)",
   "language": "python",
   "name": "python3"
  },
  "language_info": {
   "codemirror_mode": {
    "name": "ipython",
    "version": 3
   },
   "file_extension": ".py",
   "mimetype": "text/x-python",
   "name": "python",
   "nbconvert_exporter": "python",
   "pygments_lexer": "ipython3",
   "version": "3.13.5"
  }
 },
 "nbformat": 4,
 "nbformat_minor": 5
}
