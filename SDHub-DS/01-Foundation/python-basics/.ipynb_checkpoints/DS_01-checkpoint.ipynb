{
 "cells": [
  {
   "cell_type": "markdown",
   "id": "363206d8",
   "metadata": {},
   "source": [
    "# Heading"
   ]
  },
  {
   "cell_type": "markdown",
   "id": "9ddd775f",
   "metadata": {},
   "source": [
    "### Heading"
   ]
  },
  {
   "cell_type": "markdown",
   "id": "fc491436",
   "metadata": {},
   "source": [
    "# About\n",
    "\n",
    "My name is *Uwaish Husain* who is working as a **Data Science Trainer.** Along with training profession I am involved in multiple roles as well which are as follows:\n",
    "\n",
    "- Senior Consultant\n",
    "\n",
    "> I love to travel.\n",
    "\n",
    "> I love watching `movies`"
   ]
  },
  {
   "cell_type": "markdown",
   "id": "b3d56112",
   "metadata": {},
   "source": [
    "**Write a markdown about Python and its feature**"
   ]
  },
  {
   "cell_type": "markdown",
   "id": "10ff8674",
   "metadata": {},
   "source": [
    "`Python` is a programming language which is used for **Multipurpose**. It has following features:\n",
    "\n",
    "- Interpreted language\n",
    "- Open Source\n",
    "- Platform Indepenedent\n",
    "- Vast Collection of Libraries\n",
    "\n",
    "> To know more about it [click here](https://docs.python.org/3/tutorial/index.html)"
   ]
  },
  {
   "cell_type": "code",
   "execution_count": 1,
   "id": "5b06cc00",
   "metadata": {},
   "outputs": [
    {
     "data": {
      "text/plain": [
       "30"
      ]
     },
     "execution_count": 1,
     "metadata": {},
     "output_type": "execute_result"
    }
   ],
   "source": [
    "10+20"
   ]
  },
  {
   "cell_type": "code",
   "execution_count": 2,
   "id": "b1a5d522",
   "metadata": {},
   "outputs": [
    {
     "data": {
      "text/plain": [
       "-10"
      ]
     },
     "execution_count": 2,
     "metadata": {},
     "output_type": "execute_result"
    }
   ],
   "source": [
    "10-20"
   ]
  },
  {
   "cell_type": "markdown",
   "id": "2b29e6e1",
   "metadata": {},
   "source": [
    "## Identifier"
   ]
  },
  {
   "cell_type": "code",
   "execution_count": 3,
   "id": "13820c4d",
   "metadata": {},
   "outputs": [],
   "source": [
    "a = 10"
   ]
  },
  {
   "cell_type": "code",
   "execution_count": 4,
   "id": "b3b74c5b",
   "metadata": {},
   "outputs": [
    {
     "data": {
      "text/plain": [
       "10"
      ]
     },
     "execution_count": 4,
     "metadata": {},
     "output_type": "execute_result"
    }
   ],
   "source": [
    "a"
   ]
  },
  {
   "cell_type": "code",
   "execution_count": 5,
   "id": "f62cc65a",
   "metadata": {},
   "outputs": [],
   "source": [
    "A = 20"
   ]
  },
  {
   "cell_type": "code",
   "execution_count": 6,
   "id": "21a9aba3",
   "metadata": {},
   "outputs": [
    {
     "data": {
      "text/plain": [
       "20"
      ]
     },
     "execution_count": 6,
     "metadata": {},
     "output_type": "execute_result"
    }
   ],
   "source": [
    "A"
   ]
  },
  {
   "cell_type": "code",
   "execution_count": 7,
   "id": "b2a5ffde",
   "metadata": {},
   "outputs": [
    {
     "data": {
      "text/plain": [
       "10"
      ]
     },
     "execution_count": 7,
     "metadata": {},
     "output_type": "execute_result"
    }
   ],
   "source": [
    "a"
   ]
  },
  {
   "cell_type": "code",
   "execution_count": 8,
   "id": "d879e3e6",
   "metadata": {},
   "outputs": [],
   "source": [
    "test_123 = 10000"
   ]
  },
  {
   "cell_type": "code",
   "execution_count": 9,
   "id": "595bbcfe",
   "metadata": {},
   "outputs": [
    {
     "ename": "SyntaxError",
     "evalue": "cannot assign to expression here. Maybe you meant '==' instead of '='? (2838641497.py, line 1)",
     "output_type": "error",
     "traceback": [
      "\u001b[1;36m  Cell \u001b[1;32mIn[9], line 1\u001b[1;36m\u001b[0m\n\u001b[1;33m    test@123 = 1000\u001b[0m\n\u001b[1;37m    ^\u001b[0m\n\u001b[1;31mSyntaxError\u001b[0m\u001b[1;31m:\u001b[0m cannot assign to expression here. Maybe you meant '==' instead of '='?\n"
     ]
    }
   ],
   "source": [
    "test@123 = 1000  # invalid identifier"
   ]
  },
  {
   "cell_type": "code",
   "execution_count": 10,
   "id": "f02314a7",
   "metadata": {},
   "outputs": [],
   "source": [
    "_name = 'Uwaish'"
   ]
  },
  {
   "cell_type": "markdown",
   "id": "7e550caa",
   "metadata": {},
   "source": [
    "## First Code"
   ]
  },
  {
   "cell_type": "code",
   "execution_count": 14,
   "id": "46b0ea1c",
   "metadata": {},
   "outputs": [
    {
     "name": "stdout",
     "output_type": "stream",
     "text": [
      "My name is: Uwaish Husain\n",
      "My age is: Male\n"
     ]
    }
   ],
   "source": [
    "name = \"Uwaish Husain\"\n",
    "\n",
    "gender = \"Male\"\n",
    "\n",
    "print(\"My name is:\",name)\n",
    "print(\"My age is:\",gender)"
   ]
  },
  {
   "cell_type": "markdown",
   "id": "92d47276",
   "metadata": {},
   "source": [
    "**WAP to define name, age, course, and duration. Display the info with a message**"
   ]
  },
  {
   "cell_type": "markdown",
   "id": "a1fd3674",
   "metadata": {},
   "source": [
    "**WAP to define roll_no, name, college, course, and year. Display it with appropriate message**"
   ]
  },
  {
   "cell_type": "code",
   "execution_count": 15,
   "id": "087bf12a",
   "metadata": {},
   "outputs": [
    {
     "data": {
      "text/plain": [
       "int"
      ]
     },
     "execution_count": 15,
     "metadata": {},
     "output_type": "execute_result"
    }
   ],
   "source": [
    "type(10)"
   ]
  },
  {
   "cell_type": "code",
   "execution_count": 16,
   "id": "eafe2e4b",
   "metadata": {},
   "outputs": [
    {
     "data": {
      "text/plain": [
       "float"
      ]
     },
     "execution_count": 16,
     "metadata": {},
     "output_type": "execute_result"
    }
   ],
   "source": [
    "type(10.4)"
   ]
  },
  {
   "cell_type": "code",
   "execution_count": 17,
   "id": "7e0b31fe",
   "metadata": {},
   "outputs": [
    {
     "data": {
      "text/plain": [
       "str"
      ]
     },
     "execution_count": 17,
     "metadata": {},
     "output_type": "execute_result"
    }
   ],
   "source": [
    "type(\"A\")"
   ]
  },
  {
   "cell_type": "code",
   "execution_count": 18,
   "id": "20269157",
   "metadata": {},
   "outputs": [
    {
     "data": {
      "text/plain": [
       "bool"
      ]
     },
     "execution_count": 18,
     "metadata": {},
     "output_type": "execute_result"
    }
   ],
   "source": [
    "type(True)"
   ]
  },
  {
   "cell_type": "code",
   "execution_count": 19,
   "id": "3a0ca112",
   "metadata": {},
   "outputs": [
    {
     "data": {
      "text/plain": [
       "str"
      ]
     },
     "execution_count": 19,
     "metadata": {},
     "output_type": "execute_result"
    }
   ],
   "source": [
    "name = \"Uwaish Husain\"\n",
    "\n",
    "type(name)"
   ]
  },
  {
   "cell_type": "code",
   "execution_count": 20,
   "id": "f4e1f5c9",
   "metadata": {},
   "outputs": [
    {
     "name": "stdout",
     "output_type": "stream",
     "text": [
      "<class 'str'>\n"
     ]
    }
   ],
   "source": [
    "print(type(name))"
   ]
  },
  {
   "cell_type": "code",
   "execution_count": 21,
   "id": "711f947c",
   "metadata": {},
   "outputs": [
    {
     "name": "stdout",
     "output_type": "stream",
     "text": [
      "The dtype of name is: <class 'str'>\n"
     ]
    }
   ],
   "source": [
    "print(\"The dtype of name is:\",type(name))"
   ]
  },
  {
   "cell_type": "markdown",
   "id": "39431133",
   "metadata": {},
   "source": [
    "**WAP to display the data type of each varibale in above two problems**"
   ]
  },
  {
   "cell_type": "code",
   "execution_count": null,
   "id": "e64d42ce",
   "metadata": {},
   "outputs": [],
   "source": []
  }
 ],
 "metadata": {
  "kernelspec": {
   "display_name": "Python 3 (ipykernel)",
   "language": "python",
   "name": "python3"
  },
  "language_info": {
   "codemirror_mode": {
    "name": "ipython",
    "version": 3
   },
   "file_extension": ".py",
   "mimetype": "text/x-python",
   "name": "python",
   "nbconvert_exporter": "python",
   "pygments_lexer": "ipython3",
   "version": "3.11.5"
  }
 },
 "nbformat": 4,
 "nbformat_minor": 5
}
