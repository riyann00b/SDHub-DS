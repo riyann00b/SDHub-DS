{
 "cells": [
  {
   "cell_type": "markdown",
   "id": "363206d8",
   "metadata": {},
   "source": [
    "# Heading"
   ]
  },
  {
   "cell_type": "markdown",
   "id": "9ddd775f",
   "metadata": {},
   "source": [
    "### Heading"
   ]
  },
  {
   "cell_type": "markdown",
   "id": "fc491436",
   "metadata": {},
   "source": [
    "# About\n",
    "\n",
    "My name is *Uwaish Husain* who is working as a **Data Science Trainer.** Along with training profession I am involved in multiple roles as well which are as follows:\n",
    "\n",
    "- Senior Consultant\n",
    "\n",
    "> I love to travel.\n",
    "\n",
    "> I love watching `movies`"
   ]
  },
  {
   "cell_type": "markdown",
   "id": "b3d56112",
   "metadata": {},
   "source": [
    "**Write a markdown about Python and its feature**"
   ]
  },
  {
   "cell_type": "markdown",
   "id": "10ff8674",
   "metadata": {},
   "source": [
    "`Python` is a programming language which is used for **Multipurpose**. It has following features:\n",
    "\n",
    "- Interpreted language\n",
    "- Open Source\n",
    "- Platform Indepenedent\n",
    "- Vast Collection of Libraries\n",
    "\n",
    "> To know more about it [click here](https://docs.python.org/3/tutorial/index.html)"
   ]
  },
  {
   "cell_type": "code",
   "execution_count": 1,
   "id": "5b06cc00",
   "metadata": {},
   "outputs": [
    {
     "data": {
      "text/plain": [
       "30"
      ]
     },
     "execution_count": 1,
     "metadata": {},
     "output_type": "execute_result"
    }
   ],
   "source": [
    "10+20"
   ]
  },
  {
   "cell_type": "code",
   "execution_count": 2,
   "id": "b1a5d522",
   "metadata": {},
   "outputs": [
    {
     "data": {
      "text/plain": [
       "-10"
      ]
     },
     "execution_count": 2,
     "metadata": {},
     "output_type": "execute_result"
    }
   ],
   "source": [
    "10-20"
   ]
  },
  {
   "cell_type": "markdown",
   "id": "2b29e6e1",
   "metadata": {},
   "source": [
    "## Identifier"
   ]
  },
  {
   "cell_type": "code",
   "execution_count": 3,
   "id": "13820c4d",
   "metadata": {},
   "outputs": [],
   "source": [
    "a = 10"
   ]
  },
  {
   "cell_type": "code",
   "execution_count": 4,
   "id": "b3b74c5b",
   "metadata": {},
   "outputs": [
    {
     "data": {
      "text/plain": [
       "10"
      ]
     },
     "execution_count": 4,
     "metadata": {},
     "output_type": "execute_result"
    }
   ],
   "source": [
    "a"
   ]
  },
  {
   "cell_type": "code",
   "execution_count": 5,
   "id": "f62cc65a",
   "metadata": {},
   "outputs": [],
   "source": [
    "A = 20"
   ]
  },
  {
   "cell_type": "code",
   "execution_count": 6,
   "id": "21a9aba3",
   "metadata": {},
   "outputs": [
    {
     "data": {
      "text/plain": [
       "20"
      ]
     },
     "execution_count": 6,
     "metadata": {},
     "output_type": "execute_result"
    }
   ],
   "source": [
    "A"
   ]
  },
  {
   "cell_type": "code",
   "execution_count": 7,
   "id": "b2a5ffde",
   "metadata": {},
   "outputs": [
    {
     "data": {
      "text/plain": [
       "10"
      ]
     },
     "execution_count": 7,
     "metadata": {},
     "output_type": "execute_result"
    }
   ],
   "source": [
    "a"
   ]
  },
  {
   "cell_type": "code",
   "execution_count": 8,
   "id": "d879e3e6",
   "metadata": {},
   "outputs": [],
   "source": [
    "test_123 = 10000"
   ]
  },
  {
   "cell_type": "code",
   "execution_count": 9,
   "id": "595bbcfe",
   "metadata": {},
   "outputs": [
    {
     "ename": "SyntaxError",
     "evalue": "cannot assign to expression here. Maybe you meant '==' instead of '='? (2838641497.py, line 1)",
     "output_type": "error",
     "traceback": [
      "\u001b[1;36m  Cell \u001b[1;32mIn[9], line 1\u001b[1;36m\u001b[0m\n\u001b[1;33m    test@123 = 1000\u001b[0m\n\u001b[1;37m    ^\u001b[0m\n\u001b[1;31mSyntaxError\u001b[0m\u001b[1;31m:\u001b[0m cannot assign to expression here. Maybe you meant '==' instead of '='?\n"
     ]
    }
   ],
   "source": [
    "test@123 = 1000  # invalid identifier"
   ]
  },
  {
   "cell_type": "code",
   "execution_count": 10,
   "id": "f02314a7",
   "metadata": {},
   "outputs": [],
   "source": [
    "_name = 'Uwaish'"
   ]
  },
  {
   "cell_type": "markdown",
   "id": "7e550caa",
   "metadata": {},
   "source": [
    "## First Code"
   ]
  },
  {
   "cell_type": "code",
   "execution_count": 14,
   "id": "46b0ea1c",
   "metadata": {},
   "outputs": [
    {
     "name": "stdout",
     "output_type": "stream",
     "text": [
      "My name is: Uwaish Husain\n",
      "My age is: Male\n"
     ]
    }
   ],
   "source": [
    "name = \"Uwaish Husain\"\n",
    "\n",
    "gender = \"Male\"\n",
    "\n",
    "print(\"My name is:\",name)\n",
    "print(\"My age is:\",gender)"
   ]
  },
  {
   "cell_type": "markdown",
   "id": "92d47276",
   "metadata": {},
   "source": [
    "**WAP to define name, age, course, and duration. Display the info with a message**"
   ]
  },
  {
   "cell_type": "markdown",
   "id": "a1fd3674",
   "metadata": {},
   "source": [
    "**WAP to define roll_no, name, college, course, and year. Display it with appropriate message**"
   ]
  },
  {
   "cell_type": "code",
   "execution_count": 15,
   "id": "087bf12a",
   "metadata": {},
   "outputs": [
    {
     "data": {
      "text/plain": [
       "int"
      ]
     },
     "execution_count": 15,
     "metadata": {},
     "output_type": "execute_result"
    }
   ],
   "source": [
    "type(10)"
   ]
  },
  {
   "cell_type": "code",
   "execution_count": 16,
   "id": "eafe2e4b",
   "metadata": {},
   "outputs": [
    {
     "data": {
      "text/plain": [
       "float"
      ]
     },
     "execution_count": 16,
     "metadata": {},
     "output_type": "execute_result"
    }
   ],
   "source": [
    "type(10.4)"
   ]
  },
  {
   "cell_type": "code",
   "execution_count": 17,
   "id": "7e0b31fe",
   "metadata": {},
   "outputs": [
    {
     "data": {
      "text/plain": [
       "str"
      ]
     },
     "execution_count": 17,
     "metadata": {},
     "output_type": "execute_result"
    }
   ],
   "source": [
    "type(\"A\")"
   ]
  },
  {
   "cell_type": "code",
   "execution_count": 18,
   "id": "20269157",
   "metadata": {},
   "outputs": [
    {
     "data": {
      "text/plain": [
       "bool"
      ]
     },
     "execution_count": 18,
     "metadata": {},
     "output_type": "execute_result"
    }
   ],
   "source": [
    "type(True)"
   ]
  },
  {
   "cell_type": "code",
   "execution_count": 19,
   "id": "3a0ca112",
   "metadata": {},
   "outputs": [
    {
     "data": {
      "text/plain": [
       "str"
      ]
     },
     "execution_count": 19,
     "metadata": {},
     "output_type": "execute_result"
    }
   ],
   "source": [
    "name = \"Uwaish Husain\"\n",
    "\n",
    "type(name)"
   ]
  },
  {
   "cell_type": "code",
   "execution_count": 20,
   "id": "f4e1f5c9",
   "metadata": {},
   "outputs": [
    {
     "name": "stdout",
     "output_type": "stream",
     "text": [
      "<class 'str'>\n"
     ]
    }
   ],
   "source": [
    "print(type(name))"
   ]
  },
  {
   "cell_type": "code",
   "execution_count": 21,
   "id": "711f947c",
   "metadata": {},
   "outputs": [
    {
     "name": "stdout",
     "output_type": "stream",
     "text": [
      "The dtype of name is: <class 'str'>\n"
     ]
    }
   ],
   "source": [
    "print(\"The dtype of name is:\",type(name))"
   ]
  },
  {
   "cell_type": "markdown",
   "id": "39431133",
   "metadata": {},
   "source": [
    "**WAP to display the data type of each varibale in above two problems**"
   ]
  },
  {
   "cell_type": "code",
   "execution_count": 5,
   "id": "e64d42ce",
   "metadata": {},
   "outputs": [
    {
     "name": "stdout",
     "output_type": "stream",
     "text": [
      "Datatype:\n",
      "Name datatype: <class 'str'>\n",
      "Age datatype: <class 'int'>\n",
      "Course datatype: <class 'str'>\n",
      "Duration datatype: <class 'float'>\n",
      "Values:\n",
      "Uwaish Husaih\n",
      "29\n",
      "Data Science\n",
      "4.5\n"
     ]
    }
   ],
   "source": [
    "name = \"Uwaish Husaih\"\n",
    "\n",
    "age= 29\n",
    "\n",
    "course = \"Data Science\"\n",
    "\n",
    "duration_in_months = 4.5\n",
    "\n",
    "print(\"Datatype:\")\n",
    "print(\"Name datatype:\",type(name))\n",
    "print(\"Age datatype:\",type(age))\n",
    "print(\"Course datatype:\",type(course))\n",
    "print(\"Duration datatype:\",type(duration_in_months))\n",
    "\n",
    "print(\"Values:\")\n",
    "print(name)\n",
    "print(age)\n",
    "print(course)\n",
    "print(duration_in_months)"
   ]
  },
  {
   "cell_type": "code",
   "execution_count": 7,
   "id": "51bfcad4",
   "metadata": {},
   "outputs": [
    {
     "data": {
      "text/plain": [
       "10"
      ]
     },
     "execution_count": 7,
     "metadata": {},
     "output_type": "execute_result"
    }
   ],
   "source": [
    "a = 10\n",
    "\n",
    "a"
   ]
  },
  {
   "cell_type": "code",
   "execution_count": 10,
   "id": "a2a07d1b",
   "metadata": {},
   "outputs": [
    {
     "name": "stdout",
     "output_type": "stream",
     "text": [
      "10\n"
     ]
    },
    {
     "data": {
      "text/plain": [
       "'10'"
      ]
     },
     "execution_count": 10,
     "metadata": {},
     "output_type": "execute_result"
    }
   ],
   "source": [
    "a = input()\n",
    "\n",
    "a"
   ]
  },
  {
   "cell_type": "code",
   "execution_count": 11,
   "id": "48e6b3fd",
   "metadata": {},
   "outputs": [
    {
     "name": "stdout",
     "output_type": "stream",
     "text": [
      "Please enter a number value:7635\n",
      "The value is: 7635\n"
     ]
    }
   ],
   "source": [
    "a = input(\"Please enter a number value:\")\n",
    "\n",
    "print(\"The value is:\",a)"
   ]
  },
  {
   "cell_type": "markdown",
   "id": "9c94059d",
   "metadata": {},
   "source": [
    "**WAP to receive name, age, and gender from user and then display with an appropriate message**"
   ]
  },
  {
   "cell_type": "code",
   "execution_count": 12,
   "id": "4ee18d24",
   "metadata": {},
   "outputs": [
    {
     "name": "stdout",
     "output_type": "stream",
     "text": [
      "Please enter your name:Uwaish Husain\n",
      "Your name is: Uwaish Husain\n"
     ]
    }
   ],
   "source": [
    "name = input(\"Please enter your name:\")\n",
    "\n",
    "print(\"Your name is:\",name)"
   ]
  },
  {
   "cell_type": "code",
   "execution_count": 13,
   "id": "4a4850e1",
   "metadata": {},
   "outputs": [
    {
     "name": "stdout",
     "output_type": "stream",
     "text": [
      "Please enter a number:23\n"
     ]
    },
    {
     "data": {
      "text/plain": [
       "str"
      ]
     },
     "execution_count": 13,
     "metadata": {},
     "output_type": "execute_result"
    }
   ],
   "source": [
    "a = input(\"Please enter a number:\")\n",
    "\n",
    "type(a)"
   ]
  },
  {
   "cell_type": "code",
   "execution_count": 14,
   "id": "202c1f52",
   "metadata": {},
   "outputs": [
    {
     "name": "stdout",
     "output_type": "stream",
     "text": [
      "Please enter a number:34\n"
     ]
    },
    {
     "data": {
      "text/plain": [
       "int"
      ]
     },
     "execution_count": 14,
     "metadata": {},
     "output_type": "execute_result"
    }
   ],
   "source": [
    "a = int(input(\"Please enter a number:\"))\n",
    "\n",
    "type(a)"
   ]
  },
  {
   "cell_type": "markdown",
   "id": "48befefd",
   "metadata": {},
   "source": [
    "**WAP to receive values such as employee_id, role, and their salary in respective datatypes**"
   ]
  },
  {
   "cell_type": "code",
   "execution_count": 15,
   "id": "75e8ae67",
   "metadata": {},
   "outputs": [
    {
     "name": "stdout",
     "output_type": "stream",
     "text": [
      "Please enter your employee id:Uwaish\n",
      "Please enter your role:DS\n",
      "Please enter your salary32483.324\n",
      "The details are as follows: Uwaish DS 32483.324\n"
     ]
    }
   ],
   "source": [
    "emp_id = input(\"Please enter your employee id:\")\n",
    "\n",
    "role = input(\"Please enter your role:\")\n",
    "\n",
    "salary = float(input(\"Please enter your salary\"))\n",
    "\n",
    "print(\"The details are as follows:\",emp_id,role,salary)"
   ]
  },
  {
   "cell_type": "code",
   "execution_count": 16,
   "id": "e4938f75",
   "metadata": {},
   "outputs": [
    {
     "data": {
      "text/plain": [
       "float"
      ]
     },
     "execution_count": 16,
     "metadata": {},
     "output_type": "execute_result"
    }
   ],
   "source": [
    "type(salary)"
   ]
  },
  {
   "cell_type": "code",
   "execution_count": 17,
   "id": "9fa910e8",
   "metadata": {},
   "outputs": [
    {
     "data": {
      "text/plain": [
       "str"
      ]
     },
     "execution_count": 17,
     "metadata": {},
     "output_type": "execute_result"
    }
   ],
   "source": [
    "type(emp_id)"
   ]
  },
  {
   "cell_type": "code",
   "execution_count": 18,
   "id": "8df5059f",
   "metadata": {},
   "outputs": [
    {
     "data": {
      "text/plain": [
       "str"
      ]
     },
     "execution_count": 18,
     "metadata": {},
     "output_type": "execute_result"
    }
   ],
   "source": [
    "type(role)"
   ]
  },
  {
   "cell_type": "code",
   "execution_count": 19,
   "id": "deb23e77",
   "metadata": {},
   "outputs": [
    {
     "data": {
      "text/plain": [
       "str"
      ]
     },
     "execution_count": 19,
     "metadata": {},
     "output_type": "execute_result"
    }
   ],
   "source": [
    "type('12376713')"
   ]
  },
  {
   "cell_type": "code",
   "execution_count": 20,
   "id": "8c468cd9",
   "metadata": {},
   "outputs": [
    {
     "data": {
      "text/plain": [
       "str"
      ]
     },
     "execution_count": 20,
     "metadata": {},
     "output_type": "execute_result"
    }
   ],
   "source": [
    "type('hgsgdfhd')"
   ]
  },
  {
   "cell_type": "code",
   "execution_count": 21,
   "id": "e5d0404d",
   "metadata": {},
   "outputs": [
    {
     "data": {
      "text/plain": [
       "int"
      ]
     },
     "execution_count": 21,
     "metadata": {},
     "output_type": "execute_result"
    }
   ],
   "source": [
    "type(1234)"
   ]
  },
  {
   "cell_type": "markdown",
   "id": "34f89551",
   "metadata": {},
   "source": [
    "**WAP to receive roll_no, course, college, and fee. Display their datatypes.**"
   ]
  },
  {
   "cell_type": "markdown",
   "id": "1ed4aeb2",
   "metadata": {},
   "source": [
    "## Operators"
   ]
  },
  {
   "cell_type": "code",
   "execution_count": 22,
   "id": "f2b69f17",
   "metadata": {},
   "outputs": [
    {
     "data": {
      "text/plain": [
       "57"
      ]
     },
     "execution_count": 22,
     "metadata": {},
     "output_type": "execute_result"
    }
   ],
   "source": [
    "23+34"
   ]
  },
  {
   "cell_type": "code",
   "execution_count": 23,
   "id": "5372490f",
   "metadata": {},
   "outputs": [
    {
     "data": {
      "text/plain": [
       "24"
      ]
     },
     "execution_count": 23,
     "metadata": {},
     "output_type": "execute_result"
    }
   ],
   "source": [
    "23+True"
   ]
  },
  {
   "cell_type": "code",
   "execution_count": 24,
   "id": "04131392",
   "metadata": {},
   "outputs": [
    {
     "data": {
      "text/plain": [
       "2"
      ]
     },
     "execution_count": 24,
     "metadata": {},
     "output_type": "execute_result"
    }
   ],
   "source": [
    "True+True"
   ]
  },
  {
   "cell_type": "code",
   "execution_count": 25,
   "id": "760319b5",
   "metadata": {},
   "outputs": [
    {
     "data": {
      "text/plain": [
       "10"
      ]
     },
     "execution_count": 25,
     "metadata": {},
     "output_type": "execute_result"
    }
   ],
   "source": [
    "10+False"
   ]
  },
  {
   "cell_type": "code",
   "execution_count": 28,
   "id": "09678e7e",
   "metadata": {},
   "outputs": [
    {
     "data": {
      "text/plain": [
       "'Uwaish Uwaish Uwaish Uwaish Uwaish Uwaish Uwaish Uwaish Uwaish Uwaish Uwaish Uwaish Uwaish Uwaish Uwaish Uwaish Uwaish Uwaish Uwaish Uwaish Uwaish Uwaish Uwaish '"
      ]
     },
     "execution_count": 28,
     "metadata": {},
     "output_type": "execute_result"
    }
   ],
   "source": [
    "'Uwaish '*23"
   ]
  },
  {
   "cell_type": "code",
   "execution_count": 30,
   "id": "d0c24730",
   "metadata": {},
   "outputs": [
    {
     "data": {
      "text/plain": [
       "'Uwaish Husain'"
      ]
     },
     "execution_count": 30,
     "metadata": {},
     "output_type": "execute_result"
    }
   ],
   "source": [
    "'Uwaish' + ' Husain'"
   ]
  },
  {
   "cell_type": "markdown",
   "id": "efdb889e",
   "metadata": {},
   "source": [
    " **WAP to receive two numbers and perform all the oparations**"
   ]
  },
  {
   "cell_type": "code",
   "execution_count": 35,
   "id": "88f44891",
   "metadata": {},
   "outputs": [
    {
     "name": "stdout",
     "output_type": "stream",
     "text": [
      "Please enter the value:3\n",
      "The cube of num1 is: 27\n"
     ]
    }
   ],
   "source": [
    "num1 = int(input(\"Please enter the value:\"))\n",
    "\n",
    "print(\"The cube of num1 is:\",num1**3)"
   ]
  },
  {
   "cell_type": "code",
   "execution_count": 34,
   "id": "390614f3",
   "metadata": {},
   "outputs": [
    {
     "name": "stdout",
     "output_type": "stream",
     "text": [
      "Please enter the value:10\n",
      "Please enter the value:4\n",
      "Addition: 14\n",
      "Exact Division: 2.5\n"
     ]
    }
   ],
   "source": [
    "num1 = int(input(\"Please enter the value:\"))\n",
    "num2 = int(input(\"Please enter the value:\"))\n",
    "\n",
    "print(\"Addition:\",num1+num2)\n",
    "print(\"Exact Division:\",num1/num2)"
   ]
  },
  {
   "cell_type": "code",
   "execution_count": 37,
   "id": "5cf9d76a",
   "metadata": {},
   "outputs": [
    {
     "name": "stdout",
     "output_type": "stream",
     "text": [
      "10 times: Uwaish Uwaish Uwaish Uwaish Uwaish Uwaish Uwaish Uwaish Uwaish Uwaish \n"
     ]
    }
   ],
   "source": [
    "# wap to display the user name 10 times\n",
    "\n",
    "name = \"Uwaish \"\n",
    "print(\"10 times:\",name*10)"
   ]
  },
  {
   "cell_type": "markdown",
   "id": "696e9b68",
   "metadata": {},
   "source": [
    "**WAP to receive first name and last name. Display full name.**"
   ]
  },
  {
   "cell_type": "code",
   "execution_count": 39,
   "id": "d5b6445e",
   "metadata": {},
   "outputs": [
    {
     "name": "stdout",
     "output_type": "stream",
     "text": [
      "Please enter your first name:Uwaish\n",
      "Please enter your last name:Husain\n",
      "Your full name is: Uwaish Husain\n"
     ]
    }
   ],
   "source": [
    "fname = input(\"Please enter your first name:\")\n",
    "lname = input(\"Please enter your last name:\")\n",
    "\n",
    "fullname = fname+' '+lname\n",
    "\n",
    "print(\"Your full name is:\",fullname)"
   ]
  },
  {
   "cell_type": "markdown",
   "id": "bd5df48f",
   "metadata": {},
   "source": [
    "**Take a value and perform assignment operations**"
   ]
  },
  {
   "cell_type": "code",
   "execution_count": 43,
   "id": "3940d977",
   "metadata": {},
   "outputs": [
    {
     "name": "stdout",
     "output_type": "stream",
     "text": [
      "Before: 10\n",
      "After: 22\n"
     ]
    }
   ],
   "source": [
    "a = 10\n",
    "\n",
    "print(\"Before:\",a)\n",
    "\n",
    "a += 12   # a = a+12\n",
    "\n",
    "print(\"After:\",a)"
   ]
  },
  {
   "cell_type": "markdown",
   "id": "45948993",
   "metadata": {},
   "source": [
    "**WAP to compare two values after defining**"
   ]
  },
  {
   "cell_type": "code",
   "execution_count": 44,
   "id": "51f9e821",
   "metadata": {},
   "outputs": [
    {
     "data": {
      "text/plain": [
       "True"
      ]
     },
     "execution_count": 44,
     "metadata": {},
     "output_type": "execute_result"
    }
   ],
   "source": [
    "num1 = 10\n",
    "\n",
    "num2 = 5\n",
    "\n",
    "num1>num2"
   ]
  },
  {
   "cell_type": "markdown",
   "id": "2baceb29",
   "metadata": {},
   "source": [
    "**WAP to compare two or more values using logical operators**"
   ]
  },
  {
   "cell_type": "code",
   "execution_count": 46,
   "id": "b45331f1",
   "metadata": {},
   "outputs": [
    {
     "data": {
      "text/plain": [
       "True"
      ]
     },
     "execution_count": 46,
     "metadata": {},
     "output_type": "execute_result"
    }
   ],
   "source": [
    "(num1>100) or (num1>num2)"
   ]
  },
  {
   "cell_type": "code",
   "execution_count": 47,
   "id": "84fecab5",
   "metadata": {},
   "outputs": [
    {
     "data": {
      "text/plain": [
       "False"
      ]
     },
     "execution_count": 47,
     "metadata": {},
     "output_type": "execute_result"
    }
   ],
   "source": [
    "(num1>100) and (num1>num2)"
   ]
  },
  {
   "cell_type": "code",
   "execution_count": 48,
   "id": "e80e2c6a",
   "metadata": {},
   "outputs": [
    {
     "data": {
      "text/plain": [
       "False"
      ]
     },
     "execution_count": 48,
     "metadata": {},
     "output_type": "execute_result"
    }
   ],
   "source": [
    "not True"
   ]
  },
  {
   "cell_type": "markdown",
   "id": "15bc85ab",
   "metadata": {},
   "source": [
    "**WAP to check whether your name contains a or not**"
   ]
  },
  {
   "cell_type": "code",
   "execution_count": 49,
   "id": "60ef1e6c",
   "metadata": {},
   "outputs": [
    {
     "data": {
      "text/plain": [
       "True"
      ]
     },
     "execution_count": 49,
     "metadata": {},
     "output_type": "execute_result"
    }
   ],
   "source": [
    "'a' in 'Uwaish'"
   ]
  },
  {
   "cell_type": "code",
   "execution_count": 50,
   "id": "dadfe595",
   "metadata": {},
   "outputs": [
    {
     "data": {
      "text/plain": [
       "False"
      ]
     },
     "execution_count": 50,
     "metadata": {},
     "output_type": "execute_result"
    }
   ],
   "source": [
    "'u' in 'Uwaish'"
   ]
  },
  {
   "cell_type": "code",
   "execution_count": 51,
   "id": "d47bec42",
   "metadata": {},
   "outputs": [
    {
     "data": {
      "text/plain": [
       "True"
      ]
     },
     "execution_count": 51,
     "metadata": {},
     "output_type": "execute_result"
    }
   ],
   "source": [
    "'sh' in 'Uwaish'"
   ]
  },
  {
   "cell_type": "code",
   "execution_count": 52,
   "id": "d5c6a816",
   "metadata": {},
   "outputs": [
    {
     "data": {
      "text/plain": [
       "True"
      ]
     },
     "execution_count": 52,
     "metadata": {},
     "output_type": "execute_result"
    }
   ],
   "source": [
    "name = \"Uwaish Husain\"\n",
    "\n",
    "'H' in name"
   ]
  },
  {
   "cell_type": "markdown",
   "id": "b8e38eb6",
   "metadata": {},
   "source": [
    "**WAP to check whether both eneterd numbers are identical or not**"
   ]
  },
  {
   "cell_type": "code",
   "execution_count": 56,
   "id": "d4fd62e1",
   "metadata": {},
   "outputs": [
    {
     "name": "stdout",
     "output_type": "stream",
     "text": [
      "Please enter the number:110\n",
      "Please enter the number:110\n",
      "Checking: True\n"
     ]
    }
   ],
   "source": [
    "num1 = int(input(\"Please enter the number:\"))\n",
    "\n",
    "num2 = int(input(\"Please enter the number:\"))\n",
    "\n",
    "print(\"Checking:\",num1 is num2)"
   ]
  },
  {
   "cell_type": "code",
   "execution_count": null,
   "id": "139a5e81",
   "metadata": {},
   "outputs": [],
   "source": []
  },
  {
   "cell_type": "code",
   "execution_count": 57,
   "id": "058c587a",
   "metadata": {},
   "outputs": [
    {
     "data": {
      "text/plain": [
       "False"
      ]
     },
     "execution_count": 57,
     "metadata": {},
     "output_type": "execute_result"
    }
   ],
   "source": [
    "'U' not in 'Uwaish'"
   ]
  },
  {
   "cell_type": "code",
   "execution_count": 58,
   "id": "e8bdb615",
   "metadata": {},
   "outputs": [
    {
     "name": "stderr",
     "output_type": "stream",
     "text": [
      "<>:1: SyntaxWarning: \"is not\" with a literal. Did you mean \"!=\"?\n",
      "<>:1: SyntaxWarning: \"is not\" with a literal. Did you mean \"!=\"?\n",
      "C:\\Users\\uwais\\AppData\\Local\\Temp\\ipykernel_11504\\3919734364.py:1: SyntaxWarning: \"is not\" with a literal. Did you mean \"!=\"?\n",
      "  10 is not 10\n"
     ]
    },
    {
     "data": {
      "text/plain": [
       "False"
      ]
     },
     "execution_count": 58,
     "metadata": {},
     "output_type": "execute_result"
    }
   ],
   "source": [
    "10 is not 10"
   ]
  },
  {
   "cell_type": "code",
   "execution_count": null,
   "id": "20005b10",
   "metadata": {},
   "outputs": [],
   "source": []
  }
 ],
 "metadata": {
  "kernelspec": {
   "display_name": "Python 3 (ipykernel)",
   "language": "python",
   "name": "python3"
  },
  "language_info": {
   "codemirror_mode": {
    "name": "ipython",
    "version": 3
   },
   "file_extension": ".py",
   "mimetype": "text/x-python",
   "name": "python",
   "nbconvert_exporter": "python",
   "pygments_lexer": "ipython3",
   "version": "3.11.5"
  }
 },
 "nbformat": 4,
 "nbformat_minor": 5
}
