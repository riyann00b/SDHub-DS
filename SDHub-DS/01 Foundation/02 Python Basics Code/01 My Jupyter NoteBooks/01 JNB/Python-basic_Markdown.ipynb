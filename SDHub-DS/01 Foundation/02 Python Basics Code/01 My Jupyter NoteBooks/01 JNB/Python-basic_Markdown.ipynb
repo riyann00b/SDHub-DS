{
 "cells": [
  {
   "cell_type": "markdown",
   "id": "0f5d80a7-00c6-4c82-8a2d-42f4a3cf8f54",
   "metadata": {},
   "source": [
    "# **Python Basics and Markdown**\n",
    "\n",
    "## *Starting with Markdown (MD)*\n",
    "\n",
    "### Symbols\n",
    "\n",
    "#### Headings\n",
    "## 1. **Using *#* we can make heading tags like html**\n",
    "# (Header 1, title)\n",
    "\n",
    "## (Header 2, major headings)\n",
    "\n",
    "### (Header 3, subheadings)\n",
    "\n",
    "#### (Header 4)\n",
    "\n",
    "##### (Header 5)\n",
    "\n",
    "###### (Header 6)\n",
    "\n",
    "## 2. Blockquotes\n",
    "\n",
    "Blockquotes can hold the large chunk of text and are generally indented. They can be obtained by using Markdown symbol '>' or with <blockquote>text for blockquote</blockquote>\n",
    "\n",
    "    >This is good\n",
    "\n",
    "Both of the syntaxes above can render the text in indented form after clicking 'Run' in the toolbar.,2\n",
    "\n",
    "## 3. Displaying Code in Markdown\n",
    "\n",
    "The Code section is the part that specifies the code of different programming languages and can be rendered where inline code starts with ' `inline code goes here` ' back-ticks around it, but the block of code starts with three back-ticks ' ``` block line code goes here ``` '. Also,the Markup tag for a Code section is ' <code>code goes here<code> '.\n",
    "\n",
    "```python\n",
    "print(\"Hello World\")\n",
    "\n",
    "```\n",
    "\n",
    "## 4. Links and images\n",
    "\n",
    "[text](link)\n",
    "\n",
    "![hello](https://upload.wikimedia.org/wikipedia/commons/c/c3/Python-logo-notext.svg)\n"
   ]
  },
  {
   "cell_type": "code",
   "execution_count": 3,
   "id": "7b339703-63d4-46ee-b0e9-edcf918062c7",
   "metadata": {},
   "outputs": [
    {
     "name": "stdout",
     "output_type": "stream",
     "text": [
      "<class 'int'>\n"
     ]
    }
   ],
   "source": [
    "#python basics\n",
    "\n",
    "#integer\n",
    "\n",
    "numb1= 123\n",
    "print(type(numb1))"
   ]
  },
  {
   "cell_type": "code",
   "execution_count": 17,
   "id": "9dc34377-21a8-42b8-a552-084da14853f9",
   "metadata": {},
   "outputs": [
    {
     "name": "stdout",
     "output_type": "stream",
     "text": [
      "my name:  riyan \n",
      "my age:  22 \n",
      "my gender:  Male \n",
      "my course:  Data Science \n",
      "my duration:  4.5 months\n"
     ]
    }
   ],
   "source": [
    "# my first code\n",
    "\n",
    "name = 'riyan'\n",
    "gender = 'Male'\n",
    "age = 22\n",
    "course = 'Data Science'\n",
    "duration = '4.5 months'\n",
    "\n",
    "print(\"my name: \", name, \"\\nmy age: \" , age, \"\\nmy gender: \", gender, \"\\nmy course: \", course, \"\\nmy duration: \", duration)"
   ]
  },
  {
   "cell_type": "code",
   "execution_count": 27,
   "id": "af4da2ef-e3ae-4255-8df8-54883239fbb4",
   "metadata": {
    "scrolled": true
   },
   "outputs": [
    {
     "name": "stdout",
     "output_type": "stream",
     "text": [
      "\n",
      "my roll_no:  160924748036 \n",
      "my name:  riyan \n",
      "my college:  LORDs \n",
      "my course:  Data Science \n",
      "my year:  2025\n",
      "\n",
      "data type: <class 'int'>\n",
      "data type: <class 'str'>\n",
      "data type: <class 'str'>\n",
      "data type: <class 'str'>\n",
      "data type: <class 'int'>\n"
     ]
    }
   ],
   "source": [
    "#program to define student details roll_no name college course year\n",
    "\n",
    "roll_no = 160924748036\n",
    "college = \"LORDs\"\n",
    "year = 2025\n",
    "\n",
    "print(\"\\nmy roll_no: \", roll_no, \"\\nmy name: \", name, \"\\nmy college: \", college, \"\\nmy course: \", course, \"\\nmy year: \", year)\n",
    "\n",
    "print(\"\\ndata type:\", type(roll_no))\n",
    "print(\"data type:\", type(name))\n",
    "print(\"data type:\", type(college))\n",
    "print(\"data type:\", type(course))\n",
    "print(\"data type:\", type(year))"
   ]
  },
  {
   "cell_type": "markdown",
   "id": "97ea59b8-9876-4c04-8e3e-c4e5961ea4b8",
   "metadata": {},
   "source": [
    "# Day 4 \n",
    "\n",
    "## input method"
   ]
  },
  {
   "cell_type": "code",
   "execution_count": 1,
   "id": "2c2f0cf3-9f80-4289-9a3b-a0a318c73943",
   "metadata": {},
   "outputs": [
    {
     "name": "stdin",
     "output_type": "stream",
     "text": [
      " 10\n"
     ]
    }
   ],
   "source": [
    "a = input()"
   ]
  },
  {
   "cell_type": "code",
   "execution_count": 2,
   "id": "0a8115c3-b135-4e9f-a748-7cdc8dd313ef",
   "metadata": {},
   "outputs": [
    {
     "name": "stdin",
     "output_type": "stream",
     "text": [
      "Enter a number value:  10\n"
     ]
    }
   ],
   "source": [
    "a = input(\"Enter a number value: \")"
   ]
  },
  {
   "cell_type": "code",
   "execution_count": 3,
   "id": "e687ff54-de16-4d21-8c3d-04edaaf1ac85",
   "metadata": {},
   "outputs": [
    {
     "name": "stdout",
     "output_type": "stream",
     "text": [
      "the value is: 10\n"
     ]
    }
   ],
   "source": [
    "print(\"the value is:\", a)"
   ]
  },
  {
   "cell_type": "markdown",
   "id": "9dff68ce-da9c-4b0b-8b4a-9c349a6a79bc",
   "metadata": {},
   "source": [
    "### WAP to recieve name age and gender from user and then display with an appropirate message"
   ]
  },
  {
   "cell_type": "code",
   "execution_count": 6,
   "id": "2f4c370d-674a-45aa-bb63-35907793bfc3",
   "metadata": {},
   "outputs": [
    {
     "name": "stdin",
     "output_type": "stream",
     "text": [
      "Enter your name:  riyan\n",
      "Enter your age:  22\n",
      "Enter your gender:  Male\n"
     ]
    },
    {
     "name": "stdout",
     "output_type": "stream",
     "text": [
      "hello  riyan your age is  22 and your gender is  Male\n"
     ]
    }
   ],
   "source": [
    "name = input(\"Enter your name: \")\n",
    "age = int(input(\"Enter your age: \"))\n",
    "gender = input(\"Enter your gender: \")\n",
    "\n",
    "print(\"hello \", name, \"your age is \", age, \"and your gender is \", gender)"
   ]
  },
  {
   "cell_type": "markdown",
   "id": "902abee4-be1c-49d1-8578-5e789e02f256",
   "metadata": {},
   "source": [
    "### WAP to receive values such as employee_id, roles and there salary in respective datatype"
   ]
  },
  {
   "cell_type": "code",
   "execution_count": 8,
   "id": "0fa668cc-cdf3-42d2-b680-43718c27dafc",
   "metadata": {},
   "outputs": [
    {
     "name": "stdin",
     "output_type": "stream",
     "text": [
      "Enter your Employee ID:  123\n",
      "Enter your role:  engg\n",
      "Enter your salary 100000000000000000000000000000000000000000000000000000\n"
     ]
    },
    {
     "name": "stdout",
     "output_type": "stream",
     "text": [
      "Hello  riyan Your employee ID is  123 and your role  engg with the salary 1e+53\n",
      "<class 'int'>\n",
      "<class 'str'>\n",
      "<class 'float'>\n"
     ]
    }
   ],
   "source": [
    "emp_ID = int(input(\"Enter your Employee ID: \"))\n",
    "role = input(\"Enter your role: \")\n",
    "salary = float(input(\"Enter your salary\"))\n",
    "\n",
    "print(\"Hello \", name, \"Your employee ID is \", emp_ID, \"and your role \", role, \"with the salary\", salary)\n",
    "print(type(emp_ID))\n",
    "print(type(role))\n",
    "print(type(salary))"
   ]
  },
  {
   "cell_type": "markdown",
   "id": "0a81e101-b50f-4b16-b6a8-27312786ae3e",
   "metadata": {},
   "source": [
    "### WAP to receivve roll_no course and fee and display datatype"
   ]
  },
  {
   "cell_type": "code",
   "execution_count": 10,
   "id": "72cb79c3-34b0-4250-b30f-d3c1008f5880",
   "metadata": {},
   "outputs": [
    {
     "name": "stdin",
     "output_type": "stream",
     "text": [
      "Enter your Rollno:  1609\n",
      "Enter your course:  CSM\n",
      "Enter your Fee:  1000000\n"
     ]
    },
    {
     "name": "stdout",
     "output_type": "stream",
     "text": [
      "your Roll number: 1609\n",
      "your Course: CSM\n",
      "your Fee: 1000000.0\n",
      "<class 'int'>\n",
      "<class 'str'>\n",
      "<class 'float'>\n"
     ]
    }
   ],
   "source": [
    "roll_no = int(input(\"Enter your Rollno: \"))\n",
    "course = input(\"Enter your course: \")\n",
    "fee = float(input(\"Enter your Fee: \"))\n",
    "\n",
    "print(\"your Roll number:\", roll_no)\n",
    "print(\"your Course:\", course)\n",
    "print(\"your Fee:\", fee)\n",
    "\n",
    "print(type(roll_no))\n",
    "print(type(course))\n",
    "print(type(fee))"
   ]
  },
  {
   "cell_type": "markdown",
   "id": "ccb2da80-3af4-46ca-8c8d-745c12f963f6",
   "metadata": {},
   "source": [
    "## Oprataors"
   ]
  },
  {
   "cell_type": "code",
   "execution_count": 13,
   "id": "06ad17a5-a999-4edd-b181-f88a8371bb11",
   "metadata": {},
   "outputs": [
    {
     "data": {
      "text/plain": [
       "'riyan riyan riyan riyan riyan riyan riyan riyan riyan riyan '"
      ]
     },
     "execution_count": 13,
     "metadata": {},
     "output_type": "execute_result"
    }
   ],
   "source": [
    "'riyan ' * 10"
   ]
  },
  {
   "cell_type": "code",
   "execution_count": 14,
   "id": "00e68c7c-a4b8-4544-8f6f-f91ad1657308",
   "metadata": {},
   "outputs": [
    {
     "data": {
      "text/plain": [
       "20"
      ]
     },
     "execution_count": 14,
     "metadata": {},
     "output_type": "execute_result"
    }
   ],
   "source": [
    "10 + 10"
   ]
  },
  {
   "cell_type": "code",
   "execution_count": 15,
   "id": "524b69ef-8eab-4edd-86fc-26396a60267b",
   "metadata": {},
   "outputs": [
    {
     "data": {
      "text/plain": [
       "10"
      ]
     },
     "execution_count": 15,
     "metadata": {},
     "output_type": "execute_result"
    }
   ],
   "source": [
    "20 - 10 "
   ]
  },
  {
   "cell_type": "code",
   "execution_count": 16,
   "id": "d23ac746-36b5-4cb7-b23d-146443deca0f",
   "metadata": {},
   "outputs": [
    {
     "data": {
      "text/plain": [
       "8"
      ]
     },
     "execution_count": 16,
     "metadata": {},
     "output_type": "execute_result"
    }
   ],
   "source": [
    "2 ** 3"
   ]
  },
  {
   "cell_type": "code",
   "execution_count": 17,
   "id": "bc6ab485-7cc1-48a0-8578-01d0edbd4a49",
   "metadata": {},
   "outputs": [
    {
     "data": {
      "text/plain": [
       "'MD Riyan Nazeer'"
      ]
     },
     "execution_count": 17,
     "metadata": {},
     "output_type": "execute_result"
    }
   ],
   "source": [
    "\"MD \" + \"Riyan \" + \"Nazeer\""
   ]
  },
  {
   "cell_type": "markdown",
   "id": "4de56143-fb27-4953-9ca8-44c2cbe44314",
   "metadata": {},
   "source": [
    "### WAP to receive 2 numbers and preform all oparations"
   ]
  },
  {
   "cell_type": "code",
   "execution_count": 20,
   "id": "82e704bf-b107-49c9-9d5c-0adb92a47ac4",
   "metadata": {},
   "outputs": [
    {
     "name": "stdin",
     "output_type": "stream",
     "text": [
      "Enter number_1:  70\n",
      "Enter number_2:  80\n"
     ]
    },
    {
     "name": "stdout",
     "output_type": "stream",
     "text": [
      "adding 150\n",
      "subing -10\n",
      "divide 0.875\n",
      "multiply 5600\n",
      "power 4053621559714438683206586610901667380087522225101208374619245444800100000000000000000000000000000000000000000000000000000000000000000000000000000000\n",
      "forgot 0\n",
      "mode 70\n"
     ]
    }
   ],
   "source": [
    "a = int(input(\"Enter number_1: \"))\n",
    "b = int(input(\"Enter number_2: \"))\n",
    "\n",
    "print('adding',a+b)\n",
    "print('subing',a-b)\n",
    "print('divide',a/b)\n",
    "print('multiply',a*b)\n",
    "print('power',a**b)\n",
    "print('forgot',a//b)\n",
    "print('mode',a%b)"
   ]
  },
  {
   "cell_type": "markdown",
   "id": "dc05d82c-6606-496f-bb6e-02dc1ffc84f9",
   "metadata": {},
   "source": [
    "## WAP to display the user name 10 times"
   ]
  },
  {
   "cell_type": "code",
   "execution_count": 36,
   "id": "2d80df13-8b33-4eeb-b0a3-f16613a3d263",
   "metadata": {},
   "outputs": [
    {
     "name": "stdin",
     "output_type": "stream",
     "text": [
      "Enter your name:  Riyan \n"
     ]
    },
    {
     "name": "stdout",
     "output_type": "stream",
     "text": [
      "your name 10 times Riyan Riyan Riyan Riyan Riyan Riyan Riyan Riyan Riyan Riyan \n"
     ]
    }
   ],
   "source": [
    "name = input(\"Enter your name: \")\n",
    "\n",
    "print(\"your name 10 times\", name * 10)"
   ]
  },
  {
   "cell_type": "markdown",
   "id": "0909b128-9d96-4788-bce1-b9cd5df99525",
   "metadata": {},
   "source": [
    "### WAP to recieave firest name and last name display full name"
   ]
  },
  {
   "cell_type": "code",
   "execution_count": 32,
   "id": "6b48ec64-9ac6-4e44-8808-184fa39426a8",
   "metadata": {},
   "outputs": [
    {
     "name": "stdin",
     "output_type": "stream",
     "text": [
      "Enter your first name:  MD\n",
      "Enter your last name:  Riyan\n"
     ]
    },
    {
     "name": "stdout",
     "output_type": "stream",
     "text": [
      "your full name:  MD Riyan\n"
     ]
    }
   ],
   "source": [
    "f_name = input(\"Enter your first name: \")\n",
    "\n",
    "l_name = input(\"Enter your last name: \")\n",
    "\n",
    "print(\"your full name: \", f_name +\" \"+l_name)"
   ]
  },
  {
   "cell_type": "markdown",
   "id": "3c68d62b-84f1-4c38-9b03-097fa7d87467",
   "metadata": {},
   "source": [
    "## Assignment oparators"
   ]
  },
  {
   "cell_type": "markdown",
   "id": "7f2eb1ee-e56d-4e90-bcae-4db875365bec",
   "metadata": {},
   "source": [
    "### Take a value and preform assignment opration"
   ]
  },
  {
   "cell_type": "code",
   "execution_count": 39,
   "id": "39149178-63d5-4f02-b194-5e2f60a8ba55",
   "metadata": {},
   "outputs": [
    {
     "name": "stdout",
     "output_type": "stream",
     "text": [
      "before: 10\n",
      "after: 20\n"
     ]
    }
   ],
   "source": [
    "a = 10\n",
    "print(\"before:\", a)\n",
    "a+=10\n",
    "print(\"after:\", a)"
   ]
  },
  {
   "cell_type": "code",
   "execution_count": 40,
   "id": "d69957e8-0c05-4580-8b3a-f049ff3b2680",
   "metadata": {},
   "outputs": [
    {
     "name": "stdout",
     "output_type": "stream",
     "text": [
      "before: 10\n",
      "after: 0\n"
     ]
    }
   ],
   "source": [
    "a = 10\n",
    "print(\"before:\", a)\n",
    "a-=10\n",
    "print(\"after:\", a)"
   ]
  },
  {
   "cell_type": "code",
   "execution_count": 41,
   "id": "14dad012-9505-42b8-a423-84c24bbc41e5",
   "metadata": {},
   "outputs": [
    {
     "name": "stdout",
     "output_type": "stream",
     "text": [
      "before: 10\n",
      "after: 1.0\n"
     ]
    }
   ],
   "source": [
    "a = 10\n",
    "print(\"before:\", a)\n",
    "a/=10\n",
    "print(\"after:\", a)"
   ]
  },
  {
   "cell_type": "code",
   "execution_count": 42,
   "id": "04beda1a-ef15-49f4-85c7-9d1146b12538",
   "metadata": {},
   "outputs": [
    {
     "name": "stdout",
     "output_type": "stream",
     "text": [
      "before: 10\n",
      "after: 1\n"
     ]
    }
   ],
   "source": [
    "a = 10\n",
    "print(\"before:\", a)\n",
    "a//=10\n",
    "print(\"after:\", a)"
   ]
  },
  {
   "cell_type": "code",
   "execution_count": 43,
   "id": "c4177e96-c695-425e-8b53-8f80adfa7a23",
   "metadata": {},
   "outputs": [
    {
     "name": "stdout",
     "output_type": "stream",
     "text": [
      "before: 10\n",
      "after: 100\n"
     ]
    }
   ],
   "source": [
    "a = 10\n",
    "print(\"before:\", a)\n",
    "a*=10\n",
    "print(\"after:\", a)"
   ]
  },
  {
   "cell_type": "code",
   "execution_count": 44,
   "id": "361d5d91-ddbf-4224-b590-e634d74892ab",
   "metadata": {},
   "outputs": [
    {
     "name": "stdout",
     "output_type": "stream",
     "text": [
      "before: 10\n",
      "after: 10000000000\n"
     ]
    }
   ],
   "source": [
    "a = 10\n",
    "print(\"before:\", a)\n",
    "a**=10\n",
    "print(\"after:\", a)"
   ]
  },
  {
   "cell_type": "code",
   "execution_count": 45,
   "id": "4e0d7f53-8e49-4ab7-b258-9826063f76bf",
   "metadata": {},
   "outputs": [
    {
     "name": "stdout",
     "output_type": "stream",
     "text": [
      "before: 10\n",
      "after: 0\n"
     ]
    }
   ],
   "source": [
    "a = 10\n",
    "print(\"before:\", a)\n",
    "a%=10\n",
    "print(\"after:\", a)"
   ]
  },
  {
   "cell_type": "markdown",
   "id": "ba325d83-542d-4164-88fa-1a7af080dfe4",
   "metadata": {},
   "source": [
    "## COMMENTS USE \"#\" TO ADD COMMENT IN CODE"
   ]
  },
  {
   "cell_type": "markdown",
   "id": "ba6efc52-20b2-4765-b451-c7eff9c058a7",
   "metadata": {},
   "source": [
    "> Note: To write a comment in code cell we can use #"
   ]
  },
  {
   "cell_type": "markdown",
   "id": "233b52db-bf20-42f7-85cb-4314b4c5dcb2",
   "metadata": {},
   "source": [
    "### comparasion opratator\n",
    "\n",
    "##### ==, <, >, <=, <=, !="
   ]
  },
  {
   "cell_type": "markdown",
   "id": "2080ace2-6a7f-41fa-ad41-d9a97dca861f",
   "metadata": {},
   "source": [
    "#### WAP to compare two values after defining"
   ]
  },
  {
   "cell_type": "code",
   "execution_count": 52,
   "id": "6b01eba8-365f-47d3-9c5f-53f145562b26",
   "metadata": {},
   "outputs": [
    {
     "data": {
      "text/plain": [
       "False"
      ]
     },
     "execution_count": 52,
     "metadata": {},
     "output_type": "execute_result"
    }
   ],
   "source": [
    "a = 10\n",
    "b = 20\n",
    "\n",
    "#a > b,\n",
    "#a < b,\n",
    "#a = b,\n",
    "#a == b,\n",
    "#a <= b,\n",
    "a >= b\n",
    "#a != b,"
   ]
  },
  {
   "cell_type": "markdown",
   "id": "a095f6f4-7363-497b-ba9e-db7e4a212411",
   "metadata": {},
   "source": [
    "### **WAP to compare two or moew values using logical operators**"
   ]
  },
  {
   "cell_type": "code",
   "execution_count": 63,
   "id": "fa7a116b-5a36-497d-950c-30ddc0cf774b",
   "metadata": {},
   "outputs": [
    {
     "data": {
      "text/plain": [
       "False"
      ]
     },
     "execution_count": 63,
     "metadata": {},
     "output_type": "execute_result"
    }
   ],
   "source": [
    "num1=100\n",
    "num2=150\n",
    "\n",
    "(num1>100) or (num1>num2)\n",
    "(num1>100) and (num1>num2)"
   ]
  },
  {
   "cell_type": "markdown",
   "id": "739bd403-c6ee-45ab-9f6a-41fa596c200b",
   "metadata": {},
   "source": [
    "### membership oparator (string) in , not in ex: 'R' in riyan = true "
   ]
  },
  {
   "cell_type": "markdown",
   "id": "79499ccf-a95a-445a-9273-b84360c826c7",
   "metadata": {},
   "source": [
    "### **WAP to check whether your name contains a or not**"
   ]
  },
  {
   "cell_type": "code",
   "execution_count": 65,
   "id": "58f02af0-e3a5-4806-9030-7c21d7c991ca",
   "metadata": {},
   "outputs": [
    {
     "data": {
      "text/plain": [
       "True"
      ]
     },
     "execution_count": 65,
     "metadata": {},
     "output_type": "execute_result"
    }
   ],
   "source": [
    "'a' in 'riyan'"
   ]
  },
  {
   "cell_type": "markdown",
   "id": "82a0b44f-9d1f-4f4c-8e4a-00c3d43170a0",
   "metadata": {},
   "source": [
    "### more examples "
   ]
  },
  {
   "cell_type": "code",
   "execution_count": 67,
   "id": "ce366735-bea1-4d06-8611-b95e37baad8c",
   "metadata": {},
   "outputs": [
    {
     "data": {
      "text/plain": [
       "False"
      ]
     },
     "execution_count": 67,
     "metadata": {},
     "output_type": "execute_result"
    }
   ],
   "source": [
    "'a' in 'riyan'"
   ]
  },
  {
   "cell_type": "code",
   "execution_count": 68,
   "id": "43c8bbe6-60fd-42d0-a41d-034027f66e35",
   "metadata": {},
   "outputs": [
    {
     "data": {
      "text/plain": [
       "False"
      ]
     },
     "execution_count": 68,
     "metadata": {},
     "output_type": "execute_result"
    }
   ],
   "source": [
    "'e' in 'riyan'"
   ]
  },
  {
   "cell_type": "code",
   "execution_count": 69,
   "id": "0ffaaa21-8a1e-4010-b295-5db93a1e39ec",
   "metadata": {},
   "outputs": [
    {
     "data": {
      "text/plain": [
       "True"
      ]
     },
     "execution_count": 69,
     "metadata": {},
     "output_type": "execute_result"
    }
   ],
   "source": [
    "'i' in 'riyan'"
   ]
  },
  {
   "cell_type": "code",
   "execution_count": 70,
   "id": "70690093-9a7f-4bd4-a475-04c1a0b1ad73",
   "metadata": {},
   "outputs": [
    {
     "data": {
      "text/plain": [
       "False"
      ]
     },
     "execution_count": 70,
     "metadata": {},
     "output_type": "execute_result"
    }
   ],
   "source": [
    "'o' in 'riyan'"
   ]
  },
  {
   "cell_type": "code",
   "execution_count": 71,
   "id": "a415d7e1-49cd-44b6-9cc7-384e4fc2f14d",
   "metadata": {},
   "outputs": [
    {
     "data": {
      "text/plain": [
       "False"
      ]
     },
     "execution_count": 71,
     "metadata": {},
     "output_type": "execute_result"
    }
   ],
   "source": [
    "'u' in 'riyan'"
   ]
  },
  {
   "cell_type": "markdown",
   "id": "3f92200f-2392-4e5c-bd53-90a9d6d2ba7c",
   "metadata": {},
   "source": [
    "### **WAP to check wheather both enntered number are identical or not**"
   ]
  },
  {
   "cell_type": "code",
   "execution_count": 73,
   "id": "01842d06-5186-4de0-a2ca-bb8e11645830",
   "metadata": {},
   "outputs": [
    {
     "name": "stdin",
     "output_type": "stream",
     "text": [
      "Enter number_1:  12\n",
      "Enter number_2:  13\n"
     ]
    },
    {
     "name": "stdout",
     "output_type": "stream",
     "text": [
      "checking : False\n"
     ]
    }
   ],
   "source": [
    "num1 = int(input(\"Enter number_1: \"))\n",
    "num2 = int(input(\"Enter number_2: \"))\n",
    "print(\"checking :\", num1 is num2)"
   ]
  },
  {
   "cell_type": "code",
   "execution_count": null,
   "id": "fea0645c-cb02-45ec-8e49-45a8045e122b",
   "metadata": {},
   "outputs": [],
   "source": []
  }
 ],
 "metadata": {
  "kernelspec": {
   "display_name": "Python 3 (ipykernel)",
   "language": "python",
   "name": "python3"
  },
  "language_info": {
   "codemirror_mode": {
    "name": "ipython",
    "version": 3
   },
   "file_extension": ".py",
   "mimetype": "text/x-python",
   "name": "python",
   "nbconvert_exporter": "python",
   "pygments_lexer": "ipython3",
   "version": "3.13.5"
  }
 },
 "nbformat": 4,
 "nbformat_minor": 5
}
