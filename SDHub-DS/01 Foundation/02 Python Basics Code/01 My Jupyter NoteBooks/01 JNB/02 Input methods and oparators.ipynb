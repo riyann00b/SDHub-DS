{
 "cells": [
  {
   "cell_type": "markdown",
   "metadata": {},
   "source": [
    "# My Notes: Week 1, Day 2\n",
    "\n",
    "Consolidating my notes and the instructor's notebook (`DS_02.ipynb`) in the exact order of the class."
   ]
  },
  {
   "cell_type": "markdown",
   "metadata": {},
   "source": [
    "## Part 1: Review and Foundations\n",
    "\n",
    "The class started with a review of the previous day's topics, focusing on **Identifiers**."
   ]
  },
  {
   "cell_type": "markdown",
   "metadata": {},
   "source": [
    "### Identifiers (Variable Names)\n",
    "\n",
    "An identifier is a name given to a variable, function, etc. Sir reviewed the rules:\n",
    "- They are **case-sensitive**.\n",
    "- Cannot start with a number.\n",
    "- Cannot contain special characters (except `_`)."
   ]
  },
  {
   "cell_type": "code",
   "execution_count": null,
   "metadata": {},
   "outputs": [],
   "source": [
    "# Python is case-sensitive, so 'a' and 'A' are different variables.\n",
    "a = 10\n",
    "A = 20\n",
    "print(\"'a' is:\", a)\n",
    "print(\"'A' is:\", A)\n",
    "\n",
    "# A valid identifier can have numbers and underscores\n",
    "test_123 = 10000\n",
    "print(\"test_123 is:\", test_123)\n",
    "\n",
    "# An invalid identifier will cause a SyntaxError\n",
    "# test@123 = 1000 # This line would crash the program because of the '@'"
   ]
  },
  {
   "cell_type": "markdown",
   "metadata": {},
   "source": [
    "Sir then emphasized the importance of using **meaningful variable names** instead of simple ones like `a` or `x`. This makes code much easier to read."
   ]
  },
  {
   "cell_type": "markdown",
   "metadata": {},
   "source": [
    "## Part 2: Static Value Assignment\n",
    "\n",
    "This is the method we have been using so far, where we **hard-code** the value of a variable directly in our program."
   ]
  },
  {
   "cell_type": "code",
   "execution_count": null,
   "metadata": {},
   "outputs": [],
   "source": [
    "# WAP to define name, age, course, and duration. Display the info.\n",
    "\n",
    "# These are all static values.\n",
    "name = \"Riyan\"\n",
    "age = 22\n",
    "course = \"Data Science\"\n",
    "duration_in_months = 4.5\n",
    "\n",
    "print(\"--- My Details ---\")\n",
    "print(\"Name:\", name)\n",
    "print(\"Age:\", age)\n",
    "print(\"Course:\", course)\n",
    "print(\"Duration (months):\", duration_in_months)\n",
    "\n",
    "# We also checked their data types\n",
    "print(\"\\n--- Data Types ---\")\n",
    "print(\"Name datatype:\", type(name))\n",
    "print(\"Age datatype:\", type(age))\n",
    "print(\"Course datatype:\", type(course))\n",
    "print(\"Duration datatype:\", type(duration_in_months))"
   ]
  },
  {
   "cell_type": "markdown",
   "metadata": {},
   "source": [
    "## Part 3: Dynamic Input using `input()`\n",
    "\n",
    "Next, we learned how to get input from the user while the program is running. This is called **dynamic input**."
   ]
  },
  {
   "cell_type": "code",
   "execution_count": null,
   "metadata": {},
   "outputs": [],
   "source": [
    "# The input() function pauses and waits for the user to type.\n",
    "user_value = input(\"Please enter a value: \")\n",
    "print(\"The value you entered is:\", user_value)"
   ]
  },
  {
   "cell_type": "markdown",
   "metadata": {},
   "source": [
    "### The Most Important Rule: Type Casting\n",
    "\n",
    "The `input()` function **always returns a string**. We must convert it if we need a number.\n"
   ]
  },
  {
   "cell_type": "code",
   "execution_count": null,
   "metadata": {},
   "outputs": [],
   "source": [
    "# Get a number from the user\n",
    "a = input(\"Please enter a number: \")\n",
    "print(\"The data type of 'a' is:\", type(a)) # This will be <class 'str'>\n",
    "\n",
    "# To use it as a number, we must cast it\n",
    "b = int(input(\"Please enter another number: \"))\n",
    "print(\"The data type of 'b' is:\", type(b)) # This will be <class 'int'>"
   ]
  },
  {
   "cell_type": "markdown",
   "metadata": {},
   "source": [
    "#### WAP: Get employee details from the user"
   ]
  },
  {
   "cell_type": "code",
   "execution_count": null,
   "metadata": {},
   "outputs": [],
   "source": [
    "# We must use the correct type casting for each input.\n",
    "emp_id = input(\"Please enter your employee id: \") # ID can be a string (e.g., 'E101')\n",
    "role = input(\"Please enter your role: \")\n",
    "salary = float(input(\"Please enter your salary: \")) # Salary can have decimals\n",
    "\n",
    "print(\"\\n--- Employee Details ---\")\n",
    "print(\"ID:\", emp_id)\n",
    "print(\"Role:\", role)\n",
    "print(\"Salary:\", salary)\n",
    "print(\"Salary data type is:\", type(salary))"
   ]
  },
  {
   "cell_type": "markdown",
   "metadata": {},
   "source": [
    "## Part 4: Operators\n",
    "\n",
    "Next, we covered all the different types of operators in Python."
   ]
  },
  {
   "cell_type": "markdown",
   "metadata": {},
   "source": [
    "### a) Arithmetic Operators"
   ]
  },
  {
   "cell_type": "code",
   "execution_count": null,
   "metadata": {},
   "outputs": [],
   "source": [
    "# WAP to receive two numbers and perform all the operations\n",
    "num1 = int(input(\"Enter first number: \"))\n",
    "num2 = int(input(\"Enter second number: \"))\n",
    "\n",
    "print(f'Addition: {num1 + num2}')\n",
    "print(f'Subtraction: {num1 - num2}')\n",
    "print(f'Multiplication: {num1 * num2}')\n",
    "print(f'Division: {num1 / num2}')\n",
    "print(f'Floor Division: {num1 // num2}')\n",
    "print(f'Modulus (Remainder): {num1 % num2}')\n",
    "print(f'Exponent (Power): {num1 ** num2}')"
   ]
  },
  {
   "cell_type": "markdown",
   "metadata": {},
   "source": [
    "**Special cases for `+` and `*` with strings:**"
   ]
  },
  {
   "cell_type": "code",
   "execution_count": null,
   "metadata": {},
   "outputs": [],
   "source": [
    "# String concatenation\n",
    "fname = input(\"Please enter your first name: \")\n",
    "lname = input(\"Please enter your last name: \")\n",
    "fullname = fname + ' ' + lname\n",
    "print(\"Your full name is:\", fullname)\n",
    "\n",
    "# String repetition\n",
    "print(\"Your name 10 times:\", (fname + ' ') * 10)"
   ]
  },
  {
   "cell_type": "markdown",
   "metadata": {},
   "source": [
    "### b) Assignment Operators\n",
    "\n",
    "These are shortcuts for updating a variable's value."
   ]
  },
  {
   "cell_type": "code",
   "execution_count": null,
   "metadata": {},
   "outputs": [],
   "source": [
    "a = 10\n",
    "print(\"Before:\", a)\n",
    "\n",
    "a += 12   # This is a shortcut for: a = a + 12\n",
    "\n",
    "print(\"After:\", a)"
   ]
  },
  {
   "cell_type": "markdown",
   "metadata": {},
   "source": [
    "### c) Comparison Operators\n",
    "These compare two values and return `True` or `False`."
   ]
  },
  {
   "cell_type": "code",
   "execution_count": null,
   "metadata": {},
   "outputs": [],
   "source": [
    "num1 = 10\n",
    "num2 = 5\n",
    "print(f'Is {num1} > {num2}?', num1 > num2)\n",
    "print(f'Is {num1} == {num2}?', num1 == num2)"
   ]
  },
  {
   "cell_type": "markdown",
   "metadata": {},
   "source": [
    "### d) Logical Operators\n",
    "Used to combine multiple conditions (`and`, `or`, `not`)."
   ]
  },
  {
   "cell_type": "code",
   "execution_count": null,
   "metadata": {},
   "outputs": [],
   "source": [
    "num1 = 10\n",
    "num2 = 5\n",
    "# This returns True because the second part (num1 > num2) is True\n",
    "print(\"(num1 > 100) or (num1 > num2) is:\", (num1 > 100) or (num1 > num2))\n",
    "\n",
    "# This returns False because the first part (num1 > 100) is False\n",
    "print(\"(num1 > 100) and (num1 > num2) is:\", (num1 > 100) and (num1 > num2))"
   ]
  },
  {
   "cell_type": "markdown",
   "metadata": {},
   "source": [
    "### e) Membership Operators\n",
    "Checks if a value exists within a sequence (`in`, `not in`)."
   ]
  },
  {
   "cell_type": "code",
   "execution_count": null,
   "metadata": {},
   "outputs": [],
   "source": [
    "# WAP to check whether your name contains 'a' or not\n",
    "name = 'Riyan'\n",
    "print(f\"Is 'a' in '{name}'?\", 'a' in name)\n",
    "print(f\"Is 'z' in '{name}'?\", 'z' in name)\n",
    "print(f\"Is 'yan' in '{name}'?\", 'yan' in name)"
   ]
  },
  {
   "cell_type": "markdown",
   "metadata": {},
   "source": [
    "### f) Identity Operators\n",
    "Checks if two variables refer to the exact same object in memory (`is`, `is not`)."
   ]
  },
  {
   "cell_type": "code",
   "execution_count": null,
   "metadata": {},
   "outputs": [],
   "source": [
    "# WAP to check whether both entered numbers are identical or not\n",
    "num1 = int(input(\"Please enter the number: \"))\n",
    "num2 = int(input(\"Please enter the number: \"))\n",
    "\n",
    "print(f\"Checking for value equality ({num1} == {num2}):\", num1 == num2)\n",
    "print(f\"Checking for object identity ({num1} is {num2}):\", num1 is num2)\n",
    "> Note: For numbers from user input, 'is' is usually False because Python creates new objects."
   ]
  },
  {
   "cell_type": "markdown",
   "metadata": {},
   "source": [
    "---"
   ]
  },
  {
   "cell_type": "markdown",
   "metadata": {},
   "source": [
    "## Homework: Understanding Bitwise Operators\n",
    "\n",
    "**Introduction:** Bitwise operators work on the **binary representation** of numbers (the 0s and 1s).\n",
    "\n",
    "**Let's use `a = 10` and `b = 4` for all examples.**\n",
    "- `a = 10`  ->  Binary `1010`\n",
    "- `b = 4`   ->  Binary `0100`"
   ]
  },
  {
   "cell_type": "markdown",
   "metadata": {},
   "source": [
    "### 1. Bitwise AND (`&`)\n",
    "**Rule:** The result bit is `1` only if **both** corresponding bits are `1`.\n",
    "```\n",
    "  1010  (10)\n",
    "& 0100  (4)\n",
    "-------\n",
    "  0000  (0)\n",
    "```"
   ]
  },
  {
   "cell_type": "code",
   "execution_count": null,
   "metadata": {},
   "outputs": [],
   "source": [
    "print(\"10 & 4:\", 10 & 4)"
   ]
  },
  {
   "cell_type": "markdown",
   "metadata": {},
   "source": [
    "### 2. Bitwise OR (`|`)\n",
    "**Rule:** The result bit is `1` if **at least one** of the corresponding bits is `1`.\n",
    "```\n",
    "  1010  (10)\n",
    "| 0100  (4)\n",
    "-------\n",
    "  1110  (14)\n",
    "```"
   ]
  },
  {
   "cell_type": "code",
   "execution_count": null,
   "metadata": {},
   "outputs": [],
   "source": [
    "print(\"10 | 4:\", 10 | 4)"
   ]
  },
  {
   "cell_type": "markdown",
   "metadata": {},
   "source": [
    "### 3. Bitwise XOR (`^`)\n",
    "**Rule:** The result bit is `1` only if the corresponding bits are **different**.\n",
    "```\n",
    "  1010  (10)\n",
    "^ 0100  (4)\n",
    "-------\n",
    "  1110  (14)\n",
    "```"
   ]
  },
  {
   "cell_type": "code",
   "execution_count": null,
   "metadata": {},
   "outputs": [],
   "source": [
    "print(\"10 ^ 4:\", 10 ^ 4)"
   ]
  },
  {
   "cell_type": "markdown",
   "metadata": {},
   "source": [
    "### 4. Bitwise NOT (`~`)\n",
    "**Rule:** Inverts all the bits. The result is `-(x + 1)`.\n",
    "`~10` -> `-(10 + 1)` -> `-11`"
   ]
  },
  {
   "cell_type": "code",
   "execution_count": null,
   "metadata": {},
   "outputs": [],
   "source": [
    "print(\"~10:\", ~10)"
   ]
  },
  {
   "cell_type": "markdown",
   "metadata": {},
   "source": [
    "### 5. Left Shift (`<<`) and Right Shift (`>>`)\n",
    "- **Left Shift:** Shifts bits to the left, filling empty spaces with 0s. (Effectively multiplying by 2 for each shift).\n",
    "- **Right Shift:** Shifts bits to the right, discarding bits on the end. (Effectively doing integer division by 2 for each shift)."
   ]
  },
  {
   "cell_type": "code",
   "execution_count": null,
   "metadata": {},
   "outputs": [],
   "source": [
    "# Shift 10 left by 2 places: 10 * 2^2 = 40\n",
    "print(\"10 << 2:\", 10 << 2)\n",
    "\n",
    "# Shift 10 right by 2 places: 10 // 2^2 = 2\n",
    "print(\"10 >> 2:\", 10 >> 2)"
   ]
  }
 ],
 "metadata": {
  "kernelspec": {
   "display_name": "Python 3 (ipykernel)",
   "language": "python",
   "name": "python3"
  },
  "language_info": {
   "codemirror_mode": {
    "name": "ipython",
    "version": 3
   },
   "file_extension": ".py",
   "mimetype": "text/x-python",
   "name": "python",
   "nbconvert_exporter": "python",
   "pygments_lexer": "ipython3",
   "version": "3.11.5"
  }
 },
 "nbformat": 4,
 "nbformat_minor": 5
}
