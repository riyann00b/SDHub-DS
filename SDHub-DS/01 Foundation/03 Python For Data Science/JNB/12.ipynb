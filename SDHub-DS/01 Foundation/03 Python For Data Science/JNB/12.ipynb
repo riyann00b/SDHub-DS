{
 "cells": [
  {
   "cell_type": "markdown",
   "id": "9e1cc7a6-593a-4cc8-8831-3ad82299e104",
   "metadata": {},
   "source": [
    "# EDA "
   ]
  },
  {
   "cell_type": "code",
   "execution_count": 2,
   "id": "8a25fc08-19f6-41cc-b63d-26cd4a5ae77b",
   "metadata": {},
   "outputs": [],
   "source": [
    "import pandas as pd\n",
    "import numpy as np\n",
    "import matplotlib.pyplot as plt\n",
    "import seaborn as sns"
   ]
  },
  {
   "cell_type": "code",
   "execution_count": 10,
   "id": "754940dd-e45d-4638-8655-5fadeaa0d368",
   "metadata": {},
   "outputs": [
    {
     "name": "stdout",
     "output_type": "stream",
     "text": [
      "Dataset Shape: (667, 20)\n",
      "Columns: ['State', 'Account length', 'Area code', 'International plan', 'Voice mail plan', 'Number vmail messages', 'Total day minutes', 'Total day calls', 'Total day charge', 'Total eve minutes', 'Total eve calls', 'Total eve charge', 'Total night minutes', 'Total night calls', 'Total night charge', 'Total intl minutes', 'Total intl calls', 'Total intl charge', 'Customer service calls', 'Churn']\n",
      "\n",
      "First 5 rows:\n",
      "  State  Account length  Area code International plan Voice mail plan  \\\n",
      "0    LA             117        408                 No              No   \n",
      "1    IN              65        415                 No              No   \n",
      "2    NY             161        415                 No              No   \n",
      "3    SC             111        415                 No              No   \n",
      "4    HI              49        510                 No              No   \n",
      "\n",
      "   Number vmail messages  Total day minutes  Total day calls  \\\n",
      "0                      0              184.5               97   \n",
      "1                      0              129.1              137   \n",
      "2                      0              332.9               67   \n",
      "3                      0              110.4              103   \n",
      "4                      0              119.3              117   \n",
      "\n",
      "   Total day charge  Total eve minutes  Total eve calls  Total eve charge  \\\n",
      "0             31.37              351.6               80             29.89   \n",
      "1             21.95              228.5               83             19.42   \n",
      "2             56.59              317.8               97             27.01   \n",
      "3             18.77              137.3              102             11.67   \n",
      "4             20.28              215.1              109             18.28   \n",
      "\n",
      "   Total night minutes  Total night calls  Total night charge  \\\n",
      "0                215.8                 90                9.71   \n",
      "1                208.8                111                9.40   \n",
      "2                160.6                128                7.23   \n",
      "3                189.6                105                8.53   \n",
      "4                178.7                 90                8.04   \n",
      "\n",
      "   Total intl minutes  Total intl calls  Total intl charge  \\\n",
      "0                 8.7                 4               2.35   \n",
      "1                12.7                 6               3.43   \n",
      "2                 5.4                 9               1.46   \n",
      "3                 7.7                 6               2.08   \n",
      "4                11.1                 1               3.00   \n",
      "\n",
      "   Customer service calls  Churn  \n",
      "0                       1  False  \n",
      "1                       4   True  \n",
      "2                       4   True  \n",
      "3                       2  False  \n",
      "4                       1  False  \n",
      "\n",
      "Dataset Info:\n",
      "<class 'pandas.core.frame.DataFrame'>\n",
      "RangeIndex: 667 entries, 0 to 666\n",
      "Data columns (total 20 columns):\n",
      " #   Column                  Non-Null Count  Dtype  \n",
      "---  ------                  --------------  -----  \n",
      " 0   State                   667 non-null    object \n",
      " 1   Account length          667 non-null    int64  \n",
      " 2   Area code               667 non-null    int64  \n",
      " 3   International plan      667 non-null    object \n",
      " 4   Voice mail plan         667 non-null    object \n",
      " 5   Number vmail messages   667 non-null    int64  \n",
      " 6   Total day minutes       667 non-null    float64\n",
      " 7   Total day calls         667 non-null    int64  \n",
      " 8   Total day charge        667 non-null    float64\n",
      " 9   Total eve minutes       667 non-null    float64\n",
      " 10  Total eve calls         667 non-null    int64  \n",
      " 11  Total eve charge        667 non-null    float64\n",
      " 12  Total night minutes     667 non-null    float64\n",
      " 13  Total night calls       667 non-null    int64  \n",
      " 14  Total night charge      667 non-null    float64\n",
      " 15  Total intl minutes      667 non-null    float64\n",
      " 16  Total intl calls        667 non-null    int64  \n",
      " 17  Total intl charge       667 non-null    float64\n",
      " 18  Customer service calls  667 non-null    int64  \n",
      " 19  Churn                   667 non-null    bool   \n",
      "dtypes: bool(1), float64(8), int64(8), object(3)\n",
      "memory usage: 99.8+ KB\n",
      "None\n",
      "\n",
      "Statistical Summary:\n",
      "       Account length   Area code  Number vmail messages  Total day minutes  \\\n",
      "count      667.000000  667.000000             667.000000         667.000000   \n",
      "mean       102.841079  436.157421               8.407796         180.948126   \n",
      "std         40.819480   41.783305              13.994480          55.508628   \n",
      "min          1.000000  408.000000               0.000000          25.900000   \n",
      "25%         76.000000  408.000000               0.000000         146.250000   \n",
      "50%        102.000000  415.000000               0.000000         178.300000   \n",
      "75%        128.000000  415.000000              20.000000         220.700000   \n",
      "max        232.000000  510.000000              51.000000         334.300000   \n",
      "\n",
      "       Total day calls  Total day charge  Total eve minutes  Total eve calls  \\\n",
      "count       667.000000        667.000000         667.000000       667.000000   \n",
      "mean        100.937031         30.761769         203.355322       100.476762   \n",
      "std          20.396790          9.436463          49.719268        18.948262   \n",
      "min          30.000000          4.400000          48.100000        37.000000   \n",
      "25%          87.500000         24.860000         171.050000        88.000000   \n",
      "50%         101.000000         30.310000         203.700000       101.000000   \n",
      "75%         115.000000         37.520000         236.450000       113.000000   \n",
      "max         165.000000         56.830000         361.800000       168.000000   \n",
      "\n",
      "       Total eve charge  Total night minutes  Total night calls  \\\n",
      "count        667.000000           667.000000         667.000000   \n",
      "mean          17.285262           199.685307         100.113943   \n",
      "std            4.226160            49.759931          20.172505   \n",
      "min            4.090000            23.200000          42.000000   \n",
      "25%           14.540000           167.950000          86.000000   \n",
      "50%           17.310000           201.600000         100.000000   \n",
      "75%           20.095000           231.500000         113.500000   \n",
      "max           30.750000           367.700000         175.000000   \n",
      "\n",
      "       Total night charge  Total intl minutes  Total intl calls  \\\n",
      "count          667.000000          667.000000        667.000000   \n",
      "mean             8.985907           10.238381          4.527736   \n",
      "std              2.239429            2.807850          2.482442   \n",
      "min              1.040000            0.000000          0.000000   \n",
      "25%              7.560000            8.600000          3.000000   \n",
      "50%              9.070000           10.500000          4.000000   \n",
      "75%             10.420000           12.050000          6.000000   \n",
      "max             16.550000           18.300000         18.000000   \n",
      "\n",
      "       Total intl charge  Customer service calls  \n",
      "count         667.000000              667.000000  \n",
      "mean            2.764948                1.563718  \n",
      "std             0.758167                1.333357  \n",
      "min             0.000000                0.000000  \n",
      "25%             2.320000                1.000000  \n",
      "50%             2.840000                1.000000  \n",
      "75%             3.255000                2.000000  \n",
      "max             4.940000                8.000000  \n",
      "\n",
      "Missing Values:\n",
      "State                     0\n",
      "Account length            0\n",
      "Area code                 0\n",
      "International plan        0\n",
      "Voice mail plan           0\n",
      "Number vmail messages     0\n",
      "Total day minutes         0\n",
      "Total day calls           0\n",
      "Total day charge          0\n",
      "Total eve minutes         0\n",
      "Total eve calls           0\n",
      "Total eve charge          0\n",
      "Total night minutes       0\n",
      "Total night calls         0\n",
      "Total night charge        0\n",
      "Total intl minutes        0\n",
      "Total intl calls          0\n",
      "Total intl charge         0\n",
      "Customer service calls    0\n",
      "Churn                     0\n",
      "dtype: int64\n"
     ]
    }
   ],
   "source": [
    "df = pd.read_csv(\"Dataset/churn-bigml-20.csv\")\n",
    "\n",
    "print(f\"Dataset Shape: {df.shape}\")\n",
    "print(f\"Columns: {list(df.columns)}\")\n",
    "\n",
    "print(\"\\nFirst 5 rows:\")\n",
    "print(df.head())\n",
    "\n",
    "print(\"\\nDataset Info:\")\n",
    "print(df.info())\n",
    "\n",
    "print(\"\\nStatistical Summary:\")\n",
    "print(df.describe())\n",
    "\n",
    "print(\"\\nMissing Values:\")\n",
    "print(df.isnull().sum())"
   ]
  },
  {
   "cell_type": "code",
   "execution_count": 22,
   "id": "98b7767f-83fe-4005-9227-bcf7d2a000f9",
   "metadata": {},
   "outputs": [
    {
     "data": {
      "text/plain": [
       "Index(['State', 'Account length', 'Area code', 'International plan',\n",
       "       'Voice mail plan', 'Number vmail messages', 'Total day minutes',\n",
       "       'Total day calls', 'Total day charge', 'Total eve minutes',\n",
       "       'Total eve calls', 'Total eve charge', 'Total night minutes',\n",
       "       'Total night calls', 'Total night charge', 'Total intl minutes',\n",
       "       'Total intl calls', 'Total intl charge', 'Customer service calls',\n",
       "       'Churn'],\n",
       "      dtype='object')"
      ]
     },
     "execution_count": 22,
     "metadata": {},
     "output_type": "execute_result"
    }
   ],
   "source": [
    "df.columns"
   ]
  },
  {
   "cell_type": "code",
   "execution_count": 22,
   "id": "34124806-648b-468d-bd07-028801da3548",
   "metadata": {},
   "outputs": [
    {
     "data": {
      "text/plain": [
       "Index(['State', 'Account length', 'Area code', 'International plan',\n",
       "       'Voice mail plan', 'Number vmail messages', 'Total day minutes',\n",
       "       'Total day calls', 'Total day charge', 'Total eve minutes',\n",
       "       'Total eve calls', 'Total eve charge', 'Total night minutes',\n",
       "       'Total night calls', 'Total night charge', 'Total intl minutes',\n",
       "       'Total intl calls', 'Total intl charge', 'Customer service calls',\n",
       "       'Churn'],\n",
       "      dtype='object')"
      ]
     },
     "execution_count": 22,
     "metadata": {},
     "output_type": "execute_result"
    }
   ],
   "source": [
    "df.columns"
   ]
  },
  {
   "cell_type": "code",
   "execution_count": 23,
   "id": "82e06d15-3ba9-4581-b969-997ff97e7ccd",
   "metadata": {},
   "outputs": [
    {
     "data": {
      "text/plain": [
       "count    667.000000\n",
       "mean     102.841079\n",
       "std       40.819480\n",
       "min        1.000000\n",
       "25%       76.000000\n",
       "50%      102.000000\n",
       "75%      128.000000\n",
       "max      232.000000\n",
       "Name: Account length, dtype: float64"
      ]
     },
     "execution_count": 23,
     "metadata": {},
     "output_type": "execute_result"
    }
   ],
   "source": [
    "df['Account length'].describe()"
   ]
  },
  {
   "cell_type": "code",
   "execution_count": 28,
   "id": "8e1831b6-201e-4a03-860c-13687d7aa158",
   "metadata": {},
   "outputs": [
    {
     "data": {
      "text/plain": [
       "<Axes: xlabel='Account length', ylabel='Count'>"
      ]
     },
     "execution_count": 28,
     "metadata": {},
     "output_type": "execute_result"
    },
    {
     "data": {
      "image/png": "[encoded data removed]",
      "text/plain": [
       "<Figure size 640x480 with 1 Axes>"
      ]
     },
     "metadata": {},
     "output_type": "display_data"
    }
   ],
   "source": [
    "sns.histplot(df['Account length'])"
   ]
  },
  {
   "cell_type": "code",
   "execution_count": 36,
   "id": "cc240888-f9f6-495c-b515-02373cb85179",
   "metadata": {},
   "outputs": [
    {
     "data": {
      "text/plain": [
       "<Axes: xlabel='Account length', ylabel='Count'>"
      ]
     },
     "execution_count": 36,
     "metadata": {},
     "output_type": "execute_result"
    },
    {
     "data": {
      "image/png": "[encoded data removed]",
      "text/plain": [
       "<Figure size 800x300 with 3 Axes>"
      ]
     },
     "metadata": {},
     "output_type": "display_data"
    }
   ],
   "source": [
    "fig, axes = plt.subplots(1,3,figsize=(8,3))\n",
    "sns.histplot(df['Account length'])\n",
    "sns.boxplot(df['Account length'])\n",
    "sns.barplot(df['Account length'])"
   ]
  },
  {
   "cell_type": "code",
   "execution_count": 45,
   "id": "1c7d83b9-c717-49f6-9dca-122f0d84028a",
   "metadata": {},
   "outputs": [],
   "source": [
    "numerical_df = df.select_dtypes(include=['number']) "
   ]
  },
  {
   "cell_type": "markdown",
   "id": "8bc1e2d5-2c02-4064-b84d-be15ad1253fc",
   "metadata": {},
   "source": [
    "# Data types\n",
    "\n",
    "1. catogorical\n",
    "   + Text\n",
    "     - nominal data = name\n",
    "     - oridal data = ordered data e.g: red, blue, green, / low, medium, high\n",
    "   + Date\n",
    "   + Discrite numerical = Fixed Values\n",
    "2. numerical\n",
    "   + continues Numerical = any values is vaild\n"
   ]
  },
  {
   "cell_type": "code",
   "execution_count": null,
   "id": "1cf21224-7610-4673-b41d-d1d31cb63f68",
   "metadata": {},
   "outputs": [],
   "source": []
  }
 ],
 "metadata": {
  "kernelspec": {
   "display_name": "Python 3 (ipykernel)",
   "language": "python",
   "name": "python3"
  },
  "language_info": {
   "codemirror_mode": {
    "name": "ipython",
    "version": 3
   },
   "file_extension": ".py",
   "mimetype": "text/x-python",
   "name": "python",
   "nbconvert_exporter": "python",
   "pygments_lexer": "ipython3",
   "version": "3.13.5"
  }
 },
 "nbformat": 4,
 "nbformat_minor": 5
}
