{
 "cells": [
  {
   "cell_type": "markdown",
   "id": "d507bbb5",
   "metadata": {},
   "source": [
    "# Week 5, Day 20: Introduction to NumPy\n",
    "### The Bedrock of Data Science in Python\n",
    "\n",
    "**Session Date:** July 28th, 2025\n",
    "\n",
    "**Focus:** Today marks our transition from core Python programming to the specialized libraries that power data science. We begin with **NumPy (Numerical Python)**, the most fundamental package for scientific computing in Python."
   ]
  },
  {
   "cell_type": "markdown",
   "id": "53dc0773",
   "metadata": {},
   "source": [
    "## 1. Why NumPy? The Python Data Science Ecosystem\n",
    "\n",
    "Python's power comes from its vast ecosystem of libraries. Think of Python as a university and its data science libraries as specialized colleges. NumPy is the foundational college of engineering and mathematics that most other scientific colleges are built upon.\n",
    "\n",
    "```mermaid\n",
    "graph TD\n",
    "    subgraph \"Python University\"\n",
    "        A[Python Core Language]\n",
    "    end\n",
    "\n",
    "    subgraph \"Specialized Colleges\"\n",
    "        B(NumPy - Numerical Computing)\n",
    "        C(Pandas - Data Manipulation)\n",
    "        D(Matplotlib - Visualization)\n",
    "        E(Seaborn - Advanced Visualization)\n",
    "    end\n",
    "    A --> B & C & D & E\n",
    "```"
   ]
  },
  {
   "cell_type": "markdown",
   "id": "87e90232",
   "metadata": {},
   "source": [
    "### Python Lists vs. NumPy Arrays\n",
    "\n",
    "While Python lists are flexible, NumPy arrays are designed and optimized for numerical tasks, offering significant advantages in performance and functionality."
   ]
  },
  {
   "cell_type": "markdown",
   "id": "33e0f8d6",
   "metadata": {},
   "source": [
    "| Feature | Python Lists | NumPy Arrays |\n",
    "| :--- | :--- | :--- |\n",
    "| **Data Type** | Heterogeneous (mixed types) | **Homogeneous** (single type) |\n",
    "| **Performance** | Slower | **Faster** (uses C in the background) |\n",
    "| **Memory** | More memory-intensive | Memory-efficient |\n",
    "| **Primary Use** | General Storage | **Numerical Calculations** |"
   ]
  },
  {
   "cell_type": "markdown",
   "id": "25bcc093",
   "metadata": {},
   "source": [
    "## 2. Setting Up and Creating NumPy Arrays\n",
    "\n",
    "First, we import the NumPy library, following the standard convention of using the alias `np`."
   ]
  },
  {
   "cell_type": "code",
   "execution_count": 2,
   "id": "44a8fd80",
   "metadata": {},
   "outputs": [],
   "source": [
    "import numpy as np"
   ]
  },
  {
   "cell_type": "markdown",
   "id": "8f72e8f2",
   "metadata": {},
   "source": [
    "We can create arrays from various Python collection types."
   ]
  },
  {
   "cell_type": "code",
   "execution_count": 3,
   "id": "e4528414",
   "metadata": {},
   "outputs": [
    {
     "name": "stdout",
     "output_type": "stream",
     "text": [
      "Array from list: [1 2 3 4 5]\n",
      "Array from tuple: [10 20 30 40 50]\n",
      "Array from range: [0 1 2 3 4]\n"
     ]
    }
   ],
   "source": [
    "# Create an array from a Python list\n",
    "arr_from_list = np.array([1, 2, 3, 4, 5])\n",
    "print(f\"Array from list: {arr_from_list}\")\n",
    "\n",
    "# Create an array from a Python tuple\n",
    "arr_from_tuple = np.array((10, 20, 30, 40, 50))\n",
    "print(f\"Array from tuple: {arr_from_tuple}\")\n",
    "\n",
    "# Create an array using the range() function\n",
    "arr_from_range = np.array(range(5))\n",
    "print(f\"Array from range: {arr_from_range}\")"
   ]
  },
  {
   "cell_type": "markdown",
   "id": "4c022b13",
   "metadata": {},
   "source": [
    "## 3. The `ndarray` and its Attributes\n",
    "\n",
    "The core of NumPy is the **n-dimensional array** (`ndarray`). We can inspect its properties using several key attributes. This is the first step in understanding any new dataset you encounter."
   ]
  },
  {
   "cell_type": "code",
   "execution_count": 4,
   "id": "102faaf2",
   "metadata": {},
   "outputs": [
    {
     "name": "stdout",
     "output_type": "stream",
     "text": [
      "The array is:\n",
      "[[1 2 3]\n",
      " [4 5 6]]\n",
      "\n",
      "Dimensions (ndim): 2\n",
      "Shape (shape): (2, 3)\n",
      "Size (size): 6\n",
      "Data Type (dtype): int64\n"
     ]
    }
   ],
   "source": [
    "arr = np.array([[1, 2, 3], [4, 5, 6]])\n",
    "\n",
    "print(f\"The array is:\\n{arr}\\n\")\n",
    "\n",
    "# Get the number of dimensions (or axes)\n",
    "print(f\"Dimensions (ndim): {arr.ndim}\")\n",
    "\n",
    "# Get the shape (size of each dimension)\n",
    "print(f\"Shape (shape): {arr.shape}\")\n",
    "\n",
    "# Get the total number of elements\n",
    "print(f\"Size (size): {arr.size}\")\n",
    "\n",
    "# Get the data type of the elements\n",
    "print(f\"Data Type (dtype): {arr.dtype}\")"
   ]
  },
  {
   "cell_type": "markdown",
   "id": "1fc6ba3a",
   "metadata": {},
   "source": [
    "## 4. Understanding Dimensions and Shape\n",
    "\n",
    "This is the most critical concept of the day. The shape of an array tells us its structure.\n",
    "\n",
    "### 1D Array (Vector)\n",
    "- A single row of elements.\n",
    "- **Shape:** `(elements,)`"
   ]
  },
  {
   "cell_type": "code",
   "execution_count": 5,
   "id": "bc3a5314",
   "metadata": {},
   "outputs": [
    {
     "name": "stdout",
     "output_type": "stream",
     "text": [
      "[10 20 30 40]\n",
      "Shape: (4,)\n",
      "Dimensions: 1\n"
     ]
    }
   ],
   "source": [
    "arr_1d = np.array([10, 20, 30, 40])\n",
    "print(arr_1d)\n",
    "print(f\"Shape: {arr_1d.shape}\")\n",
    "print(f\"Dimensions: {arr_1d.ndim}\")"
   ]
  },
  {
   "cell_type": "markdown",
   "id": "9bf1e03d",
   "metadata": {},
   "source": [
    "### 2D Array (Matrix)\n",
    "- A table of rows and columns.\n",
    "- **Shape:** `(rows, columns)`"
   ]
  },
  {
   "cell_type": "code",
   "execution_count": null,
   "id": "770a6078",
   "metadata": {},
   "outputs": [],
   "source": [
    "arr_2d = np.array([[1, 2, 3], [4, 5, 6]])\n",
    "print(arr_2d)\n",
    "print(f\"Shape: {arr_2d.shape}\")\n",
    "print(f\"Dimensions: {arr_2d.ndim}\")"
   ]
  },
  {
   "cell_type": "markdown",
   "id": "486442e3",
   "metadata": {},
   "source": [
    "### 3D Array (Tensor)\n",
    "- A collection of 2D arrays (layers).\n",
    "- **Shape:** `(layers, rows, columns)`"
   ]
  },
  {
   "cell_type": "code",
   "execution_count": null,
   "id": "2d505b98",
   "metadata": {},
   "outputs": [],
   "source": [
    "arr_3d = np.array([[[1, 1], [2, 2]], [[3, 3], [4, 4]]])\n",
    "print(arr_3d)\n",
    "print(f\"Shape: {arr_3d.shape}\")\n",
    "print(f\"Dimensions: {arr_3d.ndim}\")"
   ]
  },
  {
   "cell_type": "markdown",
   "id": "94ad99fb",
   "metadata": {},
   "source": [
    "## 5. Dynamic Creation with `.reshape()`\n",
    "\n",
    "Manually typing multi-dimensional arrays is tedious and error-prone. A more efficient \"dynamic\" method is to create a 1D sequence of numbers and then **reshape** it into the desired dimensions.\n",
    "\n",
    "**The Golden Rule of Reshaping:** The `size` of the old array must equal the product of the new shape's dimensions.\n",
    "For example, an array of size `24` can be reshaped to `(2, 3, 4)` because `2 * 3 * 4 = 24`."
   ]
  },
  {
   "cell_type": "code",
   "execution_count": null,
   "id": "a9a4f5dd",
   "metadata": {},
   "outputs": [],
   "source": [
    "# Create a 1D array with numbers from 0 to 23\n",
    "arr_1d_large = np.arange(24) # np.arange is a NumPy-optimized version of range()\n",
    "print(f\"Original 1D array (size={arr_1d_large.size}):\\n{arr_1d_large}\\n\")\n",
    "\n",
    "# Reshape it into a 3D array of shape (2, 3, 4)\n",
    "arr_3d_reshaped = arr_1d_large.reshape(2, 3, 4)\n",
    "print(f\"Reshaped 3D array (shape={arr_3d_reshaped.shape}):\\n{arr_3d_reshaped}\")"
   ]
  },
  {
   "cell_type": "code",
   "execution_count": null,
   "id": "b14cf80c",
   "metadata": {},
   "outputs": [],
   "source": [
    "# Another example: Reshaping an array of size 12\n",
    "arr_12 = np.arange(1, 13) # Numbers from 1 to 12\n",
    "\n",
    "# Reshape to 3 rows, 4 columns\n",
    "reshaped_3x4 = arr_12.reshape(3, 4)\n",
    "print(f\"Shape (3, 4):\\n{reshaped_3x4}\\n\")\n",
    "\n",
    "# Reshape to 4 rows, 3 columns\n",
    "reshaped_4x3 = arr_12.reshape(4, 3)\n",
    "print(f\"Shape (4, 3):\\n{reshaped_4x3}\")"
   ]
  },
  {
   "cell_type": "markdown",
   "id": "8af88bfc",
   "metadata": {},
   "source": [
    "## 💡 Key Insights & Summary\n",
    "\n",
    "1.  **Foundation First:** NumPy is the fundamental package for numerical data. Mastering it is non-negotiable for data science.\n",
    "2.  **Shape is Everything:** The first thing to check for any new data array is its `.shape`. It tells you the structure and dimensionality of your data.\n",
    "3.  **Efficiency Matters:** Using methods like `np.arange(24).reshape(2, 3, 4)` is the professional and efficient way to generate structured data for analysis and modeling."
   ]
  }
 ],
 "metadata": {
  "kernelspec": {
   "display_name": "Python 3 (ipykernel)",
   "language": "python",
   "name": "python3"
  },
  "language_info": {
   "codemirror_mode": {
    "name": "ipython",
    "version": 3
   },
   "file_extension": ".py",
   "mimetype": "text/x-python",
   "name": "python",
   "nbconvert_exporter": "python",
   "pygments_lexer": "ipython3",
   "version": "3.13.5"
  }
 },
 "nbformat": 4,
 "nbformat_minor": 5
}
