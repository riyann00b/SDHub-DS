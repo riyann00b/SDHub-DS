{
 "cells": [
  {
   "cell_type": "markdown",
   "metadata": {},
   "source": [
    "# Week 5, Day 22: Advanced NumPy Operations\n",
    "*   **Date:** 30-07-2025\n",
    "*   **Objective:** To master advanced NumPy operations including array manipulation, conditional logic, and statistical functions.\n",
    "\n",
    "This notebook consolidates concepts from `03 Numpy part-3.ipynb` and `NumpyDS_03.ipynb`, along with handwritten notes, into a single, comprehensive guide."
   ]
  },
  {
   "cell_type": "code",
   "execution_count": null,
   "metadata": {},
   "outputs": [],
   "source": [
    "import numpy as np"
   ]
  },
  {
   "cell_type": "markdown",
   "metadata": {},
   "source": [
    "## 1. Combining Arrays\n",
    "\n",
    "NumPy allows you to combine multiple arrays into one. This is often referred to as \"stacking.\"\n",
    "\n",
    "### a) Horizontal Stacking (`np.hstack`)\n",
    "This function stacks arrays in sequence horizontally (column-wise). The arrays must have the same number of rows.\n",
    "\n",
    "**Visualization:**\n",
    "```\n",
    "arr1 (4x3)            arr2 (4x5)                     h_arr (4x8)\n",
    "[[ 0  1  2]            [[ 0  1  2  3  4]            [[ 0  1  2  0  1  2  3  4]\n",
    " [ 3  4  5]             [ 5  6  7  8  9]             [ 3  4  5  5  6  7  8  9]\n",
    " [ 6  7  8]   +         [10 11 12 13 14]   =         [ 6  7  8 10 11 12 13 14]\n",
    " [ 9 10 11]]            [15 16 17 18 19]]            [ 9 10 11 15 16 17 18 19]]\n",
    "```"
   ]
  },
  {
   "cell_type": "code",
   "execution_count": null,
   "metadata": {},
   "outputs": [],
   "source": [
    "# Create two arrays with the same number of rows (4)\n",
    "arr1_h = np.array(range(12)).reshape(4, 3)\n",
    "arr2_h = np.array(range(20)).reshape(4, 5)\n",
    "\n",
    "print(\"arr1_h (4x3):\\n\", arr1_h)\n",
    "print(\"\\narr2_h (4x5):\\n\", arr2_h)\n",
    "\n",
    "# Stack them horizontally\n",
    "h_arr = np.hstack((arr1_h, arr2_h))\n",
    "print(\"\\nHorizontally Stacked Array (h_arr) (4x8):\\n\", h_arr)"
   ]
  },
  {
   "cell_type": "markdown",
   "metadata": {},
   "source": [
    "### b) Vertical Stacking (`np.vstack`)\n",
    "This function stacks arrays in sequence vertically (row-wise). The arrays must have the same number of columns.\n",
    "\n",
    "**Visualization:**\n",
    "```\n",
    "arr1 (4x3)\n",
    "[[ 0  1  2]\n",
    " [ 3  4  5]\n",
    " [ 6  7  8]\n",
    " [ 9 10 11]]\n",
    "    +\n",
    "arr2 (4x3)\n",
    "[[ 0  1  2]\n",
    " [ 3  4  5]\n",
    " [ 6  7  8]\n",
    " [ 9 10 11]]\n",
    "    =\n",
    "v_arr (8x3)\n",
    "[[ 0  1  2]\n",
    " [ 3  4  5]\n",
    " [ 6  7  8]\n",
    " [ 9 10 11]\n",
    " [ 0  1  2]\n",
    " [ 3  4  5]\n",
    " [ 6  7  8]\n",
    " [ 9 10 11]]\n",
    "```"
   ]
  },
  {
   "cell_type": "code",
   "execution_count": null,
   "metadata": {},
   "outputs": [],
   "source": [
    "# Create two arrays with the same number of columns (3)\n",
    "arr1_v = np.array(range(12)).reshape(4, 3)\n",
    "arr2_v = np.array(range(12)).reshape(4, 3)\n",
    "\n",
    "print(\"arr1_v (4x3):\\n\", arr1_v)\n",
    "print(\"\\narr2_v (4x3):\\n\", arr2_v)\n",
    "\n",
    "# Stack them vertically\n",
    "v_arr = np.vstack((arr1_v, arr2_v))\n",
    "print(\"\\nVertically Stacked Array (v_arr) (8x3):\\n\", v_arr)"
   ]
  },
  {
   "cell_type": "markdown",
   "metadata": {},
   "source": [
    "### c) Depth Stacking (`np.dstack`)\n",
    "This function stacks arrays in sequence depth-wise (along a third axis). The arrays must have the same shape (rows and columns). It creates a new dimension."
   ]
  },
  {
   "cell_type": "code",
   "execution_count": null,
   "metadata": {},
   "outputs": [],
   "source": [
    "# Create two arrays with the same shape (4x3)\n",
    "arr1_d = np.array(range(12), dtype=float).reshape(4, 3)\n",
    "arr2_d = np.ones((4, 3))\n",
    "\n",
    "print(\"arr1_d (4x3):\\n\", arr1_d)\n",
    "print(\"\\narr2_d (4x3):\\n\", arr2_d)\n",
    "\n",
    "# Stack them depth-wise\n",
    "d_arr = np.dstack((arr1_d, arr2_d))\n",
    "print(\"\\nDepth Stacked Array (d_arr) shape:\", d_arr.shape)\n",
    "print(\"d_arr:\\n\", d_arr)"
   ]
  },
  {
   "cell_type": "markdown",
   "metadata": {},
   "source": [
    "## 2. Splitting Arrays\n",
    "Splitting is the reverse of stacking. You can split one array into multiple smaller ones.\n",
    "> **Note:** The array can only be split into an equal number of divisions. For example, an array with 8 columns can be split into 2, 4, or 8 arrays, but not 3.\n",
    "\n",
    "### a) Horizontal Splitting (`np.hsplit`)\n",
    "Splits an array into multiple sub-arrays horizontally (column-wise)."
   ]
  },
  {
   "cell_type": "code",
   "execution_count": null,
   "metadata": {},
   "outputs": [],
   "source": [
    "print(\"Original h_arr (4x8):\\n\", h_arr)\n",
    "\n",
    "# Split into 2 arrays\n",
    "h_split_2 = np.hsplit(h_arr, 2)\n",
    "print(\"\\nSplitting h_arr into 2 arrays:\")\n",
    "print(\"Array 1:\\n\", h_split_2[0])\n",
    "print(\"Array 2:\\n\", h_split_2[1])\n",
    "\n",
    "# Split into 4 arrays\n",
    "h_split_4 = np.hsplit(h_arr, 4)\n",
    "print(\"\\nSplitting h_arr into 4 arrays:\")\n",
    "print(\"Array 1:\\n\", h_split_4[0])"
   ]
  },
  {
   "cell_type": "markdown",
   "metadata": {},
   "source": [
    "### b) Vertical Splitting (`np.vsplit`)\n",
    "Splits an array into multiple sub-arrays vertically (row-wise)."
   ]
  },
  {
   "cell_type": "code",
   "execution_count": null,
   "metadata": {},
   "outputs": [],
   "source": [
    "print(\"Original v_arr (8x3):\\n\", v_arr)\n",
    "\n",
    "# Split into 4 arrays\n",
    "v_split_4 = np.vsplit(v_arr, 4)\n",
    "print(\"\\nSplitting v_arr into 4 arrays:\")\n",
    "print(\"Array 1:\\n\", v_split_4[0])\n",
    "print(\"Array 2:\\n\", v_split_4[1])"
   ]
  },
  {
   "cell_type": "markdown",
   "metadata": {},
   "source": [
    "## 3. Conditional Logic with `np.where`\n",
    "\n",
    "The `np.where` function is a powerful tool for applying conditional logic across an entire array, similar to an if-else statement. \n",
    "\n",
    "**Syntax:** `np.where(condition, output_if_true, output_if_false)`"
   ]
  },
  {
   "cell_type": "code",
   "execution_count": null,
   "metadata": {},
   "outputs": [],
   "source": [
    "oe_arr = np.array(range(20)).reshape(5,4)\n",
    "print(\"Original Array:\\n\", oe_arr)\n",
    "\n",
    "# Replace even numbers with 'even' and odd numbers with 'odd'\n",
    "even_odd_arr = np.where(oe_arr % 2 == 0, 'even', 'odd')\n",
    "print(\"\\nArray with 'even' and 'odd':\\n\", even_odd_arr)"
   ]
  },
  {
   "cell_type": "markdown",
   "metadata": {},
   "source": [
    "### Nested `np.where`\n",
    "\n",
    "For more complex, multi-level conditions (like `if-elif-else`), you can nest `np.where` statements."
   ]
  },
  {
   "cell_type": "code",
   "execution_count": null,
   "metadata": {},
   "outputs": [],
   "source": [
    "# Create an array of random integers\n",
    "random_arr = np.random.randint(1, 101, size=(5,4))\n",
    "print(\"Original Random Array:\\n\", random_arr)\n",
    "\n",
    "# Condition: \n",
    "# - If value < 50, keep the value.\n",
    "# - If value >= 50, check if it's even or odd.\n",
    "nested_where_arr = np.where(\n",
    "    random_arr < 50,                     # Condition 1\n",
    "    random_arr,                          # Output if True\n",
    "    np.where(random_arr % 2 == 0, 'Even', 'Odd') # Nested Condition 2\n",
    ")\n",
    "\n",
    "print(\"\\nArray after nested where:\\n\", nested_where_arr)"
   ]
  },
  {
   "cell_type": "markdown",
   "metadata": {},
   "source": [
    "## 4. Array Manipulation\n",
    "\n",
    "### a) Transpose (`.T` or `.transpose()`)\n",
    "\n",
    "Swaps the rows and columns of an array."
   ]
  },
  {
   "cell_type": "code",
   "execution_count": null,
   "metadata": {},
   "outputs": [],
   "source": [
    "arr_t = np.array(range(12)).reshape(4,3)\n",
    "print(\"Original Array (4x3):\\n\", arr_t)\n",
    "\n",
    "transposed_arr = arr_t.T\n",
    "print(\"\\nTransposed Array (3x4):\\n\", transposed_arr)"
   ]
  },
  {
   "cell_type": "markdown",
   "metadata": {},
   "source": [
    "### b) Flatten and Ravel\n",
    "\n",
    "Both `flatten()` and `ravel()` convert a multi-dimensional array into a 1D array. \n",
    "- `flatten()`: Always returns a new copy of the array.\n",
    "- `ravel()`: Returns a view of the original array if possible, which is more memory-efficient."
   ]
  },
  {
   "cell_type": "code",
   "execution_count": null,
   "metadata": {},
   "outputs": [],
   "source": [
    "arr_10d = np.array([[[[[[[[[[1,2,3,4,5]]]]]]]]]])\n",
    "print(\"Original 10D array shape:\", arr_10d.shape)\n",
    "print(\"Original 10D array:\\n\", arr_10d)\n",
    "\n",
    "flattened_arr = arr_10d.flatten()\n",
    "print(\"\\nFlattened array:\\n\", flattened_arr)\n",
    "\n",
    "raveled_arr = arr_10d.ravel()\n",
    "print(\"\\nRaveled array:\\n\", raveled_arr)"
   ]
  },
  {
   "cell_type": "markdown",
   "metadata": {},
   "source": [
    "## 5. Mathematical and Statistical Operations\n",
    "\n",
    "NumPy provides a rich set of functions for performing mathematical and statistical analysis on arrays.\n",
    "\n",
    "| Category | Functions |\n",
    "|---|---|\n",
    "| Arithmetic | `+`, `-`, `*`, `/`, `np.add()`, `np.subtract()`, `np.multiply()`, `np.divide()` |\n",
    "| Dot Product | `np.dot()` |\n",
    "| Statistics | `np.max()`, `np.min()`, `np.sum()`, `np.mean()`, `np.std()`, `np.var()` |"
   ]
  },
  {
   "cell_type": "code",
   "execution_count": null,
   "metadata": {},
   "outputs": [],
   "source": [
    "stat_arr = np.linspace(1, 10, 16, dtype=int).reshape(4,4)\n",
    "print(\"Statistical Array:\\n\", stat_arr)\n",
    "\n",
    "print(f\"Maximum value: {np.max(stat_arr)}\")\n",
    "print(f\"Minimum value: {np.min(stat_arr)}\")\n",
    "print(f\"Sum of all elements: {np.sum(stat_arr)}\")\n",
    "print(f\"Mean of all elements: {np.mean(stat_arr):.2f}\")\n",
    "print(f\"Standard Deviation: {np.std(stat_arr):.2f}\")\n",
    "print(f\"Variance: {np.var(stat_arr):.2f}\")\n",
    "\n",
    "# Axis-specific operations\n",
    "print(f\"\\nSum of the last row: {np.sum(stat_arr[-1])}\")"
   ]
  },
  {
   "cell_type": "markdown",
   "metadata": {},
   "source": [
    "## 6. Iterating Over Arrays (`np.nditer`)\n",
    "\n",
    "`np.nditer()` provides an efficient, multi-dimensional iterator object to iterate over an array. This is the preferred method for iterating over NumPy arrays, as it's much faster than standard Python `for` loops for this purpose."
   ]
  },
  {
   "cell_type": "code",
   "execution_count": null,
   "metadata": {},
   "outputs": [],
   "source": [
    "iter_arr = np.array(range(1, 13)).reshape(4,3)\n",
    "print(\"Array to iterate over:\\n\", iter_arr)\n",
    "\n",
    "print(\"\\nIterating and checking for Even/Odd:\")\n",
    "for element in np.nditer(iter_arr):\n",
    "    if element % 2 == 0:\n",
    "        print(f\"{element} is Even\")\n",
    "    else:\n",
    "        print(f\"{element} is Odd\")"
   ]
  }
 ],
 "metadata": {
  "kernelspec": {
   "display_name": "Python 3",
   "language": "python",
   "name": "python3"
  },
  "language_info": {
   "codemirror_mode": {
    "name": "ipython",
    "version": 3
   },
   "file_extension": ".py",
   "mimetype": "text/x-python",
   "name": "python",
   "nbconvert_exporter": "python",
   "pygments_lexer": "ipython3",
   "version": "3.11.5"
  }
 },
 "nbformat": 4,
 "nbformat_minor": 4
}
