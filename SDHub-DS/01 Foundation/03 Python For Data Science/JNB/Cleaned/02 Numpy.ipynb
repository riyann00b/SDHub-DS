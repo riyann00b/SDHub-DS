{
 "cells": [
  {
   "cell_type": "markdown",
   "metadata": {},
   "source": [
    "# Week 5, Day 21: Introduction to NumPy\n",
    "\n",
    "**Date:** 29-7-2025\n",
    "**Topic:** NumPy Array Creation and Accessing Elements"
   ]
  },
  {
   "cell_type": "markdown",
   "metadata": {},
   "source": [
    "## 1. Introduction to NumPy\n",
    "\n",
    "NumPy, which stands for **Numerical Python**, is a fundamental package for numerical computing in Python. It provides a powerful N-dimensional array object and tools for working with these arrays.\n",
    "\n",
    "### Why NumPy?\n",
    "\n",
    "*   **Performance:** NumPy arrays are stored in a continuous block of memory, making them more compact and faster than traditional Python lists.\n",
    "*   **Functionality:** It provides a large collection of high-level mathematical functions to operate on these arrays.\n",
    "*   **Data Science:** NumPy is the foundation of the data science ecosystem in Python, with libraries like Pandas, Matplotlib, and Scikit-learn built on top of it.\n",
    "\n",
    "### NumPy Array: The Core Data Structure\n",
    "\n",
    "The core of NumPy is the `ndarray` (N-dimensional array), which is a grid of values, all of the same type.\n",
    "\n",
    "*   **Homogeneous:** All elements in a NumPy array must be of the same data type.\n",
    "*   **Dimensions (Axes):** Arrays can have multiple dimensions.\n",
    "    *   **1D Array:** A single row of elements (like a vector). Represented as `[]`.\n",
    "    *   **2D Array:** A table of elements with rows and columns (like a matrix). Represented as `[[]]`.\n",
    "    *   **3D Array:** A collection of 2D arrays (like a cube). Represented as `[[[]]]`."
   ]
  },
  {
   "cell_type": "markdown",
   "metadata": {},
   "source": [
    "## 2. Creating NumPy Arrays\n",
    "\n",
    "There are several ways to create NumPy arrays, either manually from lists or dynamically using built-in functions."
   ]
  },
  {
   "cell_type": "code",
   "execution_count": 1,
   "metadata": {},
   "outputs": [],
   "source": [
    "import numpy as np"
   ]
  },
  {
   "cell_type": "markdown",
   "metadata": {},
   "source": [
    "### Manual Creation using `np.array()`\n",
    "\n",
    "You can create arrays from Python lists or tuples. The `ndim` attribute tells us the number of dimensions."
   ]
  },
  {
   "cell_type": "code",
   "execution_count": 2,
   "metadata": {},
   "outputs": [
    {
     "name": "stdout",
     "output_type": "stream",
     "text": [
      "1D Array: [1 2 3 4 5]\n",
      "Dimensions: 1\n"
     ]
    }
   ],
   "source": [
    "# 1D Array\n",
    "arr1d = np.array([1, 2, 3, 4, 5])\n",
    "print(f\"1D Array: {arr1d}\")\n",
    "print(f\"Dimensions: {arr1d.ndim}\")"
   ]
  },
  {
   "cell_type": "code",
   "execution_count": 3,
   "metadata": {},
   "outputs": [
    {
     "name": "stdout",
     "output_type": "stream",
     "text": [
      "2D Array:\n",
      "[[1 2 3]\n",
      " [4 5 6]]\n",
      "Dimensions: 2\n"
     ]
    }
   ],
   "source": [
    "# 2D Array\n",
    "arr2d = np.array([[1, 2, 3], [4, 5, 6]])\n",
    "print(f\"2D Array:\\n{arr2d}\")\n",
    "print(f\"Dimensions: {arr2d.ndim}\")"
   ]
  },
  {
   "cell_type": "code",
   "execution_count": 4,
   "metadata": {},
   "outputs": [
    {
     "name": "stdout",
     "output_type": "stream",
     "text": [
      "3D Array:\n",
      "[[[1 2]\n",
      "  [3 4]]\n",
      "\n",
      " [[5 6]\n",
      "  [7 8]]]\n",
      "Dimensions: 3\n"
     ]
    }
   ],
   "source": [
    "# 3D Array\n",
    "arr3d = np.array([[[1, 2], [3, 4]], [[5, 6], [7, 8]]])\n",
    "print(f\"3D Array:\\n{arr3d}\")\n",
    "print(f\"Dimensions: {arr3d.ndim}\")"
   ]
  },
  {
   "cell_type": "markdown",
   "metadata": {},
   "source": [
    "### Dynamic Creation using NumPy Functions\n",
    "\n",
    "NumPy provides several functions to create arrays with initial placeholders or sequences. The `.shape` attribute returns a tuple with the size of each dimension, and `.size` returns the total number of elements.\n",
    "\n",
    "| Function | Description | Example |\n",
    "| :--- | :--- | :--- |\n",
    "| `np.arange()` | Create an array with a range of values (`start`, `stop`, `step`). | `np.arange(0, 10, 2)` |\n",
    "| `np.linspace()` | Create an array with a specific `num` of evenly spaced values between `start` and `stop`. | `np.linspace(0, 10, 5)` |\n",
    "| `np.ones()` | Create an array of a given shape, filled with `1`s. | `np.ones((2, 3))` |\n",
    "| `np.zeros()` | Create an array of a given shape, filled with `0`s. | `np.zeros((2, 3))` |\n",
    "| `np.identity()` | Create a square identity matrix (1s on the diagonal, 0s elsewhere). | `np.identity(3)` |\n",
    "| `np.random.randint()`| Create an array of a given `size` with random integers up to a max value. | `np.random.randint(0, 10, size=(2, 3))` |"
   ]
  },
  {
   "cell_type": "code",
   "execution_count": 5,
   "metadata": {},
   "outputs": [
    {
     "data": {
      "text/plain": [
       "array([10, 20, 30, 40, 50, 60, 70, 80, 90])"
      ]
     },
     "execution_count": 5,
     "metadata": {},
     "output_type": "execute_result"
    }
   ],
   "source": [
    "# np.arange(start, stop, step)\n",
    "arr_arange = np.arange(10, 100, 10)\n",
    "arr_arange"
   ]
  },
  {
   "cell_type": "code",
   "execution_count": 6,
   "metadata": {},
   "outputs": [
    {
     "data": {
      "text/plain": [
       "array([[ 1,  2,  3,  4],\n",
       "       [ 5,  6,  7,  8],\n",
       "       [ 9, 10, 11, 12]])"
      ]
     },
     "execution_count": 6,
     "metadata": {},
     "output_type": "execute_result"
    }
   ],
   "source": [
    "# We can use .reshape() to change the dimensions of an array\n",
    "arr_reshaped = np.arange(1, 13).reshape(3, 4)\n",
    "arr_reshaped"
   ]
  },
  {
   "cell_type": "code",
   "execution_count": 7,
   "metadata": {},
   "outputs": [
    {
     "data": {
      "text/plain": [
       "array([  2.   ,   9.   ,  16.   ,  23.   ,  30.   ,  37.   ,  44.   ,  51.   ,\n",
       "        58.   ,  65.   ,  72.   ,  79.   ,  86.   ,  93.   , 100.   ])"
      ]
     },
     "execution_count": 7,
     "metadata": {},
     "output_type": "execute_result"
    }
   ],
   "source": [
    "# np.linspace(start, stop, num_of_elements)\n",
    "arr_linspace = np.linspace(2, 100, 15)\n",
    "arr_linspace"
   ]
  },
  {
   "cell_type": "code",
   "execution_count": 8,
   "metadata": {},
   "outputs": [
    {
     "data": {
      "text/plain": [
       "array([[1., 1., 1.],\n",
       "       [1., 1., 1.]])"
      ]
     },
     "execution_count": 8,
     "metadata": {},
     "output_type": "execute_result"
    }
   ],
   "source": [
    "# np.ones(shape)\n",
    "arr_ones = np.ones((2, 3))\n",
    "arr_ones"
   ]
  },
  {
   "cell_type": "code",
   "execution_count": 9,
   "metadata": {},
   "outputs": [
    {
     "data": {
      "text/plain": [
       "array([[0., 0., 0., 0.],\n",
       "       [0., 0., 0., 0.],\n",
       "       [0., 0., 0., 0.]])"
      ]
     },
     "execution_count": 9,
     "metadata": {},
     "output_type": "execute_result"
    }
   ],
   "source": [
    "# np.zeros(shape)\n",
    "arr_zeros = np.zeros((3, 4))\n",
    "arr_zeros"
   ]
  },
  {
   "cell_type": "code",
   "execution_count": 10,
   "metadata": {},
   "outputs": [
    {
     "data": {
      "text/plain": [
       "array([[1., 0., 0., 0.],\n",
       "       [0., 1., 0., 0.],\n",
       "       [0., 0., 1., 0.],\n",
       "       [0., 0., 0., 1.]])"
      ]
     },
     "execution_count": 10,
     "metadata": {},
     "output_type": "execute_result"
    }
   ],
   "source": [
    "# np.identity(n) creates an n x n identity matrix\n",
    "arr_identity = np.identity(4)\n",
    "arr_identity"
   ]
  },
  {
   "cell_type": "code",
   "execution_count": 11,
   "metadata": {},
   "outputs": [
    {
     "data": {
      "text/plain": [
       "array([[66, 94, 28],\n",
       "       [62, 69,  7]])"
      ]
     },
     "execution_count": 11,
     "metadata": {},
     "output_type": "execute_result"
    }
   ],
   "source": [
    "# np.random.randint(max_val, size=shape)\n",
    "arr_rand = np.random.randint(100, size=(2, 3))\n",
    "arr_rand"
   ]
  },
  {
   "cell_type": "markdown",
   "metadata": {},
   "source": [
    "## 3. Accessing and Slicing Arrays\n",
    "\n",
    "Accessing parts of arrays is a critical skill. We use indexing to get single elements and slicing to get sub-arrays.\n",
    "\n",
    "| Dimension | Shape | Indexing | Slicing |\n",
    "| :--- | :--- | :--- | :--- |\n",
    "| 1D | `(R,)` | `arr[R]` | `arr[start:stop]` |\n",
    "| 2D | `(R, C)` | `arr[R, C]` | `arr[R_slice, C_slice]` |\n",
    "| 3D | `(L, R, C)`| `arr[L, R, C]`| `arr[L_slice, R_slice, C_slice]`|\n",
    "\n",
    "Where `R` is Row, `C` is Column, and `L` is Layer."
   ]
  },
  {
   "cell_type": "markdown",
   "metadata": {},
   "source": [
    "### Visualizing Array Access\n",
    "\n",
    "```mermaid\n",
    "graph TD\n",
    "    subgraph \"2D Array Slicing\"\n",
    "        direction LR\n",
    "        A[arr all rows all cols] --> B{Full Array}\n",
    "        C[arr row all cols] --> D{Specific Row}\n",
    "        E[arr all rows column] --> F{Specific Column}\n",
    "        G[arr row_start to row_end col_start to col_end] --> H{Sub-array}\n",
    "    end\n",
    "```"
   ]
  },
  {
   "cell_type": "markdown",
   "metadata": {},
   "source": [
    "### Slicing Examples"
   ]
  },
  {
   "cell_type": "code",
   "execution_count": 12,
   "metadata": {},
   "outputs": [
    {
     "data": {
      "text/plain": [
       "array([10, 12, 14, 16, 18, 20, 22, 24, 26, 28, 30, 32, 34, 36, 38, 40, 42,\n",
       "       44, 46, 48])"
      ]
     },
     "execution_count": 12,
     "metadata": {},
     "output_type": "execute_result"
    }
   ],
   "source": [
    "arr1d = np.array(range(10, 50, 2))\n",
    "arr1d"
   ]
  },
  {
   "cell_type": "code",
   "execution_count": 13,
   "metadata": {},
   "outputs": [
    {
     "data": {
      "text/plain": [
       "10"
      ]
     },
     "execution_count": 13,
     "metadata": {},
     "output_type": "execute_result"
    }
   ],
   "source": [
    "# First element\n",
    "arr1d[0]"
   ]
  },
  {
   "cell_type": "code",
   "execution_count": 14,
   "metadata": {},
   "outputs": [
    {
     "data": {
      "text/plain": [
       "array([46, 48])"
      ]
     },
     "execution_count": 14,
     "metadata": {},
     "output_type": "execute_result"
    }
   ],
   "source": [
    "# Last two elements\n",
    "arr1d[-2:]"
   ]
  },
  {
   "cell_type": "code",
   "execution_count": 15,
   "metadata": {},
   "outputs": [
    {
     "data": {
      "text/plain": [
       "array([[ 1,  2,  3],\n",
       "       [ 4,  5,  6],\n",
       "       [ 7,  8,  9],\n",
       "       [10, 11, 12]])"
      ]
     },
     "execution_count": 15,
     "metadata": {},
     "output_type": "execute_result"
    }
   ],
   "source": [
    "arr2d = np.array(range(1, 13)).reshape(4, 3)\n",
    "arr2d"
   ]
  },
  {
   "cell_type": "code",
   "execution_count": 16,
   "metadata": {},
   "outputs": [
    {
     "data": {
      "text/plain": [
       "array([ 1,  4,  7, 10])"
      ]
     },
     "execution_count": 16,
     "metadata": {},
     "output_type": "execute_result"
    }
   ],
   "source": [
    "# Display first column. The colon `:` means we select all rows.\n",
    "arr2d[:, 0]"
   ]
  },
  {
   "cell_type": "code",
   "execution_count": 17,
   "metadata": {},
   "outputs": [
    {
     "data": {
      "text/plain": [
       "array([[ 8,  9],\n",
       "       [11, 12]])"
      ]
     },
     "execution_count": 17,
     "metadata": {},
     "output_type": "execute_result"
    }
   ],
   "source": [
    "# Display the last two rows and the last two columns\n",
    "# Rows from index 2 to the end, columns from index 1 to the end\n",
    "arr2d[2:, 1:]"
   ]
  },
  {
   "cell_type": "markdown",
   "metadata": {},
   "source": [
    "### Flipping Arrays\n",
    "\n",
    "You can easily reverse the order of elements along a specific axis by using the `::-1` slicing syntax."
   ]
  },
  {
   "cell_type": "code",
   "execution_count": 18,
   "metadata": {},
   "outputs": [
    {
     "data": {
      "text/plain": [
       "array([[1., 2., 3.],\n",
       "       [4., 5., 6.],\n",
       "       [7., 8., 9.]])"
      ]
     },
     "execution_count": 18,
     "metadata": {},
     "output_type": "execute_result"
    }
   ],
   "source": [
    "arr_to_flip = np.array(range(1,10), dtype=float).reshape(3,3)\n",
    "arr_to_flip"
   ]
  },
  {
   "cell_type": "code",
   "execution_count": 19,
   "metadata": {},
   "outputs": [
    {
     "data": {
      "text/plain": [
       "array([[7., 8., 9.],\n",
       "       [4., 5., 6.],\n",
       "       [1., 2., 3.]])"
      ]
     },
     "execution_count": 19,
     "metadata": {},
     "output_type": "execute_result"
    }
   ],
   "source": [
    "# Flip rows (upside down)\n",
    "arr_to_flip[::-1]"
   ]
  },
  {
   "cell_type": "code",
   "execution_count": 20,
   "metadata": {},
   "outputs": [
    {
     "data": {
      "text/plain": [
       "array([[3., 2., 1.],\n",
       "       [6., 5., 4.],\n",
       "       [9., 8., 7.]])"
      ]
     },
     "execution_count": 20,
     "metadata": {},
     "output_type": "execute_result"
    }
   ],
   "source": [
    "# Flip columns (left to right)\n",
    "arr_to_flip[:, ::-1]"
   ]
  },
  {
   "cell_type": "code",
   "execution_count": 21,
   "metadata": {},
   "outputs": [
    {
     "data": {
      "text/plain": [
       "array([[9., 8., 7.],\n",
       "       [6., 5., 4.],\n",
       "       [3., 2., 1.]])"
      ]
     },
     "execution_count": 21,
     "metadata": {},
     "output_type": "execute_result"
    }
   ],
   "source": [
    "# Flip both rows and columns\n",
    "arr_to_flip[::-1, ::-1]"
   ]
  },
  {
   "cell_type": "markdown",
   "metadata": {},
   "source": [
    "## 4. Hands-on Exercises"
   ]
  },
  {
   "cell_type": "markdown",
   "metadata": {},
   "source": [
    "### Exercise 1: 2D Array Manipulation\n",
    "\n",
    "**Tasks:**\n",
    "1.  Create a 2D array of shape (3,3).\n",
    "2.  Display the last row.\n",
    "3.  Display the first column.\n",
    "4.  Display the middle element (50.5).\n",
    "5.  Display the first two rows and first two columns."
   ]
  },
  {
   "cell_type": "code",
   "execution_count": 22,
   "metadata": {},
   "outputs": [
    {
     "data": {
      "text/plain": [
       "array([[  1.   ,  13.375,  25.75 ],\n",
       "       [ 38.125,  50.5  ,  62.875],\n",
       "       [ 75.25 ,  87.625, 100.   ]])"
      ]
     },
     "execution_count": 22,
     "metadata": {},
     "output_type": "execute_result"
    }
   ],
   "source": [
    "# 1. Create a 2d array of shape(3,3)\n",
    "arr2d_ex = np.linspace(1, 100, 9).reshape(3, 3)\n",
    "arr2d_ex"
   ]
  },
  {
   "cell_type": "code",
   "execution_count": 23,
   "metadata": {},
   "outputs": [
    {
     "data": {
      "text/plain": [
       "array([ 75.25 ,  87.625, 100.   ])"
      ]
     },
     "execution_count": 23,
     "metadata": {},
     "output_type": "execute_result"
    }
   ],
   "source": [
    "# 2. Display last row\n",
    "arr2d_ex[-1]"
   ]
  },
  {
   "cell_type": "code",
   "execution_count": 24,
   "metadata": {},
   "outputs": [
    {
     "data": {
      "text/plain": [
       "array([ 1.   , 38.125, 75.25 ])"
      ]
     },
     "execution_count": 24,
     "metadata": {},
     "output_type": "execute_result"
    }
   ],
   "source": [
    "# 3. Display first col\n",
    "arr2d_ex[:, 0]"
   ]
  },
  {
   "cell_type": "code",
   "execution_count": 25,
   "metadata": {},
   "outputs": [
    {
     "data": {
      "text/plain": [
       "50.5"
      ]
     },
     "execution_count": 25,
     "metadata": {},
     "output_type": "execute_result"
    }
   ],
   "source": [
    "# 4. Display the middle ele\n",
    "arr2d_ex[1, 1]"
   ]
  },
  {
   "cell_type": "code",
   "execution_count": 26,
   "metadata": {},
   "outputs": [
    {
     "data": {
      "text/plain": [
       "array([[ 1.   , 13.375],\n",
       "       [38.125, 50.5  ]])"
      ]
     },
     "execution_count": 26,
     "metadata": {},
     "output_type": "execute_result"
    }
   ],
   "source": [
    "# 5. Display first two rows and first two col\n",
    "arr2d_ex[0:2, 0:2]"
   ]
  },
  {
   "cell_type": "markdown",
   "metadata": {},
   "source": [
    "### Exercise 2: 3D Array Manipulation\n",
    "\n",
    "**Tasks:**\n",
    "1.  Create a 3d array of shape (3,4,5).\n",
    "2.  Display the second layer.\n",
    "3.  Display the last row of the first layer.\n",
    "4.  Display the last two rows of the first layer.\n",
    "5.  Display a part of your choice from the second layer.\n",
    "6.  Display the first two layers only."
   ]
  },
  {
   "cell_type": "code",
   "execution_count": 27,
   "metadata": {},
   "outputs": [
    {
     "data": {
      "text/plain": [
       "array([[[ 1,  2,  3,  4,  5],\n",
       "        [ 6,  7,  8,  9, 10],\n",
       "        [11, 12, 13, 14, 15],\n",
       "        [16, 17, 18, 19, 20]],\n",
       "\n",
       "       [[21, 22, 23, 24, 25],\n",
       "        [26, 27, 28, 29, 30],\n",
       "        [31, 32, 33, 34, 35],\n",
       "        [36, 37, 38, 39, 40]],\n",
       "\n",
       "       [[41, 42, 43, 44, 45],\n",
       "        [46, 47, 48, 49, 50],\n",
       "        [51, 52, 53, 54, 55],\n",
       "        [56, 57, 58, 59, 60]]])"
      ]
     },
     "execution_count": 27,
     "metadata": {},
     "output_type": "execute_result"
    }
   ],
   "source": [
    "# 1. Create a 3d array of shape (3,4,5)\n",
    "arr3d_ex = np.array(range(1, 61)).reshape(3, 4, 5)\n",
    "arr3d_ex"
   ]
  },
  {
   "cell_type": "code",
   "execution_count": 28,
   "metadata": {},
   "outputs": [
    {
     "data": {
      "text/plain": [
       "array([[21, 22, 23, 24, 25],\n",
       "       [26, 27, 28, 29, 30],\n",
       "       [31, 32, 33, 34, 35],\n",
       "       [36, 37, 38, 39, 40]])"
      ]
     },
     "execution_count": 28,
     "metadata": {},
     "output_type": "execute_result"
    }
   ],
   "source": [
    "# 2. Display the second layer (index 1)\n",
    "arr3d_ex[1]"
   ]
  },
  {
   "cell_type": "code",
   "execution_count": 29,
   "metadata": {},
   "outputs": [
    {
     "data": {
      "text/plain": [
       "array([16, 17, 18, 19, 20])"
      ]
     },
     "execution_count": 29,
     "metadata": {},
     "output_type": "execute_result"
    }
   ],
   "source": [
    "# 3. Display the last row of the first layer\n",
    "# Layer 0, last row (-1)\n",
    "arr3d_ex[0, -1]"
   ]
  },
  {
   "cell_type": "code",
   "execution_count": 30,
   "metadata": {},
   "outputs": [
    {
     "data": {
      "text/plain": [
       "array([[11, 12, 13, 14, 15],\n",
       "       [16, 17, 18, 19, 20]])"
      ]
     },
     "execution_count": 30,
     "metadata": {},
     "output_type": "execute_result"
    }
   ],
   "source": [
    "# 4. Display the last two rows of first layer\n",
    "# Layer 0, last two rows (-2:)\n",
    "arr3d_ex[0, -2:]"
   ]
  },
  {
   "cell_type": "code",
   "execution_count": 31,
   "metadata": {},
   "outputs": [
    {
     "data": {
      "text/plain": [
       "array([[28, 29, 30],\n",
       "       [33, 34, 35],\n",
       "       [38, 39, 40]])"
      ]
     },
     "execution_count": 31,
     "metadata": {},
     "output_type": "execute_result"
    }
   ],
   "source": [
    "# 5. Display a part of your choice from the second layer\n",
    "# Layer 1, rows from index 1 onwards, columns from index 2 onwards\n",
    "arr3d_ex[1, 1:, 2:]"
   ]
  },
  {
   "cell_type": "code",
   "execution_count": 32,
   "metadata": {},
   "outputs": [
    {
     "data": {
      "text/plain": [
       "array([[[ 1,  2,  3,  4,  5],\n",
       "        [ 6,  7,  8,  9, 10],\n",
       "        [11, 12, 13, 14, 15],\n",
       "        [16, 17, 18, 19, 20]],\n",
       "\n",
       "       [[21, 22, 23, 24, 25],\n",
       "        [26, 27, 28, 29, 30],\n",
       "        [31, 32, 33, 34, 35],\n",
       "        [36, 37, 38, 39, 40]]])"
      ]
     },
     "execution_count": 32,
     "metadata": {},
     "output_type": "execute_result"
    }
   ],
   "source": [
    "# 6. Display first two layers only\n",
    "arr3d_ex[:2]"
   ]
  }
 ],
 "metadata": {
  "kernelspec": {
   "display_name": "Python 3 (ipykernel)",
   "language": "python",
   "name": "python3"
  },
  "language_info": {
   "codemirror_mode": {
    "name": "ipython",
    "version": 3
   },
   "file_extension": ".py",
   "mimetype": "text/x-python",
   "name": "python",
   "nbconvert_exporter": "python",
   "pygments_lexer": "ipython3",
   "version": "3.13.5"
  }
 },
 "nbformat": 4,
 "nbformat_minor": 4
}
