{
 "cells": [
  {
   "cell_type": "code",
   "execution_count": 1,
   "id": "fd3e48df-bd79-40f8-8008-34eedb139649",
   "metadata": {},
   "outputs": [],
   "source": [
    "import pandas as pd\n",
    "import numpy as np\n",
    "import matplotlib.pyplot as plt\n",
    "import seaborn as sns"
   ]
  },
  {
   "cell_type": "markdown",
   "id": "cfde3a79-2f26-46b0-9972-b573cef957eb",
   "metadata": {},
   "source": [
    "# Section A: Data Cleaning & Preprocessing"
   ]
  },
  {
   "cell_type": "markdown",
   "id": "10fa50ad-d3ca-4814-b7e1-193133adaa4b",
   "metadata": {},
   "source": [
    "# 5."
   ]
  },
  {
   "cell_type": "code",
   "execution_count": 2,
   "id": "2cdbb991-cebc-4a27-ac75-0d9a1a961f02",
   "metadata": {},
   "outputs": [],
   "source": [
    "df = pd.read_csv(\"Dataset/ecommerce_dataset.csv\")"
   ]
  },
  {
   "cell_type": "code",
   "execution_count": 3,
   "id": "4b5a40b3-524c-4916-8066-0cc951f871ee",
   "metadata": {},
   "outputs": [
    {
     "data": {
      "text/plain": [
       "(5100, 12)"
      ]
     },
     "execution_count": 3,
     "metadata": {},
     "output_type": "execute_result"
    }
   ],
   "source": [
    "df.shape"
   ]
  },
  {
   "cell_type": "code",
   "execution_count": 4,
   "id": "e371f0cd-8d19-4528-b626-3d35e5c111b5",
   "metadata": {},
   "outputs": [
    {
     "data": {
      "text/html": [
       "<div>\n",
       "<style scoped>\n",
       "    .dataframe tbody tr th:only-of-type {\n",
       "        vertical-align: middle;\n",
       "    }\n",
       "\n",
       "    .dataframe tbody tr th {\n",
       "        vertical-align: top;\n",
       "    }\n",
       "\n",
       "    .dataframe thead th {\n",
       "        text-align: right;\n",
       "    }\n",
       "</style>\n",
       "<table border=\"1\" class=\"dataframe\">\n",
       "  <thead>\n",
       "    <tr style=\"text-align: right;\">\n",
       "      <th></th>\n",
       "      <th>TransactionID</th>\n",
       "      <th>CustomerName</th>\n",
       "      <th>Email</th>\n",
       "      <th>ProductCategory</th>\n",
       "      <th>Quantity</th>\n",
       "      <th>UnitPrice</th>\n",
       "      <th>Discount(%)</th>\n",
       "      <th>PaymentMethod</th>\n",
       "      <th>PurchaseDate</th>\n",
       "      <th>City</th>\n",
       "      <th>Country</th>\n",
       "      <th>TotalAmount</th>\n",
       "    </tr>\n",
       "  </thead>\n",
       "  <tbody>\n",
       "    <tr>\n",
       "      <th>0</th>\n",
       "      <td>a3c79106-8772-4149-99fd-2cff74b88ca2</td>\n",
       "      <td>Zachary Prince</td>\n",
       "      <td>jrobinson@gmail.com</td>\n",
       "      <td>Sports</td>\n",
       "      <td>3</td>\n",
       "      <td>304.87</td>\n",
       "      <td>5.0</td>\n",
       "      <td>Debit Card</td>\n",
       "      <td>2024-11-29</td>\n",
       "      <td>South Melissa</td>\n",
       "      <td>USA</td>\n",
       "      <td>868.8795</td>\n",
       "    </tr>\n",
       "    <tr>\n",
       "      <th>1</th>\n",
       "      <td>3f3c94ea-7e4d-4bef-bbbc-c25653cb0486</td>\n",
       "      <td>Jill Johnson</td>\n",
       "      <td>bhumphrey@nolan.info</td>\n",
       "      <td>Sports</td>\n",
       "      <td>1</td>\n",
       "      <td>376.89</td>\n",
       "      <td>5.0</td>\n",
       "      <td>Cash on Delivery</td>\n",
       "      <td>2025-04-22</td>\n",
       "      <td>West Laura</td>\n",
       "      <td>Australia</td>\n",
       "      <td>358.0455</td>\n",
       "    </tr>\n",
       "    <tr>\n",
       "      <th>2</th>\n",
       "      <td>958e2aa6-dbe9-4402-88ac-c134d8acda3f</td>\n",
       "      <td>Jessica Hutchinson</td>\n",
       "      <td>kristincraig@gmail.com</td>\n",
       "      <td>Electronics</td>\n",
       "      <td>5</td>\n",
       "      <td>218.23</td>\n",
       "      <td>5.0</td>\n",
       "      <td>Credit Card</td>\n",
       "      <td>2025-05-14</td>\n",
       "      <td>Bradleyfurt</td>\n",
       "      <td>India</td>\n",
       "      <td>1036.5925</td>\n",
       "    </tr>\n",
       "    <tr>\n",
       "      <th>3</th>\n",
       "      <td>a21237c8-56c4-4500-9037-e13e694da4de</td>\n",
       "      <td>Lisa Green</td>\n",
       "      <td>herringrebecca@yahoo.com</td>\n",
       "      <td>Sports</td>\n",
       "      <td>4</td>\n",
       "      <td>421.51</td>\n",
       "      <td>NaN</td>\n",
       "      <td>Debit Card</td>\n",
       "      <td>2025-01-22</td>\n",
       "      <td>Port Deborah</td>\n",
       "      <td>India</td>\n",
       "      <td>1686.0400</td>\n",
       "    </tr>\n",
       "    <tr>\n",
       "      <th>4</th>\n",
       "      <td>e41c3ea9-2e4b-4f1c-a636-1871d9f424ad</td>\n",
       "      <td>Patrick Jenkins</td>\n",
       "      <td>ghicks@patrick.com</td>\n",
       "      <td>Home &amp; Kitchen</td>\n",
       "      <td>2</td>\n",
       "      <td>74.26</td>\n",
       "      <td>0.0</td>\n",
       "      <td>UPI</td>\n",
       "      <td>2025-06-16</td>\n",
       "      <td>Jennaport</td>\n",
       "      <td>UK</td>\n",
       "      <td>148.5200</td>\n",
       "    </tr>\n",
       "  </tbody>\n",
       "</table>\n",
       "</div>"
      ],
      "text/plain": [
       "                          TransactionID        CustomerName  \\\n",
       "0  a3c79106-8772-4149-99fd-2cff74b88ca2      Zachary Prince   \n",
       "1  3f3c94ea-7e4d-4bef-bbbc-c25653cb0486        Jill Johnson   \n",
       "2  958e2aa6-dbe9-4402-88ac-c134d8acda3f  Jessica Hutchinson   \n",
       "3  a21237c8-56c4-4500-9037-e13e694da4de          Lisa Green   \n",
       "4  e41c3ea9-2e4b-4f1c-a636-1871d9f424ad     Patrick Jenkins   \n",
       "\n",
       "                      Email ProductCategory  Quantity  UnitPrice  Discount(%)  \\\n",
       "0       jrobinson@gmail.com          Sports         3     304.87          5.0   \n",
       "1      bhumphrey@nolan.info          Sports         1     376.89          5.0   \n",
       "2    kristincraig@gmail.com     Electronics         5     218.23          5.0   \n",
       "3  herringrebecca@yahoo.com          Sports         4     421.51          NaN   \n",
       "4        ghicks@patrick.com  Home & Kitchen         2      74.26          0.0   \n",
       "\n",
       "      PaymentMethod PurchaseDate           City    Country  TotalAmount  \n",
       "0        Debit Card   2024-11-29  South Melissa        USA     868.8795  \n",
       "1  Cash on Delivery   2025-04-22     West Laura  Australia     358.0455  \n",
       "2       Credit Card   2025-05-14    Bradleyfurt      India    1036.5925  \n",
       "3        Debit Card   2025-01-22   Port Deborah     India     1686.0400  \n",
       "4               UPI   2025-06-16      Jennaport         UK     148.5200  "
      ]
     },
     "execution_count": 4,
     "metadata": {},
     "output_type": "execute_result"
    }
   ],
   "source": [
    "df.head()"
   ]
  },
  {
   "cell_type": "markdown",
   "id": "cb931303-d4e8-4940-9508-0d040662d379",
   "metadata": {},
   "source": [
    "# 6."
   ]
  },
  {
   "cell_type": "code",
   "execution_count": 5,
   "id": "00c076fb-b707-4bd7-8181-89d93140e588",
   "metadata": {},
   "outputs": [
    {
     "data": {
      "text/plain": [
       "TransactionID         0\n",
       "CustomerName          0\n",
       "Email               271\n",
       "ProductCategory       0\n",
       "Quantity              0\n",
       "UnitPrice             0\n",
       "Discount(%)        1066\n",
       "PaymentMethod         0\n",
       "PurchaseDate          0\n",
       "City                  0\n",
       "Country               0\n",
       "TotalAmount          30\n",
       "dtype: int64"
      ]
     },
     "execution_count": 5,
     "metadata": {},
     "output_type": "execute_result"
    }
   ],
   "source": [
    "df.isnull().sum()"
   ]
  },
  {
   "cell_type": "code",
   "execution_count": 6,
   "id": "a5ba9dbe-a381-4ff1-9a31-4c4e19393f1e",
   "metadata": {},
   "outputs": [
    {
     "data": {
      "text/plain": [
       "TransactionID       0.000000\n",
       "CustomerName        0.000000\n",
       "Email               5.313725\n",
       "ProductCategory     0.000000\n",
       "Quantity            0.000000\n",
       "UnitPrice           0.000000\n",
       "Discount(%)        20.901961\n",
       "PaymentMethod       0.000000\n",
       "PurchaseDate        0.000000\n",
       "City                0.000000\n",
       "Country             0.000000\n",
       "TotalAmount         0.588235\n",
       "dtype: float64"
      ]
     },
     "execution_count": 6,
     "metadata": {},
     "output_type": "execute_result"
    }
   ],
   "source": [
    "(df.isnull().sum()/len(df))*100"
   ]
  },
  {
   "cell_type": "code",
   "execution_count": 7,
   "id": "7ee3707b-df9f-4b44-ac43-588ebebfd141",
   "metadata": {},
   "outputs": [],
   "source": [
    "dfc = df.copy()"
   ]
  },
  {
   "cell_type": "code",
   "execution_count": 8,
   "id": "b0baab82-e1dd-4bfd-8dea-e5fcba19c821",
   "metadata": {},
   "outputs": [
    {
     "data": {
      "text/plain": [
       "['TransactionID',\n",
       " 'CustomerName',\n",
       " 'Email',\n",
       " 'ProductCategory',\n",
       " 'Quantity',\n",
       " 'UnitPrice',\n",
       " 'Discount(%)',\n",
       " 'PaymentMethod',\n",
       " 'PurchaseDate',\n",
       " 'City',\n",
       " 'Country',\n",
       " 'TotalAmount']"
      ]
     },
     "execution_count": 8,
     "metadata": {},
     "output_type": "execute_result"
    }
   ],
   "source": [
    "dfc.columns.tolist()"
   ]
  },
  {
   "cell_type": "code",
   "execution_count": 9,
   "id": "2c86a85b-fadf-4115-a127-75fe1909b9df",
   "metadata": {},
   "outputs": [
    {
     "data": {
      "text/plain": [
       "np.int64(271)"
      ]
     },
     "execution_count": 9,
     "metadata": {},
     "output_type": "execute_result"
    }
   ],
   "source": [
    "dfc['Email'].isnull().sum()"
   ]
  },
  {
   "cell_type": "code",
   "execution_count": 10,
   "id": "141ec598-b108-4276-8440-c44aba80f840",
   "metadata": {},
   "outputs": [
    {
     "name": "stderr",
     "output_type": "stream",
     "text": [
      "/tmp/ipykernel_17331/3505242732.py:1: FutureWarning: A value is trying to be set on a copy of a DataFrame or Series through chained assignment using an inplace method.\n",
      "The behavior will change in pandas 3.0. This inplace method will never work because the intermediate object on which we are setting values always behaves as a copy.\n",
      "\n",
      "For example, when doing 'df[col].method(value, inplace=True)', try using 'df.method({col: value}, inplace=True)' or df[col] = df[col].method(value) instead, to perform the operation inplace on the original object.\n",
      "\n",
      "\n",
      "  dfc['Email'].fillna('unknown@example.com', inplace=True)\n"
     ]
    }
   ],
   "source": [
    "dfc['Email'].fillna('unknown@example.com', inplace=True)"
   ]
  },
  {
   "cell_type": "code",
   "execution_count": 11,
   "id": "2d713a82-b85f-4a59-9861-b9ef434bac8c",
   "metadata": {},
   "outputs": [],
   "source": [
    "dfc.fillna({'Email': 'unknown@example.com'}, inplace=True)"
   ]
  },
  {
   "cell_type": "code",
   "execution_count": 12,
   "id": "8cb497cb-cdce-4dd7-ae2b-8864a15e8387",
   "metadata": {},
   "outputs": [
    {
     "data": {
      "text/plain": [
       "np.int64(0)"
      ]
     },
     "execution_count": 12,
     "metadata": {},
     "output_type": "execute_result"
    }
   ],
   "source": [
    "dfc['Email'].isnull().sum()"
   ]
  },
  {
   "cell_type": "markdown",
   "id": "fb7319d2-f886-4aab-8b01-8a9e2ef17e77",
   "metadata": {},
   "source": [
    "# 7."
   ]
  },
  {
   "cell_type": "code",
   "execution_count": 13,
   "id": "d875afea-2378-48f6-b63b-60344e67b495",
   "metadata": {},
   "outputs": [],
   "source": [
    "dfc = dfc.drop_duplicates()"
   ]
  },
  {
   "cell_type": "code",
   "execution_count": 14,
   "id": "d24da859-4296-42df-8328-197e7c7635fd",
   "metadata": {},
   "outputs": [
    {
     "data": {
      "text/plain": [
       "np.int64(0)"
      ]
     },
     "execution_count": 14,
     "metadata": {},
     "output_type": "execute_result"
    }
   ],
   "source": [
    "dfc.duplicated().sum()"
   ]
  },
  {
   "cell_type": "markdown",
   "id": "4ca1f614-ffc4-48d0-9fb9-1978d5ee6bf9",
   "metadata": {},
   "source": [
    "# 8."
   ]
  },
  {
   "cell_type": "code",
   "execution_count": 15,
   "id": "212a579f-6b74-4d46-a0f8-5719d103e67a",
   "metadata": {},
   "outputs": [
    {
     "data": {
      "text/plain": [
       "array(['USA', 'Australia', 'India', 'India ', 'UK', 'us', 'UAE'],\n",
       "      dtype=object)"
      ]
     },
     "execution_count": 15,
     "metadata": {},
     "output_type": "execute_result"
    }
   ],
   "source": [
    "dfc['Country'].unique()"
   ]
  },
  {
   "cell_type": "code",
   "execution_count": 16,
   "id": "ce80326a-da3e-4e48-a53d-554b0364fb79",
   "metadata": {},
   "outputs": [],
   "source": [
    "us = dfc['Country'] == 'us'\n",
    "dfc.loc[us, 'Country'] = 'USA'\n"
   ]
  },
  {
   "cell_type": "code",
   "execution_count": 17,
   "id": "0a7269f9-0e70-4cf1-ae70-2e7d146a44bb",
   "metadata": {},
   "outputs": [],
   "source": [
    "ind = dfc['Country'] == 'India '\n",
    "dfc.loc[ind, 'Country'] = 'India'\n"
   ]
  },
  {
   "cell_type": "code",
   "execution_count": 18,
   "id": "060fffd4-3963-4a17-abeb-0e8b423b88ef",
   "metadata": {},
   "outputs": [
    {
     "data": {
      "text/plain": [
       "array(['USA', 'Australia', 'India', 'UK', 'UAE'], dtype=object)"
      ]
     },
     "execution_count": 18,
     "metadata": {},
     "output_type": "execute_result"
    }
   ],
   "source": [
    "dfc['Country'].unique()"
   ]
  },
  {
   "cell_type": "code",
   "execution_count": 19,
   "id": "4763c8b1-f9cb-458d-9d61-ddb4a312da9d",
   "metadata": {},
   "outputs": [
    {
     "data": {
      "text/plain": [
       "np.int64(0)"
      ]
     },
     "execution_count": 19,
     "metadata": {},
     "output_type": "execute_result"
    }
   ],
   "source": [
    "dfc['Country'].isnull().sum()"
   ]
  },
  {
   "cell_type": "markdown",
   "id": "1d658fae-2d94-4da0-a947-25cc267da08a",
   "metadata": {},
   "source": [
    "# 9. "
   ]
  },
  {
   "cell_type": "code",
   "execution_count": 20,
   "id": "150d25d6-ccb7-40ed-9188-80702181a152",
   "metadata": {},
   "outputs": [
    {
     "data": {
      "image/png": "[encoded data removed]",
      "text/plain": [
       "<Figure size 640x480 with 1 Axes>"
      ]
     },
     "metadata": {},
     "output_type": "display_data"
    }
   ],
   "source": [
    "dfc.hist(column='UnitPrice', bins=50)\n",
    "plt.title('Histogram of UnitPrice')\n",
    "plt.xlabel('UnitPrice')\n",
    "plt.ylabel('Frequency')\n",
    "plt.show()"
   ]
  },
  {
   "cell_type": "markdown",
   "id": "e31646a6-67c0-4c02-903e-a87ebc5d4742",
   "metadata": {},
   "source": [
    "### comment\n",
    "\n",
    "**the unit price has the range between 0 to 2000**\n"
   ]
  },
  {
   "cell_type": "markdown",
   "id": "7b083db0-e9a4-4357-aa3a-28de9207110b",
   "metadata": {},
   "source": [
    "# 10."
   ]
  },
  {
   "cell_type": "code",
   "execution_count": 21,
   "id": "94f3f2bd-5734-496c-a817-4425edb09b09",
   "metadata": {},
   "outputs": [
    {
     "data": {
      "text/plain": [
       "np.int64(30)"
      ]
     },
     "execution_count": 21,
     "metadata": {},
     "output_type": "execute_result"
    }
   ],
   "source": [
    "dfc['TotalAmount'].isnull().sum()"
   ]
  },
  {
   "cell_type": "code",
   "execution_count": 22,
   "id": "f11f6073-cbf0-4988-af0e-ecf6bb7b4e9b",
   "metadata": {},
   "outputs": [
    {
     "data": {
      "text/plain": [
       "count    4971.000000\n",
       "mean      715.853938\n",
       "std       553.737712\n",
       "min         6.710000\n",
       "25%       270.599500\n",
       "50%       571.280000\n",
       "75%      1042.911000\n",
       "max      2485.950000\n",
       "Name: TotalAmount, dtype: float64"
      ]
     },
     "execution_count": 22,
     "metadata": {},
     "output_type": "execute_result"
    }
   ],
   "source": [
    "dfc['TotalAmount'].describe()"
   ]
  },
  {
   "cell_type": "code",
   "execution_count": 25,
   "id": "58c6237f-e3e3-4ba1-b713-3d4d0b9aaa7f",
   "metadata": {},
   "outputs": [],
   "source": [
    "mean_amount = dfc['TotalAmount'].mean()\n",
    "dfc['TotalAmount'] = df['TotalAmount'].fillna(np.nan)\n",
    "dfc['TotalAmount'] = df['TotalAmount'].fillna(mean_amount)"
   ]
  },
  {
   "cell_type": "code",
   "execution_count": 26,
   "id": "19a0ad8c-5fa5-4d0f-a402-01e5ca627ff5",
   "metadata": {},
   "outputs": [
    {
     "data": {
      "text/plain": [
       "np.int64(0)"
      ]
     },
     "execution_count": 26,
     "metadata": {},
     "output_type": "execute_result"
    }
   ],
   "source": [
    "dfc['TotalAmount'].isnull().sum()"
   ]
  },
  {
   "cell_type": "markdown",
   "id": "6553f8bf-66b7-4770-8081-0b696906033e",
   "metadata": {},
   "source": [
    "# 11."
   ]
  },
  {
   "cell_type": "code",
   "execution_count": 30,
   "id": "ac475d94-6515-435d-a3fb-eb198534c217",
   "metadata": {},
   "outputs": [
    {
     "data": {
      "text/plain": [
       "dtype('O')"
      ]
     },
     "execution_count": 30,
     "metadata": {},
     "output_type": "execute_result"
    }
   ],
   "source": [
    "dfc['PurchaseDate'].dtype"
   ]
  },
  {
   "cell_type": "code",
   "execution_count": 34,
   "id": "8e097347-de3e-41ec-a4c7-90e37884aa98",
   "metadata": {},
   "outputs": [],
   "source": [
    "dfc['PurchaseDate'] = pd.to_datetime(dfc['PurchaseDate'])"
   ]
  },
  {
   "cell_type": "code",
   "execution_count": 35,
   "id": "03fa44a3-f909-41da-909c-47e8157582dd",
   "metadata": {},
   "outputs": [
    {
     "data": {
      "text/plain": [
       "dtype('<M8[ns]')"
      ]
     },
     "execution_count": 35,
     "metadata": {},
     "output_type": "execute_result"
    }
   ],
   "source": [
    "dfc['PurchaseDate'].dtype"
   ]
  },
  {
   "cell_type": "markdown",
   "id": "d73620e5-9bed-43d8-bf71-0c8a3c6cb03f",
   "metadata": {},
   "source": [
    "# Section B – Exploratory Data Analysis"
   ]
  },
  {
   "cell_type": "markdown",
   "id": "061fa900-5ce3-4c32-baf1-12991df4a96c",
   "metadata": {},
   "source": [
    "# 12."
   ]
  },
  {
   "cell_type": "code",
   "execution_count": 36,
   "id": "f43188c3-5c5b-430b-91f3-904f850824ba",
   "metadata": {},
   "outputs": [
    {
     "data": {
      "text/plain": [
       "count    5001.000000\n",
       "mean      715.853938\n",
       "std       552.073999\n",
       "min         6.710000\n",
       "25%       273.632000\n",
       "50%       573.960000\n",
       "75%      1037.916000\n",
       "max      2485.950000\n",
       "Name: TotalAmount, dtype: float64"
      ]
     },
     "execution_count": 36,
     "metadata": {},
     "output_type": "execute_result"
    }
   ],
   "source": [
    "dfc['Quantity'].describe()"
   ]
  },
  {
   "cell_type": "code",
   "execution_count": 37,
   "id": "3e87aa2e-3e4c-483b-b5d3-501210ceae77",
   "metadata": {},
   "outputs": [
    {
     "data": {
      "text/plain": [
       "count    5001.000000\n",
       "mean      263.334387\n",
       "std       306.059625\n",
       "min         5.020000\n",
       "25%       135.710000\n",
       "50%       254.060000\n",
       "75%       374.460000\n",
       "max      9876.200000\n",
       "Name: UnitPrice, dtype: float64"
      ]
     },
     "execution_count": 37,
     "metadata": {},
     "output_type": "execute_result"
    }
   ],
   "source": [
    "dfc['UnitPrice'].describe()"
   ]
  },
  {
   "cell_type": "code",
   "execution_count": 38,
   "id": "81f7e230-f291-4280-acee-1c5cc814d845",
   "metadata": {},
   "outputs": [
    {
     "data": {
      "text/plain": [
       "count    5001.000000\n",
       "mean      715.853938\n",
       "std       552.073999\n",
       "min         6.710000\n",
       "25%       273.632000\n",
       "50%       573.960000\n",
       "75%      1037.916000\n",
       "max      2485.950000\n",
       "Name: TotalAmount, dtype: float64"
      ]
     },
     "execution_count": 38,
     "metadata": {},
     "output_type": "execute_result"
    }
   ],
   "source": [
    "dfc['TotalAmount'].describe()"
   ]
  },
  {
   "cell_type": "markdown",
   "id": "118bbe71-1208-46a1-9938-100645630e43",
   "metadata": {},
   "source": [
    "# 13."
   ]
  },
  {
   "cell_type": "code",
   "execution_count": 46,
   "id": "fca84ef8-4f62-49cc-9379-ebf00995d6ec",
   "metadata": {},
   "outputs": [
    {
     "data": {
      "text/html": [
       "<div>\n",
       "<style scoped>\n",
       "    .dataframe tbody tr th:only-of-type {\n",
       "        vertical-align: middle;\n",
       "    }\n",
       "\n",
       "    .dataframe tbody tr th {\n",
       "        vertical-align: top;\n",
       "    }\n",
       "\n",
       "    .dataframe thead th {\n",
       "        text-align: right;\n",
       "    }\n",
       "</style>\n",
       "<table border=\"1\" class=\"dataframe\">\n",
       "  <thead>\n",
       "    <tr style=\"text-align: right;\">\n",
       "      <th></th>\n",
       "      <th>TransactionID</th>\n",
       "      <th>CustomerName</th>\n",
       "      <th>Email</th>\n",
       "      <th>ProductCategory</th>\n",
       "      <th>Quantity</th>\n",
       "      <th>UnitPrice</th>\n",
       "      <th>Discount(%)</th>\n",
       "      <th>PaymentMethod</th>\n",
       "      <th>PurchaseDate</th>\n",
       "      <th>City</th>\n",
       "      <th>Country</th>\n",
       "      <th>TotalAmount</th>\n",
       "    </tr>\n",
       "  </thead>\n",
       "  <tbody>\n",
       "    <tr>\n",
       "      <th>1472</th>\n",
       "      <td>131db370-c394-42c0-9d69-33a30b826fbf</td>\n",
       "      <td>Daniel Christensen</td>\n",
       "      <td>ycastro@jackson.biz</td>\n",
       "      <td>Books</td>\n",
       "      <td>1</td>\n",
       "      <td>6.71</td>\n",
       "      <td>0.0</td>\n",
       "      <td>Cash on Delivery</td>\n",
       "      <td>2025-05-14</td>\n",
       "      <td>Harrymouth</td>\n",
       "      <td>USA</td>\n",
       "      <td>6.7100</td>\n",
       "    </tr>\n",
       "    <tr>\n",
       "      <th>4625</th>\n",
       "      <td>ee6c2ce7-dea7-4bf8-b542-8d5e43ca10e6</td>\n",
       "      <td>Joshua Brown</td>\n",
       "      <td>brendan97@hotmail.com</td>\n",
       "      <td>Sports</td>\n",
       "      <td>1</td>\n",
       "      <td>6.75</td>\n",
       "      <td>0.0</td>\n",
       "      <td>Cash on Delivery</td>\n",
       "      <td>2025-03-28</td>\n",
       "      <td>North Theresa</td>\n",
       "      <td>USA</td>\n",
       "      <td>6.7500</td>\n",
       "    </tr>\n",
       "    <tr>\n",
       "      <th>4259</th>\n",
       "      <td>c6c55a42-b113-42be-8c3e-89b6d3539b21</td>\n",
       "      <td>Troy Rodriguez</td>\n",
       "      <td>erik87@yahoo.com</td>\n",
       "      <td>Electronics</td>\n",
       "      <td>1</td>\n",
       "      <td>8.08</td>\n",
       "      <td>15.0</td>\n",
       "      <td>Debit Card</td>\n",
       "      <td>2024-12-13</td>\n",
       "      <td>Torreschester</td>\n",
       "      <td>UAE</td>\n",
       "      <td>6.8680</td>\n",
       "    </tr>\n",
       "    <tr>\n",
       "      <th>3061</th>\n",
       "      <td>efa55a3d-1064-4c34-b19f-68427670ea8b</td>\n",
       "      <td>Charles Pittman</td>\n",
       "      <td>david31@escobar.com</td>\n",
       "      <td>Home &amp; Kitchen</td>\n",
       "      <td>1</td>\n",
       "      <td>6.90</td>\n",
       "      <td>NaN</td>\n",
       "      <td>Credit Card</td>\n",
       "      <td>2025-06-20</td>\n",
       "      <td>New Jameschester</td>\n",
       "      <td>USA</td>\n",
       "      <td>6.9000</td>\n",
       "    </tr>\n",
       "    <tr>\n",
       "      <th>4723</th>\n",
       "      <td>6957b8d3-1dd9-470a-a734-343abe9ce74c</td>\n",
       "      <td>Nicole Velez</td>\n",
       "      <td>qwalker@hotmail.com</td>\n",
       "      <td>Beauty</td>\n",
       "      <td>1</td>\n",
       "      <td>8.05</td>\n",
       "      <td>5.0</td>\n",
       "      <td>NetBanking</td>\n",
       "      <td>2025-03-12</td>\n",
       "      <td>Richardburgh</td>\n",
       "      <td>UAE</td>\n",
       "      <td>7.6475</td>\n",
       "    </tr>\n",
       "  </tbody>\n",
       "</table>\n",
       "</div>"
      ],
      "text/plain": [
       "                             TransactionID        CustomerName  \\\n",
       "1472  131db370-c394-42c0-9d69-33a30b826fbf  Daniel Christensen   \n",
       "4625  ee6c2ce7-dea7-4bf8-b542-8d5e43ca10e6        Joshua Brown   \n",
       "4259  c6c55a42-b113-42be-8c3e-89b6d3539b21      Troy Rodriguez   \n",
       "3061  efa55a3d-1064-4c34-b19f-68427670ea8b     Charles Pittman   \n",
       "4723  6957b8d3-1dd9-470a-a734-343abe9ce74c        Nicole Velez   \n",
       "\n",
       "                      Email ProductCategory  Quantity  UnitPrice  Discount(%)  \\\n",
       "1472    ycastro@jackson.biz           Books         1       6.71          0.0   \n",
       "4625  brendan97@hotmail.com          Sports         1       6.75          0.0   \n",
       "4259       erik87@yahoo.com     Electronics         1       8.08         15.0   \n",
       "3061    david31@escobar.com  Home & Kitchen         1       6.90          NaN   \n",
       "4723    qwalker@hotmail.com          Beauty         1       8.05          5.0   \n",
       "\n",
       "         PaymentMethod PurchaseDate              City Country  TotalAmount  \n",
       "1472  Cash on Delivery   2025-05-14        Harrymouth     USA       6.7100  \n",
       "4625  Cash on Delivery   2025-03-28     North Theresa     USA       6.7500  \n",
       "4259        Debit Card   2024-12-13     Torreschester     UAE       6.8680  \n",
       "3061       Credit Card   2025-06-20  New Jameschester     USA       6.9000  \n",
       "4723        NetBanking   2025-03-12      Richardburgh     UAE       7.6475  "
      ]
     },
     "execution_count": 46,
     "metadata": {},
     "output_type": "execute_result"
    }
   ],
   "source": [
    "dfc.sort_values(by=['TotalAmount']).head()"
   ]
  },
  {
   "cell_type": "code",
   "execution_count": 48,
   "id": "dcdcae06-8c8e-4e12-82b2-d3e96345186a",
   "metadata": {},
   "outputs": [
    {
     "data": {
      "text/plain": [
       "ProductCategory\n",
       "Sports         522095.540813\n",
       "Beauty         521662.420063\n",
       "Electronics    516630.554438\n",
       "Books          514530.947438\n",
       "Clothing       511526.603813\n",
       "Name: TotalAmount, dtype: float64"
      ]
     },
     "execution_count": 48,
     "metadata": {},
     "output_type": "execute_result"
    }
   ],
   "source": [
    "sales = dfc.groupby('ProductCategory')['TotalAmount'].sum()\n",
    "top_5 = sales.sort_values(ascending=False).head(5)\n",
    "\n",
    "top_5"
   ]
  },
  {
   "cell_type": "markdown",
   "id": "55c49117-9f58-44ef-aa35-e93388030d05",
   "metadata": {},
   "source": [
    "# 14. "
   ]
  },
  {
   "cell_type": "code",
   "execution_count": 76,
   "id": "6a60df6e-a1e0-40a9-9e3f-6f3708f214af",
   "metadata": {},
   "outputs": [
    {
     "data": {
      "image/png": "[encoded data removed]",
      "text/plain": [
       "<Figure size 640x480 with 1 Axes>"
      ]
     },
     "metadata": {},
     "output_type": "display_data"
    }
   ],
   "source": [
    "plt.bar(dfc['ProductCategory'], dfc['TotalAmount'])\n",
    "plt.title('Analyze sales trends')\n",
    "plt.xlabel('UnitPrice')\n",
    "plt.ylabel('Frequency')\n",
    "plt.show()"
   ]
  },
  {
   "cell_type": "code",
   "execution_count": 57,
   "id": "0d029dc9-bdd0-4cb8-a578-ed56f7275049",
   "metadata": {},
   "outputs": [
    {
     "data": {
      "text/plain": [
       "['TransactionID',\n",
       " 'CustomerName',\n",
       " 'Email',\n",
       " 'ProductCategory',\n",
       " 'Quantity',\n",
       " 'UnitPrice',\n",
       " 'Discount(%)',\n",
       " 'PaymentMethod',\n",
       " 'PurchaseDate',\n",
       " 'City',\n",
       " 'Country',\n",
       " 'TotalAmount']"
      ]
     },
     "execution_count": 57,
     "metadata": {},
     "output_type": "execute_result"
    }
   ],
   "source": [
    "dfc.columns.tolist()\n"
   ]
  },
  {
   "cell_type": "code",
   "execution_count": 59,
   "id": "42d18e9f-6da6-468f-a96c-15fcac2489e7",
   "metadata": {},
   "outputs": [
    {
     "data": {
      "text/plain": [
       "TransactionID              object\n",
       "CustomerName               object\n",
       "Email                      object\n",
       "ProductCategory            object\n",
       "Quantity                    int64\n",
       "UnitPrice                 float64\n",
       "Discount(%)               float64\n",
       "PaymentMethod              object\n",
       "PurchaseDate       datetime64[ns]\n",
       "City                       object\n",
       "Country                    object\n",
       "TotalAmount               float64\n",
       "dtype: object"
      ]
     },
     "execution_count": 59,
     "metadata": {},
     "output_type": "execute_result"
    }
   ],
   "source": [
    "dfc.dtypes"
   ]
  },
  {
   "cell_type": "markdown",
   "id": "52bbed1d-81a5-49e2-9b71-245ec6ef187b",
   "metadata": {},
   "source": [
    "# 15"
   ]
  },
  {
   "cell_type": "code",
   "execution_count": 73,
   "id": "0604844a-6cb7-4b50-b843-da89956677cc",
   "metadata": {},
   "outputs": [
    {
     "ename": "AttributeError",
     "evalue": "Can only use .dt accessor with datetimelike values",
     "output_type": "error",
     "traceback": [
      "\u001b[31m---------------------------------------------------------------------------\u001b[39m",
      "\u001b[31mAttributeError\u001b[39m                            Traceback (most recent call last)",
      "\u001b[36mCell\u001b[39m\u001b[36m \u001b[39m\u001b[32mIn[73]\u001b[39m\u001b[32m, line 1\u001b[39m\n\u001b[32m----> \u001b[39m\u001b[32m1\u001b[39m df[\u001b[33m'\u001b[39m\u001b[33mPurchaseDate\u001b[39m\u001b[33m'\u001b[39m] = \u001b[43mdf\u001b[49m\u001b[43m[\u001b[49m\u001b[33;43m'\u001b[39;49m\u001b[33;43mPurchaseDate\u001b[39;49m\u001b[33;43m'\u001b[39;49m\u001b[43m]\u001b[49m\u001b[43m.\u001b[49m\u001b[43mdt\u001b[49m.strftime(\u001b[33m'\u001b[39m\u001b[33m%\u001b[39m\u001b[33mY-\u001b[39m\u001b[33m%\u001b[39m\u001b[33mm\u001b[39m\u001b[33m'\u001b[39m)\n\u001b[32m      3\u001b[39m \u001b[38;5;66;03m#plt.pie(dfc[''])\u001b[39;00m\n",
      "\u001b[36mFile \u001b[39m\u001b[32m~/Desktop/SDHub-DS/SDHub-DS/01 Foundation/03 Python For Data Science/.venv/lib/python3.13/site-packages/pandas/core/generic.py:6318\u001b[39m, in \u001b[36mNDFrame.__getattr__\u001b[39m\u001b[34m(self, name)\u001b[39m\n\u001b[32m   6311\u001b[39m \u001b[38;5;28;01mif\u001b[39;00m (\n\u001b[32m   6312\u001b[39m     name \u001b[38;5;129;01mnot\u001b[39;00m \u001b[38;5;129;01min\u001b[39;00m \u001b[38;5;28mself\u001b[39m._internal_names_set\n\u001b[32m   6313\u001b[39m     \u001b[38;5;129;01mand\u001b[39;00m name \u001b[38;5;129;01mnot\u001b[39;00m \u001b[38;5;129;01min\u001b[39;00m \u001b[38;5;28mself\u001b[39m._metadata\n\u001b[32m   6314\u001b[39m     \u001b[38;5;129;01mand\u001b[39;00m name \u001b[38;5;129;01mnot\u001b[39;00m \u001b[38;5;129;01min\u001b[39;00m \u001b[38;5;28mself\u001b[39m._accessors\n\u001b[32m   6315\u001b[39m     \u001b[38;5;129;01mand\u001b[39;00m \u001b[38;5;28mself\u001b[39m._info_axis._can_hold_identifiers_and_holds_name(name)\n\u001b[32m   6316\u001b[39m ):\n\u001b[32m   6317\u001b[39m     \u001b[38;5;28;01mreturn\u001b[39;00m \u001b[38;5;28mself\u001b[39m[name]\n\u001b[32m-> \u001b[39m\u001b[32m6318\u001b[39m \u001b[38;5;28;01mreturn\u001b[39;00m \u001b[38;5;28;43mobject\u001b[39;49m\u001b[43m.\u001b[49m\u001b[34;43m__getattribute__\u001b[39;49m\u001b[43m(\u001b[49m\u001b[38;5;28;43mself\u001b[39;49m\u001b[43m,\u001b[49m\u001b[43m \u001b[49m\u001b[43mname\u001b[49m\u001b[43m)\u001b[49m\n",
      "\u001b[36mFile \u001b[39m\u001b[32m~/Desktop/SDHub-DS/SDHub-DS/01 Foundation/03 Python For Data Science/.venv/lib/python3.13/site-packages/pandas/core/accessor.py:224\u001b[39m, in \u001b[36mCachedAccessor.__get__\u001b[39m\u001b[34m(self, obj, cls)\u001b[39m\n\u001b[32m    221\u001b[39m \u001b[38;5;28;01mif\u001b[39;00m obj \u001b[38;5;129;01mis\u001b[39;00m \u001b[38;5;28;01mNone\u001b[39;00m:\n\u001b[32m    222\u001b[39m     \u001b[38;5;66;03m# we're accessing the attribute of the class, i.e., Dataset.geo\u001b[39;00m\n\u001b[32m    223\u001b[39m     \u001b[38;5;28;01mreturn\u001b[39;00m \u001b[38;5;28mself\u001b[39m._accessor\n\u001b[32m--> \u001b[39m\u001b[32m224\u001b[39m accessor_obj = \u001b[38;5;28;43mself\u001b[39;49m\u001b[43m.\u001b[49m\u001b[43m_accessor\u001b[49m\u001b[43m(\u001b[49m\u001b[43mobj\u001b[49m\u001b[43m)\u001b[49m\n\u001b[32m    225\u001b[39m \u001b[38;5;66;03m# Replace the property with the accessor object. Inspired by:\u001b[39;00m\n\u001b[32m    226\u001b[39m \u001b[38;5;66;03m# https://www.pydanny.com/cached-property.html\u001b[39;00m\n\u001b[32m    227\u001b[39m \u001b[38;5;66;03m# We need to use object.__setattr__ because we overwrite __setattr__ on\u001b[39;00m\n\u001b[32m    228\u001b[39m \u001b[38;5;66;03m# NDFrame\u001b[39;00m\n\u001b[32m    229\u001b[39m \u001b[38;5;28mobject\u001b[39m.\u001b[34m__setattr__\u001b[39m(obj, \u001b[38;5;28mself\u001b[39m._name, accessor_obj)\n",
      "\u001b[36mFile \u001b[39m\u001b[32m~/Desktop/SDHub-DS/SDHub-DS/01 Foundation/03 Python For Data Science/.venv/lib/python3.13/site-packages/pandas/core/indexes/accessors.py:643\u001b[39m, in \u001b[36mCombinedDatetimelikeProperties.__new__\u001b[39m\u001b[34m(cls, data)\u001b[39m\n\u001b[32m    640\u001b[39m \u001b[38;5;28;01melif\u001b[39;00m \u001b[38;5;28misinstance\u001b[39m(data.dtype, PeriodDtype):\n\u001b[32m    641\u001b[39m     \u001b[38;5;28;01mreturn\u001b[39;00m PeriodProperties(data, orig)\n\u001b[32m--> \u001b[39m\u001b[32m643\u001b[39m \u001b[38;5;28;01mraise\u001b[39;00m \u001b[38;5;167;01mAttributeError\u001b[39;00m(\u001b[33m\"\u001b[39m\u001b[33mCan only use .dt accessor with datetimelike values\u001b[39m\u001b[33m\"\u001b[39m)\n",
      "\u001b[31mAttributeError\u001b[39m: Can only use .dt accessor with datetimelike values"
     ]
    }
   ],
   "source": [
    "dfc['PurchaseDate'] = dfc['PurchaseDate'].dt.strftime('%Y-%m')\n",
    "\n",
    "#plt.pie(dfc[''])"
   ]
  },
  {
   "cell_type": "markdown",
   "id": "6cd12e6e-7ca4-4d72-bcd4-a1e91b6d6219",
   "metadata": {},
   "source": [
    "# 16."
   ]
  },
  {
   "cell_type": "code",
   "execution_count": 65,
   "id": "1b6a6eb9-8feb-4a18-87c5-4621ff14201b",
   "metadata": {},
   "outputs": [
    {
     "data": {
      "text/plain": [
       "City\n",
       "New Christopher    6853.8715\n",
       "Smithview          5759.3070\n",
       "West David         5662.3410\n",
       "Name: TotalAmount, dtype: float64"
      ]
     },
     "execution_count": 65,
     "metadata": {},
     "output_type": "execute_result"
    }
   ],
   "source": [
    "cities = dfc.groupby('City')['TotalAmount'].sum()\n",
    "top_3 = cities.sort_values(ascending=False).head(3)\n",
    "\n",
    "top_3"
   ]
  },
  {
   "cell_type": "markdown",
   "id": "a68946a7-ef01-4e02-ae0e-e8430d24afa9",
   "metadata": {},
   "source": [
    "# 17"
   ]
  },
  {
   "cell_type": "code",
   "execution_count": 68,
   "id": "491a2edd-1150-4286-a3c5-377654e81f7b",
   "metadata": {},
   "outputs": [
    {
     "data": {
      "text/plain": [
       "Country\n",
       "Australia    744.900356\n",
       "India        713.454380\n",
       "UAE          679.809816\n",
       "UK           728.848777\n",
       "USA          713.815658\n",
       "Name: TotalAmount, dtype: float64"
      ]
     },
     "execution_count": 68,
     "metadata": {},
     "output_type": "execute_result"
    }
   ],
   "source": [
    "avg = dfc.groupby('Country')['TotalAmount'].mean()\n",
    "\n",
    "avg"
   ]
  },
  {
   "cell_type": "code",
   "execution_count": 78,
   "id": "16655d2d-7609-4448-afbf-bbac886393ce",
   "metadata": {},
   "outputs": [
    {
     "data": {
      "text/plain": [
       "ProductCategory\n",
       "Beauty            2430.05\n",
       "Books             2437.60\n",
       "Clothing          2480.35\n",
       "Electronics       2481.85\n",
       "Home & Kitchen    2429.75\n",
       "Sports            2485.95\n",
       "Toys              2468.00\n",
       "Name: TotalAmount, dtype: float64"
      ]
     },
     "execution_count": 78,
     "metadata": {},
     "output_type": "execute_result"
    }
   ],
   "source": [
    "# PurchaseDate\n",
    "\n",
    "pro = dfc.groupby('ProductCategory')['TotalAmount'].max()\n",
    "\n",
    "pro"
   ]
  },
  {
   "cell_type": "markdown",
   "id": "d2292518-d3aa-404f-94c0-dd40fc550af0",
   "metadata": {},
   "source": [
    "# 18"
   ]
  },
  {
   "cell_type": "code",
   "execution_count": 72,
   "id": "f0aa0592-cca5-4047-802c-882bbfc1ffbf",
   "metadata": {},
   "outputs": [
    {
     "data": {
      "text/plain": [
       "ProductCategory\n",
       "Beauty            7.526132\n",
       "Books             7.327434\n",
       "Clothing          7.383420\n",
       "Electronics       7.692308\n",
       "Home & Kitchen    7.936508\n",
       "Sports            7.621528\n",
       "Toys              7.441230\n",
       "Name: Discount(%), dtype: float64"
      ]
     },
     "execution_count": 72,
     "metadata": {},
     "output_type": "execute_result"
    }
   ],
   "source": [
    "avg_dis = dfc.groupby('ProductCategory')['Discount(%)'].mean()\n",
    "\n",
    "avg_dis"
   ]
  },
  {
   "cell_type": "markdown",
   "id": "63c37026-93ed-45b1-8e3c-a317702c9eff",
   "metadata": {},
   "source": [
    "# Section C – Insights & Reporting"
   ]
  },
  {
   "cell_type": "markdown",
   "id": "30945aff-4988-46b9-a3c7-b46f78170cc7",
   "metadata": {},
   "source": [
    "# 19:\n",
    "\n",
    "1. highest purchasing customers where from Australia\n",
    "2. avg discount on products is 7.5\n",
    "3. highest selling products are Beauty"
   ]
  },
  {
   "cell_type": "markdown",
   "id": "94d4c41e-d440-44fd-ac5c-cb83bf7f10af",
   "metadata": {},
   "source": [
    "# 20:\n",
    "1. add sales data in the\n",
    "2. "
   ]
  },
  {
   "cell_type": "code",
   "execution_count": null,
   "id": "83b94dbf-ad91-44df-b527-4b30846306b0",
   "metadata": {},
   "outputs": [],
   "source": []
  }
 ],
 "metadata": {
  "kernelspec": {
   "display_name": "Python 3 (ipykernel)",
   "language": "python",
   "name": "python3"
  },
  "language_info": {
   "codemirror_mode": {
    "name": "ipython",
    "version": 3
   },
   "file_extension": ".py",
   "mimetype": "text/x-python",
   "name": "python",
   "nbconvert_exporter": "python",
   "pygments_lexer": "ipython3",
   "version": "3.13.5"
  }
 },
 "nbformat": 4,
 "nbformat_minor": 5
}
