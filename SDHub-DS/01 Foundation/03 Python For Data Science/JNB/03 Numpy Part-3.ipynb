{
 "cells": [
  {
   "cell_type": "markdown",
   "id": "f945f036-031a-41d2-8fe0-432843b52137",
   "metadata": {},
   "source": [
    "# Numpy part 3\n",
    "\n",
    "## oprations/working with arrays\n",
    "\n",
    "1. combine:\n",
    "    - Horizontal Stacking: function = np.hstack(arr1,arr2) <--> row to row \n",
    "    - Vertical Stacking function: = np.vstack(arr1,arr2)   ^| colum to colum\n",
    "    - Depth Stcking: function = np.dstack(arr1,arr2) \n",
    "      - (vistuilzed example of all stacking with matrix)"
   ]
  },
  {
   "cell_type": "code",
   "execution_count": 21,
   "id": "40d78877-f2af-4f03-b94d-19e06c4d3506",
   "metadata": {},
   "outputs": [],
   "source": [
    "import numpy as np"
   ]
  },
  {
   "cell_type": "code",
   "execution_count": 22,
   "id": "303d1697-4e96-4067-a6d4-04034508d75a",
   "metadata": {},
   "outputs": [
    {
     "data": {
      "text/plain": [
       "array([[ 0,  1,  2],\n",
       "       [ 3,  4,  5],\n",
       "       [ 6,  7,  8],\n",
       "       [ 9, 10, 11]])"
      ]
     },
     "execution_count": 22,
     "metadata": {},
     "output_type": "execute_result"
    }
   ],
   "source": [
    "arr1 = np.array(range(12)).reshape(4,3)\n",
    "\n",
    "arr1"
   ]
  },
  {
   "cell_type": "code",
   "execution_count": 23,
   "id": "1c6571f8-7339-497c-9b68-5e70082d98ff",
   "metadata": {},
   "outputs": [
    {
     "data": {
      "text/plain": [
       "array([[ 0,  1,  2,  3,  4],\n",
       "       [ 5,  6,  7,  8,  9],\n",
       "       [10, 11, 12, 13, 14],\n",
       "       [15, 16, 17, 18, 19]])"
      ]
     },
     "execution_count": 23,
     "metadata": {},
     "output_type": "execute_result"
    }
   ],
   "source": [
    "arr2 = np.array(range(20)).reshape(4,5)\n",
    "\n",
    "arr2"
   ]
  },
  {
   "cell_type": "code",
   "execution_count": 24,
   "id": "0dab3713-2ede-413b-b2fa-c902051c721d",
   "metadata": {},
   "outputs": [
    {
     "data": {
      "text/plain": [
       "array([[ 0,  1,  2,  0,  1,  2,  3,  4],\n",
       "       [ 3,  4,  5,  5,  6,  7,  8,  9],\n",
       "       [ 6,  7,  8, 10, 11, 12, 13, 14],\n",
       "       [ 9, 10, 11, 15, 16, 17, 18, 19]])"
      ]
     },
     "execution_count": 24,
     "metadata": {},
     "output_type": "execute_result"
    }
   ],
   "source": [
    "h_arr = np.hstack((arr1,arr2))\n",
    "\n",
    "h_arr"
   ]
  },
  {
   "cell_type": "code",
   "execution_count": 25,
   "id": "05be3e8e-e39a-4986-8a01-0ff4023c40ec",
   "metadata": {},
   "outputs": [
    {
     "data": {
      "text/plain": [
       "array([[ 0,  1,  2],\n",
       "       [ 3,  4,  5],\n",
       "       [ 6,  7,  8],\n",
       "       [ 9, 10, 11]])"
      ]
     },
     "execution_count": 25,
     "metadata": {},
     "output_type": "execute_result"
    }
   ],
   "source": [
    "arr3 = np.array(range(12)).reshape(4,3)\n",
    "\n",
    "arr3"
   ]
  },
  {
   "cell_type": "code",
   "execution_count": 26,
   "id": "41c64759-90bd-4c60-9563-695cd32d6713",
   "metadata": {},
   "outputs": [
    {
     "data": {
      "text/plain": [
       "array([[ 0,  1,  2],\n",
       "       [ 3,  4,  5],\n",
       "       [ 6,  7,  8],\n",
       "       [ 9, 10, 11],\n",
       "       [ 0,  1,  2],\n",
       "       [ 3,  4,  5],\n",
       "       [ 6,  7,  8],\n",
       "       [ 9, 10, 11]])"
      ]
     },
     "execution_count": 26,
     "metadata": {},
     "output_type": "execute_result"
    }
   ],
   "source": [
    "v_arr = np.vstack((arr1,arr3))\n",
    "\n",
    "v_arr"
   ]
  },
  {
   "cell_type": "code",
   "execution_count": 27,
   "id": "df03b514-71c4-4288-a89e-17fa82f2efe6",
   "metadata": {},
   "outputs": [
    {
     "data": {
      "text/plain": [
       "array([[1., 1., 1.],\n",
       "       [1., 1., 1.],\n",
       "       [1., 1., 1.],\n",
       "       [1., 1., 1.]])"
      ]
     },
     "execution_count": 27,
     "metadata": {},
     "output_type": "execute_result"
    }
   ],
   "source": [
    "arr4 = np.ones((4,3))\n",
    "\n",
    "arr4"
   ]
  },
  {
   "cell_type": "code",
   "execution_count": 29,
   "id": "78ad030a-42f5-4cf7-8fcc-053e629101b4",
   "metadata": {},
   "outputs": [
    {
     "data": {
      "text/plain": [
       "array([[[ 0.,  1.],\n",
       "        [ 1.,  1.],\n",
       "        [ 2.,  1.]],\n",
       "\n",
       "       [[ 3.,  1.],\n",
       "        [ 4.,  1.],\n",
       "        [ 5.,  1.]],\n",
       "\n",
       "       [[ 6.,  1.],\n",
       "        [ 7.,  1.],\n",
       "        [ 8.,  1.]],\n",
       "\n",
       "       [[ 9.,  1.],\n",
       "        [10.,  1.],\n",
       "        [11.,  1.]]])"
      ]
     },
     "execution_count": 29,
     "metadata": {},
     "output_type": "execute_result"
    }
   ],
   "source": [
    "d_arr = np.dstack((arr1, arr4))\n",
    "\n",
    "d_arr"
   ]
  },
  {
   "cell_type": "markdown",
   "id": "c7963260-b67c-4d13-ab6f-958b7f06021a",
   "metadata": {},
   "source": [
    "# splitting of array :\n",
    "\n",
    "1. hsplite() (array, no. of splite)\n",
    "2. vsplit() (array, no. of splite)\n",
    "\n",
    "vituilized example of splitting\n",
    "\n",
    "example: vsplite(arr, 5)\n",
    "\n",
    "> note: slpit can only be perfrom when its in eaqul splite "
   ]
  },
  {
   "cell_type": "code",
   "execution_count": 33,
   "id": "6041b4cb-52c0-42e5-9234-e7ac69637974",
   "metadata": {},
   "outputs": [
    {
     "data": {
      "text/plain": [
       "[array([[ 0,  1,  2,  0],\n",
       "        [ 3,  4,  5,  5],\n",
       "        [ 6,  7,  8, 10],\n",
       "        [ 9, 10, 11, 15]]),\n",
       " array([[ 1,  2,  3,  4],\n",
       "        [ 6,  7,  8,  9],\n",
       "        [11, 12, 13, 14],\n",
       "        [16, 17, 18, 19]])]"
      ]
     },
     "execution_count": 33,
     "metadata": {},
     "output_type": "execute_result"
    }
   ],
   "source": [
    "np.hsplit(h_arr, 2)"
   ]
  },
  {
   "cell_type": "code",
   "execution_count": 34,
   "id": "f8c0b222-a563-4658-8ea4-bcb483724fad",
   "metadata": {},
   "outputs": [
    {
     "data": {
      "text/plain": [
       "[array([[ 0,  1,  2],\n",
       "        [ 3,  4,  5],\n",
       "        [ 6,  7,  8],\n",
       "        [ 9, 10, 11]]),\n",
       " array([[ 0,  1,  2],\n",
       "        [ 3,  4,  5],\n",
       "        [ 6,  7,  8],\n",
       "        [ 9, 10, 11]])]"
      ]
     },
     "execution_count": 34,
     "metadata": {},
     "output_type": "execute_result"
    }
   ],
   "source": [
    "np.vsplit(v_arr, 2)"
   ]
  },
  {
   "cell_type": "code",
   "execution_count": 36,
   "id": "63071523-d008-456c-9f79-0984046815da",
   "metadata": {},
   "outputs": [
    {
     "name": "stdout",
     "output_type": "stream",
     "text": [
      "[array([[[ 0.],\n",
      "        [ 1.],\n",
      "        [ 2.]],\n",
      "\n",
      "       [[ 3.],\n",
      "        [ 4.],\n",
      "        [ 5.]],\n",
      "\n",
      "       [[ 6.],\n",
      "        [ 7.],\n",
      "        [ 8.]],\n",
      "\n",
      "       [[ 9.],\n",
      "        [10.],\n",
      "        [11.]]]), array([[[1.],\n",
      "        [1.],\n",
      "        [1.]],\n",
      "\n",
      "       [[1.],\n",
      "        [1.],\n",
      "        [1.]],\n",
      "\n",
      "       [[1.],\n",
      "        [1.],\n",
      "        [1.]],\n",
      "\n",
      "       [[1.],\n",
      "        [1.],\n",
      "        [1.]]])]\n"
     ]
    }
   ],
   "source": [
    "print(np.dsplit(d_arr, 2))"
   ]
  },
  {
   "cell_type": "code",
   "execution_count": 37,
   "id": "44dc073e-be76-4828-90a8-6afb2c5a102f",
   "metadata": {},
   "outputs": [
    {
     "data": {
      "text/plain": [
       "[array([[ 0,  1],\n",
       "        [ 3,  4],\n",
       "        [ 6,  7],\n",
       "        [ 9, 10]]),\n",
       " array([[ 2,  0],\n",
       "        [ 5,  5],\n",
       "        [ 8, 10],\n",
       "        [11, 15]]),\n",
       " array([[ 1,  2],\n",
       "        [ 6,  7],\n",
       "        [11, 12],\n",
       "        [16, 17]]),\n",
       " array([[ 3,  4],\n",
       "        [ 8,  9],\n",
       "        [13, 14],\n",
       "        [18, 19]])]"
      ]
     },
     "execution_count": 37,
     "metadata": {},
     "output_type": "execute_result"
    }
   ],
   "source": [
    "np.hsplit(h_arr, 4)"
   ]
  },
  {
   "cell_type": "code",
   "execution_count": 38,
   "id": "6c0b7076-bdc5-4061-a3c2-4388d6aefbb1",
   "metadata": {},
   "outputs": [
    {
     "data": {
      "text/plain": [
       "[array([[0],\n",
       "        [3],\n",
       "        [6],\n",
       "        [9]]),\n",
       " array([[ 1],\n",
       "        [ 4],\n",
       "        [ 7],\n",
       "        [10]]),\n",
       " array([[ 2],\n",
       "        [ 5],\n",
       "        [ 8],\n",
       "        [11]]),\n",
       " array([[ 0],\n",
       "        [ 5],\n",
       "        [10],\n",
       "        [15]]),\n",
       " array([[ 1],\n",
       "        [ 6],\n",
       "        [11],\n",
       "        [16]]),\n",
       " array([[ 2],\n",
       "        [ 7],\n",
       "        [12],\n",
       "        [17]]),\n",
       " array([[ 3],\n",
       "        [ 8],\n",
       "        [13],\n",
       "        [18]]),\n",
       " array([[ 4],\n",
       "        [ 9],\n",
       "        [14],\n",
       "        [19]])]"
      ]
     },
     "execution_count": 38,
     "metadata": {},
     "output_type": "execute_result"
    }
   ],
   "source": [
    "np.hsplit(h_arr, 8)"
   ]
  },
  {
   "cell_type": "code",
   "execution_count": 44,
   "id": "878f4d3a-a8be-45ca-8029-2407249084ac",
   "metadata": {},
   "outputs": [
    {
     "data": {
      "text/plain": [
       "[array([[ 0,  1,  2],\n",
       "        [ 3,  4,  5],\n",
       "        [ 6,  7,  8],\n",
       "        [ 9, 10, 11]]),\n",
       " array([[ 0,  1,  2],\n",
       "        [ 3,  4,  5],\n",
       "        [ 6,  7,  8],\n",
       "        [ 9, 10, 11]])]"
      ]
     },
     "execution_count": 44,
     "metadata": {},
     "output_type": "execute_result"
    }
   ],
   "source": [
    "np.vsplit(v_arr, 2)"
   ]
  },
  {
   "cell_type": "code",
   "execution_count": 42,
   "id": "c922cc7e-6e0d-4311-9143-e813fff80362",
   "metadata": {},
   "outputs": [
    {
     "data": {
      "text/plain": [
       "[array([[0, 1, 2],\n",
       "        [3, 4, 5]]),\n",
       " array([[ 6,  7,  8],\n",
       "        [ 9, 10, 11]]),\n",
       " array([[0, 1, 2],\n",
       "        [3, 4, 5]]),\n",
       " array([[ 6,  7,  8],\n",
       "        [ 9, 10, 11]])]"
      ]
     },
     "execution_count": 42,
     "metadata": {},
     "output_type": "execute_result"
    }
   ],
   "source": [
    "np.vsplit(v_arr, 4)"
   ]
  },
  {
   "cell_type": "code",
   "execution_count": 43,
   "id": "b3c8fc16-0fc5-4cf3-9c93-ae564b7d39ab",
   "metadata": {},
   "outputs": [
    {
     "data": {
      "text/plain": [
       "[array([[0, 1, 2]]),\n",
       " array([[3, 4, 5]]),\n",
       " array([[6, 7, 8]]),\n",
       " array([[ 9, 10, 11]]),\n",
       " array([[0, 1, 2]]),\n",
       " array([[3, 4, 5]]),\n",
       " array([[6, 7, 8]]),\n",
       " array([[ 9, 10, 11]])]"
      ]
     },
     "execution_count": 43,
     "metadata": {},
     "output_type": "execute_result"
    }
   ],
   "source": [
    "np.vsplit(v_arr, 8)"
   ]
  },
  {
   "cell_type": "markdown",
   "id": "22f898af-4383-4a0b-a0f7-83326a41d364",
   "metadata": {},
   "source": [
    "# Array with specific datatype"
   ]
  },
  {
   "cell_type": "code",
   "execution_count": 49,
   "id": "8a4c8726-9034-45f4-9223-09ddacbbdb05",
   "metadata": {},
   "outputs": [
    {
     "data": {
      "text/plain": [
       "array([[ 1,  2,  3],\n",
       "       [ 4,  6,  7],\n",
       "       [ 8,  9, 11],\n",
       "       [12, 13, 15]])"
      ]
     },
     "execution_count": 49,
     "metadata": {},
     "output_type": "execute_result"
    }
   ],
   "source": [
    "arr = np.linspace(1,15,12,dtype=int).reshape(4,3)\n",
    "\n",
    "arr"
   ]
  },
  {
   "cell_type": "code",
   "execution_count": 50,
   "id": "ab98def1-5018-435e-9902-293e3204aaf8",
   "metadata": {},
   "outputs": [
    {
     "data": {
      "text/plain": [
       "array([[1., 1., 1.],\n",
       "       [1., 1., 1.],\n",
       "       [1., 1., 1.]])"
      ]
     },
     "execution_count": 50,
     "metadata": {},
     "output_type": "execute_result"
    }
   ],
   "source": [
    "z_arr = np.ones((3,3))\n",
    "\n",
    "z_arr"
   ]
  },
  {
   "cell_type": "code",
   "execution_count": 52,
   "id": "11bac164-facb-4606-9272-2988a6185be2",
   "metadata": {},
   "outputs": [
    {
     "data": {
      "text/plain": [
       "dtype('float64')"
      ]
     },
     "execution_count": 52,
     "metadata": {},
     "output_type": "execute_result"
    }
   ],
   "source": [
    "z_arr.dtype"
   ]
  },
  {
   "cell_type": "code",
   "execution_count": 54,
   "id": "821d5bab-018f-42b2-8c76-bb3c4c75a59d",
   "metadata": {},
   "outputs": [
    {
     "data": {
      "text/plain": [
       "array([[1, 1, 1],\n",
       "       [1, 1, 1],\n",
       "       [1, 1, 1]])"
      ]
     },
     "execution_count": 54,
     "metadata": {},
     "output_type": "execute_result"
    }
   ],
   "source": [
    "z_arr = np.ones((3,3),dtype=int)\n",
    "\n",
    "z_arr"
   ]
  },
  {
   "cell_type": "code",
   "execution_count": 55,
   "id": "44764ab1-6c40-4da2-8ef7-a9dc72496815",
   "metadata": {},
   "outputs": [
    {
     "data": {
      "text/plain": [
       "dtype('int64')"
      ]
     },
     "execution_count": 55,
     "metadata": {},
     "output_type": "execute_result"
    }
   ],
   "source": [
    "z_arr.dtype"
   ]
  },
  {
   "cell_type": "code",
   "execution_count": 56,
   "id": "a29e18f7-2d53-4168-8afe-8ce3e2ca58d7",
   "metadata": {},
   "outputs": [
    {
     "data": {
      "text/plain": [
       "['T',\n",
       " '__abs__',\n",
       " '__add__',\n",
       " '__and__',\n",
       " '__array__',\n",
       " '__array_finalize__',\n",
       " '__array_function__',\n",
       " '__array_interface__',\n",
       " '__array_namespace__',\n",
       " '__array_priority__',\n",
       " '__array_struct__',\n",
       " '__array_ufunc__',\n",
       " '__array_wrap__',\n",
       " '__bool__',\n",
       " '__buffer__',\n",
       " '__class__',\n",
       " '__class_getitem__',\n",
       " '__complex__',\n",
       " '__contains__',\n",
       " '__copy__',\n",
       " '__deepcopy__',\n",
       " '__delattr__',\n",
       " '__delitem__',\n",
       " '__dir__',\n",
       " '__divmod__',\n",
       " '__dlpack__',\n",
       " '__dlpack_device__',\n",
       " '__doc__',\n",
       " '__eq__',\n",
       " '__float__',\n",
       " '__floordiv__',\n",
       " '__format__',\n",
       " '__ge__',\n",
       " '__getattribute__',\n",
       " '__getitem__',\n",
       " '__getstate__',\n",
       " '__gt__',\n",
       " '__hash__',\n",
       " '__iadd__',\n",
       " '__iand__',\n",
       " '__ifloordiv__',\n",
       " '__ilshift__',\n",
       " '__imatmul__',\n",
       " '__imod__',\n",
       " '__imul__',\n",
       " '__index__',\n",
       " '__init__',\n",
       " '__init_subclass__',\n",
       " '__int__',\n",
       " '__invert__',\n",
       " '__ior__',\n",
       " '__ipow__',\n",
       " '__irshift__',\n",
       " '__isub__',\n",
       " '__iter__',\n",
       " '__itruediv__',\n",
       " '__ixor__',\n",
       " '__le__',\n",
       " '__len__',\n",
       " '__lshift__',\n",
       " '__lt__',\n",
       " '__matmul__',\n",
       " '__mod__',\n",
       " '__mul__',\n",
       " '__ne__',\n",
       " '__neg__',\n",
       " '__new__',\n",
       " '__or__',\n",
       " '__pos__',\n",
       " '__pow__',\n",
       " '__radd__',\n",
       " '__rand__',\n",
       " '__rdivmod__',\n",
       " '__reduce__',\n",
       " '__reduce_ex__',\n",
       " '__repr__',\n",
       " '__rfloordiv__',\n",
       " '__rlshift__',\n",
       " '__rmatmul__',\n",
       " '__rmod__',\n",
       " '__rmul__',\n",
       " '__ror__',\n",
       " '__rpow__',\n",
       " '__rrshift__',\n",
       " '__rshift__',\n",
       " '__rsub__',\n",
       " '__rtruediv__',\n",
       " '__rxor__',\n",
       " '__setattr__',\n",
       " '__setitem__',\n",
       " '__setstate__',\n",
       " '__sizeof__',\n",
       " '__str__',\n",
       " '__sub__',\n",
       " '__subclasshook__',\n",
       " '__truediv__',\n",
       " '__xor__',\n",
       " 'all',\n",
       " 'any',\n",
       " 'argmax',\n",
       " 'argmin',\n",
       " 'argpartition',\n",
       " 'argsort',\n",
       " 'astype',\n",
       " 'base',\n",
       " 'byteswap',\n",
       " 'choose',\n",
       " 'clip',\n",
       " 'compress',\n",
       " 'conj',\n",
       " 'conjugate',\n",
       " 'copy',\n",
       " 'ctypes',\n",
       " 'cumprod',\n",
       " 'cumsum',\n",
       " 'data',\n",
       " 'device',\n",
       " 'diagonal',\n",
       " 'dot',\n",
       " 'dtype',\n",
       " 'dump',\n",
       " 'dumps',\n",
       " 'fill',\n",
       " 'flags',\n",
       " 'flat',\n",
       " 'flatten',\n",
       " 'getfield',\n",
       " 'imag',\n",
       " 'item',\n",
       " 'itemset',\n",
       " 'itemsize',\n",
       " 'mT',\n",
       " 'max',\n",
       " 'mean',\n",
       " 'min',\n",
       " 'nbytes',\n",
       " 'ndim',\n",
       " 'newbyteorder',\n",
       " 'nonzero',\n",
       " 'partition',\n",
       " 'prod',\n",
       " 'ptp',\n",
       " 'put',\n",
       " 'ravel',\n",
       " 'real',\n",
       " 'repeat',\n",
       " 'reshape',\n",
       " 'resize',\n",
       " 'round',\n",
       " 'searchsorted',\n",
       " 'setfield',\n",
       " 'setflags',\n",
       " 'shape',\n",
       " 'size',\n",
       " 'sort',\n",
       " 'squeeze',\n",
       " 'std',\n",
       " 'strides',\n",
       " 'sum',\n",
       " 'swapaxes',\n",
       " 'take',\n",
       " 'to_device',\n",
       " 'tobytes',\n",
       " 'tofile',\n",
       " 'tolist',\n",
       " 'trace',\n",
       " 'transpose',\n",
       " 'var',\n",
       " 'view']"
      ]
     },
     "execution_count": 56,
     "metadata": {},
     "output_type": "execute_result"
    }
   ],
   "source": [
    "dir(z_arr)"
   ]
  },
  {
   "cell_type": "markdown",
   "id": "02f887b9-261b-407b-a4ed-1b79b85370b4",
   "metadata": {},
   "source": [
    "# np.where\n",
    "\n",
    "np.where(condition, output if the condition id true, o/p if condition is flase)\n",
    "\n",
    "# nested where\n",
    "\n",
    "np.where(c1, o/p, np.where(c2, o/p, o/p))\n",
    "\n",
    "(vistuilzed example for both)"
   ]
  },
  {
   "cell_type": "code",
   "execution_count": 59,
   "id": "22b1909d-3705-49b2-8ba5-04b956f0c0f9",
   "metadata": {},
   "outputs": [
    {
     "data": {
      "text/plain": [
       "array([[False, False, False],\n",
       "       [False,  True,  True],\n",
       "       [ True,  True,  True],\n",
       "       [ True,  True,  True]])"
      ]
     },
     "execution_count": 59,
     "metadata": {},
     "output_type": "execute_result"
    }
   ],
   "source": [
    "np.where(arr>5, True, False)"
   ]
  },
  {
   "cell_type": "code",
   "execution_count": 60,
   "id": "f859574d-363c-46ce-a444-c08295b8912b",
   "metadata": {},
   "outputs": [
    {
     "data": {
      "text/plain": [
       "array([['Test2', 'Test2', 'Test2'],\n",
       "       ['Test2', 'Test1', 'Test1'],\n",
       "       ['Test1', 'Test1', 'Test1'],\n",
       "       ['Test1', 'Test1', 'Test1']], dtype='<U5')"
      ]
     },
     "execution_count": 60,
     "metadata": {},
     "output_type": "execute_result"
    }
   ],
   "source": [
    "np.where(arr>5, 'Test1', 'Test2')"
   ]
  },
  {
   "cell_type": "code",
   "execution_count": 61,
   "id": "0740717e-1a41-47ff-84c7-752b2d136f23",
   "metadata": {},
   "outputs": [
    {
     "data": {
      "text/plain": [
       "array([[1, 2, 3],\n",
       "       [4, 0, 0],\n",
       "       [0, 0, 0],\n",
       "       [0, 0, 0]])"
      ]
     },
     "execution_count": 61,
     "metadata": {},
     "output_type": "execute_result"
    }
   ],
   "source": [
    "np.where(arr>5, 0, arr)"
   ]
  },
  {
   "cell_type": "markdown",
   "id": "87cc7cda-6f62-4585-b46f-bd0f333e048a",
   "metadata": {},
   "source": [
    "**WAP to create a matrix of shape (5,4) and then convert the matrix into odd and even**"
   ]
  },
  {
   "cell_type": "code",
   "execution_count": 64,
   "id": "90682747-82fd-4af9-8fa5-e52734031170",
   "metadata": {},
   "outputs": [
    {
     "data": {
      "text/plain": [
       "array([['even', 'odd', 'even', 'odd'],\n",
       "       ['even', 'odd', 'even', 'odd'],\n",
       "       ['even', 'odd', 'even', 'odd'],\n",
       "       ['even', 'odd', 'even', 'odd'],\n",
       "       ['even', 'odd', 'even', 'odd']], dtype='<U4')"
      ]
     },
     "execution_count": 64,
     "metadata": {},
     "output_type": "execute_result"
    }
   ],
   "source": [
    "oe_arr = np.array(range(20)).reshape(5,4)\n",
    "\n",
    "np.where(oe_arr % 2 == 0, 'even', 'odd')"
   ]
  },
  {
   "cell_type": "code",
   "execution_count": 68,
   "id": "ea65ffec-4ccd-4869-8051-9645085bebcc",
   "metadata": {},
   "outputs": [
    {
     "data": {
      "text/plain": [
       "array([['Even', 'Odd', 'Odd', 'Even'],\n",
       "       ['Odd', 'Even', 'Even', 'Even'],\n",
       "       ['Even', 'Odd', 'Odd', 'Even'],\n",
       "       ['Odd', 'Even', 'Odd', 'Odd'],\n",
       "       ['Even', 'Even', 'Even', 'Even']], dtype='<U4')"
      ]
     },
     "execution_count": 68,
     "metadata": {},
     "output_type": "execute_result"
    }
   ],
   "source": [
    "oe_arr = np.random.randint(100, size=(5,4))\n",
    "\n",
    "np.where(oe_arr % 2 == 0, 'Even', 'Odd')"
   ]
  },
  {
   "cell_type": "code",
   "execution_count": 70,
   "id": "ccdc9faf-f3db-4e44-b32a-b8c84ca875d5",
   "metadata": {},
   "outputs": [
    {
     "data": {
      "text/plain": [
       "array([['Odd', '28', 'Even', '23'],\n",
       "       ['32', 'Even', 'Even', '37'],\n",
       "       ['Odd', '49', '3', '38'],\n",
       "       ['Odd', '42', '11', 'Odd'],\n",
       "       ['Even', 'Even', 'Odd', '27']], dtype='<U21')"
      ]
     },
     "execution_count": 70,
     "metadata": {},
     "output_type": "execute_result"
    }
   ],
   "source": [
    "# only check if the values is above 50\n",
    "oe_arr = np.random.randint(100, size=(5,4))\n",
    "np.where(oe_arr<50,oe_arr,np.where(oe_arr % 2 == 0, 'Even', 'Odd'))"
   ]
  },
  {
   "cell_type": "markdown",
   "id": "e4d81154-3e95-4cb7-9e1b-891779c7019c",
   "metadata": {},
   "source": [
    "# Functions\n",
    "\n",
    "transpose(), T -> rows to colums colums to rows\n",
    "flatten(), revel() -> convert shape to 1D\n",
    "\n"
   ]
  },
  {
   "cell_type": "code",
   "execution_count": 74,
   "id": "6b126934-05e3-4ed4-a14a-4a8b364a3ef6",
   "metadata": {},
   "outputs": [
    {
     "data": {
      "text/plain": [
       "array([[ 0,  1,  2],\n",
       "       [ 3,  4,  5],\n",
       "       [ 6,  7,  8],\n",
       "       [ 9, 10, 11]])"
      ]
     },
     "execution_count": 74,
     "metadata": {},
     "output_type": "execute_result"
    }
   ],
   "source": [
    "arr = np.array(range(12)).reshape(4,3)\n",
    "\n",
    "arr"
   ]
  },
  {
   "cell_type": "code",
   "execution_count": 75,
   "id": "e0c6aef0-627c-45fc-b50b-f8ead2b8691c",
   "metadata": {},
   "outputs": [
    {
     "data": {
      "text/plain": [
       "array([[ 0,  3,  6,  9],\n",
       "       [ 1,  4,  7, 10],\n",
       "       [ 2,  5,  8, 11]])"
      ]
     },
     "execution_count": 75,
     "metadata": {},
     "output_type": "execute_result"
    }
   ],
   "source": [
    "arr.T"
   ]
  },
  {
   "cell_type": "code",
   "execution_count": 77,
   "id": "c56399f2-e943-4dd5-b97a-0c669b29ecb0",
   "metadata": {},
   "outputs": [
    {
     "data": {
      "text/plain": [
       "array([[ 0,  3,  6,  9],\n",
       "       [ 1,  4,  7, 10],\n",
       "       [ 2,  5,  8, 11]])"
      ]
     },
     "execution_count": 77,
     "metadata": {},
     "output_type": "execute_result"
    }
   ],
   "source": [
    "arr.transpose()"
   ]
  },
  {
   "cell_type": "code",
   "execution_count": 78,
   "id": "cb7d28ce-dc97-46e9-949d-aae819fed25e",
   "metadata": {},
   "outputs": [
    {
     "data": {
      "text/plain": [
       "array([ 0,  1,  2,  3,  4,  5,  6,  7,  8,  9, 10, 11])"
      ]
     },
     "execution_count": 78,
     "metadata": {},
     "output_type": "execute_result"
    }
   ],
   "source": [
    "arr.flatten()"
   ]
  },
  {
   "cell_type": "code",
   "execution_count": 82,
   "id": "6aa2d524-6604-49fb-a386-8c60647a5597",
   "metadata": {},
   "outputs": [
    {
     "data": {
      "text/plain": [
       "array([[[[[[[[[[1, 2, 3, 4, 5]]]]]]]]]])"
      ]
     },
     "execution_count": 82,
     "metadata": {},
     "output_type": "execute_result"
    }
   ],
   "source": [
    "arr10d = np.array([[[[[[[[[[1,2,3,4,5]]]]]]]]]])\n",
    "\n",
    "arr10d"
   ]
  },
  {
   "cell_type": "code",
   "execution_count": 83,
   "id": "32b2ae89-c4ee-4b98-a05a-41327aa1b7e2",
   "metadata": {},
   "outputs": [
    {
     "data": {
      "text/plain": [
       "array([1, 2, 3, 4, 5])"
      ]
     },
     "execution_count": 83,
     "metadata": {},
     "output_type": "execute_result"
    }
   ],
   "source": [
    "arr10d.flatten()"
   ]
  },
  {
   "cell_type": "code",
   "execution_count": 84,
   "id": "ba1a54ea-60bc-4d93-abb8-16d72a268c1d",
   "metadata": {},
   "outputs": [
    {
     "data": {
      "text/plain": [
       "array([1, 2, 3, 4, 5])"
      ]
     },
     "execution_count": 84,
     "metadata": {},
     "output_type": "execute_result"
    }
   ],
   "source": [
    "arr10d.ravel()"
   ]
  },
  {
   "cell_type": "markdown",
   "id": "b7004f67-df1e-4872-abe4-15835d04df4d",
   "metadata": {},
   "source": [
    "# Oparations\n",
    "\n",
    "1. Arthamatic : +,-,*,/ etc.\n",
    "2. mathamatical oprations: add(), multiple(), divide(), dot(), subtruct().\n",
    "3. statictical: max(), min(), mean(), std(), var().\n",
    "\n",
    "vistuized examples\n"
   ]
  },
  {
   "cell_type": "code",
   "execution_count": 86,
   "id": "9b8e7366-8e53-4144-aa5a-41d8bb48b00c",
   "metadata": {},
   "outputs": [
    {
     "data": {
      "text/plain": [
       "array([[ 0,  1,  2],\n",
       "       [ 3,  4,  5],\n",
       "       [ 6,  7,  8],\n",
       "       [ 9, 10, 11]])"
      ]
     },
     "execution_count": 86,
     "metadata": {},
     "output_type": "execute_result"
    }
   ],
   "source": [
    "arr1"
   ]
  },
  {
   "cell_type": "code",
   "execution_count": 87,
   "id": "6a0c7618-bc90-40c4-bba9-d5e146a0ffa8",
   "metadata": {},
   "outputs": [
    {
     "data": {
      "text/plain": [
       "array([[  0,  10,  20],\n",
       "       [ 30,  40,  50],\n",
       "       [ 60,  70,  80],\n",
       "       [ 90, 100, 110]])"
      ]
     },
     "execution_count": 87,
     "metadata": {},
     "output_type": "execute_result"
    }
   ],
   "source": [
    "arr1*10"
   ]
  },
  {
   "cell_type": "code",
   "execution_count": 91,
   "id": "6efba091-8cf9-4507-87b9-861772ea77a0",
   "metadata": {},
   "outputs": [
    {
     "data": {
      "text/plain": [
       "array([[ 1,  2,  3],\n",
       "       [ 4,  5,  6],\n",
       "       [ 7,  8,  9],\n",
       "       [10, 11, 12]])"
      ]
     },
     "execution_count": 91,
     "metadata": {},
     "output_type": "execute_result"
    }
   ],
   "source": [
    "arr2 = np.array(range(1,13)).reshape(4,3)\n",
    "\n",
    "arr2"
   ]
  },
  {
   "cell_type": "code",
   "execution_count": 92,
   "id": "468f2f23-43c2-43df-b947-2ddfe5048872",
   "metadata": {},
   "outputs": [
    {
     "data": {
      "text/plain": [
       "array([[ 1,  3,  5],\n",
       "       [ 7,  9, 11],\n",
       "       [13, 15, 17],\n",
       "       [19, 21, 23]])"
      ]
     },
     "execution_count": 92,
     "metadata": {},
     "output_type": "execute_result"
    }
   ],
   "source": [
    "arr1+arr2"
   ]
  },
  {
   "cell_type": "code",
   "execution_count": 105,
   "id": "54dd8c32-fc1c-4493-869c-5f7c3a50be3c",
   "metadata": {},
   "outputs": [
    {
     "data": {
      "text/plain": [
       "array([[ 1. ,  1.6,  2.2,  2.8],\n",
       "       [ 3.4,  4. ,  4.6,  5.2],\n",
       "       [ 5.8,  6.4,  7. ,  7.6],\n",
       "       [ 8.2,  8.8,  9.4, 10. ]])"
      ]
     },
     "execution_count": 105,
     "metadata": {},
     "output_type": "execute_result"
    }
   ],
   "source": [
    "arr1 = np.linspace(1,10,16).reshape(4,4)\n",
    "\n",
    "arr1"
   ]
  },
  {
   "cell_type": "code",
   "execution_count": 106,
   "id": "70268cb7-2a6c-4d12-a1b1-a8c5696a47d0",
   "metadata": {},
   "outputs": [
    {
     "data": {
      "text/plain": [
       "array([[ 1,  2,  3,  4],\n",
       "       [ 5,  6,  7,  8],\n",
       "       [ 9, 10, 11, 12],\n",
       "       [13, 14, 15, 16]])"
      ]
     },
     "execution_count": 106,
     "metadata": {},
     "output_type": "execute_result"
    }
   ],
   "source": [
    "arr2 = np.array(range(1, 17)).reshape(4,4)\n",
    "\n",
    "arr2"
   ]
  },
  {
   "cell_type": "code",
   "execution_count": 107,
   "id": "636b0fc0-2041-41fc-af89-0243538b96e6",
   "metadata": {},
   "outputs": [
    {
     "data": {
      "text/plain": [
       "array([[ 90, 100, 110, 120],\n",
       "       [202, 228, 254, 280],\n",
       "       [314, 356, 398, 440],\n",
       "       [426, 484, 542, 600]])"
      ]
     },
     "execution_count": 107,
     "metadata": {},
     "output_type": "execute_result"
    }
   ],
   "source": [
    "np.dot(arr2,arr2)"
   ]
  },
  {
   "cell_type": "code",
   "execution_count": 108,
   "id": "23b3b881-7c6b-495f-9bed-0578d3db130f",
   "metadata": {},
   "outputs": [
    {
     "data": {
      "text/plain": [
       "array([[  1. ,   3.2,   6.6,  11.2],\n",
       "       [ 17. ,  24. ,  32.2,  41.6],\n",
       "       [ 52.2,  64. ,  77. ,  91.2],\n",
       "       [106.6, 123.2, 141. , 160. ]])"
      ]
     },
     "execution_count": 108,
     "metadata": {},
     "output_type": "execute_result"
    }
   ],
   "source": [
    "np.multiply(arr1, arr2)"
   ]
  },
  {
   "cell_type": "code",
   "execution_count": 109,
   "id": "0c381400-3233-455d-9212-39c0e9315271",
   "metadata": {},
   "outputs": [
    {
     "data": {
      "text/plain": [
       "np.float64(10.0)"
      ]
     },
     "execution_count": 109,
     "metadata": {},
     "output_type": "execute_result"
    }
   ],
   "source": [
    "np.max(arr1)"
   ]
  },
  {
   "cell_type": "code",
   "execution_count": 110,
   "id": "cb99ca5c-5a07-4d49-9c3b-a2c08f41b5de",
   "metadata": {},
   "outputs": [
    {
     "data": {
      "text/plain": [
       "np.float64(1.0)"
      ]
     },
     "execution_count": 110,
     "metadata": {},
     "output_type": "execute_result"
    }
   ],
   "source": [
    "np.min(arr1)"
   ]
  },
  {
   "cell_type": "code",
   "execution_count": 112,
   "id": "b2aee0a3-4cf7-4a28-8845-a1859d050f8a",
   "metadata": {},
   "outputs": [
    {
     "data": {
      "text/plain": [
       "np.float64(88.0)"
      ]
     },
     "execution_count": 112,
     "metadata": {},
     "output_type": "execute_result"
    }
   ],
   "source": [
    "np.sum(arr1)"
   ]
  },
  {
   "cell_type": "code",
   "execution_count": 113,
   "id": "63e23d31-9b77-4fc3-9e96-76516260fbf9",
   "metadata": {},
   "outputs": [
    {
     "data": {
      "text/plain": [
       "np.float64(5.5)"
      ]
     },
     "execution_count": 113,
     "metadata": {},
     "output_type": "execute_result"
    }
   ],
   "source": [
    "np.mean(arr1)"
   ]
  },
  {
   "cell_type": "code",
   "execution_count": 114,
   "id": "0978b183-c50e-4ba1-983f-e7bd1dca9c13",
   "metadata": {},
   "outputs": [
    {
     "data": {
      "text/plain": [
       "np.float64(2.7658633371878665)"
      ]
     },
     "execution_count": 114,
     "metadata": {},
     "output_type": "execute_result"
    }
   ],
   "source": [
    "np.std(arr1)"
   ]
  },
  {
   "cell_type": "code",
   "execution_count": 116,
   "id": "ea36430a-b500-45b4-8a85-8f6b969731b2",
   "metadata": {},
   "outputs": [
    {
     "data": {
      "text/plain": [
       "np.float64(7.65)"
      ]
     },
     "execution_count": 116,
     "metadata": {},
     "output_type": "execute_result"
    }
   ],
   "source": [
    "np.var(arr1)"
   ]
  },
  {
   "cell_type": "code",
   "execution_count": 127,
   "id": "5eb6717e-1257-4830-9b16-50c3c6d445a2",
   "metadata": {},
   "outputs": [
    {
     "data": {
      "text/plain": [
       "np.float64(2.8)"
      ]
     },
     "execution_count": 127,
     "metadata": {},
     "output_type": "execute_result"
    }
   ],
   "source": [
    "np.max(arr[0])"
   ]
  },
  {
   "cell_type": "code",
   "execution_count": 128,
   "id": "1df925be-9c95-4576-a7be-07022638b524",
   "metadata": {},
   "outputs": [
    {
     "data": {
      "text/plain": [
       "np.float64(36.4)"
      ]
     },
     "execution_count": 128,
     "metadata": {},
     "output_type": "execute_result"
    }
   ],
   "source": [
    "np.sum(arr[-1])"
   ]
  },
  {
   "cell_type": "code",
   "execution_count": 129,
   "id": "e7c3d35c-0149-4e7e-a934-7a69072df0e1",
   "metadata": {},
   "outputs": [
    {
     "data": {
      "text/plain": [
       "array([[ 1,  2,  3],\n",
       "       [ 4,  5,  6],\n",
       "       [ 7,  8,  9],\n",
       "       [10, 11, 12]])"
      ]
     },
     "execution_count": 129,
     "metadata": {},
     "output_type": "execute_result"
    }
   ],
   "source": [
    "arr_2d = np.array(range(1, 13)).reshape(4,3)\n",
    "\n",
    "arr_2d"
   ]
  },
  {
   "cell_type": "code",
   "execution_count": 130,
   "id": "fea8cd89-73c2-47bd-8444-d5023fb051bd",
   "metadata": {},
   "outputs": [
    {
     "name": "stdout",
     "output_type": "stream",
     "text": [
      "3.452052529534663\n"
     ]
    }
   ],
   "source": [
    "print(np.std(arr_2d))"
   ]
  },
  {
   "cell_type": "markdown",
   "id": "fb090e2e-fac5-4653-9131-79fa205619af",
   "metadata": {},
   "source": [
    "# np.nditer() -> n diamension itteration\n",
    "\n"
   ]
  },
  {
   "cell_type": "code",
   "execution_count": 136,
   "id": "0e55d26b-e807-4a4d-9820-3108b4cd6c53",
   "metadata": {},
   "outputs": [
    {
     "name": "stdout",
     "output_type": "stream",
     "text": [
      "1\n",
      "2\n",
      "3\n",
      "4\n",
      "5\n",
      "6\n",
      "7\n",
      "8\n",
      "9\n",
      "10\n",
      "11\n",
      "12\n"
     ]
    }
   ],
   "source": [
    "for i in np.nditer(arr_2d):\n",
    "    print(i)"
   ]
  },
  {
   "cell_type": "code",
   "execution_count": 139,
   "id": "367bc15e-ca9f-4a74-87ad-245161c54f67",
   "metadata": {},
   "outputs": [
    {
     "name": "stdout",
     "output_type": "stream",
     "text": [
      "1 Odd\n",
      "2 Even\n",
      "3 Odd\n",
      "4 Even\n",
      "5 Odd\n",
      "6 Even\n",
      "7 Odd\n",
      "8 Even\n",
      "9 Odd\n",
      "10 Even\n",
      "11 Odd\n",
      "12 Even\n"
     ]
    }
   ],
   "source": [
    "for i in np.nditer(arr_2d):\n",
    "    if i % 2 == 0:\n",
    "        print(i, 'Even')\n",
    "    else:\n",
    "        print(i, 'Odd')"
   ]
  },
  {
   "cell_type": "code",
   "execution_count": 141,
   "id": "d5903516-c73b-4c6b-a9f9-1075eeddcc4e",
   "metadata": {},
   "outputs": [
    {
     "data": {
      "text/plain": [
       "array([[[  1,   7],\n",
       "        [ 14,  20]],\n",
       "\n",
       "       [[ 27,  34],\n",
       "        [ 40,  47]],\n",
       "\n",
       "       [[ 53,  60],\n",
       "        [ 67,  73]],\n",
       "\n",
       "       [[ 80,  86],\n",
       "        [ 93, 100]]])"
      ]
     },
     "execution_count": 141,
     "metadata": {},
     "output_type": "execute_result"
    }
   ],
   "source": [
    "arr3d = np.linspace(1,100,16, dtype=int).reshape(4,2,2)\n",
    "\n",
    "arr3d"
   ]
  },
  {
   "cell_type": "code",
   "execution_count": null,
   "id": "ba59c7a2-33ae-42cb-af33-f7ac19f9ec91",
   "metadata": {},
   "outputs": [],
   "source": [
    "for i in np.nditer(arr3d):\n",
    "    print"
   ]
  }
 ],
 "metadata": {
  "kernelspec": {
   "display_name": "Python 3 (ipykernel)",
   "language": "python",
   "name": "python3"
  },
  "language_info": {
   "codemirror_mode": {
    "name": "ipython",
    "version": 3
   },
   "file_extension": ".py",
   "mimetype": "text/x-python",
   "name": "python",
   "nbconvert_exporter": "python",
   "pygments_lexer": "ipython3",
   "version": "3.13.5"
  }
 },
 "nbformat": 4,
 "nbformat_minor": 5
}
