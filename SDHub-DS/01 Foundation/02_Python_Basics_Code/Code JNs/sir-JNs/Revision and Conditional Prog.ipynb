{
 "cells": [
  {
   "cell_type": "markdown",
   "id": "4428bbd7",
   "metadata": {},
   "source": [
    "**WAP to receive a string from user and perform the below tasks:**\n",
    "\n",
    "- Display the string\n",
    "- Display last char\n",
    "- Display first two char\n",
    "- Display the reverse\n",
    "- Dsiplay length of string\n",
    "- Count the no. of words"
   ]
  },
  {
   "cell_type": "code",
   "execution_count": 3,
   "id": "c18ce32e",
   "metadata": {},
   "outputs": [
    {
     "name": "stdout",
     "output_type": "stream",
     "text": [
      "Please enter your string:My name is Uwaish\n",
      "Entire string is: My name is Uwaish\n",
      "Last char: h\n",
      "First two char: My\n",
      "Reverse string: hsiawU si eman yM\n",
      "Length is: 17\n",
      "No. of words: 4\n"
     ]
    }
   ],
   "source": [
    "str1 = input(\"Please enter your string:\")\n",
    "print(\"Entire string is:\",str1)\n",
    "print(\"Last char:\",str1[-1])\n",
    "print(\"First two char:\",str1[:2])\n",
    "print(\"Reverse string:\",str1[::-1])\n",
    "print(\"Length is:\",len(str1))\n",
    "print(\"No. of words:\",len(str1.split(\" \")))"
   ]
  },
  {
   "cell_type": "markdown",
   "id": "96ee7b1d",
   "metadata": {},
   "source": [
    "**WAP to create a list of first 10 natural numbers using range and perform the below tasks:**\n",
    "\n",
    "- Display the entire list\n",
    "- Display the last three ele\n",
    "- Display the total no. of ele\n",
    "- Add 100 to list\n",
    "- Delete first element"
   ]
  },
  {
   "cell_type": "code",
   "execution_count": 6,
   "id": "2e8fa7e2",
   "metadata": {},
   "outputs": [
    {
     "name": "stdout",
     "output_type": "stream",
     "text": [
      "Entire list: [1, 2, 3, 4, 5, 6, 7, 8, 9, 10]\n",
      "Last three ele: [8, 9, 10]\n",
      "Total no. of ele: 10\n",
      "After adding 100: [1, 2, 3, 4, 5, 6, 7, 8, 9, 10, 100]\n",
      "After deletion: [2, 3, 4, 5, 6, 7, 8, 9, 10, 100]\n"
     ]
    }
   ],
   "source": [
    "li = list(range(1,11))\n",
    "\n",
    "print(\"Entire list:\",li)\n",
    "print(\"Last three ele:\",li[-3:])\n",
    "print(\"Total no. of ele:\",len(li))\n",
    "\n",
    "li.append(100)\n",
    "print(\"After adding 100:\",li)\n",
    "\n",
    "li.pop(0)\n",
    "print(\"After deletion:\",li)"
   ]
  },
  {
   "cell_type": "markdown",
   "id": "d6700d7f",
   "metadata": {},
   "source": [
    "**WAP to create a tuple 50 to 60 and then display the tuple after adding your name**"
   ]
  },
  {
   "cell_type": "code",
   "execution_count": 9,
   "id": "63d6da51",
   "metadata": {},
   "outputs": [
    {
     "name": "stdout",
     "output_type": "stream",
     "text": [
      "My final tuple is: (50, 51, 52, 53, 54, 55, 56, 57, 58, 59, 60, 'Uwaish')\n",
      "Last ele is: Uwaish\n"
     ]
    }
   ],
   "source": [
    "tup = tuple(range(50,61))\n",
    "\n",
    "tup = tup+(\"Uwaish\",)\n",
    "\n",
    "print(\"My final tuple is:\",tup)\n",
    "\n",
    "print(\"Last ele is:\",tup[-1])"
   ]
  },
  {
   "cell_type": "markdown",
   "id": "bdc4cffa",
   "metadata": {},
   "source": [
    "**WAP to create a set of 70 to 80 elements and then perform the below tasks:**\n",
    "\n",
    "- Display the set\n",
    "- Add 1000 to set\n",
    "- Remove 75 from set\n",
    "- Create another set of 75 to 85 and perform union"
   ]
  },
  {
   "cell_type": "code",
   "execution_count": 12,
   "id": "c697e20d",
   "metadata": {},
   "outputs": [
    {
     "name": "stdout",
     "output_type": "stream",
     "text": [
      "My set is: {70, 71, 72, 73, 74, 75, 76, 77, 78, 79, 80}\n",
      "\n",
      "After addition: {70, 71, 72, 73, 74, 75, 76, 77, 78, 79, 80, 1000}\n",
      "\n",
      "Deletion: {70, 71, 72, 73, 74, 76, 77, 78, 79, 80, 1000}\n",
      "\n",
      "The union of both is: {70, 71, 72, 73, 74, 75, 76, 77, 78, 79, 80, 81, 82, 83, 84, 85, 1000}\n"
     ]
    }
   ],
   "source": [
    "s1 = set(range(70,81))\n",
    "print(\"My set is:\",s1)\n",
    "\n",
    "s1.add(1000)\n",
    "print(\"\\nAfter addition:\",s1)\n",
    "\n",
    "s1.remove(75)\n",
    "print(\"\\nDeletion:\",s1)\n",
    "\n",
    "s2 = set(range(75,86))\n",
    "print(\"\\nThe union of both is:\",s1.union(s2))"
   ]
  },
  {
   "cell_type": "markdown",
   "id": "f7a1251f",
   "metadata": {},
   "source": [
    "**WAP to create a dict of list which has name, course, fee , and institute as keys. perform the following tasks:**\n",
    "\n",
    "- Display the dict\n",
    "- Display the keys\n",
    "- Total count of element\n",
    "- Display the course\n",
    "- Change the second name with test\n",
    "- Add location key\n",
    "- Delete fee from the dict"
   ]
  },
  {
   "cell_type": "code",
   "execution_count": 13,
   "id": "38de54ff",
   "metadata": {},
   "outputs": [
    {
     "data": {
      "text/plain": [
       "{'Name': ['Uwaish', 'Husain', 'Aisha', 'Khan'],\n",
       " 'Course': ['M', 'M', 'F', 'F'],\n",
       " 'Fee': [1000, 2000, 3000, 4000],\n",
       " 'Institute': ['Sdhub', 'MHD', 'QS', 'TC']}"
      ]
     },
     "execution_count": 13,
     "metadata": {},
     "output_type": "execute_result"
    }
   ],
   "source": [
    "di = {'Name':['Uwaish','Husain','Aisha','Khan'],\n",
    "     'Course':['M','M','F','F'],\n",
    "     'Fee':[1000,2000,3000,4000],\n",
    "     'Institute':['Sdhub','MHD','QS','TC']}\n",
    "\n",
    "di"
   ]
  },
  {
   "cell_type": "code",
   "execution_count": 14,
   "id": "e7ee7f03",
   "metadata": {},
   "outputs": [
    {
     "name": "stdout",
     "output_type": "stream",
     "text": [
      "The keys are: dict_keys(['Name', 'Course', 'Fee', 'Institute'])\n"
     ]
    }
   ],
   "source": [
    "print(\"The keys are:\",di.keys())"
   ]
  },
  {
   "cell_type": "code",
   "execution_count": 15,
   "id": "c9341063",
   "metadata": {},
   "outputs": [
    {
     "name": "stdout",
     "output_type": "stream",
     "text": [
      "Total count of elements: 4\n"
     ]
    }
   ],
   "source": [
    "print(\"Total count of elements:\",len(di))"
   ]
  },
  {
   "cell_type": "code",
   "execution_count": 16,
   "id": "65d7eafb",
   "metadata": {},
   "outputs": [
    {
     "name": "stdout",
     "output_type": "stream",
     "text": [
      "The courses are: ['M', 'M', 'F', 'F']\n"
     ]
    }
   ],
   "source": [
    "print(\"The courses are:\",di['Course'])"
   ]
  },
  {
   "cell_type": "code",
   "execution_count": 18,
   "id": "d26f7170",
   "metadata": {},
   "outputs": [
    {
     "name": "stdout",
     "output_type": "stream",
     "text": [
      "After update: ['Uwaish', 'Test', 'Aisha', 'Khan']\n"
     ]
    }
   ],
   "source": [
    "di['Name'][1] = \"Test\"\n",
    "\n",
    "print(\"After update:\",di['Name'])"
   ]
  },
  {
   "cell_type": "code",
   "execution_count": 19,
   "id": "fdedff35",
   "metadata": {},
   "outputs": [
    {
     "data": {
      "text/plain": [
       "{'Name': ['Uwaish', 'Test', 'Aisha', 'Khan'],\n",
       " 'Course': ['M', 'M', 'F', 'F'],\n",
       " 'Fee': [1000, 2000, 3000, 4000],\n",
       " 'Institute': ['Sdhub', 'MHD', 'QS', 'TC'],\n",
       " 'Location': ['Hyd', 'Sec', 'Mbd', 'Mnr']}"
      ]
     },
     "execution_count": 19,
     "metadata": {},
     "output_type": "execute_result"
    }
   ],
   "source": [
    "di['Location'] = ['Hyd','Sec','Mbd','Mnr']\n",
    "\n",
    "di"
   ]
  },
  {
   "cell_type": "code",
   "execution_count": 20,
   "id": "6c9af24e",
   "metadata": {},
   "outputs": [
    {
     "name": "stdout",
     "output_type": "stream",
     "text": [
      "After deletion: {'Name': ['Uwaish', 'Test', 'Aisha', 'Khan'], 'Course': ['M', 'M', 'F', 'F'], 'Institute': ['Sdhub', 'MHD', 'QS', 'TC'], 'Location': ['Hyd', 'Sec', 'Mbd', 'Mnr']}\n"
     ]
    }
   ],
   "source": [
    "di.pop('Fee')\n",
    "print(\"After deletion:\",di)"
   ]
  },
  {
   "cell_type": "markdown",
   "id": "d872cfad",
   "metadata": {},
   "source": [
    "## String methods"
   ]
  },
  {
   "cell_type": "code",
   "execution_count": 21,
   "id": "ff03c97c",
   "metadata": {},
   "outputs": [
    {
     "name": "stdout",
     "output_type": "stream",
     "text": [
      "I am Uwaish and I am 28 years old\n"
     ]
    }
   ],
   "source": [
    "name = \"Uwaish\"\n",
    "age = 28\n",
    "\n",
    "print(\"I am {} and I am {} years old\".format(name,age))"
   ]
  },
  {
   "cell_type": "markdown",
   "id": "b0c4c995",
   "metadata": {},
   "source": [
    "**WAP to receive today's day and temperature and the display in the below format:**\n",
    "\n",
    "Today is Thursday and the temperature is 22 degree celsius"
   ]
  },
  {
   "cell_type": "code",
   "execution_count": 23,
   "id": "75c39e5b",
   "metadata": {},
   "outputs": [
    {
     "name": "stdout",
     "output_type": "stream",
     "text": [
      "Please enter the day:Thu\n",
      "Please enter the temperature:22\n",
      "Today is Thu and the tepmerature is 22 degree celsius\n"
     ]
    }
   ],
   "source": [
    "day = input(\"Please enter the day:\")\n",
    "temp = int(input(\"Please enter the temperature:\"))\n",
    "\n",
    "print(\"Today is {} and the tepmerature is {} degree celsius\".format(day,temp))"
   ]
  },
  {
   "cell_type": "code",
   "execution_count": 24,
   "id": "7f3cfdfe",
   "metadata": {},
   "outputs": [
    {
     "name": "stdout",
     "output_type": "stream",
     "text": [
      "Please enter the day:Thu\n",
      "Please enter the temperature:22\n",
      "Today is THU and the tepmerature is 22 degree celsius\n"
     ]
    }
   ],
   "source": [
    "day = input(\"Please enter the day:\")\n",
    "temp = int(input(\"Please enter the temperature:\"))\n",
    "\n",
    "print(\"Today is {} and the tepmerature is {} degree celsius\".format(day.upper(),temp))"
   ]
  },
  {
   "cell_type": "code",
   "execution_count": 25,
   "id": "f04660eb",
   "metadata": {},
   "outputs": [
    {
     "name": "stdout",
     "output_type": "stream",
     "text": [
      "Please enter the day:Thu\n",
      "Please enter the temperature:22\n",
      "Today is 22 and the tepmerature is Thu degree celsius\n"
     ]
    }
   ],
   "source": [
    "day = input(\"Please enter the day:\")\n",
    "temp = int(input(\"Please enter the temperature:\"))\n",
    "\n",
    "print(\"Today is {} and the tepmerature is {} degree celsius\".format(temp,day))"
   ]
  },
  {
   "cell_type": "markdown",
   "id": "9f59fb35",
   "metadata": {},
   "source": [
    "**Solve the above problem using f string method**"
   ]
  },
  {
   "cell_type": "code",
   "execution_count": 26,
   "id": "0aaf0310",
   "metadata": {},
   "outputs": [
    {
     "name": "stdout",
     "output_type": "stream",
     "text": [
      "Please enter the day:Thu\n",
      "Please enter the temperature:22\n",
      "The day is Thu and temperature will be 22.\n"
     ]
    }
   ],
   "source": [
    "day = input(\"Please enter the day:\")\n",
    "temp = int(input(\"Please enter the temperature:\"))\n",
    "\n",
    "print(f\"The day is {day} and temperature will be {temp}.\")"
   ]
  },
  {
   "cell_type": "markdown",
   "id": "86c6b6f4",
   "metadata": {},
   "source": [
    "## Conditional programming"
   ]
  },
  {
   "cell_type": "markdown",
   "id": "cbeb8a06",
   "metadata": {},
   "source": [
    "**WAP to check whether the given number is odd or even**"
   ]
  },
  {
   "cell_type": "code",
   "execution_count": 27,
   "id": "517b6a5b",
   "metadata": {},
   "outputs": [
    {
     "name": "stdout",
     "output_type": "stream",
     "text": [
      "Please enter a number:3\n",
      "The number is odd\n"
     ]
    }
   ],
   "source": [
    "num = int(input(\"Please enter a number:\"))\n",
    "\n",
    "if num%2 == 0:\n",
    "    \n",
    "    print(\"The number is even\")\n",
    "    \n",
    "else:\n",
    "    \n",
    "    print(\"The number is odd\")"
   ]
  },
  {
   "cell_type": "markdown",
   "id": "869c8dce",
   "metadata": {},
   "source": [
    "**WAP to receive a name from user and then check whether it starts with A or not**"
   ]
  },
  {
   "cell_type": "code",
   "execution_count": 29,
   "id": "4dca174b",
   "metadata": {},
   "outputs": [
    {
     "name": "stdout",
     "output_type": "stream",
     "text": [
      "Please enter your name:avinash\n",
      "It does not starts with A\n"
     ]
    }
   ],
   "source": [
    "name = input(\"Please enter your name:\")\n",
    "\n",
    "if name[0] == \"A\":   # name.startswith('A')\n",
    "    \n",
    "    print(\"Name starts with A\")\n",
    "    \n",
    "else:\n",
    "    \n",
    "    print(\"It does not starts with A\")"
   ]
  },
  {
   "cell_type": "code",
   "execution_count": 31,
   "id": "883d7006",
   "metadata": {},
   "outputs": [
    {
     "name": "stdout",
     "output_type": "stream",
     "text": [
      "Please enter your name:Anu\n",
      "Name starts with A\n"
     ]
    }
   ],
   "source": [
    "name = input(\"Please enter your name:\")\n",
    "\n",
    "if name[0].upper() == \"A\":   # name.startswith('A')\n",
    "    \n",
    "    print(\"Name starts with A\")\n",
    "    \n",
    "else:\n",
    "    \n",
    "    print(\"It does not starts with A\")"
   ]
  },
  {
   "cell_type": "markdown",
   "id": "89736a73",
   "metadata": {},
   "source": [
    "**WAP to check whether a number is greater than 10 or not. Also check if it is even**"
   ]
  },
  {
   "cell_type": "code",
   "execution_count": 34,
   "id": "0d82b28f",
   "metadata": {},
   "outputs": [
    {
     "name": "stdout",
     "output_type": "stream",
     "text": [
      "Please enter a number:12\n",
      "The number is greater than 10!\n",
      "The number is even!\n"
     ]
    }
   ],
   "source": [
    "num = int(input(\"Please enter a number:\"))\n",
    "\n",
    "if num>10:\n",
    "    \n",
    "    print(\"The number is greater than 10!\")\n",
    "    \n",
    "if num%2==0:\n",
    "    \n",
    "    print(\"The number is even!\")"
   ]
  },
  {
   "cell_type": "markdown",
   "id": "4fe0742f",
   "metadata": {},
   "source": [
    "**WAP to receive user's name and age. Check if the user is adult, name contains more than 5 character, and name starts with 'U'**"
   ]
  },
  {
   "cell_type": "code",
   "execution_count": 37,
   "id": "f0059ac3",
   "metadata": {},
   "outputs": [
    {
     "name": "stdout",
     "output_type": "stream",
     "text": [
      "Please enter your name:Anu\n",
      "Please enter your age:18\n",
      "The user is Adult.\n"
     ]
    }
   ],
   "source": [
    "name = input(\"Please enter your name:\")\n",
    "\n",
    "age = int(input(\"Please enter your age:\"))\n",
    "\n",
    "if age>=18:\n",
    "    \n",
    "    print(\"The user is Adult.\")\n",
    "    \n",
    "if len(name)>5:\n",
    "    \n",
    "    print(\"Name length is greater than 5.\")\n",
    "    \n",
    "if name[0]=='U':\n",
    "    \n",
    "    print(\"Name starts with 'U'.\")"
   ]
  },
  {
   "cell_type": "markdown",
   "id": "c378ab0f",
   "metadata": {},
   "source": [
    "### ToDo: Solve all the above problems one more time"
   ]
  }
 ],
 "metadata": {
  "kernelspec": {
   "display_name": "Python 3 (ipykernel)",
   "language": "python",
   "name": "python3"
  },
  "language_info": {
   "codemirror_mode": {
    "name": "ipython",
    "version": 3
   },
   "file_extension": ".py",
   "mimetype": "text/x-python",
   "name": "python",
   "nbconvert_exporter": "python",
   "pygments_lexer": "ipython3",
   "version": "3.11.5"
  }
 },
 "nbformat": 4,
 "nbformat_minor": 5
}
