{
 "cells": [
  {
   "cell_type": "code",
   "execution_count": 1,
   "id": "4ab76a01",
   "metadata": {},
   "outputs": [
    {
     "data": {
      "text/plain": [
       "'Python is a programming language'"
      ]
     },
     "execution_count": 1,
     "metadata": {},
     "output_type": "execute_result"
    }
   ],
   "source": [
    "sen = \"Python is a programming language\"\n",
    "\n",
    "sen"
   ]
  },
  {
   "cell_type": "code",
   "execution_count": 2,
   "id": "54c27ba7",
   "metadata": {},
   "outputs": [
    {
     "data": {
      "text/plain": [
       "str"
      ]
     },
     "execution_count": 2,
     "metadata": {},
     "output_type": "execute_result"
    }
   ],
   "source": [
    "type(sen)"
   ]
  },
  {
   "cell_type": "code",
   "execution_count": 3,
   "id": "efbc9ceb",
   "metadata": {},
   "outputs": [
    {
     "data": {
      "text/plain": [
       "'e'"
      ]
     },
     "execution_count": 3,
     "metadata": {},
     "output_type": "execute_result"
    }
   ],
   "source": [
    "# display last char\n",
    "\n",
    "sen[-1]"
   ]
  },
  {
   "cell_type": "code",
   "execution_count": 4,
   "id": "4d46ff23",
   "metadata": {},
   "outputs": [
    {
     "data": {
      "text/plain": [
       "'Pyt'"
      ]
     },
     "execution_count": 4,
     "metadata": {},
     "output_type": "execute_result"
    }
   ],
   "source": [
    "# display firsth three char\n",
    "\n",
    "sen[0:3]"
   ]
  },
  {
   "cell_type": "code",
   "execution_count": 5,
   "id": "c608651f",
   "metadata": {},
   "outputs": [
    {
     "data": {
      "text/plain": [
       "'Pyt'"
      ]
     },
     "execution_count": 5,
     "metadata": {},
     "output_type": "execute_result"
    }
   ],
   "source": [
    "sen[:3]"
   ]
  },
  {
   "cell_type": "code",
   "execution_count": 6,
   "id": "740ffc66",
   "metadata": {},
   "outputs": [
    {
     "data": {
      "text/plain": [
       "'hon is a programming language'"
      ]
     },
     "execution_count": 6,
     "metadata": {},
     "output_type": "execute_result"
    }
   ],
   "source": [
    "sen[3:]"
   ]
  },
  {
   "cell_type": "code",
   "execution_count": 7,
   "id": "2ca5ca36",
   "metadata": {},
   "outputs": [
    {
     "data": {
      "text/plain": [
       "'Python is a programming language'"
      ]
     },
     "execution_count": 7,
     "metadata": {},
     "output_type": "execute_result"
    }
   ],
   "source": [
    "sen[:]"
   ]
  },
  {
   "cell_type": "code",
   "execution_count": 11,
   "id": "5c195c29",
   "metadata": {},
   "outputs": [
    {
     "data": {
      "text/plain": [
       "'Ph  pgmnlgg'"
      ]
     },
     "execution_count": 11,
     "metadata": {},
     "output_type": "execute_result"
    }
   ],
   "source": [
    "# skipping two char\n",
    "\n",
    "sen[::3]"
   ]
  },
  {
   "cell_type": "code",
   "execution_count": 12,
   "id": "201e5bc1",
   "metadata": {},
   "outputs": [
    {
     "data": {
      "text/plain": [
       "'egaugnal gnimmargorp a si nohtyP'"
      ]
     },
     "execution_count": 12,
     "metadata": {},
     "output_type": "execute_result"
    }
   ],
   "source": [
    "sen[::-1]"
   ]
  },
  {
   "cell_type": "code",
   "execution_count": 13,
   "id": "a84771af",
   "metadata": {},
   "outputs": [
    {
     "data": {
      "text/plain": [
       "'Python is a programming language'"
      ]
     },
     "execution_count": 13,
     "metadata": {},
     "output_type": "execute_result"
    }
   ],
   "source": [
    "sen"
   ]
  },
  {
   "cell_type": "markdown",
   "id": "cee2d337",
   "metadata": {},
   "source": [
    "## Special function"
   ]
  },
  {
   "cell_type": "code",
   "execution_count": 14,
   "id": "f8c5aa7e",
   "metadata": {},
   "outputs": [
    {
     "data": {
      "text/plain": [
       "32"
      ]
     },
     "execution_count": 14,
     "metadata": {},
     "output_type": "execute_result"
    }
   ],
   "source": [
    "# display the length\n",
    "\n",
    "len(sen)"
   ]
  },
  {
   "cell_type": "code",
   "execution_count": 16,
   "id": "19f74c06",
   "metadata": {},
   "outputs": [
    {
     "data": {
      "text/plain": [
       "1"
      ]
     },
     "execution_count": 16,
     "metadata": {},
     "output_type": "execute_result"
    }
   ],
   "source": [
    "# display the no. of 'p' in the sentence\n",
    "\n",
    "sen.count('p')"
   ]
  },
  {
   "cell_type": "code",
   "execution_count": 19,
   "id": "8e88cc33",
   "metadata": {},
   "outputs": [
    {
     "data": {
      "text/plain": [
       "'python is a programming language'"
      ]
     },
     "execution_count": 19,
     "metadata": {},
     "output_type": "execute_result"
    }
   ],
   "source": [
    "sen.lower()"
   ]
  },
  {
   "cell_type": "code",
   "execution_count": 20,
   "id": "f853c46c",
   "metadata": {},
   "outputs": [
    {
     "data": {
      "text/plain": [
       "'PYTHON IS A PROGRAMMING LANGUAGE'"
      ]
     },
     "execution_count": 20,
     "metadata": {},
     "output_type": "execute_result"
    }
   ],
   "source": [
    "sen.upper()"
   ]
  },
  {
   "cell_type": "code",
   "execution_count": 21,
   "id": "b8c16f2f",
   "metadata": {},
   "outputs": [
    {
     "data": {
      "text/plain": [
       "'Python Is A Programming Language'"
      ]
     },
     "execution_count": 21,
     "metadata": {},
     "output_type": "execute_result"
    }
   ],
   "source": [
    "sen.title()"
   ]
  },
  {
   "cell_type": "code",
   "execution_count": 22,
   "id": "aa960b65",
   "metadata": {},
   "outputs": [
    {
     "data": {
      "text/plain": [
       "'Python is a programming language'"
      ]
     },
     "execution_count": 22,
     "metadata": {},
     "output_type": "execute_result"
    }
   ],
   "source": [
    "sen.capitalize()"
   ]
  },
  {
   "cell_type": "code",
   "execution_count": 23,
   "id": "86efab5c",
   "metadata": {},
   "outputs": [
    {
     "data": {
      "text/plain": [
       "'$Uwaish$'"
      ]
     },
     "execution_count": 23,
     "metadata": {},
     "output_type": "execute_result"
    }
   ],
   "source": [
    "name = \"$Uwaish$\"\n",
    "\n",
    "name"
   ]
  },
  {
   "cell_type": "code",
   "execution_count": 24,
   "id": "7199ab03",
   "metadata": {},
   "outputs": [
    {
     "data": {
      "text/plain": [
       "'Uwaish'"
      ]
     },
     "execution_count": 24,
     "metadata": {},
     "output_type": "execute_result"
    }
   ],
   "source": [
    "name.strip('$')"
   ]
  },
  {
   "cell_type": "code",
   "execution_count": 25,
   "id": "bef87b53",
   "metadata": {},
   "outputs": [
    {
     "data": {
      "text/plain": [
       "'Uwaish'"
      ]
     },
     "execution_count": 25,
     "metadata": {},
     "output_type": "execute_result"
    }
   ],
   "source": [
    "name = \"Mr. Uwaish\"\n",
    "\n",
    "name.strip('Mr. ')"
   ]
  },
  {
   "cell_type": "code",
   "execution_count": 26,
   "id": "428e6f57",
   "metadata": {},
   "outputs": [
    {
     "data": {
      "text/plain": [
       "'Python is a programming language'"
      ]
     },
     "execution_count": 26,
     "metadata": {},
     "output_type": "execute_result"
    }
   ],
   "source": [
    "sen"
   ]
  },
  {
   "cell_type": "code",
   "execution_count": 27,
   "id": "e49d5cd0",
   "metadata": {},
   "outputs": [
    {
     "data": {
      "text/plain": [
       "['Python', 'is', 'a', 'programming', 'language']"
      ]
     },
     "execution_count": 27,
     "metadata": {},
     "output_type": "execute_result"
    }
   ],
   "source": [
    "# display the count of words\n",
    "\n",
    "sen.split(\" \")"
   ]
  },
  {
   "cell_type": "code",
   "execution_count": 28,
   "id": "80afdfde",
   "metadata": {},
   "outputs": [
    {
     "data": {
      "text/plain": [
       "5"
      ]
     },
     "execution_count": 28,
     "metadata": {},
     "output_type": "execute_result"
    }
   ],
   "source": [
    "len(sen.split(\" \"))"
   ]
  },
  {
   "cell_type": "code",
   "execution_count": 30,
   "id": "043b013e",
   "metadata": {},
   "outputs": [
    {
     "data": {
      "text/plain": [
       "5"
      ]
     },
     "execution_count": 30,
     "metadata": {},
     "output_type": "execute_result"
    }
   ],
   "source": [
    "sen.count(\" \")+1"
   ]
  },
  {
   "cell_type": "code",
   "execution_count": 31,
   "id": "8754911e",
   "metadata": {},
   "outputs": [
    {
     "data": {
      "text/plain": [
       "'Python is a programming language'"
      ]
     },
     "execution_count": 31,
     "metadata": {},
     "output_type": "execute_result"
    }
   ],
   "source": [
    "sen"
   ]
  },
  {
   "cell_type": "code",
   "execution_count": 32,
   "id": "ba601d7f",
   "metadata": {},
   "outputs": [
    {
     "data": {
      "text/plain": [
       "7"
      ]
     },
     "execution_count": 32,
     "metadata": {},
     "output_type": "execute_result"
    }
   ],
   "source": [
    "sen.find('is')"
   ]
  },
  {
   "cell_type": "code",
   "execution_count": 33,
   "id": "cef7076d",
   "metadata": {},
   "outputs": [
    {
     "data": {
      "text/plain": [
       "'is'"
      ]
     },
     "execution_count": 33,
     "metadata": {},
     "output_type": "execute_result"
    }
   ],
   "source": [
    "sen[7:9]"
   ]
  },
  {
   "cell_type": "markdown",
   "id": "ee09c35a",
   "metadata": {},
   "source": [
    "**WAP to display name of user and its company from the given email**\n",
    "\n",
    "email = 'uwaish@sdhub.in'"
   ]
  },
  {
   "cell_type": "code",
   "execution_count": 34,
   "id": "b974c69e",
   "metadata": {},
   "outputs": [
    {
     "data": {
      "text/plain": [
       "'uwaish'"
      ]
     },
     "execution_count": 34,
     "metadata": {},
     "output_type": "execute_result"
    }
   ],
   "source": [
    "email = 'uwaish@sdhub.in'\n",
    "\n",
    "email[:email.find('@')]"
   ]
  },
  {
   "cell_type": "code",
   "execution_count": 36,
   "id": "fb1885a1",
   "metadata": {},
   "outputs": [
    {
     "name": "stdout",
     "output_type": "stream",
     "text": [
      "Your name is: Uwaish\n",
      "Your company is: Sdhub\n"
     ]
    }
   ],
   "source": [
    "name = email[:email.find('@')]\n",
    "\n",
    "company = email[email.find('@')+1:email.find('.')]\n",
    "\n",
    "print(\"Your name is:\",name.title())\n",
    "print(\"Your company is:\",company.title())"
   ]
  },
  {
   "cell_type": "code",
   "execution_count": 37,
   "id": "244e9f3b",
   "metadata": {},
   "outputs": [
    {
     "data": {
      "text/plain": [
       "6"
      ]
     },
     "execution_count": 37,
     "metadata": {},
     "output_type": "execute_result"
    }
   ],
   "source": [
    "# position of @\n",
    "\n",
    "email.find('@')"
   ]
  },
  {
   "cell_type": "code",
   "execution_count": 38,
   "id": "1c7f10f5",
   "metadata": {},
   "outputs": [
    {
     "data": {
      "text/plain": [
       "'Python'"
      ]
     },
     "execution_count": 38,
     "metadata": {},
     "output_type": "execute_result"
    }
   ],
   "source": [
    "# display Python from sentence\n",
    "\n",
    "s1 = \"Use Python for Machine Learning\"\n",
    "\n",
    "s1[s1.find(\"Python\"):s1.find(\"Python\")+6]  #dynamic"
   ]
  },
  {
   "cell_type": "code",
   "execution_count": 39,
   "id": "c12d8d11",
   "metadata": {},
   "outputs": [
    {
     "data": {
      "text/plain": [
       "4"
      ]
     },
     "execution_count": 39,
     "metadata": {},
     "output_type": "execute_result"
    }
   ],
   "source": [
    "s1.find(\"Python\")"
   ]
  },
  {
   "cell_type": "code",
   "execution_count": 40,
   "id": "f7899010",
   "metadata": {},
   "outputs": [
    {
     "data": {
      "text/plain": [
       "'Python'"
      ]
     },
     "execution_count": 40,
     "metadata": {},
     "output_type": "execute_result"
    }
   ],
   "source": [
    "s1[4:4+6]   #static"
   ]
  },
  {
   "cell_type": "code",
   "execution_count": 42,
   "id": "581fbf41",
   "metadata": {},
   "outputs": [
    {
     "name": "stdout",
     "output_type": "stream",
     "text": [
      "Please enter your emailuwaihhusain@gamil.com\n"
     ]
    },
    {
     "data": {
      "text/plain": [
       "'uwaihhusain'"
      ]
     },
     "execution_count": 42,
     "metadata": {},
     "output_type": "execute_result"
    }
   ],
   "source": [
    "email = input(\"Please enter your email\")\n",
    "\n",
    "start = 0\n",
    "\n",
    "end_pos = email.find('@')\n",
    "\n",
    "email[start:end_pos]"
   ]
  },
  {
   "cell_type": "markdown",
   "id": "0f4d3f73",
   "metadata": {},
   "source": [
    "## List"
   ]
  },
  {
   "cell_type": "code",
   "execution_count": 45,
   "id": "7e893f91",
   "metadata": {},
   "outputs": [
    {
     "data": {
      "text/plain": [
       "list"
      ]
     },
     "execution_count": 45,
     "metadata": {},
     "output_type": "execute_result"
    }
   ],
   "source": [
    "li1 = [10,20,30]\n",
    "\n",
    "type(li1)"
   ]
  },
  {
   "cell_type": "code",
   "execution_count": 46,
   "id": "fa8113c5",
   "metadata": {},
   "outputs": [
    {
     "data": {
      "text/plain": [
       "list"
      ]
     },
     "execution_count": 46,
     "metadata": {},
     "output_type": "execute_result"
    }
   ],
   "source": [
    "li2 = list((10,20,30,40))\n",
    "\n",
    "type(li2)"
   ]
  },
  {
   "cell_type": "code",
   "execution_count": 48,
   "id": "8e09aef5",
   "metadata": {},
   "outputs": [
    {
     "data": {
      "text/plain": [
       "[10, 20, 30]"
      ]
     },
     "execution_count": 48,
     "metadata": {},
     "output_type": "execute_result"
    }
   ],
   "source": [
    "li1"
   ]
  },
  {
   "cell_type": "code",
   "execution_count": 49,
   "id": "099e9603",
   "metadata": {},
   "outputs": [
    {
     "data": {
      "text/plain": [
       "[10, 20, 30, 40]"
      ]
     },
     "execution_count": 49,
     "metadata": {},
     "output_type": "execute_result"
    }
   ],
   "source": [
    "li2"
   ]
  },
  {
   "cell_type": "code",
   "execution_count": 50,
   "id": "3d6df89e",
   "metadata": {},
   "outputs": [
    {
     "data": {
      "text/plain": [
       "list"
      ]
     },
     "execution_count": 50,
     "metadata": {},
     "output_type": "execute_result"
    }
   ],
   "source": [
    "li = [\"Uwaish\",28,45,67]\n",
    "\n",
    "type(li)"
   ]
  },
  {
   "cell_type": "code",
   "execution_count": 51,
   "id": "48ca9608",
   "metadata": {},
   "outputs": [
    {
     "data": {
      "text/plain": [
       "[10, 11, 12, 13, 14]"
      ]
     },
     "execution_count": 51,
     "metadata": {},
     "output_type": "execute_result"
    }
   ],
   "source": [
    "li = list(range(10,15))\n",
    "\n",
    "li"
   ]
  },
  {
   "cell_type": "markdown",
   "id": "98135821",
   "metadata": {},
   "source": [
    "**WAP to create a list between 50 and 100 and perform the below tasks:**\n",
    "\n",
    "- Display the entire list\n",
    "- Display the last element\n",
    "- Dsiplay the elements between 90 to 100\n",
    "- Display last three elements\n",
    "- Display list in reverse\n",
    "- Display list by skipping odd numbers"
   ]
  },
  {
   "cell_type": "code",
   "execution_count": 52,
   "id": "a9d72784",
   "metadata": {},
   "outputs": [
    {
     "name": "stdout",
     "output_type": "stream",
     "text": [
      "Original list: [50, 51, 52, 53, 54, 55, 56, 57, 58, 59, 60, 61, 62, 63, 64, 65, 66, 67, 68, 69, 70, 71, 72, 73, 74, 75, 76, 77, 78, 79, 80, 81, 82, 83, 84, 85, 86, 87, 88, 89, 90, 91, 92, 93, 94, 95, 96, 97, 98, 99, 100]\n"
     ]
    }
   ],
   "source": [
    "li = list(range(50,101))\n",
    "\n",
    "print(\"Original list:\",li)"
   ]
  },
  {
   "cell_type": "code",
   "execution_count": 58,
   "id": "f418f18b",
   "metadata": {},
   "outputs": [
    {
     "name": "stdout",
     "output_type": "stream",
     "text": [
      "Last element: 100\n",
      "\n",
      "90 to 100 element: [91, 92, 93, 94, 95, 96, 97, 98, 99, 100]\n",
      "\n",
      "Last 3 ele: [98, 99, 100]\n",
      "\n",
      "Reverse list: [100, 99, 98, 97, 96, 95, 94, 93, 92, 91, 90, 89, 88, 87, 86, 85, 84, 83, 82, 81, 80, 79, 78, 77, 76, 75, 74, 73, 72, 71, 70, 69, 68, 67, 66, 65, 64, 63, 62, 61, 60, 59, 58, 57, 56, 55, 54, 53, 52, 51, 50]\n",
      "\n",
      "Skipping odd numbers: [50, 52, 54, 56, 58, 60, 62, 64, 66, 68, 70, 72, 74, 76, 78, 80, 82, 84, 86, 88, 90, 92, 94, 96, 98, 100]\n"
     ]
    }
   ],
   "source": [
    "print(\"Last element:\",li[-1])\n",
    "print(\"\\n90 to 100 element:\",li[-10:])\n",
    "print(\"\\nLast 3 ele:\",li[-3:])\n",
    "print(\"\\nReverse list:\",li[::-1])\n",
    "print(\"\\nSkipping odd numbers:\",li[0::2])"
   ]
  },
  {
   "cell_type": "code",
   "execution_count": 53,
   "id": "4890eaa4",
   "metadata": {},
   "outputs": [
    {
     "ename": "AttributeError",
     "evalue": "'list' object has no attribute 'find'",
     "output_type": "error",
     "traceback": [
      "\u001b[1;31m---------------------------------------------------------------------------\u001b[0m",
      "\u001b[1;31mAttributeError\u001b[0m                            Traceback (most recent call last)",
      "Cell \u001b[1;32mIn[53], line 1\u001b[0m\n\u001b[1;32m----> 1\u001b[0m li\u001b[38;5;241m.\u001b[39mfind(\u001b[38;5;241m90\u001b[39m)\n",
      "\u001b[1;31mAttributeError\u001b[0m: 'list' object has no attribute 'find'"
     ]
    }
   ],
   "source": [
    "li.find(90)  # string method"
   ]
  },
  {
   "cell_type": "code",
   "execution_count": 61,
   "id": "f85d794b",
   "metadata": {},
   "outputs": [
    {
     "data": {
      "text/plain": [
       "[10, 20, 30, 40, 50, 'Uwaish']"
      ]
     },
     "execution_count": 61,
     "metadata": {},
     "output_type": "execute_result"
    }
   ],
   "source": [
    "li= [10,20,30,40,50]\n",
    "\n",
    "# add byour name to list\n",
    "\n",
    "li.append(\"Uwaish\")\n",
    "\n",
    "li"
   ]
  },
  {
   "cell_type": "code",
   "execution_count": 62,
   "id": "8eb1bdf5",
   "metadata": {},
   "outputs": [
    {
     "data": {
      "text/plain": [
       "[10, 20, 30, 40, 50, 'Uwaish', 50]"
      ]
     },
     "execution_count": 62,
     "metadata": {},
     "output_type": "execute_result"
    }
   ],
   "source": [
    "li.append(50)\n",
    "li"
   ]
  },
  {
   "cell_type": "code",
   "execution_count": 65,
   "id": "cfa2269c",
   "metadata": {},
   "outputs": [
    {
     "data": {
      "text/plain": [
       "'Uwaish'"
      ]
     },
     "execution_count": 65,
     "metadata": {},
     "output_type": "execute_result"
    }
   ],
   "source": [
    "# deleting name from the list\n",
    "\n",
    "li.pop(5)"
   ]
  },
  {
   "cell_type": "code",
   "execution_count": 66,
   "id": "d6188b28",
   "metadata": {},
   "outputs": [
    {
     "data": {
      "text/plain": [
       "[10, 20, 30, 40, 50, 50]"
      ]
     },
     "execution_count": 66,
     "metadata": {},
     "output_type": "execute_result"
    }
   ],
   "source": [
    "li"
   ]
  },
  {
   "cell_type": "code",
   "execution_count": 68,
   "id": "7609386c",
   "metadata": {},
   "outputs": [
    {
     "data": {
      "text/plain": [
       "4"
      ]
     },
     "execution_count": 68,
     "metadata": {},
     "output_type": "execute_result"
    }
   ],
   "source": [
    "li.index(50)  # to know the index position of 50"
   ]
  },
  {
   "cell_type": "code",
   "execution_count": 69,
   "id": "f8e2cbf6",
   "metadata": {},
   "outputs": [
    {
     "data": {
      "text/plain": [
       "50"
      ]
     },
     "execution_count": 69,
     "metadata": {},
     "output_type": "execute_result"
    }
   ],
   "source": [
    "# modifying a value\n",
    "\n",
    "li[-1]"
   ]
  },
  {
   "cell_type": "code",
   "execution_count": 70,
   "id": "9ca3ab43",
   "metadata": {},
   "outputs": [
    {
     "data": {
      "text/plain": [
       "[10, 20, 30, 40, 50, 60]"
      ]
     },
     "execution_count": 70,
     "metadata": {},
     "output_type": "execute_result"
    }
   ],
   "source": [
    "li[-1] = 60\n",
    "\n",
    "li"
   ]
  },
  {
   "cell_type": "code",
   "execution_count": 71,
   "id": "720b7904",
   "metadata": {},
   "outputs": [
    {
     "data": {
      "text/plain": [
       "[1, 2, 3, 4, 6, 7, 8, 9]"
      ]
     },
     "execution_count": 71,
     "metadata": {},
     "output_type": "execute_result"
    }
   ],
   "source": [
    "li1 = [1,2,3,4]\n",
    "li2 = [6,7,8,9]\n",
    "\n",
    "li1+li2"
   ]
  },
  {
   "cell_type": "code",
   "execution_count": 72,
   "id": "2e226a51",
   "metadata": {},
   "outputs": [
    {
     "data": {
      "text/plain": [
       "6"
      ]
     },
     "execution_count": 72,
     "metadata": {},
     "output_type": "execute_result"
    }
   ],
   "source": [
    "# to count the elements\n",
    "\n",
    "len(li)"
   ]
  },
  {
   "cell_type": "markdown",
   "id": "fc1b1370",
   "metadata": {},
   "source": [
    "**ToDo: Tuple**"
   ]
  },
  {
   "cell_type": "markdown",
   "id": "c6d780f1",
   "metadata": {},
   "source": [
    "**List inside another list**"
   ]
  },
  {
   "cell_type": "code",
   "execution_count": null,
   "id": "b77b13b6",
   "metadata": {},
   "outputs": [],
   "source": []
  }
 ],
 "metadata": {
  "kernelspec": {
   "display_name": "Python 3 (ipykernel)",
   "language": "python",
   "name": "python3"
  },
  "language_info": {
   "codemirror_mode": {
    "name": "ipython",
    "version": 3
   },
   "file_extension": ".py",
   "mimetype": "text/x-python",
   "name": "python",
   "nbconvert_exporter": "python",
   "pygments_lexer": "ipython3",
   "version": "3.11.5"
  }
 },
 "nbformat": 4,
 "nbformat_minor": 5
}
