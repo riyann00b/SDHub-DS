{
 "cells": [
  {
   "cell_type": "markdown",
   "id": "9dafacb7",
   "metadata": {},
   "source": [
    "**WAP to grade students based on their score**"
   ]
  },
  {
   "cell_type": "code",
   "execution_count": 3,
   "id": "1323df36",
   "metadata": {},
   "outputs": [
    {
     "name": "stdout",
     "output_type": "stream",
     "text": [
      "Please enter your score:78\n",
      "Pass with I Division!\n"
     ]
    }
   ],
   "source": [
    "score = int(input(\"Please enter your score:\"))\n",
    "\n",
    "if score<33:\n",
    "    \n",
    "    print(\"Fail!\")\n",
    "    \n",
    "elif score>33 and score<60:\n",
    "    \n",
    "    print(\"Pass with II Division!\")\n",
    "    \n",
    "elif score>60:\n",
    "    \n",
    "    print(\"Pass with I Division!\")"
   ]
  },
  {
   "cell_type": "markdown",
   "id": "d4102016",
   "metadata": {},
   "source": [
    "**WAP to ask user to enter their age and if user is adult then ask for their name, if name starts with a vowel then welcome them or else do not allow them!**"
   ]
  },
  {
   "cell_type": "code",
   "execution_count": 5,
   "id": "06626713",
   "metadata": {},
   "outputs": [
    {
     "name": "stdout",
     "output_type": "stream",
     "text": [
      "Please enter your age:13\n",
      "You are not adult!\n"
     ]
    }
   ],
   "source": [
    "age = int(input(\"Please enter your age:\"))\n",
    "\n",
    "if age>18:\n",
    "    print(\"You are an adult!\")\n",
    "    \n",
    "    name = input(\"Please enter your name:\")\n",
    "    \n",
    "    if name[0].lower() in 'aeiou':\n",
    "        print(\"You are allowed!\")\n",
    "        \n",
    "    else:\n",
    "        print(\"You are not allowed!\")\n",
    "        \n",
    "else:\n",
    "    print(\"You are not adult!\")"
   ]
  },
  {
   "cell_type": "markdown",
   "id": "d601f25b",
   "metadata": {},
   "source": [
    "**WAP to receive any number from user and if the number is even then ask user to enter their interest if user enters cricket then allow him to play or else ask him to practice cricket**"
   ]
  },
  {
   "cell_type": "code",
   "execution_count": 8,
   "id": "340a5b7c",
   "metadata": {},
   "outputs": [
    {
     "name": "stdout",
     "output_type": "stream",
     "text": [
      "Please enter a number:3\n",
      "The entered number is odd!\n"
     ]
    }
   ],
   "source": [
    "num = int(input(\"Please enter a number:\"))\n",
    "\n",
    "if num%2==0:\n",
    "    print(\"The entered number is even!\")\n",
    "    \n",
    "    interest = input(\"Please enter your interest in games:\")\n",
    "    \n",
    "    if interest.lower() == 'cricket':\n",
    "        print(\"You are allowed to play!\")\n",
    "        \n",
    "    else: \n",
    "        print(\"Please practice cricket!\")\n",
    "        \n",
    "else:\n",
    "    print(\"The entered number is odd!\")"
   ]
  },
  {
   "cell_type": "markdown",
   "id": "be69c647",
   "metadata": {},
   "source": [
    "**WAP to ask user to create a password for a device and then ask user to enter the password and show the message device is unlocked (if password is correct). When the device is unlocked the ask user to dial a call and if the number count is 10 the display calling else please check the mobile number**"
   ]
  },
  {
   "cell_type": "code",
   "execution_count": 12,
   "id": "775d1584",
   "metadata": {},
   "outputs": [
    {
     "name": "stdout",
     "output_type": "stream",
     "text": [
      "Please create a password:123\n",
      "Password created successfully!\n",
      "Please enter your password to unlock the device:123\n",
      "Your device is unlocked!\n",
      "Please enter the mobile number to dial:1234567890\n",
      "Calling...\n"
     ]
    }
   ],
   "source": [
    "pass1 = input(\"Please create a password:\")\n",
    "\n",
    "print(\"Password created successfully!\")\n",
    "\n",
    "pass2 = input(\"Please enter your password to unlock the device:\")\n",
    "\n",
    "if pass2 == pass1:\n",
    "    print(\"Your device is unlocked!\")\n",
    "    \n",
    "    mob_num = input(\"Please enter the mobile number to dial:\")\n",
    "    if len(mob_num) ==10:\n",
    "        print(\"Calling...\")    \n",
    "    else:\n",
    "        print(\"Please check the mobile number!\")\n",
    "    \n",
    "else:\n",
    "    print(\"Please enter the correct password!\")"
   ]
  },
  {
   "cell_type": "markdown",
   "id": "90f471ca",
   "metadata": {},
   "source": [
    "user = [\"Uwaish\",'Sahil','Kamal','Aisha','Shehnaz']\n",
    "\n",
    "**WAP to ask user to enter ther name if the user belongs to above list then ask user to enter their score and grade them into Excellent, Good, Bad.**"
   ]
  },
  {
   "cell_type": "code",
   "execution_count": 13,
   "id": "b6ae7616",
   "metadata": {},
   "outputs": [
    {
     "name": "stdout",
     "output_type": "stream",
     "text": [
      "Please enter your name:Sahil\n",
      "Your belong here...\n",
      "Please enter your score:56\n",
      "Good!\n"
     ]
    }
   ],
   "source": [
    "user = [\"Uwaish\",'Sahil','Kamal','Aisha','Shehnaz']\n",
    "\n",
    "name = input(\"Please enter your name:\")\n",
    "\n",
    "if name.title() in user:\n",
    "    print(\"Your belong here...\")\n",
    "    \n",
    "    score = int(input(\"Please enter your score:\"))\n",
    "    \n",
    "    if score<33:\n",
    "        print(\"Bad!\")\n",
    "    \n",
    "    elif score>33 and score<60:\n",
    "        print(\"Good!\")\n",
    "    \n",
    "    elif score>60:\n",
    "        print(\"Excellent!\")"
   ]
  },
  {
   "cell_type": "markdown",
   "id": "8569bcc3",
   "metadata": {},
   "source": [
    "### Shorthand Notation"
   ]
  },
  {
   "cell_type": "code",
   "execution_count": 16,
   "id": "3e53e438",
   "metadata": {},
   "outputs": [
    {
     "name": "stdout",
     "output_type": "stream",
     "text": [
      "Please enter the number:23\n"
     ]
    },
    {
     "data": {
      "text/plain": [
       "'odd'"
      ]
     },
     "execution_count": 16,
     "metadata": {},
     "output_type": "execute_result"
    }
   ],
   "source": [
    "num = int(input(\"Please enter the number:\"))\n",
    "\n",
    "'even' if num%2==0 else 'odd'"
   ]
  },
  {
   "cell_type": "code",
   "execution_count": 17,
   "id": "b5476d57",
   "metadata": {},
   "outputs": [
    {
     "name": "stdout",
     "output_type": "stream",
     "text": [
      "Please enter the number:32\n",
      "even\n"
     ]
    }
   ],
   "source": [
    "num = int(input(\"Please enter the number:\"))\n",
    "\n",
    "res = 'even' if num%2==0 else 'odd'\n",
    "\n",
    "print(res)"
   ]
  },
  {
   "cell_type": "markdown",
   "id": "e49f7662",
   "metadata": {},
   "source": [
    "**WAP to calculate square of a number if it is even and cube if it is odd** use short-hand notaion"
   ]
  },
  {
   "cell_type": "code",
   "execution_count": 18,
   "id": "9e6f13d6",
   "metadata": {},
   "outputs": [
    {
     "name": "stdout",
     "output_type": "stream",
     "text": [
      "Please enter a number:3\n",
      "The result is: 27\n"
     ]
    }
   ],
   "source": [
    "num = int(input(\"Please enter a number:\"))\n",
    "\n",
    "res = num**2 if num%2==0 else num**3\n",
    "\n",
    "print(\"The result is:\",res)"
   ]
  },
  {
   "cell_type": "markdown",
   "id": "7b4998c3",
   "metadata": {},
   "source": [
    "**WAP to receive name from user and then display the length if name is staring with 'A' else diplay the name**"
   ]
  },
  {
   "cell_type": "code",
   "execution_count": 20,
   "id": "40f8ee88",
   "metadata": {},
   "outputs": [
    {
     "name": "stdout",
     "output_type": "stream",
     "text": [
      "Please enter your name:Aisha\n",
      "Length of name is: 5\n"
     ]
    }
   ],
   "source": [
    "name = input(\"Please enter your name:\")\n",
    "\n",
    "if name[0].upper() == 'A':\n",
    "    print(\"Length of name is:\",len(name))\n",
    "    \n",
    "else:\n",
    "    print(\"The name is:\",name)"
   ]
  },
  {
   "cell_type": "code",
   "execution_count": 23,
   "id": "fe0cb8e4",
   "metadata": {},
   "outputs": [
    {
     "name": "stdout",
     "output_type": "stream",
     "text": [
      "Please enter your name:Uwaish\n",
      "Uwaish\n"
     ]
    }
   ],
   "source": [
    "name = input(\"Please enter your name:\")\n",
    "\n",
    "res = len(name) if name[0].upper()=='A' else name\n",
    "\n",
    "print(res)"
   ]
  },
  {
   "cell_type": "code",
   "execution_count": null,
   "id": "a0736589",
   "metadata": {},
   "outputs": [],
   "source": []
  }
 ],
 "metadata": {
  "kernelspec": {
   "display_name": "Python 3 (ipykernel)",
   "language": "python",
   "name": "python3"
  },
  "language_info": {
   "codemirror_mode": {
    "name": "ipython",
    "version": 3
   },
   "file_extension": ".py",
   "mimetype": "text/x-python",
   "name": "python",
   "nbconvert_exporter": "python",
   "pygments_lexer": "ipython3",
   "version": "3.11.5"
  }
 },
 "nbformat": 4,
 "nbformat_minor": 5
}
