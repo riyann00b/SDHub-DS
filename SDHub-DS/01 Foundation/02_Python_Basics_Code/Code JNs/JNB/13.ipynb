{
 "cells": [
  {
   "cell_type": "markdown",
   "id": "fe175a6b-d0da-483e-b394-b0b3351e390c",
   "metadata": {},
   "source": [
    "# User-Defined Functions (UDF) – 6 Questions"
   ]
  },
  {
   "cell_type": "code",
   "execution_count": 2,
   "id": "93058dc2-b82b-4199-af26-ae7b921c93a9",
   "metadata": {},
   "outputs": [
    {
     "name": "stdin",
     "output_type": "stream",
     "text": [
      "Enter a Number:  12\n"
     ]
    },
    {
     "name": "stdout",
     "output_type": "stream",
     "text": [
      "144\n"
     ]
    }
   ],
   "source": [
    "# Create a function that takes a number and returns its square.\n",
    "\n",
    "def sq():\n",
    "    user = int(input(\"Enter a Number: \"))\n",
    "    sqr = user ** 2\n",
    "    print(sqr)\n",
    "\n",
    "sq()"
   ]
  },
  {
   "cell_type": "code",
   "execution_count": 5,
   "id": "813625b5-df68-4139-8286-3d3a870cdbc3",
   "metadata": {},
   "outputs": [
    {
     "name": "stdin",
     "output_type": "stream",
     "text": [
      "Please Enter your name:  riyan\n"
     ]
    },
    {
     "name": "stdout",
     "output_type": "stream",
     "text": [
      "Hello, Riyan!\n"
     ]
    }
   ],
   "source": [
    "# Write a function that takes a name and returns a greeting message like “Hello, John!”.\n",
    "\n",
    "def name():\n",
    "    name = input(\"Please Enter your name: \")\n",
    "    print(f\"Hello, {name.title()}!\")\n",
    "\n",
    "name()"
   ]
  },
  {
   "cell_type": "code",
   "execution_count": 7,
   "id": "9934f738-e386-4d0d-95c2-752dcb3203b8",
   "metadata": {},
   "outputs": [
    {
     "name": "stdout",
     "output_type": "stream",
     "text": [
      "[2, 4, 6]\n"
     ]
    }
   ],
   "source": [
    "# Create a function that accepts a list of numbers and returns only the even numbers.\n",
    "\n",
    "def even_numbers(numbers):\n",
    "    return [num for num in numbers if num % 2 == 0]\n",
    "\n",
    "my_list = [1, 2, 3, 4, 5, 6]\n",
    "even_numbers = even_numbers(my_list)\n",
    "print(even_numbers)\n"
   ]
  },
  {
   "cell_type": "code",
   "execution_count": 10,
   "id": "b11e0535-722f-4ca1-8278-74d7ba36089e",
   "metadata": {},
   "outputs": [
    {
     "name": "stdin",
     "output_type": "stream",
     "text": [
      "Enter a String:  madam\n"
     ]
    },
    {
     "name": "stdout",
     "output_type": "stream",
     "text": [
      "it is a palindrome\n"
     ]
    }
   ],
   "source": [
    "# Write a function to check whether a given string is a palindrome or not.\n",
    "\n",
    "# a word, phrase, or sequence that reads the same backwards as forwards, e.g. madam or nurses run.\n",
    "\n",
    "def palindrome():\n",
    "    pal = input(\"Enter a String: \")\n",
    "    if pal == pal[::-1]:\n",
    "        print(\"it is a palindrome\")\n",
    "    else:\n",
    "        print(\"it is not\")\n",
    "\n",
    "\n",
    "palindrome()"
   ]
  },
  {
   "cell_type": "code",
   "execution_count": 24,
   "id": "86e41505-8cfa-4605-aab8-7db266db4b5b",
   "metadata": {},
   "outputs": [
    {
     "name": "stdout",
     "output_type": "stream",
     "text": [
      "5040\n"
     ]
    }
   ],
   "source": [
    "# Create a function that calculates the factorial of a number (without using recursion).\n",
    "\n",
    "def fecto(n):\n",
    "    res = 1\n",
    "    for i in range(1 , n+1):\n",
    "        res *= i\n",
    "    print(res)\n",
    "\n",
    "\n",
    "\n",
    "fecto(7)"
   ]
  },
  {
   "cell_type": "code",
   "execution_count": 25,
   "id": "c45ae121-5b7b-4087-88b5-3f503c5a80e5",
   "metadata": {},
   "outputs": [
    {
     "data": {
      "text/plain": [
       "131.0"
      ]
     },
     "execution_count": 25,
     "metadata": {},
     "output_type": "execute_result"
    }
   ],
   "source": [
    "# Define a function that accepts a temperature in Celsius and returns it in Fahrenheit. 9/5 + 32\n",
    "\n",
    "def tem(number):\n",
    "    return number * 9 / 5 + 32\n",
    "\n",
    "tem(number)"
   ]
  },
  {
   "cell_type": "markdown",
   "id": "39b75d27-fde5-4a2f-ac68-e0cd916a1bbf",
   "metadata": {},
   "source": [
    "# Lambda Functions – 5 Questions"
   ]
  },
  {
   "cell_type": "code",
   "execution_count": 62,
   "id": "43876f36-f44d-418f-af66-46368b3417e6",
   "metadata": {},
   "outputs": [
    {
     "name": "stdout",
     "output_type": "stream",
     "text": [
      "25\n"
     ]
    }
   ],
   "source": [
    "# Write a lambda function to find the square of a number.\n",
    "\n",
    "sqr = lambda sq: sq ** 2\n",
    "\n",
    "result = sqr(5)\n",
    "print(result) \n",
    "\n"
   ]
  },
  {
   "cell_type": "code",
   "execution_count": 67,
   "id": "0d235c4f-6fd4-41ec-9c3b-662de7dbf49f",
   "metadata": {},
   "outputs": [
    {
     "name": "stdout",
     "output_type": "stream",
     "text": [
      "[1, 3, 5]\n"
     ]
    }
   ],
   "source": [
    "# Use lambda to filter out all odd numbers from a list.\n",
    "\n",
    "li = [1, 2, 3, 4, 5]\n",
    "res = list(filter(lambda num: num % 2 != 0, li))\n",
    "print(res)"
   ]
  },
  {
   "cell_type": "code",
   "execution_count": null,
   "id": "929db44d-ceab-4ef7-a476-bbac73810340",
   "metadata": {},
   "outputs": [],
   "source": []
  },
  {
   "cell_type": "code",
   "execution_count": null,
   "id": "3b10f67e-d430-473f-aea1-50a73dbfb645",
   "metadata": {},
   "outputs": [],
   "source": []
  },
  {
   "cell_type": "code",
   "execution_count": null,
   "id": "429227a1-4eb3-4b2c-b61e-0416a2086e13",
   "metadata": {},
   "outputs": [],
   "source": []
  },
  {
   "cell_type": "markdown",
   "id": "662c9949-f6cd-4933-a577-e322af123787",
   "metadata": {
    "jp-MarkdownHeadingCollapsed": true
   },
   "source": [
    "# map() Function – 4 Questions"
   ]
  },
  {
   "cell_type": "markdown",
   "id": "0b580437-1e0c-422e-892a-b9a89335914d",
   "metadata": {},
   "source": [
    "# Class "
   ]
  },
  {
   "cell_type": "markdown",
   "id": "4edd85ec-6152-4363-8946-403e35ad5e1b",
   "metadata": {
    "jp-MarkdownHeadingCollapsed": true
   },
   "source": [
    "class vs defination\n",
    "making a class\n",
    "\n",
    "```python\n",
    "class class_name:\n",
    "    pass\n",
    "```\n",
    "\n",
    "EXAMPLE :\n",
    "> class humen\n",
    "> faiz = humen()\n",
    ">   "
   ]
  },
  {
   "cell_type": "code",
   "execution_count": 49,
   "id": "d2153ed0-14e7-4da1-a046-0b1b1d2f0d73",
   "metadata": {},
   "outputs": [],
   "source": [
    "# EXAMPLE :\n",
    "\n",
    "class humen:\n",
    "    pass"
   ]
  },
  {
   "cell_type": "code",
   "execution_count": 50,
   "id": "09a1feb5-d8d4-4571-bd51-a31b8f13dc6b",
   "metadata": {},
   "outputs": [],
   "source": [
    "obj = humen()"
   ]
  },
  {
   "cell_type": "code",
   "execution_count": 51,
   "id": "26ba506e-7e23-4862-b4de-501c49479ed4",
   "metadata": {},
   "outputs": [],
   "source": [
    "class humen():\n",
    "    def talk(self):\n",
    "        print(\"i can talk\")\n",
    "    def walk(self):\n",
    "        print(\"i can walk\")\n",
    "\n"
   ]
  },
  {
   "cell_type": "code",
   "execution_count": 52,
   "id": "0b4494ac-d69c-4f9f-aede-57fdeb13eaa4",
   "metadata": {},
   "outputs": [
    {
     "name": "stdout",
     "output_type": "stream",
     "text": [
      "i can talk\n"
     ]
    }
   ],
   "source": [
    "faiz = humen()\n",
    "\n",
    "faiz.talk()"
   ]
  },
  {
   "cell_type": "code",
   "execution_count": 53,
   "id": "dc3d6fd0-2229-4039-acf8-8a121ee12eb5",
   "metadata": {},
   "outputs": [],
   "source": [
    "class humen:\n",
    "    def __init__(self, name, colour):\n",
    "        self.name = name\n",
    "        self.colour = colour\n",
    "\n",
    "    def info(self):\n",
    "        print(\"Name\", self.name)\n",
    "        print(\"colour\", self.colour)\n",
    "\n",
    "\n",
    "riyan = humen(\"riyan\",\"green\")"
   ]
  },
  {
   "cell_type": "code",
   "execution_count": 54,
   "id": "47db0c0c-c4f9-467c-b7c1-6c8cffdc5f62",
   "metadata": {},
   "outputs": [
    {
     "data": {
      "text/plain": [
       "'green'"
      ]
     },
     "execution_count": 54,
     "metadata": {},
     "output_type": "execute_result"
    }
   ],
   "source": [
    "riyan.colour"
   ]
  },
  {
   "cell_type": "code",
   "execution_count": 55,
   "id": "0d52df08-37f2-4257-9093-83085f16ff70",
   "metadata": {},
   "outputs": [],
   "source": [
    "sohail = humen(\"pohail\", \"blue\")"
   ]
  },
  {
   "cell_type": "code",
   "execution_count": 56,
   "id": "95a0a58b-2b0d-4f76-9575-4e0dae96b46e",
   "metadata": {},
   "outputs": [
    {
     "name": "stdout",
     "output_type": "stream",
     "text": [
      "Name pohail\n",
      "colour blue\n"
     ]
    }
   ],
   "source": [
    "sohail.info()"
   ]
  },
  {
   "cell_type": "code",
   "execution_count": 58,
   "id": "88132add-2dfe-46f0-93e1-cfbf26b3bb6b",
   "metadata": {},
   "outputs": [],
   "source": [
    "\n",
    "class bank:\n",
    "    def __init__ (self, AC_No, Name, DoB, Mobile, ID, Branch, Amount):\n",
    "        self.AC_No = AC_No \n",
    "        self.Name = Name\n",
    "        self.DoB = DoB \n",
    "        self.Mobile = Mobile\n",
    "        self.ID = ID\n",
    "        self.Branch = Branch\n",
    "        self.Amount = Amount\n",
    "\n",
    "    def info(self):\n",
    "        print(\"User info\")\n",
    "        print(\"Name: \", self.name)\n",
    "        print(\"Account number: \", self.AC_No)\n",
    "        print(\"Date of birth: \", self.DoB)\n",
    "        print(\"Mobile Number: \", self.Mobile)\n",
    "        print(\"User ID: \", self.ID)\n",
    "        print(\"Branch: \" , self.Branch)\n",
    "        print(\"Amount: \" , self.Amount)\n",
    "\n",
    "#===========================================================================================================================================\n"
   ]
  },
  {
   "cell_type": "code",
   "execution_count": null,
   "id": "992d8859-2c93-4766-b363-34dc34226e1a",
   "metadata": {},
   "outputs": [],
   "source": []
  }
 ],
 "metadata": {
  "kernelspec": {
   "display_name": "Python 3 (ipykernel)",
   "language": "python",
   "name": "python3"
  },
  "language_info": {
   "codemirror_mode": {
    "name": "ipython",
    "version": 3
   },
   "file_extension": ".py",
   "mimetype": "text/x-python",
   "name": "python",
   "nbconvert_exporter": "python",
   "pygments_lexer": "ipython3",
   "version": "3.13.5"
  }
 },
 "nbformat": 4,
 "nbformat_minor": 5
}
