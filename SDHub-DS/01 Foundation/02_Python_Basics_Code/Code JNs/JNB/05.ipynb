{
 "cells": [
  {
   "cell_type": "markdown",
   "id": "8a10a210-6fae-4a7a-aa68-f4d2c31e6c8b",
   "metadata": {},
   "source": [
    "# tuples"
   ]
  },
  {
   "cell_type": "markdown",
   "id": "016b2946-fdf7-458a-82bd-a1b8c0f81be5",
   "metadata": {},
   "source": [
    "## **WAP to create a tuple and perform below tasl**\n",
    "1. display the first else\n",
    "2. display the last ele\n",
    "3. display the last two ele\n",
    "4. add your name to tuple"
   ]
  },
  {
   "cell_type": "code",
   "execution_count": 14,
   "id": "0676c236-9478-43bf-bac6-7026aa2b234a",
   "metadata": {},
   "outputs": [
    {
     "name": "stdout",
     "output_type": "stream",
     "text": [
      "first element: 1\n",
      "last element: 5\n",
      "last 2 element: (4, 5)\n",
      "(1, 2, 3, 4, 5, 'Riyan')\n"
     ]
    }
   ],
   "source": [
    "tup1 = (1,2,3,4,5)\n",
    "\n",
    "print(\"first element:\", tup1[0])\n",
    "print(\"last element:\", tup1[-1])\n",
    "print(\"last 2 element:\", tup1[-2:])\n",
    "\n",
    "tupl2 = tup1+(\"Riyan\",)\n",
    "print(tupl2)"
   ]
  },
  {
   "cell_type": "code",
   "execution_count": 15,
   "id": "8b7fcdb5-5ee7-4e2c-b32b-a2c93bbf65e7",
   "metadata": {},
   "outputs": [
    {
     "name": "stdout",
     "output_type": "stream",
     "text": [
      "(0, 1, 2, 3, 4, 5, 6, 7, 8, 9, 10, 11, 12, 13, 14, 15, 16, 17, 18, 19, 20, 21, 22, 23, 24, 25, 26, 27, 28, 29, 30, 31, 32, 33, 34, 35, 36, 37, 38, 39, 40, 41, 42, 43, 44, 45, 46, 47, 48, 49, 50, 51, 52, 53, 54, 55, 56, 57, 58, 59, 60, 61, 62, 63, 64, 65, 66, 67, 68, 69, 70, 71, 72, 73, 74, 75, 76, 77, 78, 79, 80, 81, 82, 83, 84, 85, 86, 87, 88, 89, 90, 91, 92, 93, 94, 95, 96, 97, 98, 99)\n"
     ]
    }
   ],
   "source": [
    "tup = tuple(range(0,100))\n",
    "print(tup)"
   ]
  },
  {
   "cell_type": "markdown",
   "id": "93204929-910f-4831-9f45-9ee5ff48ddb5",
   "metadata": {},
   "source": [
    "# Sets"
   ]
  },
  {
   "cell_type": "code",
   "execution_count": 17,
   "id": "3a514eab-b5f6-4af0-bae4-6235e3e08c99",
   "metadata": {},
   "outputs": [
    {
     "name": "stdout",
     "output_type": "stream",
     "text": [
      "{0, 1, 2, 3, 4, 5, 6, 7, 8, 9, 10, 11, 12, 13, 14, 15, 16, 17, 18, 19, 20, 21, 22, 23, 24, 25, 26, 27, 28, 29, 30, 31, 32, 33, 34, 35, 36, 37, 38, 39, 40, 41, 42, 43, 44, 45, 46, 47, 48, 49}\n"
     ]
    }
   ],
   "source": [
    "s1 = set(range(0,50))\n",
    "print(s1)"
   ]
  },
  {
   "cell_type": "code",
   "execution_count": 18,
   "id": "fc33ec04-b8c5-4119-b42d-0d9e89958909",
   "metadata": {},
   "outputs": [],
   "source": [
    "s1.add(50)"
   ]
  },
  {
   "cell_type": "code",
   "execution_count": 19,
   "id": "d4165b4c-9beb-42ff-b757-2243615d93b2",
   "metadata": {},
   "outputs": [
    {
     "name": "stdout",
     "output_type": "stream",
     "text": [
      "{0, 1, 2, 3, 4, 5, 6, 7, 8, 9, 10, 11, 12, 13, 14, 15, 16, 17, 18, 19, 20, 21, 22, 23, 24, 25, 26, 27, 28, 29, 30, 31, 32, 33, 34, 35, 36, 37, 38, 39, 40, 41, 42, 43, 44, 45, 46, 47, 48, 49, 50}\n"
     ]
    }
   ],
   "source": [
    "print(s1)"
   ]
  },
  {
   "cell_type": "code",
   "execution_count": 20,
   "id": "10b2d8e7-0a97-41af-b553-9225567c81cc",
   "metadata": {},
   "outputs": [],
   "source": [
    "s2 = {1,2,2,1,5,5,7}"
   ]
  },
  {
   "cell_type": "code",
   "execution_count": 21,
   "id": "a2fdb129-8276-4d7b-b6eb-5c6c8de8982f",
   "metadata": {},
   "outputs": [
    {
     "name": "stdout",
     "output_type": "stream",
     "text": [
      "{1, 2, 5, 7}\n"
     ]
    }
   ],
   "source": [
    "print(s2)"
   ]
  },
  {
   "cell_type": "code",
   "execution_count": 23,
   "id": "a1ea1c41-9457-453c-ba9c-59a54bdd86c2",
   "metadata": {},
   "outputs": [
    {
     "ename": "TypeError",
     "evalue": "'set' object is not subscriptable",
     "output_type": "error",
     "traceback": [
      "\u001b[31m---------------------------------------------------------------------------\u001b[39m",
      "\u001b[31mTypeError\u001b[39m                                 Traceback (most recent call last)",
      "\u001b[36mCell\u001b[39m\u001b[36m \u001b[39m\u001b[32mIn[23]\u001b[39m\u001b[32m, line 1\u001b[39m\n\u001b[32m----> \u001b[39m\u001b[32m1\u001b[39m \u001b[43ms2\u001b[49m\u001b[43m[\u001b[49m\u001b[32;43m0\u001b[39;49m\u001b[43m]\u001b[49m\n",
      "\u001b[31mTypeError\u001b[39m: 'set' object is not subscriptable"
     ]
    }
   ],
   "source": [
    "s2[0]"
   ]
  },
  {
   "cell_type": "code",
   "execution_count": 24,
   "id": "796125bb-def1-4ad1-a6aa-9b0b2a98f984",
   "metadata": {},
   "outputs": [],
   "source": [
    "s1.remove(50)"
   ]
  },
  {
   "cell_type": "code",
   "execution_count": 26,
   "id": "468c2e7d-67bd-485d-af08-58ae8242f00e",
   "metadata": {},
   "outputs": [
    {
     "name": "stdout",
     "output_type": "stream",
     "text": [
      "{0, 1, 2, 3, 4, 5, 6, 7, 8, 9, 10, 11, 12, 13, 14, 15, 16, 17, 18, 19, 20, 21, 22, 23, 24, 25, 26, 27, 28, 29, 30, 31, 32, 33, 34, 35, 36, 37, 38, 39, 40, 41, 42, 43, 44, 45, 46, 47, 48, 49}\n"
     ]
    }
   ],
   "source": [
    "print(s1)"
   ]
  },
  {
   "cell_type": "code",
   "execution_count": 27,
   "id": "92fe8ace-8e04-459f-8369-79f107d07d31",
   "metadata": {},
   "outputs": [
    {
     "name": "stdout",
     "output_type": "stream",
     "text": [
      "{10, 11, 12, 13, 14, 15, 16, 17, 18, 19}\n",
      "{1, 2, 5, 7}\n"
     ]
    }
   ],
   "source": [
    "s1 = set(range(5,15))\n",
    "s1 = set(range(10,20))\n",
    "\n",
    "print(s1)\n",
    "print(s2)\n"
   ]
  },
  {
   "cell_type": "code",
   "execution_count": 28,
   "id": "42181618-cbea-422f-ac82-2a7c64c4cb1b",
   "metadata": {},
   "outputs": [
    {
     "data": {
      "text/plain": [
       "{1, 2, 5, 7, 10, 11, 12, 13, 14, 15, 16, 17, 18, 19}"
      ]
     },
     "execution_count": 28,
     "metadata": {},
     "output_type": "execute_result"
    }
   ],
   "source": [
    "s1.union(s2)"
   ]
  },
  {
   "cell_type": "code",
   "execution_count": 29,
   "id": "6b9f0ff2-6118-4ad1-a5c3-4b5799ebe1f1",
   "metadata": {},
   "outputs": [
    {
     "data": {
      "text/plain": [
       "set()"
      ]
     },
     "execution_count": 29,
     "metadata": {},
     "output_type": "execute_result"
    }
   ],
   "source": [
    "s1.intersection(s2)"
   ]
  },
  {
   "cell_type": "code",
   "execution_count": 30,
   "id": "839177ae-5cef-400c-8265-4966b392a36f",
   "metadata": {},
   "outputs": [
    {
     "data": {
      "text/plain": [
       "{10, 11, 12, 13, 14, 15, 16, 17, 18, 19}"
      ]
     },
     "execution_count": 30,
     "metadata": {},
     "output_type": "execute_result"
    }
   ],
   "source": [
    "s1.difference(s2)"
   ]
  },
  {
   "cell_type": "markdown",
   "id": "96544275-7f35-4d67-8422-bc512da192fb",
   "metadata": {},
   "source": [
    "### **WAP to create a set of numbers from 50 to 100 and then perform below task**\n",
    "1. display entire set\n",
    "2. add your name to set\n",
    "3. delete 67 from set\n",
    "4. create another set of 70 to 120 and perfrom union, intersection and diffrence operation"
   ]
  },
  {
   "cell_type": "code",
   "execution_count": 38,
   "id": "05d09229-24c6-436f-9236-54956995c420",
   "metadata": {},
   "outputs": [
    {
     "name": "stdout",
     "output_type": "stream",
     "text": [
      "{50, 51, 52, 53, 54, 55, 56, 57, 58, 59, 60, 61, 62, 63, 64, 65, 66, 67, 68, 69, 70, 71, 72, 73, 74, 75, 76, 77, 78, 79, 80, 81, 82, 83, 84, 85, 86, 87, 88, 89, 90, 91, 92, 93, 94, 95, 96, 97, 98, 99}\n",
      "{'Riyan', 50, 51, 52, 53, 54, 55, 56, 57, 58, 59, 60, 61, 62, 63, 64, 65, 66, 67, 68, 69, 70, 71, 72, 73, 74, 75, 76, 77, 78, 79, 80, 81, 82, 83, 84, 85, 86, 87, 88, 89, 90, 91, 92, 93, 94, 95, 96, 97, 98, 99}\n",
      "\n",
      "removeed 67 {'Riyan', 50, 51, 52, 53, 54, 55, 56, 57, 58, 59, 60, 61, 62, 63, 64, 65, 66, 68, 69, 70, 71, 72, 73, 74, 75, 76, 77, 78, 79, 80, 81, 82, 83, 84, 85, 86, 87, 88, 89, 90, 91, 92, 93, 94, 95, 96, 97, 98, 99}\n",
      "\n",
      "added set {70, 71, 72, 73, 74, 75, 76, 77, 78, 79, 80, 81, 82, 83, 84, 85, 86, 87, 88, 89, 90, 91, 92, 93, 94, 95, 96, 97, 98, 99, 100, 101, 102, 103, 104, 105, 106, 107, 108, 109, 110, 111, 112, 113, 114, 115, 116, 117, 118, 119}\n"
     ]
    }
   ],
   "source": [
    "s = set(range(50, 100))\n",
    "\n",
    "print(s)\n",
    "\n",
    "s.add(\"Riyan\")\n",
    "\n",
    "print(s)\n",
    "\n",
    "s.remove(67)\n",
    "\n",
    "print(\"\\nremoveed 67\", s)\n",
    "\n",
    "\n",
    "s1 = set(range(70, 120))\n",
    "\n",
    "print(\"\\nadded set\", s1)"
   ]
  },
  {
   "cell_type": "code",
   "execution_count": 39,
   "id": "03d8c339-7a68-45b1-9106-3a20b9171945",
   "metadata": {},
   "outputs": [
    {
     "name": "stdout",
     "output_type": "stream",
     "text": [
      "{50, 51, 52, 53, 54, 55, 56, 57, 58, 59, 60, 61, 62, 63, 64, 65, 66, 68, 69, 70, 71, 72, 73, 74, 75, 76, 77, 78, 79, 80, 81, 82, 83, 84, 85, 86, 87, 88, 89, 90, 91, 92, 93, 94, 95, 96, 97, 98, 99, 100, 101, 102, 103, 104, 105, 106, 107, 108, 109, 110, 111, 112, 113, 114, 115, 116, 117, 118, 119, 'Riyan'}\n"
     ]
    }
   ],
   "source": [
    "print(s.union(s1))"
   ]
  },
  {
   "cell_type": "code",
   "execution_count": 40,
   "id": "186372c9-cef4-47e2-b8c3-69cc83bc40a8",
   "metadata": {},
   "outputs": [
    {
     "name": "stdout",
     "output_type": "stream",
     "text": [
      "{70, 71, 72, 73, 74, 75, 76, 77, 78, 79, 80, 81, 82, 83, 84, 85, 86, 87, 88, 89, 90, 91, 92, 93, 94, 95, 96, 97, 98, 99}\n"
     ]
    }
   ],
   "source": [
    "print(s.intersection(s1))"
   ]
  },
  {
   "cell_type": "code",
   "execution_count": 41,
   "id": "eb34c874-34b2-41a5-8839-abddb5d5fafd",
   "metadata": {},
   "outputs": [
    {
     "name": "stdout",
     "output_type": "stream",
     "text": [
      "{'Riyan', 50, 51, 52, 53, 54, 55, 56, 57, 58, 59, 60, 61, 62, 63, 64, 65, 66, 68, 69}\n"
     ]
    }
   ],
   "source": [
    "print(s.difference(s1))"
   ]
  },
  {
   "cell_type": "code",
   "execution_count": 52,
   "id": "2994137a-78d6-4692-874e-78b77975538c",
   "metadata": {},
   "outputs": [
    {
     "name": "stdout",
     "output_type": "stream",
     "text": [
      "[40, 10, 50, 20, 60, 30]\n",
      "<class 'list'>\n"
     ]
    }
   ],
   "source": [
    "li1 = [10,20,30,40]\n",
    "\n",
    "li2 = [30, 40, 50, 60]\n",
    "\n",
    "s =  set(li1)\n",
    "\n",
    "type(s)\n",
    "\n",
    "s2 = set(li2)\n",
    "\n",
    "type(s2)\n",
    "\n",
    "s3 = s.union(s2)\n",
    "\n",
    "s4  = list(s3)\n",
    "\n",
    "print(s4)\n",
    "\n",
    "print(type(s4))"
   ]
  },
  {
   "cell_type": "code",
   "execution_count": 59,
   "id": "1710aac2-fbb0-45b3-8917-5c048cce5cf3",
   "metadata": {},
   "outputs": [
    {
     "name": "stdout",
     "output_type": "stream",
     "text": [
      "all ele:  [10, 20, 30, 40, 30, 40, 50, 60]\n",
      "{40, 10, 50, 20, 60, 30}\n",
      "[40, 10, 50, 20, 60, 30]\n"
     ]
    }
   ],
   "source": [
    "li1 = [10,20,30,40]\n",
    "\n",
    "li2 = [30, 40, 50, 60]\n",
    "\n",
    "li3 = li1+li2\n",
    "\n",
    "print(\"all ele: \", li3)\n",
    "\n",
    "s1 =  set(li3)\n",
    "\n",
    "print(s1)\n",
    "\n",
    "print(list(s1))"
   ]
  },
  {
   "cell_type": "markdown",
   "id": "2b97df70-6784-4c5b-810f-8916f5ba1669",
   "metadata": {},
   "source": [
    "# Dictionary"
   ]
  },
  {
   "cell_type": "code",
   "execution_count": 66,
   "id": "4fb343b3-8a54-4398-b336-55ff630cdb3c",
   "metadata": {},
   "outputs": [
    {
     "data": {
      "text/plain": [
       "{'age': [20, 22, 25]}"
      ]
     },
     "execution_count": 66,
     "metadata": {},
     "output_type": "execute_result"
    }
   ],
   "source": [
    "dic =  {'name': ['riyan', 'sohail', 'faizaan']}\n",
    "\n",
    "dic2 =  {'age': [20, 22, 25]}\n",
    "\n",
    "dic2"
   ]
  },
  {
   "cell_type": "markdown",
   "id": "76d5e1bb-0de2-4667-9265-b3a2436ad497",
   "metadata": {},
   "source": [
    "# **WAP to create a dict of tuple where keys are: e_id, name, role, annd salary. perform the foloowing task:**\n",
    "\n",
    "1. display the dict and its type\n",
    "2. display total no. of records/values\n",
    "3. display total no. of keys/items\n",
    "4. display the second name from the dictionary\n",
    "5. chnage the last name with test\n",
    "6. add a new key 'rating'\n",
    "7. delte role from the dict\n",
    "8. display all the keys"
   ]
  },
  {
   "cell_type": "code",
   "execution_count": 83,
   "id": "271d0e3e-b8fc-4e0a-8ba4-ac7099aae800",
   "metadata": {},
   "outputs": [
    {
     "data": {
      "text/plain": [
       "{'e_id': (101, 102, 103, 104, 105),\n",
       " 'name': ('riyan', 'sohail', 'faizaan', 'dawood', 'Mujahid'),\n",
       " 'role': ('engg', 'backend', 'data', 'ai/ml', 'mang'),\n",
       " 'salary': (10000, 20000, 30000, 40000, 500000)}"
      ]
     },
     "execution_count": 83,
     "metadata": {},
     "output_type": "execute_result"
    }
   ],
   "source": [
    "di = {\n",
    "    'e_id': (101,102,103,104,105), \n",
    "    'name': ('riyan', 'sohail', 'faizaan', 'dawood', 'Mujahid'), \n",
    "    'role':('engg', 'backend', 'data', 'ai/ml', 'mang'), \n",
    "    'salary': (10000, 20000, 30000, 40000, 500000)\n",
    "}\n",
    "\n",
    "di"
   ]
  },
  {
   "cell_type": "code",
   "execution_count": 89,
   "id": "78c5f696-99dd-446d-8a6f-77a24f6f771b",
   "metadata": {},
   "outputs": [
    {
     "name": "stdout",
     "output_type": "stream",
     "text": [
      "<class 'dict'>\n",
      "dict_keys(['e_id', 'name', 'role', 'salary'])\n"
     ]
    }
   ],
   "source": [
    "print(type(di))\n",
    "print(di.keys())"
   ]
  },
  {
   "cell_type": "code",
   "execution_count": 98,
   "id": "1de249c5-f0de-44c5-918e-0b618950a831",
   "metadata": {},
   "outputs": [
    {
     "name": "stdout",
     "output_type": "stream",
     "text": [
      "4\n"
     ]
    }
   ],
   "source": [
    "print(len(di))"
   ]
  },
  {
   "cell_type": "code",
   "execution_count": 94,
   "id": "77dd0fa4-c299-48e5-99b2-9b87db8871c5",
   "metadata": {},
   "outputs": [
    {
     "data": {
      "text/plain": [
       "'sohail'"
      ]
     },
     "execution_count": 94,
     "metadata": {},
     "output_type": "execute_result"
    }
   ],
   "source": [
    "di['name'][1]"
   ]
  },
  {
   "cell_type": "code",
   "execution_count": 95,
   "id": "8d9f4043-8bd4-4f1b-bc29-53df7b899fd7",
   "metadata": {},
   "outputs": [
    {
     "ename": "TypeError",
     "evalue": "'tuple' object does not support item assignment",
     "output_type": "error",
     "traceback": [
      "\u001b[31m---------------------------------------------------------------------------\u001b[39m",
      "\u001b[31mTypeError\u001b[39m                                 Traceback (most recent call last)",
      "\u001b[36mCell\u001b[39m\u001b[36m \u001b[39m\u001b[32mIn[95]\u001b[39m\u001b[32m, line 1\u001b[39m\n\u001b[32m----> \u001b[39m\u001b[32m1\u001b[39m \u001b[43mdi\u001b[49m\u001b[43m[\u001b[49m\u001b[33;43m'\u001b[39;49m\u001b[33;43mname\u001b[39;49m\u001b[33;43m'\u001b[39;49m\u001b[43m]\u001b[49m\u001b[43m[\u001b[49m\u001b[43m-\u001b[49m\u001b[32;43m1\u001b[39;49m\u001b[43m]\u001b[49m = \u001b[33m\"\u001b[39m\u001b[33mtest\u001b[39m\u001b[33m\"\u001b[39m\n",
      "\u001b[31mTypeError\u001b[39m: 'tuple' object does not support item assignment"
     ]
    }
   ],
   "source": [
    "di['name'][-1] = \"test\""
   ]
  },
  {
   "cell_type": "code",
   "execution_count": 99,
   "id": "d29dbf62-acb1-4484-b81b-ae5445a09f44",
   "metadata": {},
   "outputs": [
    {
     "ename": "SyntaxError",
     "evalue": "invalid syntax (3780666310.py, line 1)",
     "output_type": "error",
     "traceback": [
      "  \u001b[36mCell\u001b[39m\u001b[36m \u001b[39m\u001b[32mIn[99]\u001b[39m\u001b[32m, line 1\u001b[39m\n\u001b[31m    \u001b[39m\u001b[31mdi.add(['rating': (1,2,3,4,5)])\u001b[39m\n                    ^\n\u001b[31mSyntaxError\u001b[39m\u001b[31m:\u001b[39m invalid syntax\n"
     ]
    }
   ],
   "source": [
    "di.add(['rating': (1,2,3,4,5)])"
   ]
  },
  {
   "cell_type": "code",
   "execution_count": null,
   "id": "36a80b18-2148-4c07-b1d8-9feecc1bc857",
   "metadata": {},
   "outputs": [],
   "source": []
  }
 ],
 "metadata": {
  "kernelspec": {
   "display_name": "Python 3 (ipykernel)",
   "language": "python",
   "name": "python3"
  },
  "language_info": {
   "codemirror_mode": {
    "name": "ipython",
    "version": 3
   },
   "file_extension": ".py",
   "mimetype": "text/x-python",
   "name": "python",
   "nbconvert_exporter": "python",
   "pygments_lexer": "ipython3",
   "version": "3.13.5"
  }
 },
 "nbformat": 4,
 "nbformat_minor": 5
}
