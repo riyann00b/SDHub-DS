{
 "cells": [
  {
   "cell_type": "markdown",
   "id": "924caf1e-e405-4ef8-885d-6c8a0f13b497",
   "metadata": {},
   "source": [
    "date: 19-7-25, saturday\n",
    "\n",
    "# FUNCTIONAL PROGRAMMING LEANGUAGE\n",
    "\n",
    "## defination: creating a function using set of function\n",
    "\n",
    "1. step 1: create/define: def func_name(parameter): -> (variable)\n",
    "2. step 2: use/invoke : fuction_name(argument) -> value\n",
    "   - example:\n",
    "     > addition\n",
    "     ```python\n",
    "     def addtion(a,b):\n",
    "         return   a+b\n",
    "\n",
    "     addition(4,5)\n",
    "     # output: 9\n",
    "     ```\n",
    "\n",
    "\n"
   ]
  },
  {
   "cell_type": "markdown",
   "id": "fc200061-f78f-4086-b74d-2bc9e20e33c4",
   "metadata": {},
   "source": [
    "# Functional programming with special/keyword assignment"
   ]
  },
  {
   "cell_type": "code",
   "execution_count": 32,
   "id": "f8c9d66c-3785-4be4-b1de-d3037b4a2767",
   "metadata": {},
   "outputs": [
    {
     "ename": "SyntaxError",
     "evalue": "* argument may appear only once (1830506116.py, line 1)",
     "output_type": "error",
     "traceback": [
      "  \u001b[36mCell\u001b[39m\u001b[36m \u001b[39m\u001b[32mIn[32]\u001b[39m\u001b[32m, line 1\u001b[39m\n\u001b[31m    \u001b[39m\u001b[31mdef test(*a, *b):\u001b[39m\n                 ^\n\u001b[31mSyntaxError\u001b[39m\u001b[31m:\u001b[39m * argument may appear only once\n"
     ]
    }
   ],
   "source": [
    "def test(*a, *b):\n",
    "    return a+b\n",
    "\n",
    "test(4,5)\n",
    "\n"
   ]
  },
  {
   "cell_type": "code",
   "execution_count": 20,
   "id": "1efd4d0f-5462-4185-a8b7-68851957d64b",
   "metadata": {},
   "outputs": [
    {
     "data": {
      "text/plain": [
       "{'name': ['riyan', 'amaan'], 'age': 20}"
      ]
     },
     "execution_count": 20,
     "metadata": {},
     "output_type": "execute_result"
    }
   ],
   "source": [
    "def info(**test):\n",
    "    return test\n",
    "\n",
    "\n",
    "info(name = 'riyan', age = 20)"
   ]
  },
  {
   "cell_type": "code",
   "execution_count": 34,
   "id": "7a5d5109-3226-4cef-bd8e-868da06b3020",
   "metadata": {},
   "outputs": [
    {
     "ename": "TypeError",
     "evalue": "test2() got an unexpected keyword argument 'a'",
     "output_type": "error",
     "traceback": [
      "\u001b[31m---------------------------------------------------------------------------\u001b[39m",
      "\u001b[31mTypeError\u001b[39m                                 Traceback (most recent call last)",
      "\u001b[36mCell\u001b[39m\u001b[36m \u001b[39m\u001b[32mIn[34]\u001b[39m\u001b[32m, line 4\u001b[39m\n\u001b[32m      1\u001b[39m \u001b[38;5;28;01mdef\u001b[39;00m\u001b[38;5;250m \u001b[39m\u001b[34mtest2\u001b[39m(*a):\n\u001b[32m      2\u001b[39m     \u001b[38;5;28mprint\u001b[39m(a)\n\u001b[32m----> \u001b[39m\u001b[32m4\u001b[39m \u001b[43mtest2\u001b[49m\u001b[43m(\u001b[49m\u001b[43ma\u001b[49m\u001b[43m=\u001b[49m\u001b[32;43m5\u001b[39;49m\u001b[43m,\u001b[49m\u001b[43mb\u001b[49m\u001b[43m=\u001b[49m\u001b[32;43m10\u001b[39;49m\u001b[43m,\u001b[49m\u001b[43mc\u001b[49m\u001b[43m=\u001b[49m\u001b[32;43m15\u001b[39;49m\u001b[43m)\u001b[49m\n",
      "\u001b[31mTypeError\u001b[39m: test2() got an unexpected keyword argument 'a'"
     ]
    }
   ],
   "source": [
    "def test2(*a):\n",
    "    print(a)\n",
    "    \n",
    "test2(a=5,b=10,c=15)\n"
   ]
  },
  {
   "cell_type": "code",
   "execution_count": 25,
   "id": "39194519-dd65-4667-a7df-55bdeddd96c8",
   "metadata": {},
   "outputs": [
    {
     "ename": "TypeError",
     "evalue": "info() got an unexpected keyword argument 'name'",
     "output_type": "error",
     "traceback": [
      "\u001b[31m---------------------------------------------------------------------------\u001b[39m",
      "\u001b[31mTypeError\u001b[39m                                 Traceback (most recent call last)",
      "\u001b[36mCell\u001b[39m\u001b[36m \u001b[39m\u001b[32mIn[25]\u001b[39m\u001b[32m, line 1\u001b[39m\n\u001b[32m----> \u001b[39m\u001b[32m1\u001b[39m \u001b[43minfo\u001b[49m\u001b[43m(\u001b[49m\u001b[43mname\u001b[49m\u001b[43m=\u001b[49m\u001b[33;43m'\u001b[39;49m\u001b[33;43mRiyan\u001b[39;49m\u001b[33;43m'\u001b[39;49m\u001b[43m,\u001b[49m\u001b[43m \u001b[49m\u001b[43mage\u001b[49m\u001b[43m=\u001b[49m\u001b[32;43m20\u001b[39;49m\u001b[43m)\u001b[49m\n",
      "\u001b[31mTypeError\u001b[39m: info() got an unexpected keyword argument 'name'"
     ]
    }
   ],
   "source": [
    "info(name='Riyan', age=20)"
   ]
  },
  {
   "cell_type": "code",
   "execution_count": 30,
   "id": "4f26932b-4836-420c-a574-55a7e2b60a0b",
   "metadata": {},
   "outputs": [],
   "source": [
    "def test3(name, **a):\n",
    "    return name, a\n",
    "    "
   ]
  },
  {
   "cell_type": "code",
   "execution_count": 31,
   "id": "39155fc1-6f52-439d-bcd9-11c897164e15",
   "metadata": {},
   "outputs": [
    {
     "data": {
      "text/plain": [
       "('riyan', {'b': 12})"
      ]
     },
     "execution_count": 31,
     "metadata": {},
     "output_type": "execute_result"
    }
   ],
   "source": [
    "test3('riyan', b=12)"
   ]
  },
  {
   "cell_type": "markdown",
   "id": "8ff6ef92-ec1e-4c38-bc28-5f44fdb8699b",
   "metadata": {},
   "source": [
    "# Sepcial Functions\n",
    "\n",
    "## lamda function:\n",
    "1. lamda function aka an annonymous fuction/inline function\n",
    "   - syntax: lamda variable: expresion\n",
    "   - case-1 = lambda var1, var2... : oparation\n",
    "   - case-2 lamda variable : o/p(True) if(1) else(false) o/p\n",
    "   - example:\n",
    "```python\n",
    "res = lambda a : a**2\n",
    "res(10)\n",
    "```"
   ]
  },
  {
   "cell_type": "code",
   "execution_count": 36,
   "id": "e65c07f7-936b-4ef2-9a44-ab1f6529e885",
   "metadata": {},
   "outputs": [
    {
     "data": {
      "text/plain": [
       "100"
      ]
     },
     "execution_count": 36,
     "metadata": {},
     "output_type": "execute_result"
    }
   ],
   "source": [
    "# lamda function\n",
    "res = lambda a : a**2\n",
    "res(10)"
   ]
  },
  {
   "cell_type": "code",
   "execution_count": 40,
   "id": "3ff43c66-9a08-4c19-a5b2-4d2121a02b96",
   "metadata": {},
   "outputs": [
    {
     "data": {
      "text/plain": [
       "'odd'"
      ]
     },
     "execution_count": 40,
     "metadata": {},
     "output_type": "execute_result"
    }
   ],
   "source": [
    "res = lambda num : 'even' if num % 2 == 0 else 'odd'\n",
    "res(13)"
   ]
  },
  {
   "cell_type": "markdown",
   "id": "2b057b4f-2778-423c-b5d1-891099dcac06",
   "metadata": {},
   "source": [
    "### Case-1"
   ]
  },
  {
   "cell_type": "markdown",
   "id": "01e9d343-8355-4fa7-8c12-1bacb7f8cfa6",
   "metadata": {},
   "source": [
    "**WAP to define a fuction which can calculate a square of any given value**"
   ]
  },
  {
   "cell_type": "code",
   "execution_count": 42,
   "id": "89842c9a-25bb-4ce3-8e80-691e1fa6e5b3",
   "metadata": {},
   "outputs": [
    {
     "data": {
      "text/plain": [
       "100"
      ]
     },
     "execution_count": 42,
     "metadata": {},
     "output_type": "execute_result"
    }
   ],
   "source": [
    "def square(num):\n",
    "    return num**2\n",
    "\n",
    "square(10)"
   ]
  },
  {
   "cell_type": "code",
   "execution_count": 43,
   "id": "e14063c9-b51b-4591-a75d-685656b3baf2",
   "metadata": {},
   "outputs": [],
   "source": [
    "# using lambda function\n",
    "\n"
   ]
  },
  {
   "cell_type": "code",
   "execution_count": 49,
   "id": "7bcd05e8-bd67-4436-81b0-a3c30b8d9763",
   "metadata": {},
   "outputs": [
    {
     "data": {
      "text/plain": [
       "75.2"
      ]
     },
     "execution_count": 49,
     "metadata": {},
     "output_type": "execute_result"
    }
   ],
   "source": [
    "# ferabite to celcius\n",
    "\n",
    "res = lambda temp : temp*1.8 +32\n",
    "\n",
    "res(24)"
   ]
  },
  {
   "cell_type": "markdown",
   "id": "829cc262-d3f7-43df-9eba-45fb82079274",
   "metadata": {},
   "source": [
    "**wap to perform addition operation**"
   ]
  },
  {
   "cell_type": "code",
   "execution_count": 52,
   "id": "69b1e54c-c152-4cb1-a19c-15c01cc92f6f",
   "metadata": {},
   "outputs": [
    {
     "data": {
      "text/plain": [
       "30"
      ]
     },
     "execution_count": 52,
     "metadata": {},
     "output_type": "execute_result"
    }
   ],
   "source": [
    "addition = lambda num1,num2 : num1+num2\n",
    "\n",
    "addition(10,20)"
   ]
  },
  {
   "cell_type": "markdown",
   "id": "adec53bd-1cd4-4c45-86c1-53b498bc781b",
   "metadata": {},
   "source": [
    "## Case - 2"
   ]
  },
  {
   "cell_type": "markdown",
   "id": "677a6a56-ac62-40ba-abc9-99837c1ae014",
   "metadata": {},
   "source": [
    "**WAP to check weather the number is odd or not using lambda**"
   ]
  },
  {
   "cell_type": "code",
   "execution_count": 57,
   "id": "4969bb34-300b-4ac0-9050-5f2237bec3ed",
   "metadata": {},
   "outputs": [
    {
     "name": "stdin",
     "output_type": "stream",
     "text": [
      "Please enter a value:  12\n"
     ]
    },
    {
     "data": {
      "text/plain": [
       "'even'"
      ]
     },
     "execution_count": 57,
     "metadata": {},
     "output_type": "execute_result"
    }
   ],
   "source": [
    "odd_even = lambda num: 'even' if num % 2 == 0 else 'odd'\n",
    "num = int(input(\"Please enter a value: \"))\n",
    "odd_even(num)"
   ]
  },
  {
   "cell_type": "code",
   "execution_count": 58,
   "id": "e4fd1551-a483-4994-8c16-1a606bc52af0",
   "metadata": {},
   "outputs": [
    {
     "name": "stdin",
     "output_type": "stream",
     "text": [
      "Please enter a value:  12\n"
     ]
    },
    {
     "data": {
      "text/plain": [
       "'even'"
      ]
     },
     "execution_count": 58,
     "metadata": {},
     "output_type": "execute_result"
    }
   ],
   "source": [
    "num = int(input(\"Please enter a value: \"))\n",
    "odd_even(num)"
   ]
  },
  {
   "cell_type": "code",
   "execution_count": 59,
   "id": "d188d1a2-c7bd-4ae1-8064-1f41076c143c",
   "metadata": {},
   "outputs": [
    {
     "name": "stdin",
     "output_type": "stream",
     "text": [
      "Please enter a value:  12\n"
     ]
    },
    {
     "name": "stdout",
     "output_type": "stream",
     "text": [
      "The output is:  even\n"
     ]
    }
   ],
   "source": [
    "num = int(input(\"Please enter a value: \"))\n",
    "res = odd_even(num)\n",
    "\n",
    "print('The output is: ', res)"
   ]
  },
  {
   "cell_type": "markdown",
   "id": "555e2ad3-6cad-4d8d-a70e-3d37bb1ae2b7",
   "metadata": {},
   "source": [
    "**WAP to check weather a name starts with with a vowal or not, use lambda function**"
   ]
  },
  {
   "cell_type": "code",
   "execution_count": 61,
   "id": "aae84085-5366-4119-9e6f-321da0858f91",
   "metadata": {},
   "outputs": [
    {
     "name": "stdin",
     "output_type": "stream",
     "text": [
      "enter your name:  riyan\n"
     ]
    }
   ],
   "source": [
    "vowal = 'aeiouAEIOU'\n",
    "name = input(\"enter your name: \")\n",
    "vo = lambda vol: 'name starte with a vowal' if name[0] in vowal else 'not allowed'"
   ]
  },
  {
   "cell_type": "code",
   "execution_count": 65,
   "id": "406af2d0-e27e-435a-b691-bf04f43815cd",
   "metadata": {},
   "outputs": [
    {
     "data": {
      "text/plain": [
       "'No'"
      ]
     },
     "execution_count": 65,
     "metadata": {},
     "output_type": "execute_result"
    }
   ],
   "source": [
    "result = lambda name : \"Yes\" if name[0] in 'AEIOUaeiou' else \"No\"\n",
    "\n",
    "result('riyan')"
   ]
  },
  {
   "cell_type": "markdown",
   "id": "931cf811-e111-4197-93ef-af3463192402",
   "metadata": {},
   "source": [
    "\n",
    "**WAP to calculate square of a number if is even or calculate cube use lambda fuction**"
   ]
  },
  {
   "cell_type": "code",
   "execution_count": 71,
   "id": "0289debd-9ed8-468e-ab01-a0ed4e6b5a9b",
   "metadata": {},
   "outputs": [
    {
     "name": "stdin",
     "output_type": "stream",
     "text": [
      "enter a number:  12\n"
     ]
    },
    {
     "name": "stdout",
     "output_type": "stream",
     "text": [
      "output <function <lambda> at 0x7f377555bc40> 12\n"
     ]
    }
   ],
   "source": [
    "num = int(input(\"enter a number: \"))\n",
    "\n",
    "res = lambda num: num**2 if num % 2 == 0 else num**3 \n",
    "\n",
    "print(\"output\", res, num)"
   ]
  },
  {
   "cell_type": "markdown",
   "id": "ab9a775a-bedb-4d63-859c-6e5df5c3cfcb",
   "metadata": {},
   "source": [
    "**WAP to receive name and age amd check if name has length more than 3 and age is above 18 if both case are true then allow else not allowed**"
   ]
  },
  {
   "cell_type": "code",
   "execution_count": 75,
   "id": "4a81f803-d961-40db-b875-791b5c07534c",
   "metadata": {},
   "outputs": [
    {
     "name": "stdin",
     "output_type": "stream",
     "text": [
      "Please enter your name:  12\n",
      "Please enter your age:  12\n"
     ]
    },
    {
     "name": "stdout",
     "output_type": "stream",
     "text": [
      "<function <lambda> at 0x7f377555b7e0>\n"
     ]
    }
   ],
   "source": [
    "name = input(\"Please enter your name: \")\n",
    "age = int(input(\"Please enter your age: \"))\n",
    "\n",
    "check = lambda name,age: 'allowed' if len(name) >= 3 and age >= 18 else 'not allowed' \n",
    "\n",
    "print(check)"
   ]
  },
  {
   "cell_type": "code",
   "execution_count": 77,
   "id": "cbd5e42c-f6b4-4335-b07b-8d5428d85b5a",
   "metadata": {},
   "outputs": [
    {
     "name": "stdout",
     "output_type": "stream",
     "text": [
      "[1, 4, 9, 16, 25]\n"
     ]
    }
   ],
   "source": [
    "li = [1,2,3,4,5]\n",
    "res = [i**2 for i in li]\n",
    "\n",
    "print(res)"
   ]
  },
  {
   "cell_type": "markdown",
   "id": "a44c5178-97a4-4aed-a881-fb18f0aca4be",
   "metadata": {},
   "source": [
    "# map() function\n",
    "syntex: map(logic, collection) -> logic = user define function\n",
    "\n"
   ]
  },
  {
   "cell_type": "code",
   "execution_count": 78,
   "id": "5061fcb3-8238-4fcb-8cb1-9611c3bca2ee",
   "metadata": {},
   "outputs": [
    {
     "data": {
      "text/plain": [
       "[1, 4, 9, 16, 25]"
      ]
     },
     "execution_count": 78,
     "metadata": {},
     "output_type": "execute_result"
    }
   ],
   "source": [
    "# method1\n",
    "logic = lambda num: num**2\n",
    "\n",
    "result = map(logic, li)\n",
    "\n",
    "list(result)"
   ]
  },
  {
   "cell_type": "code",
   "execution_count": 84,
   "id": "1e426621-c45f-44fc-a29a-6b55617a4e85",
   "metadata": {},
   "outputs": [
    {
     "name": "stdout",
     "output_type": "stream",
     "text": [
      "the list is: [1, 4, 9, 16, 25]\n",
      "<map object at 0x7f3775c030a0>\n"
     ]
    }
   ],
   "source": [
    "# method2\n",
    "\n",
    "def sq(num):\n",
    "    return num**2\n",
    "\n",
    "res = map(sq,li)\n",
    "\n",
    "\n",
    "print('the list is:', list(res))\n",
    "\n",
    "print(res)"
   ]
  },
  {
   "cell_type": "markdown",
   "id": "6c12e950-3b7d-4802-98d2-77f6a8a6f53a",
   "metadata": {},
   "source": [
    "**WAP display name which starts with char 'A' from the given list by using map**"
   ]
  },
  {
   "cell_type": "code",
   "execution_count": 98,
   "id": "b10322a3-61fb-433d-9e66-2c0b6f93b181",
   "metadata": {},
   "outputs": [
    {
     "data": {
      "text/plain": [
       "['NO', 'Yes', 'NO', 'Yes']"
      ]
     },
     "execution_count": 98,
     "metadata": {},
     "output_type": "execute_result"
    }
   ],
   "source": [
    "li = [\"Uwaish\",\"Anu\",\"Khan\",\"Aisha\"]\n",
    "\n",
    "def name_check(name):\n",
    "    if name[0].upper() == 'A':\n",
    "        return \"Yes\"\n",
    "    else:\n",
    "        return \"NO\"\n",
    "res = map(name_check, li)\n",
    "\n",
    "list(res)\n"
   ]
  },
  {
   "cell_type": "code",
   "execution_count": 99,
   "id": "1d886e66-9bb8-4f1f-86f6-b50f34246b55",
   "metadata": {},
   "outputs": [
    {
     "data": {
      "text/plain": [
       "['fail', 'fail', 'Pass', 'Pass']"
      ]
     },
     "execution_count": 99,
     "metadata": {},
     "output_type": "execute_result"
    }
   ],
   "source": [
    "# Use map to conver result name into pass or fail\n",
    "\n",
    "li = [19,30,56,78]\n",
    "\n",
    "log = lambda num : 'Pass' if num >= 33 else 'fail'\n",
    "\n",
    "res = map(log, li)\n",
    "\n",
    "list(res)"
   ]
  },
  {
   "cell_type": "markdown",
   "id": "6b7727bf-7e69-4f08-ad8e-20d047150c40",
   "metadata": {},
   "source": [
    "# reduce"
   ]
  },
  {
   "cell_type": "code",
   "execution_count": 100,
   "id": "7add80bd-31f6-414a-b838-24d33146fc24",
   "metadata": {},
   "outputs": [
    {
     "data": {
      "text/plain": [
       "15"
      ]
     },
     "execution_count": 100,
     "metadata": {},
     "output_type": "execute_result"
    }
   ],
   "source": [
    "from functools import reduce\n",
    "\n",
    "li = [1,2,3,4,5]\n",
    "\n",
    "log = lambda a,b: a+b\n",
    "\n",
    "reduce(log, li)"
   ]
  },
  {
   "cell_type": "code",
   "execution_count": null,
   "id": "7835f8b5-d16a-4ca0-99a5-58ced076d39f",
   "metadata": {},
   "outputs": [],
   "source": []
  }
 ],
 "metadata": {
  "kernelspec": {
   "display_name": "Python 3 (ipykernel)",
   "language": "python",
   "name": "python3"
  },
  "language_info": {
   "codemirror_mode": {
    "name": "ipython",
    "version": 3
   },
   "file_extension": ".py",
   "mimetype": "text/x-python",
   "name": "python",
   "nbconvert_exporter": "python",
   "pygments_lexer": "ipython3",
   "version": "3.13.5"
  }
 },
 "nbformat": 4,
 "nbformat_minor": 5
}
