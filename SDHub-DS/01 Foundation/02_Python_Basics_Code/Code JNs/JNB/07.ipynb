{
 "cells": [
  {
   "cell_type": "markdown",
   "id": "245f85fc-eb6f-44a1-9857-fd9d46ef4bef",
   "metadata": {},
   "source": [
    "# Loops"
   ]
  },
  {
   "cell_type": "markdown",
   "id": "4d13ea25-a1d6-4689-b1f5-a371390da1be",
   "metadata": {},
   "source": [
    "### **WAP to grade student based on their score**"
   ]
  },
  {
   "cell_type": "code",
   "execution_count": 4,
   "id": "15e4107d-bed1-47d1-876a-9a4b0c4867e3",
   "metadata": {},
   "outputs": [
    {
     "name": "stdin",
     "output_type": "stream",
     "text": [
      "Please Enter your score:  33\n"
     ]
    },
    {
     "name": "stdout",
     "output_type": "stream",
     "text": [
      "Fail\n"
     ]
    }
   ],
   "source": [
    "score = int(input(\"Please Enter your score: \"))\n",
    "\n",
    "if score<=33:\n",
    "    print(\"Fail\")\n",
    "elif score>=33 and score<=60:\n",
    "    print(\"Pass with II division\")\n",
    "elif score>=60 and score<=90:\n",
    "    print(\"Pass with II division\")\n",
    "\n",
    "    "
   ]
  },
  {
   "cell_type": "markdown",
   "id": "49609f1f-5000-4a95-ab6a-238f084bb217",
   "metadata": {},
   "source": [
    "### **WAP to ask user to enter their age and if user is adult then ask for their name, if name starts with a vowel them or else do not allow them!**"
   ]
  },
  {
   "cell_type": "code",
   "execution_count": 15,
   "id": "1c4d8a87-20b8-4a78-b3d7-c28422c99233",
   "metadata": {},
   "outputs": [
    {
     "ename": "SyntaxError",
     "evalue": "expected ':' (3958408259.py, line 8)",
     "output_type": "error",
     "traceback": [
      "  \u001b[36mCell\u001b[39m\u001b[36m \u001b[39m\u001b[32mIn[15]\u001b[39m\u001b[32m, line 8\u001b[39m\n\u001b[31m    \u001b[39m\u001b[31mif name\u001b[39m\n            ^\n\u001b[31mSyntaxError\u001b[39m\u001b[31m:\u001b[39m expected ':'\n"
     ]
    }
   ],
   "source": [
    "age = int(input(\"enter your age: \"))\n",
    "\n",
    "if age < 18:\n",
    "    print(\"Your not allowed\")\n",
    "elif age >= 18:\n",
    "    print(\"Your allowed\")\n",
    "    name = input(\"Enter your age: \")\n",
    "    if name \n",
    "    "
   ]
  },
  {
   "cell_type": "code",
   "execution_count": 17,
   "id": "769df979-f09d-4816-9a3c-1572f9ea52e3",
   "metadata": {},
   "outputs": [
    {
     "name": "stdin",
     "output_type": "stream",
     "text": [
      "enter your age:  22\n"
     ]
    },
    {
     "name": "stdout",
     "output_type": "stream",
     "text": [
      "Your a Big Boi\n"
     ]
    },
    {
     "name": "stdin",
     "output_type": "stream",
     "text": [
      "Naam bol blk sRiyan\n"
     ]
    },
    {
     "name": "stdout",
     "output_type": "stream",
     "text": [
      "Ajja\n"
     ]
    }
   ],
   "source": [
    "age = int(input(\"enter your age: \"))\n",
    "\n",
    "if age>18:\n",
    "    print(\"Your a Big Boi\")\n",
    "    name = input(\"Naam bol blk\")\n",
    "    if name[0].lower() in 'aeiou':\n",
    "        print(\"chal nikal\")\n",
    "    else:\n",
    "        print(\"Ajja\")\n",
    "else:\n",
    "    print(\"nikal\")"
   ]
  },
  {
   "cell_type": "markdown",
   "id": "a1fab46d-9031-4850-ad9d-ba3e0bc7a955",
   "metadata": {},
   "source": [
    "### **WAP to recerive any number from user and if the number is even then ask user to enter their interest if user enters criket then allow him to play or else ask him to practice cricket**"
   ]
  },
  {
   "cell_type": "code",
   "execution_count": 18,
   "id": "f6a64de6-0cc1-44f6-9cb9-67a40a827b86",
   "metadata": {},
   "outputs": [
    {
     "name": "stdin",
     "output_type": "stream",
     "text": [
      "Enter any Number:  22\n",
      "what is your interest:  bat boll\n"
     ]
    },
    {
     "name": "stdout",
     "output_type": "stream",
     "text": [
      "practice cricket\n"
     ]
    }
   ],
   "source": [
    "num = int(input(\"Enter any Number: \"))\n",
    "\n",
    "if num % 2 == 0:\n",
    "    interest = input(\"what is your interest: \")\n",
    "    if interest.lower() == \"cricket\":\n",
    "        print(\"your allowed\")\n",
    "    else:\n",
    "        print(\"practice cricket\")\n",
    "else:\n",
    "    print(\"enter a even number\")"
   ]
  },
  {
   "cell_type": "markdown",
   "id": "61d37105-afc7-4b63-a61f-ed2e6315ae09",
   "metadata": {},
   "source": [
    "### **WAP to ask user to create a password for a device abd then ask user to enter the password and show the message device is unlocked (if password is correct) when the device is unlocked then ask the user to dial a call and uf the number counts is 10 then display calling or else please check the number**"
   ]
  },
  {
   "cell_type": "code",
   "execution_count": 29,
   "id": "f8e14615-e45f-4ae7-8866-c6fa77ae4b1f",
   "metadata": {},
   "outputs": [
    {
     "name": "stdin",
     "output_type": "stream",
     "text": [
      "create your password:  1234\n"
     ]
    },
    {
     "name": "stdout",
     "output_type": "stream",
     "text": [
      "You have created a password successfully!\n"
     ]
    },
    {
     "name": "stdin",
     "output_type": "stream",
     "text": [
      "enter your password:  1234\n"
     ]
    },
    {
     "name": "stdout",
     "output_type": "stream",
     "text": [
      "your device is unlocked\n"
     ]
    },
    {
     "name": "stdin",
     "output_type": "stream",
     "text": [
      "please enter your mobile number:  99\n"
     ]
    },
    {
     "name": "stdout",
     "output_type": "stream",
     "text": [
      "check the number\n"
     ]
    }
   ],
   "source": [
    "pas = input(\"create your password: \")\n",
    "\n",
    "print(\"You have created a password successfully!\")\n",
    "\n",
    "login = input(\"enter your password: \")\n",
    "if pas == login:\n",
    "    print(\"your device is unlocked\")\n",
    "\n",
    "    dial = input(\"please enter your mobile number: \")\n",
    "    if len(dial) == 10:\n",
    "        print(\"Calling\")\n",
    "    else:\n",
    "        print(\"check the number\")\n",
    "else:\n",
    "    print(\"wrong pass try again\")\n"
   ]
  },
  {
   "cell_type": "markdown",
   "id": "f27af4cc-20d8-496d-a275-ac6d2e88e94f",
   "metadata": {},
   "source": [
    "### **WAP to ask user to enter there name id the user belongs in the list then ask user to enter their score and grade them into Excellent, Good and Bad.**"
   ]
  },
  {
   "cell_type": "code",
   "execution_count": 49,
   "id": "1523118a-0dd1-4878-987b-b740f580646f",
   "metadata": {},
   "outputs": [
    {
     "name": "stdin",
     "output_type": "stream",
     "text": [
      "Enter your name:  sahil\n"
     ]
    },
    {
     "name": "stdout",
     "output_type": "stream",
     "text": [
      "welcome\n"
     ]
    },
    {
     "name": "stdin",
     "output_type": "stream",
     "text": [
      "Enter your scrore:  75\n"
     ]
    },
    {
     "name": "stdout",
     "output_type": "stream",
     "text": [
      "excellent\n"
     ]
    }
   ],
   "source": [
    "li = ['Uwaish','sahil','kamal','Aisha','Shehnaz']\n",
    "\n",
    "name = input(\"Enter your name: \")\n",
    "\n",
    "if  name in li:\n",
    "    print(\"welcome\")\n",
    "    score = int(input(\"Enter your scrore: \"))\n",
    "    if score < 30:\n",
    "        print(\"bad\")\n",
    "    elif score > 50:\n",
    "        print(\"Good\")\n",
    "    elif score >= 74:\n",
    "        print(\"excellent\")\n",
    "else:\n",
    "    print(\"your not in the list\")"
   ]
  },
  {
   "cell_type": "markdown",
   "id": "41d5a7af-cd96-4638-a402-a40e3f448526",
   "metadata": {},
   "source": [
    "### **Short hand notation** (singke (and))\n",
    "1. syntex: expression if "
   ]
  },
  {
   "cell_type": "markdown",
   "id": "c4a6744b-0acb-436a-8c0e-f399dda4ed88",
   "metadata": {},
   "source": [
    "### **WAP to calculate square of a number id it is even and cude if its add** \n",
    "#### (use short hand)"
   ]
  },
  {
   "cell_type": "code",
   "execution_count": 63,
   "id": "fc330fc1-f6ed-4c29-b4ef-47dc12435c4d",
   "metadata": {},
   "outputs": [
    {
     "name": "stdin",
     "output_type": "stream",
     "text": [
      " 55\n"
     ]
    },
    {
     "name": "stdout",
     "output_type": "stream",
     "text": [
      "166375\n"
     ]
    }
   ],
   "source": [
    "num = int(input(\"Enter a numebr\"))\n",
    "\n",
    "res = num ** 2 if num % 2 == 0  else num ** 3\n",
    "\n",
    "print(res)"
   ]
  },
  {
   "cell_type": "markdown",
   "id": "fbd18408-eadc-4d2c-b0e7-ad330a9cfda1",
   "metadata": {},
   "source": [
    "### **WAP to receive name from user and then display the length if name is starting with \"A\" else display the name**"
   ]
  },
  {
   "cell_type": "code",
   "execution_count": 62,
   "id": "8163f911-4add-40d2-b332-93c2f7c31a15",
   "metadata": {},
   "outputs": [
    {
     "name": "stdin",
     "output_type": "stream",
     "text": [
      "Enter your name:  Amman\n"
     ]
    },
    {
     "name": "stdout",
     "output_type": "stream",
     "text": [
      "name start with A 5 Amman\n"
     ]
    }
   ],
   "source": [
    "name = input(\"Enter your name: \")\n",
    "\n",
    "if name[0].upper() == 'A':\n",
    "    print(\"name start with A\", len(name), name)\n",
    "else:\n",
    "    (name, \"doesnt start with a\")"
   ]
  },
  {
   "cell_type": "code",
   "execution_count": 65,
   "id": "d9e6feb3-5d0b-4012-9660-18552ba47afd",
   "metadata": {},
   "outputs": [
    {
     "name": "stdin",
     "output_type": "stream",
     "text": [
      "Enter your name:  Amaan\n"
     ]
    },
    {
     "name": "stdout",
     "output_type": "stream",
     "text": [
      "5\n"
     ]
    }
   ],
   "source": [
    "name = input(\"Enter your name: \")\n",
    "\n",
    "res = len(name) if name[0].upper() == 'A' else name\n",
    "\n",
    "print(res)"
   ]
  },
  {
   "cell_type": "code",
   "execution_count": null,
   "id": "4971182f-1cca-4788-a852-844714c795bb",
   "metadata": {},
   "outputs": [],
   "source": []
  }
 ],
 "metadata": {
  "kernelspec": {
   "display_name": "Python 3 (ipykernel)",
   "language": "python",
   "name": "python3"
  },
  "language_info": {
   "codemirror_mode": {
    "name": "ipython",
    "version": 3
   },
   "file_extension": ".py",
   "mimetype": "text/x-python",
   "name": "python",
   "nbconvert_exporter": "python",
   "pygments_lexer": "ipython3",
   "version": "3.13.5"
  }
 },
 "nbformat": 4,
 "nbformat_minor": 5
}
